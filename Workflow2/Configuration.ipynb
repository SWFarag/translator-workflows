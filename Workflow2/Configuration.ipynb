{
 "cells": [
  {
   "cell_type": "code",
   "execution_count": 1,
   "metadata": {},
   "outputs": [
    {
     "name": "stdout",
     "output_type": "stream",
     "text": [
      "python is /anaconda3/bin/python\n"
     ]
    }
   ],
   "source": [
    "!type python"
   ]
  },
  {
   "cell_type": "code",
   "execution_count": 2,
   "metadata": {},
   "outputs": [
    {
     "name": "stdout",
     "output_type": "stream",
     "text": [
      "Collecting ontobio (from -r requirements.txt (line 1))\n",
      "\u001b[?25l  Downloading https://files.pythonhosted.org/packages/06/c3/14d83c502814dae97fb093de85b1d2d9e454a96a795d577f596f7e697612/ontobio-1.7.2-py3-none-any.whl (201kB)\n",
      "\u001b[K    100% |████████████████████████████████| 204kB 17.4MB/s \n",
      "\u001b[?25hCollecting mygene==3.0.0 (from -r requirements.txt (line 2))\n",
      "  Downloading https://files.pythonhosted.org/packages/16/ef/67ae813d239505424cc8c77823aa1a9677a9d80b9ab62da94581a49ecae6/mygene-3.0.0-py2.py3-none-any.whl\n",
      "Requirement already satisfied: pandas>=0.0 in /anaconda3/lib/python3.7/site-packages (from -r requirements.txt (line 3)) (0.23.4)\n",
      "Collecting typing>=0.0 (from -r requirements.txt (line 4))\n",
      "  Downloading https://files.pythonhosted.org/packages/4a/bd/eee1157fc2d8514970b345d69cb9975dcd1e42cd7e61146ed841f6e68309/typing-3.6.6-py3-none-any.whl\n",
      "Collecting graphviz (from -r requirements.txt (line 5))\n",
      "  Downloading https://files.pythonhosted.org/packages/1f/e2/ef2581b5b86625657afd32030f90cf2717456c1d2b711ba074bf007c0f1a/graphviz-0.10.1-py2.py3-none-any.whl\n",
      "Collecting sparqlwrapper (from ontobio->-r requirements.txt (line 1))\n",
      "  Downloading https://files.pythonhosted.org/packages/7f/c3/72d2d0a2ad86bd8d2bc762406c838f479c421678161cf78585d085436919/SPARQLWrapper-1.8.2-py3-none-any.whl\n",
      "Collecting prefixcommons (from ontobio->-r requirements.txt (line 1))\n",
      "  Downloading https://files.pythonhosted.org/packages/14/97/4f743330b7082ed6d9ec32b397229eac5d5f0eba2272e1fb0f99e076e72a/prefixcommons-0.1.7-py3-none-any.whl\n",
      "Collecting marshmallow==3.0.0b3 (from ontobio->-r requirements.txt (line 1))\n",
      "\u001b[?25l  Downloading https://files.pythonhosted.org/packages/fa/ce/d722cb41bf11533088067e19dd2e7f2abfd917dcb2e0ee0ce357168a8acb/marshmallow-3.0.0b3-py2.py3-none-any.whl (43kB)\n",
      "\u001b[K    100% |████████████████████████████████| 51kB 21.3MB/s \n",
      "\u001b[?25hCollecting cachier (from ontobio->-r requirements.txt (line 1))\n",
      "  Downloading https://files.pythonhosted.org/packages/56/8c/f908793b1ae03e3a0daf53fa35aef3162345141f92d4942aa81b5c12a684/cachier-1.2.5-py2.py3-none-any.whl\n",
      "Requirement already satisfied: click in /anaconda3/lib/python3.7/site-packages (from ontobio->-r requirements.txt (line 1)) (7.0)\n",
      "Requirement already satisfied: requests in /anaconda3/lib/python3.7/site-packages (from ontobio->-r requirements.txt (line 1)) (2.21.0)\n",
      "Collecting jsobject (from ontobio->-r requirements.txt (line 1))\n",
      "  Downloading https://files.pythonhosted.org/packages/51/7a/b1cf5c38d33535b8788f5b0d873dab0e3d38051ad8a26623d8653a29e56f/jsobject-0.10.2.tar.gz\n",
      "Requirement already satisfied: scipy in /anaconda3/lib/python3.7/site-packages (from ontobio->-r requirements.txt (line 1)) (1.1.0)\n",
      "Collecting yamldown (from ontobio->-r requirements.txt (line 1))\n",
      "  Downloading https://files.pythonhosted.org/packages/ce/b7/3be95f2c0da5a8718413a192a5002da666b5f0b84a91204e7f9b5176ae41/yamldown-0.1.6-py3-none-any.whl\n",
      "Collecting pyyaml>=4.2b1 (from ontobio->-r requirements.txt (line 1))\n",
      "\u001b[?25l  Downloading https://files.pythonhosted.org/packages/a8/c6/a8d1555e795dbd0375c3c93b576ca13bbf139db51ea604afa19a2c35fc03/PyYAML-4.2b4.tar.gz (262kB)\n",
      "\u001b[K    100% |████████████████████████████████| 266kB 21.5MB/s \n",
      "\u001b[?25hCollecting pysolr (from ontobio->-r requirements.txt (line 1))\n",
      "  Downloading https://files.pythonhosted.org/packages/04/26/051cc17798937bd74358ce40e03b125ce21ae9aa018d89e718cb07a0e9e4/pysolr-3.8.1-py2.py3-none-any.whl\n",
      "Requirement already satisfied: networkx==2.2 in /anaconda3/lib/python3.7/site-packages (from ontobio->-r requirements.txt (line 1)) (2.2)\n",
      "Requirement already satisfied: python-dateutil>=2.5.0 in /anaconda3/lib/python3.7/site-packages (from pandas>=0.0->-r requirements.txt (line 3)) (2.7.5)\n",
      "Requirement already satisfied: pytz>=2011k in /anaconda3/lib/python3.7/site-packages (from pandas>=0.0->-r requirements.txt (line 3)) (2018.7)\n",
      "Requirement already satisfied: numpy>=1.9.0 in /anaconda3/lib/python3.7/site-packages (from pandas>=0.0->-r requirements.txt (line 3)) (1.15.4)\n",
      "Collecting rdflib>=4.0 (from sparqlwrapper->ontobio->-r requirements.txt (line 1))\n",
      "\u001b[?25l  Downloading https://files.pythonhosted.org/packages/3c/fe/630bacb652680f6d481b9febbb3e2c3869194a1a5fc3401a4a41195a2f8f/rdflib-4.2.2-py3-none-any.whl (344kB)\n",
      "\u001b[K    100% |████████████████████████████████| 348kB 787kB/s \n",
      "\u001b[?25hCollecting portalocker (from cachier->ontobio->-r requirements.txt (line 1))\n",
      "  Downloading https://files.pythonhosted.org/packages/eb/48/bf5e330d7d6d57d92157480db9ccad84da86efd045205f7133a53b29aace/portalocker-1.4.0-py2.py3-none-any.whl\n",
      "Collecting watchdog (from cachier->ontobio->-r requirements.txt (line 1))\n",
      "\u001b[?25l  Downloading https://files.pythonhosted.org/packages/bb/e3/5a55d48a29300160779f0a0d2776d17c1b762a2039b36de528b093b87d5b/watchdog-0.9.0.tar.gz (85kB)\n",
      "\u001b[K    100% |████████████████████████████████| 92kB 30.8MB/s \n",
      "\u001b[?25hRequirement already satisfied: certifi>=2017.4.17 in /anaconda3/lib/python3.7/site-packages (from requests->ontobio->-r requirements.txt (line 1)) (2018.11.29)\n",
      "Requirement already satisfied: chardet<3.1.0,>=3.0.2 in /anaconda3/lib/python3.7/site-packages (from requests->ontobio->-r requirements.txt (line 1)) (3.0.4)\n",
      "Requirement already satisfied: idna<2.9,>=2.5 in /anaconda3/lib/python3.7/site-packages (from requests->ontobio->-r requirements.txt (line 1)) (2.8)\n",
      "Requirement already satisfied: urllib3<1.25,>=1.21.1 in /anaconda3/lib/python3.7/site-packages (from requests->ontobio->-r requirements.txt (line 1)) (1.24.1)\n",
      "Requirement already satisfied: decorator>=4.3.0 in /anaconda3/lib/python3.7/site-packages (from networkx==2.2->ontobio->-r requirements.txt (line 1)) (4.3.0)\n",
      "Requirement already satisfied: six>=1.5 in /anaconda3/lib/python3.7/site-packages (from python-dateutil>=2.5.0->pandas>=0.0->-r requirements.txt (line 3)) (1.12.0)\n",
      "Collecting isodate (from rdflib>=4.0->sparqlwrapper->ontobio->-r requirements.txt (line 1))\n",
      "\u001b[?25l  Downloading https://files.pythonhosted.org/packages/9b/9f/b36f7774ff5ea8e428fdcfc4bb332c39ee5b9362ddd3d40d9516a55221b2/isodate-0.6.0-py2.py3-none-any.whl (45kB)\n",
      "\u001b[K    100% |████████████████████████████████| 51kB 17.3MB/s \n",
      "\u001b[?25hRequirement already satisfied: pyparsing in /anaconda3/lib/python3.7/site-packages (from rdflib>=4.0->sparqlwrapper->ontobio->-r requirements.txt (line 1)) (2.3.0)\n",
      "Collecting argh>=0.24.1 (from watchdog->cachier->ontobio->-r requirements.txt (line 1))\n",
      "  Downloading https://files.pythonhosted.org/packages/06/1c/e667a7126f0b84aaa1c56844337bf0ac12445d1beb9c8a6199a7314944bf/argh-0.26.2-py2.py3-none-any.whl\n",
      "Collecting pathtools>=0.1.1 (from watchdog->cachier->ontobio->-r requirements.txt (line 1))\n",
      "  Downloading https://files.pythonhosted.org/packages/e7/7f/470d6fcdf23f9f3518f6b0b76be9df16dcc8630ad409947f8be2eb0ed13a/pathtools-0.1.2.tar.gz\n",
      "Building wheels for collected packages: jsobject, pyyaml, watchdog, pathtools\n",
      "  Running setup.py bdist_wheel for jsobject ... \u001b[?25ldone\n",
      "\u001b[?25h  Stored in directory: /Users/richard/Library/Caches/pip/wheels/bb/b5/84/bae4890df0ee97ed88deb89638387bc5bdc5e65fc0edd12bf9\n",
      "  Running setup.py bdist_wheel for pyyaml ... \u001b[?25ldone\n",
      "\u001b[?25h  Stored in directory: /Users/richard/Library/Caches/pip/wheels/d2/ab/e6/df7b6c9e3b43272fe0164d6a012e4e02e63baaddae4ca6a0d0\n",
      "  Running setup.py bdist_wheel for watchdog ... \u001b[?25ldone\n",
      "\u001b[?25h  Stored in directory: /Users/richard/Library/Caches/pip/wheels/61/1d/d0/04cfe495619be2095eb8d89a31c42adb4e42b76495bc8f784c\n",
      "  Running setup.py bdist_wheel for pathtools ... \u001b[?25ldone\n",
      "\u001b[?25h  Stored in directory: /Users/richard/Library/Caches/pip/wheels/0b/04/79/c3b0c3a0266a3cb4376da31e5bfe8bba0c489246968a68e843\n",
      "Successfully built jsobject pyyaml watchdog pathtools\n",
      "Installing collected packages: isodate, rdflib, sparqlwrapper, pyyaml, portalocker, argh, pathtools, watchdog, cachier, prefixcommons, marshmallow, jsobject, yamldown, pysolr, ontobio, mygene, typing, graphviz\n",
      "  Found existing installation: PyYAML 3.13\n",
      "\u001b[31mCannot uninstall 'PyYAML'. It is a distutils installed project and thus we cannot accurately determine which files belong to it which would lead to only a partial uninstall.\u001b[0m\n"
     ]
    }
   ],
   "source": [
    "import sys\n",
    "!{sys.executable} -m pip install -r requirements.txt"
   ]
  },
  {
   "cell_type": "code",
   "execution_count": 3,
   "metadata": {},
   "outputs": [
    {
     "name": "stdout",
     "output_type": "stream",
     "text": [
      "Collecting bmt\n",
      "  Downloading https://files.pythonhosted.org/packages/1e/a0/8938ac0f8103e4fba8bdcd03dbd18a1f39b8a6ee6b705f7c39e3931c7858/bmt-0.0.4-py3-none-any.whl\n",
      "Collecting BiolinkMG\n",
      "\u001b[?25l  Downloading https://files.pythonhosted.org/packages/3e/8d/e2b8cbd1d374bcf8c53029b09dc466a22a7a33aba4e30f9b8db844ac6549/BiolinkMG-0.3.0.tar.gz (42kB)\n",
      "\u001b[K    100% |████████████████████████████████| 51kB 2.4MB/s \n",
      "\u001b[?25hRequirement already satisfied: certifi>=2018.4.16 in /anaconda3/lib/python3.7/site-packages (from BiolinkMG) (2018.11.29)\n",
      "Collecting cfgraph>=0.2.1 (from BiolinkMG)\n",
      "  Downloading https://files.pythonhosted.org/packages/cb/51/3e7e021920cfe2f7d18b672642e13f7dc4f53545d530b52ee6533b6681ca/CFGraph-0.2.1.tar.gz\n",
      "Requirement already satisfied: click>=7.0 in /anaconda3/lib/python3.7/site-packages (from BiolinkMG) (7.0)\n",
      "Collecting graphviz>=0.10.1 (from BiolinkMG)\n",
      "  Using cached https://files.pythonhosted.org/packages/1f/e2/ef2581b5b86625657afd32030f90cf2717456c1d2b711ba074bf007c0f1a/graphviz-0.10.1-py2.py3-none-any.whl\n",
      "Requirement already satisfied: idna in /anaconda3/lib/python3.7/site-packages (from BiolinkMG) (2.8)\n",
      "Collecting jsonasobj>=1.2.1 (from BiolinkMG)\n",
      "  Downloading https://files.pythonhosted.org/packages/0a/a0/f9951b7ce18718282a00b302f469d6638b25e650783ea416c946355daa3f/jsonasobj-1.2.1.tar.gz\n",
      "Requirement already satisfied: jsonschema>=2.6.0 in /anaconda3/lib/python3.7/site-packages (from BiolinkMG) (2.6.0)\n",
      "Collecting prefixcommons>=0.1.7 (from BiolinkMG)\n",
      "  Using cached https://files.pythonhosted.org/packages/14/97/4f743330b7082ed6d9ec32b397229eac5d5f0eba2272e1fb0f99e076e72a/prefixcommons-0.1.7-py3-none-any.whl\n",
      "Collecting pyshex>=0.5.12 (from BiolinkMG)\n",
      "\u001b[?25l  Downloading https://files.pythonhosted.org/packages/20/38/9da140c3513f52ad3074f573242dc024af7808b891b979e5f61a8bf403a6/PyShEx-0.7.3.tar.gz (72kB)\n",
      "\u001b[K    100% |████████████████████████████████| 81kB 4.0MB/s \n",
      "\u001b[?25hRequirement already satisfied: pyyaml>=3.13 in /anaconda3/lib/python3.7/site-packages (from BiolinkMG) (3.13)\n",
      "Collecting rdflib-jsonld>=0.4.0 (from BiolinkMG)\n",
      "\u001b[?25l  Downloading https://files.pythonhosted.org/packages/ba/48/edaad22fc9de34500699f0c7fc9124385dd425fd18857244f126a6f7df66/rdflib-jsonld-0.4.0.tar.gz (53kB)\n",
      "\u001b[K    100% |████████████████████████████████| 61kB 20.6MB/s \n",
      "\u001b[?25hRequirement already satisfied: rdflib>=4.2.2 in /anaconda3/lib/python3.7/site-packages (from BiolinkMG) (4.2.2)\n",
      "Requirement already satisfied: requests in /anaconda3/lib/python3.7/site-packages (from BiolinkMG) (2.21.0)\n",
      "Collecting shexjsg>=0.5.6 (from BiolinkMG)\n",
      "  Downloading https://files.pythonhosted.org/packages/c0/2b/0ed52062e11e005b3ae4484e7ff3c66ca8b23eee7df834c0c877498212af/ShExJSG-0.5.6.tar.gz\n",
      "Collecting cachier (from prefixcommons>=0.1.7->BiolinkMG)\n",
      "  Using cached https://files.pythonhosted.org/packages/56/8c/f908793b1ae03e3a0daf53fa35aef3162345141f92d4942aa81b5c12a684/cachier-1.2.5-py2.py3-none-any.whl\n",
      "Collecting PyShExC>=0.5.4 (from pyshex>=0.5.12->BiolinkMG)\n",
      "\u001b[?25l  Downloading https://files.pythonhosted.org/packages/3f/fb/6821c616b671152c4d461af33d25efc02befd3d9212428c09116142399a7/PyShExC-0.5.4.tar.gz (44kB)\n",
      "\u001b[K    100% |████████████████████████████████| 51kB 18.6MB/s \n",
      "\u001b[?25hRequirement already satisfied: urllib3 in /anaconda3/lib/python3.7/site-packages (from pyshex>=0.5.12->BiolinkMG) (1.24.1)\n",
      "Collecting sparql_slurper>=0.1.3 (from pyshex>=0.5.12->BiolinkMG)\n",
      "  Downloading https://files.pythonhosted.org/packages/5c/95/50927d532c904fb52c4f4a6d4b5f4d42cdc35fc9ca3a60c311eb80654d57/sparql_slurper-0.2.0.tar.gz\n",
      "Requirement already satisfied: SPARQLWrapper>=1.8.2 in /anaconda3/lib/python3.7/site-packages (from pyshex>=0.5.12->BiolinkMG) (1.8.2)\n",
      "Requirement already satisfied: pyparsing in /anaconda3/lib/python3.7/site-packages (from rdflib>=4.2.2->BiolinkMG) (2.3.0)\n",
      "Requirement already satisfied: isodate in /anaconda3/lib/python3.7/site-packages (from rdflib>=4.2.2->BiolinkMG) (0.6.0)\n",
      "Requirement already satisfied: chardet<3.1.0,>=3.0.2 in /anaconda3/lib/python3.7/site-packages (from requests->BiolinkMG) (3.0.4)\n",
      "Collecting PyJSG>=0.9.0 (from shexjsg>=0.5.6->BiolinkMG)\n",
      "\u001b[?25l  Downloading https://files.pythonhosted.org/packages/7c/1a/2eee37b6732b329fa107799d312d20034f0cb4f56ce119d9527d08f18094/PyJSG-0.9.0.tar.gz (51kB)\n",
      "\u001b[K    100% |████████████████████████████████| 61kB 19.6MB/s \n",
      "\u001b[?25hCollecting portalocker (from cachier->prefixcommons>=0.1.7->BiolinkMG)\n",
      "  Using cached https://files.pythonhosted.org/packages/eb/48/bf5e330d7d6d57d92157480db9ccad84da86efd045205f7133a53b29aace/portalocker-1.4.0-py2.py3-none-any.whl\n",
      "Collecting watchdog (from cachier->prefixcommons>=0.1.7->BiolinkMG)\n",
      "Collecting antlr4-python3-runtime>=4.7.1 (from PyShExC>=0.5.4->pyshex>=0.5.12->BiolinkMG)\n",
      "\u001b[?25l  Downloading https://files.pythonhosted.org/packages/29/14/8ac135ec7cc9db3f768e2d032776718c6b23f74e63543f0974b4873500b2/antlr4-python3-runtime-4.7.2.tar.gz (112kB)\n",
      "\u001b[K    100% |████████████████████████████████| 112kB 25.6MB/s \n",
      "\u001b[?25hRequirement already satisfied: six in /anaconda3/lib/python3.7/site-packages (from isodate->rdflib>=4.2.2->BiolinkMG) (1.12.0)\n",
      "Collecting pathtools>=0.1.1 (from watchdog->cachier->prefixcommons>=0.1.7->BiolinkMG)\n",
      "Collecting argh>=0.24.1 (from watchdog->cachier->prefixcommons>=0.1.7->BiolinkMG)\n",
      "  Using cached https://files.pythonhosted.org/packages/06/1c/e667a7126f0b84aaa1c56844337bf0ac12445d1beb9c8a6199a7314944bf/argh-0.26.2-py2.py3-none-any.whl\n",
      "Building wheels for collected packages: BiolinkMG, cfgraph, jsonasobj, pyshex, rdflib-jsonld, shexjsg, PyShExC, sparql-slurper, PyJSG, antlr4-python3-runtime\n",
      "  Running setup.py bdist_wheel for BiolinkMG ... \u001b[?25ldone\n",
      "\u001b[?25h  Stored in directory: /Users/richard/Library/Caches/pip/wheels/6e/1b/a9/fb23e8f913c71920d8e33f8937637d819a39ae1580449bb9d8\n",
      "  Running setup.py bdist_wheel for cfgraph ... \u001b[?25ldone\n",
      "\u001b[?25h  Stored in directory: /Users/richard/Library/Caches/pip/wheels/6e/54/3d/f36a478718655bdd7189b64425d96b83c1b5ec7c501d9927c3\n",
      "  Running setup.py bdist_wheel for jsonasobj ... \u001b[?25ldone\n",
      "\u001b[?25h  Stored in directory: /Users/richard/Library/Caches/pip/wheels/29/69/72/bf06a92c81a59a26fb2016434e976bf6d0db1d1b8a261ee1ab\n",
      "  Running setup.py bdist_wheel for pyshex ... \u001b[?25ldone\n",
      "\u001b[?25h  Stored in directory: /Users/richard/Library/Caches/pip/wheels/e9/ec/5d/eeae770b87b78dc882e2867ed4003e09b303b548e9fb1a468e\n",
      "  Running setup.py bdist_wheel for rdflib-jsonld ... \u001b[?25ldone\n",
      "\u001b[?25h  Stored in directory: /Users/richard/Library/Caches/pip/wheels/9f/31/d2/ac7f9fea93b5440274e5c67336e35f1c0f9d38e49c71e35b6d\n",
      "  Running setup.py bdist_wheel for shexjsg ... \u001b[?25ldone\n",
      "\u001b[?25h  Stored in directory: /Users/richard/Library/Caches/pip/wheels/66/a3/70/d578011bfd3779c89533cb7f99376ff75162ba02e8beb2631d\n",
      "  Running setup.py bdist_wheel for PyShExC ... \u001b[?25ldone\n",
      "\u001b[?25h  Stored in directory: /Users/richard/Library/Caches/pip/wheels/d6/ea/e4/055d4c63284234b97576b64ef2f13a027625f03146a374e1f2\n",
      "  Running setup.py bdist_wheel for sparql-slurper ... \u001b[?25ldone\n",
      "\u001b[?25h  Stored in directory: /Users/richard/Library/Caches/pip/wheels/74/dd/ee/14414ba68b520b706a1553339e5e0cc9c3583b689bbfb21f2f\n",
      "  Running setup.py bdist_wheel for PyJSG ... \u001b[?25ldone\n",
      "\u001b[?25h  Stored in directory: /Users/richard/Library/Caches/pip/wheels/0e/28/53/7079b607d9a815216c52fd367957bd2d89b72bb29fb864969f\n",
      "  Running setup.py bdist_wheel for antlr4-python3-runtime ... \u001b[?25ldone\n",
      "\u001b[?25h  Stored in directory: /Users/richard/Library/Caches/pip/wheels/03/65/47/b6700d23b7529a49513f7601b4f96174a4fa9efdbec03e7ea3\n",
      "Successfully built BiolinkMG cfgraph jsonasobj pyshex rdflib-jsonld shexjsg PyShExC sparql-slurper PyJSG antlr4-python3-runtime\n",
      "Installing collected packages: cfgraph, graphviz, jsonasobj, portalocker, pathtools, argh, watchdog, cachier, prefixcommons, antlr4-python3-runtime, PyJSG, rdflib-jsonld, PyShExC, shexjsg, sparql-slurper, pyshex, BiolinkMG, bmt\n",
      "Successfully installed BiolinkMG-0.3.0 PyJSG-0.9.0 PyShExC-0.5.4 antlr4-python3-runtime-4.7.2 argh-0.26.2 bmt-0.0.4 cachier-1.2.5 cfgraph-0.2.1 graphviz-0.10.1 jsonasobj-1.2.1 pathtools-0.1.2 portalocker-1.4.0 prefixcommons-0.1.7 pyshex-0.7.3 rdflib-jsonld-0.4.0 shexjsg-0.5.6 sparql-slurper-0.2.0 watchdog-0.9.0\n"
     ]
    }
   ],
   "source": [
    "!{sys.executable} -m pip install bmt BiolinkMG"
   ]
  },
  {
   "cell_type": "code",
   "execution_count": 4,
   "metadata": {},
   "outputs": [
    {
     "ename": "ModuleNotFoundError",
     "evalue": "No module named 'BioLink'",
     "output_type": "error",
     "traceback": [
      "\u001b[0;31m---------------------------------------------------------------------------\u001b[0m",
      "\u001b[0;31mModuleNotFoundError\u001b[0m                       Traceback (most recent call last)",
      "\u001b[0;32m<ipython-input-4-a21968cd0023>\u001b[0m in \u001b[0;36m<module>\u001b[0;34m\u001b[0m\n\u001b[0;32m----> 1\u001b[0;31m \u001b[0;32mfrom\u001b[0m \u001b[0mBioLink\u001b[0m\u001b[0;34m.\u001b[0m\u001b[0mbiolink_client\u001b[0m \u001b[0;32mimport\u001b[0m \u001b[0mBioLinkWrapper\u001b[0m\u001b[0;34m\u001b[0m\u001b[0;34m\u001b[0m\u001b[0m\n\u001b[0m",
      "\u001b[0;31mModuleNotFoundError\u001b[0m: No module named 'BioLink'"
     ]
    }
   ],
   "source": [
    "from BioLink.biolink_client import BioLinkWrapper"
   ]
  },
  {
   "cell_type": "code",
   "execution_count": null,
   "metadata": {},
   "outputs": [],
   "source": []
  }
 ],
 "metadata": {
  "kernelspec": {
   "display_name": "Python 3",
   "language": "python",
   "name": "python3"
  },
  "language_info": {
   "codemirror_mode": {
    "name": "ipython",
    "version": 3
   },
   "file_extension": ".py",
   "mimetype": "text/x-python",
   "name": "python",
   "nbconvert_exporter": "python",
   "pygments_lexer": "ipython3",
   "version": "3.7.1"
  }
 },
 "nbformat": 4,
 "nbformat_minor": 2
}

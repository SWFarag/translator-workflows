{
 "cells": [
  {
   "cell_type": "markdown",
   "metadata": {},
   "source": [
    "# Workflow 5\n",
    "## Green Team @ RENCI\n",
    "## Last Update: January 10, 2019"
   ]
  },
  {
   "cell_type": "markdown",
   "metadata": {},
   "source": [
    "<div class=\"alert alert-block alert-info\" style=\"font-size:24px; font-weight: normal\">\n",
    "<b> Module 1 - Identify a Cohort and subdivide it based on features/clusters of interest</b>\n",
    "</div>"
   ]
  },
  {
   "cell_type": "code",
   "execution_count": 2,
   "metadata": {},
   "outputs": [],
   "source": [
    "import iceesclient"
   ]
  },
  {
   "cell_type": "markdown",
   "metadata": {},
   "source": [
    "<div class=\"alert alert-block alert-warning\" style=\"font-size:16px\">\n",
    "<b> Note: iceesclient is a python client for the ICEES API, available at the ICEES API Repository: https://github.com/NCATS-Tangerine/icees-api/tree/master/iceesclient\n",
    "</div>"
   ]
  },
  {
   "cell_type": "code",
   "execution_count": 3,
   "metadata": {},
   "outputs": [],
   "source": [
    "DefineCohortObject = iceesclient.DefineCohort()"
   ]
  },
  {
   "cell_type": "markdown",
   "metadata": {},
   "source": [
    "<div class=\"alert alert-block alert-success\" style=\"font-size:16px; font-weight: normal\">\n",
    "<b> We want to examine COHORT:22, so preliminarily we look at the cohort definition and get the cohort features, sequentially as follows: </b>\n",
    "</div>"
   ]
  },
  {
   "cell_type": "code",
   "execution_count": 14,
   "metadata": {},
   "outputs": [
    {
     "ename": "NameError",
     "evalue": "name 'CohortDefinitionObject' is not defined",
     "output_type": "error",
     "traceback": [
      "\u001b[0;31m---------------------------------------------------------------------------\u001b[0m",
      "\u001b[0;31mNameError\u001b[0m                                 Traceback (most recent call last)",
      "\u001b[0;32m<ipython-input-14-c9506f0cd0e8>\u001b[0m in \u001b[0;36m<module>\u001b[0;34m\u001b[0m\n\u001b[0;32m----> 1\u001b[0;31m \u001b[0mcohort_22_definition\u001b[0m \u001b[0;34m=\u001b[0m \u001b[0mCohortDefinitionObject\u001b[0m\u001b[0;34m.\u001b[0m\u001b[0mrun_get_cohort_definition\u001b[0m\u001b[0;34m(\u001b[0m\u001b[0;34m'COHORT:22'\u001b[0m\u001b[0;34m)\u001b[0m\u001b[0;34m\u001b[0m\u001b[0m\n\u001b[0m",
      "\u001b[0;31mNameError\u001b[0m: name 'CohortDefinitionObject' is not defined"
     ]
    }
   ],
   "source": [
    "cohort_22_definition = CohortDefinitionObject.run_get_cohort_definition('COHORT:22')"
   ]
  },
  {
   "cell_type": "code",
   "execution_count": null,
   "metadata": {},
   "outputs": [],
   "source": [
    "cohort_22_features = FeaturesObject.run_get_features('COHORT:22')"
   ]
  },
  {
   "cell_type": "markdown",
   "metadata": {},
   "source": [
    "<div class=\"alert alert-block alert-success\" style=\"font-size:16px; font-weight: normal\">\n",
    "<b> With the above as a baseline, we want to split the COHORT:22 data in order to create to groups according to \"EDInpatientVisits\"... </b>\n",
    "</div>"
   ]
  },
  {
   "cell_type": "markdown",
   "metadata": {},
   "source": [
    "<div class=\"alert alert-block alert-success\" style=\"font-size:16px; font-weight: normal\">\n",
    "<b> cohort_22_group_B == 'TotalEDInpatientVisits' < 2, maximum p value < 0.1 </b>\n",
    "</div>"
   ]
  },
  {
   "cell_type": "code",
   "execution_count": 13,
   "metadata": {},
   "outputs": [
    {
     "ename": "NameError",
     "evalue": "name 'AssociationToAllFeaturesObject' is not defined",
     "output_type": "error",
     "traceback": [
      "\u001b[0;31m---------------------------------------------------------------------------\u001b[0m",
      "\u001b[0;31mNameError\u001b[0m                                 Traceback (most recent call last)",
      "\u001b[0;32m<ipython-input-13-da1b731ec0a7>\u001b[0m in \u001b[0;36m<module>\u001b[0;34m\u001b[0m\n\u001b[0;32m----> 1\u001b[0;31m \u001b[0mmodule_1_cohort_22_group_A\u001b[0m \u001b[0;34m=\u001b[0m \u001b[0mAssociationToAllFeaturesObject\u001b[0m\u001b[0;34m.\u001b[0m\u001b[0mrun_association_to_all_features\u001b[0m\u001b[0;34m(\u001b[0m\u001b[0;34m'TotalEDInpatientVisits'\u001b[0m\u001b[0;34m,\u001b[0m\u001b[0;34m'<'\u001b[0m\u001b[0;34m,\u001b[0m \u001b[0;34m'2'\u001b[0m\u001b[0;34m,\u001b[0m\u001b[0;34m'0.1'\u001b[0m\u001b[0;34m,\u001b[0m\u001b[0;34m'COHORT:22'\u001b[0m\u001b[0;34m)\u001b[0m\u001b[0;34m\u001b[0m\u001b[0m\n\u001b[0m",
      "\u001b[0;31mNameError\u001b[0m: name 'AssociationToAllFeaturesObject' is not defined"
     ]
    }
   ],
   "source": [
    "module_1_cohort_22_group_A = AssociationToAllFeaturesObject.run_association_to_all_features('TotalEDInpatientVisits','<', '2','0.1','COHORT:22')"
   ]
  },
  {
   "cell_type": "markdown",
   "metadata": {},
   "source": [
    "<div class=\"alert alert-block alert-success\" style=\"font-size:16px; font-weight: normal\">\n",
    "<b> cohort_22_group_B == 'TotalEDInpatientVisits' >= 2, maximum p value < 0.1  </b>\n",
    "</div>"
   ]
  },
  {
   "cell_type": "code",
   "execution_count": 12,
   "metadata": {},
   "outputs": [
    {
     "ename": "NameError",
     "evalue": "name 'AssociationToAllFeaturesObject' is not defined",
     "output_type": "error",
     "traceback": [
      "\u001b[0;31m---------------------------------------------------------------------------\u001b[0m",
      "\u001b[0;31mNameError\u001b[0m                                 Traceback (most recent call last)",
      "\u001b[0;32m<ipython-input-12-60ef766fb343>\u001b[0m in \u001b[0;36m<module>\u001b[0;34m\u001b[0m\n\u001b[0;32m----> 1\u001b[0;31m \u001b[0mmodule_1_cohort_22_group_B\u001b[0m \u001b[0;34m=\u001b[0m \u001b[0mAssociationToAllFeaturesObject\u001b[0m\u001b[0;34m.\u001b[0m\u001b[0mrun_association_to_all_features\u001b[0m\u001b[0;34m(\u001b[0m\u001b[0;34m'TotalEDInpatientVisits'\u001b[0m\u001b[0;34m,\u001b[0m\u001b[0;34m'>='\u001b[0m\u001b[0;34m,\u001b[0m \u001b[0;34m'2'\u001b[0m\u001b[0;34m,\u001b[0m\u001b[0;34m'0.1'\u001b[0m\u001b[0;34m,\u001b[0m\u001b[0;34m'COHORT:22'\u001b[0m\u001b[0;34m)\u001b[0m\u001b[0;34m\u001b[0m\u001b[0m\n\u001b[0m",
      "\u001b[0;31mNameError\u001b[0m: name 'AssociationToAllFeaturesObject' is not defined"
     ]
    }
   ],
   "source": [
    "module_1_cohort_22_group_B = AssociationToAllFeaturesObject.run_association_to_all_features('TotalEDInpatientVisits','>=', '2','0.1','COHORT:22')"
   ]
  },
  {
   "cell_type": "markdown",
   "metadata": {},
   "source": [
    "<div class=\"alert alert-block alert-success\" style=\"font-size:16px; font-weight: normal\">\n",
    "<b> For both group_A and group_B within COHORT:22, subdivide these groups by rural/urban characteristics as defined by 'EstResidentialDensity' using the 2x2 feature exploratoin where the inputs are: 1) the cohort, 2) TotalEDInpatientVisits, 3) EstResidentialDensity [ICEES Overview v3 10.10.18]</b>\n",
    "</div>"
   ]
  },
  {
   "cell_type": "code",
   "execution_count": null,
   "metadata": {},
   "outputs": [],
   "source": []
  }
 ],
 "metadata": {
  "kernelspec": {
   "display_name": "Python 3",
   "language": "python",
   "name": "python3"
  },
  "language_info": {
   "codemirror_mode": {
    "name": "ipython",
    "version": 3
   },
   "file_extension": ".py",
   "mimetype": "text/x-python",
   "name": "python",
   "nbconvert_exporter": "python",
   "pygments_lexer": "ipython3",
   "version": "3.7.0"
  }
 },
 "nbformat": 4,
 "nbformat_minor": 2
}

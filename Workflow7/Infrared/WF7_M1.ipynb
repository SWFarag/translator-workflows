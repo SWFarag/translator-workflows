{
 "cells": [
  {
   "cell_type": "markdown",
   "metadata": {},
   "source": [
    "# Workflow 7 - Module 1 (Unordered Pathway)\n",
    "This notebook will focus on module 1 of workflow 7.  The objective is to return all the genes and metabolites in a pathway in no parituclar order.  The first prototype use case for this workflow will focus on Codeine.  We only try to return genes because GNBR does not have direct chemical-chemical associations."
   ]
  },
  {
   "cell_type": "markdown",
   "metadata": {},
   "source": [
    "## Step 1. Query SMPDB API\n",
    "First we query statements endpoint of SMPDB for all genes related to Codeine to generate a set of \"ground truth\" answers for comparison to GNBR. This task requires two functions:\n",
    "1. Map a concept into SMPDB using keyword search\n",
    "2. Query all related genes (any type of relationship)\n",
    "\n",
    "The lookup functions here are a starting point and will become more refined as we churn through more examples and figure out what does and doesn't work."
   ]
  },
  {
   "cell_type": "code",
   "execution_count": 1,
   "metadata": {},
   "outputs": [],
   "source": [
    "from pprint import pprint\n",
    "from __future__ import print_function\n",
    "from tkbeacon import build, KnowledgeSource\n",
    "from tkbeacon.rest import ApiException\n",
    "\n",
    "def get_concepts(query):\n",
    "    b = build(KnowledgeSource.SMPDB)\n",
    "    terms = [i.lower() for i in query]\n",
    "    concepts = b.get_concepts(keywords=terms)\n",
    "    return [b.get_concept_details(i.id) for i in concepts if i.name.lower() in terms]\n",
    "\n",
    "def get_genes(query):\n",
    "    b = build(KnowledgeSource.SMPDB)\n",
    "    concepts = get_concepts(query)\n",
    "    query_ids = [i.id for i in concepts]\n",
    "    statements = b.get_statements(s=query_ids, edge_label='related_to', t_categories=['protein'])\n",
    "    return statements"
   ]
  },
  {
   "cell_type": "markdown",
   "metadata": {},
   "source": [
    "### Chemical Lookup\n",
    "First we lookup Codeine and see what information smpdb has about it."
   ]
  },
  {
   "cell_type": "code",
   "execution_count": 2,
   "metadata": {},
   "outputs": [
    {
     "name": "stdout",
     "output_type": "stream",
     "text": [
      "[{'categories': ['metabolite'],\n",
      " 'description': None,\n",
      " 'details': None,\n",
      " 'exact_matches': [],\n",
      " 'id': 'CHEBI:16714',\n",
      " 'name': 'Codeine',\n",
      " 'symbol': None,\n",
      " 'synonyms': None,\n",
      " 'uri': 'https://www.ebi.ac.uk/chebi/searchId.do?chebiId=CHEBI:16714'}]\n"
     ]
    }
   ],
   "source": [
    "chemical = ['Codeine']\n",
    "concepts = get_concepts(chemical)\n",
    "pprint(concepts)"
   ]
  },
  {
   "cell_type": "markdown",
   "metadata": {},
   "source": [
    "### Related Genes\n",
    "Now we get all related genes, with the most generic definition of relatedness."
   ]
  },
  {
   "cell_type": "code",
   "execution_count": 3,
   "metadata": {},
   "outputs": [
    {
     "name": "stdout",
     "output_type": "stream",
     "text": [
      "[{'id': 'CHEBI:16714|related_to|consumption_controlled_by|UNIPROT:P08684',\n",
      " 'object': {'categories': ['protein'],\n",
      "            'id': 'UNIPROT:P08684',\n",
      "            'name': 'Cytochrome P450 3A4'},\n",
      " 'predicate': {'edge_label': 'related_to',\n",
      "               'negated': False,\n",
      "               'relation': 'consumption_controlled_by'},\n",
      " 'subject': {'categories': ['metabolite'],\n",
      "             'id': 'CHEBI:16714',\n",
      "             'name': 'Codeine'}},\n",
      " {'id': 'CHEBI:16714|related_to|consumption_controlled_by|UNIPROT:P10635',\n",
      " 'object': {'categories': ['protein'],\n",
      "            'id': 'UNIPROT:P10635',\n",
      "            'name': 'Cytochrome P450 2D6'},\n",
      " 'predicate': {'edge_label': 'related_to',\n",
      "               'negated': False,\n",
      "               'relation': 'consumption_controlled_by'},\n",
      " 'subject': {'categories': ['metabolite'],\n",
      "             'id': 'CHEBI:16714',\n",
      "             'name': 'Codeine'}},\n",
      " {'id': 'CHEBI:16714|related_to|consumption_controlled_by|UNIPROT:P16662',\n",
      " 'object': {'categories': ['protein'],\n",
      "            'id': 'UNIPROT:P16662',\n",
      "            'name': 'UDP-glucuronosyltransferase 2B7'},\n",
      " 'predicate': {'edge_label': 'related_to',\n",
      "               'negated': False,\n",
      "               'relation': 'consumption_controlled_by'},\n",
      " 'subject': {'categories': ['metabolite'],\n",
      "             'id': 'CHEBI:16714',\n",
      "             'name': 'Codeine'}}]\n"
     ]
    }
   ],
   "source": [
    "smpdb_genes = get_genes(query=chemical)\n",
    "pprint(smpdb_genes)"
   ]
  },
  {
   "cell_type": "markdown",
   "metadata": {},
   "source": [
    "Looks like we get all the standard metabolic genes.  Compared with the [PharmGKB pathway](https://www.pharmgkb.org/pathway/PA146123006) it seems that we are missing the morphine arm, but that is ok for now."
   ]
  },
  {
   "cell_type": "markdown",
   "metadata": {},
   "source": [
    "## Step 2. Query GNBR API\n",
    "We will start off with very basic usage of the GNBR API to query genes associated with Codeine."
   ]
  },
  {
   "cell_type": "code",
   "execution_count": 4,
   "metadata": {},
   "outputs": [],
   "source": [
    "import gnbr_beacon\n",
    "\n",
    "gnbr_concepts = gnbr_beacon.ConceptsApi()\n",
    "gnbr_statements = gnbr_beacon.StatementsApi()"
   ]
  },
  {
   "cell_type": "markdown",
   "metadata": {},
   "source": [
    "### Chemical  Lookup"
   ]
  },
  {
   "cell_type": "code",
   "execution_count": 5,
   "metadata": {},
   "outputs": [
    {
     "name": "stdout",
     "output_type": "stream",
     "text": [
      "[{'categories': ['Entity', 'Chemical'],\n",
      " 'description': 'A confirmative method was developed for determining five '\n",
      "                'poppy alkaloids including morphine , codeine , papaverine , '\n",
      "                'tibane , noscapine in chafing dish ingredients by high '\n",
      "                'performance liquid chromatography coupled with triple '\n",
      "                'quadrupole linear ion trap mass spectrometry -LRB- HPLC-Q '\n",
      "                'Trap MS -RRB- . Keywords used were '\n",
      "                'glucose-6-phosphate_dehydrogenase -LRB- G6PD -RRB- deficiency '\n",
      "                ', anesthesia , analgesia , anxiolysis , management , favism , '\n",
      "                'hemolytic_anemia , benzodiazepines , codeine , codeine '\n",
      "                'derivatives , ketamine , barbiturates , propofol , opioids , '\n",
      "                'fentanyl , and inhalation anesthetics . OBJECTIVE : To '\n",
      "                'compare the performance of ibuprofen vs codeine for '\n",
      "                'postoperative_pain management after tonsillectomy as measured '\n",
      "                'by need for emergency_department -LRB- ED -RRB- treatment for '\n",
      "                'pain_and / or_dehydration .',\n",
      " 'details': [{'tag': 'mentions', 'value': '835'}],\n",
      " 'exact_matches': None,\n",
      " 'id': 'MESH:D003061',\n",
      " 'name': 'codeine',\n",
      " 'symbol': None,\n",
      " 'synonyms': ['codeine',\n",
      "              'Codeine',\n",
      "              'codeine phosphate',\n",
      "              'N-methylmorphine',\n",
      "              'Codeine phosphate',\n",
      "              'N-methyl morphine',\n",
      "              'codeine/dextropropoxyphen'],\n",
      " 'uri': 'MESH:D003061'}]\n"
     ]
    }
   ],
   "source": [
    "chemical = ['Codeine']\n",
    "concepts = gnbr_concepts.get_concepts(keywords=chemical)\n",
    "details = [gnbr_concepts.get_concept_details(i.id) for i in concepts]\n",
    "pprint(details)"
   ]
  },
  {
   "cell_type": "markdown",
   "metadata": {},
   "source": [
    "### Related Genes"
   ]
  },
  {
   "cell_type": "code",
   "execution_count": 6,
   "metadata": {
    "scrolled": true
   },
   "outputs": [
    {
     "name": "stdout",
     "output_type": "stream",
     "text": [
      "[{'id': '33560061',\n",
      " 'object': {'categories': ['Entity', 'Gene'],\n",
      "            'id': 'NCBIGENE:6580',\n",
      "            'name': 'OCT1'},\n",
      " 'predicate': {'edge_label': 'disrupts',\n",
      "               'negated': None,\n",
      "               'relation': 'inhibits'},\n",
      " 'subject': {'categories': ['Entity', 'Chemical'],\n",
      "             'id': 'MESH:D003061',\n",
      "             'name': 'codeine'}},\n",
      " {'id': '33560063',\n",
      " 'object': {'categories': ['Entity', 'Gene'],\n",
      "            'id': 'NCBIGENE:7363',\n",
      "            'name': 'UGT2B4'},\n",
      " 'predicate': {'edge_label': 'affects abundance of',\n",
      "               'negated': None,\n",
      "               'relation': 'desreases expression or production of'},\n",
      " 'subject': {'categories': ['Entity', 'Chemical'],\n",
      "             'id': 'MESH:D003061',\n",
      "             'name': 'codeine'}},\n",
      " {'id': '33560059',\n",
      " 'object': {'categories': ['Entity', 'Gene'],\n",
      "            'id': 'NCBIGENE:2539',\n",
      "            'name': 'G6PD'},\n",
      " 'predicate': {'edge_label': 'affects activity of',\n",
      "               'negated': None,\n",
      "               'relation': 'activates'},\n",
      " 'subject': {'categories': ['Entity', 'Chemical'],\n",
      "             'id': 'MESH:D003061',\n",
      "             'name': 'codeine'}},\n",
      " {'id': '33560058',\n",
      " 'object': {'categories': ['Entity', 'Gene'],\n",
      "            'id': 'NCBIGENE:1576',\n",
      "            'name': 'CYP3A4'},\n",
      " 'predicate': {'edge_label': 'disrupts',\n",
      "               'negated': None,\n",
      "               'relation': 'inhibits'},\n",
      " 'subject': {'categories': ['Entity', 'Chemical'],\n",
      "             'id': 'MESH:D003061',\n",
      "             'name': 'codeine'}},\n",
      " {'id': '33560062',\n",
      " 'object': {'categories': ['Entity', 'Gene'],\n",
      "            'id': 'NCBIGENE:717',\n",
      "            'name': 'CO2'},\n",
      " 'predicate': {'edge_label': 'affects activity of',\n",
      "               'negated': None,\n",
      "               'relation': 'activates'},\n",
      " 'subject': {'categories': ['Entity', 'Chemical'],\n",
      "             'id': 'MESH:D003061',\n",
      "             'name': 'codeine'}},\n",
      " {'id': '33560056',\n",
      " 'object': {'categories': ['Entity', 'Gene'],\n",
      "            'id': 'NCBIGENE:1564',\n",
      "            'name': 'CYP2D'},\n",
      " 'predicate': {'edge_label': 'affects abundance of',\n",
      "               'negated': None,\n",
      "               'relation': 'desreases expression or production of'},\n",
      " 'subject': {'categories': ['Entity', 'Chemical'],\n",
      "             'id': 'MESH:D003061',\n",
      "             'name': 'codeine'}},\n",
      " {'id': '33560060',\n",
      " 'object': {'categories': ['Entity', 'Gene'],\n",
      "            'id': 'NCBIGENE:5730',\n",
      "            'name': 'PGD2'},\n",
      " 'predicate': {'edge_label': 'affects molecular modification of',\n",
      "               'negated': None,\n",
      "               'relation': 'metabolized by'},\n",
      " 'subject': {'categories': ['Entity', 'Chemical'],\n",
      "             'id': 'MESH:D003061',\n",
      "             'name': 'codeine'}},\n",
      " {'id': '33560064',\n",
      " 'object': {'categories': ['Entity', 'Gene'],\n",
      "            'id': 'NCBIGENE:7364',\n",
      "            'name': 'UGT2B7'},\n",
      " 'predicate': {'edge_label': 'affects activity of',\n",
      "               'negated': None,\n",
      "               'relation': 'blocks activation of'},\n",
      " 'subject': {'categories': ['Entity', 'Chemical'],\n",
      "             'id': 'MESH:D003061',\n",
      "             'name': 'codeine'}},\n",
      " {'id': '33560057',\n",
      " 'object': {'categories': ['Entity', 'Gene'],\n",
      "            'id': 'NCBIGENE:1565',\n",
      "            'name': 'CYP2D6'},\n",
      " 'predicate': {'edge_label': 'disrupts',\n",
      "               'negated': None,\n",
      "               'relation': 'inhibits'},\n",
      " 'subject': {'categories': ['Entity', 'Chemical'],\n",
      "             'id': 'MESH:D003061',\n",
      "             'name': 'codeine'}},\n",
      " {'id': '33560065',\n",
      " 'object': {'categories': ['Entity', 'Gene'],\n",
      "            'id': 'NCBIGENE:81668',\n",
      "            'name': 'GH'},\n",
      " 'predicate': {'edge_label': 'affects abundance of',\n",
      "               'negated': None,\n",
      "               'relation': 'affects expression or production of'},\n",
      " 'subject': {'categories': ['Entity', 'Chemical'],\n",
      "             'id': 'MESH:D003061',\n",
      "             'name': 'codeine'}}]\n"
     ]
    }
   ],
   "source": [
    "ids = [i.id for i in concepts]\n",
    "gnbr_genes = gnbr_statements.get_statements(s=ids, t_categories=['Gene'])\n",
    "pprint(gnbr_genes)"
   ]
  },
  {
   "cell_type": "markdown",
   "metadata": {},
   "source": [
    "## Step 3. Validation\n",
    "Validation happens in two steps.\n",
    "1. Harmonize concepts across knowledge sources.\n",
    "2. Compute performance metrics\n",
    "3. Investigate \"wrong\" answers"
   ]
  },
  {
   "cell_type": "markdown",
   "metadata": {},
   "source": [
    "### Harmonize Concepts\n",
    "First we need to map concepts from SMPDB into GNBR.  We might imagine doing the reverse mapping, but for now we are keeping it as simple as possible.  We map concepts using simple keyword lookup."
   ]
  },
  {
   "cell_type": "code",
   "execution_count": 7,
   "metadata": {
    "scrolled": true
   },
   "outputs": [
    {
     "name": "stdout",
     "output_type": "stream",
     "text": [
      "[{'categories': ['Entity', 'Gene'],\n",
      " 'description': None,\n",
      " 'id': 'NCBIGENE:1576',\n",
      " 'name': 'CYP3A4'},\n",
      " {'categories': ['Entity', 'Gene'],\n",
      " 'description': None,\n",
      " 'id': 'NCBIGENE:107987479',\n",
      " 'name': 'cytochrome P450 2D6'},\n",
      " {'categories': ['Entity', 'Gene'],\n",
      " 'description': None,\n",
      " 'id': 'NCBIGENE:1565',\n",
      " 'name': 'CYP2D6'},\n",
      " {'categories': ['Entity', 'Gene'],\n",
      " 'description': None,\n",
      " 'id': 'NCBIGENE:7364',\n",
      " 'name': 'UGT2B7'}]\n"
     ]
    }
   ],
   "source": [
    "mapped_genes = gnbr_concepts.get_concepts(keywords=[i.object.name for i in smpdb_genes])\n",
    "pprint(mapped_genes)"
   ]
  },
  {
   "cell_type": "markdown",
   "metadata": {},
   "source": [
    "We can see a problem with the mapping here - we end up pulling in synonyms (orthologs).  Species tags are not currently supported on the GNBR API, though they are in the underlying neo4j.  Future versions of the API will species info for genes."
   ]
  },
  {
   "cell_type": "markdown",
   "metadata": {},
   "source": [
    "### Metrics\n",
    "The metrics we will compute for this module are Jaccard similarity and Average Precision.  Jaccard similarity doesn't explicitly take the ordering of the answers into account, but it is affected by the number of returned answers.\n",
    "\n",
    "Average precision explicitly considers rankings and is less sensitive to the total number of results returned. Thus it is generally preferred for search algorithms that return long lists of results, where the top results should be the most relevant."
   ]
  },
  {
   "cell_type": "code",
   "execution_count": 8,
   "metadata": {},
   "outputs": [],
   "source": [
    "def jaccard_index(query_results, ground_truths):\n",
    "    numerator = len(set(query_results) & set(ground_truths))\n",
    "    demoninator = len(set(query_results + ground_truths))\n",
    "    jc = 1.0*numerator/demoninator\n",
    "    return jc\n",
    "\n",
    "def avg_prec(query_results, ground_truths):\n",
    "    hits, precision = 0, 0\n",
    "    for n, result in enumerate(query_results):\n",
    "        if result in ground_truths:\n",
    "            hits += 1\n",
    "            precision += hits/(n+1)\n",
    "    avg_precision = precision/len(ground_truths)\n",
    "    return avg_precision"
   ]
  },
  {
   "cell_type": "code",
   "execution_count": 9,
   "metadata": {},
   "outputs": [
    {
     "name": "stdout",
     "output_type": "stream",
     "text": [
      "Jaccard: 0.27\n",
      "Average Precision: 0.21\n"
     ]
    }
   ],
   "source": [
    "ap = avg_prec( [i.object.id for i in gnbr_genes], [i.id for i in mapped_genes] )\n",
    "jc = jaccard_index( [i.object.id for i in gnbr_genes], [i.id for i in mapped_genes] )\n",
    "print('Jaccard: %0.2f'%jc)\n",
    "print('Average Precision: %0.2f'%ap)"
   ]
  },
  {
   "cell_type": "markdown",
   "metadata": {},
   "source": [
    "### Further Investigation"
   ]
  },
  {
   "cell_type": "markdown",
   "metadata": {},
   "source": [
    "#### Right Answers\n",
    "Frist we see what we got right.  It looks like we did get all of the metabolism genes from smpdb, just not as the top of the results."
   ]
  },
  {
   "cell_type": "code",
   "execution_count": 10,
   "metadata": {},
   "outputs": [
    {
     "name": "stdout",
     "output_type": "stream",
     "text": [
      "['CYP3A4', 'UGT2B7', 'CYP2D6']\n"
     ]
    }
   ],
   "source": [
    "mapped_ids = [i.id for i in mapped_genes]\n",
    "pprint([i.object.name for i in gnbr_genes if i.object.id in mapped_ids])"
   ]
  },
  {
   "cell_type": "markdown",
   "metadata": {},
   "source": [
    "#### Wrong Answers\n",
    "Now we see what we got \"wrong\".  It looks GNBR returnins a number of additional off target and metabolism genes, and these are what is dragging the score down."
   ]
  },
  {
   "cell_type": "code",
   "execution_count": 11,
   "metadata": {
    "scrolled": true
   },
   "outputs": [
    {
     "name": "stdout",
     "output_type": "stream",
     "text": [
      "[{'id': '33560061',\n",
      " 'object': {'categories': ['Entity', 'Gene'],\n",
      "            'id': 'NCBIGENE:6580',\n",
      "            'name': 'OCT1'},\n",
      " 'predicate': {'edge_label': 'disrupts',\n",
      "               'negated': None,\n",
      "               'relation': 'inhibits'},\n",
      " 'subject': {'categories': ['Entity', 'Chemical'],\n",
      "             'id': 'MESH:D003061',\n",
      "             'name': 'codeine'}},\n",
      " {'id': '33560063',\n",
      " 'object': {'categories': ['Entity', 'Gene'],\n",
      "            'id': 'NCBIGENE:7363',\n",
      "            'name': 'UGT2B4'},\n",
      " 'predicate': {'edge_label': 'affects abundance of',\n",
      "               'negated': None,\n",
      "               'relation': 'desreases expression or production of'},\n",
      " 'subject': {'categories': ['Entity', 'Chemical'],\n",
      "             'id': 'MESH:D003061',\n",
      "             'name': 'codeine'}},\n",
      " {'id': '33560059',\n",
      " 'object': {'categories': ['Entity', 'Gene'],\n",
      "            'id': 'NCBIGENE:2539',\n",
      "            'name': 'G6PD'},\n",
      " 'predicate': {'edge_label': 'affects activity of',\n",
      "               'negated': None,\n",
      "               'relation': 'activates'},\n",
      " 'subject': {'categories': ['Entity', 'Chemical'],\n",
      "             'id': 'MESH:D003061',\n",
      "             'name': 'codeine'}},\n",
      " {'id': '33560062',\n",
      " 'object': {'categories': ['Entity', 'Gene'],\n",
      "            'id': 'NCBIGENE:717',\n",
      "            'name': 'CO2'},\n",
      " 'predicate': {'edge_label': 'affects activity of',\n",
      "               'negated': None,\n",
      "               'relation': 'activates'},\n",
      " 'subject': {'categories': ['Entity', 'Chemical'],\n",
      "             'id': 'MESH:D003061',\n",
      "             'name': 'codeine'}},\n",
      " {'id': '33560056',\n",
      " 'object': {'categories': ['Entity', 'Gene'],\n",
      "            'id': 'NCBIGENE:1564',\n",
      "            'name': 'CYP2D'},\n",
      " 'predicate': {'edge_label': 'affects abundance of',\n",
      "               'negated': None,\n",
      "               'relation': 'desreases expression or production of'},\n",
      " 'subject': {'categories': ['Entity', 'Chemical'],\n",
      "             'id': 'MESH:D003061',\n",
      "             'name': 'codeine'}},\n",
      " {'id': '33560060',\n",
      " 'object': {'categories': ['Entity', 'Gene'],\n",
      "            'id': 'NCBIGENE:5730',\n",
      "            'name': 'PGD2'},\n",
      " 'predicate': {'edge_label': 'affects molecular modification of',\n",
      "               'negated': None,\n",
      "               'relation': 'metabolized by'},\n",
      " 'subject': {'categories': ['Entity', 'Chemical'],\n",
      "             'id': 'MESH:D003061',\n",
      "             'name': 'codeine'}},\n",
      " {'id': '33560065',\n",
      " 'object': {'categories': ['Entity', 'Gene'],\n",
      "            'id': 'NCBIGENE:81668',\n",
      "            'name': 'GH'},\n",
      " 'predicate': {'edge_label': 'affects abundance of',\n",
      "               'negated': None,\n",
      "               'relation': 'affects expression or production of'},\n",
      " 'subject': {'categories': ['Entity', 'Chemical'],\n",
      "             'id': 'MESH:D003061',\n",
      "             'name': 'codeine'}}]\n"
     ]
    }
   ],
   "source": [
    "mapped_ids = [i.id for i in mapped_genes]\n",
    "pprint([i for i in gnbr_genes if i.object.id not in mapped_ids])"
   ]
  },
  {
   "cell_type": "markdown",
   "metadata": {},
   "source": [
    "#### Or Promising Leads?"
   ]
  },
  {
   "cell_type": "markdown",
   "metadata": {},
   "source": [
    "Let's look into a couple of these.  As a point of comparison, we can check out some of the [clincial annotations from PharmGKB](https://www.pharmgkb.org/chemical/PA449088/clinicalAnnotation)."
   ]
  },
  {
   "cell_type": "markdown",
   "metadata": {},
   "source": [
    "##### UGT2B4\n",
    "This is not currently listed as a PK Gene in pharmGKB and has been flagged by the curators as a potential candidate for experimental follow up."
   ]
  },
  {
   "cell_type": "code",
   "execution_count": 12,
   "metadata": {},
   "outputs": [
    {
     "name": "stdout",
     "output_type": "stream",
     "text": [
      "{'annotation': None,\n",
      " 'evidence': [{'date': None,\n",
      "               'evidence_type': 'http://purl.obolibrary.org/obo/ECO_0000204',\n",
      "               'id': 'PUBMED:12920168',\n",
      "               'name': 'Codeine is not a useful UGT2B7 probe substrate because '\n",
      "                       'of significant glucuronidation by UGT2B4 .',\n",
      "               'uri': 'https://www.ncbi.nlm.nih.gov/pubmed/12920168'},\n",
      "              {'date': None,\n",
      "               'evidence_type': 'http://purl.obolibrary.org/obo/ECO_0000204',\n",
      "               'id': 'PUBMED:12920168',\n",
      "               'name': 'Codeine was glucuronidated equally well by UGT2B4 and '\n",
      "                       'UGT2B7 .',\n",
      "               'uri': 'https://www.ncbi.nlm.nih.gov/pubmed/12920168'}],\n",
      " 'id': '33560063',\n",
      " 'is_defined_by': None,\n",
      " 'provided_by': None,\n",
      " 'qualifiers': None}\n"
     ]
    }
   ],
   "source": [
    "evidence = gnbr_statements.get_statement_details(statement_id=33560063)\n",
    "pprint(evidence)"
   ]
  },
  {
   "cell_type": "markdown",
   "metadata": {},
   "source": [
    "#### CDP2D7\n",
    "This one was removed from PharmGKB after it was shown to be a psuedogene that did not replicate after the initial studies identifying it as a PK Gene. However, this is not uncontroversial. A recent study in drisophila suggests the existence of pseudo-psuedogenes, which are only expressed in neural tissues."
   ]
  },
  {
   "cell_type": "code",
   "execution_count": 13,
   "metadata": {
    "scrolled": true
   },
   "outputs": [
    {
     "name": "stdout",
     "output_type": "stream",
     "text": [
      "{'annotation': None,\n",
      " 'evidence': [{'date': None,\n",
      "               'evidence_type': 'http://purl.obolibrary.org/obo/ECO_0000204',\n",
      "               'id': 'PUBMED:28837793',\n",
      "               'name': 'Brain CYP2D metabolizes codeine to morphine , a '\n",
      "                       'bioactivation step required for codeine analgesia .',\n",
      "               'uri': 'https://www.ncbi.nlm.nih.gov/pubmed/28837793'},\n",
      "              {'date': None,\n",
      "               'evidence_type': 'http://purl.obolibrary.org/obo/ECO_0000204',\n",
      "               'id': 'PUBMED:17017525',\n",
      "               'name': 'Genotyping revealed the presence of the frame-shift '\n",
      "                       'mutation 138delT only in those subjects who expressed '\n",
      "                       'the brain variant CYP2D7 , which metabolizes codeine '\n",
      "                       'exclusively to morphine unlike hepatic CYP2D6 that '\n",
      "                       'metabolizes codeine to nor codeine and morphine .',\n",
      "               'uri': 'https://www.ncbi.nlm.nih.gov/pubmed/17017525'},\n",
      "              {'date': None,\n",
      "               'evidence_type': 'http://purl.obolibrary.org/obo/ECO_0000204',\n",
      "               'id': 'PUBMED:25630571',\n",
      "               'name': 'Rats received 7-day nicotine -LRB- 1 mg/kg '\n",
      "                       'subcutaneously -RRB- and/or a single propranolol -LRB- '\n",
      "                       'CYP2D mechanism-based inhibitor ; 20 g '\n",
      "                       'intracerebroventricularly -RRB- pretreatment , and '\n",
      "                       'then were tested for analgesia and drug levels '\n",
      "                       'following codeine -LRB- 20 mg/kg intraperitoneally '\n",
      "                       '-RRB- or morphine -LRB- 3.5 mg/kg intraperitoneally '\n",
      "                       '-RRB- , matched for peak analgesia .',\n",
      "               'uri': 'https://www.ncbi.nlm.nih.gov/pubmed/25630571'},\n",
      "              {'date': None,\n",
      "               'evidence_type': 'http://purl.obolibrary.org/obo/ECO_0000204',\n",
      "               'id': 'PUBMED:25630571',\n",
      "               'name': 'The role of nicotine-induced rat brain CYP2D in the '\n",
      "                       'central metabolic activation of peripherally '\n",
      "                       'administered codeine and resulting analgesia was '\n",
      "                       'investigated .',\n",
      "               'uri': 'https://www.ncbi.nlm.nih.gov/pubmed/25630571'},\n",
      "              {'date': None,\n",
      "               'evidence_type': 'http://purl.obolibrary.org/obo/ECO_0000204',\n",
      "               'id': 'PUBMED:15051713',\n",
      "               'name': 'In contrast , when expressed in Neuro2a cells , brain '\n",
      "                       'variant CYP2D7 metabolized codeine to morphine with '\n",
      "                       'greater efficiency compared with the corresponding '\n",
      "                       'activity in cells expressing CYP2D6 .',\n",
      "               'uri': 'https://www.ncbi.nlm.nih.gov/pubmed/15051713'},\n",
      "              {'date': None,\n",
      "               'evidence_type': 'http://purl.obolibrary.org/obo/ECO_0000204',\n",
      "               'id': 'PUBMED:25630571',\n",
      "               'name': 'UNASSIGNED : CYP2D metabolically activates codeine to '\n",
      "                       'morphine , which is required for codeine analgesia .',\n",
      "               'uri': 'https://www.ncbi.nlm.nih.gov/pubmed/25630571'},\n",
      "              {'date': None,\n",
      "               'evidence_type': 'http://purl.obolibrary.org/obo/ECO_0000204',\n",
      "               'id': 'PUBMED:18838503',\n",
      "               'name': 'Furthermore , CYP2D7 did not produce any morphine from '\n",
      "                       'codeine .',\n",
      "               'uri': 'https://www.ncbi.nlm.nih.gov/pubmed/18838503'}],\n",
      " 'id': '33560056',\n",
      " 'is_defined_by': None,\n",
      " 'provided_by': None,\n",
      " 'qualifiers': None}\n"
     ]
    }
   ],
   "source": [
    "evidence = gnbr_statements.get_statement_details(statement_id=33560056)\n",
    "pprint(evidence)"
   ]
  },
  {
   "cell_type": "markdown",
   "metadata": {},
   "source": [
    "##### OCT1"
   ]
  },
  {
   "cell_type": "code",
   "execution_count": 14,
   "metadata": {},
   "outputs": [
    {
     "name": "stdout",
     "output_type": "stream",
     "text": [
      "{'annotation': None,\n",
      " 'evidence': [{'date': None,\n",
      "               'evidence_type': 'http://purl.obolibrary.org/obo/ECO_0000204',\n",
      "               'id': 'PUBMED:27128732',\n",
      "               'name': 'Increased odds ratio of early discontinuation of '\n",
      "                       'metformin was only associated with codeine , an '\n",
      "                       'inhibitor of organic_cation_transporter_1 in both '\n",
      "                       'cohorts -LSB- adjusted odds ratio -LRB- OR -RRB- in '\n",
      "                       'Danish cohort -LRB- 95 % CI -RRB- : 1.13 -LRB- '\n",
      "                       '1.02-1.26 -RRB- , adjusted OR in American cohort -LRB- '\n",
      "                       '95 % CI -RRB- : 1.32 -LRB- 1.19-1.47 -RRB- -RSB- .',\n",
      "               'uri': 'https://www.ncbi.nlm.nih.gov/pubmed/27128732'}],\n",
      " 'id': '33560061',\n",
      " 'is_defined_by': None,\n",
      " 'provided_by': None,\n",
      " 'qualifiers': None}\n"
     ]
    }
   ],
   "source": [
    "evidence = gnbr_statements.get_statement_details(statement_id=33560061)\n",
    "pprint(evidence)"
   ]
  },
  {
   "cell_type": "markdown",
   "metadata": {},
   "source": [
    "## Conclusion\n",
    "Not a bad start.  We see that GNBR does return all of the correct genes, but they are not all ranked highly.  We also get back a number of results that are valid, but not necessarily the stuff of curated databases.  In this particular case, we see off targets, as well as some obscure and contraversial results, and a couple of true errors.  Being able to inspect the sentences makes it pretty easy to follow up and sort these out.  However, this taks might be daunting for larger, more complex pathways."
   ]
  },
  {
   "cell_type": "markdown",
   "metadata": {},
   "source": [
    "#### Post Script\n",
    "Below is some prototype code using the neo4j bolt interface for an alternative method of querying.  It doesn't seem to do much better."
   ]
  },
  {
   "cell_type": "code",
   "execution_count": 15,
   "metadata": {},
   "outputs": [],
   "source": [
    "from neo4j import GraphDatabase\n",
    "\n",
    "driver = GraphDatabase.driver(\"bolt://localhost:7687\", auth=('',''))\n",
    "\n",
    "def pk_gene(tx, source):\n",
    "    query = \"\"\"\n",
    "    MATCH p=(:Chemical {uri: $source})-[:STATEMENT]->(:Gene)\n",
    "    RETURN nodes(p) as n, relationships(p) as r\n",
    "    \"\"\"\n",
    "    result = []\n",
    "    for record in tx.run(query, source=source):\n",
    "        result.extend(record['r'])\n",
    "    return result\n",
    "\n",
    "\n",
    "\n",
    "def pk_score(relationship):\n",
    "    score = max( [relationship[i] for i in ['O','X','Z']] )\n",
    "    return score\n",
    "\n",
    "def max_score(relationship):\n",
    "    score = max(relationship.values())\n",
    "    return score"
   ]
  },
  {
   "cell_type": "code",
   "execution_count": 16,
   "metadata": {},
   "outputs": [
    {
     "name": "stdout",
     "output_type": "stream",
     "text": [
      "['codeine', 'OCT1']\n",
      "['codeine', 'UGT2B4']\n",
      "['codeine', 'CYP2D']\n",
      "['codeine', 'CYP2D6']\n",
      "['codeine', 'GH']\n",
      "['codeine', 'UGT2B7']\n",
      "['codeine', 'CO2']\n",
      "['codeine', 'PGD2']\n",
      "['codeine', 'G6PD']\n",
      "['codeine', 'CYP3A4']\n"
     ]
    }
   ],
   "source": [
    "with driver.session() as neo4j:\n",
    "    pk_genes = neo4j.read_transaction(pk_gene, source=ids[0])\n",
    "\n",
    "pk_genes = sorted(pk_genes, key=pk_score, reverse=True)\n",
    "for association in pk_genes:\n",
    "    pprint([x['name'] for x in association.nodes])"
   ]
  },
  {
   "cell_type": "code",
   "execution_count": null,
   "metadata": {},
   "outputs": [],
   "source": []
  }
 ],
 "metadata": {
  "kernelspec": {
   "display_name": "Python 3",
   "language": "python",
   "name": "python3"
  },
  "language_info": {
   "codemirror_mode": {
    "name": "ipython",
    "version": 3
   },
   "file_extension": ".py",
   "mimetype": "text/x-python",
   "name": "python",
   "nbconvert_exporter": "python",
   "pygments_lexer": "ipython3",
   "version": "3.6.5"
  }
 },
 "nbformat": 4,
 "nbformat_minor": 2
}

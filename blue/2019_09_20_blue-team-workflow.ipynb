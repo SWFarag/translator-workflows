{
 "cells": [
  {
   "cell_type": "markdown",
   "metadata": {},
   "source": [
    "This notebook demonstrates the Blue Team's solution to **workflows 1 and 2**, which takes a **disease** as input and return relevant **genes and pathways**. Note, some of the boilerplate code (API calls for instance) is wrapped in `biggim.py`, which contains API calls written by John Earls and Theo Knijnenburg. You can learn more about BigGIM in in their <a href=\"https://github.com/NCATS-Tangerine/cq-notebooks/tree/master/BigGIM\">github</a>. \n",
    "\n",
    "Notebook written by: Samson Fong, John Earls, Theo Knijnenburg, and Aaron Gary. \n",
    "\n",
    "# Workflow\n",
    "\n",
    "<img src=\"images/workflow.png\">\n",
    "\n",
    "Here, we will utitlize BioThings from the orange team to help identity a small relevant disease gene set and tissue. From there, we will query BigGIM for the similarity data between genes and finally utilize DDOT to construct hierarchical pathways from this data. \n",
    "\n",
    "In the implementations below, the tissue is currently hardcoded. This will be revised in another version of the workflow."
   ]
  },
  {
   "cell_type": "code",
   "execution_count": 1,
   "metadata": {},
   "outputs": [],
   "source": [
    "%load_ext autoreload \n",
    "%autoreload 2\n",
    "\n",
    "import json\n",
    "import requests\n",
    "import pandas as pd\n",
    "from biggim import doid_to_genes, call_biggim\n",
    "\n",
    "ucsd_hostname = 'ec2-34-216-18-179.us-west-2.compute.amazonaws.com'"
   ]
  },
  {
   "cell_type": "markdown",
   "metadata": {},
   "source": [
    "## Implementation"
   ]
  },
  {
   "cell_type": "code",
   "execution_count": 2,
   "metadata": {
    "scrolled": true
   },
   "outputs": [
    {
     "name": "stderr",
     "output_type": "stream",
     "text": [
      "INFO:root:Geting HP ids from DOID\n"
     ]
    },
    {
     "name": "stdout",
     "output_type": "stream",
     "text": [
      "http://biothings.io/explorer/api/v2/directinput2output?input_prefix=doid&output_prefix=hp&input_value=678&format=translator\n"
     ]
    },
    {
     "name": "stderr",
     "output_type": "stream",
     "text": [
      "INFO:root:Geting OMIM from HP ids\n"
     ]
    },
    {
     "name": "stdout",
     "output_type": "stream",
     "text": [
      "Returned 26 phenotypes\n",
      "http://biothings.io/explorer/api/v2/directinput2output?input_prefix=hp&output_prefix=omim.disease&input_value=0002171&format=translator\n",
      "http://biothings.io/explorer/api/v2/directinput2output?input_prefix=hp&output_prefix=omim.disease&input_value=0000726&format=translator\n",
      "http://biothings.io/explorer/api/v2/directinput2output?input_prefix=hp&output_prefix=omim.disease&input_value=0000514&format=translator\n",
      "http://biothings.io/explorer/api/v2/directinput2output?input_prefix=hp&output_prefix=omim.disease&input_value=0000511&format=translator\n",
      "http://biothings.io/explorer/api/v2/directinput2output?input_prefix=hp&output_prefix=omim.disease&input_value=0012535&format=translator\n"
     ]
    },
    {
     "name": "stderr",
     "output_type": "stream",
     "text": [
      "WARNING:root:{'status': 400, 'error message': \"Endpoints could be located connecting hp to omim.disease. The endpoints are ['http://mydisease.info/v1/queryphenotypetodisease']. However, no output could be found using the endpoint!\"}\n"
     ]
    },
    {
     "name": "stdout",
     "output_type": "stream",
     "text": [
      "http://biothings.io/explorer/api/v2/directinput2output?input_prefix=hp&output_prefix=omim.disease&input_value=0000623&format=translator\n",
      "http://biothings.io/explorer/api/v2/directinput2output?input_prefix=hp&output_prefix=omim.disease&input_value=0002172&format=translator\n",
      "http://biothings.io/explorer/api/v2/directinput2output?input_prefix=hp&output_prefix=omim.disease&input_value=0000605&format=translator\n"
     ]
    },
    {
     "name": "stderr",
     "output_type": "stream",
     "text": [
      "INFO:root:Geting genes from OMIM\n"
     ]
    },
    {
     "name": "stdout",
     "output_type": "stream",
     "text": [
      "Returned 26 mendelian diseases\n",
      "http://biothings.io/explorer/api/v2/directinput2output?input_prefix=omim.disease&output_prefix=ncbigene&input_value=256000&format=translator\n",
      "http://biothings.io/explorer/api/v2/directinput2output?input_prefix=omim.disease&output_prefix=ncbigene&input_value=614959&format=translator\n",
      "http://biothings.io/explorer/api/v2/directinput2output?input_prefix=omim.disease&output_prefix=ncbigene&input_value=225753&format=translator\n",
      "http://biothings.io/explorer/api/v2/directinput2output?input_prefix=omim.disease&output_prefix=ncbigene&input_value=604484&format=translator\n",
      "http://biothings.io/explorer/api/v2/directinput2output?input_prefix=omim.disease&output_prefix=ncbigene&input_value=300957&format=translator\n",
      "http://biothings.io/explorer/api/v2/directinput2output?input_prefix=omim.disease&output_prefix=ncbigene&input_value=608033&format=translator\n",
      "http://biothings.io/explorer/api/v2/directinput2output?input_prefix=omim.disease&output_prefix=ncbigene&input_value=125700&format=translator\n",
      "http://biothings.io/explorer/api/v2/directinput2output?input_prefix=omim.disease&output_prefix=ncbigene&input_value=606688&format=translator\n",
      "http://biothings.io/explorer/api/v2/directinput2output?input_prefix=omim.disease&output_prefix=ncbigene&input_value=604218&format=translator\n",
      "http://biothings.io/explorer/api/v2/directinput2output?input_prefix=omim.disease&output_prefix=ncbigene&input_value=615119&format=translator\n",
      "http://biothings.io/explorer/api/v2/directinput2output?input_prefix=omim.disease&output_prefix=ncbigene&input_value=243100&format=translator\n"
     ]
    },
    {
     "name": "stderr",
     "output_type": "stream",
     "text": [
      "WARNING:root:{'status': 400, 'error message': \"Endpoints could be located connecting omim.disease to ncbigene. The endpoints are ['http://mydisease.info/v1/querydiseasetogene']. However, no output could be found using the endpoint!\"}\n"
     ]
    },
    {
     "name": "stdout",
     "output_type": "stream",
     "text": [
      "http://biothings.io/explorer/api/v2/directinput2output?input_prefix=omim.disease&output_prefix=ncbigene&input_value=502500&format=translator\n",
      "http://biothings.io/explorer/api/v2/directinput2output?input_prefix=omim.disease&output_prefix=ncbigene&input_value=118700&format=translator\n",
      "http://biothings.io/explorer/api/v2/directinput2output?input_prefix=omim.disease&output_prefix=ncbigene&input_value=125320&format=translator\n"
     ]
    },
    {
     "name": "stderr",
     "output_type": "stream",
     "text": [
      "WARNING:root:{'status': 400, 'error message': \"Endpoints could be located connecting omim.disease to ncbigene. The endpoints are ['http://mydisease.info/v1/querydiseasetogene']. However, no output could be found using the endpoint!\"}\n"
     ]
    },
    {
     "name": "stdout",
     "output_type": "stream",
     "text": [
      "http://biothings.io/explorer/api/v2/directinput2output?input_prefix=omim.disease&output_prefix=ncbigene&input_value=205200&format=translator\n"
     ]
    },
    {
     "name": "stderr",
     "output_type": "stream",
     "text": [
      "WARNING:root:{'status': 400, 'error message': \"Endpoints could be located connecting omim.disease to ncbigene. The endpoints are ['http://mydisease.info/v1/querydiseasetogene']. However, no output could be found using the endpoint!\"}\n"
     ]
    },
    {
     "name": "stdout",
     "output_type": "stream",
     "text": [
      "http://biothings.io/explorer/api/v2/directinput2output?input_prefix=omim.disease&output_prefix=ncbigene&input_value=236690&format=translator\n",
      "http://biothings.io/explorer/api/v2/directinput2output?input_prefix=omim.disease&output_prefix=ncbigene&input_value=127750&format=translator\n",
      "http://biothings.io/explorer/api/v2/directinput2output?input_prefix=omim.disease&output_prefix=ncbigene&input_value=606640&format=translator\n",
      "http://biothings.io/explorer/api/v2/directinput2output?input_prefix=omim.disease&output_prefix=ncbigene&input_value=176600&format=translator\n"
     ]
    },
    {
     "name": "stderr",
     "output_type": "stream",
     "text": [
      "WARNING:root:{'status': 400, 'error message': \"Endpoints could be located connecting omim.disease to ncbigene. The endpoints are ['http://mydisease.info/v1/querydiseasetogene']. However, no output could be found using the endpoint!\"}\n"
     ]
    },
    {
     "name": "stdout",
     "output_type": "stream",
     "text": [
      "http://biothings.io/explorer/api/v2/directinput2output?input_prefix=omim.disease&output_prefix=ncbigene&input_value=610246&format=translator\n",
      "http://biothings.io/explorer/api/v2/directinput2output?input_prefix=omim.disease&output_prefix=ncbigene&input_value=271322&format=translator\n",
      "http://biothings.io/explorer/api/v2/directinput2output?input_prefix=omim.disease&output_prefix=ncbigene&input_value=260300&format=translator\n",
      "http://biothings.io/explorer/api/v2/directinput2output?input_prefix=omim.disease&output_prefix=ncbigene&input_value=615217&format=translator\n",
      "http://biothings.io/explorer/api/v2/directinput2output?input_prefix=omim.disease&output_prefix=ncbigene&input_value=615957&format=translator\n",
      "http://biothings.io/explorer/api/v2/directinput2output?input_prefix=omim.disease&output_prefix=ncbigene&input_value=183090&format=translator\n",
      "http://biothings.io/explorer/api/v2/directinput2output?input_prefix=omim.disease&output_prefix=ncbigene&input_value=610245&format=translator\n",
      "http://biothings.io/explorer/api/v2/directinput2output?input_prefix=omim.disease&output_prefix=ncbigene&input_value=614867&format=translator\n",
      "http://biothings.io/explorer/api/v2/directinput2output?input_prefix=omim.disease&output_prefix=ncbigene&input_value=614153&format=translator\n",
      "http://biothings.io/explorer/api/v2/directinput2output?input_prefix=omim.disease&output_prefix=ncbigene&input_value=616053&format=translator\n"
     ]
    },
    {
     "name": "stderr",
     "output_type": "stream",
     "text": [
      "WARNING:root:{'status': 400, 'error message': \"Endpoints could be located connecting omim.disease to ncbigene. The endpoints are ['http://mydisease.info/v1/querydiseasetogene']. However, no output could be found using the endpoint!\"}\n"
     ]
    },
    {
     "name": "stdout",
     "output_type": "stream",
     "text": [
      "http://biothings.io/explorer/api/v2/directinput2output?input_prefix=omim.disease&output_prefix=ncbigene&input_value=257220&format=translator\n",
      "http://biothings.io/explorer/api/v2/directinput2output?input_prefix=omim.disease&output_prefix=ncbigene&input_value=607625&format=translator\n",
      "http://biothings.io/explorer/api/v2/directinput2output?input_prefix=omim.disease&output_prefix=ncbigene&input_value=606693&format=translator\n",
      "http://biothings.io/explorer/api/v2/directinput2output?input_prefix=omim.disease&output_prefix=ncbigene&input_value=617145&format=translator\n"
     ]
    },
    {
     "name": "stderr",
     "output_type": "stream",
     "text": [
      "WARNING:root:{'status': 400, 'error message': \"Endpoints could be located connecting omim.disease to ncbigene. The endpoints are ['http://mydisease.info/v1/querydiseasetogene']. However, no output could be found using the endpoint!\"}\n"
     ]
    },
    {
     "name": "stdout",
     "output_type": "stream",
     "text": [
      "http://biothings.io/explorer/api/v2/directinput2output?input_prefix=omim.disease&output_prefix=ncbigene&input_value=168605&format=translator\n",
      "http://biothings.io/explorer/api/v2/directinput2output?input_prefix=omim.disease&output_prefix=ncbigene&input_value=617308&format=translator\n"
     ]
    },
    {
     "name": "stderr",
     "output_type": "stream",
     "text": [
      "WARNING:root:{'status': 400, 'error message': \"Endpoints could be located connecting omim.disease to ncbigene. The endpoints are ['http://mydisease.info/v1/querydiseasetogene']. However, no output could be found using the endpoint!\"}\n"
     ]
    },
    {
     "name": "stdout",
     "output_type": "stream",
     "text": [
      "http://biothings.io/explorer/api/v2/directinput2output?input_prefix=omim.disease&output_prefix=ncbigene&input_value=109150&format=translator\n",
      "http://biothings.io/explorer/api/v2/directinput2output?input_prefix=omim.disease&output_prefix=ncbigene&input_value=231005&format=translator\n",
      "http://biothings.io/explorer/api/v2/directinput2output?input_prefix=omim.disease&output_prefix=ncbigene&input_value=164400&format=translator\n",
      "http://biothings.io/explorer/api/v2/directinput2output?input_prefix=omim.disease&output_prefix=ncbigene&input_value=164500&format=translator\n",
      "http://biothings.io/explorer/api/v2/directinput2output?input_prefix=omim.disease&output_prefix=ncbigene&input_value=183090&format=translator\n",
      "http://biothings.io/explorer/api/v2/directinput2output?input_prefix=omim.disease&output_prefix=ncbigene&input_value=613855&format=translator\n",
      "http://biothings.io/explorer/api/v2/directinput2output?input_prefix=omim.disease&output_prefix=ncbigene&input_value=600116&format=translator\n",
      "http://biothings.io/explorer/api/v2/directinput2output?input_prefix=omim.disease&output_prefix=ncbigene&input_value=614203&format=translator\n",
      "http://biothings.io/explorer/api/v2/directinput2output?input_prefix=omim.disease&output_prefix=ncbigene&input_value=607688&format=translator\n"
     ]
    },
    {
     "name": "stderr",
     "output_type": "stream",
     "text": [
      "WARNING:root:{'status': 400, 'error message': \"Endpoints could be located connecting omim.disease to ncbigene. The endpoints are ['http://mydisease.info/v1/querydiseasetogene']. However, no output could be found using the endpoint!\"}\n"
     ]
    },
    {
     "name": "stdout",
     "output_type": "stream",
     "text": [
      "http://biothings.io/explorer/api/v2/directinput2output?input_prefix=omim.disease&output_prefix=ncbigene&input_value=615530&format=translator\n",
      "http://biothings.io/explorer/api/v2/directinput2output?input_prefix=omim.disease&output_prefix=ncbigene&input_value=616410&format=translator\n",
      "http://biothings.io/explorer/api/v2/directinput2output?input_prefix=omim.disease&output_prefix=ncbigene&input_value=260300&format=translator\n",
      "http://biothings.io/explorer/api/v2/directinput2output?input_prefix=omim.disease&output_prefix=ncbigene&input_value=605909&format=translator\n",
      "http://biothings.io/explorer/api/v2/directinput2output?input_prefix=omim.disease&output_prefix=ncbigene&input_value=616361&format=translator\n"
     ]
    },
    {
     "name": "stderr",
     "output_type": "stream",
     "text": [
      "WARNING:root:{'status': 400, 'error message': \"Endpoints could be located connecting omim.disease to ncbigene. The endpoints are ['http://mydisease.info/v1/querydiseasetogene']. However, no output could be found using the endpoint!\"}\n"
     ]
    },
    {
     "name": "stdout",
     "output_type": "stream",
     "text": [
      "http://biothings.io/explorer/api/v2/directinput2output?input_prefix=omim.disease&output_prefix=ncbigene&input_value=607060&format=translator\n",
      "http://biothings.io/explorer/api/v2/directinput2output?input_prefix=omim.disease&output_prefix=ncbigene&input_value=617225&format=translator\n"
     ]
    },
    {
     "name": "stderr",
     "output_type": "stream",
     "text": [
      "WARNING:root:{'status': 400, 'error message': \"Endpoints could be located connecting omim.disease to ncbigene. The endpoints are ['http://mydisease.info/v1/querydiseasetogene']. However, no output could be found using the endpoint!\"}\n"
     ]
    },
    {
     "name": "stdout",
     "output_type": "stream",
     "text": [
      "http://biothings.io/explorer/api/v2/directinput2output?input_prefix=omim.disease&output_prefix=ncbigene&input_value=612953&format=translator\n",
      "http://biothings.io/explorer/api/v2/directinput2output?input_prefix=omim.disease&output_prefix=ncbigene&input_value=615530&format=translator\n",
      "http://biothings.io/explorer/api/v2/directinput2output?input_prefix=omim.disease&output_prefix=ncbigene&input_value=105550&format=translator\n"
     ]
    },
    {
     "name": "stderr",
     "output_type": "stream",
     "text": [
      "WARNING:root:{'status': 400, 'error message': \"Endpoints could be located connecting omim.disease to ncbigene. The endpoints are ['http://mydisease.info/v1/querydiseasetogene']. However, no output could be found using the endpoint!\"}\n"
     ]
    },
    {
     "name": "stdout",
     "output_type": "stream",
     "text": [
      "http://biothings.io/explorer/api/v2/directinput2output?input_prefix=omim.disease&output_prefix=ncbigene&input_value=617008&format=translator\n"
     ]
    },
    {
     "name": "stderr",
     "output_type": "stream",
     "text": [
      "WARNING:root:{'status': 400, 'error message': \"Endpoints could be located connecting omim.disease to ncbigene. The endpoints are ['http://mydisease.info/v1/querydiseasetogene']. However, no output could be found using the endpoint!\"}\n"
     ]
    },
    {
     "name": "stdout",
     "output_type": "stream",
     "text": [
      "http://biothings.io/explorer/api/v2/directinput2output?input_prefix=omim.disease&output_prefix=ncbigene&input_value=606693&format=translator\n",
      "http://biothings.io/explorer/api/v2/directinput2output?input_prefix=omim.disease&output_prefix=ncbigene&input_value=108600&format=translator\n",
      "http://biothings.io/explorer/api/v2/directinput2output?input_prefix=omim.disease&output_prefix=ncbigene&input_value=609454&format=translator\n",
      "http://biothings.io/explorer/api/v2/directinput2output?input_prefix=omim.disease&output_prefix=ncbigene&input_value=123400&format=translator\n",
      "Returned 59 genes\n"
     ]
    }
   ],
   "source": [
    "# Getting seed genes\n",
    "genes = doid_to_genes([\"678\"])"
   ]
  },
  {
   "cell_type": "markdown",
   "metadata": {},
   "source": [
    "### Calling BigGIM"
   ]
  },
  {
   "cell_type": "code",
   "execution_count": 3,
   "metadata": {
    "scrolled": true
   },
   "outputs": [
    {
     "name": "stdout",
     "output_type": "stream",
     "text": [
      "Sent: GET http://biggim.ncats.io/api/biggim/query?restriction_gt=GTEx_Brain_Correlation%2C0.5&table=BigGIM_70_v1&columns=GTEx_Brain_Correlation&ids1=617%2C123263%2C4724%2C5160%2C6389%2C1892%2C51601%2C4728%2C79133%2C137682%2C1355%2C4705%2C4697%2C4704%2C55967%2C79731%2C4719%2C4720%2C4723%2C374291%2C6834%2C4540%2C55572%2C51079%2C91942%2C100131801%2C4537%2C51204%2C1738%2C80704%2C4729%2C4722%2C5428%2C9997%2C4508%2C4695%2C57582%2C283989%2C50989%2C10342%2C57187%2C5903%2C8626%2C551%2C7466%2C673%2C1499%2C5621%2C5274%2C1355%2C4536%2C4535%2C111%2C7080%2C2074%2C1161%2C2670%2C4914%2C4803%2C3630%2C23317%2C4099%2C3481%2C177%2C6620%2C2629%2C4915%2C199%2C6648%2C4929%2C3480%2C6622%2C3482%2C1906%2C8678%2C3643%2C9627%2C253%2C10939%2C6311%2C25793%2C6622%2C23533%2C60481%2C6311%2C5173%2C5828%2C10528%2C4864%2C3988%2C10577%2C23400%2C1639%2C4287%2C2629%2C6310%2C6314%2C6311%2C785%2C5071%2C55737%2C8867%2C7222%2C25793%2C6622%2C65018%2C120892%2C8398%2C8867%2C23400%2C114610%2C6843%2C619408%2C216%2C319101%2C79644%2C22926%2C151507%2C79974%2C5621%2C780851%2C7280%2C3822%2C8360%2C692157%2C3119&limit=100000\n",
      "{\n",
      "  \"status\": \"submitted\",\n",
      "  \"request_id\": \"7f57b8f2-cbe3-4304-8be1-771b92cd823d\"\n",
      "}\n",
      "Sent: GET http://biggim.ncats.io/api/biggim/status/7f57b8f2-cbe3-4304-8be1-771b92cd823d?None\n",
      "{\n",
      "  \"status\": \"running\",\n",
      "  \"message\": \"Query job is running.\",\n",
      "  \"request_id\": \"7f57b8f2-cbe3-4304-8be1-771b92cd823d\"\n",
      "}\n",
      "Checking again\n",
      "Sent: GET http://biggim.ncats.io/api/biggim/status/7f57b8f2-cbe3-4304-8be1-771b92cd823d?None\n",
      "{\n",
      "  \"status\": \"running\",\n",
      "  \"message\": \"Query job is running.\",\n",
      "  \"request_id\": \"7f57b8f2-cbe3-4304-8be1-771b92cd823d\"\n",
      "}\n",
      "Checking again\n",
      "Sent: GET http://biggim.ncats.io/api/biggim/status/7f57b8f2-cbe3-4304-8be1-771b92cd823d?None\n",
      "{\n",
      "  \"status\": \"running\",\n",
      "  \"message\": \"Extraction job is running.\",\n",
      "  \"request_id\": \"7f57b8f2-cbe3-4304-8be1-771b92cd823d\"\n",
      "}\n",
      "Checking again\n",
      "Sent: GET http://biggim.ncats.io/api/biggim/status/7f57b8f2-cbe3-4304-8be1-771b92cd823d?None\n",
      "{\n",
      "  \"status\": \"complete\",\n",
      "  \"rows\": 100000,\n",
      "  \"processed_data\": \"1.52 GB\",\n",
      "  \"request_id\": \"7f57b8f2-cbe3-4304-8be1-771b92cd823d\",\n",
      "  \"request_uri\": [\n",
      "    \"https://storage.googleapis.com/ncats_bigquery_results/7f57b8f2-cbe3-4304-8be1-771b92cd823d000000000000.csv\"\n",
      "  ],\n",
      "  \"size\": \"3.17 MB\"\n",
      "}\n"
     ]
    }
   ],
   "source": [
    "expanded_genes = call_biggim(\n",
    "    genes, \n",
    "    [\"GTEx_Brain_Correlation\"], \n",
    "    100000, \n",
    "    query_id2=False, \n",
    "    return_genes=True, \n",
    "    limit_genes=250,\n",
    ")"
   ]
  },
  {
   "cell_type": "code",
   "execution_count": 4,
   "metadata": {
    "scrolled": true
   },
   "outputs": [
    {
     "name": "stdout",
     "output_type": "stream",
     "text": [
      "Sent: GET http://biggim.ncats.io/api/biggim/query?restriction_gt=GTEx_Brain_Correlation%2C0.5&table=BigGIM_70_v1&columns=GTEx_Brain_Correlation&ids1=199%2C291%2C476%2C491%2C506%2C673%2C695%2C719%2C783%2C785%2C814%2C942%2C951%2C972%2C1213%2C1267%2C1432%2C1436%2C1452%2C2065%2C2071%2C2123%2C2207%2C2214%2C2705%2C2861%2C3093%2C3122%2C3420%2C3689%2C3988%2C4099%2C4141%2C4173%2C4209%2C4340%2C4591%2C4644%2C4705%2C4720%2C4723%2C4915%2C4943%2C5001%2C5048%2C5071%2C5168%2C5291%2C5428%2C5546%2C5584%2C5601%2C5709%2C5814%2C6252%2C6257%2C6314%2C6416%2C6709%2C6785%2C6904%2C7305%2C7342%2C7368%2C7385%2C7644%2C7869%2C7874%2C8208%2C8480%2C8526%2C8612%2C8720%2C8729%2C8731%2C8803%2C8841%2C8867%2C8874%2C8893%2C8992%2C9063%2C9093%2C9110%2C9329%2C9331%2C9382%2C9397%2C9450%2C9475%2C9515%2C9520%2C9677%2C9690%2C9701%2C9725%2C9847%2C9913%2C10000%2C10059%2C10129%2C10367%2C10577%2C10645%2C10681%2C10844%2C10859%2C10868%2C10939%2C10989%2C11006%2C11102%2C11128%2C11135%2C11143%2C11146%2C11198%2C11322%2C11342%2C22866%2C22869%2C22907%2C22920%2C22926%2C22930%2C22950%2C23039%2C23047%2C23057%2C23162%2C23163%2C23177%2C23228%2C23229%2C23252%2C23276%2C23308%2C23312%2C23317%2C23326%2C23332%2C23335%2C23362%2C23446%2C23517%2C23533%2C23543%2C23588%2C23644%2C25831%2C25852%2C26057%2C26155%2C26276%2C27165%2C29094%2C29102%2C29855%2C51059%2C51132%2C51366%2C51700%2C51747%2C53616%2C54440%2C54497%2C54518%2C54870%2C54963%2C55102%2C55153%2C55206%2C55228%2C55610%2C55665%2C55689%2C55705%2C55737%2C55823%2C55844%2C56850%2C56965%2C57062%2C57187%2C57282%2C57531%2C57541%2C57582%2C57692%2C57805%2C63891%2C63908%2C64149%2C64210%2C64432%2C64682%2C64760%2C64837%2C65012%2C65250%2C79065%2C79089%2C79133%2C79137%2C79152%2C79184%2C79608%2C79673%2C81566%2C84255%2C84451%2C84461%2C84504%2C84735%2C84881%2C84892%2C85414%2C90809%2C91683%2C91782%2C94274%2C112755%2C112936%2C116362%2C118427%2C118442%2C118813%2C122553%2C123263%2C124359%2C126731%2C130026%2C134829%2C157922%2C160518%2C163255%2C196403%2C219736%2C219749%2C221545%2C261726%2C283989%2C284161%2C284339%2C284459%2C285175%2C317781%2C339287%2C348938%2C730094&limit=1000000000&ids2=199%2C291%2C476%2C491%2C506%2C673%2C695%2C719%2C783%2C785%2C814%2C942%2C951%2C972%2C1213%2C1267%2C1432%2C1436%2C1452%2C2065%2C2071%2C2123%2C2207%2C2214%2C2705%2C2861%2C3093%2C3122%2C3420%2C3689%2C3988%2C4099%2C4141%2C4173%2C4209%2C4340%2C4591%2C4644%2C4705%2C4720%2C4723%2C4915%2C4943%2C5001%2C5048%2C5071%2C5168%2C5291%2C5428%2C5546%2C5584%2C5601%2C5709%2C5814%2C6252%2C6257%2C6314%2C6416%2C6709%2C6785%2C6904%2C7305%2C7342%2C7368%2C7385%2C7644%2C7869%2C7874%2C8208%2C8480%2C8526%2C8612%2C8720%2C8729%2C8731%2C8803%2C8841%2C8867%2C8874%2C8893%2C8992%2C9063%2C9093%2C9110%2C9329%2C9331%2C9382%2C9397%2C9450%2C9475%2C9515%2C9520%2C9677%2C9690%2C9701%2C9725%2C9847%2C9913%2C10000%2C10059%2C10129%2C10367%2C10577%2C10645%2C10681%2C10844%2C10859%2C10868%2C10939%2C10989%2C11006%2C11102%2C11128%2C11135%2C11143%2C11146%2C11198%2C11322%2C11342%2C22866%2C22869%2C22907%2C22920%2C22926%2C22930%2C22950%2C23039%2C23047%2C23057%2C23162%2C23163%2C23177%2C23228%2C23229%2C23252%2C23276%2C23308%2C23312%2C23317%2C23326%2C23332%2C23335%2C23362%2C23446%2C23517%2C23533%2C23543%2C23588%2C23644%2C25831%2C25852%2C26057%2C26155%2C26276%2C27165%2C29094%2C29102%2C29855%2C51059%2C51132%2C51366%2C51700%2C51747%2C53616%2C54440%2C54497%2C54518%2C54870%2C54963%2C55102%2C55153%2C55206%2C55228%2C55610%2C55665%2C55689%2C55705%2C55737%2C55823%2C55844%2C56850%2C56965%2C57062%2C57187%2C57282%2C57531%2C57541%2C57582%2C57692%2C57805%2C63891%2C63908%2C64149%2C64210%2C64432%2C64682%2C64760%2C64837%2C65012%2C65250%2C79065%2C79089%2C79133%2C79137%2C79152%2C79184%2C79608%2C79673%2C81566%2C84255%2C84451%2C84461%2C84504%2C84735%2C84881%2C84892%2C85414%2C90809%2C91683%2C91782%2C94274%2C112755%2C112936%2C116362%2C118427%2C118442%2C118813%2C122553%2C123263%2C124359%2C126731%2C130026%2C134829%2C157922%2C160518%2C163255%2C196403%2C219736%2C219749%2C221545%2C261726%2C283989%2C284161%2C284339%2C284459%2C285175%2C317781%2C339287%2C348938%2C730094\n",
      "{\n",
      "  \"status\": \"submitted\",\n",
      "  \"request_id\": \"ffd4f9d8-7279-4537-ac17-89601c1bf9b7\"\n",
      "}\n",
      "Sent: GET http://biggim.ncats.io/api/biggim/status/ffd4f9d8-7279-4537-ac17-89601c1bf9b7?None\n",
      "{\n",
      "  \"status\": \"running\",\n",
      "  \"message\": \"Query job is running.\",\n",
      "  \"request_id\": \"ffd4f9d8-7279-4537-ac17-89601c1bf9b7\"\n",
      "}\n",
      "Checking again\n",
      "Sent: GET http://biggim.ncats.io/api/biggim/status/ffd4f9d8-7279-4537-ac17-89601c1bf9b7?None\n",
      "{\n",
      "  \"status\": \"running\",\n",
      "  \"message\": \"Query job is running.\",\n",
      "  \"request_id\": \"ffd4f9d8-7279-4537-ac17-89601c1bf9b7\"\n",
      "}\n",
      "Checking again\n",
      "Sent: GET http://biggim.ncats.io/api/biggim/status/ffd4f9d8-7279-4537-ac17-89601c1bf9b7?None\n",
      "{\n",
      "  \"status\": \"running\",\n",
      "  \"message\": \"Extraction job is running.\",\n",
      "  \"request_id\": \"ffd4f9d8-7279-4537-ac17-89601c1bf9b7\"\n",
      "}\n",
      "Checking again\n",
      "Sent: GET http://biggim.ncats.io/api/biggim/status/ffd4f9d8-7279-4537-ac17-89601c1bf9b7?None\n",
      "{\n",
      "  \"status\": \"complete\",\n",
      "  \"rows\": 19497,\n",
      "  \"processed_data\": \"1.52 GB\",\n",
      "  \"request_id\": \"ffd4f9d8-7279-4537-ac17-89601c1bf9b7\",\n",
      "  \"request_uri\": [\n",
      "    \"https://storage.googleapis.com/ncats_bigquery_results/ffd4f9d8-7279-4537-ac17-89601c1bf9b7000000000000.csv\"\n",
      "  ],\n",
      "  \"size\": \"641.05 KB\"\n",
      "}\n"
     ]
    }
   ],
   "source": [
    "network = call_biggim(\n",
    "    expanded_genes, \n",
    "    [\"GTEx_Brain_Correlation\"], \n",
    "    1000000000, \n",
    "    query_id2=True, \n",
    "    return_genes=False, \n",
    ")"
   ]
  },
  {
   "cell_type": "markdown",
   "metadata": {},
   "source": [
    "### Calling DDOT"
   ]
  },
  {
   "cell_type": "code",
   "execution_count": 5,
   "metadata": {
    "scrolled": true
   },
   "outputs": [
    {
     "name": "stdout",
     "output_type": "stream",
     "text": [
      "http://dev.ndexbio.org/#/network/4d86856c-bd13-11e8-98d5-0660b7976219 \n",
      "\n"
     ]
    }
   ],
   "source": [
    "network.iloc[:, 1:].to_csv('tmp.csv', sep='\\t', header=None, index=None)\n",
    "\n",
    "files = {'file': open('tmp.csv', 'rb')}\n",
    "\n",
    "ddot_host = f'http://{ucsd_hostname}:8383'\n",
    "ddot_route = '/api/ontology'\n",
    "ddot_query = '?alpha=0.007&beta=0.5'\n",
    "url = '{}{}{}'.format(ddot_host, ddot_route, ddot_query)\n",
    "\n",
    "ndex_url = 'http://dev.ndexbio.org/#/network/'\n",
    "r = requests.post(url, files=files)\n",
    "if r is not None and r.text is not None:\n",
    "    uuid = r.text\n",
    "    print('{}{}'.format(ndex_url, uuid))"
   ]
  },
  {
   "cell_type": "markdown",
   "metadata": {},
   "source": [
    "The hierarchy itself is stored on NDEx and visible on <a href=\"http://hiview.ucsd.edu\">HiView</a>. To view on HiView, you need the NDEx url (the NDEx sever the hierarchy is hosted on) and the unique identifier (UUID). "
   ]
  },
  {
   "cell_type": "markdown",
   "metadata": {},
   "source": [
    "# Alternative Gene Expansion Method\n",
    "\n",
    "For the expansion of genesets, we can also use random walk to achieve the same goal. There are several ways to pull a network for the random walk. One way is to query BigGIM as follows. \"column\" represents the column of the BigGIM table to use. "
   ]
  },
  {
   "cell_type": "code",
   "execution_count": null,
   "metadata": {},
   "outputs": [],
   "source": [
    "nbgwas_host = f'http://{ucsd_hostname}:5000'\n",
    "nbgwas_route = '/nbgwas'\n",
    "\n",
    "url = '{}{}'.format(nbgwas_host, nbgwas_route)\n",
    "\n",
    "payload = {'seeds': ','.join(genes), 'alpha': '0.2', 'column':'GTEx_Brain_Correlation'}\n",
    "\n",
    "r = requests.post(url, data=payload)\n",
    "if r is not None and r.json() is not None:\n",
    "    print(json.dumps(r.json(), indent=4))"
   ]
  },
  {
   "cell_type": "markdown",
   "metadata": {},
   "source": [
    "Alternatively, you can upload your own network instead of querying BigGIM. Be aware that you would need to ensure the gene names are in the same name space (using `mygene` for instance). "
   ]
  },
  {
   "cell_type": "code",
   "execution_count": null,
   "metadata": {
    "scrolled": false
   },
   "outputs": [],
   "source": [
    "# Convert from Entrez to gene symbol\n",
    "import mygene\n",
    "\n",
    "mg = mygene.MyGeneInfo()\n",
    "query = mg.querymany(','.join(genes), scopes=['entrezgene'], as_dataframe=True)\n",
    "genes_symbol = ','.join(query['symbol'].values.tolist())"
   ]
  },
  {
   "cell_type": "code",
   "execution_count": null,
   "metadata": {
    "scrolled": false
   },
   "outputs": [],
   "source": [
    "files = {'network': open('data/3col_interactions260.csv', 'rb')}\n",
    "\n",
    "nbgwas_host = f'http://{ucsd_hostname}:5000'\n",
    "nbgwas_route = '/nbgwas'\n",
    "\n",
    "url = '{}{}'.format(nbgwas_host, nbgwas_route)\n",
    "\n",
    "payload = {'seeds': genes, 'alpha': '0.8'}\n",
    "\n",
    "r = requests.post(url, files=files, data=payload)\n",
    "if r is not None and r.json() is not None:\n",
    "    print(json.dumps(r.json(), indent=4))"
   ]
  },
  {
   "cell_type": "markdown",
   "metadata": {},
   "source": [
    "Finally, you can also pull from NDEx where there are many networks available for the public. "
   ]
  },
  {
   "cell_type": "code",
   "execution_count": null,
   "metadata": {
    "scrolled": false
   },
   "outputs": [],
   "source": [
    "nbgwas_host = f'http://{ucsd_hostname}:5000'\n",
    "nbgwas_route = '/nbgwas'\n",
    "\n",
    "url = '{}{}'.format(nbgwas_host, nbgwas_route)\n",
    "\n",
    "payload = {'seeds': ','.join(genes), 'alpha': '0.2', 'ndex':'f93f402c-86d4-11e7-a10d-0ac135e8bacf'}\n",
    "\n",
    "r = requests.post(url, data=payload)\n",
    "if r is not None and r.json() is not None:\n",
    "    print(json.dumps(r.json(), indent=4))"
   ]
  },
  {
   "cell_type": "markdown",
   "metadata": {},
   "source": [
    "The following will show the result of the random walk, and the genes can then be ranked by the random walk score. "
   ]
  },
  {
   "cell_type": "code",
   "execution_count": null,
   "metadata": {},
   "outputs": [],
   "source": [
    "pd.DataFrame.from_dict(r.json(), orient='index').sort_values(by=0, ascending=False)"
   ]
  }
 ],
 "metadata": {
  "kernelspec": {
   "display_name": "Python 3",
   "language": "python",
   "name": "python3"
  },
  "language_info": {
   "codemirror_mode": {
    "name": "ipython",
    "version": 3
   },
   "file_extension": ".py",
   "mimetype": "text/x-python",
   "name": "python",
   "nbconvert_exporter": "python",
   "pygments_lexer": "ipython3",
   "version": "3.6.4"
  }
 },
 "nbformat": 4,
 "nbformat_minor": 2
}

{
 "cells": [
  {
   "cell_type": "code",
   "execution_count": 24,
   "metadata": {
    "collapsed": true,
    "deletable": true,
    "editable": true
   },
   "outputs": [],
   "source": [
    "import requests\n",
    "import pandas as pd\n",
    "from IPython.core.display import display, HTML\n",
    "\n",
    "robokop='robokop.renci.org'"
   ]
  },
  {
   "cell_type": "code",
   "execution_count": 36,
   "metadata": {
    "collapsed": false,
    "deletable": true,
    "editable": true
   },
   "outputs": [],
   "source": [
    "cop_pairs = [\n",
    "    (( 'PUBCHEM:5386','TEGAFUR'),('MONDO:0005627','head_and_neck_cancer')),\n",
    "    (( 'PUBCHEM:68289010','SAVOLITINIB'),('MONDO:0017884','papillary_renal_cell_cancer')),\n",
    "    (( 'PUBCHEM:52912222','I-BET726'),('MONDO:0005072','neuroblastoma')),\n",
    "    (( 'PUBCHEM:11581936','PF-2545920'),('MONDO:0007739','huntingtons')),\n",
    "            ]"
   ]
  },
  {
   "cell_type": "code",
   "execution_count": 37,
   "metadata": {
    "collapsed": true,
    "deletable": true,
    "editable": true
   },
   "outputs": [],
   "source": [
    "def get_view_url(returnanswer):\n",
    "    view_post_url = f'http://{robokop}/api/simple/view/'\n",
    "    view_post_response = requests.post(view_post_url, json=returnanswer)\n",
    "    uid=view_post_response.json()\n",
    "    view_url = f'http://{robokop}/simple/view/{uid}'\n",
    "    return view_url\n"
   ]
  },
  {
   "cell_type": "code",
   "execution_count": 38,
   "metadata": {
    "collapsed": false,
    "deletable": true,
    "editable": true
   },
   "outputs": [
    {
     "name": "stdout",
     "output_type": "stream",
     "text": [
      "(('PUBCHEM:5386', 'TEGAFUR'), ('MONDO:0005627', 'head_and_neck_cancer'))\n"
     ]
    },
    {
     "data": {
      "text/html": [
       "<h3>TEGAFUR / head_and_neck_cancer     max_connectivity=100</h3>"
      ],
      "text/plain": [
       "<IPython.core.display.HTML object>"
      ]
     },
     "metadata": {},
     "output_type": "display_data"
    },
    {
     "name": "stdout",
     "output_type": "stream",
     "text": [
      "No results found\n"
     ]
    },
    {
     "data": {
      "text/html": [
       "<h3>TEGAFUR / head_and_neck_cancer     max_connectivity=200</h3>"
      ],
      "text/plain": [
       "<IPython.core.display.HTML object>"
      ]
     },
     "metadata": {},
     "output_type": "display_data"
    },
    {
     "name": "stdout",
     "output_type": "stream",
     "text": [
      "No results found\n"
     ]
    },
    {
     "data": {
      "text/html": [
       "<h3>TEGAFUR / head_and_neck_cancer     max_connectivity=500</h3>"
      ],
      "text/plain": [
       "<IPython.core.display.HTML object>"
      ]
     },
     "metadata": {},
     "output_type": "display_data"
    },
    {
     "name": "stdout",
     "output_type": "stream",
     "text": [
      "No results found\n"
     ]
    },
    {
     "data": {
      "text/html": [
       "<h3>TEGAFUR / head_and_neck_cancer     max_connectivity=750</h3>"
      ],
      "text/plain": [
       "<IPython.core.display.HTML object>"
      ]
     },
     "metadata": {},
     "output_type": "display_data"
    },
    {
     "name": "stdout",
     "output_type": "stream",
     "text": [
      "No results found\n"
     ]
    },
    {
     "data": {
      "text/html": [
       "<h3>TEGAFUR / head_and_neck_cancer     max_connectivity=1000</h3>"
      ],
      "text/plain": [
       "<IPython.core.display.HTML object>"
      ]
     },
     "metadata": {},
     "output_type": "display_data"
    },
    {
     "name": "stdout",
     "output_type": "stream",
     "text": [
      "No results found\n"
     ]
    },
    {
     "data": {
      "text/html": [
       "<h3>TEGAFUR / head_and_neck_cancer     max_connectivity=1500</h3>"
      ],
      "text/plain": [
       "<IPython.core.display.HTML object>"
      ]
     },
     "metadata": {},
     "output_type": "display_data"
    },
    {
     "data": {
      "text/html": [
       "<a href=http://robokop.renci.org/simple/view/14cb23d8-97b5-487e-8e91-ab7ed4caea85>View Answer in ROBOKOP</a>"
      ],
      "text/plain": [
       "<IPython.core.display.HTML object>"
      ]
     },
     "metadata": {},
     "output_type": "display_data"
    }
   ],
   "source": [
    "turl=lambda robokop,drug_id, drug_name, disease_id,disease_name: \\\n",
    "    f'http://{robokop}/api/simple/quick/template/cop_disease/{drug_id}/{disease_id}/?name1={drug_name}&name2={disease_name}'\n",
    "    #f'http://{robokop}/api/simple/quick/template/cop_disease/{drug_id}/{disease_id}/?name1={drug_name}&name2={disease_name}&max_connectivity={mc}'\n",
    "\n",
    "turlmc=lambda robokop,drug_id, drug_name, disease_id,disease_name, mc: \\\n",
    "    f'http://{robokop}/api/simple/quick/template/cop_disease/{drug_id}/{disease_id}/?name1={drug_name}&name2={disease_name}&max_connectivity={mc}'\n",
    "\n",
    "    \n",
    "for cp in cop_pairs[:1]:\n",
    "    print(cp)\n",
    "    drug_id, drug_name = cp[0]\n",
    "    disease_id, disease_name = cp[1]\n",
    "    for mc in [100,200,500,750,1000,1500,2000,4000,10000,20000,0]:\n",
    "        url = turlmc(robokop,drug_id,drug_name,disease_id,disease_name,mc)\n",
    "        display(HTML(f'<h3>{drug_name} / {disease_name}     max_connectivity={mc}</h3>'))\n",
    "        response = requests.get(url)\n",
    "        if response.status_code != 200:\n",
    "            print('Error')\n",
    "            continue\n",
    "        answers=response.json()\n",
    "        if answers == 'No results found':\n",
    "            print (answers)\n",
    "            continue\n",
    "        #answer_frame = parse_answer(answers)\n",
    "        #display(answer_frame)\n",
    "        view_url = get_view_url(answers)\n",
    "        display(HTML(f'<a href={view_url}>View Answer in ROBOKOP</a>'))\n",
    "        break"
   ]
  },
  {
   "cell_type": "code",
   "execution_count": 13,
   "metadata": {
    "collapsed": false,
    "deletable": true,
    "editable": true
   },
   "outputs": [
    {
     "name": "stdout",
     "output_type": "stream",
     "text": [
      "No results found\n"
     ]
    }
   ],
   "source": [
    "print(answers)"
   ]
  },
  {
   "cell_type": "code",
   "execution_count": null,
   "metadata": {
    "collapsed": true
   },
   "outputs": [],
   "source": []
  }
 ],
 "metadata": {
  "kernelspec": {
   "display_name": "Python 3",
   "language": "python",
   "name": "python3"
  },
  "language_info": {
   "codemirror_mode": {
    "name": "ipython",
    "version": 3
   },
   "file_extension": ".py",
   "mimetype": "text/x-python",
   "name": "python",
   "nbconvert_exporter": "python",
   "pygments_lexer": "ipython3",
   "version": "3.6.2"
  }
 },
 "nbformat": 4,
 "nbformat_minor": 2
}

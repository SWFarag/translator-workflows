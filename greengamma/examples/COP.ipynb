{
 "cells": [
  {
   "cell_type": "code",
   "execution_count": 20,
   "metadata": {
    "collapsed": true,
    "deletable": true,
    "editable": true
   },
   "outputs": [],
   "source": [
    "import requests\n",
    "import pandas as pd\n",
    "from IPython.core.display import display, HTML\n",
    "\n",
    "#Load some useful functions for dealing with v0.9 output\n",
    "import os\n",
    "import sys\n",
    "module_path = os.path.abspath(os.path.join('..'))\n",
    "if module_path not in sys.path:\n",
    "    sys.path.append(module_path)\n",
    "from gg_functions import parse_answer, get_view_url"
   ]
  },
  {
   "cell_type": "code",
   "execution_count": 2,
   "metadata": {
    "collapsed": false,
    "deletable": true,
    "editable": true
   },
   "outputs": [],
   "source": [
    "cop_pairs = [\n",
    "    (( 'PUBCHEM:5386','TEGAFUR'),('MONDO:0005627','head_and_neck_cancer')),\n",
    "    (( 'PUBCHEM:68289010','SAVOLITINIB'),('MONDO:0017884','papillary_renal_cell_cancer')),\n",
    "    (( 'PUBCHEM:52912222','I-BET726'),('MONDO:0005072','neuroblastoma')),\n",
    "    (( 'PUBCHEM:11581936','PF-2545920'),('MONDO:0007739','huntingtons')),\n",
    "            ]"
   ]
  },
  {
   "cell_type": "code",
   "execution_count": 6,
   "metadata": {
    "collapsed": false,
    "deletable": true,
    "editable": true
   },
   "outputs": [
    {
     "name": "stdout",
     "output_type": "stream",
     "text": [
      "100\n",
      "Bad response from the question answering service.\n",
      "200\n",
      "Bad response from the question answering service.\n",
      "500\n",
      "Bad response from the question answering service.\n",
      "750\n",
      "Bad response from the question answering service.\n",
      "1000\n",
      "Bad response from the question answering service.\n",
      "1500\n"
     ]
    },
    {
     "data": {
      "text/html": [
       "<h3>TEGAFUR / head_and_neck_cancer     max_connectivity=1500</h3>"
      ],
      "text/plain": [
       "<IPython.core.display.HTML object>"
      ]
     },
     "metadata": {},
     "output_type": "display_data"
    },
    {
     "data": {
      "text/html": [
       "<a href=http://robokop.renci.org/simple/view/e11996cc-4c77-4a61-820d-3f19733261ed>View Answer in ROBOKOP</a>"
      ],
      "text/plain": [
       "<IPython.core.display.HTML object>"
      ]
     },
     "metadata": {},
     "output_type": "display_data"
    }
   ],
   "source": [
    "turl=lambda robokop,drug_id, drug_name, disease_id,disease_name: \\\n",
    "    f'http://{robokop}/api/simple/quick/template/cop_disease/{drug_id}/{disease_id}/?name1={drug_name}&name2={disease_name}'\n",
    "    #f'http://{robokop}/api/simple/quick/template/cop_disease/{drug_id}/{disease_id}/?name1={drug_name}&name2={disease_name}&max_connectivity={mc}'\n",
    "\n",
    "turlmc=lambda robokop,drug_id, drug_name, disease_id,disease_name, mc: \\\n",
    "    f'http://{robokop}/api/simple/quick/template/cop_disease/{drug_id}/{disease_id}/?name1={drug_name}&name2={disease_name}&max_connectivity={mc}'\n",
    "\n",
    "    \n",
    "for cp in cop_pairs[:1]:\n",
    "    drug_id, drug_name = cp[0]\n",
    "    disease_id, disease_name = cp[1]\n",
    "    for mc in [100,200,500,750,1000,1500,2000,4000,10000,0]:\n",
    "        #print(mc)\n",
    "        url = turlmc(robokop,drug_id,drug_name,disease_id,disease_name,mc)        \n",
    "        response = requests.get(url)\n",
    "        if response.status_code != 200:\n",
    "            print('Error')\n",
    "            continue\n",
    "        answers=response.json()\n",
    "        if answers == 'Bad response from the question answering service.':\n",
    "            #print (answers)\n",
    "            continue\n",
    "        display(HTML(f'<h3>{drug_name} / {disease_name}     max_connectivity={mc}</h3>'))\n",
    "        #answer_frame = parse_answer(answers)\n",
    "        #display(answer_frame)\n",
    "        view_url = get_view_url(answers)\n",
    "        display(HTML(f'<a href={view_url}>View Answer in ROBOKOP</a>'))\n",
    "        break"
   ]
  }
 ],
 "metadata": {
  "kernelspec": {
   "display_name": "Python 3",
   "language": "python",
   "name": "python3"
  },
  "language_info": {
   "codemirror_mode": {
    "name": "ipython",
    "version": 3
   },
   "file_extension": ".py",
   "mimetype": "text/x-python",
   "name": "python",
   "nbconvert_exporter": "python",
   "pygments_lexer": "ipython3",
   "version": "3.6.2"
  }
 },
 "nbformat": 4,
 "nbformat_minor": 2
}

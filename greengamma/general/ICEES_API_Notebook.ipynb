{
 "cells": [
  {
   "cell_type": "markdown",
   "metadata": {},
   "source": [
    "# ICEES API Notebook - RENCI Green Team\n",
    "\n",
    "\n",
    "<br>\n",
    "<br>\n"
   ]
  },
  {
   "cell_type": "markdown",
   "metadata": {},
   "source": [
    "<div class=\"alert alert-block alert-info\" style=\"font-size:20px; font-weight: normal\">\n",
    "<b>1a)</b> First, create a cohort using the '/cohort' endpoint, linked below. This will define\n",
    "    COHORT:45\n",
    "</div>"
   ]
  },
  {
   "cell_type": "markdown",
   "metadata": {},
   "source": [
    "https://icees.renci.org/apidocs/#/default/post__version___table___year__cohort"
   ]
  },
  {
   "cell_type": "markdown",
   "metadata": {},
   "source": [
    "<div class=\"alert alert-block alert-warning\" style=\"font-size:16px\">\n",
    "<b>Part 1a Inputs:</b> <br> version = 1.0.0, <br> table = patient, <br> year = 2010, <br> {\"AvgDailyPM2.5Exposure\": {\n",
    "        \"value\": 2,\n",
    "        \"operator\": \">\"\n",
    "      }}\n",
    "</div>"
   ]
  },
  {
   "cell_type": "markdown",
   "metadata": {},
   "source": [
    "<div class=\"alert alert-block alert-success\">\n",
    "<b>NOTE: </b> 'verify = False' is included in the call to the API to avoid an SSL error.\n",
    "    'requests.packages.urllib3.disable_warnings()' is used to suppress warnings about the 'verify=False' parameter\n",
    "</div>"
   ]
  },
  {
   "cell_type": "markdown",
   "metadata": {},
   "source": [
    "<div class=\"alert alert-block alert-success\">\n",
    "<b>NOTE: </b> We'll start with the \"accept\" : \"text/tabular\" header/output, as it is more human-readable.\n",
    "    The \"accept\" : \"application/json\" header/output will be demonstrated in parts '1c' and '2c'\n",
    "</div>"
   ]
  },
  {
   "cell_type": "code",
   "execution_count": 1,
   "metadata": {
    "scrolled": false
   },
   "outputs": [
    {
     "name": "stdout",
     "output_type": "stream",
     "text": [
      "The Translator Integrated Clinical and Environmental Exposures Service (ICEES) is providing you with Data that have been de-identified in accordance with 45 C.F.R. Â§Â§ 164.514(a) and (b) and that UNC Health Care System (UNCHCS) is permitted to provide under 45 C.F.R. Â§ 164.502(d)(2). Recipient agrees to notify UNCHCS via NC TraCS in the event that Recipient receives any identifiable data in error and to take such measures to return the identifiable data and/or destroy it at the direction of UNCHCS.\n",
      "\n",
      "Restrictions on Recipientâs Use of Data. Recipient further agrees to use the data exclusively for the purposes and functionalities provided by the ICEES: cohort discovery; feature-rich cohort discovery; hypothesis-driven queries; and exploratory queries. Recipient agrees to use appropriate safeguards to protect the Data from misuse and unauthorized access or disclosure. Recipient will report to UNCHCS any unauthorized access, use, or disclosure of the Data not provided for by the Service of which Recipient becomes aware. Recipient will not attempt to identify the individuals whose information is contained in any Data transferred pursuant to this Service Agreement or attempt to contact those individuals. Recipient agrees not to sell the Data to any third party for any purpose. Recipient agrees not to disclose or publish the Data in any manner that would identify the Data as originating from UNCHCS. Finally, Recipient agrees to reasonably limit the number of queries to the Service per IP address within a given time interval, in order to prevent rapid âattacksâ on the Service.\n",
      "\n",
      "We kindly request that Translator team members provide proper attribution for any products (e.g., manuscripts, podium presentations, software) derived from work related to Green Team's clinical datasets. Attribution should include acknowledgement of the funder (National Center for Advancing Translational Sciences [NCATS], Biomedical Data Translator Program awards, OT3TR002020 and OT2TR002514), the North Carolina Translational and Clinical Sciences (NC TraCS) Institute (NCATS, Center for Translational Science Award, UL1TR002489), UNC Hospitals and Health Care System, and all Green Team members who contributed to the work.\n",
      "\n",
      "+-------------+--------+\n",
      "| cohort_id   |   size |\n",
      "+=============+========+\n",
      "| COHORT:45   |  21492 |\n",
      "+-------------+--------+\n",
      "\n"
     ]
    }
   ],
   "source": [
    "import requests\n",
    "requests.packages.urllib3.disable_warnings() \n",
    "\n",
    "tabular_headers = {\"Content-Type\" : \"application/json\", \"accept\": \"text/tabular\"}\n",
    "\n",
    "data_1a = '{\"AvgDailyPM2.5Exposure\": { \\\n",
    "        \"value\": 2, \\\n",
    "        \"operator\": \">\" \\\n",
    "      }}'\n",
    "\n",
    "response_1a = requests.post('https://icees.renci.org/1.0.0/patient/2010/cohort', \\\n",
    "    data=data_1a, headers = tabular_headers, verify = False)\n",
    "\n",
    "output_1a = response_1a.text\n",
    "print(output_1a)"
   ]
  },
  {
   "cell_type": "markdown",
   "metadata": {},
   "source": [
    "<div class=\"alert alert-block alert-info\" style=\"font-size:20px; font-weight: normal\">\n",
    "<b>1b)</b> With COHORT:45 (n = 21492) defined, let's look at the '/associations_to_all_features' endpoint/functionality for this cohort\n",
    "</div>"
   ]
  },
  {
   "cell_type": "markdown",
   "metadata": {},
   "source": [
    "<div class=\"alert alert-block alert-warning\" style=\"font-size:16px\">\n",
    "<b>Part 1b Inputs:</b> <br>version = 1.0.0, <br>table = patient, <br>year = 2010, <br>cohort_id = COHORT:45,\n",
    "    <br>{\"feature\":{\"TotalEDInpatientVisits\":{\"operator\":\"<\",\n",
    "                                            \"value\":2}},\"maximum_p_value\":0.1}\n",
    "</div>"
   ]
  },
  {
   "cell_type": "markdown",
   "metadata": {},
   "source": [
    "<div class=\"alert alert-block alert-success\">\n",
    "<b>NOTE: </b> From here on out, we'll remove the opening text blurb (using '.split()') after the request/response is received, for brevity\n",
    "</div>\n",
    "\n"
   ]
  },
  {
   "cell_type": "markdown",
   "metadata": {},
   "source": [
    "<br><div class=\"alert alert-block alert-info\" style=\"font-size:20px; font-weight: normal\">\n",
    "<b>1c)</b> The above COHORT:45 output format, gained by using the \"accept\":\"text/tabular\" header, is human-readable but more difficult to manipulate. Now, we change the header to \"accept\":\"application/json\" to retrieve a more programmatically useful (and content-identical) data set.\n",
    "</div>"
   ]
  },
  {
   "cell_type": "code",
   "execution_count": 6,
   "metadata": {},
   "outputs": [],
   "source": [
    "import json\n",
    "\n",
    "json_headers = {\"Content-Type\" : \"application/json\", \"accept\": \"application/json\"}\n",
    "\n",
    "data_1c = data_1b\n",
    "\n",
    "response_1c_json = requests.post('https://icees.renci.org/1.0.0/patient/2010/cohort/COHORT%3A45/associations_to_all_features', \\\n",
    "                                 headers = json_headers, data=data_1c, verify = False)\n",
    "output_1c_json = response_1c_json.json()"
   ]
  },
  {
   "cell_type": "code",
   "execution_count": 7,
   "metadata": {},
   "outputs": [
    {
     "name": "stdout",
     "output_type": "stream",
     "text": [
      "{'return value': [{'feature_b': {'feature_qualifiers': [{'value': '0-2', 'operator': '='}, {'value': '3-17', 'operator': '='}, {'value': '18-34', 'operator': '='}, {'value': '35-50', 'operator': '='}, {'value': '51-69', 'operator': '='}, {'value': '70+', 'operator': '='}], 'feature_name': 'AgeStudyStart'}, 'columns': [{'percentage': 0.8329611018053229, 'frequency': 17902}, {'percentage': 0.1670388981946771, 'frequency': 3590}], 'feature_a': {'feature_qualifiers': [{'value': 2, 'operator': '<'}, {'value': 2, 'operator': '>='}], 'feature_name': 'TotalEDInpatientVisits'}, 'rows': [{'percentage': 0.08403126744835288, 'frequency': 1806}, {'percentage': 0.1605248464544947, 'frequency': 3450}, {'percentage': 0.15503443141634096, 'frequency': 3332}, {'percentage': 0.21440536013400335, 'frequency': 4608}, {'percentage': 0.27721943048576214, 'frequency': 5958}, {'percentage': 0.10878466406104598, 'frequency': 2338}], 'p_value': 2.2695809715411036e-220, 'feature_matrix': [[{'total_percentage': 0.0793318444072213, 'row_percentage': 0.9440753045404208, 'column_percentage': 0.09524075522288013, 'frequency': 1705}, {'total_percentage': 0.004699423041131584, 'row_percentage': 0.055924695459579184, 'column_percentage': 0.028133704735376044, 'frequency': 101}], [{'total_percentage': 0.15442955518332402, 'row_percentage': 0.9620289855072464, 'column_percentage': 0.18539827952184113, 'frequency': 3319}, {'total_percentage': 0.0060952912711706685, 'row_percentage': 0.03797101449275362, 'column_percentage': 0.03649025069637883, 'frequency': 131}], [{'total_percentage': 0.11325144239717104, 'row_percentage': 0.7304921968787516, 'column_percentage': 0.13596246229471567, 'frequency': 2434}, {'total_percentage': 0.04178298901916992, 'row_percentage': 0.2695078031212485, 'column_percentage': 0.2501392757660167, 'frequency': 898}], [{'total_percentage': 0.16108319374651034, 'row_percentage': 0.7513020833333334, 'column_percentage': 0.19338621383085688, 'frequency': 3462}, {'total_percentage': 0.05332216638749302, 'row_percentage': 0.24869791666666666, 'column_percentage': 0.3192200557103064, 'frequency': 1146}], [{'total_percentage': 0.23106272101246975, 'row_percentage': 0.833501174890903, 'column_percentage': 0.27739917327672886, 'frequency': 4966}, {'total_percentage': 0.04615670947329239, 'row_percentage': 0.16649882510909703, 'column_percentage': 0.2763231197771588, 'frequency': 992}], [{'total_percentage': 0.09380234505862646, 'row_percentage': 0.8622754491017964, 'column_percentage': 0.11261311585297733, 'frequency': 2016}, {'total_percentage': 0.014982319002419505, 'row_percentage': 0.1377245508982036, 'column_percentage': 0.08969359331476323, 'frequency': 322}]], 'chi_squared': 1060.0560114209925, 'total': 21492}, {'feature_b': {'feature_qualifiers': [{'value': 'African American', 'operator': '='}, {'value': 'Asian', 'operator': '='}, {'value': 'Caucasian', 'operator': '='}, {'value': 'Hawaiian / Other Pac', 'operator': '='}, {'value': 'Native American', 'operator': '='}, {'value': 'Other', 'operator': '='}, {'value': 'Unknown', 'operator': '='}], 'feature_name': 'Race'}, 'columns': [{'percentage': 0.8329611018053229, 'frequency': 17902}, {'percentage': 0.1670388981946771, 'frequency': 3590}], 'feature_a': {'feature_qualifiers': [{'value': 2, 'operator': '<'}, {'value': 2, 'operator': '>='}], 'feature_name': 'TotalEDInpatientVisits'}, 'rows': [{'percentage': 0.2816396798808859, 'frequency': 6053}, {'percentage': 0.012050995719337428, 'frequency': 259}, {'percentage': 0.5637911781127861, 'frequency': 12117}, {'percentage': 0.00018611576400521124, 'frequency': 4}, {'percentage': 0.0082821514982319, 'frequency': 178}, {'percentage': 0.11073887958310069, 'frequency': 2380}, {'percentage': 0.023310999441652706, 'frequency': 501}], 'p_value': 8.323153234155206e-24, 'feature_matrix': [[{'total_percentage': 0.2222222222222222, 'row_percentage': 0.7890302329423426, 'column_percentage': 0.2667858339850296, 'frequency': 4776}, {'total_percentage': 0.059417457658663686, 'row_percentage': 0.21096976705765735, 'column_percentage': 0.3557103064066852, 'frequency': 1277}], [{'total_percentage': 0.010469011725293133, 'row_percentage': 0.8687258687258688, 'column_percentage': 0.012568428108591219, 'frequency': 225}, {'total_percentage': 0.0015819839940442956, 'row_percentage': 0.13127413127413126, 'column_percentage': 0.00947075208913649, 'frequency': 34}], [{'total_percentage': 0.4752931323283082, 'row_percentage': 0.8430304530824462, 'column_percentage': 0.5706066361300414, 'frequency': 10215}, {'total_percentage': 0.08849804578447794, 'row_percentage': 0.15696954691755385, 'column_percentage': 0.5298050139275766, 'frequency': 1902}], [{'total_percentage': 0.00013958682300390843, 'row_percentage': 0.75, 'column_percentage': 0.00016757904144788292, 'frequency': 3}, {'total_percentage': 4.652894100130281e-05, 'row_percentage': 0.25, 'column_percentage': 0.0002785515320334262, 'frequency': 1}], [{'total_percentage': 0.00711892797319933, 'row_percentage': 0.8595505617977528, 'column_percentage': 0.008546531113842029, 'frequency': 153}, {'total_percentage': 0.0011632235250325703, 'row_percentage': 0.1404494382022472, 'column_percentage': 0.006963788300835654, 'frequency': 25}], [{'total_percentage': 0.09659408151870463, 'row_percentage': 0.8722689075630252, 'column_percentage': 0.11596469668193497, 'frequency': 2076}, {'total_percentage': 0.014144798064396055, 'row_percentage': 0.12773109243697478, 'column_percentage': 0.08467966573816156, 'frequency': 304}], [{'total_percentage': 0.021124139214591477, 'row_percentage': 0.906187624750499, 'column_percentage': 0.02536029493911295, 'frequency': 454}, {'total_percentage': 0.002186860227061232, 'row_percentage': 0.09381237524950099, 'column_percentage': 0.01309192200557103, 'frequency': 47}]], 'chi_squared': 142.0098891207954, 'total': 21492}, {'feature_b': {'feature_qualifiers': [{'value': 'H', 'operator': '='}, {'value': 'N', 'operator': '='}, {'value': 'U', 'operator': '='}, {'value': None, 'operator': '='}], 'feature_name': 'Ethnicity'}, 'columns': [{'percentage': 0.8329611018053229, 'frequency': 17902}, {'percentage': 0.1670388981946771, 'frequency': 3590}], 'feature_a': {'feature_qualifiers': [{'value': 2, 'operator': '<'}, {'value': 2, 'operator': '>='}], 'feature_name': 'TotalEDInpatientVisits'}, 'rows': [{'percentage': 0.08165829145728644, 'frequency': 1755}, {'percentage': 0.64428624604504, 'frequency': 13847}, {'percentage': 0.09324399776661083, 'frequency': 2004}, {'percentage': 0.18081146473106272, 'frequency': 3886}], 'p_value': 1.4525420897863528e-11, 'feature_matrix': [[{'total_percentage': 0.07035175879396985, 'row_percentage': 0.8615384615384616, 'column_percentage': 0.08445983688973299, 'frequency': 1512}, {'total_percentage': 0.011306532663316583, 'row_percentage': 0.13846153846153847, 'column_percentage': 0.06768802228412256, 'frequency': 243}], [{'total_percentage': 0.5287548855388051, 'row_percentage': 0.8206831804723045, 'column_percentage': 0.6347894090045805, 'frequency': 11364}, {'total_percentage': 0.11553136050623487, 'row_percentage': 0.17931681952769554, 'column_percentage': 0.6916434540389972, 'frequency': 2483}], [{'total_percentage': 0.08254234133631119, 'row_percentage': 0.8852295409181636, 'column_percentage': 0.09909507317618144, 'frequency': 1774}, {'total_percentage': 0.010701656430299647, 'row_percentage': 0.11477045908183632, 'column_percentage': 0.06406685236768803, 'frequency': 230}], [{'total_percentage': 0.15131211613623674, 'row_percentage': 0.8368502316006176, 'column_percentage': 0.18165568092950507, 'frequency': 3252}, {'total_percentage': 0.029499348594825982, 'row_percentage': 0.1631497683993824, 'column_percentage': 0.1766016713091922, 'frequency': 634}]], 'chi_squared': 65.07497769256474, 'total': 21492}, {'feature_b': {'feature_qualifiers': [{'value': 0, 'operator': '='}, {'value': 1, 'operator': '='}], 'feature_name': 'AsthmaDx'}, 'columns': [{'percentage': 0.8329611018053229, 'frequency': 17902}, {'percentage': 0.1670388981946771, 'frequency': 3590}], 'feature_a': {'feature_qualifiers': [{'value': 2, 'operator': '<'}, {'value': 2, 'operator': '>='}], 'feature_name': 'TotalEDInpatientVisits'}, 'rows': [{'percentage': 0.6520100502512562, 'frequency': 14013}, {'percentage': 0.3479899497487437, 'frequency': 7479}], 'p_value': 2.649263337688825e-11, 'feature_matrix': [[{'total_percentage': 0.5343383584589615, 'row_percentage': 0.8195247270391779, 'column_percentage': 0.6414925706624958, 'frequency': 11484}, {'total_percentage': 0.11767169179229481, 'row_percentage': 0.18047527296082208, 'column_percentage': 0.7044568245125348, 'frequency': 2529}], [{'total_percentage': 0.29862274334636146, 'row_percentage': 0.858136114453804, 'column_percentage': 0.3585074293375042, 'frequency': 6418}, {'total_percentage': 0.049367206402382284, 'row_percentage': 0.14186388554619603, 'column_percentage': 0.29554317548746517, 'frequency': 1061}]], 'chi_squared': 52.25000067396003, 'total': 21492}, {'feature_b': {'feature_qualifiers': [{'value': 0, 'operator': '='}, {'value': 1, 'operator': '='}], 'feature_name': 'CoughDx'}, 'columns': [{'percentage': 0.8329611018053229, 'frequency': 17902}, {'percentage': 0.1670388981946771, 'frequency': 3590}], 'feature_a': {'feature_qualifiers': [{'value': 2, 'operator': '<'}, {'value': 2, 'operator': '>='}], 'feature_name': 'TotalEDInpatientVisits'}, 'rows': [{'percentage': 0.24604504001488925, 'frequency': 5288}, {'percentage': 0.7539549599851108, 'frequency': 16204}], 'p_value': 1.8148983659744737e-179, 'feature_matrix': [[{'total_percentage': 0.23650660710962218, 'row_percentage': 0.961232980332829, 'column_percentage': 0.2839347558931963, 'frequency': 5083}, {'total_percentage': 0.009538432905267076, 'row_percentage': 0.03876701966717095, 'column_percentage': 0.057103064066852366, 'frequency': 205}], [{'total_percentage': 0.5964544946957008, 'row_percentage': 0.791100962725253, 'column_percentage': 0.7160652441068037, 'frequency': 12819}, {'total_percentage': 0.15750046528941, 'row_percentage': 0.20889903727474698, 'column_percentage': 0.9428969359331476, 'frequency': 3385}]], 'chi_squared': 829.4049371696476, 'total': 21492}, {'feature_b': {'feature_qualifiers': [{'value': 0, 'operator': '='}, {'value': 1, 'operator': '='}], 'feature_name': 'PneumoniaDx'}, 'columns': [{'percentage': 0.8329611018053229, 'frequency': 17902}, {'percentage': 0.1670388981946771, 'frequency': 3590}], 'feature_a': {'feature_qualifiers': [{'value': 2, 'operator': '<'}, {'value': 2, 'operator': '>='}], 'feature_name': 'TotalEDInpatientVisits'}, 'rows': [{'percentage': 0.9801321421924437, 'frequency': 21065}, {'percentage': 0.0198678578075563, 'frequency': 427}], 'p_value': 6.3493014912896275e-12, 'feature_matrix': [[{'total_percentage': 0.8190489484459333, 'row_percentage': 0.8356515547116069, 'column_percentage': 0.9832979555356943, 'frequency': 17603}, {'total_percentage': 0.16108319374651034, 'row_percentage': 0.16434844528839307, 'column_percentage': 0.9643454038997215, 'frequency': 3462}], [{'total_percentage': 0.01391215335938954, 'row_percentage': 0.7002341920374707, 'column_percentage': 0.016702044464305663, 'frequency': 299}, {'total_percentage': 0.00595570444816676, 'row_percentage': 0.2997658079625293, 'column_percentage': 0.03565459610027855, 'frequency': 128}]], 'chi_squared': 55.15931597104202, 'total': 21492}, {'feature_b': {'feature_qualifiers': [{'value': 0, 'operator': '='}, {'value': 1, 'operator': '='}], 'feature_name': 'ObesityICD'}, 'columns': [{'percentage': 0.8329611018053229, 'frequency': 17902}, {'percentage': 0.1670388981946771, 'frequency': 3590}], 'feature_a': {'feature_qualifiers': [{'value': 2, 'operator': '<'}, {'value': 2, 'operator': '>='}], 'feature_name': 'TotalEDInpatientVisits'}, 'rows': [{'percentage': 0.9158291457286433, 'frequency': 19683}, {'percentage': 0.08417085427135679, 'frequency': 1809}], 'p_value': 1.0175504777400289e-10, 'feature_matrix': [[{'total_percentage': 0.767820584403499, 'row_percentage': 0.8383884570441498, 'column_percentage': 0.9217964473243213, 'frequency': 16502}, {'total_percentage': 0.14800856132514423, 'row_percentage': 0.16161154295585023, 'column_percentage': 0.8860724233983287, 'frequency': 3181}], [{'total_percentage': 0.06514051740182393, 'row_percentage': 0.7739082365948038, 'column_percentage': 0.07820355267567869, 'frequency': 1400}, {'total_percentage': 0.01903033686953285, 'row_percentage': 0.22609176340519624, 'column_percentage': 0.11392757660167131, 'frequency': 409}]], 'chi_squared': 49.506670225338226, 'total': 21492}, {'feature_b': {'feature_qualifiers': [{'value': 1, 'operator': '='}, {'value': 2, 'operator': '='}, {'value': 3, 'operator': '='}, {'value': 4, 'operator': '='}, {'value': 5, 'operator': '='}], 'feature_name': 'AvgDailyOzoneExposure'}, 'columns': [{'percentage': 0.8329611018053229, 'frequency': 17902}, {'percentage': 0.1670388981946771, 'frequency': 3590}], 'feature_a': {'feature_qualifiers': [{'value': 2, 'operator': '<'}, {'value': 2, 'operator': '>='}], 'feature_name': 'TotalEDInpatientVisits'}, 'rows': [{'percentage': 0.0005118183510143309, 'frequency': 11}, {'percentage': 0.24120603015075376, 'frequency': 5184}, {'percentage': 0.7530243811650846, 'frequency': 16184}, {'percentage': 0.005118183510143309, 'frequency': 110}, {'percentage': 0.00013958682300390843, 'frequency': 3}], 'p_value': 1.1705944615386469e-07, 'feature_matrix': [[{'total_percentage': 0.0003257025870091197, 'row_percentage': 0.6363636363636364, 'column_percentage': 0.0003910177633783935, 'frequency': 7}, {'total_percentage': 0.00018611576400521124, 'row_percentage': 0.36363636363636365, 'column_percentage': 0.0011142061281337048, 'frequency': 4}], [{'total_percentage': 0.1938395682114275, 'row_percentage': 0.8036265432098766, 'column_percentage': 0.23271142889062674, 'frequency': 4166}, {'total_percentage': 0.04736646193932626, 'row_percentage': 0.19637345679012347, 'column_percentage': 0.2835654596100279, 'frequency': 1018}], [{'total_percentage': 0.6340498790247534, 'row_percentage': 0.8420044488383589, 'column_percentage': 0.7611998659367668, 'frequency': 13627}, {'total_percentage': 0.11897450214033128, 'row_percentage': 0.15799555116164113, 'column_percentage': 0.7122562674094708, 'frequency': 2557}], [{'total_percentage': 0.004652894100130281, 'row_percentage': 0.9090909090909091, 'column_percentage': 0.005585968048262764, 'frequency': 100}, {'total_percentage': 0.0004652894100130281, 'row_percentage': 0.09090909090909091, 'column_percentage': 0.002785515320334262, 'frequency': 10}], [{'total_percentage': 9.305788200260562e-05, 'row_percentage': 0.6666666666666666, 'column_percentage': 0.00011171936096525528, 'frequency': 2}, {'total_percentage': 4.652894100130281e-05, 'row_percentage': 0.3333333333333333, 'column_percentage': 0.0002785515320334262, 'frequency': 1}]], 'chi_squared': 49.807982479207446, 'total': 21492}, {'feature_b': {'feature_qualifiers': [{'value': 1, 'operator': '='}, {'value': 2, 'operator': '='}, {'value': 3, 'operator': '='}, {'value': 4, 'operator': '='}, {'value': 5, 'operator': '='}], 'feature_name': 'MaxDailyOzoneExposure'}, 'columns': [{'percentage': 0.8329611018053229, 'frequency': 17902}, {'percentage': 0.1670388981946771, 'frequency': 3590}], 'feature_a': {'feature_qualifiers': [{'value': 2, 'operator': '<'}, {'value': 2, 'operator': '>='}], 'feature_name': 'TotalEDInpatientVisits'}, 'rows': [{'percentage': 0.9430485762144054, 'frequency': 20268}, {'percentage': 0.055741671319560766, 'frequency': 1198}, {'percentage': 0.0006979341150195422, 'frequency': 15}, {'percentage': 4.652894100130281e-05, 'frequency': 1}, {'percentage': 0.0004652894100130281, 'frequency': 10}], 'p_value': 1.4031511182720637e-12, 'feature_matrix': [[{'total_percentage': 0.7807091010608599, 'row_percentage': 0.8278567199526347, 'column_percentage': 0.9372695788180092, 'frequency': 16779}, {'total_percentage': 0.1623394751535455, 'row_percentage': 0.17214328004736532, 'column_percentage': 0.971866295264624, 'frequency': 3489}], [{'total_percentage': 0.051321421924437, 'row_percentage': 0.9207011686143572, 'column_percentage': 0.06161322757233829, 'frequency': 1103}, {'total_percentage': 0.004420249395123767, 'row_percentage': 0.07929883138564274, 'column_percentage': 0.026462395543175487, 'frequency': 95}], [{'total_percentage': 0.0005583472920156337, 'row_percentage': 0.8, 'column_percentage': 0.0006703161657915317, 'frequency': 12}, {'total_percentage': 0.00013958682300390843, 'row_percentage': 0.2, 'column_percentage': 0.0008356545961002785, 'frequency': 3}], [{'total_percentage': 0.0, 'row_percentage': 0.0, 'column_percentage': 0.0, 'frequency': 0}, {'total_percentage': 4.652894100130281e-05, 'row_percentage': 1.0, 'column_percentage': 0.0002785515320334262, 'frequency': 1}], [{'total_percentage': 0.0003722315280104225, 'row_percentage': 0.8, 'column_percentage': 0.0004468774438610211, 'frequency': 8}, {'total_percentage': 9.305788200260562e-05, 'row_percentage': 0.2, 'column_percentage': 0.0005571030640668524, 'frequency': 2}]], 'chi_squared': 75.2614740980578, 'total': 21492}, {'feature_b': {'feature_qualifiers': [{'value': 1, 'operator': '='}, {'value': 2, 'operator': '='}, {'value': 3, 'operator': '='}, {'value': 4, 'operator': '='}, {'value': 5, 'operator': '='}], 'feature_name': 'EstResidentialDensity'}, 'columns': [{'percentage': 0.8329611018053229, 'frequency': 17902}, {'percentage': 0.1670388981946771, 'frequency': 3590}], 'feature_a': {'feature_qualifiers': [{'value': 2, 'operator': '<'}, {'value': 2, 'operator': '>='}], 'feature_name': 'TotalEDInpatientVisits'}, 'rows': [{'percentage': 0.48562255723059744, 'frequency': 10437}, {'percentage': 0.4473292387865252, 'frequency': 9614}, {'percentage': 0.04987902475339661, 'frequency': 1072}, {'percentage': 0.010748185371300949, 'frequency': 231}, {'percentage': 0.0064209938581797875, 'frequency': 138}], 'p_value': 0.00994823994849266, 'feature_matrix': [[{'total_percentage': 0.4009398846082263, 'row_percentage': 0.8256203890006707, 'column_percentage': 0.4813428667188024, 'frequency': 8617}, {'total_percentage': 0.08468267262237111, 'row_percentage': 0.1743796109993293, 'column_percentage': 0.5069637883008357, 'frequency': 1820}], [{'total_percentage': 0.37344128047645636, 'row_percentage': 0.8348242146869149, 'column_percentage': 0.44832979555356944, 'frequency': 8026}, {'total_percentage': 0.07388795831006886, 'row_percentage': 0.16517578531308508, 'column_percentage': 0.4423398328690808, 'frequency': 1588}], [{'total_percentage': 0.04359761771822073, 'row_percentage': 0.8740671641791045, 'column_percentage': 0.0523405206122221, 'frequency': 937}, {'total_percentage': 0.00628140703517588, 'row_percentage': 0.1259328358208955, 'column_percentage': 0.037604456824512536, 'frequency': 135}], [{'total_percentage': 0.009305788200260562, 'row_percentage': 0.8658008658008658, 'column_percentage': 0.011171936096525528, 'frequency': 200}, {'total_percentage': 0.0014423971710403871, 'row_percentage': 0.1341991341991342, 'column_percentage': 0.008635097493036212, 'frequency': 31}], [{'total_percentage': 0.0056765308021589425, 'row_percentage': 0.8840579710144928, 'column_percentage': 0.006814881018880572, 'frequency': 122}, {'total_percentage': 0.000744463056020845, 'row_percentage': 0.11594202898550725, 'column_percentage': 0.004456824512534819, 'frequency': 16}]], 'chi_squared': 21.680610501349456, 'total': 21492}, {'feature_b': {'feature_qualifiers': [{'value': 1, 'operator': '='}, {'value': 2, 'operator': '='}, {'value': 3, 'operator': '='}, {'value': 4, 'operator': '='}, {'value': 5, 'operator': '='}], 'feature_name': 'EstResidentialDesnity25Plus'}, 'columns': [{'percentage': 0.8329611018053229, 'frequency': 17902}, {'percentage': 0.1670388981946771, 'frequency': 3590}], 'feature_a': {'feature_qualifiers': [{'value': 2, 'operator': '<'}, {'value': 2, 'operator': '>='}], 'feature_name': 'TotalEDInpatientVisits'}, 'rows': [{'percentage': 0.4154569142006328, 'frequency': 8929}, {'percentage': 0.5133538060673739, 'frequency': 11033}, {'percentage': 0.05369439791550344, 'frequency': 1154}, {'percentage': 0.00628140703517588, 'frequency': 135}, {'percentage': 0.011213474781313978, 'frequency': 241}], 'p_value': 0.00820053178764048, 'feature_matrix': [[{'total_percentage': 0.3451051554066629, 'row_percentage': 0.8306641281218502, 'column_percentage': 0.4143112501396492, 'frequency': 7417}, {'total_percentage': 0.07035175879396985, 'row_percentage': 0.16933587187814986, 'column_percentage': 0.4211699164345404, 'frequency': 1512}], [{'total_percentage': 0.4256467522799181, 'row_percentage': 0.8291489168857065, 'column_percentage': 0.5110043570550776, 'frequency': 9148}, {'total_percentage': 0.0877070537874558, 'row_percentage': 0.17085108311429348, 'column_percentage': 0.5250696378830083, 'frequency': 1885}], [{'total_percentage': 0.047133817234319746, 'row_percentage': 0.8778162911611785, 'column_percentage': 0.0565858563289018, 'frequency': 1013}, {'total_percentage': 0.006560580681183696, 'row_percentage': 0.12218370883882149, 'column_percentage': 0.03927576601671309, 'frequency': 141}], [{'total_percentage': 0.00563000186115764, 'row_percentage': 0.8962962962962963, 'column_percentage': 0.006759021338397945, 'frequency': 121}, {'total_percentage': 0.0006514051740182394, 'row_percentage': 0.1037037037037037, 'column_percentage': 0.0038997214484679664, 'frequency': 14}], [{'total_percentage': 0.00944537502326447, 'row_percentage': 0.8423236514522822, 'column_percentage': 0.01133951513797341, 'frequency': 203}, {'total_percentage': 0.0017680997580495068, 'row_percentage': 0.15767634854771784, 'column_percentage': 0.010584958217270195, 'frequency': 38}]], 'chi_squared': 22.22229595565054, 'total': 21492}, {'feature_b': {'feature_qualifiers': [{'value': 1, 'operator': '='}, {'value': 2, 'operator': '='}, {'value': 3, 'operator': '='}, {'value': 4, 'operator': '='}], 'feature_name': 'EstProbabilityESL'}, 'columns': [{'percentage': 0.8329611018053229, 'frequency': 17902}, {'percentage': 0.1670388981946771, 'frequency': 3590}], 'feature_a': {'feature_qualifiers': [{'value': 2, 'operator': '<'}, {'value': 2, 'operator': '>='}], 'feature_name': 'TotalEDInpatientVisits'}, 'rows': [{'percentage': 0.7848501768099758, 'frequency': 16868}, {'percentage': 0.1756002233389168, 'frequency': 3774}, {'percentage': 0.03624604504001489, 'frequency': 779}, {'percentage': 0.0026056206960729574, 'frequency': 56}], 'p_value': 0.08448912614797445, 'feature_matrix': [[{'total_percentage': 0.6537316210683045, 'row_percentage': 0.8329381076594735, 'column_percentage': 0.7848285107809183, 'frequency': 14050}, {'total_percentage': 0.13111855574167133, 'row_percentage': 0.16706189234052643, 'column_percentage': 0.784958217270195, 'frequency': 2818}], [{'total_percentage': 0.14786897450214034, 'row_percentage': 0.8420773714891362, 'column_percentage': 0.17752206457379063, 'frequency': 3178}, {'total_percentage': 0.027731248836776475, 'row_percentage': 0.1579226285108638, 'column_percentage': 0.166016713091922, 'frequency': 596}], [{'total_percentage': 0.028708356597803835, 'row_percentage': 0.79204107830552, 'column_percentage': 0.03446542285778125, 'frequency': 617}, {'total_percentage': 0.007537688442211055, 'row_percentage': 0.2079589216944801, 'column_percentage': 0.04512534818941504, 'frequency': 162}], [{'total_percentage': 0.0020472734040573237, 'row_percentage': 0.7857142857142857, 'column_percentage': 0.002457825941235616, 'frequency': 44}, {'total_percentage': 0.0005583472920156337, 'row_percentage': 0.21428571428571427, 'column_percentage': 0.003342618384401114, 'frequency': 12}]], 'chi_squared': 12.527619966828084, 'total': 21492}, {'feature_b': {'feature_qualifiers': [{'value': 1, 'operator': '='}, {'value': 2, 'operator': '='}, {'value': 3, 'operator': '='}, {'value': 4, 'operator': '='}, {'value': 5, 'operator': '='}], 'feature_name': 'EstHouseholdIncome'}, 'columns': [{'percentage': 0.8329611018053229, 'frequency': 17902}, {'percentage': 0.1670388981946771, 'frequency': 3590}], 'feature_a': {'feature_qualifiers': [{'value': 2, 'operator': '<'}, {'value': 2, 'operator': '>='}], 'feature_name': 'TotalEDInpatientVisits'}, 'rows': [{'percentage': 0.5310348036478689, 'frequency': 11413}, {'percentage': 0.3762795458775358, 'frequency': 8087}, {'percentage': 0.0595570444816676, 'frequency': 1280}, {'percentage': 0.008700911967243626, 'frequency': 187}, {'percentage': 0.00023264470500651406, 'frequency': 5}], 'p_value': 0.019847565963857026, 'feature_matrix': [[{'total_percentage': 0.4415131211613624, 'row_percentage': 0.8314203101726102, 'column_percentage': 0.5300525080996537, 'frequency': 9489}, {'total_percentage': 0.0895216824865066, 'row_percentage': 0.16857968982738983, 'column_percentage': 0.5359331476323119, 'frequency': 1924}], [{'total_percentage': 0.3112320863577145, 'row_percentage': 0.8271299616668728, 'column_percentage': 0.3736454027482963, 'frequency': 6689}, {'total_percentage': 0.06504745951982133, 'row_percentage': 0.17287003833312725, 'column_percentage': 0.3894150417827298, 'frequency': 1398}], [{'total_percentage': 0.05220547180346175, 'row_percentage': 0.8765625, 'column_percentage': 0.06267456150150821, 'frequency': 1122}, {'total_percentage': 0.007351572678205844, 'row_percentage': 0.1234375, 'column_percentage': 0.04401114206128134, 'frequency': 158}], [{'total_percentage': 0.0072585147962032385, 'row_percentage': 0.8342245989304813, 'column_percentage': 0.008714110155289912, 'frequency': 156}, {'total_percentage': 0.0014423971710403871, 'row_percentage': 0.1657754010695187, 'column_percentage': 0.008635097493036212, 'frequency': 31}], [{'total_percentage': 0.00018611576400521124, 'row_percentage': 0.8, 'column_percentage': 0.00022343872193051055, 'frequency': 4}, {'total_percentage': 4.652894100130281e-05, 'row_percentage': 0.2, 'column_percentage': 0.0002785515320334262, 'frequency': 1}]], 'chi_squared': 19.701359831241504, 'total': 21492}, {'feature_b': {'feature_qualifiers': [{'value': 0, 'operator': '='}, {'value': 1, 'operator': '='}, {'value': 2, 'operator': '='}, {'value': 3, 'operator': '='}, {'value': 4, 'operator': '='}, {'value': 5, 'operator': '='}, {'value': 6, 'operator': '='}, {'value': 7, 'operator': '='}, {'value': 8, 'operator': '='}, {'value': 9, 'operator': '='}, {'value': 10, 'operator': '='}, {'value': 11, 'operator': '='}, {'value': 12, 'operator': '='}, {'value': 13, 'operator': '='}, {'value': 14, 'operator': '='}, {'value': 15, 'operator': '='}, {'value': 16, 'operator': '='}, {'value': 17, 'operator': '='}, {'value': 18, 'operator': '='}, {'value': 19, 'operator': '='}, {'value': 20, 'operator': '='}, {'value': 21, 'operator': '='}, {'value': 22, 'operator': '='}, {'value': 23, 'operator': '='}, {'value': 25, 'operator': '='}, {'value': 27, 'operator': '='}, {'value': 33, 'operator': '='}, {'value': 37, 'operator': '='}, {'value': 50, 'operator': '='}, {'value': 51, 'operator': '='}], 'feature_name': 'TotalEDInpatientVisits'}, 'columns': [{'percentage': 0.8329611018053229, 'frequency': 17902}, {'percentage': 0.1670388981946771, 'frequency': 3590}], 'feature_a': {'feature_qualifiers': [{'value': 2, 'operator': '<'}, {'value': 2, 'operator': '>='}], 'feature_name': 'TotalEDInpatientVisits'}, 'rows': [{'percentage': 0.6892332030522985, 'frequency': 14813}, {'percentage': 0.14372789875302439, 'frequency': 3089}, {'percentage': 0.10906383770705379, 'frequency': 2344}, {'percentage': 0.03210496929089894, 'frequency': 690}, {'percentage': 0.012190582542341337, 'frequency': 262}, {'percentage': 0.005490415038153731, 'frequency': 118}, {'percentage': 0.0027917364600781687, 'frequency': 60}, {'percentage': 0.0013493392890377815, 'frequency': 29}, {'percentage': 0.0007909919970221478, 'frequency': 17}, {'percentage': 0.0006979341150195422, 'frequency': 15}, {'percentage': 0.0004187604690117253, 'frequency': 9}, {'percentage': 0.0004187604690117253, 'frequency': 9}, {'percentage': 0.00018611576400521124, 'frequency': 4}, {'percentage': 0.0003257025870091197, 'frequency': 7}, {'percentage': 4.652894100130281e-05, 'frequency': 1}, {'percentage': 0.00013958682300390843, 'frequency': 3}, {'percentage': 0.00023264470500651406, 'frequency': 5}, {'percentage': 9.305788200260562e-05, 'frequency': 2}, {'percentage': 9.305788200260562e-05, 'frequency': 2}, {'percentage': 4.652894100130281e-05, 'frequency': 1}, {'percentage': 4.652894100130281e-05, 'frequency': 1}, {'percentage': 9.305788200260562e-05, 'frequency': 2}, {'percentage': 4.652894100130281e-05, 'frequency': 1}, {'percentage': 9.305788200260562e-05, 'frequency': 2}, {'percentage': 4.652894100130281e-05, 'frequency': 1}, {'percentage': 4.652894100130281e-05, 'frequency': 1}, {'percentage': 4.652894100130281e-05, 'frequency': 1}, {'percentage': 4.652894100130281e-05, 'frequency': 1}, {'percentage': 4.652894100130281e-05, 'frequency': 1}, {'percentage': 4.652894100130281e-05, 'frequency': 1}], 'p_value': 0.0, 'feature_matrix': [[{'total_percentage': 0.6892332030522985, 'row_percentage': 1.0, 'column_percentage': 0.8274494469891632, 'frequency': 14813}, {'total_percentage': 0.0, 'row_percentage': 0.0, 'column_percentage': 0.0, 'frequency': 0}], [{'total_percentage': 0.14372789875302439, 'row_percentage': 1.0, 'column_percentage': 0.17255055301083677, 'frequency': 3089}, {'total_percentage': 0.0, 'row_percentage': 0.0, 'column_percentage': 0.0, 'frequency': 0}], [{'total_percentage': 0.0, 'row_percentage': 0.0, 'column_percentage': 0.0, 'frequency': 0}, {'total_percentage': 0.10906383770705379, 'row_percentage': 1.0, 'column_percentage': 0.6529247910863509, 'frequency': 2344}], [{'total_percentage': 0.0, 'row_percentage': 0.0, 'column_percentage': 0.0, 'frequency': 0}, {'total_percentage': 0.03210496929089894, 'row_percentage': 1.0, 'column_percentage': 0.19220055710306408, 'frequency': 690}], [{'total_percentage': 0.0, 'row_percentage': 0.0, 'column_percentage': 0.0, 'frequency': 0}, {'total_percentage': 0.012190582542341337, 'row_percentage': 1.0, 'column_percentage': 0.07298050139275766, 'frequency': 262}], [{'total_percentage': 0.0, 'row_percentage': 0.0, 'column_percentage': 0.0, 'frequency': 0}, {'total_percentage': 0.005490415038153731, 'row_percentage': 1.0, 'column_percentage': 0.03286908077994429, 'frequency': 118}], [{'total_percentage': 0.0, 'row_percentage': 0.0, 'column_percentage': 0.0, 'frequency': 0}, {'total_percentage': 0.0027917364600781687, 'row_percentage': 1.0, 'column_percentage': 0.016713091922005572, 'frequency': 60}], [{'total_percentage': 0.0, 'row_percentage': 0.0, 'column_percentage': 0.0, 'frequency': 0}, {'total_percentage': 0.0013493392890377815, 'row_percentage': 1.0, 'column_percentage': 0.00807799442896936, 'frequency': 29}], [{'total_percentage': 0.0, 'row_percentage': 0.0, 'column_percentage': 0.0, 'frequency': 0}, {'total_percentage': 0.0007909919970221478, 'row_percentage': 1.0, 'column_percentage': 0.004735376044568245, 'frequency': 17}], [{'total_percentage': 0.0, 'row_percentage': 0.0, 'column_percentage': 0.0, 'frequency': 0}, {'total_percentage': 0.0006979341150195422, 'row_percentage': 1.0, 'column_percentage': 0.004178272980501393, 'frequency': 15}], [{'total_percentage': 0.0, 'row_percentage': 0.0, 'column_percentage': 0.0, 'frequency': 0}, {'total_percentage': 0.0004187604690117253, 'row_percentage': 1.0, 'column_percentage': 0.0025069637883008357, 'frequency': 9}], [{'total_percentage': 0.0, 'row_percentage': 0.0, 'column_percentage': 0.0, 'frequency': 0}, {'total_percentage': 0.0004187604690117253, 'row_percentage': 1.0, 'column_percentage': 0.0025069637883008357, 'frequency': 9}], [{'total_percentage': 0.0, 'row_percentage': 0.0, 'column_percentage': 0.0, 'frequency': 0}, {'total_percentage': 0.00018611576400521124, 'row_percentage': 1.0, 'column_percentage': 0.0011142061281337048, 'frequency': 4}], [{'total_percentage': 0.0, 'row_percentage': 0.0, 'column_percentage': 0.0, 'frequency': 0}, {'total_percentage': 0.0003257025870091197, 'row_percentage': 1.0, 'column_percentage': 0.0019498607242339832, 'frequency': 7}], [{'total_percentage': 0.0, 'row_percentage': 0.0, 'column_percentage': 0.0, 'frequency': 0}, {'total_percentage': 4.652894100130281e-05, 'row_percentage': 1.0, 'column_percentage': 0.0002785515320334262, 'frequency': 1}], [{'total_percentage': 0.0, 'row_percentage': 0.0, 'column_percentage': 0.0, 'frequency': 0}, {'total_percentage': 0.00013958682300390843, 'row_percentage': 1.0, 'column_percentage': 0.0008356545961002785, 'frequency': 3}], [{'total_percentage': 0.0, 'row_percentage': 0.0, 'column_percentage': 0.0, 'frequency': 0}, {'total_percentage': 0.00023264470500651406, 'row_percentage': 1.0, 'column_percentage': 0.001392757660167131, 'frequency': 5}], [{'total_percentage': 0.0, 'row_percentage': 0.0, 'column_percentage': 0.0, 'frequency': 0}, {'total_percentage': 9.305788200260562e-05, 'row_percentage': 1.0, 'column_percentage': 0.0005571030640668524, 'frequency': 2}], [{'total_percentage': 0.0, 'row_percentage': 0.0, 'column_percentage': 0.0, 'frequency': 0}, {'total_percentage': 9.305788200260562e-05, 'row_percentage': 1.0, 'column_percentage': 0.0005571030640668524, 'frequency': 2}], [{'total_percentage': 0.0, 'row_percentage': 0.0, 'column_percentage': 0.0, 'frequency': 0}, {'total_percentage': 4.652894100130281e-05, 'row_percentage': 1.0, 'column_percentage': 0.0002785515320334262, 'frequency': 1}], [{'total_percentage': 0.0, 'row_percentage': 0.0, 'column_percentage': 0.0, 'frequency': 0}, {'total_percentage': 4.652894100130281e-05, 'row_percentage': 1.0, 'column_percentage': 0.0002785515320334262, 'frequency': 1}], [{'total_percentage': 0.0, 'row_percentage': 0.0, 'column_percentage': 0.0, 'frequency': 0}, {'total_percentage': 9.305788200260562e-05, 'row_percentage': 1.0, 'column_percentage': 0.0005571030640668524, 'frequency': 2}], [{'total_percentage': 0.0, 'row_percentage': 0.0, 'column_percentage': 0.0, 'frequency': 0}, {'total_percentage': 4.652894100130281e-05, 'row_percentage': 1.0, 'column_percentage': 0.0002785515320334262, 'frequency': 1}], [{'total_percentage': 0.0, 'row_percentage': 0.0, 'column_percentage': 0.0, 'frequency': 0}, {'total_percentage': 9.305788200260562e-05, 'row_percentage': 1.0, 'column_percentage': 0.0005571030640668524, 'frequency': 2}], [{'total_percentage': 0.0, 'row_percentage': 0.0, 'column_percentage': 0.0, 'frequency': 0}, {'total_percentage': 4.652894100130281e-05, 'row_percentage': 1.0, 'column_percentage': 0.0002785515320334262, 'frequency': 1}], [{'total_percentage': 0.0, 'row_percentage': 0.0, 'column_percentage': 0.0, 'frequency': 0}, {'total_percentage': 4.652894100130281e-05, 'row_percentage': 1.0, 'column_percentage': 0.0002785515320334262, 'frequency': 1}], [{'total_percentage': 0.0, 'row_percentage': 0.0, 'column_percentage': 0.0, 'frequency': 0}, {'total_percentage': 4.652894100130281e-05, 'row_percentage': 1.0, 'column_percentage': 0.0002785515320334262, 'frequency': 1}], [{'total_percentage': 0.0, 'row_percentage': 0.0, 'column_percentage': 0.0, 'frequency': 0}, {'total_percentage': 4.652894100130281e-05, 'row_percentage': 1.0, 'column_percentage': 0.0002785515320334262, 'frequency': 1}], [{'total_percentage': 0.0, 'row_percentage': 0.0, 'column_percentage': 0.0, 'frequency': 0}, {'total_percentage': 4.652894100130281e-05, 'row_percentage': 1.0, 'column_percentage': 0.0002785515320334262, 'frequency': 1}], [{'total_percentage': 0.0, 'row_percentage': 0.0, 'column_percentage': 0.0, 'frequency': 0}, {'total_percentage': 4.652894100130281e-05, 'row_percentage': 1.0, 'column_percentage': 0.0002785515320334262, 'frequency': 1}]], 'chi_squared': 21491.999999999993, 'total': 21492}, {'feature_b': {'feature_qualifiers': [{'value': 0, 'operator': '='}, {'value': 1, 'operator': '='}], 'feature_name': 'Prednisone'}, 'columns': [{'percentage': 0.8329611018053229, 'frequency': 17902}, {'percentage': 0.1670388981946771, 'frequency': 3590}], 'feature_a': {'feature_qualifiers': [{'value': 2, 'operator': '<'}, {'value': 2, 'operator': '>='}], 'feature_name': 'TotalEDInpatientVisits'}, 'rows': [{'percentage': 0.8951702959240647, 'frequency': 19239}, {'percentage': 0.10482970407593523, 'frequency': 2253}], 'p_value': 1.1180903063022454e-23, 'feature_matrix': [[{'total_percentage': 0.7538153731621068, 'row_percentage': 0.8420915848017049, 'column_percentage': 0.9049826834990504, 'frequency': 16201}, {'total_percentage': 0.14135492276195794, 'row_percentage': 0.15790841519829513, 'column_percentage': 0.8462395543175487, 'frequency': 3038}], [{'total_percentage': 0.07914572864321608, 'row_percentage': 0.7549933422103862, 'column_percentage': 0.09501731650094962, 'frequency': 1701}, {'total_percentage': 0.02568397543271915, 'row_percentage': 0.24500665778961384, 'column_percentage': 0.15376044568245126, 'frequency': 552}]], 'chi_squared': 109.96216990797932, 'total': 21492}, {'feature_b': {'feature_qualifiers': [{'value': 0, 'operator': '='}, {'value': 1, 'operator': '='}], 'feature_name': 'Mometasone'}, 'columns': [{'percentage': 0.8329611018053229, 'frequency': 17902}, {'percentage': 0.1670388981946771, 'frequency': 3590}], 'feature_a': {'feature_qualifiers': [{'value': 2, 'operator': '<'}, {'value': 2, 'operator': '>='}], 'feature_name': 'TotalEDInpatientVisits'}, 'rows': [{'percentage': 0.984319746882561, 'frequency': 21155}, {'percentage': 0.015680253117439046, 'frequency': 337}], 'p_value': 0.00106215012725766, 'feature_matrix': [[{'total_percentage': 0.8186301879769217, 'row_percentage': 0.8316709997636492, 'column_percentage': 0.9827952184113506, 'frequency': 17594}, {'total_percentage': 0.1656895589056393, 'row_percentage': 0.16832900023635075, 'column_percentage': 0.9919220055710306, 'frequency': 3561}], [{'total_percentage': 0.014330913828401265, 'row_percentage': 0.913946587537092, 'column_percentage': 0.017204781588649312, 'frequency': 308}, {'total_percentage': 0.0013493392890377815, 'row_percentage': 0.08605341246290801, 'column_percentage': 0.00807799442896936, 'frequency': 29}]], 'chi_squared': 16.13859593375987, 'total': 21492}, {'feature_b': {'feature_qualifiers': [{'value': 0, 'operator': '='}, {'value': 1, 'operator': '='}], 'feature_name': 'Budesonide'}, 'columns': [{'percentage': 0.8329611018053229, 'frequency': 17902}, {'percentage': 0.1670388981946771, 'frequency': 3590}], 'feature_a': {'feature_qualifiers': [{'value': 2, 'operator': '<'}, {'value': 2, 'operator': '>='}], 'feature_name': 'TotalEDInpatientVisits'}, 'rows': [{'percentage': 0.9540759352317141, 'frequency': 20505}, {'percentage': 0.04592406476828587, 'frequency': 987}], 'p_value': 0.015641103266372428, 'feature_matrix': [[{'total_percentage': 0.7929927414852038, 'row_percentage': 0.8311631309436722, 'column_percentage': 0.9520165344654229, 'frequency': 17043}, {'total_percentage': 0.16108319374651034, 'row_percentage': 0.16883686905632772, 'column_percentage': 0.9643454038997215, 'frequency': 3462}], [{'total_percentage': 0.03996836032011911, 'row_percentage': 0.8703140830800405, 'column_percentage': 0.04798346553457714, 'frequency': 859}, {'total_percentage': 0.00595570444816676, 'row_percentage': 0.12968591691995948, 'column_percentage': 0.03565459610027855, 'frequency': 128}]], 'chi_squared': 10.373908512214845, 'total': 21492}, {'feature_b': {'feature_qualifiers': [{'value': 0, 'operator': '='}, {'value': 1, 'operator': '='}], 'feature_name': 'Albuterol'}, 'columns': [{'percentage': 0.8329611018053229, 'frequency': 17902}, {'percentage': 0.1670388981946771, 'frequency': 3590}], 'feature_a': {'feature_qualifiers': [{'value': 2, 'operator': '<'}, {'value': 2, 'operator': '>='}], 'feature_name': 'TotalEDInpatientVisits'}, 'rows': [{'percentage': 0.7112413921459148, 'frequency': 15286}, {'percentage': 0.28875860785408525, 'frequency': 6206}], 'p_value': 0.04478652335107, 'feature_matrix': [[{'total_percentage': 0.5957100316396798, 'row_percentage': 0.8375637838545074, 'column_percentage': 0.7151714892190817, 'frequency': 12803}, {'total_percentage': 0.11553136050623487, 'row_percentage': 0.1624362161454926, 'column_percentage': 0.6916434540389972, 'frequency': 2483}], [{'total_percentage': 0.23725107016564304, 'row_percentage': 0.8216242346116661, 'column_percentage': 0.2848285107809183, 'frequency': 5099}, {'total_percentage': 0.05150753768844221, 'row_percentage': 0.17837576538833386, 'column_percentage': 0.30835654596100276, 'frequency': 1107}]], 'chi_squared': 8.06006470961281, 'total': 21492}, {'feature_b': {'feature_qualifiers': [{'value': 0, 'operator': '='}, {'value': 1, 'operator': '='}], 'feature_name': 'Diphenhydramine'}, 'columns': [{'percentage': 0.8329611018053229, 'frequency': 17902}, {'percentage': 0.1670388981946771, 'frequency': 3590}], 'feature_a': {'feature_qualifiers': [{'value': 2, 'operator': '<'}, {'value': 2, 'operator': '>='}], 'feature_name': 'TotalEDInpatientVisits'}, 'rows': [{'percentage': 0.8661362367392518, 'frequency': 18615}, {'percentage': 0.1338637632607482, 'frequency': 2877}], 'p_value': 1.9605955442282923e-34, 'feature_matrix': [[{'total_percentage': 0.7324120603015075, 'row_percentage': 0.8456083803384368, 'column_percentage': 0.8792872304770417, 'frequency': 15741}, {'total_percentage': 0.13372417643774429, 'row_percentage': 0.15439161966156326, 'column_percentage': 0.8005571030640668, 'frequency': 2874}], [{'total_percentage': 0.10054904150381537, 'row_percentage': 0.7511296489398679, 'column_percentage': 0.12071276952295833, 'frequency': 2161}, {'total_percentage': 0.033314721756932814, 'row_percentage': 0.24887035106013208, 'column_percentage': 0.19944289693593314, 'frequency': 716}]], 'chi_squared': 159.86442847726266, 'total': 21492}, {'feature_b': {'feature_qualifiers': [{'value': 0, 'operator': '='}, {'value': 1, 'operator': '='}], 'feature_name': 'Cetirizine'}, 'columns': [{'percentage': 0.8329611018053229, 'frequency': 17902}, {'percentage': 0.1670388981946771, 'frequency': 3590}], 'feature_a': {'feature_qualifiers': [{'value': 2, 'operator': '<'}, {'value': 2, 'operator': '>='}], 'feature_name': 'TotalEDInpatientVisits'}, 'rows': [{'percentage': 0.9474688256095292, 'frequency': 20363}, {'percentage': 0.05253117439047087, 'frequency': 1129}], 'p_value': 0.003924597447558311, 'feature_matrix': [[{'total_percentage': 0.7871300949190396, 'row_percentage': 0.830771497323577, 'column_percentage': 0.9449782147246117, 'frequency': 16917}, {'total_percentage': 0.16033873069048948, 'row_percentage': 0.16922850267642292, 'column_percentage': 0.9598885793871866, 'frequency': 3446}], [{'total_percentage': 0.04583100688628327, 'row_percentage': 0.8724534986713907, 'column_percentage': 0.05502178527538822, 'frequency': 985}, {'total_percentage': 0.006700167504187605, 'row_percentage': 0.1275465013286094, 'column_percentage': 0.04011142061281337, 'frequency': 144}]], 'chi_squared': 13.357145608459799, 'total': 21492}, {'feature_b': {'feature_qualifiers': [{'value': 0, 'operator': '='}, {'value': 1, 'operator': '='}], 'feature_name': 'Ipratropium'}, 'columns': [{'percentage': 0.8329611018053229, 'frequency': 17902}, {'percentage': 0.1670388981946771, 'frequency': 3590}], 'feature_a': {'feature_qualifiers': [{'value': 2, 'operator': '<'}, {'value': 2, 'operator': '>='}], 'feature_name': 'TotalEDInpatientVisits'}, 'rows': [{'percentage': 0.9473757677275265, 'frequency': 20361}, {'percentage': 0.05262423227247348, 'frequency': 1131}], 'p_value': 2.546658420195129e-41, 'feature_matrix': [[{'total_percentage': 0.7969942304113158, 'row_percentage': 0.8412651637935269, 'column_percentage': 0.9568204669869288, 'frequency': 17129}, {'total_percentage': 0.15038153731621068, 'row_percentage': 0.15873483620647316, 'column_percentage': 0.9002785515320334, 'frequency': 3232}], [{'total_percentage': 0.035966871394007074, 'row_percentage': 0.6834659593280283, 'column_percentage': 0.04317953301307117, 'frequency': 773}, {'total_percentage': 0.016657360878466407, 'row_percentage': 0.3165340406719717, 'column_percentage': 0.09972144846796657, 'frequency': 358}]], 'chi_squared': 191.75741131714443, 'total': 21492}, {'feature_b': {'feature_qualifiers': [{'value': 0, 'operator': '='}, {'value': 1, 'operator': '='}], 'feature_name': 'Salmeterol'}, 'columns': [{'percentage': 0.8329611018053229, 'frequency': 17902}, {'percentage': 0.1670388981946771, 'frequency': 3590}], 'feature_a': {'feature_qualifiers': [{'value': 2, 'operator': '<'}, {'value': 2, 'operator': '>='}], 'feature_name': 'TotalEDInpatientVisits'}, 'rows': [{'percentage': 0.9979527265959427, 'frequency': 21448}, {'percentage': 0.0020472734040573237, 'frequency': 44}], 'p_value': 0.0003361168690149911, 'feature_matrix': [[{'total_percentage': 0.8317513493392891, 'row_percentage': 0.8334576650503543, 'column_percentage': 0.9985476483074517, 'frequency': 17876}, {'total_percentage': 0.16620137725665363, 'row_percentage': 0.16654233494964565, 'column_percentage': 0.9949860724233983, 'frequency': 3572}], [{'total_percentage': 0.001209752466033873, 'row_percentage': 0.5909090909090909, 'column_percentage': 0.0014523516925483186, 'frequency': 26}, {'total_percentage': 0.0008375209380234506, 'row_percentage': 0.4090909090909091, 'column_percentage': 0.005013927576601671, 'frequency': 18}]], 'chi_squared': 18.565974934801602, 'total': 21492}], 'terms and conditions': \"The Translator Integrated Clinical and Environmental Exposures Service (ICEES) is providing you with Data that have been de-identified in accordance with 45 C.F.R. §§ 164.514(a) and (b) and that UNC Health Care System (UNCHCS) is permitted to provide under 45 C.F.R. § 164.502(d)(2). Recipient agrees to notify UNCHCS via NC TraCS in the event that Recipient receives any identifiable data in error and to take such measures to return the identifiable data and/or destroy it at the direction of UNCHCS.\\n\\nRestrictions on Recipient’s Use of Data. Recipient further agrees to use the data exclusively for the purposes and functionalities provided by the ICEES: cohort discovery; feature-rich cohort discovery; hypothesis-driven queries; and exploratory queries. Recipient agrees to use appropriate safeguards to protect the Data from misuse and unauthorized access or disclosure. Recipient will report to UNCHCS any unauthorized access, use, or disclosure of the Data not provided for by the Service of which Recipient becomes aware. Recipient will not attempt to identify the individuals whose information is contained in any Data transferred pursuant to this Service Agreement or attempt to contact those individuals. Recipient agrees not to sell the Data to any third party for any purpose. Recipient agrees not to disclose or publish the Data in any manner that would identify the Data as originating from UNCHCS. Finally, Recipient agrees to reasonably limit the number of queries to the Service per IP address within a given time interval, in order to prevent rapid ‘attacks’ on the Service.\\n\\nWe kindly request that Translator team members provide proper attribution for any products (e.g., manuscripts, podium presentations, software) derived from work related to Green Team's clinical datasets. Attribution should include acknowledgement of the funder (National Center for Advancing Translational Sciences [NCATS], Biomedical Data Translator Program awards, OT3TR002020 and OT2TR002514), the North Carolina Translational and Clinical Sciences (NC TraCS) Institute (NCATS, Center for Translational Science Award, UL1TR002489), UNC Hospitals and Health Care System, and all Green Team members who contributed to the work.\\n\"}\n"
     ]
    }
   ],
   "source": [
    "print(output_1c_json)"
   ]
  },
  {
   "cell_type": "markdown",
   "metadata": {},
   "source": [
    "<br><div class=\"alert alert-block alert-info\" style=\"font-size:20px; font-weight: normal\">\n",
    "<b>2a)</b> Now, define a second cohort with \"MaxDailyPM2.5Exposure > 2\" whereas in the previous example\n",
    "    we were looking at \"AvgDailyPM2.5Exposure > 2\". This second cohort will be COHORT:46\n",
    "</div>"
   ]
  },
  {
   "cell_type": "markdown",
   "metadata": {},
   "source": [
    "<div class=\"alert alert-block alert-warning\" style=\"font-size:16px\">\n",
    "<b>Part 2a Inputs:</b> <br>version = 1.0.0, <br>table = patient, <br>year = 2010, <br>{\"MaxDailyPM2.5Exposure\": {\n",
    "        \"value\": 2,\n",
    "        \"operator\": \">\"\n",
    "      }}\n",
    "</div>"
   ]
  },
  {
   "cell_type": "code",
   "execution_count": 5,
   "metadata": {},
   "outputs": [
    {
     "name": "stdout",
     "output_type": "stream",
     "text": [
      "The Translator Integrated Clinical and Environmental Exposures Service (ICEES) is providing you with Data that have been de-identified in accordance with 45 C.F.R. Â§Â§ 164.514(a) and (b) and that UNC Health Care System (UNCHCS) is permitted to provide under 45 C.F.R. Â§ 164.502(d)(2). Recipient agrees to notify UNCHCS via NC TraCS in the event that Recipient receives any identifiable data in error and to take such measures to return the identifiable data and/or destroy it at the direction of UNCHCS.\n",
      "\n",
      "Restrictions on Recipientâs Use of Data. Recipient further agrees to use the data exclusively for the purposes and functionalities provided by the ICEES: cohort discovery; feature-rich cohort discovery; hypothesis-driven queries; and exploratory queries. Recipient agrees to use appropriate safeguards to protect the Data from misuse and unauthorized access or disclosure. Recipient will report to UNCHCS any unauthorized access, use, or disclosure of the Data not provided for by the Service of which Recipient becomes aware. Recipient will not attempt to identify the individuals whose information is contained in any Data transferred pursuant to this Service Agreement or attempt to contact those individuals. Recipient agrees not to sell the Data to any third party for any purpose. Recipient agrees not to disclose or publish the Data in any manner that would identify the Data as originating from UNCHCS. Finally, Recipient agrees to reasonably limit the number of queries to the Service per IP address within a given time interval, in order to prevent rapid âattacksâ on the Service.\n",
      "\n",
      "We kindly request that Translator team members provide proper attribution for any products (e.g., manuscripts, podium presentations, software) derived from work related to Green Team's clinical datasets. Attribution should include acknowledgement of the funder (National Center for Advancing Translational Sciences [NCATS], Biomedical Data Translator Program awards, OT3TR002020 and OT2TR002514), the North Carolina Translational and Clinical Sciences (NC TraCS) Institute (NCATS, Center for Translational Science Award, UL1TR002489), UNC Hospitals and Health Care System, and all Green Team members who contributed to the work.\n",
      "\n",
      "+-------------+--------+\n",
      "| cohort_id   |   size |\n",
      "+=============+========+\n",
      "| COHORT:46   |   4950 |\n",
      "+-------------+--------+\n",
      "\n"
     ]
    }
   ],
   "source": [
    "data_2a = '{\"MaxDailyPM2.5Exposure\": { \\\n",
    "        \"value\": 2, \\\n",
    "        \"operator\": \">\" \\\n",
    "      }}'\n",
    "\n",
    "response_2a = requests.post('https://icees.renci.org/1.0.0/patient/2010/cohort', \\\n",
    "    data=data_2a, headers = tabular_headers, verify = False)\n",
    "\n",
    "output_2a = response_2a.text\n",
    "print(output_2a)"
   ]
  },
  {
   "cell_type": "markdown",
   "metadata": {},
   "source": [
    "<div class=\"alert alert-block alert-info\" style=\"font-size:20px; font-weight: normal\">\n",
    "<b>2b)</b> With COHORT:46 (n = 4950) defined, let's also look at the '/associations_to_all_features' endpoint/functionality for this cohort\n",
    "</div>"
   ]
  },
  {
   "cell_type": "markdown",
   "metadata": {},
   "source": [
    "<div class=\"alert alert-block alert-warning\" style=\"font-size:16px\">\n",
    "<b>Part 2b Inputs:</b> <br>version = 1.0.0, <br>table = patient, <br>year = 2010, <br>cohort_id = COHORT:46,\n",
    "    <br>{\"feature\":{\"TotalEDInpatientVisits\":{\"operator\":\"<\",\n",
    "                                            \"value\":2}},\"maximum_p_value\":0.1}\n",
    "</div>"
   ]
  },
  {
   "cell_type": "code",
   "execution_count": null,
   "metadata": {},
   "outputs": [],
   "source": []
  },
  {
   "cell_type": "markdown",
   "metadata": {},
   "source": [
    "<br><div class=\"alert alert-block alert-info\" style=\"font-size:20px; font-weight: normal\">\n",
    "<b>2c)</b> Once more, we will cast the above output, this time for COHORT:46, into the \"accept\":\"application/json\"\n",
    "        output format.</div>"
   ]
  },
  {
   "cell_type": "code",
   "execution_count": null,
   "metadata": {},
   "outputs": [],
   "source": [
    "json_headers = {\"Content-Type\" : \"application/json\", \"accept\": \"application/json\"}\n",
    "\n",
    "\n",
    "\n",
    "response_2c_json = requests.post('https://icees.renci.org/1.0.0/patient/2010/cohort/COHORT%3A46/associations_to_all_features', \\\n",
    "                                 headers = json_headers, data=data_4, verify = False)\n",
    "output_2c_json = response_2c_json.json()"
   ]
  },
  {
   "cell_type": "code",
   "execution_count": null,
   "metadata": {},
   "outputs": [],
   "source": [
    "print(output_2c_json)"
   ]
  },
  {
   "cell_type": "markdown",
   "metadata": {},
   "source": [
    "<br> <div class=\"alert alert-block alert-info\" style=\"font-size:20px; font-weight: normal\">\n",
    "<b>3)</b> Consider a cohort of all patients, COHORT:22. We will now try out the '/feature_association' endpoint\n",
    "    using this full cohort.\n",
    "</div>"
   ]
  },
  {
   "cell_type": "markdown",
   "metadata": {},
   "source": [
    "https://icees.renci.org/apidocs/#/default/post__version___table___year__cohort__cohort_id__feature_association"
   ]
  },
  {
   "cell_type": "markdown",
   "metadata": {},
   "source": [
    "<div class=\"alert alert-block alert-warning\" style=\"font-size:16px\">\n",
    "<b>Part 3 Inputs:</b> <br>version = 1.0.0, <br>table = patient, <br>year = 2010, <br>cohort_id = COHORT:22, <br>\"feature_a\":{\"TotalEDInpatientVisits\":{\"operator\":\"<\", \"value\":2}}, <br>\"feature_b\":{\"AvgDailyPM2.5Exposure\":{\"operator\":\"<\", \"value\":3}}\n",
    "</div>"
   ]
  },
  {
   "cell_type": "code",
   "execution_count": null,
   "metadata": {
    "scrolled": true
   },
   "outputs": [],
   "source": [
    "data_3 = '{\"feature_a\":{\"TotalEDInpatientVisits\":{\"operator\":\"<\", \"value\":2}}, \\\n",
    "                                  \"feature_b\":{\"AvgDailyPM2.5Exposure\":{\"operator\":\"<\", \"value\":3}}}'\n",
    "\n",
    "response_3 = requests.post('https://icees.renci.org/1.0.0/patient/2010/cohort/COHORT%3A22/feature_association', \\\n",
    "                           headers = tabular_headers, data=data_3, verify = False)\n",
    "\n",
    "output_3 = response_3.text\n",
    "\n",
    "output_3_disclaimer_removed = output_3.split('Green Team members who contributed to the work.')[1]\n",
    "print(output_3_disclaimer_removed)"
   ]
  },
  {
   "cell_type": "markdown",
   "metadata": {},
   "source": [
    "<div class=\"alert alert-block alert-info\" style=\"font-size:20px; font-weight: normal\">\n",
    "<b>4)</b> Again using COHORT:22, take a look at the endpoint '/associations_to_all_features'\n",
    "</div>"
   ]
  },
  {
   "cell_type": "markdown",
   "metadata": {},
   "source": [
    "<div class=\"alert alert-block alert-warning\" style=\"font-size:16px\">\n",
    "<b>Part 4 Inputs:</b> <br>version = 1.0.0, <br>table = patient, <br>year = 2010, <br>cohort_id = COHORT:22, \\\n",
    "        <br>\"feature\":{\"TotalEDInpatientVisits\":{\"operator\":\">\", <br>\"value\":1}},\"maximum_p_value\":0.1}\n",
    "</div>"
   ]
  },
  {
   "cell_type": "code",
   "execution_count": null,
   "metadata": {},
   "outputs": [],
   "source": [
    "data_4 = '{\"feature\":{\"TotalEDInpatientVisits\":{\"operator\":\"<\", \\\n",
    "                                            \"value\":2}},\"maximum_p_value\":0.1}'\n",
    "\n",
    "response_4 = requests.post('https://icees.renci.org/1.0.0/patient/2010/cohort/COHORT%3A22/associations_to_all_features', \\\n",
    "                           headers = tabular_headers, data=data_4, verify = False)\n",
    "\n",
    "output_4 = response_4.text\n",
    "\n",
    "output_4_disclaimer_removed = output_4.split('Green Team members who contributed to the work.')[1]\n",
    "print(output_4_disclaimer_removed)"
   ]
  }
 ],
 "metadata": {
  "kernelspec": {
   "display_name": "Python 3",
   "language": "python",
   "name": "python3"
  },
  "language_info": {
   "codemirror_mode": {
    "name": "ipython",
    "version": 3
   },
   "file_extension": ".py",
   "mimetype": "text/x-python",
   "name": "python",
   "nbconvert_exporter": "python",
   "pygments_lexer": "ipython3",
   "version": "3.7.0"
  }
 },
 "nbformat": 4,
 "nbformat_minor": 2
}

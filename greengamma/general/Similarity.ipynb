{
 "cells": [
  {
   "cell_type": "markdown",
   "metadata": {
    "deletable": true,
    "editable": true
   },
   "source": [
    "# Using ROBOKOP's similarity service"
   ]
  },
  {
   "cell_type": "markdown",
   "metadata": {
    "deletable": true,
    "editable": true
   },
   "source": [
    "The ROBOKOP similarity service takes an entity as an input and returns similar entities.  Here, similarity is defined as by the sharing of connections to an intermediate entity.   For instance, a user may have a particular disease such as asthma, and want to find other diseases that are phenotypically similar.\n",
    "\n",
    "Similarity between two entities, based on an intermediary type that relates them, is defined using a Jaccard coefficient.  It's defined as the number of intermediate nodes that link the two end nodes divided by the total number of nodes to which the end nodes are linked.\n",
    "\n",
    "For example, suppose that we are looking for diseases that are phenotpyically similar to asthma.  Asthma is related to a set of phenotypes.  Another disease, such as COPD is related to another set of phenotypes.  The Jaccard coefficient between Asthma and COPD will be the size of the intersection between these sets divided by the size of their union.  by definition, the similarity cofficient will be in the range [0,1]."
   ]
  },
  {
   "cell_type": "markdown",
   "metadata": {
    "deletable": true,
    "editable": true
   },
   "source": [
    "## Basic Usage"
   ]
  },
  {
   "cell_type": "markdown",
   "metadata": {
    "deletable": true,
    "editable": true
   },
   "source": [
    "This function explains how to call the similarity function.  It takes an identifier (`ident`) and its type (`type1`), the type of return (`type 2`) and the type of the intermediate nodes defining the similarity (`by_type`)."
   ]
  },
  {
   "cell_type": "code",
   "execution_count": 1,
   "metadata": {
    "collapsed": true,
    "deletable": true,
    "editable": true
   },
   "outputs": [],
   "source": [
    "import requests\n",
    "import pandas as pd"
   ]
  },
  {
   "cell_type": "code",
   "execution_count": 2,
   "metadata": {
    "collapsed": true,
    "deletable": true,
    "editable": true
   },
   "outputs": [],
   "source": [
    "def similarity(type1,ident,type2,by_type,threshhold=None,maxresults=None,rebuild=None):\n",
    "    url=f'http://robokop.renci.org/api/simple/similarity/{type1}/{ident}/{type2}/{by_type}'\n",
    "    params = { 'threshhold': threshhold, 'maxresults': maxresults, 'rebuild': rebuild }\n",
    "    params = { k:v for k,v in params.items() if v is not None }\n",
    "    response=requests.get(url, params = params)\n",
    "    print( 'Return code:',response.status_code )\n",
    "    return response.json()"
   ]
  },
  {
   "cell_type": "code",
   "execution_count": 3,
   "metadata": {
    "collapsed": false,
    "deletable": true,
    "editable": true
   },
   "outputs": [
    {
     "name": "stdout",
     "output_type": "stream",
     "text": [
      "Return code: 200\n",
      "[{'id': 'MONDO:0001358', 'name': 'bronchial disease', 'similarity': 0.45936395759717313}]\n"
     ]
    }
   ],
   "source": [
    "asthma = 'MONDO:0004979'\n",
    "similar = similarity('disease',asthma,'disease','phenotypic_feature')\n",
    "print(similar)"
   ]
  },
  {
   "cell_type": "markdown",
   "metadata": {
    "deletable": true,
    "editable": true
   },
   "source": [
    "The return is a list of dictionaries, and is easily converted into a pandas DataFrame:"
   ]
  },
  {
   "cell_type": "code",
   "execution_count": 4,
   "metadata": {
    "collapsed": false,
    "deletable": true,
    "editable": true
   },
   "outputs": [
    {
     "data": {
      "text/html": [
       "<div>\n",
       "<style>\n",
       "    .dataframe thead tr:only-child th {\n",
       "        text-align: right;\n",
       "    }\n",
       "\n",
       "    .dataframe thead th {\n",
       "        text-align: left;\n",
       "    }\n",
       "\n",
       "    .dataframe tbody tr th {\n",
       "        vertical-align: top;\n",
       "    }\n",
       "</style>\n",
       "<table border=\"1\" class=\"dataframe\">\n",
       "  <thead>\n",
       "    <tr style=\"text-align: right;\">\n",
       "      <th></th>\n",
       "      <th>id</th>\n",
       "      <th>name</th>\n",
       "      <th>similarity</th>\n",
       "    </tr>\n",
       "  </thead>\n",
       "  <tbody>\n",
       "    <tr>\n",
       "      <th>0</th>\n",
       "      <td>MONDO:0001358</td>\n",
       "      <td>bronchial disease</td>\n",
       "      <td>0.459364</td>\n",
       "    </tr>\n",
       "  </tbody>\n",
       "</table>\n",
       "</div>"
      ],
      "text/plain": [
       "              id               name  similarity\n",
       "0  MONDO:0001358  bronchial disease    0.459364"
      ]
     },
     "execution_count": 4,
     "metadata": {},
     "output_type": "execute_result"
    }
   ],
   "source": [
    "pd.DataFrame(similar)"
   ]
  },
  {
   "cell_type": "markdown",
   "metadata": {
    "deletable": true,
    "editable": true
   },
   "source": [
    "## Controlling the number of responses with threshhold and maxresults"
   ]
  },
  {
   "cell_type": "markdown",
   "metadata": {
    "deletable": true,
    "editable": true
   },
   "source": [
    "The similarity service by default returns the top 100 matches with a coefficient > 0.4.  These somewhat arbitrary cutoffs can be modified using the threshhold and maxresults parameters.  In the example above, only a single result for asthma is found with this cutoff.  We can lower the threshhold to return more results:"
   ]
  },
  {
   "cell_type": "code",
   "execution_count": 5,
   "metadata": {
    "collapsed": false,
    "deletable": true,
    "editable": true
   },
   "outputs": [
    {
     "name": "stdout",
     "output_type": "stream",
     "text": [
      "Return code: 200\n"
     ]
    },
    {
     "data": {
      "text/html": [
       "<div>\n",
       "<style>\n",
       "    .dataframe thead tr:only-child th {\n",
       "        text-align: right;\n",
       "    }\n",
       "\n",
       "    .dataframe thead th {\n",
       "        text-align: left;\n",
       "    }\n",
       "\n",
       "    .dataframe tbody tr th {\n",
       "        vertical-align: top;\n",
       "    }\n",
       "</style>\n",
       "<table border=\"1\" class=\"dataframe\">\n",
       "  <thead>\n",
       "    <tr style=\"text-align: right;\">\n",
       "      <th></th>\n",
       "      <th>id</th>\n",
       "      <th>name</th>\n",
       "      <th>similarity</th>\n",
       "    </tr>\n",
       "  </thead>\n",
       "  <tbody>\n",
       "    <tr>\n",
       "      <th>0</th>\n",
       "      <td>MONDO:0001358</td>\n",
       "      <td>bronchial disease</td>\n",
       "      <td>0.459364</td>\n",
       "    </tr>\n",
       "    <tr>\n",
       "      <th>1</th>\n",
       "      <td>MONDO:0005990</td>\n",
       "      <td>tracheitis</td>\n",
       "      <td>0.358696</td>\n",
       "    </tr>\n",
       "    <tr>\n",
       "      <th>2</th>\n",
       "      <td>MONDO:0003014</td>\n",
       "      <td>rhinitis</td>\n",
       "      <td>0.341040</td>\n",
       "    </tr>\n",
       "    <tr>\n",
       "      <th>3</th>\n",
       "      <td>MONDO:0003781</td>\n",
       "      <td>bronchitis</td>\n",
       "      <td>0.339286</td>\n",
       "    </tr>\n",
       "    <tr>\n",
       "      <th>4</th>\n",
       "      <td>MONDO:0005002</td>\n",
       "      <td>chronic obstructive pulmonary disease</td>\n",
       "      <td>0.331858</td>\n",
       "    </tr>\n",
       "    <tr>\n",
       "      <th>5</th>\n",
       "      <td>MONDO:0000771</td>\n",
       "      <td>allergic respiratory disease</td>\n",
       "      <td>0.311111</td>\n",
       "    </tr>\n",
       "    <tr>\n",
       "      <th>6</th>\n",
       "      <td>MONDO:0020028</td>\n",
       "      <td>rare allergic respiratory disease</td>\n",
       "      <td>0.311111</td>\n",
       "    </tr>\n",
       "    <tr>\n",
       "      <th>7</th>\n",
       "      <td>MONDO:0002267</td>\n",
       "      <td>obstructive lung disease</td>\n",
       "      <td>0.310502</td>\n",
       "    </tr>\n",
       "    <tr>\n",
       "      <th>8</th>\n",
       "      <td>MONDO:0002567</td>\n",
       "      <td>tracheal disease</td>\n",
       "      <td>0.301639</td>\n",
       "    </tr>\n",
       "    <tr>\n",
       "      <th>9</th>\n",
       "      <td>MONDO:0005812</td>\n",
       "      <td>influenza</td>\n",
       "      <td>0.275862</td>\n",
       "    </tr>\n",
       "    <tr>\n",
       "      <th>10</th>\n",
       "      <td>MONDO:0011786</td>\n",
       "      <td>allergic rhinitis</td>\n",
       "      <td>0.275000</td>\n",
       "    </tr>\n",
       "    <tr>\n",
       "      <th>11</th>\n",
       "      <td>MONDO:0005249</td>\n",
       "      <td>pneumonia</td>\n",
       "      <td>0.265672</td>\n",
       "    </tr>\n",
       "    <tr>\n",
       "      <th>12</th>\n",
       "      <td>MONDO:0002232</td>\n",
       "      <td>nasal cavity disease</td>\n",
       "      <td>0.260331</td>\n",
       "    </tr>\n",
       "    <tr>\n",
       "      <th>13</th>\n",
       "      <td>MONDO:0004822</td>\n",
       "      <td>bronchiectasis</td>\n",
       "      <td>0.254335</td>\n",
       "    </tr>\n",
       "    <tr>\n",
       "      <th>14</th>\n",
       "      <td>MONDO:0002465</td>\n",
       "      <td>bronchiolitis (disease)</td>\n",
       "      <td>0.253086</td>\n",
       "    </tr>\n",
       "  </tbody>\n",
       "</table>\n",
       "</div>"
      ],
      "text/plain": [
       "               id                                   name  similarity\n",
       "0   MONDO:0001358                      bronchial disease    0.459364\n",
       "1   MONDO:0005990                             tracheitis    0.358696\n",
       "2   MONDO:0003014                               rhinitis    0.341040\n",
       "3   MONDO:0003781                             bronchitis    0.339286\n",
       "4   MONDO:0005002  chronic obstructive pulmonary disease    0.331858\n",
       "5   MONDO:0000771           allergic respiratory disease    0.311111\n",
       "6   MONDO:0020028      rare allergic respiratory disease    0.311111\n",
       "7   MONDO:0002267               obstructive lung disease    0.310502\n",
       "8   MONDO:0002567                       tracheal disease    0.301639\n",
       "9   MONDO:0005812                              influenza    0.275862\n",
       "10  MONDO:0011786                      allergic rhinitis    0.275000\n",
       "11  MONDO:0005249                              pneumonia    0.265672\n",
       "12  MONDO:0002232                   nasal cavity disease    0.260331\n",
       "13  MONDO:0004822                         bronchiectasis    0.254335\n",
       "14  MONDO:0002465                bronchiolitis (disease)    0.253086"
      ]
     },
     "execution_count": 5,
     "metadata": {},
     "output_type": "execute_result"
    }
   ],
   "source": [
    "similar = similarity('disease',asthma,'disease','phenotypic_feature',threshhold=0.25)\n",
    "pd.DataFrame(similar)"
   ]
  },
  {
   "cell_type": "markdown",
   "metadata": {
    "deletable": true,
    "editable": true
   },
   "source": [
    "This number of results can be reduced again using maxresults:"
   ]
  },
  {
   "cell_type": "code",
   "execution_count": 6,
   "metadata": {
    "collapsed": false,
    "deletable": true,
    "editable": true
   },
   "outputs": [
    {
     "name": "stdout",
     "output_type": "stream",
     "text": [
      "Return code: 200\n"
     ]
    },
    {
     "data": {
      "text/html": [
       "<div>\n",
       "<style>\n",
       "    .dataframe thead tr:only-child th {\n",
       "        text-align: right;\n",
       "    }\n",
       "\n",
       "    .dataframe thead th {\n",
       "        text-align: left;\n",
       "    }\n",
       "\n",
       "    .dataframe tbody tr th {\n",
       "        vertical-align: top;\n",
       "    }\n",
       "</style>\n",
       "<table border=\"1\" class=\"dataframe\">\n",
       "  <thead>\n",
       "    <tr style=\"text-align: right;\">\n",
       "      <th></th>\n",
       "      <th>id</th>\n",
       "      <th>name</th>\n",
       "      <th>similarity</th>\n",
       "    </tr>\n",
       "  </thead>\n",
       "  <tbody>\n",
       "    <tr>\n",
       "      <th>0</th>\n",
       "      <td>MONDO:0001358</td>\n",
       "      <td>bronchial disease</td>\n",
       "      <td>0.459364</td>\n",
       "    </tr>\n",
       "    <tr>\n",
       "      <th>1</th>\n",
       "      <td>MONDO:0005990</td>\n",
       "      <td>tracheitis</td>\n",
       "      <td>0.358696</td>\n",
       "    </tr>\n",
       "    <tr>\n",
       "      <th>2</th>\n",
       "      <td>MONDO:0003014</td>\n",
       "      <td>rhinitis</td>\n",
       "      <td>0.341040</td>\n",
       "    </tr>\n",
       "    <tr>\n",
       "      <th>3</th>\n",
       "      <td>MONDO:0003781</td>\n",
       "      <td>bronchitis</td>\n",
       "      <td>0.339286</td>\n",
       "    </tr>\n",
       "    <tr>\n",
       "      <th>4</th>\n",
       "      <td>MONDO:0005002</td>\n",
       "      <td>chronic obstructive pulmonary disease</td>\n",
       "      <td>0.331858</td>\n",
       "    </tr>\n",
       "  </tbody>\n",
       "</table>\n",
       "</div>"
      ],
      "text/plain": [
       "              id                                   name  similarity\n",
       "0  MONDO:0001358                      bronchial disease    0.459364\n",
       "1  MONDO:0005990                             tracheitis    0.358696\n",
       "2  MONDO:0003014                               rhinitis    0.341040\n",
       "3  MONDO:0003781                             bronchitis    0.339286\n",
       "4  MONDO:0005002  chronic obstructive pulmonary disease    0.331858"
      ]
     },
     "execution_count": 6,
     "metadata": {},
     "output_type": "execute_result"
    }
   ],
   "source": [
    "similar = similarity('disease',asthma,'disease','phenotypic_feature',threshhold=0.25,maxresults=5)\n",
    "pd.DataFrame(similar)"
   ]
  },
  {
   "cell_type": "markdown",
   "metadata": {
    "deletable": true,
    "editable": true
   },
   "source": [
    "## Caching and rebuilding"
   ]
  },
  {
   "cell_type": "markdown",
   "metadata": {
    "deletable": true,
    "editable": true
   },
   "source": [
    "ROBOKOP maintains cached results.  The cache is built both opportunistically (including the results of all previous queries) and proactively (pre-loading data that expected to be heavily used).  By default, expand only looks in its cache.  If a result has not been previously cached, then this call will not return anything (and may return a status code of 500).\n",
    "\n",
    "If a user wants to force the service to look beyond its local cache, it sends a parameter `rebuild=True`, as shown below.\n",
    "\n",
    "If a user wants to be sure to retreive all relevant data, they should use `rebuild=True`, but this will be at the expense of performance.  In order to increase performance without sacrificing reliability, certain type pairs are preloaded into the cache.  In this case, there will be no difference in results between calling `rebuild=True` and `rebuild=False`, but calling with `rebuild=True` will be noticeably slower.\n",
    "\n",
    "Certain pairs of types are preloaded into ROBOKOP's cache, so there is no point in using rebuild for them. The following list will be updated as the preloaded list is modified.  Note that with the data loaded, it doesn't matter which type is the query and which is the resut.  That is, if a row in this table specifies `disease` and `phenotypic_feature`, then there is no reason to use rebuild for `type1=type2='disease' by_type='phenotypic_feature'` or similar combinations.\n",
    "\n",
    "| type | type |\n",
    "|------|------|\n",
    "| disease | phenotypic_feature |\n",
    "| genetic_disease | phenotypic_feature |\n",
    "| gene    | biological_process_or_function |\n",
    "| gene    | disease |"
   ]
  },
  {
   "cell_type": "code",
   "execution_count": 7,
   "metadata": {
    "collapsed": false,
    "deletable": true,
    "editable": true
   },
   "outputs": [
    {
     "name": "stdout",
     "output_type": "stream",
     "text": [
      "Return code: 200\n"
     ]
    },
    {
     "data": {
      "text/html": [
       "<div>\n",
       "<style>\n",
       "    .dataframe thead tr:only-child th {\n",
       "        text-align: right;\n",
       "    }\n",
       "\n",
       "    .dataframe thead th {\n",
       "        text-align: left;\n",
       "    }\n",
       "\n",
       "    .dataframe tbody tr th {\n",
       "        vertical-align: top;\n",
       "    }\n",
       "</style>\n",
       "<table border=\"1\" class=\"dataframe\">\n",
       "  <thead>\n",
       "    <tr style=\"text-align: right;\">\n",
       "      <th></th>\n",
       "      <th>id</th>\n",
       "      <th>name</th>\n",
       "      <th>similarity</th>\n",
       "    </tr>\n",
       "  </thead>\n",
       "  <tbody>\n",
       "    <tr>\n",
       "      <th>0</th>\n",
       "      <td>MONDO:0008876</td>\n",
       "      <td>Bloom syndrome</td>\n",
       "      <td>0.208333</td>\n",
       "    </tr>\n",
       "    <tr>\n",
       "      <th>1</th>\n",
       "      <td>MONDO:0001044</td>\n",
       "      <td>esophageal atresia (disease)</td>\n",
       "      <td>0.190476</td>\n",
       "    </tr>\n",
       "    <tr>\n",
       "      <th>2</th>\n",
       "      <td>MONDO:0009215</td>\n",
       "      <td>Fanconi anemia complementation group A</td>\n",
       "      <td>0.137931</td>\n",
       "    </tr>\n",
       "    <tr>\n",
       "      <th>3</th>\n",
       "      <td>MONDO:0010215</td>\n",
       "      <td>xeroderma pigmentosum group F</td>\n",
       "      <td>0.126761</td>\n",
       "    </tr>\n",
       "    <tr>\n",
       "      <th>4</th>\n",
       "      <td>MONDO:0002280</td>\n",
       "      <td>anemia (disease)</td>\n",
       "      <td>0.102740</td>\n",
       "    </tr>\n",
       "  </tbody>\n",
       "</table>\n",
       "</div>"
      ],
      "text/plain": [
       "              id                                    name  similarity\n",
       "0  MONDO:0008876                          Bloom syndrome    0.208333\n",
       "1  MONDO:0001044            esophageal atresia (disease)    0.190476\n",
       "2  MONDO:0009215  Fanconi anemia complementation group A    0.137931\n",
       "3  MONDO:0010215           xeroderma pigmentosum group F    0.126761\n",
       "4  MONDO:0002280                        anemia (disease)    0.102740"
      ]
     },
     "execution_count": 7,
     "metadata": {},
     "output_type": "execute_result"
    }
   ],
   "source": [
    "fanconis_anemia = 'MONDO:0019391'\n",
    "similar_by_gene = similarity('disease',fanconis_anemia,'disease','gene',threshhold=0.1,rebuild=True)\n",
    "pd.DataFrame(similar_by_gene)"
   ]
  },
  {
   "cell_type": "markdown",
   "metadata": {
    "collapsed": true,
    "deletable": true,
    "editable": true
   },
   "source": [
    "## Similarity of discordant types"
   ]
  },
  {
   "cell_type": "markdown",
   "metadata": {
    "deletable": true,
    "editable": true
   },
   "source": [
    "An odd feature of this knowledge-graph based similarity is that the query type and result type don't need to be the same, as long as they share an intermediate feature.  For instance, we might use similarity by gene to find biological processes and activities for a given disease.  Note that we're using rebuild=True, since many of these types are not necessarily present in our cache:"
   ]
  },
  {
   "cell_type": "code",
   "execution_count": 8,
   "metadata": {
    "collapsed": false,
    "deletable": true,
    "editable": true
   },
   "outputs": [
    {
     "name": "stdout",
     "output_type": "stream",
     "text": [
      "Return code: 200\n"
     ]
    },
    {
     "data": {
      "text/html": [
       "<div>\n",
       "<style>\n",
       "    .dataframe thead tr:only-child th {\n",
       "        text-align: right;\n",
       "    }\n",
       "\n",
       "    .dataframe thead th {\n",
       "        text-align: left;\n",
       "    }\n",
       "\n",
       "    .dataframe tbody tr th {\n",
       "        vertical-align: top;\n",
       "    }\n",
       "</style>\n",
       "<table border=\"1\" class=\"dataframe\">\n",
       "  <thead>\n",
       "    <tr style=\"text-align: right;\">\n",
       "      <th></th>\n",
       "      <th>id</th>\n",
       "      <th>name</th>\n",
       "      <th>similarity</th>\n",
       "    </tr>\n",
       "  </thead>\n",
       "  <tbody>\n",
       "    <tr>\n",
       "      <th>0</th>\n",
       "      <td>GO:0036297</td>\n",
       "      <td>interstrand cross-link repair</td>\n",
       "      <td>0.344828</td>\n",
       "    </tr>\n",
       "    <tr>\n",
       "      <th>1</th>\n",
       "      <td>GO:0031297</td>\n",
       "      <td>replication fork processing</td>\n",
       "      <td>0.150685</td>\n",
       "    </tr>\n",
       "    <tr>\n",
       "      <th>2</th>\n",
       "      <td>GO:0000712</td>\n",
       "      <td>resolution of meiotic recombination intermediates</td>\n",
       "      <td>0.134328</td>\n",
       "    </tr>\n",
       "    <tr>\n",
       "      <th>3</th>\n",
       "      <td>GO:0000724</td>\n",
       "      <td>double-strand break repair via homologous reco...</td>\n",
       "      <td>0.115152</td>\n",
       "    </tr>\n",
       "  </tbody>\n",
       "</table>\n",
       "</div>"
      ],
      "text/plain": [
       "           id                                               name  similarity\n",
       "0  GO:0036297                      interstrand cross-link repair    0.344828\n",
       "1  GO:0031297                        replication fork processing    0.150685\n",
       "2  GO:0000712  resolution of meiotic recombination intermediates    0.134328\n",
       "3  GO:0000724  double-strand break repair via homologous reco...    0.115152"
      ]
     },
     "execution_count": 8,
     "metadata": {},
     "output_type": "execute_result"
    }
   ],
   "source": [
    "similar_go = similarity('disease',fanconis_anemia,'biological_process_or_activity','gene',threshhold=0.1,rebuild=True)\n",
    "pd.DataFrame(similar_go)"
   ]
  }
 ],
 "metadata": {
  "kernelspec": {
   "display_name": "Python 3",
   "language": "python",
   "name": "python3"
  },
  "language_info": {
   "codemirror_mode": {
    "name": "ipython",
    "version": 3
   },
   "file_extension": ".py",
   "mimetype": "text/x-python",
   "name": "python",
   "nbconvert_exporter": "python",
   "pygments_lexer": "ipython3",
   "version": "3.6.2"
  }
 },
 "nbformat": 4,
 "nbformat_minor": 2
}

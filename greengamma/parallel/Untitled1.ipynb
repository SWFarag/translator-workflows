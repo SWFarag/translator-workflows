{
 "cells": [
  {
   "cell_type": "code",
   "execution_count": 1,
   "metadata": {},
   "outputs": [],
   "source": [
    "from tranql.main import TranQL\n",
    "t = TranQL ()"
   ]
  },
  {
   "cell_type": "code",
   "execution_count": 8,
   "metadata": {},
   "outputs": [
    {
     "data": {
      "text/plain": [
       "<tranql.util.Context at 0x10d083588>"
      ]
     },
     "execution_count": 8,
     "metadata": {},
     "output_type": "execute_result"
    }
   ],
   "source": [
    "t(\"\"\"\n",
    "        set lam = 'MONDO:0006277'\n",
    "        set tuberous_sclerosis = 'MONDO:0001734'\n",
    "        set ehlers_danlos = 'MONDO:0020066'\n",
    "        set arsacs = 'MONDO:0010041'\n",
    "        set chordoma = 'MONDO:0008978'\n",
    "        set diabetes_mellitus_type_2 = 'MONDO:0015887'\n",
    "        \n",
    "        select chemical_substance->gene->phenotypic_feature<-disease\n",
    "          from '/graph/gamma/quick'\n",
    "         where disease = $diabetes_mellitus_type_2\n",
    "           set graph \"\"\")"
   ]
  },
  {
   "cell_type": "code",
   "execution_count": 9,
   "metadata": {},
   "outputs": [
    {
     "data": {
      "text/html": [
       "<table><tr></tr></table>"
      ],
      "text/plain": [
       "<IPython.core.display.HTML object>"
      ]
     },
     "metadata": {},
     "output_type": "display_data"
    },
    {
     "data": {
      "text/plain": [
       "'<table><tr></tr></table>'"
      ]
     },
     "execution_count": 9,
     "metadata": {},
     "output_type": "execute_result"
    }
   ],
   "source": [
    "t.context.toph (type_name='phenotypic_feature', k='result', n=500)"
   ]
  },
  {
   "cell_type": "code",
   "execution_count": 6,
   "metadata": {},
   "outputs": [
    {
     "data": {
      "text/plain": [
       "{'backplane': 'http://localhost:8099',\n",
       " 'lam': 'MONDO:0006277',\n",
       " 'tuberous_sclerosis': 'MONDO:0001734',\n",
       " 'ehlers_danlos': 'MONDO:0020066',\n",
       " 'arsacs': 'MONDO:0010041',\n",
       " 'chordoma': 'MONDO:0008978',\n",
       " 'diabetes_mellitus_type_2': 'MONDO:0015887',\n",
       " 'result': {'question_graph': {'edges': [{'id': 'e0',\n",
       "     'source_id': 'n0',\n",
       "     'target_id': 'n1'},\n",
       "    {'id': 'e1', 'source_id': 'n1', 'target_id': 'n2'},\n",
       "    {'id': 'e2', 'source_id': 'n2', 'target_id': 'n3'},\n",
       "    {'id': 'e3', 'source_id': 'n5', 'target_id': 'n3'}],\n",
       "   'nodes': [{'id': 'n0', 'type': 'chemical_substance'},\n",
       "    {'id': 'n1', 'type': 'gene'},\n",
       "    {'id': 'n2', 'type': 'anatomical_entity'},\n",
       "    {'id': 'n3', 'type': 'phenotypic_feature'},\n",
       "    {'id': 'n5', 'type': 'disease', 'curie': 'MONDO:0015887'}]},\n",
       "  'knowledge_graph': {'nodes': [], 'edges': []},\n",
       "  'answers': []}}"
      ]
     },
     "execution_count": 6,
     "metadata": {},
     "output_type": "execute_result"
    }
   ],
   "source": [
    "t.context.mem"
   ]
  },
  {
   "cell_type": "code",
   "execution_count": null,
   "metadata": {},
   "outputs": [],
   "source": []
  }
 ],
 "metadata": {
  "kernelspec": {
   "display_name": "Python 3",
   "language": "python",
   "name": "python3"
  },
  "language_info": {
   "codemirror_mode": {
    "name": "ipython",
    "version": 3
   },
   "file_extension": ".py",
   "mimetype": "text/x-python",
   "name": "python",
   "nbconvert_exporter": "python",
   "pygments_lexer": "ipython3",
   "version": "3.7.1rc1"
  }
 },
 "nbformat": 4,
 "nbformat_minor": 2
}

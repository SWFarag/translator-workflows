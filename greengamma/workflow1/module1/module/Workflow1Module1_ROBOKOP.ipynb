{
 "cells": [
  {
   "cell_type": "markdown",
   "metadata": {
    "deletable": true,
    "editable": true
   },
   "source": [
    "# Workflow 1, Module 1 (condition similarity)"
   ]
  },
  {
   "cell_type": "markdown",
   "metadata": {
    "deletable": true,
    "editable": true
   },
   "source": [
    "One approach to solving this module is to not define quite so tightly what's going on at the subquestion level in terms of enrichements and archetypes and so on, but simply pass the question to ROBOKOP and let its scoring bring the the best answers to the top.  Here we will use the quick service to start with a disease, find relevant phenotypes, and from there find genetic conditions. The answers will come out ranked by path.\n",
    "\n",
    "For more details, see the \"quick\" notebook in greengamma/general.\n",
    "\n",
    "First, we'll have a quick function that calls the quick service, and some functions for properly creating the question.  Then we'll create the question, run it, and pretty print it for two examples: diabetes and asthma."
   ]
  },
  {
   "cell_type": "code",
   "execution_count": 1,
   "metadata": {
    "collapsed": true,
    "deletable": true,
    "editable": true
   },
   "outputs": [],
   "source": [
    "import requests\n",
    "import pandas as pd\n",
    "\n",
    "def quick(question,max_connectivity=None):\n",
    "    url=f'http://robokop.renci.org:80/api/simple/quick'\n",
    "    if max_connectivity is not None:\n",
    "        url += f'?max_connectivity={max_connectivity}'\n",
    "    print(url)\n",
    "    response = requests.post(url,json=question)\n",
    "    print( f\"Return Status: {response.status_code}\" )\n",
    "    if response.status_code == 200:\n",
    "        return response.json()\n",
    "    return response"
   ]
  },
  {
   "cell_type": "markdown",
   "metadata": {
    "deletable": true,
    "editable": true
   },
   "source": [
    "The basic machine question created below goes from a disease to a set of phenotypes to a genetic_condition.  Making the phenotypes a set allows there to be many phenotypes that connect the disease to the condition."
   ]
  },
  {
   "cell_type": "code",
   "execution_count": 2,
   "metadata": {
    "collapsed": false,
    "deletable": true,
    "editable": true
   },
   "outputs": [],
   "source": [
    "def create_basic_question(disease_id):\n",
    "    return {\n",
    "    \"machine_question\": {\n",
    "        \"nodes\": [\n",
    "            {\n",
    "                \"id\": \"n0\",\n",
    "                \"type\": \"disease\",\n",
    "                \"curie\": disease_id\n",
    "            },\n",
    "            {\n",
    "                \"id\": \"n1\",\n",
    "                \"type\": \"phenotypic_feature\",\n",
    "                \"set\": True\n",
    "            },\n",
    "            {\n",
    "                \"id\": \"n2\",\n",
    "                \"type\": \"genetic_condition\"\n",
    "            }\n",
    "        ],\n",
    "        \"edges\": [\n",
    "            {\n",
    "                \"id\": \"e0\",\n",
    "                \"source_id\": \"n0\",\n",
    "                \"target_id\": \"n1\"\n",
    "            },\n",
    "            {\n",
    "                \"id\": \"e1\",\n",
    "                \"source_id\": \"n1\",\n",
    "                \"target_id\": \"n2\"\n",
    "            }\n",
    "        ]\n",
    "    }\n",
    "}"
   ]
  },
  {
   "cell_type": "code",
   "execution_count": 3,
   "metadata": {
    "collapsed": false,
    "deletable": true,
    "editable": true
   },
   "outputs": [],
   "source": [
    "def parse_answer(returnanswer):\n",
    "    #First, parse out the parts of the kg that we want, names and types\n",
    "    kg_node_names = { n['id']: n['name'] if 'name' in n else n['id'] for n in returnanswer['knowledge_graph']['nodes'] }\n",
    "    answers = [ {\"phenotype_id\": answer['node_bindings']['n1'],\n",
    "                 \"phenotype_name\": [kg_node_names[x] for x in answer['node_bindings']['n1']],\n",
    "                 \"condition_id\": answer['node_bindings']['n2'], \n",
    "                 \"condition_name\": kg_node_names[answer['node_bindings']['n2']], #if 'name' in node else node['id'], \n",
    "                 \"score\" :      answer['score']\n",
    "                }\n",
    "              for answer in returnanswer['answers']]\n",
    "    return pd.DataFrame(answers)"
   ]
  },
  {
   "cell_type": "code",
   "execution_count": 4,
   "metadata": {
    "collapsed": true,
    "deletable": true,
    "editable": true
   },
   "outputs": [],
   "source": [
    "diabetes = 'MONDO:0005148' #type 2 diabetes\n",
    "asthma = 'MONDO:0004979' #asthma"
   ]
  },
  {
   "cell_type": "markdown",
   "metadata": {
    "deletable": true,
    "editable": true
   },
   "source": [
    "For both diabetes and asthma, let's make a question of the type above, and run it.  The max_connectivity option sets a maximum degree for a node in the path, and is used to control the amount of time it takes to run and the specificity of the result. 1000 is a decent across the board value."
   ]
  },
  {
   "cell_type": "code",
   "execution_count": 18,
   "metadata": {
    "collapsed": false,
    "deletable": true,
    "editable": true
   },
   "outputs": [
    {
     "name": "stdout",
     "output_type": "stream",
     "text": [
      "http://robokop.renci.org:80/api/simple/quick?max_connectivity=1000\n",
      "Return Status: 200\n"
     ]
    }
   ],
   "source": [
    "diabetes_question = create_basic_question(diabetes)\n",
    "diabetes_answer = quick(diabetes_question,max_connectivity=1000)"
   ]
  },
  {
   "cell_type": "code",
   "execution_count": null,
   "metadata": {
    "collapsed": true
   },
   "outputs": [],
   "source": [
    "asthma_question = create_basic_question(asthma)\n",
    "asthma_answer = quick(asthma_question,max_connectivity=1000)"
   ]
  },
  {
   "cell_type": "code",
   "execution_count": 6,
   "metadata": {
    "collapsed": false,
    "deletable": true,
    "editable": true
   },
   "outputs": [
    {
     "data": {
      "text/html": [
       "<div>\n",
       "<style>\n",
       "    .dataframe thead tr:only-child th {\n",
       "        text-align: right;\n",
       "    }\n",
       "\n",
       "    .dataframe thead th {\n",
       "        text-align: left;\n",
       "    }\n",
       "\n",
       "    .dataframe tbody tr th {\n",
       "        vertical-align: top;\n",
       "    }\n",
       "</style>\n",
       "<table border=\"1\" class=\"dataframe\">\n",
       "  <thead>\n",
       "    <tr style=\"text-align: right;\">\n",
       "      <th></th>\n",
       "      <th>condition_id</th>\n",
       "      <th>condition_name</th>\n",
       "      <th>phenotype_id</th>\n",
       "      <th>phenotype_name</th>\n",
       "      <th>score</th>\n",
       "    </tr>\n",
       "  </thead>\n",
       "  <tbody>\n",
       "    <tr>\n",
       "      <th>0</th>\n",
       "      <td>MONDO:0011565</td>\n",
       "      <td>metabolic syndrome X</td>\n",
       "      <td>[HP:0000831, HP:0100753, HP:0003233, HP:000084...</td>\n",
       "      <td>[Insulin-resistant diabetes mellitus, Schizoph...</td>\n",
       "      <td>65.627247</td>\n",
       "    </tr>\n",
       "    <tr>\n",
       "      <th>1</th>\n",
       "      <td>MONDO:0011382</td>\n",
       "      <td>sickle cell anemia</td>\n",
       "      <td>[HP:0000802, HP:0003146, HP:0001900, HP:000215...</td>\n",
       "      <td>[Impotence, Hypocholesterolemia, Increased hem...</td>\n",
       "      <td>34.605712</td>\n",
       "    </tr>\n",
       "    <tr>\n",
       "      <th>2</th>\n",
       "      <td>MONDO:0001076</td>\n",
       "      <td>glucose intolerance</td>\n",
       "      <td>[HP:0003233, HP:0000833, HP:0002621, HP:000085...</td>\n",
       "      <td>[Decreased circulating high-density lipoprotei...</td>\n",
       "      <td>31.848940</td>\n",
       "    </tr>\n",
       "    <tr>\n",
       "      <th>3</th>\n",
       "      <td>MONDO:0006507</td>\n",
       "      <td>hereditary hemochromatosis</td>\n",
       "      <td>[HP:0000842, HP:0002621, HP:0000855, HP:001209...</td>\n",
       "      <td>[Hyperinsulinemia, Atherosclerosis, Insulin re...</td>\n",
       "      <td>31.190267</td>\n",
       "    </tr>\n",
       "    <tr>\n",
       "      <th>4</th>\n",
       "      <td>MONDO:0008575</td>\n",
       "      <td>nicotine dependence</td>\n",
       "      <td>[HP:0002621, HP:0000704, HP:0100785, HP:000073...</td>\n",
       "      <td>[Atherosclerosis, Periodontitis, Insomnia, Dis...</td>\n",
       "      <td>30.738832</td>\n",
       "    </tr>\n",
       "  </tbody>\n",
       "</table>\n",
       "</div>"
      ],
      "text/plain": [
       "    condition_id              condition_name  \\\n",
       "0  MONDO:0011565        metabolic syndrome X   \n",
       "1  MONDO:0011382          sickle cell anemia   \n",
       "2  MONDO:0001076         glucose intolerance   \n",
       "3  MONDO:0006507  hereditary hemochromatosis   \n",
       "4  MONDO:0008575         nicotine dependence   \n",
       "\n",
       "                                        phenotype_id  \\\n",
       "0  [HP:0000831, HP:0100753, HP:0003233, HP:000084...   \n",
       "1  [HP:0000802, HP:0003146, HP:0001900, HP:000215...   \n",
       "2  [HP:0003233, HP:0000833, HP:0002621, HP:000085...   \n",
       "3  [HP:0000842, HP:0002621, HP:0000855, HP:001209...   \n",
       "4  [HP:0002621, HP:0000704, HP:0100785, HP:000073...   \n",
       "\n",
       "                                      phenotype_name      score  \n",
       "0  [Insulin-resistant diabetes mellitus, Schizoph...  65.627247  \n",
       "1  [Impotence, Hypocholesterolemia, Increased hem...  34.605712  \n",
       "2  [Decreased circulating high-density lipoprotei...  31.848940  \n",
       "3  [Hyperinsulinemia, Atherosclerosis, Insulin re...  31.190267  \n",
       "4  [Atherosclerosis, Periodontitis, Insomnia, Dis...  30.738832  "
      ]
     },
     "execution_count": 6,
     "metadata": {},
     "output_type": "execute_result"
    }
   ],
   "source": [
    "diabetes_frame = parse_answer(diabetes_answer)\n",
    "diabetes_frame.head()"
   ]
  },
  {
   "cell_type": "markdown",
   "metadata": {
    "deletable": true,
    "editable": true
   },
   "source": [
    "The results that come back make reasonable sense, especially metabolic syndrome X and glucose intolerance.  "
   ]
  },
  {
   "cell_type": "code",
   "execution_count": 7,
   "metadata": {
    "collapsed": false,
    "deletable": true,
    "editable": true,
    "scrolled": true
   },
   "outputs": [
    {
     "data": {
      "text/html": [
       "<div>\n",
       "<style>\n",
       "    .dataframe thead tr:only-child th {\n",
       "        text-align: right;\n",
       "    }\n",
       "\n",
       "    .dataframe thead th {\n",
       "        text-align: left;\n",
       "    }\n",
       "\n",
       "    .dataframe tbody tr th {\n",
       "        vertical-align: top;\n",
       "    }\n",
       "</style>\n",
       "<table border=\"1\" class=\"dataframe\">\n",
       "  <thead>\n",
       "    <tr style=\"text-align: right;\">\n",
       "      <th></th>\n",
       "      <th>condition_id</th>\n",
       "      <th>condition_name</th>\n",
       "      <th>phenotype_id</th>\n",
       "      <th>phenotype_name</th>\n",
       "      <th>score</th>\n",
       "    </tr>\n",
       "  </thead>\n",
       "  <tbody>\n",
       "    <tr>\n",
       "      <th>0</th>\n",
       "      <td>MONDO:0007186</td>\n",
       "      <td>gastroesophageal reflux disease</td>\n",
       "      <td>[HP:0002110, HP:0004469, HP:0100021, HP:000287...</td>\n",
       "      <td>[Bronchiectasis, Chronic bronchitis, Cerebral ...</td>\n",
       "      <td>21.838889</td>\n",
       "    </tr>\n",
       "    <tr>\n",
       "      <th>1</th>\n",
       "      <td>MONDO:0010086</td>\n",
       "      <td>sudden infant death syndrome</td>\n",
       "      <td>[HP:0002791, HP:0100710, HP:0002788, HP:000594...</td>\n",
       "      <td>[Hypoventilation, Impulsivity, Recurrent upper...</td>\n",
       "      <td>21.767215</td>\n",
       "    </tr>\n",
       "    <tr>\n",
       "      <th>2</th>\n",
       "      <td>MONDO:0015977</td>\n",
       "      <td>agammaglobulinemia</td>\n",
       "      <td>[HP:0006510, HP:0002846, HP:0006528, HP:001195...</td>\n",
       "      <td>[Chronic obstructive pulmonary disease, Abnorm...</td>\n",
       "      <td>20.901615</td>\n",
       "    </tr>\n",
       "    <tr>\n",
       "      <th>3</th>\n",
       "      <td>MONDO:0013282</td>\n",
       "      <td>alpha 1-antitrypsin deficiency</td>\n",
       "      <td>[HP:0006510, HP:0006536, HP:0100665, HP:001195...</td>\n",
       "      <td>[Chronic obstructive pulmonary disease, Obstru...</td>\n",
       "      <td>20.091313</td>\n",
       "    </tr>\n",
       "    <tr>\n",
       "      <th>4</th>\n",
       "      <td>MONDO:0001901</td>\n",
       "      <td>selective IgG subclass deficiency</td>\n",
       "      <td>[HP:0002843, HP:0010701, HP:0002837, HP:001110...</td>\n",
       "      <td>[Abnormal T cell morphology, Abnormal immunogl...</td>\n",
       "      <td>18.574985</td>\n",
       "    </tr>\n",
       "  </tbody>\n",
       "</table>\n",
       "</div>"
      ],
      "text/plain": [
       "    condition_id                     condition_name  \\\n",
       "0  MONDO:0007186    gastroesophageal reflux disease   \n",
       "1  MONDO:0010086       sudden infant death syndrome   \n",
       "2  MONDO:0015977                 agammaglobulinemia   \n",
       "3  MONDO:0013282     alpha 1-antitrypsin deficiency   \n",
       "4  MONDO:0001901  selective IgG subclass deficiency   \n",
       "\n",
       "                                        phenotype_id  \\\n",
       "0  [HP:0002110, HP:0004469, HP:0100021, HP:000287...   \n",
       "1  [HP:0002791, HP:0100710, HP:0002788, HP:000594...   \n",
       "2  [HP:0006510, HP:0002846, HP:0006528, HP:001195...   \n",
       "3  [HP:0006510, HP:0006536, HP:0100665, HP:001195...   \n",
       "4  [HP:0002843, HP:0010701, HP:0002837, HP:001110...   \n",
       "\n",
       "                                      phenotype_name      score  \n",
       "0  [Bronchiectasis, Chronic bronchitis, Cerebral ...  21.838889  \n",
       "1  [Hypoventilation, Impulsivity, Recurrent upper...  21.767215  \n",
       "2  [Chronic obstructive pulmonary disease, Abnorm...  20.901615  \n",
       "3  [Chronic obstructive pulmonary disease, Obstru...  20.091313  \n",
       "4  [Abnormal T cell morphology, Abnormal immunogl...  18.574985  "
      ]
     },
     "execution_count": 7,
     "metadata": {},
     "output_type": "execute_result"
    }
   ],
   "source": [
    "asthma_frame = parse_answer(asthma_answer)\n",
    "asthma_frame.head()"
   ]
  },
  {
   "cell_type": "markdown",
   "metadata": {
    "deletable": true,
    "editable": true
   },
   "source": [
    "The results for asthma look a bit odder, but we can dig into the phenotypes a little bit and see what it is that are connecting, e.g. asthma and sudden infant death syndrome, which shows a pretty reasonble amount of respiratory phenotypes."
   ]
  },
  {
   "cell_type": "code",
   "execution_count": 8,
   "metadata": {
    "collapsed": false,
    "deletable": true,
    "editable": true
   },
   "outputs": [
    {
     "data": {
      "text/plain": [
       "['Bronchiectasis',\n",
       " 'Chronic bronchitis',\n",
       " 'Cerebral palsy',\n",
       " 'Obstructive sleep apnea',\n",
       " 'Sleep apnea',\n",
       " 'Pneumothorax',\n",
       " 'Stridor',\n",
       " 'Otitis media',\n",
       " 'Chronic sinusitis',\n",
       " 'Hoarse voice',\n",
       " 'Abnormality of the voice',\n",
       " 'Abnormality of the middle ear',\n",
       " 'Bronchitis',\n",
       " 'Abnormal bronchus morphology',\n",
       " 'Abnormal tracheobronchial morphology',\n",
       " 'Abnormality of the upper respiratory tract',\n",
       " 'Abnormality of the nasopharynx',\n",
       " 'Abnormal pattern of respiration',\n",
       " 'Abnormality of the pharynx',\n",
       " 'Abnormal vascular physiology',\n",
       " 'Abnormality of cardiovascular system electrophysiology',\n",
       " 'Abnormality of esophagus morphology',\n",
       " 'Abnormality of esophagus physiology',\n",
       " 'Abnormality of the stomach',\n",
       " 'Abnormality of the paranasal sinuses',\n",
       " 'Abnormal social behavior',\n",
       " 'Abnormal aggressive, impulsive or violent behavior',\n",
       " 'Neoplasm of the peripheral nervous system',\n",
       " 'Impairment in personality functioning',\n",
       " 'Immunologic hypersensitivity',\n",
       " 'Recurrent lower respiratory tract infections',\n",
       " 'Recurrent upper respiratory tract infections',\n",
       " 'Abnormality of eosinophils',\n",
       " 'Abnormality of granulocytes',\n",
       " 'Gastrointestinal inflammation',\n",
       " 'Allergy',\n",
       " 'Pheochromocytoma',\n",
       " 'Paraganglioma',\n",
       " 'Neuroendocrine neoplasm',\n",
       " 'Impaired social interactions',\n",
       " 'Abnormal fear/anxiety-related behavior',\n",
       " 'Neoplasm of the nervous system']"
      ]
     },
     "execution_count": 8,
     "metadata": {},
     "output_type": "execute_result"
    }
   ],
   "source": [
    "asthma_frame.loc[0,'phenotype_name']"
   ]
  },
  {
   "cell_type": "markdown",
   "metadata": {
    "deletable": true,
    "editable": true
   },
   "source": [
    "We can potentially sharpen some of these answers if we allow our searches to include conditions that are similar by both phenotype and biological process.  That is, we want to allow two paths connecting the input to the output, saying that they should be similar phenotypically, but also similar in terms of the processes that create the disease:"
   ]
  },
  {
   "cell_type": "code",
   "execution_count": 9,
   "metadata": {
    "collapsed": true,
    "deletable": true,
    "editable": true
   },
   "outputs": [],
   "source": [
    "def create_complex_question(disease_id,other_type):\n",
    "    return {\n",
    "    \"machine_question\": {\n",
    "        \"nodes\": [\n",
    "            {\n",
    "                \"id\": \"n0\",\n",
    "                \"type\": \"disease\",\n",
    "                \"curie\": disease_id\n",
    "            },\n",
    "            {\n",
    "                \"id\": \"n1\",\n",
    "                \"type\": \"phenotypic_feature\",\n",
    "                \"set\": True\n",
    "            },\n",
    "            {\n",
    "                \"id\": \"n2\",\n",
    "                \"type\": \"genetic_condition\"\n",
    "            },\n",
    "            {\n",
    "                \"id\": \"n3\",\n",
    "                \"type\": other_type,\n",
    "                \"set\": True\n",
    "            }\n",
    "        ],\n",
    "        \"edges\": [\n",
    "            {\n",
    "                \"id\": \"e0\",\n",
    "                \"source_id\": \"n0\",\n",
    "                \"target_id\": \"n1\"\n",
    "            },\n",
    "            {\n",
    "                \"id\": \"e1\",\n",
    "                \"source_id\": \"n1\",\n",
    "                \"target_id\": \"n2\"\n",
    "            },\n",
    "            {\n",
    "                \"id\": \"e2\",\n",
    "                \"source_id\": \"n0\",\n",
    "                \"target_id\": \"n3\"\n",
    "            },\n",
    "            {\n",
    "                \"id\": \"e3\",\n",
    "                \"source_id\": \"n3\",\n",
    "                \"target_id\": \"n2\"\n",
    "            }\n",
    "        ]\n",
    "    }\n",
    "}"
   ]
  },
  {
   "cell_type": "code",
   "execution_count": 16,
   "metadata": {
    "collapsed": false,
    "deletable": true,
    "editable": true
   },
   "outputs": [
    {
     "name": "stdout",
     "output_type": "stream",
     "text": [
      "http://robokop.renci.org:80/api/simple/quick?max_connectivity=1000\n",
      "Return Status: 200\n",
      "http://robokop.renci.org:80/api/simple/quick?max_connectivity=1000\n",
      "Return Status: 200\n"
     ]
    }
   ],
   "source": [
    "two_part_diabetes_question = create_complex_question(diabetes,'biological_process_or_activity')\n",
    "two_part_asthma_question = create_complex_question(asthma,'biological_process_or_activity')\n",
    "two_part_diabetes_answer = quick(two_part_diabetes_question,max_connectivity=1000)\n",
    "two_part_asthma_answer = quick(two_part_asthma_question,max_connectivity=1000)"
   ]
  },
  {
   "cell_type": "code",
   "execution_count": 17,
   "metadata": {
    "collapsed": false,
    "deletable": true,
    "editable": true
   },
   "outputs": [
    {
     "data": {
      "text/html": [
       "<div>\n",
       "<style>\n",
       "    .dataframe thead tr:only-child th {\n",
       "        text-align: right;\n",
       "    }\n",
       "\n",
       "    .dataframe thead th {\n",
       "        text-align: left;\n",
       "    }\n",
       "\n",
       "    .dataframe tbody tr th {\n",
       "        vertical-align: top;\n",
       "    }\n",
       "</style>\n",
       "<table border=\"1\" class=\"dataframe\">\n",
       "  <thead>\n",
       "    <tr style=\"text-align: right;\">\n",
       "      <th></th>\n",
       "      <th>condition_id</th>\n",
       "      <th>condition_name</th>\n",
       "      <th>phenotype_id</th>\n",
       "      <th>phenotype_name</th>\n",
       "      <th>score</th>\n",
       "    </tr>\n",
       "  </thead>\n",
       "  <tbody>\n",
       "    <tr>\n",
       "      <th>0</th>\n",
       "      <td>MONDO:0012819</td>\n",
       "      <td>diabetic ketoacidosis</td>\n",
       "      <td>[HP:0001942, HP:0001735, HP:0100753, HP:000195...</td>\n",
       "      <td>[Metabolic acidosis, Acute pancreatitis, Schiz...</td>\n",
       "      <td>0</td>\n",
       "    </tr>\n",
       "    <tr>\n",
       "      <th>1</th>\n",
       "      <td>MONDO:0001076</td>\n",
       "      <td>glucose intolerance</td>\n",
       "      <td>[HP:0004950, HP:0000842, HP:0009126, HP:000003...</td>\n",
       "      <td>[Peripheral arterial stenosis, Hyperinsulinemi...</td>\n",
       "      <td>0</td>\n",
       "    </tr>\n",
       "    <tr>\n",
       "      <th>2</th>\n",
       "      <td>MONDO:0015967</td>\n",
       "      <td>rare genetic diabetes mellitus</td>\n",
       "      <td>[HP:0003758, HP:0009125, HP:0002359, HP:000730...</td>\n",
       "      <td>[Reduced subcutaneous adipose tissue, Lipodyst...</td>\n",
       "      <td>0</td>\n",
       "    </tr>\n",
       "    <tr>\n",
       "      <th>3</th>\n",
       "      <td>MONDO:0007455</td>\n",
       "      <td>diabetes mellitus, noninsulin-dependent</td>\n",
       "      <td>[HP:0000855, HP:0011014, HP:0011013]</td>\n",
       "      <td>[Insulin resistance, Abnormal glucose homeosta...</td>\n",
       "      <td>0</td>\n",
       "    </tr>\n",
       "    <tr>\n",
       "      <th>4</th>\n",
       "      <td>MONDO:0008763</td>\n",
       "      <td>Alstrom syndrome</td>\n",
       "      <td>[HP:0000842, HP:0000147, HP:0002621, HP:000083...</td>\n",
       "      <td>[Hyperinsulinemia, Polycystic ovaries, Atheros...</td>\n",
       "      <td>0</td>\n",
       "    </tr>\n",
       "  </tbody>\n",
       "</table>\n",
       "</div>"
      ],
      "text/plain": [
       "    condition_id                           condition_name  \\\n",
       "0  MONDO:0012819                    diabetic ketoacidosis   \n",
       "1  MONDO:0001076                      glucose intolerance   \n",
       "2  MONDO:0015967           rare genetic diabetes mellitus   \n",
       "3  MONDO:0007455  diabetes mellitus, noninsulin-dependent   \n",
       "4  MONDO:0008763                         Alstrom syndrome   \n",
       "\n",
       "                                        phenotype_id  \\\n",
       "0  [HP:0001942, HP:0001735, HP:0100753, HP:000195...   \n",
       "1  [HP:0004950, HP:0000842, HP:0009126, HP:000003...   \n",
       "2  [HP:0003758, HP:0009125, HP:0002359, HP:000730...   \n",
       "3               [HP:0000855, HP:0011014, HP:0011013]   \n",
       "4  [HP:0000842, HP:0000147, HP:0002621, HP:000083...   \n",
       "\n",
       "                                      phenotype_name  score  \n",
       "0  [Metabolic acidosis, Acute pancreatitis, Schiz...      0  \n",
       "1  [Peripheral arterial stenosis, Hyperinsulinemi...      0  \n",
       "2  [Reduced subcutaneous adipose tissue, Lipodyst...      0  \n",
       "3  [Insulin resistance, Abnormal glucose homeosta...      0  \n",
       "4  [Hyperinsulinemia, Polycystic ovaries, Atheros...      0  "
      ]
     },
     "execution_count": 17,
     "metadata": {},
     "output_type": "execute_result"
    }
   ],
   "source": [
    "diabetes_frame = parse_answer(two_part_diabetes_answer)\n",
    "diabetes_frame.head()"
   ]
  },
  {
   "cell_type": "code",
   "execution_count": 12,
   "metadata": {
    "collapsed": false,
    "deletable": true,
    "editable": true
   },
   "outputs": [
    {
     "data": {
      "text/plain": [
       "'No results found'"
      ]
     },
     "execution_count": 12,
     "metadata": {},
     "output_type": "execute_result"
    }
   ],
   "source": [
    "two_part_asthma_answer"
   ]
  },
  {
   "cell_type": "markdown",
   "metadata": {
    "deletable": true,
    "editable": true
   },
   "source": [
    "For diabetes, we get an improved set of outputs because the conditions are both phenotypically similar to diabetes, but also share some of the biological mechanisms of the diesease.  However, for asthma, we find no results - there are no biological activites associated with asthma in our database, so no connections can be made. "
   ]
  },
  {
   "cell_type": "code",
   "execution_count": 13,
   "metadata": {
    "collapsed": false,
    "deletable": true,
    "editable": true
   },
   "outputs": [
    {
     "name": "stdout",
     "output_type": "stream",
     "text": [
      "http://robokop.renci.org:80/api/simple/quick?max_connectivity=1000\n",
      "Return Status: 200\n",
      "http://robokop.renci.org:80/api/simple/quick?max_connectivity=1000\n",
      "Return Status: 200\n"
     ]
    }
   ],
   "source": [
    "two_part_diabetes_question = create_complex_question(diabetes,'gene')\n",
    "two_part_asthma_question = create_complex_question(asthma,'gene')\n",
    "two_part_diabetes_answer = quick(two_part_diabetes_question,max_connectivity=1000)\n",
    "two_part_asthma_answer = quick(two_part_asthma_question,max_connectivity=1000)"
   ]
  },
  {
   "cell_type": "code",
   "execution_count": 14,
   "metadata": {
    "collapsed": false,
    "deletable": true,
    "editable": true
   },
   "outputs": [
    {
     "data": {
      "text/html": [
       "<div>\n",
       "<style>\n",
       "    .dataframe thead tr:only-child th {\n",
       "        text-align: right;\n",
       "    }\n",
       "\n",
       "    .dataframe thead th {\n",
       "        text-align: left;\n",
       "    }\n",
       "\n",
       "    .dataframe tbody tr th {\n",
       "        vertical-align: top;\n",
       "    }\n",
       "</style>\n",
       "<table border=\"1\" class=\"dataframe\">\n",
       "  <thead>\n",
       "    <tr style=\"text-align: right;\">\n",
       "      <th></th>\n",
       "      <th>condition_id</th>\n",
       "      <th>condition_name</th>\n",
       "      <th>phenotype_id</th>\n",
       "      <th>phenotype_name</th>\n",
       "      <th>score</th>\n",
       "    </tr>\n",
       "  </thead>\n",
       "  <tbody>\n",
       "    <tr>\n",
       "      <th>0</th>\n",
       "      <td>MONDO:0011565</td>\n",
       "      <td>metabolic syndrome X</td>\n",
       "      <td>[HP:0004950, HP:0003758, HP:0009125, HP:000730...</td>\n",
       "      <td>[Peripheral arterial stenosis, Reduced subcuta...</td>\n",
       "      <td>0</td>\n",
       "    </tr>\n",
       "    <tr>\n",
       "      <th>1</th>\n",
       "      <td>MONDO:0008487</td>\n",
       "      <td>polycystic ovary syndrome</td>\n",
       "      <td>[HP:0000842, HP:0000147, HP:0000833, HP:000262...</td>\n",
       "      <td>[Hyperinsulinemia, Polycystic ovaries, Glucose...</td>\n",
       "      <td>0</td>\n",
       "    </tr>\n",
       "    <tr>\n",
       "      <th>2</th>\n",
       "      <td>MONDO:0011382</td>\n",
       "      <td>sickle cell anemia</td>\n",
       "      <td>[HP:0001942, HP:0001712, HP:0000096, HP:000080...</td>\n",
       "      <td>[Metabolic acidosis, Left ventricular hypertro...</td>\n",
       "      <td>0</td>\n",
       "    </tr>\n",
       "    <tr>\n",
       "      <th>3</th>\n",
       "      <td>MONDO:0006507</td>\n",
       "      <td>hereditary hemochromatosis</td>\n",
       "      <td>[HP:0000842, HP:0000802, HP:0000833, HP:000262...</td>\n",
       "      <td>[Hyperinsulinemia, Impotence, Glucose intolera...</td>\n",
       "      <td>0</td>\n",
       "    </tr>\n",
       "    <tr>\n",
       "      <th>4</th>\n",
       "      <td>MONDO:0001076</td>\n",
       "      <td>glucose intolerance</td>\n",
       "      <td>[HP:0004950, HP:0000842, HP:0009126, HP:000003...</td>\n",
       "      <td>[Peripheral arterial stenosis, Hyperinsulinemi...</td>\n",
       "      <td>0</td>\n",
       "    </tr>\n",
       "  </tbody>\n",
       "</table>\n",
       "</div>"
      ],
      "text/plain": [
       "    condition_id              condition_name  \\\n",
       "0  MONDO:0011565        metabolic syndrome X   \n",
       "1  MONDO:0008487   polycystic ovary syndrome   \n",
       "2  MONDO:0011382          sickle cell anemia   \n",
       "3  MONDO:0006507  hereditary hemochromatosis   \n",
       "4  MONDO:0001076         glucose intolerance   \n",
       "\n",
       "                                        phenotype_id  \\\n",
       "0  [HP:0004950, HP:0003758, HP:0009125, HP:000730...   \n",
       "1  [HP:0000842, HP:0000147, HP:0000833, HP:000262...   \n",
       "2  [HP:0001942, HP:0001712, HP:0000096, HP:000080...   \n",
       "3  [HP:0000842, HP:0000802, HP:0000833, HP:000262...   \n",
       "4  [HP:0004950, HP:0000842, HP:0009126, HP:000003...   \n",
       "\n",
       "                                      phenotype_name  score  \n",
       "0  [Peripheral arterial stenosis, Reduced subcuta...      0  \n",
       "1  [Hyperinsulinemia, Polycystic ovaries, Glucose...      0  \n",
       "2  [Metabolic acidosis, Left ventricular hypertro...      0  \n",
       "3  [Hyperinsulinemia, Impotence, Glucose intolera...      0  \n",
       "4  [Peripheral arterial stenosis, Hyperinsulinemi...      0  "
      ]
     },
     "execution_count": 14,
     "metadata": {},
     "output_type": "execute_result"
    }
   ],
   "source": [
    "diabetes_frame = parse_answer(two_part_diabetes_answer)\n",
    "diabetes_frame.head()"
   ]
  },
  {
   "cell_type": "code",
   "execution_count": 15,
   "metadata": {
    "collapsed": false,
    "deletable": true,
    "editable": true
   },
   "outputs": [
    {
     "data": {
      "text/html": [
       "<div>\n",
       "<style>\n",
       "    .dataframe thead tr:only-child th {\n",
       "        text-align: right;\n",
       "    }\n",
       "\n",
       "    .dataframe thead th {\n",
       "        text-align: left;\n",
       "    }\n",
       "\n",
       "    .dataframe tbody tr th {\n",
       "        vertical-align: top;\n",
       "    }\n",
       "</style>\n",
       "<table border=\"1\" class=\"dataframe\">\n",
       "  <thead>\n",
       "    <tr style=\"text-align: right;\">\n",
       "      <th></th>\n",
       "      <th>condition_id</th>\n",
       "      <th>condition_name</th>\n",
       "      <th>phenotype_id</th>\n",
       "      <th>phenotype_name</th>\n",
       "      <th>score</th>\n",
       "    </tr>\n",
       "  </thead>\n",
       "  <tbody>\n",
       "    <tr>\n",
       "      <th>0</th>\n",
       "      <td>MONDO:0007186</td>\n",
       "      <td>gastroesophageal reflux disease</td>\n",
       "      <td>[HP:0002110, HP:0002107, HP:0011109, HP:001053...</td>\n",
       "      <td>[Bronchiectasis, Pneumothorax, Chronic sinusit...</td>\n",
       "      <td>0</td>\n",
       "    </tr>\n",
       "    <tr>\n",
       "      <th>1</th>\n",
       "      <td>MONDO:0015977</td>\n",
       "      <td>agammaglobulinemia</td>\n",
       "      <td>[HP:0006510, HP:0002110, HP:0011109, HP:000652...</td>\n",
       "      <td>[Chronic obstructive pulmonary disease, Bronch...</td>\n",
       "      <td>0</td>\n",
       "    </tr>\n",
       "    <tr>\n",
       "      <th>2</th>\n",
       "      <td>MONDO:0015517</td>\n",
       "      <td>common variable immunodeficiency</td>\n",
       "      <td>[HP:0006510, HP:0002110, HP:0006528, HP:000284...</td>\n",
       "      <td>[Chronic obstructive pulmonary disease, Bronch...</td>\n",
       "      <td>0</td>\n",
       "    </tr>\n",
       "    <tr>\n",
       "      <th>3</th>\n",
       "      <td>MONDO:0010086</td>\n",
       "      <td>sudden infant death syndrome</td>\n",
       "      <td>[HP:0005943, HP:0001742, HP:0006543, HP:001053...</td>\n",
       "      <td>[Respiratory arrest, Nasal obstruction, Cardio...</td>\n",
       "      <td>0</td>\n",
       "    </tr>\n",
       "    <tr>\n",
       "      <th>4</th>\n",
       "      <td>MONDO:0013282</td>\n",
       "      <td>alpha 1-antitrypsin deficiency</td>\n",
       "      <td>[HP:0006510, HP:0002110, HP:0002107, HP:000652...</td>\n",
       "      <td>[Chronic obstructive pulmonary disease, Bronch...</td>\n",
       "      <td>0</td>\n",
       "    </tr>\n",
       "  </tbody>\n",
       "</table>\n",
       "</div>"
      ],
      "text/plain": [
       "    condition_id                    condition_name  \\\n",
       "0  MONDO:0007186   gastroesophageal reflux disease   \n",
       "1  MONDO:0015977                agammaglobulinemia   \n",
       "2  MONDO:0015517  common variable immunodeficiency   \n",
       "3  MONDO:0010086      sudden infant death syndrome   \n",
       "4  MONDO:0013282    alpha 1-antitrypsin deficiency   \n",
       "\n",
       "                                        phenotype_id  \\\n",
       "0  [HP:0002110, HP:0002107, HP:0011109, HP:001053...   \n",
       "1  [HP:0006510, HP:0002110, HP:0011109, HP:000652...   \n",
       "2  [HP:0006510, HP:0002110, HP:0006528, HP:000284...   \n",
       "3  [HP:0005943, HP:0001742, HP:0006543, HP:001053...   \n",
       "4  [HP:0006510, HP:0002110, HP:0002107, HP:000652...   \n",
       "\n",
       "                                      phenotype_name  score  \n",
       "0  [Bronchiectasis, Pneumothorax, Chronic sinusit...      0  \n",
       "1  [Chronic obstructive pulmonary disease, Bronch...      0  \n",
       "2  [Chronic obstructive pulmonary disease, Bronch...      0  \n",
       "3  [Respiratory arrest, Nasal obstruction, Cardio...      0  \n",
       "4  [Chronic obstructive pulmonary disease, Bronch...      0  "
      ]
     },
     "execution_count": 15,
     "metadata": {},
     "output_type": "execute_result"
    }
   ],
   "source": [
    "asthma_frame = parse_answer(two_part_asthma_answer)\n",
    "asthma_frame.head()"
   ]
  }
 ],
 "metadata": {
  "kernelspec": {
   "display_name": "Python 3",
   "language": "python",
   "name": "python3"
  },
  "language_info": {
   "codemirror_mode": {
    "name": "ipython",
    "version": 3
   },
   "file_extension": ".py",
   "mimetype": "text/x-python",
   "name": "python",
   "nbconvert_exporter": "python",
   "pygments_lexer": "ipython3",
   "version": "3.6.2"
  }
 },
 "nbformat": 4,
 "nbformat_minor": 2
}

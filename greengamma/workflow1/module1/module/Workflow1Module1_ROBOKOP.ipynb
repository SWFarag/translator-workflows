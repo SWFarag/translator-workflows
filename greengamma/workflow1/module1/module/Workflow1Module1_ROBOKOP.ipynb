{
 "cells": [
  {
   "cell_type": "markdown",
   "metadata": {
    "deletable": true,
    "editable": true
   },
   "source": [
    "# Workflow 1, Module 1 (condition similarity)"
   ]
  },
  {
   "cell_type": "markdown",
   "metadata": {
    "deletable": true,
    "editable": true
   },
   "source": [
    "One approach to solving this module is to not define quite so tightly what's going on at the subquestion level in terms of enrichements and archetypes and so on, but simply pass the question to ROBOKOP and let its scoring bring the the best answers to the top.  Here we will use the quick service to start with a disease, find relevant phenotypes, and from there find genetic conditions. The answers will come out ranked by path.\n",
    "\n",
    "For more details, see the \"quick\" notebook in greengamma/general.\n",
    "\n",
    "First, we'll have a quick function that calls the quick service, and some functions for properly creating the question.  Then we'll create the question, run it, and pretty print it for two examples: diabetes and asthma."
   ]
  },
  {
   "cell_type": "code",
   "execution_count": 10,
   "metadata": {
    "collapsed": true,
    "deletable": true,
    "editable": true
   },
   "outputs": [],
   "source": [
    "import requests\n",
    "import pandas as pd\n",
    "\n",
    "def quick(question):\n",
    "    url=f'http://robokop.renci.org:80/api/simple/quick/'\n",
    "    response = requests.post(url,json=question)\n",
    "    print( f\"Return Status: {response.status_code}\" )\n",
    "    if response.status_code == 200:\n",
    "        return response.json()\n",
    "    return response"
   ]
  },
  {
   "cell_type": "code",
   "execution_count": 11,
   "metadata": {
    "collapsed": true,
    "deletable": true,
    "editable": true
   },
   "outputs": [],
   "source": [
    "def make_N_step_question(types,curies):\n",
    "    question = {\n",
    "                'machine_question': {\n",
    "                    'nodes': [],\n",
    "                    'edges': []\n",
    "                }\n",
    "            }\n",
    "    for i,t in enumerate(types):\n",
    "        newnode = {'id': i, 'type': t}\n",
    "        if curies[i] is not None:\n",
    "            newnode['curie'] = curies[i]\n",
    "        question['machine_question']['nodes'].append(newnode)\n",
    "        if i > 0:\n",
    "            question['machine_question']['edges'].append( {'source_id': i-1, 'target_id': i})\n",
    "    return question"
   ]
  },
  {
   "cell_type": "code",
   "execution_count": 12,
   "metadata": {
    "collapsed": false,
    "deletable": true,
    "editable": true
   },
   "outputs": [],
   "source": [
    "def extract_final_nodes(returnanswer):\n",
    "    nodes = [{'node_name': answer['nodes'][2]['name'], 'node_id': answer['nodes'][2]['id']} for answer in returnanswer['answers']]\n",
    "    return pd.DataFrame(nodes)"
   ]
  },
  {
   "cell_type": "code",
   "execution_count": 13,
   "metadata": {
    "collapsed": true,
    "deletable": true,
    "editable": true
   },
   "outputs": [],
   "source": [
    "diabetes = 'MONDO:0005148' #type 2 diabetes\n",
    "asthma = 'MONDO:0004979' #asthma"
   ]
  },
  {
   "cell_type": "code",
   "execution_count": 15,
   "metadata": {
    "collapsed": false,
    "deletable": true,
    "editable": true
   },
   "outputs": [
    {
     "name": "stdout",
     "output_type": "stream",
     "text": [
      "Return Status: 500\n"
     ]
    }
   ],
   "source": [
    "diabetes_question = make_N_step_question(['disease','phenotypic_feature','genetic_condition'],[diabetes,None,None])\n",
    "diabetes_answer = quick(diabetes_question)"
   ]
  },
  {
   "cell_type": "code",
   "execution_count": null,
   "metadata": {
    "collapsed": true,
    "deletable": true,
    "editable": true
   },
   "outputs": [],
   "source": [
    "diabetes_frame = extract_final_nodes(diabetes_answer)\n",
    "diabetes_frame"
   ]
  },
  {
   "cell_type": "code",
   "execution_count": null,
   "metadata": {
    "collapsed": true,
    "deletable": true,
    "editable": true
   },
   "outputs": [],
   "source": [
    "asthma_question = make_N_step_question(['disease','phenotypic_feature','genetic_condition'],[asthma,None,None])\n",
    "asthma_answer = quick(asthma_question)"
   ]
  },
  {
   "cell_type": "code",
   "execution_count": null,
   "metadata": {
    "collapsed": true,
    "deletable": true,
    "editable": true
   },
   "outputs": [],
   "source": [
    "asthma_frame = extract_final_nodes(asthma_anser)\n",
    "asthma_frame"
   ]
  }
 ],
 "metadata": {
  "kernelspec": {
   "display_name": "Python 3",
   "language": "python",
   "name": "python3"
  },
  "language_info": {
   "codemirror_mode": {
    "name": "ipython",
    "version": 3
   },
   "file_extension": ".py",
   "mimetype": "text/x-python",
   "name": "python",
   "nbconvert_exporter": "python",
   "pygments_lexer": "ipython3",
   "version": "3.6.2"
  }
 },
 "nbformat": 4,
 "nbformat_minor": 2
}

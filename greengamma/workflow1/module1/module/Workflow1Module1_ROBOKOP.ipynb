{
 "cells": [
  {
   "cell_type": "markdown",
   "metadata": {
    "deletable": true,
    "editable": true
   },
   "source": [
    "# Workflow 1, Module 1 (condition similarity)"
   ]
  },
  {
   "cell_type": "markdown",
   "metadata": {
    "deletable": true,
    "editable": true
   },
   "source": [
    "One approach to solving this module is to not define quite so tightly what's going on at the subquestion level in terms of enrichements and archetypes and so on, but simply pass the question to ROBOKOP and let its scoring bring the the best answers to the top.  Here we will use the quick service to start with a disease, find relevant phenotypes, and from there find genetic conditions. The answers will come out ranked by path.\n",
    "\n",
    "For more details, see the \"quick\" notebook in greengamma/general.\n",
    "\n",
    "First, we'll have a quick function that calls the quick service, and some functions for properly creating the question.  Then we'll create the question, run it, and pretty print it for two examples: diabetes and asthma."
   ]
  },
  {
   "cell_type": "code",
   "execution_count": 9,
   "metadata": {
    "collapsed": false
   },
   "outputs": [],
   "source": [
    "#Load some functions for calling the quick service and parsing its output\n",
    "\n",
    "import os\n",
    "import sys\n",
    "module_path = os.path.abspath(os.path.join('../../..'))\n",
    "if module_path not in sys.path:\n",
    "    sys.path.append(module_path)\n",
    "from gg_functions import parse_answer, quick"
   ]
  },
  {
   "cell_type": "markdown",
   "metadata": {
    "deletable": true,
    "editable": true
   },
   "source": [
    "The basic machine question created below goes from a disease to a set of phenotypes to a genetic_condition.  Making the phenotypes a set allows there to be many phenotypes that connect the disease to the condition."
   ]
  },
  {
   "cell_type": "code",
   "execution_count": 4,
   "metadata": {
    "collapsed": false,
    "deletable": true,
    "editable": true
   },
   "outputs": [],
   "source": [
    "def create_basic_question(disease_id):\n",
    "    return {\n",
    "    \"machine_question\": {\n",
    "        \"nodes\": [\n",
    "            {\n",
    "                \"id\": \"n0\",\n",
    "                \"type\": \"disease\",\n",
    "                \"curie\": disease_id\n",
    "            },\n",
    "            {\n",
    "                \"id\": \"n1\",\n",
    "                \"type\": \"phenotypic_feature\",\n",
    "                \"set\": True\n",
    "            },\n",
    "            {\n",
    "                \"id\": \"n2\",\n",
    "                \"type\": \"genetic_condition\"\n",
    "            }\n",
    "        ],\n",
    "        \"edges\": [\n",
    "            {\n",
    "                \"id\": \"e0\",\n",
    "                \"source_id\": \"n0\",\n",
    "                \"target_id\": \"n1\"\n",
    "            },\n",
    "            {\n",
    "                \"id\": \"e1\",\n",
    "                \"source_id\": \"n1\",\n",
    "                \"target_id\": \"n2\"\n",
    "            }\n",
    "        ]\n",
    "    }\n",
    "}"
   ]
  },
  {
   "cell_type": "code",
   "execution_count": 6,
   "metadata": {
    "collapsed": true,
    "deletable": true,
    "editable": true
   },
   "outputs": [],
   "source": [
    "diabetes = 'MONDO:0005148' #type 2 diabetes\n",
    "asthma = 'MONDO:0004979' #asthma"
   ]
  },
  {
   "cell_type": "markdown",
   "metadata": {
    "deletable": true,
    "editable": true
   },
   "source": [
    "For both diabetes and asthma, let's make a question of the type above, and run it.  The max_connectivity option sets a maximum degree for a node in the path, and is used to control the amount of time it takes to run and the specificity of the result. 1000 is a decent across the board value."
   ]
  },
  {
   "cell_type": "code",
   "execution_count": 7,
   "metadata": {
    "collapsed": false,
    "deletable": true,
    "editable": true
   },
   "outputs": [
    {
     "name": "stdout",
     "output_type": "stream",
     "text": [
      "Return Status: 200\n"
     ]
    }
   ],
   "source": [
    "diabetes_question = create_basic_question(diabetes)\n",
    "diabetes_answer = quick(diabetes_question,max_connectivity=1000)"
   ]
  },
  {
   "cell_type": "code",
   "execution_count": 14,
   "metadata": {
    "collapsed": false,
    "deletable": true,
    "editable": true
   },
   "outputs": [
    {
     "name": "stdout",
     "output_type": "stream",
     "text": [
      "Return Status: 200\n"
     ]
    }
   ],
   "source": [
    "asthma_question = create_basic_question(asthma)\n",
    "asthma_answer = quick(asthma_question,max_connectivity=1000)"
   ]
  },
  {
   "cell_type": "code",
   "execution_count": 12,
   "metadata": {
    "collapsed": false,
    "deletable": true,
    "editable": true
   },
   "outputs": [
    {
     "data": {
      "text/html": [
       "<div>\n",
       "<style>\n",
       "    .dataframe thead tr:only-child th {\n",
       "        text-align: right;\n",
       "    }\n",
       "\n",
       "    .dataframe thead th {\n",
       "        text-align: left;\n",
       "    }\n",
       "\n",
       "    .dataframe tbody tr th {\n",
       "        vertical-align: top;\n",
       "    }\n",
       "</style>\n",
       "<table border=\"1\" class=\"dataframe\">\n",
       "  <thead>\n",
       "    <tr style=\"text-align: right;\">\n",
       "      <th></th>\n",
       "      <th>n2 - id</th>\n",
       "      <th>n2 - name</th>\n",
       "      <th>score</th>\n",
       "    </tr>\n",
       "  </thead>\n",
       "  <tbody>\n",
       "    <tr>\n",
       "      <th>0</th>\n",
       "      <td>MONDO:0011565</td>\n",
       "      <td>metabolic syndrome X</td>\n",
       "      <td>65.706550</td>\n",
       "    </tr>\n",
       "    <tr>\n",
       "      <th>1</th>\n",
       "      <td>MONDO:0011382</td>\n",
       "      <td>sickle cell anemia</td>\n",
       "      <td>34.698179</td>\n",
       "    </tr>\n",
       "    <tr>\n",
       "      <th>2</th>\n",
       "      <td>MONDO:0001076</td>\n",
       "      <td>glucose intolerance</td>\n",
       "      <td>32.087022</td>\n",
       "    </tr>\n",
       "    <tr>\n",
       "      <th>3</th>\n",
       "      <td>MONDO:0006507</td>\n",
       "      <td>hereditary hemochromatosis</td>\n",
       "      <td>31.281750</td>\n",
       "    </tr>\n",
       "    <tr>\n",
       "      <th>4</th>\n",
       "      <td>MONDO:0008575</td>\n",
       "      <td>nicotine dependence</td>\n",
       "      <td>30.822532</td>\n",
       "    </tr>\n",
       "  </tbody>\n",
       "</table>\n",
       "</div>"
      ],
      "text/plain": [
       "        n2 - id                   n2 - name       score\n",
       "0  MONDO:0011565        metabolic syndrome X  65.706550\n",
       "1  MONDO:0011382          sickle cell anemia  34.698179\n",
       "2  MONDO:0001076         glucose intolerance  32.087022\n",
       "3  MONDO:0006507  hereditary hemochromatosis  31.281750\n",
       "4  MONDO:0008575         nicotine dependence  30.822532"
      ]
     },
     "execution_count": 12,
     "metadata": {},
     "output_type": "execute_result"
    }
   ],
   "source": [
    "diabetes_frame = parse_answer(diabetes_answer,node_list=['n2'],edge_list=[])\n",
    "diabetes_frame.head()"
   ]
  },
  {
   "cell_type": "markdown",
   "metadata": {
    "deletable": true,
    "editable": true
   },
   "source": [
    "The results that come back make reasonable sense, especially metabolic syndrome X and glucose intolerance.  "
   ]
  },
  {
   "cell_type": "code",
   "execution_count": 15,
   "metadata": {
    "collapsed": false,
    "deletable": true,
    "editable": true,
    "scrolled": true
   },
   "outputs": [
    {
     "data": {
      "text/html": [
       "<div>\n",
       "<style>\n",
       "    .dataframe thead tr:only-child th {\n",
       "        text-align: right;\n",
       "    }\n",
       "\n",
       "    .dataframe thead th {\n",
       "        text-align: left;\n",
       "    }\n",
       "\n",
       "    .dataframe tbody tr th {\n",
       "        vertical-align: top;\n",
       "    }\n",
       "</style>\n",
       "<table border=\"1\" class=\"dataframe\">\n",
       "  <thead>\n",
       "    <tr style=\"text-align: right;\">\n",
       "      <th></th>\n",
       "      <th>n2 - id</th>\n",
       "      <th>n2 - name</th>\n",
       "      <th>score</th>\n",
       "    </tr>\n",
       "  </thead>\n",
       "  <tbody>\n",
       "    <tr>\n",
       "      <th>0</th>\n",
       "      <td>MONDO:0007186</td>\n",
       "      <td>gastroesophageal reflux disease</td>\n",
       "      <td>21.994939</td>\n",
       "    </tr>\n",
       "    <tr>\n",
       "      <th>1</th>\n",
       "      <td>MONDO:0010086</td>\n",
       "      <td>sudden infant death syndrome</td>\n",
       "      <td>21.869378</td>\n",
       "    </tr>\n",
       "    <tr>\n",
       "      <th>2</th>\n",
       "      <td>MONDO:0015977</td>\n",
       "      <td>agammaglobulinemia</td>\n",
       "      <td>21.002775</td>\n",
       "    </tr>\n",
       "    <tr>\n",
       "      <th>3</th>\n",
       "      <td>MONDO:0013282</td>\n",
       "      <td>alpha 1-antitrypsin deficiency</td>\n",
       "      <td>20.196203</td>\n",
       "    </tr>\n",
       "    <tr>\n",
       "      <th>4</th>\n",
       "      <td>MONDO:0001901</td>\n",
       "      <td>selective IgG subclass deficiency</td>\n",
       "      <td>18.675023</td>\n",
       "    </tr>\n",
       "  </tbody>\n",
       "</table>\n",
       "</div>"
      ],
      "text/plain": [
       "        n2 - id                          n2 - name       score\n",
       "0  MONDO:0007186    gastroesophageal reflux disease  21.994939\n",
       "1  MONDO:0010086       sudden infant death syndrome  21.869378\n",
       "2  MONDO:0015977                 agammaglobulinemia  21.002775\n",
       "3  MONDO:0013282     alpha 1-antitrypsin deficiency  20.196203\n",
       "4  MONDO:0001901  selective IgG subclass deficiency  18.675023"
      ]
     },
     "execution_count": 15,
     "metadata": {},
     "output_type": "execute_result"
    }
   ],
   "source": [
    "asthma_frame = parse_answer(asthma_answer,node_list=['n2'],edge_list=[])\n",
    "asthma_frame.head()"
   ]
  },
  {
   "cell_type": "markdown",
   "metadata": {
    "deletable": true,
    "editable": true
   },
   "source": [
    "We can potentially sharpen some of these answers if we allow our searches to include conditions that are similar by both phenotype and biological process.  That is, we want to allow two paths connecting the input to the output, saying that they should be similar phenotypically, but also similar in terms of the processes that create the disease:"
   ]
  },
  {
   "cell_type": "code",
   "execution_count": 17,
   "metadata": {
    "collapsed": true,
    "deletable": true,
    "editable": true
   },
   "outputs": [],
   "source": [
    "def create_complex_question(disease_id,other_type):\n",
    "    return {\n",
    "    \"machine_question\": {\n",
    "        \"nodes\": [\n",
    "            {\n",
    "                \"id\": \"n0\",\n",
    "                \"type\": \"disease\",\n",
    "                \"curie\": disease_id\n",
    "            },\n",
    "            {\n",
    "                \"id\": \"n1\",\n",
    "                \"type\": \"phenotypic_feature\",\n",
    "                \"set\": True\n",
    "            },\n",
    "            {\n",
    "                \"id\": \"n2\",\n",
    "                \"type\": \"genetic_condition\"\n",
    "            },\n",
    "            {\n",
    "                \"id\": \"n3\",\n",
    "                \"type\": other_type,\n",
    "                \"set\": True\n",
    "            }\n",
    "        ],\n",
    "        \"edges\": [\n",
    "            {\n",
    "                \"id\": \"e0\",\n",
    "                \"source_id\": \"n0\",\n",
    "                \"target_id\": \"n1\"\n",
    "            },\n",
    "            {\n",
    "                \"id\": \"e1\",\n",
    "                \"source_id\": \"n1\",\n",
    "                \"target_id\": \"n2\"\n",
    "            },\n",
    "            {\n",
    "                \"id\": \"e2\",\n",
    "                \"source_id\": \"n0\",\n",
    "                \"target_id\": \"n3\"\n",
    "            },\n",
    "            {\n",
    "                \"id\": \"e3\",\n",
    "                \"source_id\": \"n3\",\n",
    "                \"target_id\": \"n2\"\n",
    "            }\n",
    "        ]\n",
    "    }\n",
    "}"
   ]
  },
  {
   "cell_type": "code",
   "execution_count": 18,
   "metadata": {
    "collapsed": false,
    "deletable": true,
    "editable": true
   },
   "outputs": [
    {
     "name": "stdout",
     "output_type": "stream",
     "text": [
      "Return Status: 200\n",
      "Return Status: 500\n"
     ]
    }
   ],
   "source": [
    "two_part_diabetes_question = create_complex_question(diabetes,'biological_process_or_activity')\n",
    "two_part_asthma_question = create_complex_question(asthma,'biological_process_or_activity')\n",
    "two_part_diabetes_answer = quick(two_part_diabetes_question,max_connectivity=1000)\n",
    "two_part_asthma_answer = quick(two_part_asthma_question,max_connectivity=1000)"
   ]
  },
  {
   "cell_type": "code",
   "execution_count": 19,
   "metadata": {
    "collapsed": false,
    "deletable": true,
    "editable": true
   },
   "outputs": [
    {
     "data": {
      "text/html": [
       "<div>\n",
       "<style>\n",
       "    .dataframe thead tr:only-child th {\n",
       "        text-align: right;\n",
       "    }\n",
       "\n",
       "    .dataframe thead th {\n",
       "        text-align: left;\n",
       "    }\n",
       "\n",
       "    .dataframe tbody tr th {\n",
       "        vertical-align: top;\n",
       "    }\n",
       "</style>\n",
       "<table border=\"1\" class=\"dataframe\">\n",
       "  <thead>\n",
       "    <tr style=\"text-align: right;\">\n",
       "      <th></th>\n",
       "      <th>n2 - id</th>\n",
       "      <th>n2 - name</th>\n",
       "      <th>score</th>\n",
       "    </tr>\n",
       "  </thead>\n",
       "  <tbody>\n",
       "    <tr>\n",
       "      <th>0</th>\n",
       "      <td>MONDO:0012819</td>\n",
       "      <td>diabetic ketoacidosis</td>\n",
       "      <td>54.717417</td>\n",
       "    </tr>\n",
       "    <tr>\n",
       "      <th>1</th>\n",
       "      <td>MONDO:0001076</td>\n",
       "      <td>glucose intolerance</td>\n",
       "      <td>35.153795</td>\n",
       "    </tr>\n",
       "    <tr>\n",
       "      <th>2</th>\n",
       "      <td>MONDO:0007455</td>\n",
       "      <td>diabetes mellitus, noninsulin-dependent</td>\n",
       "      <td>26.702664</td>\n",
       "    </tr>\n",
       "    <tr>\n",
       "      <th>3</th>\n",
       "      <td>MONDO:0019154</td>\n",
       "      <td>androgen insensitivity syndrome</td>\n",
       "      <td>20.140831</td>\n",
       "    </tr>\n",
       "    <tr>\n",
       "      <th>4</th>\n",
       "      <td>MONDO:0008763</td>\n",
       "      <td>Alstrom syndrome</td>\n",
       "      <td>19.961212</td>\n",
       "    </tr>\n",
       "  </tbody>\n",
       "</table>\n",
       "</div>"
      ],
      "text/plain": [
       "        n2 - id                                n2 - name       score\n",
       "0  MONDO:0012819                    diabetic ketoacidosis  54.717417\n",
       "1  MONDO:0001076                      glucose intolerance  35.153795\n",
       "2  MONDO:0007455  diabetes mellitus, noninsulin-dependent  26.702664\n",
       "3  MONDO:0019154          androgen insensitivity syndrome  20.140831\n",
       "4  MONDO:0008763                         Alstrom syndrome  19.961212"
      ]
     },
     "execution_count": 19,
     "metadata": {},
     "output_type": "execute_result"
    }
   ],
   "source": [
    "diabetes_frame = parse_answer(two_part_diabetes_answer,node_list=['n2'],edge_list=[])\n",
    "diabetes_frame.head()"
   ]
  },
  {
   "cell_type": "code",
   "execution_count": 20,
   "metadata": {
    "collapsed": false,
    "deletable": true,
    "editable": true
   },
   "outputs": [
    {
     "data": {
      "text/plain": [
       "<Response [500]>"
      ]
     },
     "execution_count": 20,
     "metadata": {},
     "output_type": "execute_result"
    }
   ],
   "source": [
    "two_part_asthma_answer"
   ]
  },
  {
   "cell_type": "markdown",
   "metadata": {
    "deletable": true,
    "editable": true
   },
   "source": [
    "For diabetes, we get an improved set of outputs because the conditions are both phenotypically similar to diabetes, but also share some of the biological mechanisms of the diesease.  However, for asthma, we find no results - there are no biological activites associated with asthma in our database, so no connections can be made. \n",
    "\n",
    "Instead of going through biological process, let's go through gene:"
   ]
  },
  {
   "cell_type": "code",
   "execution_count": 21,
   "metadata": {
    "collapsed": false,
    "deletable": true,
    "editable": true
   },
   "outputs": [
    {
     "name": "stdout",
     "output_type": "stream",
     "text": [
      "Return Status: 200\n",
      "Return Status: 200\n"
     ]
    }
   ],
   "source": [
    "two_part_diabetes_question = create_complex_question(diabetes,'gene')\n",
    "two_part_asthma_question = create_complex_question(asthma,'gene')\n",
    "two_part_diabetes_answer = quick(two_part_diabetes_question,max_connectivity=1000)\n",
    "two_part_asthma_answer = quick(two_part_asthma_question,max_connectivity=1000)"
   ]
  },
  {
   "cell_type": "code",
   "execution_count": 22,
   "metadata": {
    "collapsed": false,
    "deletable": true,
    "editable": true
   },
   "outputs": [
    {
     "data": {
      "text/html": [
       "<div>\n",
       "<style>\n",
       "    .dataframe thead tr:only-child th {\n",
       "        text-align: right;\n",
       "    }\n",
       "\n",
       "    .dataframe thead th {\n",
       "        text-align: left;\n",
       "    }\n",
       "\n",
       "    .dataframe tbody tr th {\n",
       "        vertical-align: top;\n",
       "    }\n",
       "</style>\n",
       "<table border=\"1\" class=\"dataframe\">\n",
       "  <thead>\n",
       "    <tr style=\"text-align: right;\">\n",
       "      <th></th>\n",
       "      <th>n2 - id</th>\n",
       "      <th>n2 - name</th>\n",
       "      <th>score</th>\n",
       "    </tr>\n",
       "  </thead>\n",
       "  <tbody>\n",
       "    <tr>\n",
       "      <th>0</th>\n",
       "      <td>MONDO:0011565</td>\n",
       "      <td>metabolic syndrome X</td>\n",
       "      <td>68.640888</td>\n",
       "    </tr>\n",
       "    <tr>\n",
       "      <th>1</th>\n",
       "      <td>MONDO:0011382</td>\n",
       "      <td>sickle cell anemia</td>\n",
       "      <td>35.643111</td>\n",
       "    </tr>\n",
       "    <tr>\n",
       "      <th>2</th>\n",
       "      <td>MONDO:0008487</td>\n",
       "      <td>polycystic ovary syndrome</td>\n",
       "      <td>33.337035</td>\n",
       "    </tr>\n",
       "    <tr>\n",
       "      <th>3</th>\n",
       "      <td>MONDO:0001076</td>\n",
       "      <td>glucose intolerance</td>\n",
       "      <td>32.810945</td>\n",
       "    </tr>\n",
       "    <tr>\n",
       "      <th>4</th>\n",
       "      <td>MONDO:0006507</td>\n",
       "      <td>hereditary hemochromatosis</td>\n",
       "      <td>32.342166</td>\n",
       "    </tr>\n",
       "  </tbody>\n",
       "</table>\n",
       "</div>"
      ],
      "text/plain": [
       "        n2 - id                   n2 - name       score\n",
       "0  MONDO:0011565        metabolic syndrome X  68.640888\n",
       "1  MONDO:0011382          sickle cell anemia  35.643111\n",
       "2  MONDO:0008487   polycystic ovary syndrome  33.337035\n",
       "3  MONDO:0001076         glucose intolerance  32.810945\n",
       "4  MONDO:0006507  hereditary hemochromatosis  32.342166"
      ]
     },
     "execution_count": 22,
     "metadata": {},
     "output_type": "execute_result"
    }
   ],
   "source": [
    "diabetes_frame = parse_answer(two_part_diabetes_answer,node_list=['n2'],edge_list=[])\n",
    "diabetes_frame.head()"
   ]
  },
  {
   "cell_type": "code",
   "execution_count": 23,
   "metadata": {
    "collapsed": false,
    "deletable": true,
    "editable": true
   },
   "outputs": [
    {
     "data": {
      "text/html": [
       "<div>\n",
       "<style>\n",
       "    .dataframe thead tr:only-child th {\n",
       "        text-align: right;\n",
       "    }\n",
       "\n",
       "    .dataframe thead th {\n",
       "        text-align: left;\n",
       "    }\n",
       "\n",
       "    .dataframe tbody tr th {\n",
       "        vertical-align: top;\n",
       "    }\n",
       "</style>\n",
       "<table border=\"1\" class=\"dataframe\">\n",
       "  <thead>\n",
       "    <tr style=\"text-align: right;\">\n",
       "      <th></th>\n",
       "      <th>n2 - id</th>\n",
       "      <th>n2 - name</th>\n",
       "      <th>score</th>\n",
       "    </tr>\n",
       "  </thead>\n",
       "  <tbody>\n",
       "    <tr>\n",
       "      <th>0</th>\n",
       "      <td>MONDO:0007186</td>\n",
       "      <td>gastroesophageal reflux disease</td>\n",
       "      <td>22.809748</td>\n",
       "    </tr>\n",
       "    <tr>\n",
       "      <th>1</th>\n",
       "      <td>MONDO:0010086</td>\n",
       "      <td>sudden infant death syndrome</td>\n",
       "      <td>22.020661</td>\n",
       "    </tr>\n",
       "    <tr>\n",
       "      <th>2</th>\n",
       "      <td>MONDO:0015977</td>\n",
       "      <td>agammaglobulinemia</td>\n",
       "      <td>21.875820</td>\n",
       "    </tr>\n",
       "    <tr>\n",
       "      <th>3</th>\n",
       "      <td>MONDO:0013282</td>\n",
       "      <td>alpha 1-antitrypsin deficiency</td>\n",
       "      <td>20.377447</td>\n",
       "    </tr>\n",
       "    <tr>\n",
       "      <th>4</th>\n",
       "      <td>MONDO:0015517</td>\n",
       "      <td>common variable immunodeficiency</td>\n",
       "      <td>19.782271</td>\n",
       "    </tr>\n",
       "  </tbody>\n",
       "</table>\n",
       "</div>"
      ],
      "text/plain": [
       "        n2 - id                         n2 - name       score\n",
       "0  MONDO:0007186   gastroesophageal reflux disease  22.809748\n",
       "1  MONDO:0010086      sudden infant death syndrome  22.020661\n",
       "2  MONDO:0015977                agammaglobulinemia  21.875820\n",
       "3  MONDO:0013282    alpha 1-antitrypsin deficiency  20.377447\n",
       "4  MONDO:0015517  common variable immunodeficiency  19.782271"
      ]
     },
     "execution_count": 23,
     "metadata": {},
     "output_type": "execute_result"
    }
   ],
   "source": [
    "asthma_frame = parse_answer(two_part_asthma_answer,node_list=['n2'],edge_list=[])\n",
    "asthma_frame.head()"
   ]
  }
 ],
 "metadata": {
  "kernelspec": {
   "display_name": "Python 3",
   "language": "python",
   "name": "python3"
  },
  "language_info": {
   "codemirror_mode": {
    "name": "ipython",
    "version": 3
   },
   "file_extension": ".py",
   "mimetype": "text/x-python",
   "name": "python",
   "nbconvert_exporter": "python",
   "pygments_lexer": "ipython3",
   "version": "3.6.2"
  }
 },
 "nbformat": 4,
 "nbformat_minor": 2
}

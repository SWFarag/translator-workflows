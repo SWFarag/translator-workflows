{
 "cells": [
  {
   "cell_type": "markdown",
   "metadata": {
    "deletable": true,
    "editable": true
   },
   "source": [
    "# Workflow 1, Module 1 (condition similarity by phenotype and process)"
   ]
  },
  {
   "cell_type": "code",
   "execution_count": 1,
   "metadata": {
    "collapsed": true,
    "deletable": true,
    "editable": true
   },
   "outputs": [],
   "source": [
    "#To make nicer looking outputs\n",
    "from IPython.core.display import display, HTML\n",
    "import requests\n",
    "\n",
    "#Load some functions for parsing quick output\n",
    "import os\n",
    "import sys\n",
    "module_path = os.path.abspath(os.path.join('../../..'))\n",
    "if module_path not in sys.path:\n",
    "    sys.path.append(module_path)\n",
    "from gg_functions import parse_answer, get_view_url\n",
    "\n",
    "robokop='robokop.renci.org'"
   ]
  },
  {
   "cell_type": "code",
   "execution_count": null,
   "metadata": {
    "collapsed": true,
    "deletable": true,
    "editable": true
   },
   "outputs": [],
   "source": [
    "common_diseases = [\n",
    "(\"MONDO:0005578\",\"arthritis\"),\n",
    "(\"MONDO:0005148\",\"type 2 diabetes mellitus\"),\n",
    "(\"MONDO:0002406\",\"dermatitis\"),\n",
    "(\"MONDO:0008383\",\"rheumatoid arthritis\"),\n",
    "(\"MONDO:0005359\",\"drug-induced liver injury\"),\n",
    "(\"MONDO:0006573\",\"lipodystrophy (disease)\"),\n",
    "(\"MONDO:0008226\",\"aggressive periodontitis\"),\n",
    "(\"MONDO:0001627\",\"dementia\"),\n",
    "(\"MONDO:0005265\",\"inflammatory bowel disease\"),\n",
    "(\"MONDO:0004979\",\"asthma\"),\n",
    "(\"MONDO:0005298\",\"osteoporosis\"),\n",
    "(\"MONDO:0006932\",\"pulmonary edema\"),\n",
    "(\"MONDO:0005180\",\"Parkinson disease\"),\n",
    "(\"MONDO:0006658\",\"arteriolosclerosis\"),\n",
    "(\"MONDO:0005090\",\"schizophrenia\"),\n",
    "(\"MONDO:0005152\",\"hypopituitarism\"),\n",
    "(\"MONDO:0001835\",\"facial paralysis\"),\n",
    "(\"MONDO:0001824\",\"polyneuropathy\"),\n",
    "(\"MONDO:0005301\",\"multiple sclerosis\"),\n",
    "(\"MONDO:0006644\",\"alcoholic liver cirrhosis\")\n",
    "]"
   ]
  },
  {
   "cell_type": "code",
   "execution_count": null,
   "metadata": {
    "collapsed": false,
    "deletable": true,
    "editable": true
   },
   "outputs": [
    {
     "data": {
      "text/html": [
       "<h3>arthritis</h3>"
      ],
      "text/plain": [
       "<IPython.core.display.HTML object>"
      ]
     },
     "metadata": {},
     "output_type": "display_data"
    }
   ],
   "source": [
    "#This is the templated query that goes (disease)-(set of phenotypes)-(genetic condition)\n",
    "turl=lambda robokop,disease_id,disease_name: f'http://{robokop}/api/simple/quick/template/wf1mod1_with_process/{disease_id}/?name1={disease_name}/?max_connectivity=1000'\n",
    "\n",
    "for disease_id, disease_name in common_diseases[:2]:\n",
    "    url = turl(robokop,disease_id,disease_name)\n",
    "    display(HTML(f'<h3>{disease_name}</h3>'))\n",
    "    response = requests.get(url)\n",
    "    if response.status_code != 200:\n",
    "        print('Error')\n",
    "        continue\n",
    "    answers=response.json()\n",
    "    answer_frame = parse_answer(answers,node_list=['n2'])\n",
    "    display(answer_frame)\n",
    "    view_url = get_view_url(answers)\n",
    "    display(HTML(f'<a href={view_url}>View Answer in ROBOKOP</a>'))"
   ]
  },
  {
   "cell_type": "code",
   "execution_count": null,
   "metadata": {
    "collapsed": true,
    "deletable": true,
    "editable": true
   },
   "outputs": [],
   "source": []
  }
 ],
 "metadata": {
  "kernelspec": {
   "display_name": "Python 3",
   "language": "python",
   "name": "python3"
  },
  "language_info": {
   "codemirror_mode": {
    "name": "ipython",
    "version": 3
   },
   "file_extension": ".py",
   "mimetype": "text/x-python",
   "name": "python",
   "nbconvert_exporter": "python",
   "pygments_lexer": "ipython3",
   "version": "3.6.2"
  }
 },
 "nbformat": 4,
 "nbformat_minor": 2
}

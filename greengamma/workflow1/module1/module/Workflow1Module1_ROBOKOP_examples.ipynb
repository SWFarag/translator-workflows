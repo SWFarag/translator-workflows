{
 "cells": [
  {
   "cell_type": "markdown",
   "metadata": {
    "deletable": true,
    "editable": true
   },
   "source": [
    "# Workflow 1, Module 1 (condition similarity)"
   ]
  },
  {
   "cell_type": "code",
   "execution_count": 1,
   "metadata": {
    "collapsed": true,
    "deletable": true,
    "editable": true
   },
   "outputs": [],
   "source": [
    "#To make nicer looking outputs\n",
    "from IPython.core.display import display, HTML\n",
    "import requests\n",
    "\n",
    "#Load some functions for parsing quick output\n",
    "import os\n",
    "import sys\n",
    "module_path = os.path.abspath(os.path.join('../../..'))\n",
    "if module_path not in sys.path:\n",
    "    sys.path.append(module_path)\n",
    "from gg_functions import parse_answer, get_view_url\n",
    "\n",
    "robokop='robokop.renci.org'"
   ]
  },
  {
   "cell_type": "code",
   "execution_count": 2,
   "metadata": {
    "collapsed": true,
    "deletable": true,
    "editable": true
   },
   "outputs": [],
   "source": [
    "common_diseases = [\n",
    "(\"MONDO:0005578\",\"arthritis\"),\n",
    "(\"MONDO:0005148\",\"type 2 diabetes mellitus\"),\n",
    "(\"MONDO:0002406\",\"dermatitis\"),\n",
    "(\"MONDO:0008383\",\"rheumatoid arthritis\"),\n",
    "(\"MONDO:0005359\",\"drug-induced liver injury\"),\n",
    "(\"MONDO:0006573\",\"lipodystrophy (disease)\"),\n",
    "(\"MONDO:0008226\",\"aggressive periodontitis\"),\n",
    "(\"MONDO:0001627\",\"dementia\"),\n",
    "(\"MONDO:0005265\",\"inflammatory bowel disease\"),\n",
    "(\"MONDO:0004979\",\"asthma\"),\n",
    "(\"MONDO:0005298\",\"osteoporosis\"),\n",
    "(\"MONDO:0006932\",\"pulmonary edema\"),\n",
    "(\"MONDO:0005180\",\"Parkinson disease\"),\n",
    "(\"MONDO:0006658\",\"arteriolosclerosis\"),\n",
    "(\"MONDO:0005090\",\"schizophrenia\"),\n",
    "(\"MONDO:0005152\",\"hypopituitarism\"),\n",
    "(\"MONDO:0001835\",\"facial paralysis\"),\n",
    "(\"MONDO:0001824\",\"polyneuropathy\"),\n",
    "(\"MONDO:0005301\",\"multiple sclerosis\"),\n",
    "(\"MONDO:0006644\",\"alcoholic liver cirrhosis\")\n",
    "]"
   ]
  },
  {
   "cell_type": "code",
   "execution_count": 3,
   "metadata": {
    "collapsed": false,
    "deletable": true,
    "editable": true,
    "scrolled": false
   },
   "outputs": [
    {
     "data": {
      "text/html": [
       "<h3>arthritis</h3>"
      ],
      "text/plain": [
       "<IPython.core.display.HTML object>"
      ]
     },
     "metadata": {},
     "output_type": "display_data"
    },
    {
     "data": {
      "text/html": [
       "<div>\n",
       "<style>\n",
       "    .dataframe thead tr:only-child th {\n",
       "        text-align: right;\n",
       "    }\n",
       "\n",
       "    .dataframe thead th {\n",
       "        text-align: left;\n",
       "    }\n",
       "\n",
       "    .dataframe tbody tr th {\n",
       "        vertical-align: top;\n",
       "    }\n",
       "</style>\n",
       "<table border=\"1\" class=\"dataframe\">\n",
       "  <thead>\n",
       "    <tr style=\"text-align: right;\">\n",
       "      <th></th>\n",
       "      <th>n2 - id</th>\n",
       "      <th>n2 - name</th>\n",
       "      <th>score</th>\n",
       "    </tr>\n",
       "  </thead>\n",
       "  <tbody>\n",
       "    <tr>\n",
       "      <th>0</th>\n",
       "      <td>MONDO:0019117</td>\n",
       "      <td>genetic nervous system disorder</td>\n",
       "      <td>158.379598</td>\n",
       "    </tr>\n",
       "    <tr>\n",
       "      <th>1</th>\n",
       "      <td>MONDO:0019052</td>\n",
       "      <td>inborn errors of metabolism</td>\n",
       "      <td>156.919501</td>\n",
       "    </tr>\n",
       "    <tr>\n",
       "      <th>2</th>\n",
       "      <td>MONDO:0015107</td>\n",
       "      <td>rare genetic eye disease</td>\n",
       "      <td>147.301940</td>\n",
       "    </tr>\n",
       "    <tr>\n",
       "      <th>3</th>\n",
       "      <td>MONDO:0024255</td>\n",
       "      <td>genetic skin disease</td>\n",
       "      <td>146.252299</td>\n",
       "    </tr>\n",
       "    <tr>\n",
       "      <th>4</th>\n",
       "      <td>MONDO:0020030</td>\n",
       "      <td>rare genetic renal disease</td>\n",
       "      <td>145.184556</td>\n",
       "    </tr>\n",
       "  </tbody>\n",
       "</table>\n",
       "</div>"
      ],
      "text/plain": [
       "        n2 - id                        n2 - name        score\n",
       "0  MONDO:0019117  genetic nervous system disorder  158.379598\n",
       "1  MONDO:0019052      inborn errors of metabolism  156.919501\n",
       "2  MONDO:0015107         rare genetic eye disease  147.301940\n",
       "3  MONDO:0024255             genetic skin disease  146.252299\n",
       "4  MONDO:0020030       rare genetic renal disease  145.184556"
      ]
     },
     "metadata": {},
     "output_type": "display_data"
    },
    {
     "data": {
      "text/html": [
       "<a href=http://robokop.renci.org/simple/view/13835f97-f147-48f8-bd29-3b6a0b7baddd>View Answer in ROBOKOP</a>"
      ],
      "text/plain": [
       "<IPython.core.display.HTML object>"
      ]
     },
     "metadata": {},
     "output_type": "display_data"
    },
    {
     "data": {
      "text/html": [
       "<h3>type 2 diabetes mellitus</h3>"
      ],
      "text/plain": [
       "<IPython.core.display.HTML object>"
      ]
     },
     "metadata": {},
     "output_type": "display_data"
    },
    {
     "data": {
      "text/html": [
       "<div>\n",
       "<style>\n",
       "    .dataframe thead tr:only-child th {\n",
       "        text-align: right;\n",
       "    }\n",
       "\n",
       "    .dataframe thead th {\n",
       "        text-align: left;\n",
       "    }\n",
       "\n",
       "    .dataframe tbody tr th {\n",
       "        vertical-align: top;\n",
       "    }\n",
       "</style>\n",
       "<table border=\"1\" class=\"dataframe\">\n",
       "  <thead>\n",
       "    <tr style=\"text-align: right;\">\n",
       "      <th></th>\n",
       "      <th>n2 - id</th>\n",
       "      <th>n2 - name</th>\n",
       "      <th>score</th>\n",
       "    </tr>\n",
       "  </thead>\n",
       "  <tbody>\n",
       "    <tr>\n",
       "      <th>0</th>\n",
       "      <td>MONDO:0011565</td>\n",
       "      <td>metabolic syndrome X</td>\n",
       "      <td>144.594703</td>\n",
       "    </tr>\n",
       "    <tr>\n",
       "      <th>1</th>\n",
       "      <td>MONDO:0011382</td>\n",
       "      <td>sickle cell anemia</td>\n",
       "      <td>130.523062</td>\n",
       "    </tr>\n",
       "    <tr>\n",
       "      <th>2</th>\n",
       "      <td>MONDO:0009693</td>\n",
       "      <td>plasma cell myeloma</td>\n",
       "      <td>127.452026</td>\n",
       "    </tr>\n",
       "    <tr>\n",
       "      <th>3</th>\n",
       "      <td>MONDO:0008608</td>\n",
       "      <td>down syndrome</td>\n",
       "      <td>127.110959</td>\n",
       "    </tr>\n",
       "    <tr>\n",
       "      <th>4</th>\n",
       "      <td>MONDO:0009061</td>\n",
       "      <td>cystic fibrosis</td>\n",
       "      <td>126.898020</td>\n",
       "    </tr>\n",
       "  </tbody>\n",
       "</table>\n",
       "</div>"
      ],
      "text/plain": [
       "        n2 - id             n2 - name        score\n",
       "0  MONDO:0011565  metabolic syndrome X  144.594703\n",
       "1  MONDO:0011382    sickle cell anemia  130.523062\n",
       "2  MONDO:0009693   plasma cell myeloma  127.452026\n",
       "3  MONDO:0008608         down syndrome  127.110959\n",
       "4  MONDO:0009061       cystic fibrosis  126.898020"
      ]
     },
     "metadata": {},
     "output_type": "display_data"
    },
    {
     "data": {
      "text/html": [
       "<a href=http://robokop.renci.org/simple/view/aa33c150-b878-4a72-98b7-6e920ad5e94b>View Answer in ROBOKOP</a>"
      ],
      "text/plain": [
       "<IPython.core.display.HTML object>"
      ]
     },
     "metadata": {},
     "output_type": "display_data"
    },
    {
     "data": {
      "text/html": [
       "<h3>dermatitis</h3>"
      ],
      "text/plain": [
       "<IPython.core.display.HTML object>"
      ]
     },
     "metadata": {},
     "output_type": "display_data"
    },
    {
     "data": {
      "text/html": [
       "<div>\n",
       "<style>\n",
       "    .dataframe thead tr:only-child th {\n",
       "        text-align: right;\n",
       "    }\n",
       "\n",
       "    .dataframe thead th {\n",
       "        text-align: left;\n",
       "    }\n",
       "\n",
       "    .dataframe tbody tr th {\n",
       "        vertical-align: top;\n",
       "    }\n",
       "</style>\n",
       "<table border=\"1\" class=\"dataframe\">\n",
       "  <thead>\n",
       "    <tr style=\"text-align: right;\">\n",
       "      <th></th>\n",
       "      <th>n2 - id</th>\n",
       "      <th>n2 - name</th>\n",
       "      <th>score</th>\n",
       "    </tr>\n",
       "  </thead>\n",
       "  <tbody>\n",
       "    <tr>\n",
       "      <th>0</th>\n",
       "      <td>MONDO:0024255</td>\n",
       "      <td>genetic skin disease</td>\n",
       "      <td>183.429585</td>\n",
       "    </tr>\n",
       "    <tr>\n",
       "      <th>1</th>\n",
       "      <td>MONDO:0019043</td>\n",
       "      <td>rare genetic skin disease</td>\n",
       "      <td>176.475774</td>\n",
       "    </tr>\n",
       "    <tr>\n",
       "      <th>2</th>\n",
       "      <td>MONDO:0015984</td>\n",
       "      <td>rare genetic immune disease</td>\n",
       "      <td>169.171680</td>\n",
       "    </tr>\n",
       "    <tr>\n",
       "      <th>3</th>\n",
       "      <td>MONDO:0019117</td>\n",
       "      <td>genetic nervous system disorder</td>\n",
       "      <td>166.486292</td>\n",
       "    </tr>\n",
       "    <tr>\n",
       "      <th>4</th>\n",
       "      <td>MONDO:0015107</td>\n",
       "      <td>rare genetic eye disease</td>\n",
       "      <td>162.441594</td>\n",
       "    </tr>\n",
       "  </tbody>\n",
       "</table>\n",
       "</div>"
      ],
      "text/plain": [
       "        n2 - id                        n2 - name        score\n",
       "0  MONDO:0024255             genetic skin disease  183.429585\n",
       "1  MONDO:0019043        rare genetic skin disease  176.475774\n",
       "2  MONDO:0015984      rare genetic immune disease  169.171680\n",
       "3  MONDO:0019117  genetic nervous system disorder  166.486292\n",
       "4  MONDO:0015107         rare genetic eye disease  162.441594"
      ]
     },
     "metadata": {},
     "output_type": "display_data"
    },
    {
     "data": {
      "text/html": [
       "<a href=http://robokop.renci.org/simple/view/b90a02d8-96db-446b-8c58-3277f13ddfbc>View Answer in ROBOKOP</a>"
      ],
      "text/plain": [
       "<IPython.core.display.HTML object>"
      ]
     },
     "metadata": {},
     "output_type": "display_data"
    },
    {
     "data": {
      "text/html": [
       "<h3>rheumatoid arthritis</h3>"
      ],
      "text/plain": [
       "<IPython.core.display.HTML object>"
      ]
     },
     "metadata": {},
     "output_type": "display_data"
    },
    {
     "data": {
      "text/html": [
       "<div>\n",
       "<style>\n",
       "    .dataframe thead tr:only-child th {\n",
       "        text-align: right;\n",
       "    }\n",
       "\n",
       "    .dataframe thead th {\n",
       "        text-align: left;\n",
       "    }\n",
       "\n",
       "    .dataframe tbody tr th {\n",
       "        vertical-align: top;\n",
       "    }\n",
       "</style>\n",
       "<table border=\"1\" class=\"dataframe\">\n",
       "  <thead>\n",
       "    <tr style=\"text-align: right;\">\n",
       "      <th></th>\n",
       "      <th>n2 - id</th>\n",
       "      <th>n2 - name</th>\n",
       "      <th>score</th>\n",
       "    </tr>\n",
       "  </thead>\n",
       "  <tbody>\n",
       "    <tr>\n",
       "      <th>0</th>\n",
       "      <td>MONDO:0009693</td>\n",
       "      <td>plasma cell myeloma</td>\n",
       "      <td>152.023582</td>\n",
       "    </tr>\n",
       "    <tr>\n",
       "      <th>1</th>\n",
       "      <td>MONDO:0005100</td>\n",
       "      <td>systemic sclerosis</td>\n",
       "      <td>147.422579</td>\n",
       "    </tr>\n",
       "    <tr>\n",
       "      <th>2</th>\n",
       "      <td>MONDO:0007191</td>\n",
       "      <td>Behcet disease</td>\n",
       "      <td>135.187782</td>\n",
       "    </tr>\n",
       "    <tr>\n",
       "      <th>3</th>\n",
       "      <td>MONDO:0008608</td>\n",
       "      <td>down syndrome</td>\n",
       "      <td>132.699689</td>\n",
       "    </tr>\n",
       "    <tr>\n",
       "      <th>4</th>\n",
       "      <td>MONDO:0015909</td>\n",
       "      <td>aplastic anemia</td>\n",
       "      <td>130.677636</td>\n",
       "    </tr>\n",
       "  </tbody>\n",
       "</table>\n",
       "</div>"
      ],
      "text/plain": [
       "        n2 - id            n2 - name        score\n",
       "0  MONDO:0009693  plasma cell myeloma  152.023582\n",
       "1  MONDO:0005100   systemic sclerosis  147.422579\n",
       "2  MONDO:0007191       Behcet disease  135.187782\n",
       "3  MONDO:0008608        down syndrome  132.699689\n",
       "4  MONDO:0015909      aplastic anemia  130.677636"
      ]
     },
     "metadata": {},
     "output_type": "display_data"
    },
    {
     "data": {
      "text/html": [
       "<a href=http://robokop.renci.org/simple/view/26e960af-c0c6-4262-a165-fbba944dafe1>View Answer in ROBOKOP</a>"
      ],
      "text/plain": [
       "<IPython.core.display.HTML object>"
      ]
     },
     "metadata": {},
     "output_type": "display_data"
    },
    {
     "data": {
      "text/html": [
       "<h3>drug-induced liver injury</h3>"
      ],
      "text/plain": [
       "<IPython.core.display.HTML object>"
      ]
     },
     "metadata": {},
     "output_type": "display_data"
    },
    {
     "data": {
      "text/html": [
       "<div>\n",
       "<style>\n",
       "    .dataframe thead tr:only-child th {\n",
       "        text-align: right;\n",
       "    }\n",
       "\n",
       "    .dataframe thead th {\n",
       "        text-align: left;\n",
       "    }\n",
       "\n",
       "    .dataframe tbody tr th {\n",
       "        vertical-align: top;\n",
       "    }\n",
       "</style>\n",
       "<table border=\"1\" class=\"dataframe\">\n",
       "  <thead>\n",
       "    <tr style=\"text-align: right;\">\n",
       "      <th></th>\n",
       "      <th>n2 - id</th>\n",
       "      <th>n2 - name</th>\n",
       "      <th>score</th>\n",
       "    </tr>\n",
       "  </thead>\n",
       "  <tbody>\n",
       "    <tr>\n",
       "      <th>0</th>\n",
       "      <td>MONDO:0009693</td>\n",
       "      <td>plasma cell myeloma</td>\n",
       "      <td>120.747154</td>\n",
       "    </tr>\n",
       "    <tr>\n",
       "      <th>1</th>\n",
       "      <td>MONDO:0011382</td>\n",
       "      <td>sickle cell anemia</td>\n",
       "      <td>108.741509</td>\n",
       "    </tr>\n",
       "    <tr>\n",
       "      <th>2</th>\n",
       "      <td>MONDO:0015909</td>\n",
       "      <td>aplastic anemia</td>\n",
       "      <td>108.294717</td>\n",
       "    </tr>\n",
       "    <tr>\n",
       "      <th>3</th>\n",
       "      <td>MONDO:0009061</td>\n",
       "      <td>cystic fibrosis</td>\n",
       "      <td>103.238182</td>\n",
       "    </tr>\n",
       "    <tr>\n",
       "      <th>4</th>\n",
       "      <td>MONDO:0006507</td>\n",
       "      <td>hereditary hemochromatosis</td>\n",
       "      <td>102.375458</td>\n",
       "    </tr>\n",
       "  </tbody>\n",
       "</table>\n",
       "</div>"
      ],
      "text/plain": [
       "        n2 - id                   n2 - name        score\n",
       "0  MONDO:0009693         plasma cell myeloma  120.747154\n",
       "1  MONDO:0011382          sickle cell anemia  108.741509\n",
       "2  MONDO:0015909             aplastic anemia  108.294717\n",
       "3  MONDO:0009061             cystic fibrosis  103.238182\n",
       "4  MONDO:0006507  hereditary hemochromatosis  102.375458"
      ]
     },
     "metadata": {},
     "output_type": "display_data"
    },
    {
     "data": {
      "text/html": [
       "<a href=http://robokop.renci.org/simple/view/1c9becec-8175-43d1-b25c-2b099d2792a3>View Answer in ROBOKOP</a>"
      ],
      "text/plain": [
       "<IPython.core.display.HTML object>"
      ]
     },
     "metadata": {},
     "output_type": "display_data"
    },
    {
     "data": {
      "text/html": [
       "<h3>lipodystrophy (disease)</h3>"
      ],
      "text/plain": [
       "<IPython.core.display.HTML object>"
      ]
     },
     "metadata": {},
     "output_type": "display_data"
    },
    {
     "data": {
      "text/html": [
       "<div>\n",
       "<style>\n",
       "    .dataframe thead tr:only-child th {\n",
       "        text-align: right;\n",
       "    }\n",
       "\n",
       "    .dataframe thead th {\n",
       "        text-align: left;\n",
       "    }\n",
       "\n",
       "    .dataframe tbody tr th {\n",
       "        vertical-align: top;\n",
       "    }\n",
       "</style>\n",
       "<table border=\"1\" class=\"dataframe\">\n",
       "  <thead>\n",
       "    <tr style=\"text-align: right;\">\n",
       "      <th></th>\n",
       "      <th>n2 - id</th>\n",
       "      <th>n2 - name</th>\n",
       "      <th>score</th>\n",
       "    </tr>\n",
       "  </thead>\n",
       "  <tbody>\n",
       "    <tr>\n",
       "      <th>0</th>\n",
       "      <td>MONDO:0024255</td>\n",
       "      <td>genetic skin disease</td>\n",
       "      <td>121.681537</td>\n",
       "    </tr>\n",
       "    <tr>\n",
       "      <th>1</th>\n",
       "      <td>MONDO:0019052</td>\n",
       "      <td>inborn errors of metabolism</td>\n",
       "      <td>121.539282</td>\n",
       "    </tr>\n",
       "    <tr>\n",
       "      <th>2</th>\n",
       "      <td>MONDO:0019043</td>\n",
       "      <td>rare genetic skin disease</td>\n",
       "      <td>118.846445</td>\n",
       "    </tr>\n",
       "    <tr>\n",
       "      <th>3</th>\n",
       "      <td>MONDO:0015960</td>\n",
       "      <td>rare genetic developmental defect during embry...</td>\n",
       "      <td>115.573575</td>\n",
       "    </tr>\n",
       "    <tr>\n",
       "      <th>4</th>\n",
       "      <td>MONDO:0019117</td>\n",
       "      <td>genetic nervous system disorder</td>\n",
       "      <td>115.206699</td>\n",
       "    </tr>\n",
       "  </tbody>\n",
       "</table>\n",
       "</div>"
      ],
      "text/plain": [
       "        n2 - id                                          n2 - name   \\\n",
       "0  MONDO:0024255                               genetic skin disease   \n",
       "1  MONDO:0019052                        inborn errors of metabolism   \n",
       "2  MONDO:0019043                          rare genetic skin disease   \n",
       "3  MONDO:0015960  rare genetic developmental defect during embry...   \n",
       "4  MONDO:0019117                    genetic nervous system disorder   \n",
       "\n",
       "        score  \n",
       "0  121.681537  \n",
       "1  121.539282  \n",
       "2  118.846445  \n",
       "3  115.573575  \n",
       "4  115.206699  "
      ]
     },
     "metadata": {},
     "output_type": "display_data"
    },
    {
     "data": {
      "text/html": [
       "<a href=http://robokop.renci.org/simple/view/fcd7cbb1-4cc4-498d-bd0d-03e43f1dce53>View Answer in ROBOKOP</a>"
      ],
      "text/plain": [
       "<IPython.core.display.HTML object>"
      ]
     },
     "metadata": {},
     "output_type": "display_data"
    },
    {
     "data": {
      "text/html": [
       "<h3>aggressive periodontitis</h3>"
      ],
      "text/plain": [
       "<IPython.core.display.HTML object>"
      ]
     },
     "metadata": {},
     "output_type": "display_data"
    },
    {
     "data": {
      "text/html": [
       "<div>\n",
       "<style>\n",
       "    .dataframe thead tr:only-child th {\n",
       "        text-align: right;\n",
       "    }\n",
       "\n",
       "    .dataframe thead th {\n",
       "        text-align: left;\n",
       "    }\n",
       "\n",
       "    .dataframe tbody tr th {\n",
       "        vertical-align: top;\n",
       "    }\n",
       "</style>\n",
       "<table border=\"1\" class=\"dataframe\">\n",
       "  <thead>\n",
       "    <tr style=\"text-align: right;\">\n",
       "      <th></th>\n",
       "      <th>n2 - id</th>\n",
       "      <th>n2 - name</th>\n",
       "      <th>score</th>\n",
       "    </tr>\n",
       "  </thead>\n",
       "  <tbody>\n",
       "    <tr>\n",
       "      <th>0</th>\n",
       "      <td>MONDO:0008226</td>\n",
       "      <td>aggressive periodontitis</td>\n",
       "      <td>33.850506</td>\n",
       "    </tr>\n",
       "    <tr>\n",
       "      <th>1</th>\n",
       "      <td>MONDO:0008608</td>\n",
       "      <td>down syndrome</td>\n",
       "      <td>22.832355</td>\n",
       "    </tr>\n",
       "    <tr>\n",
       "      <th>2</th>\n",
       "      <td>MONDO:0009490</td>\n",
       "      <td>Papillon-Lefevre disease</td>\n",
       "      <td>22.397949</td>\n",
       "    </tr>\n",
       "    <tr>\n",
       "      <th>3</th>\n",
       "      <td>MONDO:0010002</td>\n",
       "      <td>Rothmund-Thomson syndrome</td>\n",
       "      <td>19.895927</td>\n",
       "    </tr>\n",
       "    <tr>\n",
       "      <th>4</th>\n",
       "      <td>MONDO:0015909</td>\n",
       "      <td>aplastic anemia</td>\n",
       "      <td>19.186385</td>\n",
       "    </tr>\n",
       "  </tbody>\n",
       "</table>\n",
       "</div>"
      ],
      "text/plain": [
       "        n2 - id                  n2 - name       score\n",
       "0  MONDO:0008226   aggressive periodontitis  33.850506\n",
       "1  MONDO:0008608              down syndrome  22.832355\n",
       "2  MONDO:0009490   Papillon-Lefevre disease  22.397949\n",
       "3  MONDO:0010002  Rothmund-Thomson syndrome  19.895927\n",
       "4  MONDO:0015909            aplastic anemia  19.186385"
      ]
     },
     "metadata": {},
     "output_type": "display_data"
    },
    {
     "data": {
      "text/html": [
       "<a href=http://robokop.renci.org/simple/view/fb1818be-fb76-4c8f-9a37-ecf98513a007>View Answer in ROBOKOP</a>"
      ],
      "text/plain": [
       "<IPython.core.display.HTML object>"
      ]
     },
     "metadata": {},
     "output_type": "display_data"
    },
    {
     "data": {
      "text/html": [
       "<h3>dementia</h3>"
      ],
      "text/plain": [
       "<IPython.core.display.HTML object>"
      ]
     },
     "metadata": {},
     "output_type": "display_data"
    },
    {
     "data": {
      "text/html": [
       "<div>\n",
       "<style>\n",
       "    .dataframe thead tr:only-child th {\n",
       "        text-align: right;\n",
       "    }\n",
       "\n",
       "    .dataframe thead th {\n",
       "        text-align: left;\n",
       "    }\n",
       "\n",
       "    .dataframe tbody tr th {\n",
       "        vertical-align: top;\n",
       "    }\n",
       "</style>\n",
       "<table border=\"1\" class=\"dataframe\">\n",
       "  <thead>\n",
       "    <tr style=\"text-align: right;\">\n",
       "      <th></th>\n",
       "      <th>n2 - id</th>\n",
       "      <th>n2 - name</th>\n",
       "      <th>score</th>\n",
       "    </tr>\n",
       "  </thead>\n",
       "  <tbody>\n",
       "    <tr>\n",
       "      <th>0</th>\n",
       "      <td>MONDO:0019117</td>\n",
       "      <td>genetic nervous system disorder</td>\n",
       "      <td>255.456918</td>\n",
       "    </tr>\n",
       "    <tr>\n",
       "      <th>1</th>\n",
       "      <td>MONDO:0019052</td>\n",
       "      <td>inborn errors of metabolism</td>\n",
       "      <td>245.039442</td>\n",
       "    </tr>\n",
       "    <tr>\n",
       "      <th>2</th>\n",
       "      <td>MONDO:0015107</td>\n",
       "      <td>rare genetic eye disease</td>\n",
       "      <td>243.660919</td>\n",
       "    </tr>\n",
       "    <tr>\n",
       "      <th>3</th>\n",
       "      <td>MONDO:0015952</td>\n",
       "      <td>genetic neurodegenerative disease</td>\n",
       "      <td>237.544551</td>\n",
       "    </tr>\n",
       "    <tr>\n",
       "      <th>4</th>\n",
       "      <td>MONDO:0000275</td>\n",
       "      <td>monogenic disease</td>\n",
       "      <td>236.277182</td>\n",
       "    </tr>\n",
       "  </tbody>\n",
       "</table>\n",
       "</div>"
      ],
      "text/plain": [
       "        n2 - id                          n2 - name        score\n",
       "0  MONDO:0019117    genetic nervous system disorder  255.456918\n",
       "1  MONDO:0019052        inborn errors of metabolism  245.039442\n",
       "2  MONDO:0015107           rare genetic eye disease  243.660919\n",
       "3  MONDO:0015952  genetic neurodegenerative disease  237.544551\n",
       "4  MONDO:0000275                  monogenic disease  236.277182"
      ]
     },
     "metadata": {},
     "output_type": "display_data"
    },
    {
     "data": {
      "text/html": [
       "<a href=http://robokop.renci.org/simple/view/05b4ac1f-1e9f-4477-ba76-b2f6de5edffa>View Answer in ROBOKOP</a>"
      ],
      "text/plain": [
       "<IPython.core.display.HTML object>"
      ]
     },
     "metadata": {},
     "output_type": "display_data"
    },
    {
     "data": {
      "text/html": [
       "<h3>inflammatory bowel disease</h3>"
      ],
      "text/plain": [
       "<IPython.core.display.HTML object>"
      ]
     },
     "metadata": {},
     "output_type": "display_data"
    },
    {
     "data": {
      "text/html": [
       "<div>\n",
       "<style>\n",
       "    .dataframe thead tr:only-child th {\n",
       "        text-align: right;\n",
       "    }\n",
       "\n",
       "    .dataframe thead th {\n",
       "        text-align: left;\n",
       "    }\n",
       "\n",
       "    .dataframe tbody tr th {\n",
       "        vertical-align: top;\n",
       "    }\n",
       "</style>\n",
       "<table border=\"1\" class=\"dataframe\">\n",
       "  <thead>\n",
       "    <tr style=\"text-align: right;\">\n",
       "      <th></th>\n",
       "      <th>n2 - id</th>\n",
       "      <th>n2 - name</th>\n",
       "      <th>score</th>\n",
       "    </tr>\n",
       "  </thead>\n",
       "  <tbody>\n",
       "    <tr>\n",
       "      <th>0</th>\n",
       "      <td>MONDO:0019117</td>\n",
       "      <td>genetic nervous system disorder</td>\n",
       "      <td>70.677288</td>\n",
       "    </tr>\n",
       "    <tr>\n",
       "      <th>1</th>\n",
       "      <td>MONDO:0024255</td>\n",
       "      <td>genetic skin disease</td>\n",
       "      <td>70.377947</td>\n",
       "    </tr>\n",
       "    <tr>\n",
       "      <th>2</th>\n",
       "      <td>MONDO:0015984</td>\n",
       "      <td>rare genetic immune disease</td>\n",
       "      <td>69.101445</td>\n",
       "    </tr>\n",
       "    <tr>\n",
       "      <th>3</th>\n",
       "      <td>MONDO:0019043</td>\n",
       "      <td>rare genetic skin disease</td>\n",
       "      <td>68.504706</td>\n",
       "    </tr>\n",
       "    <tr>\n",
       "      <th>4</th>\n",
       "      <td>MONDO:0019052</td>\n",
       "      <td>inborn errors of metabolism</td>\n",
       "      <td>68.049499</td>\n",
       "    </tr>\n",
       "  </tbody>\n",
       "</table>\n",
       "</div>"
      ],
      "text/plain": [
       "        n2 - id                        n2 - name       score\n",
       "0  MONDO:0019117  genetic nervous system disorder  70.677288\n",
       "1  MONDO:0024255             genetic skin disease  70.377947\n",
       "2  MONDO:0015984      rare genetic immune disease  69.101445\n",
       "3  MONDO:0019043        rare genetic skin disease  68.504706\n",
       "4  MONDO:0019052      inborn errors of metabolism  68.049499"
      ]
     },
     "metadata": {},
     "output_type": "display_data"
    },
    {
     "data": {
      "text/html": [
       "<a href=http://robokop.renci.org/simple/view/010d54a4-6117-4993-bf00-03aa9cd580f2>View Answer in ROBOKOP</a>"
      ],
      "text/plain": [
       "<IPython.core.display.HTML object>"
      ]
     },
     "metadata": {},
     "output_type": "display_data"
    },
    {
     "data": {
      "text/html": [
       "<h3>asthma</h3>"
      ],
      "text/plain": [
       "<IPython.core.display.HTML object>"
      ]
     },
     "metadata": {},
     "output_type": "display_data"
    },
    {
     "data": {
      "text/html": [
       "<div>\n",
       "<style>\n",
       "    .dataframe thead tr:only-child th {\n",
       "        text-align: right;\n",
       "    }\n",
       "\n",
       "    .dataframe thead th {\n",
       "        text-align: left;\n",
       "    }\n",
       "\n",
       "    .dataframe tbody tr th {\n",
       "        vertical-align: top;\n",
       "    }\n",
       "</style>\n",
       "<table border=\"1\" class=\"dataframe\">\n",
       "  <thead>\n",
       "    <tr style=\"text-align: right;\">\n",
       "      <th></th>\n",
       "      <th>n2 - id</th>\n",
       "      <th>n2 - name</th>\n",
       "      <th>score</th>\n",
       "    </tr>\n",
       "  </thead>\n",
       "  <tbody>\n",
       "    <tr>\n",
       "      <th>0</th>\n",
       "      <td>MONDO:0008608</td>\n",
       "      <td>down syndrome</td>\n",
       "      <td>111.468282</td>\n",
       "    </tr>\n",
       "    <tr>\n",
       "      <th>1</th>\n",
       "      <td>MONDO:0009061</td>\n",
       "      <td>cystic fibrosis</td>\n",
       "      <td>107.403934</td>\n",
       "    </tr>\n",
       "    <tr>\n",
       "      <th>2</th>\n",
       "      <td>MONDO:0011382</td>\n",
       "      <td>sickle cell anemia</td>\n",
       "      <td>91.851433</td>\n",
       "    </tr>\n",
       "    <tr>\n",
       "      <th>3</th>\n",
       "      <td>MONDO:0010086</td>\n",
       "      <td>sudden infant death syndrome</td>\n",
       "      <td>89.206875</td>\n",
       "    </tr>\n",
       "    <tr>\n",
       "      <th>4</th>\n",
       "      <td>MONDO:0007186</td>\n",
       "      <td>gastroesophageal reflux disease</td>\n",
       "      <td>85.126199</td>\n",
       "    </tr>\n",
       "  </tbody>\n",
       "</table>\n",
       "</div>"
      ],
      "text/plain": [
       "        n2 - id                        n2 - name        score\n",
       "0  MONDO:0008608                    down syndrome  111.468282\n",
       "1  MONDO:0009061                  cystic fibrosis  107.403934\n",
       "2  MONDO:0011382               sickle cell anemia   91.851433\n",
       "3  MONDO:0010086     sudden infant death syndrome   89.206875\n",
       "4  MONDO:0007186  gastroesophageal reflux disease   85.126199"
      ]
     },
     "metadata": {},
     "output_type": "display_data"
    },
    {
     "data": {
      "text/html": [
       "<a href=http://robokop.renci.org/simple/view/e4234458-65ec-4223-bbdb-e601bce0af97>View Answer in ROBOKOP</a>"
      ],
      "text/plain": [
       "<IPython.core.display.HTML object>"
      ]
     },
     "metadata": {},
     "output_type": "display_data"
    },
    {
     "data": {
      "text/html": [
       "<h3>osteoporosis</h3>"
      ],
      "text/plain": [
       "<IPython.core.display.HTML object>"
      ]
     },
     "metadata": {},
     "output_type": "display_data"
    },
    {
     "data": {
      "text/html": [
       "<div>\n",
       "<style>\n",
       "    .dataframe thead tr:only-child th {\n",
       "        text-align: right;\n",
       "    }\n",
       "\n",
       "    .dataframe thead th {\n",
       "        text-align: left;\n",
       "    }\n",
       "\n",
       "    .dataframe tbody tr th {\n",
       "        vertical-align: top;\n",
       "    }\n",
       "</style>\n",
       "<table border=\"1\" class=\"dataframe\">\n",
       "  <thead>\n",
       "    <tr style=\"text-align: right;\">\n",
       "      <th></th>\n",
       "      <th>n2 - id</th>\n",
       "      <th>n2 - name</th>\n",
       "      <th>score</th>\n",
       "    </tr>\n",
       "  </thead>\n",
       "  <tbody>\n",
       "    <tr>\n",
       "      <th>0</th>\n",
       "      <td>MONDO:0009693</td>\n",
       "      <td>plasma cell myeloma</td>\n",
       "      <td>118.592658</td>\n",
       "    </tr>\n",
       "    <tr>\n",
       "      <th>1</th>\n",
       "      <td>MONDO:0009061</td>\n",
       "      <td>cystic fibrosis</td>\n",
       "      <td>115.559305</td>\n",
       "    </tr>\n",
       "    <tr>\n",
       "      <th>2</th>\n",
       "      <td>MONDO:0019499</td>\n",
       "      <td>Turner syndrome</td>\n",
       "      <td>105.276165</td>\n",
       "    </tr>\n",
       "    <tr>\n",
       "      <th>3</th>\n",
       "      <td>MONDO:0011382</td>\n",
       "      <td>sickle cell anemia</td>\n",
       "      <td>103.182297</td>\n",
       "    </tr>\n",
       "    <tr>\n",
       "      <th>4</th>\n",
       "      <td>MONDO:0008608</td>\n",
       "      <td>down syndrome</td>\n",
       "      <td>102.995280</td>\n",
       "    </tr>\n",
       "  </tbody>\n",
       "</table>\n",
       "</div>"
      ],
      "text/plain": [
       "        n2 - id            n2 - name        score\n",
       "0  MONDO:0009693  plasma cell myeloma  118.592658\n",
       "1  MONDO:0009061      cystic fibrosis  115.559305\n",
       "2  MONDO:0019499      Turner syndrome  105.276165\n",
       "3  MONDO:0011382   sickle cell anemia  103.182297\n",
       "4  MONDO:0008608        down syndrome  102.995280"
      ]
     },
     "metadata": {},
     "output_type": "display_data"
    },
    {
     "data": {
      "text/html": [
       "<a href=http://robokop.renci.org/simple/view/f9a0db77-457c-4f70-bdad-b53a767ac621>View Answer in ROBOKOP</a>"
      ],
      "text/plain": [
       "<IPython.core.display.HTML object>"
      ]
     },
     "metadata": {},
     "output_type": "display_data"
    },
    {
     "data": {
      "text/html": [
       "<h3>pulmonary edema</h3>"
      ],
      "text/plain": [
       "<IPython.core.display.HTML object>"
      ]
     },
     "metadata": {},
     "output_type": "display_data"
    },
    {
     "data": {
      "text/html": [
       "<div>\n",
       "<style>\n",
       "    .dataframe thead tr:only-child th {\n",
       "        text-align: right;\n",
       "    }\n",
       "\n",
       "    .dataframe thead th {\n",
       "        text-align: left;\n",
       "    }\n",
       "\n",
       "    .dataframe tbody tr th {\n",
       "        vertical-align: top;\n",
       "    }\n",
       "</style>\n",
       "<table border=\"1\" class=\"dataframe\">\n",
       "  <thead>\n",
       "    <tr style=\"text-align: right;\">\n",
       "      <th></th>\n",
       "      <th>n2 - id</th>\n",
       "      <th>n2 - name</th>\n",
       "      <th>score</th>\n",
       "    </tr>\n",
       "  </thead>\n",
       "  <tbody>\n",
       "    <tr>\n",
       "      <th>0</th>\n",
       "      <td>MONDO:0011382</td>\n",
       "      <td>sickle cell anemia</td>\n",
       "      <td>97.770204</td>\n",
       "    </tr>\n",
       "    <tr>\n",
       "      <th>1</th>\n",
       "      <td>MONDO:0009061</td>\n",
       "      <td>cystic fibrosis</td>\n",
       "      <td>95.517038</td>\n",
       "    </tr>\n",
       "    <tr>\n",
       "      <th>2</th>\n",
       "      <td>MONDO:0008608</td>\n",
       "      <td>down syndrome</td>\n",
       "      <td>81.334995</td>\n",
       "    </tr>\n",
       "    <tr>\n",
       "      <th>3</th>\n",
       "      <td>MONDO:0005100</td>\n",
       "      <td>systemic sclerosis</td>\n",
       "      <td>77.189261</td>\n",
       "    </tr>\n",
       "    <tr>\n",
       "      <th>4</th>\n",
       "      <td>MONDO:0009693</td>\n",
       "      <td>plasma cell myeloma</td>\n",
       "      <td>76.677655</td>\n",
       "    </tr>\n",
       "  </tbody>\n",
       "</table>\n",
       "</div>"
      ],
      "text/plain": [
       "        n2 - id            n2 - name       score\n",
       "0  MONDO:0011382   sickle cell anemia  97.770204\n",
       "1  MONDO:0009061      cystic fibrosis  95.517038\n",
       "2  MONDO:0008608        down syndrome  81.334995\n",
       "3  MONDO:0005100   systemic sclerosis  77.189261\n",
       "4  MONDO:0009693  plasma cell myeloma  76.677655"
      ]
     },
     "metadata": {},
     "output_type": "display_data"
    },
    {
     "data": {
      "text/html": [
       "<a href=http://robokop.renci.org/simple/view/e790ce99-d0ee-4801-b73d-ab3f8091219b>View Answer in ROBOKOP</a>"
      ],
      "text/plain": [
       "<IPython.core.display.HTML object>"
      ]
     },
     "metadata": {},
     "output_type": "display_data"
    },
    {
     "data": {
      "text/html": [
       "<h3>Parkinson disease</h3>"
      ],
      "text/plain": [
       "<IPython.core.display.HTML object>"
      ]
     },
     "metadata": {},
     "output_type": "display_data"
    },
    {
     "data": {
      "text/html": [
       "<div>\n",
       "<style>\n",
       "    .dataframe thead tr:only-child th {\n",
       "        text-align: right;\n",
       "    }\n",
       "\n",
       "    .dataframe thead th {\n",
       "        text-align: left;\n",
       "    }\n",
       "\n",
       "    .dataframe tbody tr th {\n",
       "        vertical-align: top;\n",
       "    }\n",
       "</style>\n",
       "<table border=\"1\" class=\"dataframe\">\n",
       "  <thead>\n",
       "    <tr style=\"text-align: right;\">\n",
       "      <th></th>\n",
       "      <th>n2 - id</th>\n",
       "      <th>n2 - name</th>\n",
       "      <th>score</th>\n",
       "    </tr>\n",
       "  </thead>\n",
       "  <tbody>\n",
       "    <tr>\n",
       "      <th>0</th>\n",
       "      <td>MONDO:0008608</td>\n",
       "      <td>down syndrome</td>\n",
       "      <td>68.958049</td>\n",
       "    </tr>\n",
       "    <tr>\n",
       "      <th>1</th>\n",
       "      <td>MONDO:0010200</td>\n",
       "      <td>Wilson disease</td>\n",
       "      <td>54.714259</td>\n",
       "    </tr>\n",
       "    <tr>\n",
       "      <th>2</th>\n",
       "      <td>MONDO:0007191</td>\n",
       "      <td>Behcet disease</td>\n",
       "      <td>54.100313</td>\n",
       "    </tr>\n",
       "    <tr>\n",
       "      <th>3</th>\n",
       "      <td>MONDO:0016021</td>\n",
       "      <td>early infantile epileptic encephalopathy</td>\n",
       "      <td>53.336499</td>\n",
       "    </tr>\n",
       "    <tr>\n",
       "      <th>4</th>\n",
       "      <td>MONDO:0018150</td>\n",
       "      <td>Gaucher disease</td>\n",
       "      <td>52.081490</td>\n",
       "    </tr>\n",
       "  </tbody>\n",
       "</table>\n",
       "</div>"
      ],
      "text/plain": [
       "        n2 - id                                 n2 - name       score\n",
       "0  MONDO:0008608                             down syndrome  68.958049\n",
       "1  MONDO:0010200                            Wilson disease  54.714259\n",
       "2  MONDO:0007191                            Behcet disease  54.100313\n",
       "3  MONDO:0016021  early infantile epileptic encephalopathy  53.336499\n",
       "4  MONDO:0018150                           Gaucher disease  52.081490"
      ]
     },
     "metadata": {},
     "output_type": "display_data"
    },
    {
     "data": {
      "text/html": [
       "<a href=http://robokop.renci.org/simple/view/ff354a4a-f945-48c4-8da8-a0487a23c9c5>View Answer in ROBOKOP</a>"
      ],
      "text/plain": [
       "<IPython.core.display.HTML object>"
      ]
     },
     "metadata": {},
     "output_type": "display_data"
    },
    {
     "data": {
      "text/html": [
       "<h3>arteriolosclerosis</h3>"
      ],
      "text/plain": [
       "<IPython.core.display.HTML object>"
      ]
     },
     "metadata": {},
     "output_type": "display_data"
    },
    {
     "data": {
      "text/html": [
       "<div>\n",
       "<style>\n",
       "    .dataframe thead tr:only-child th {\n",
       "        text-align: right;\n",
       "    }\n",
       "\n",
       "    .dataframe thead th {\n",
       "        text-align: left;\n",
       "    }\n",
       "\n",
       "    .dataframe tbody tr th {\n",
       "        vertical-align: top;\n",
       "    }\n",
       "</style>\n",
       "<table border=\"1\" class=\"dataframe\">\n",
       "  <thead>\n",
       "    <tr style=\"text-align: right;\">\n",
       "      <th></th>\n",
       "      <th>n2 - id</th>\n",
       "      <th>n2 - name</th>\n",
       "      <th>score</th>\n",
       "    </tr>\n",
       "  </thead>\n",
       "  <tbody>\n",
       "    <tr>\n",
       "      <th>0</th>\n",
       "      <td>MONDO:0011382</td>\n",
       "      <td>sickle cell anemia</td>\n",
       "      <td>28.247943</td>\n",
       "    </tr>\n",
       "    <tr>\n",
       "      <th>1</th>\n",
       "      <td>MONDO:0009693</td>\n",
       "      <td>plasma cell myeloma</td>\n",
       "      <td>27.064037</td>\n",
       "    </tr>\n",
       "    <tr>\n",
       "      <th>2</th>\n",
       "      <td>MONDO:0002413</td>\n",
       "      <td>glycogen storage disease I</td>\n",
       "      <td>24.904973</td>\n",
       "    </tr>\n",
       "    <tr>\n",
       "      <th>3</th>\n",
       "      <td>MONDO:0011565</td>\n",
       "      <td>metabolic syndrome X</td>\n",
       "      <td>24.178642</td>\n",
       "    </tr>\n",
       "    <tr>\n",
       "      <th>4</th>\n",
       "      <td>MONDO:0010526</td>\n",
       "      <td>Fabry disease</td>\n",
       "      <td>21.385924</td>\n",
       "    </tr>\n",
       "  </tbody>\n",
       "</table>\n",
       "</div>"
      ],
      "text/plain": [
       "        n2 - id                   n2 - name       score\n",
       "0  MONDO:0011382          sickle cell anemia  28.247943\n",
       "1  MONDO:0009693         plasma cell myeloma  27.064037\n",
       "2  MONDO:0002413  glycogen storage disease I  24.904973\n",
       "3  MONDO:0011565        metabolic syndrome X  24.178642\n",
       "4  MONDO:0010526               Fabry disease  21.385924"
      ]
     },
     "metadata": {},
     "output_type": "display_data"
    },
    {
     "data": {
      "text/html": [
       "<a href=http://robokop.renci.org/simple/view/88f346de-4730-4948-9611-5b66868ee662>View Answer in ROBOKOP</a>"
      ],
      "text/plain": [
       "<IPython.core.display.HTML object>"
      ]
     },
     "metadata": {},
     "output_type": "display_data"
    },
    {
     "data": {
      "text/html": [
       "<h3>schizophrenia</h3>"
      ],
      "text/plain": [
       "<IPython.core.display.HTML object>"
      ]
     },
     "metadata": {},
     "output_type": "display_data"
    },
    {
     "data": {
      "text/html": [
       "<div>\n",
       "<style>\n",
       "    .dataframe thead tr:only-child th {\n",
       "        text-align: right;\n",
       "    }\n",
       "\n",
       "    .dataframe thead th {\n",
       "        text-align: left;\n",
       "    }\n",
       "\n",
       "    .dataframe tbody tr th {\n",
       "        vertical-align: top;\n",
       "    }\n",
       "</style>\n",
       "<table border=\"1\" class=\"dataframe\">\n",
       "  <thead>\n",
       "    <tr style=\"text-align: right;\">\n",
       "      <th></th>\n",
       "      <th>n2 - id</th>\n",
       "      <th>n2 - name</th>\n",
       "      <th>score</th>\n",
       "    </tr>\n",
       "  </thead>\n",
       "  <tbody>\n",
       "    <tr>\n",
       "      <th>0</th>\n",
       "      <td>MONDO:0019052</td>\n",
       "      <td>inborn errors of metabolism</td>\n",
       "      <td>7.438850</td>\n",
       "    </tr>\n",
       "    <tr>\n",
       "      <th>1</th>\n",
       "      <td>MONDO:0019117</td>\n",
       "      <td>genetic nervous system disorder</td>\n",
       "      <td>6.817803</td>\n",
       "    </tr>\n",
       "    <tr>\n",
       "      <th>2</th>\n",
       "      <td>MONDO:0008608</td>\n",
       "      <td>down syndrome</td>\n",
       "      <td>6.814224</td>\n",
       "    </tr>\n",
       "    <tr>\n",
       "      <th>3</th>\n",
       "      <td>MONDO:0000275</td>\n",
       "      <td>monogenic disease</td>\n",
       "      <td>6.675081</td>\n",
       "    </tr>\n",
       "    <tr>\n",
       "      <th>4</th>\n",
       "      <td>MONDO:0020127</td>\n",
       "      <td>genetic peripheral neuropathy</td>\n",
       "      <td>6.652812</td>\n",
       "    </tr>\n",
       "  </tbody>\n",
       "</table>\n",
       "</div>"
      ],
      "text/plain": [
       "        n2 - id                        n2 - name      score\n",
       "0  MONDO:0019052      inborn errors of metabolism  7.438850\n",
       "1  MONDO:0019117  genetic nervous system disorder  6.817803\n",
       "2  MONDO:0008608                    down syndrome  6.814224\n",
       "3  MONDO:0000275                monogenic disease  6.675081\n",
       "4  MONDO:0020127    genetic peripheral neuropathy  6.652812"
      ]
     },
     "metadata": {},
     "output_type": "display_data"
    },
    {
     "data": {
      "text/html": [
       "<a href=http://robokop.renci.org/simple/view/57f4127f-78ad-46be-bfee-505bf6f5b643>View Answer in ROBOKOP</a>"
      ],
      "text/plain": [
       "<IPython.core.display.HTML object>"
      ]
     },
     "metadata": {},
     "output_type": "display_data"
    },
    {
     "data": {
      "text/html": [
       "<h3>hypopituitarism</h3>"
      ],
      "text/plain": [
       "<IPython.core.display.HTML object>"
      ]
     },
     "metadata": {},
     "output_type": "display_data"
    },
    {
     "data": {
      "text/html": [
       "<div>\n",
       "<style>\n",
       "    .dataframe thead tr:only-child th {\n",
       "        text-align: right;\n",
       "    }\n",
       "\n",
       "    .dataframe thead th {\n",
       "        text-align: left;\n",
       "    }\n",
       "\n",
       "    .dataframe tbody tr th {\n",
       "        vertical-align: top;\n",
       "    }\n",
       "</style>\n",
       "<table border=\"1\" class=\"dataframe\">\n",
       "  <thead>\n",
       "    <tr style=\"text-align: right;\">\n",
       "      <th></th>\n",
       "      <th>n2 - id</th>\n",
       "      <th>n2 - name</th>\n",
       "      <th>score</th>\n",
       "    </tr>\n",
       "  </thead>\n",
       "  <tbody>\n",
       "    <tr>\n",
       "      <th>0</th>\n",
       "      <td>MONDO:0013099</td>\n",
       "      <td>combined pituitary hormone deficiencies, genet...</td>\n",
       "      <td>282.021683</td>\n",
       "    </tr>\n",
       "    <tr>\n",
       "      <th>1</th>\n",
       "      <td>MONDO:0015514</td>\n",
       "      <td>genetic endocrine growth disease</td>\n",
       "      <td>273.003622</td>\n",
       "    </tr>\n",
       "    <tr>\n",
       "      <th>2</th>\n",
       "      <td>MONDO:0018404</td>\n",
       "      <td>rare genetic male infertility</td>\n",
       "      <td>257.380704</td>\n",
       "    </tr>\n",
       "    <tr>\n",
       "      <th>3</th>\n",
       "      <td>MONDO:0017143</td>\n",
       "      <td>genetic infertility</td>\n",
       "      <td>257.306611</td>\n",
       "    </tr>\n",
       "    <tr>\n",
       "      <th>4</th>\n",
       "      <td>MONDO:0018405</td>\n",
       "      <td>rare male infertility due to hypothalamic-pitu...</td>\n",
       "      <td>255.402528</td>\n",
       "    </tr>\n",
       "  </tbody>\n",
       "</table>\n",
       "</div>"
      ],
      "text/plain": [
       "        n2 - id                                          n2 - name   \\\n",
       "0  MONDO:0013099  combined pituitary hormone deficiencies, genet...   \n",
       "1  MONDO:0015514                   genetic endocrine growth disease   \n",
       "2  MONDO:0018404                      rare genetic male infertility   \n",
       "3  MONDO:0017143                                genetic infertility   \n",
       "4  MONDO:0018405  rare male infertility due to hypothalamic-pitu...   \n",
       "\n",
       "        score  \n",
       "0  282.021683  \n",
       "1  273.003622  \n",
       "2  257.380704  \n",
       "3  257.306611  \n",
       "4  255.402528  "
      ]
     },
     "metadata": {},
     "output_type": "display_data"
    },
    {
     "data": {
      "text/html": [
       "<a href=http://robokop.renci.org/simple/view/d3ba7690-b093-49b5-a4a1-25a414801fd0>View Answer in ROBOKOP</a>"
      ],
      "text/plain": [
       "<IPython.core.display.HTML object>"
      ]
     },
     "metadata": {},
     "output_type": "display_data"
    },
    {
     "data": {
      "text/html": [
       "<h3>facial paralysis</h3>"
      ],
      "text/plain": [
       "<IPython.core.display.HTML object>"
      ]
     },
     "metadata": {},
     "output_type": "display_data"
    },
    {
     "data": {
      "text/html": [
       "<div>\n",
       "<style>\n",
       "    .dataframe thead tr:only-child th {\n",
       "        text-align: right;\n",
       "    }\n",
       "\n",
       "    .dataframe thead th {\n",
       "        text-align: left;\n",
       "    }\n",
       "\n",
       "    .dataframe tbody tr th {\n",
       "        vertical-align: top;\n",
       "    }\n",
       "</style>\n",
       "<table border=\"1\" class=\"dataframe\">\n",
       "  <thead>\n",
       "    <tr style=\"text-align: right;\">\n",
       "      <th></th>\n",
       "      <th>n2 - id</th>\n",
       "      <th>n2 - name</th>\n",
       "      <th>score</th>\n",
       "    </tr>\n",
       "  </thead>\n",
       "  <tbody>\n",
       "    <tr>\n",
       "      <th>0</th>\n",
       "      <td>MONDO:0008608</td>\n",
       "      <td>down syndrome</td>\n",
       "      <td>100.661431</td>\n",
       "    </tr>\n",
       "    <tr>\n",
       "      <th>1</th>\n",
       "      <td>MONDO:0019117</td>\n",
       "      <td>genetic nervous system disorder</td>\n",
       "      <td>82.853650</td>\n",
       "    </tr>\n",
       "    <tr>\n",
       "      <th>2</th>\n",
       "      <td>MONDO:0007191</td>\n",
       "      <td>Behcet disease</td>\n",
       "      <td>82.245812</td>\n",
       "    </tr>\n",
       "    <tr>\n",
       "      <th>3</th>\n",
       "      <td>MONDO:0021061</td>\n",
       "      <td>neurofibromatosis</td>\n",
       "      <td>78.641208</td>\n",
       "    </tr>\n",
       "    <tr>\n",
       "      <th>4</th>\n",
       "      <td>MONDO:0008364</td>\n",
       "      <td>Raynaud disease</td>\n",
       "      <td>75.566071</td>\n",
       "    </tr>\n",
       "  </tbody>\n",
       "</table>\n",
       "</div>"
      ],
      "text/plain": [
       "        n2 - id                        n2 - name        score\n",
       "0  MONDO:0008608                    down syndrome  100.661431\n",
       "1  MONDO:0019117  genetic nervous system disorder   82.853650\n",
       "2  MONDO:0007191                   Behcet disease   82.245812\n",
       "3  MONDO:0021061                neurofibromatosis   78.641208\n",
       "4  MONDO:0008364                  Raynaud disease   75.566071"
      ]
     },
     "metadata": {},
     "output_type": "display_data"
    },
    {
     "data": {
      "text/html": [
       "<a href=http://robokop.renci.org/simple/view/c320483a-4be9-49f2-8ee9-4de4289506fb>View Answer in ROBOKOP</a>"
      ],
      "text/plain": [
       "<IPython.core.display.HTML object>"
      ]
     },
     "metadata": {},
     "output_type": "display_data"
    },
    {
     "data": {
      "text/html": [
       "<h3>polyneuropathy</h3>"
      ],
      "text/plain": [
       "<IPython.core.display.HTML object>"
      ]
     },
     "metadata": {},
     "output_type": "display_data"
    },
    {
     "data": {
      "text/html": [
       "<div>\n",
       "<style>\n",
       "    .dataframe thead tr:only-child th {\n",
       "        text-align: right;\n",
       "    }\n",
       "\n",
       "    .dataframe thead th {\n",
       "        text-align: left;\n",
       "    }\n",
       "\n",
       "    .dataframe tbody tr th {\n",
       "        vertical-align: top;\n",
       "    }\n",
       "</style>\n",
       "<table border=\"1\" class=\"dataframe\">\n",
       "  <thead>\n",
       "    <tr style=\"text-align: right;\">\n",
       "      <th></th>\n",
       "      <th>n2 - id</th>\n",
       "      <th>n2 - name</th>\n",
       "      <th>score</th>\n",
       "    </tr>\n",
       "  </thead>\n",
       "  <tbody>\n",
       "    <tr>\n",
       "      <th>0</th>\n",
       "      <td>MONDO:0009693</td>\n",
       "      <td>plasma cell myeloma</td>\n",
       "      <td>86.952503</td>\n",
       "    </tr>\n",
       "    <tr>\n",
       "      <th>1</th>\n",
       "      <td>MONDO:0015909</td>\n",
       "      <td>aplastic anemia</td>\n",
       "      <td>86.531555</td>\n",
       "    </tr>\n",
       "    <tr>\n",
       "      <th>2</th>\n",
       "      <td>MONDO:0005100</td>\n",
       "      <td>systemic sclerosis</td>\n",
       "      <td>86.470383</td>\n",
       "    </tr>\n",
       "    <tr>\n",
       "      <th>3</th>\n",
       "      <td>MONDO:0007191</td>\n",
       "      <td>Behcet disease</td>\n",
       "      <td>80.587173</td>\n",
       "    </tr>\n",
       "    <tr>\n",
       "      <th>4</th>\n",
       "      <td>MONDO:0009637</td>\n",
       "      <td>mitochondrial myopathy</td>\n",
       "      <td>80.527131</td>\n",
       "    </tr>\n",
       "  </tbody>\n",
       "</table>\n",
       "</div>"
      ],
      "text/plain": [
       "        n2 - id               n2 - name       score\n",
       "0  MONDO:0009693     plasma cell myeloma  86.952503\n",
       "1  MONDO:0015909         aplastic anemia  86.531555\n",
       "2  MONDO:0005100      systemic sclerosis  86.470383\n",
       "3  MONDO:0007191          Behcet disease  80.587173\n",
       "4  MONDO:0009637  mitochondrial myopathy  80.527131"
      ]
     },
     "metadata": {},
     "output_type": "display_data"
    },
    {
     "data": {
      "text/html": [
       "<a href=http://robokop.renci.org/simple/view/f44605e4-4069-4985-a014-46b1d0926ba2>View Answer in ROBOKOP</a>"
      ],
      "text/plain": [
       "<IPython.core.display.HTML object>"
      ]
     },
     "metadata": {},
     "output_type": "display_data"
    },
    {
     "data": {
      "text/html": [
       "<h3>multiple sclerosis</h3>"
      ],
      "text/plain": [
       "<IPython.core.display.HTML object>"
      ]
     },
     "metadata": {},
     "output_type": "display_data"
    },
    {
     "data": {
      "text/html": [
       "<div>\n",
       "<style>\n",
       "    .dataframe thead tr:only-child th {\n",
       "        text-align: right;\n",
       "    }\n",
       "\n",
       "    .dataframe thead th {\n",
       "        text-align: left;\n",
       "    }\n",
       "\n",
       "    .dataframe tbody tr th {\n",
       "        vertical-align: top;\n",
       "    }\n",
       "</style>\n",
       "<table border=\"1\" class=\"dataframe\">\n",
       "  <thead>\n",
       "    <tr style=\"text-align: right;\">\n",
       "      <th></th>\n",
       "      <th>n2 - id</th>\n",
       "      <th>n2 - name</th>\n",
       "      <th>score</th>\n",
       "    </tr>\n",
       "  </thead>\n",
       "  <tbody>\n",
       "    <tr>\n",
       "      <th>0</th>\n",
       "      <td>MONDO:0007191</td>\n",
       "      <td>Behcet disease</td>\n",
       "      <td>114.794487</td>\n",
       "    </tr>\n",
       "    <tr>\n",
       "      <th>1</th>\n",
       "      <td>MONDO:0008608</td>\n",
       "      <td>down syndrome</td>\n",
       "      <td>107.682315</td>\n",
       "    </tr>\n",
       "    <tr>\n",
       "      <th>2</th>\n",
       "      <td>MONDO:0019117</td>\n",
       "      <td>genetic nervous system disorder</td>\n",
       "      <td>102.988646</td>\n",
       "    </tr>\n",
       "    <tr>\n",
       "      <th>3</th>\n",
       "      <td>MONDO:0015107</td>\n",
       "      <td>rare genetic eye disease</td>\n",
       "      <td>93.864954</td>\n",
       "    </tr>\n",
       "    <tr>\n",
       "      <th>4</th>\n",
       "      <td>MONDO:0011382</td>\n",
       "      <td>sickle cell anemia</td>\n",
       "      <td>93.789909</td>\n",
       "    </tr>\n",
       "  </tbody>\n",
       "</table>\n",
       "</div>"
      ],
      "text/plain": [
       "        n2 - id                        n2 - name        score\n",
       "0  MONDO:0007191                   Behcet disease  114.794487\n",
       "1  MONDO:0008608                    down syndrome  107.682315\n",
       "2  MONDO:0019117  genetic nervous system disorder  102.988646\n",
       "3  MONDO:0015107         rare genetic eye disease   93.864954\n",
       "4  MONDO:0011382               sickle cell anemia   93.789909"
      ]
     },
     "metadata": {},
     "output_type": "display_data"
    },
    {
     "data": {
      "text/html": [
       "<a href=http://robokop.renci.org/simple/view/0d7b2f65-ad7e-42c3-9258-5a161b6e5acc>View Answer in ROBOKOP</a>"
      ],
      "text/plain": [
       "<IPython.core.display.HTML object>"
      ]
     },
     "metadata": {},
     "output_type": "display_data"
    },
    {
     "data": {
      "text/html": [
       "<h3>alcoholic liver cirrhosis</h3>"
      ],
      "text/plain": [
       "<IPython.core.display.HTML object>"
      ]
     },
     "metadata": {},
     "output_type": "display_data"
    },
    {
     "data": {
      "text/html": [
       "<div>\n",
       "<style>\n",
       "    .dataframe thead tr:only-child th {\n",
       "        text-align: right;\n",
       "    }\n",
       "\n",
       "    .dataframe thead th {\n",
       "        text-align: left;\n",
       "    }\n",
       "\n",
       "    .dataframe tbody tr th {\n",
       "        vertical-align: top;\n",
       "    }\n",
       "</style>\n",
       "<table border=\"1\" class=\"dataframe\">\n",
       "  <thead>\n",
       "    <tr style=\"text-align: right;\">\n",
       "      <th></th>\n",
       "      <th>n2 - id</th>\n",
       "      <th>n2 - name</th>\n",
       "      <th>score</th>\n",
       "    </tr>\n",
       "  </thead>\n",
       "  <tbody>\n",
       "    <tr>\n",
       "      <th>0</th>\n",
       "      <td>MONDO:0009061</td>\n",
       "      <td>cystic fibrosis</td>\n",
       "      <td>88.720400</td>\n",
       "    </tr>\n",
       "    <tr>\n",
       "      <th>1</th>\n",
       "      <td>MONDO:0006507</td>\n",
       "      <td>hereditary hemochromatosis</td>\n",
       "      <td>88.682128</td>\n",
       "    </tr>\n",
       "    <tr>\n",
       "      <th>2</th>\n",
       "      <td>MONDO:0009693</td>\n",
       "      <td>plasma cell myeloma</td>\n",
       "      <td>82.848650</td>\n",
       "    </tr>\n",
       "    <tr>\n",
       "      <th>3</th>\n",
       "      <td>MONDO:0005100</td>\n",
       "      <td>systemic sclerosis</td>\n",
       "      <td>80.806506</td>\n",
       "    </tr>\n",
       "    <tr>\n",
       "      <th>4</th>\n",
       "      <td>MONDO:0015909</td>\n",
       "      <td>aplastic anemia</td>\n",
       "      <td>80.044896</td>\n",
       "    </tr>\n",
       "  </tbody>\n",
       "</table>\n",
       "</div>"
      ],
      "text/plain": [
       "        n2 - id                   n2 - name       score\n",
       "0  MONDO:0009061             cystic fibrosis  88.720400\n",
       "1  MONDO:0006507  hereditary hemochromatosis  88.682128\n",
       "2  MONDO:0009693         plasma cell myeloma  82.848650\n",
       "3  MONDO:0005100          systemic sclerosis  80.806506\n",
       "4  MONDO:0015909             aplastic anemia  80.044896"
      ]
     },
     "metadata": {},
     "output_type": "display_data"
    },
    {
     "data": {
      "text/html": [
       "<a href=http://robokop.renci.org/simple/view/82c4beae-28ec-48dc-8763-fe8093f81cd6>View Answer in ROBOKOP</a>"
      ],
      "text/plain": [
       "<IPython.core.display.HTML object>"
      ]
     },
     "metadata": {},
     "output_type": "display_data"
    }
   ],
   "source": [
    "#This is the templated query that goes (disease)-(set of phenotypes)-(genetic condition)\n",
    "turl=lambda robokop,disease_id,disease_name: f'http://{robokop}/api/simple/quick/template/wf1mod1/{disease_id}/?name1={disease_name}/?max_connectivity=1000'\n",
    "\n",
    "for disease_id, disease_name in common_diseases:\n",
    "    url = turl(robokop,disease_id,disease_name)\n",
    "    display(HTML(f'<h3>{disease_name}</h3>'))\n",
    "    response = requests.get(url)\n",
    "    if response.status_code != 200:\n",
    "        print('Error')\n",
    "        continue\n",
    "    answers=response.json()\n",
    "    answer_frame = parse_answer(answers,node_list=['n2'],edge_list=[])\n",
    "    display(answer_frame.head())\n",
    "    view_url = get_view_url(answers)\n",
    "    display(HTML(f'<a href={view_url}>View Answer in ROBOKOP</a>'))"
   ]
  },
  {
   "cell_type": "code",
   "execution_count": null,
   "metadata": {
    "collapsed": true
   },
   "outputs": [],
   "source": []
  }
 ],
 "metadata": {
  "kernelspec": {
   "display_name": "Python 3",
   "language": "python",
   "name": "python3"
  },
  "language_info": {
   "codemirror_mode": {
    "name": "ipython",
    "version": 3
   },
   "file_extension": ".py",
   "mimetype": "text/x-python",
   "name": "python",
   "nbconvert_exporter": "python",
   "pygments_lexer": "ipython3",
   "version": "3.6.2"
  }
 },
 "nbformat": 4,
 "nbformat_minor": 2
}

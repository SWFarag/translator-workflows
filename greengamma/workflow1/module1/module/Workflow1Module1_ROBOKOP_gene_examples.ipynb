{
 "cells": [
  {
   "cell_type": "markdown",
   "metadata": {
    "deletable": true,
    "editable": true
   },
   "source": [
    "# Workflow 1, Module 1 (condition similarity)"
   ]
  },
  {
   "cell_type": "code",
   "execution_count": 1,
   "metadata": {
    "collapsed": true,
    "deletable": true,
    "editable": true
   },
   "outputs": [],
   "source": [
    "#To make nicer looking outputs\n",
    "from IPython.core.display import display, HTML\n",
    "import requests\n",
    "\n",
    "#Load some functions for parsing quick output\n",
    "import os\n",
    "import sys\n",
    "module_path = os.path.abspath(os.path.join('../../..'))\n",
    "if module_path not in sys.path:\n",
    "    sys.path.append(module_path)\n",
    "from gg_functions import parse_answer, get_view_url\n",
    "\n",
    "robokop='robokop.renci.org'"
   ]
  },
  {
   "cell_type": "code",
   "execution_count": 2,
   "metadata": {
    "collapsed": true,
    "deletable": true,
    "editable": true
   },
   "outputs": [],
   "source": [
    "common_diseases = [\n",
    "(\"MONDO:0005578\",\"arthritis\"),\n",
    "(\"MONDO:0005148\",\"type 2 diabetes mellitus\"),\n",
    "(\"MONDO:0002406\",\"dermatitis\"),\n",
    "(\"MONDO:0008383\",\"rheumatoid arthritis\"),\n",
    "(\"MONDO:0005359\",\"drug-induced liver injury\"),\n",
    "(\"MONDO:0006573\",\"lipodystrophy (disease)\"),\n",
    "(\"MONDO:0008226\",\"aggressive periodontitis\"),\n",
    "(\"MONDO:0001627\",\"dementia\"),\n",
    "(\"MONDO:0005265\",\"inflammatory bowel disease\"),\n",
    "(\"MONDO:0004979\",\"asthma\"),\n",
    "(\"MONDO:0005298\",\"osteoporosis\"),\n",
    "(\"MONDO:0006932\",\"pulmonary edema\"),\n",
    "(\"MONDO:0005180\",\"Parkinson disease\"),\n",
    "(\"MONDO:0006658\",\"arteriolosclerosis\"),\n",
    "(\"MONDO:0005090\",\"schizophrenia\"),\n",
    "(\"MONDO:0005152\",\"hypopituitarism\"),\n",
    "(\"MONDO:0001835\",\"facial paralysis\"),\n",
    "(\"MONDO:0001824\",\"polyneuropathy\"),\n",
    "(\"MONDO:0005301\",\"multiple sclerosis\"),\n",
    "(\"MONDO:0006644\",\"alcoholic liver cirrhosis\")\n",
    "]"
   ]
  },
  {
   "cell_type": "code",
   "execution_count": 3,
   "metadata": {
    "collapsed": false,
    "deletable": true,
    "editable": true,
    "scrolled": false
   },
   "outputs": [
    {
     "data": {
      "text/html": [
       "<h3>arthritis</h3>"
      ],
      "text/plain": [
       "<IPython.core.display.HTML object>"
      ]
     },
     "metadata": {},
     "output_type": "display_data"
    },
    {
     "data": {
      "text/html": [
       "<div>\n",
       "<style>\n",
       "    .dataframe thead tr:only-child th {\n",
       "        text-align: right;\n",
       "    }\n",
       "\n",
       "    .dataframe thead th {\n",
       "        text-align: left;\n",
       "    }\n",
       "\n",
       "    .dataframe tbody tr th {\n",
       "        vertical-align: top;\n",
       "    }\n",
       "</style>\n",
       "<table border=\"1\" class=\"dataframe\">\n",
       "  <thead>\n",
       "    <tr style=\"text-align: right;\">\n",
       "      <th></th>\n",
       "      <th>n2 - id</th>\n",
       "      <th>n2 - name</th>\n",
       "      <th>score</th>\n",
       "    </tr>\n",
       "  </thead>\n",
       "  <tbody>\n",
       "    <tr>\n",
       "      <th>0</th>\n",
       "      <td>MONDO:0019052</td>\n",
       "      <td>inborn errors of metabolism</td>\n",
       "      <td>157.602194</td>\n",
       "    </tr>\n",
       "    <tr>\n",
       "      <th>1</th>\n",
       "      <td>MONDO:0007191</td>\n",
       "      <td>Behcet disease</td>\n",
       "      <td>145.109379</td>\n",
       "    </tr>\n",
       "    <tr>\n",
       "      <th>2</th>\n",
       "      <td>MONDO:0009693</td>\n",
       "      <td>plasma cell myeloma</td>\n",
       "      <td>144.618499</td>\n",
       "    </tr>\n",
       "    <tr>\n",
       "      <th>3</th>\n",
       "      <td>MONDO:0005100</td>\n",
       "      <td>systemic sclerosis</td>\n",
       "      <td>139.129233</td>\n",
       "    </tr>\n",
       "    <tr>\n",
       "      <th>4</th>\n",
       "      <td>MONDO:0015909</td>\n",
       "      <td>aplastic anemia</td>\n",
       "      <td>133.231603</td>\n",
       "    </tr>\n",
       "  </tbody>\n",
       "</table>\n",
       "</div>"
      ],
      "text/plain": [
       "        n2 - id                    n2 - name        score\n",
       "0  MONDO:0019052  inborn errors of metabolism  157.602194\n",
       "1  MONDO:0007191               Behcet disease  145.109379\n",
       "2  MONDO:0009693          plasma cell myeloma  144.618499\n",
       "3  MONDO:0005100           systemic sclerosis  139.129233\n",
       "4  MONDO:0015909              aplastic anemia  133.231603"
      ]
     },
     "metadata": {},
     "output_type": "display_data"
    },
    {
     "data": {
      "text/html": [
       "<a href=http://robokop.renci.org/simple/view/47f568ef-d010-4af8-ab69-be2303507838>View Answer in ROBOKOP</a>"
      ],
      "text/plain": [
       "<IPython.core.display.HTML object>"
      ]
     },
     "metadata": {},
     "output_type": "display_data"
    },
    {
     "data": {
      "text/html": [
       "<h3>type 2 diabetes mellitus</h3>"
      ],
      "text/plain": [
       "<IPython.core.display.HTML object>"
      ]
     },
     "metadata": {},
     "output_type": "display_data"
    },
    {
     "data": {
      "text/html": [
       "<div>\n",
       "<style>\n",
       "    .dataframe thead tr:only-child th {\n",
       "        text-align: right;\n",
       "    }\n",
       "\n",
       "    .dataframe thead th {\n",
       "        text-align: left;\n",
       "    }\n",
       "\n",
       "    .dataframe tbody tr th {\n",
       "        vertical-align: top;\n",
       "    }\n",
       "</style>\n",
       "<table border=\"1\" class=\"dataframe\">\n",
       "  <thead>\n",
       "    <tr style=\"text-align: right;\">\n",
       "      <th></th>\n",
       "      <th>n2 - id</th>\n",
       "      <th>n2 - name</th>\n",
       "      <th>score</th>\n",
       "    </tr>\n",
       "  </thead>\n",
       "  <tbody>\n",
       "    <tr>\n",
       "      <th>0</th>\n",
       "      <td>MONDO:0011565</td>\n",
       "      <td>metabolic syndrome X</td>\n",
       "      <td>148.360555</td>\n",
       "    </tr>\n",
       "    <tr>\n",
       "      <th>1</th>\n",
       "      <td>MONDO:0004993</td>\n",
       "      <td>carcinoma</td>\n",
       "      <td>146.420872</td>\n",
       "    </tr>\n",
       "    <tr>\n",
       "      <th>2</th>\n",
       "      <td>MONDO:0009061</td>\n",
       "      <td>cystic fibrosis</td>\n",
       "      <td>142.902557</td>\n",
       "    </tr>\n",
       "    <tr>\n",
       "      <th>3</th>\n",
       "      <td>MONDO:0009693</td>\n",
       "      <td>plasma cell myeloma</td>\n",
       "      <td>132.034201</td>\n",
       "    </tr>\n",
       "    <tr>\n",
       "      <th>4</th>\n",
       "      <td>MONDO:0011382</td>\n",
       "      <td>sickle cell anemia</td>\n",
       "      <td>131.653367</td>\n",
       "    </tr>\n",
       "  </tbody>\n",
       "</table>\n",
       "</div>"
      ],
      "text/plain": [
       "        n2 - id             n2 - name        score\n",
       "0  MONDO:0011565  metabolic syndrome X  148.360555\n",
       "1  MONDO:0004993             carcinoma  146.420872\n",
       "2  MONDO:0009061       cystic fibrosis  142.902557\n",
       "3  MONDO:0009693   plasma cell myeloma  132.034201\n",
       "4  MONDO:0011382    sickle cell anemia  131.653367"
      ]
     },
     "metadata": {},
     "output_type": "display_data"
    },
    {
     "data": {
      "text/html": [
       "<a href=http://robokop.renci.org/simple/view/4276846d-d908-482d-9605-683873485b3e>View Answer in ROBOKOP</a>"
      ],
      "text/plain": [
       "<IPython.core.display.HTML object>"
      ]
     },
     "metadata": {},
     "output_type": "display_data"
    },
    {
     "data": {
      "text/html": [
       "<h3>dermatitis</h3>"
      ],
      "text/plain": [
       "<IPython.core.display.HTML object>"
      ]
     },
     "metadata": {},
     "output_type": "display_data"
    },
    {
     "data": {
      "text/html": [
       "<div>\n",
       "<style>\n",
       "    .dataframe thead tr:only-child th {\n",
       "        text-align: right;\n",
       "    }\n",
       "\n",
       "    .dataframe thead th {\n",
       "        text-align: left;\n",
       "    }\n",
       "\n",
       "    .dataframe tbody tr th {\n",
       "        vertical-align: top;\n",
       "    }\n",
       "</style>\n",
       "<table border=\"1\" class=\"dataframe\">\n",
       "  <thead>\n",
       "    <tr style=\"text-align: right;\">\n",
       "      <th></th>\n",
       "      <th>n2 - id</th>\n",
       "      <th>n2 - name</th>\n",
       "      <th>score</th>\n",
       "    </tr>\n",
       "  </thead>\n",
       "  <tbody>\n",
       "    <tr>\n",
       "      <th>0</th>\n",
       "      <td>MONDO:0019052</td>\n",
       "      <td>inborn errors of metabolism</td>\n",
       "      <td>162.664054</td>\n",
       "    </tr>\n",
       "    <tr>\n",
       "      <th>1</th>\n",
       "      <td>MONDO:0004993</td>\n",
       "      <td>carcinoma</td>\n",
       "      <td>136.979133</td>\n",
       "    </tr>\n",
       "    <tr>\n",
       "      <th>2</th>\n",
       "      <td>MONDO:0015909</td>\n",
       "      <td>aplastic anemia</td>\n",
       "      <td>130.480280</td>\n",
       "    </tr>\n",
       "    <tr>\n",
       "      <th>3</th>\n",
       "      <td>MONDO:0009693</td>\n",
       "      <td>plasma cell myeloma</td>\n",
       "      <td>129.942416</td>\n",
       "    </tr>\n",
       "    <tr>\n",
       "      <th>4</th>\n",
       "      <td>MONDO:0005100</td>\n",
       "      <td>systemic sclerosis</td>\n",
       "      <td>126.183133</td>\n",
       "    </tr>\n",
       "  </tbody>\n",
       "</table>\n",
       "</div>"
      ],
      "text/plain": [
       "        n2 - id                    n2 - name        score\n",
       "0  MONDO:0019052  inborn errors of metabolism  162.664054\n",
       "1  MONDO:0004993                    carcinoma  136.979133\n",
       "2  MONDO:0015909              aplastic anemia  130.480280\n",
       "3  MONDO:0009693          plasma cell myeloma  129.942416\n",
       "4  MONDO:0005100           systemic sclerosis  126.183133"
      ]
     },
     "metadata": {},
     "output_type": "display_data"
    },
    {
     "data": {
      "text/html": [
       "<a href=http://robokop.renci.org/simple/view/66f428a9-ead4-4626-aea4-b07ee819142e>View Answer in ROBOKOP</a>"
      ],
      "text/plain": [
       "<IPython.core.display.HTML object>"
      ]
     },
     "metadata": {},
     "output_type": "display_data"
    },
    {
     "data": {
      "text/html": [
       "<h3>rheumatoid arthritis</h3>"
      ],
      "text/plain": [
       "<IPython.core.display.HTML object>"
      ]
     },
     "metadata": {},
     "output_type": "display_data"
    },
    {
     "data": {
      "text/html": [
       "<div>\n",
       "<style>\n",
       "    .dataframe thead tr:only-child th {\n",
       "        text-align: right;\n",
       "    }\n",
       "\n",
       "    .dataframe thead th {\n",
       "        text-align: left;\n",
       "    }\n",
       "\n",
       "    .dataframe tbody tr th {\n",
       "        vertical-align: top;\n",
       "    }\n",
       "</style>\n",
       "<table border=\"1\" class=\"dataframe\">\n",
       "  <thead>\n",
       "    <tr style=\"text-align: right;\">\n",
       "      <th></th>\n",
       "      <th>n2 - id</th>\n",
       "      <th>n2 - name</th>\n",
       "      <th>score</th>\n",
       "    </tr>\n",
       "  </thead>\n",
       "  <tbody>\n",
       "    <tr>\n",
       "      <th>0</th>\n",
       "      <td>MONDO:0004993</td>\n",
       "      <td>carcinoma</td>\n",
       "      <td>217.443259</td>\n",
       "    </tr>\n",
       "    <tr>\n",
       "      <th>1</th>\n",
       "      <td>MONDO:0009693</td>\n",
       "      <td>plasma cell myeloma</td>\n",
       "      <td>169.858025</td>\n",
       "    </tr>\n",
       "    <tr>\n",
       "      <th>2</th>\n",
       "      <td>MONDO:0009061</td>\n",
       "      <td>cystic fibrosis</td>\n",
       "      <td>152.504141</td>\n",
       "    </tr>\n",
       "    <tr>\n",
       "      <th>3</th>\n",
       "      <td>MONDO:0005100</td>\n",
       "      <td>systemic sclerosis</td>\n",
       "      <td>150.470808</td>\n",
       "    </tr>\n",
       "    <tr>\n",
       "      <th>4</th>\n",
       "      <td>MONDO:0008608</td>\n",
       "      <td>down syndrome</td>\n",
       "      <td>145.098890</td>\n",
       "    </tr>\n",
       "  </tbody>\n",
       "</table>\n",
       "</div>"
      ],
      "text/plain": [
       "        n2 - id            n2 - name        score\n",
       "0  MONDO:0004993            carcinoma  217.443259\n",
       "1  MONDO:0009693  plasma cell myeloma  169.858025\n",
       "2  MONDO:0009061      cystic fibrosis  152.504141\n",
       "3  MONDO:0005100   systemic sclerosis  150.470808\n",
       "4  MONDO:0008608        down syndrome  145.098890"
      ]
     },
     "metadata": {},
     "output_type": "display_data"
    },
    {
     "data": {
      "text/html": [
       "<a href=http://robokop.renci.org/simple/view/ce7226c1-86b8-4b3e-a989-bbb6b667cadd>View Answer in ROBOKOP</a>"
      ],
      "text/plain": [
       "<IPython.core.display.HTML object>"
      ]
     },
     "metadata": {},
     "output_type": "display_data"
    },
    {
     "data": {
      "text/html": [
       "<h3>drug-induced liver injury</h3>"
      ],
      "text/plain": [
       "<IPython.core.display.HTML object>"
      ]
     },
     "metadata": {},
     "output_type": "display_data"
    },
    {
     "data": {
      "text/html": [
       "<div>\n",
       "<style>\n",
       "    .dataframe thead tr:only-child th {\n",
       "        text-align: right;\n",
       "    }\n",
       "\n",
       "    .dataframe thead th {\n",
       "        text-align: left;\n",
       "    }\n",
       "\n",
       "    .dataframe tbody tr th {\n",
       "        vertical-align: top;\n",
       "    }\n",
       "</style>\n",
       "<table border=\"1\" class=\"dataframe\">\n",
       "  <thead>\n",
       "    <tr style=\"text-align: right;\">\n",
       "      <th></th>\n",
       "      <th>n2 - id</th>\n",
       "      <th>n2 - name</th>\n",
       "      <th>score</th>\n",
       "    </tr>\n",
       "  </thead>\n",
       "  <tbody>\n",
       "    <tr>\n",
       "      <th>0</th>\n",
       "      <td>MONDO:0009693</td>\n",
       "      <td>plasma cell myeloma</td>\n",
       "      <td>124.264552</td>\n",
       "    </tr>\n",
       "    <tr>\n",
       "      <th>1</th>\n",
       "      <td>MONDO:0009061</td>\n",
       "      <td>cystic fibrosis</td>\n",
       "      <td>109.482730</td>\n",
       "    </tr>\n",
       "    <tr>\n",
       "      <th>2</th>\n",
       "      <td>MONDO:0011382</td>\n",
       "      <td>sickle cell anemia</td>\n",
       "      <td>109.073872</td>\n",
       "    </tr>\n",
       "    <tr>\n",
       "      <th>3</th>\n",
       "      <td>MONDO:0015909</td>\n",
       "      <td>aplastic anemia</td>\n",
       "      <td>108.580857</td>\n",
       "    </tr>\n",
       "    <tr>\n",
       "      <th>4</th>\n",
       "      <td>MONDO:0006507</td>\n",
       "      <td>hereditary hemochromatosis</td>\n",
       "      <td>103.041424</td>\n",
       "    </tr>\n",
       "  </tbody>\n",
       "</table>\n",
       "</div>"
      ],
      "text/plain": [
       "        n2 - id                   n2 - name        score\n",
       "0  MONDO:0009693         plasma cell myeloma  124.264552\n",
       "1  MONDO:0009061             cystic fibrosis  109.482730\n",
       "2  MONDO:0011382          sickle cell anemia  109.073872\n",
       "3  MONDO:0015909             aplastic anemia  108.580857\n",
       "4  MONDO:0006507  hereditary hemochromatosis  103.041424"
      ]
     },
     "metadata": {},
     "output_type": "display_data"
    },
    {
     "data": {
      "text/html": [
       "<a href=http://robokop.renci.org/simple/view/7b8225b1-8ae1-408f-b4cf-a2173109f7fb>View Answer in ROBOKOP</a>"
      ],
      "text/plain": [
       "<IPython.core.display.HTML object>"
      ]
     },
     "metadata": {},
     "output_type": "display_data"
    },
    {
     "data": {
      "text/html": [
       "<h3>lipodystrophy (disease)</h3>"
      ],
      "text/plain": [
       "<IPython.core.display.HTML object>"
      ]
     },
     "metadata": {},
     "output_type": "display_data"
    },
    {
     "data": {
      "text/html": [
       "<div>\n",
       "<style>\n",
       "    .dataframe thead tr:only-child th {\n",
       "        text-align: right;\n",
       "    }\n",
       "\n",
       "    .dataframe thead th {\n",
       "        text-align: left;\n",
       "    }\n",
       "\n",
       "    .dataframe tbody tr th {\n",
       "        vertical-align: top;\n",
       "    }\n",
       "</style>\n",
       "<table border=\"1\" class=\"dataframe\">\n",
       "  <thead>\n",
       "    <tr style=\"text-align: right;\">\n",
       "      <th></th>\n",
       "      <th>n2 - id</th>\n",
       "      <th>n2 - name</th>\n",
       "      <th>score</th>\n",
       "    </tr>\n",
       "  </thead>\n",
       "  <tbody>\n",
       "    <tr>\n",
       "      <th>0</th>\n",
       "      <td>MONDO:0019052</td>\n",
       "      <td>inborn errors of metabolism</td>\n",
       "      <td>122.067346</td>\n",
       "    </tr>\n",
       "    <tr>\n",
       "      <th>1</th>\n",
       "      <td>MONDO:0008310</td>\n",
       "      <td>progeria</td>\n",
       "      <td>89.967775</td>\n",
       "    </tr>\n",
       "    <tr>\n",
       "      <th>2</th>\n",
       "      <td>MONDO:0008608</td>\n",
       "      <td>down syndrome</td>\n",
       "      <td>88.973330</td>\n",
       "    </tr>\n",
       "    <tr>\n",
       "      <th>3</th>\n",
       "      <td>MONDO:0005100</td>\n",
       "      <td>systemic sclerosis</td>\n",
       "      <td>79.360097</td>\n",
       "    </tr>\n",
       "    <tr>\n",
       "      <th>4</th>\n",
       "      <td>MONDO:0011565</td>\n",
       "      <td>metabolic syndrome X</td>\n",
       "      <td>77.757000</td>\n",
       "    </tr>\n",
       "  </tbody>\n",
       "</table>\n",
       "</div>"
      ],
      "text/plain": [
       "        n2 - id                    n2 - name        score\n",
       "0  MONDO:0019052  inborn errors of metabolism  122.067346\n",
       "1  MONDO:0008310                     progeria   89.967775\n",
       "2  MONDO:0008608                down syndrome   88.973330\n",
       "3  MONDO:0005100           systemic sclerosis   79.360097\n",
       "4  MONDO:0011565         metabolic syndrome X   77.757000"
      ]
     },
     "metadata": {},
     "output_type": "display_data"
    },
    {
     "data": {
      "text/html": [
       "<a href=http://robokop.renci.org/simple/view/bad6a0a1-92e8-4216-8e81-ec0ff92e3896>View Answer in ROBOKOP</a>"
      ],
      "text/plain": [
       "<IPython.core.display.HTML object>"
      ]
     },
     "metadata": {},
     "output_type": "display_data"
    },
    {
     "data": {
      "text/html": [
       "<h3>aggressive periodontitis</h3>"
      ],
      "text/plain": [
       "<IPython.core.display.HTML object>"
      ]
     },
     "metadata": {},
     "output_type": "display_data"
    },
    {
     "data": {
      "text/html": [
       "<div>\n",
       "<style>\n",
       "    .dataframe thead tr:only-child th {\n",
       "        text-align: right;\n",
       "    }\n",
       "\n",
       "    .dataframe thead th {\n",
       "        text-align: left;\n",
       "    }\n",
       "\n",
       "    .dataframe tbody tr th {\n",
       "        vertical-align: top;\n",
       "    }\n",
       "</style>\n",
       "<table border=\"1\" class=\"dataframe\">\n",
       "  <thead>\n",
       "    <tr style=\"text-align: right;\">\n",
       "      <th></th>\n",
       "      <th>n2 - id</th>\n",
       "      <th>n2 - name</th>\n",
       "      <th>score</th>\n",
       "    </tr>\n",
       "  </thead>\n",
       "  <tbody>\n",
       "    <tr>\n",
       "      <th>0</th>\n",
       "      <td>MONDO:0008226</td>\n",
       "      <td>aggressive periodontitis</td>\n",
       "      <td>35.957124</td>\n",
       "    </tr>\n",
       "    <tr>\n",
       "      <th>1</th>\n",
       "      <td>MONDO:0009490</td>\n",
       "      <td>Papillon-Lefevre disease</td>\n",
       "      <td>22.579650</td>\n",
       "    </tr>\n",
       "    <tr>\n",
       "      <th>2</th>\n",
       "      <td>MONDO:0009693</td>\n",
       "      <td>plasma cell myeloma</td>\n",
       "      <td>18.759855</td>\n",
       "    </tr>\n",
       "    <tr>\n",
       "      <th>3</th>\n",
       "      <td>MONDO:0009061</td>\n",
       "      <td>cystic fibrosis</td>\n",
       "      <td>17.526295</td>\n",
       "    </tr>\n",
       "    <tr>\n",
       "      <th>4</th>\n",
       "      <td>MONDO:0008575</td>\n",
       "      <td>nicotine dependence</td>\n",
       "      <td>16.090269</td>\n",
       "    </tr>\n",
       "  </tbody>\n",
       "</table>\n",
       "</div>"
      ],
      "text/plain": [
       "        n2 - id                 n2 - name       score\n",
       "0  MONDO:0008226  aggressive periodontitis  35.957124\n",
       "1  MONDO:0009490  Papillon-Lefevre disease  22.579650\n",
       "2  MONDO:0009693       plasma cell myeloma  18.759855\n",
       "3  MONDO:0009061           cystic fibrosis  17.526295\n",
       "4  MONDO:0008575       nicotine dependence  16.090269"
      ]
     },
     "metadata": {},
     "output_type": "display_data"
    },
    {
     "data": {
      "text/html": [
       "<a href=http://robokop.renci.org/simple/view/9f8f48ba-a7ca-4372-8044-05d9b33ace02>View Answer in ROBOKOP</a>"
      ],
      "text/plain": [
       "<IPython.core.display.HTML object>"
      ]
     },
     "metadata": {},
     "output_type": "display_data"
    },
    {
     "data": {
      "text/html": [
       "<h3>dementia</h3>"
      ],
      "text/plain": [
       "<IPython.core.display.HTML object>"
      ]
     },
     "metadata": {},
     "output_type": "display_data"
    },
    {
     "data": {
      "text/html": [
       "<div>\n",
       "<style>\n",
       "    .dataframe thead tr:only-child th {\n",
       "        text-align: right;\n",
       "    }\n",
       "\n",
       "    .dataframe thead th {\n",
       "        text-align: left;\n",
       "    }\n",
       "\n",
       "    .dataframe tbody tr th {\n",
       "        vertical-align: top;\n",
       "    }\n",
       "</style>\n",
       "<table border=\"1\" class=\"dataframe\">\n",
       "  <thead>\n",
       "    <tr style=\"text-align: right;\">\n",
       "      <th></th>\n",
       "      <th>n2 - id</th>\n",
       "      <th>n2 - name</th>\n",
       "      <th>score</th>\n",
       "    </tr>\n",
       "  </thead>\n",
       "  <tbody>\n",
       "    <tr>\n",
       "      <th>0</th>\n",
       "      <td>MONDO:0019052</td>\n",
       "      <td>inborn errors of metabolism</td>\n",
       "      <td>245.564860</td>\n",
       "    </tr>\n",
       "    <tr>\n",
       "      <th>1</th>\n",
       "      <td>MONDO:0015514</td>\n",
       "      <td>genetic endocrine growth disease</td>\n",
       "      <td>173.965786</td>\n",
       "    </tr>\n",
       "    <tr>\n",
       "      <th>2</th>\n",
       "      <td>MONDO:0002525</td>\n",
       "      <td>inherited lipid metabolism disorder</td>\n",
       "      <td>155.299068</td>\n",
       "    </tr>\n",
       "    <tr>\n",
       "      <th>3</th>\n",
       "      <td>MONDO:0002561</td>\n",
       "      <td>lysosomal storage disease</td>\n",
       "      <td>152.186293</td>\n",
       "    </tr>\n",
       "    <tr>\n",
       "      <th>4</th>\n",
       "      <td>MONDO:0008608</td>\n",
       "      <td>down syndrome</td>\n",
       "      <td>133.116616</td>\n",
       "    </tr>\n",
       "  </tbody>\n",
       "</table>\n",
       "</div>"
      ],
      "text/plain": [
       "        n2 - id                            n2 - name        score\n",
       "0  MONDO:0019052          inborn errors of metabolism  245.564860\n",
       "1  MONDO:0015514     genetic endocrine growth disease  173.965786\n",
       "2  MONDO:0002525  inherited lipid metabolism disorder  155.299068\n",
       "3  MONDO:0002561            lysosomal storage disease  152.186293\n",
       "4  MONDO:0008608                        down syndrome  133.116616"
      ]
     },
     "metadata": {},
     "output_type": "display_data"
    },
    {
     "data": {
      "text/html": [
       "<a href=http://robokop.renci.org/simple/view/2bd59e03-aaf6-4c08-86f9-01c6924f36e9>View Answer in ROBOKOP</a>"
      ],
      "text/plain": [
       "<IPython.core.display.HTML object>"
      ]
     },
     "metadata": {},
     "output_type": "display_data"
    },
    {
     "data": {
      "text/html": [
       "<h3>inflammatory bowel disease</h3>"
      ],
      "text/plain": [
       "<IPython.core.display.HTML object>"
      ]
     },
     "metadata": {},
     "output_type": "display_data"
    },
    {
     "data": {
      "text/html": [
       "<div>\n",
       "<style>\n",
       "    .dataframe thead tr:only-child th {\n",
       "        text-align: right;\n",
       "    }\n",
       "\n",
       "    .dataframe thead th {\n",
       "        text-align: left;\n",
       "    }\n",
       "\n",
       "    .dataframe tbody tr th {\n",
       "        vertical-align: top;\n",
       "    }\n",
       "</style>\n",
       "<table border=\"1\" class=\"dataframe\">\n",
       "  <thead>\n",
       "    <tr style=\"text-align: right;\">\n",
       "      <th></th>\n",
       "      <th>n2 - id</th>\n",
       "      <th>n2 - name</th>\n",
       "      <th>score</th>\n",
       "    </tr>\n",
       "  </thead>\n",
       "  <tbody>\n",
       "    <tr>\n",
       "      <th>0</th>\n",
       "      <td>MONDO:0004993</td>\n",
       "      <td>carcinoma</td>\n",
       "      <td>84.488758</td>\n",
       "    </tr>\n",
       "    <tr>\n",
       "      <th>1</th>\n",
       "      <td>MONDO:0019052</td>\n",
       "      <td>inborn errors of metabolism</td>\n",
       "      <td>68.356153</td>\n",
       "    </tr>\n",
       "    <tr>\n",
       "      <th>2</th>\n",
       "      <td>MONDO:0009061</td>\n",
       "      <td>cystic fibrosis</td>\n",
       "      <td>56.933271</td>\n",
       "    </tr>\n",
       "    <tr>\n",
       "      <th>3</th>\n",
       "      <td>MONDO:0007191</td>\n",
       "      <td>Behcet disease</td>\n",
       "      <td>45.797369</td>\n",
       "    </tr>\n",
       "    <tr>\n",
       "      <th>4</th>\n",
       "      <td>MONDO:0009693</td>\n",
       "      <td>plasma cell myeloma</td>\n",
       "      <td>45.057255</td>\n",
       "    </tr>\n",
       "  </tbody>\n",
       "</table>\n",
       "</div>"
      ],
      "text/plain": [
       "        n2 - id                    n2 - name       score\n",
       "0  MONDO:0004993                    carcinoma  84.488758\n",
       "1  MONDO:0019052  inborn errors of metabolism  68.356153\n",
       "2  MONDO:0009061              cystic fibrosis  56.933271\n",
       "3  MONDO:0007191               Behcet disease  45.797369\n",
       "4  MONDO:0009693          plasma cell myeloma  45.057255"
      ]
     },
     "metadata": {},
     "output_type": "display_data"
    },
    {
     "data": {
      "text/html": [
       "<a href=http://robokop.renci.org/simple/view/702d4fec-ec3d-4f7f-a8e3-f676a86ccff8>View Answer in ROBOKOP</a>"
      ],
      "text/plain": [
       "<IPython.core.display.HTML object>"
      ]
     },
     "metadata": {},
     "output_type": "display_data"
    },
    {
     "data": {
      "text/html": [
       "<h3>asthma</h3>"
      ],
      "text/plain": [
       "<IPython.core.display.HTML object>"
      ]
     },
     "metadata": {},
     "output_type": "display_data"
    },
    {
     "data": {
      "text/html": [
       "<div>\n",
       "<style>\n",
       "    .dataframe thead tr:only-child th {\n",
       "        text-align: right;\n",
       "    }\n",
       "\n",
       "    .dataframe thead th {\n",
       "        text-align: left;\n",
       "    }\n",
       "\n",
       "    .dataframe tbody tr th {\n",
       "        vertical-align: top;\n",
       "    }\n",
       "</style>\n",
       "<table border=\"1\" class=\"dataframe\">\n",
       "  <thead>\n",
       "    <tr style=\"text-align: right;\">\n",
       "      <th></th>\n",
       "      <th>n2 - id</th>\n",
       "      <th>n2 - name</th>\n",
       "      <th>score</th>\n",
       "    </tr>\n",
       "  </thead>\n",
       "  <tbody>\n",
       "    <tr>\n",
       "      <th>0</th>\n",
       "      <td>MONDO:0009061</td>\n",
       "      <td>cystic fibrosis</td>\n",
       "      <td>124.474441</td>\n",
       "    </tr>\n",
       "    <tr>\n",
       "      <th>1</th>\n",
       "      <td>MONDO:0008608</td>\n",
       "      <td>down syndrome</td>\n",
       "      <td>114.844650</td>\n",
       "    </tr>\n",
       "    <tr>\n",
       "      <th>2</th>\n",
       "      <td>MONDO:0004993</td>\n",
       "      <td>carcinoma</td>\n",
       "      <td>97.224820</td>\n",
       "    </tr>\n",
       "    <tr>\n",
       "      <th>3</th>\n",
       "      <td>MONDO:0011382</td>\n",
       "      <td>sickle cell anemia</td>\n",
       "      <td>92.364793</td>\n",
       "    </tr>\n",
       "    <tr>\n",
       "      <th>4</th>\n",
       "      <td>MONDO:0010086</td>\n",
       "      <td>sudden infant death syndrome</td>\n",
       "      <td>89.511040</td>\n",
       "    </tr>\n",
       "  </tbody>\n",
       "</table>\n",
       "</div>"
      ],
      "text/plain": [
       "        n2 - id                     n2 - name        score\n",
       "0  MONDO:0009061               cystic fibrosis  124.474441\n",
       "1  MONDO:0008608                 down syndrome  114.844650\n",
       "2  MONDO:0004993                     carcinoma   97.224820\n",
       "3  MONDO:0011382            sickle cell anemia   92.364793\n",
       "4  MONDO:0010086  sudden infant death syndrome   89.511040"
      ]
     },
     "metadata": {},
     "output_type": "display_data"
    },
    {
     "data": {
      "text/html": [
       "<a href=http://robokop.renci.org/simple/view/b186876d-a76b-4ced-b514-6200171f3374>View Answer in ROBOKOP</a>"
      ],
      "text/plain": [
       "<IPython.core.display.HTML object>"
      ]
     },
     "metadata": {},
     "output_type": "display_data"
    },
    {
     "data": {
      "text/html": [
       "<h3>osteoporosis</h3>"
      ],
      "text/plain": [
       "<IPython.core.display.HTML object>"
      ]
     },
     "metadata": {},
     "output_type": "display_data"
    },
    {
     "data": {
      "text/html": [
       "<div>\n",
       "<style>\n",
       "    .dataframe thead tr:only-child th {\n",
       "        text-align: right;\n",
       "    }\n",
       "\n",
       "    .dataframe thead th {\n",
       "        text-align: left;\n",
       "    }\n",
       "\n",
       "    .dataframe tbody tr th {\n",
       "        vertical-align: top;\n",
       "    }\n",
       "</style>\n",
       "<table border=\"1\" class=\"dataframe\">\n",
       "  <thead>\n",
       "    <tr style=\"text-align: right;\">\n",
       "      <th></th>\n",
       "      <th>n2 - id</th>\n",
       "      <th>n2 - name</th>\n",
       "      <th>score</th>\n",
       "    </tr>\n",
       "  </thead>\n",
       "  <tbody>\n",
       "    <tr>\n",
       "      <th>0</th>\n",
       "      <td>MONDO:0009061</td>\n",
       "      <td>cystic fibrosis</td>\n",
       "      <td>124.398650</td>\n",
       "    </tr>\n",
       "    <tr>\n",
       "      <th>1</th>\n",
       "      <td>MONDO:0009693</td>\n",
       "      <td>plasma cell myeloma</td>\n",
       "      <td>121.975924</td>\n",
       "    </tr>\n",
       "    <tr>\n",
       "      <th>2</th>\n",
       "      <td>MONDO:0019499</td>\n",
       "      <td>Turner syndrome</td>\n",
       "      <td>105.763214</td>\n",
       "    </tr>\n",
       "    <tr>\n",
       "      <th>3</th>\n",
       "      <td>MONDO:0008608</td>\n",
       "      <td>down syndrome</td>\n",
       "      <td>104.946816</td>\n",
       "    </tr>\n",
       "    <tr>\n",
       "      <th>4</th>\n",
       "      <td>MONDO:0011382</td>\n",
       "      <td>sickle cell anemia</td>\n",
       "      <td>103.697016</td>\n",
       "    </tr>\n",
       "  </tbody>\n",
       "</table>\n",
       "</div>"
      ],
      "text/plain": [
       "        n2 - id            n2 - name        score\n",
       "0  MONDO:0009061      cystic fibrosis  124.398650\n",
       "1  MONDO:0009693  plasma cell myeloma  121.975924\n",
       "2  MONDO:0019499      Turner syndrome  105.763214\n",
       "3  MONDO:0008608        down syndrome  104.946816\n",
       "4  MONDO:0011382   sickle cell anemia  103.697016"
      ]
     },
     "metadata": {},
     "output_type": "display_data"
    },
    {
     "data": {
      "text/html": [
       "<a href=http://robokop.renci.org/simple/view/10329efb-5def-4a54-a927-0ed724e50020>View Answer in ROBOKOP</a>"
      ],
      "text/plain": [
       "<IPython.core.display.HTML object>"
      ]
     },
     "metadata": {},
     "output_type": "display_data"
    },
    {
     "data": {
      "text/html": [
       "<h3>pulmonary edema</h3>"
      ],
      "text/plain": [
       "<IPython.core.display.HTML object>"
      ]
     },
     "metadata": {},
     "output_type": "display_data"
    },
    {
     "data": {
      "text/html": [
       "<div>\n",
       "<style>\n",
       "    .dataframe thead tr:only-child th {\n",
       "        text-align: right;\n",
       "    }\n",
       "\n",
       "    .dataframe thead th {\n",
       "        text-align: left;\n",
       "    }\n",
       "\n",
       "    .dataframe tbody tr th {\n",
       "        vertical-align: top;\n",
       "    }\n",
       "</style>\n",
       "<table border=\"1\" class=\"dataframe\">\n",
       "  <thead>\n",
       "    <tr style=\"text-align: right;\">\n",
       "      <th></th>\n",
       "      <th>n2 - id</th>\n",
       "      <th>n2 - name</th>\n",
       "      <th>score</th>\n",
       "    </tr>\n",
       "  </thead>\n",
       "  <tbody>\n",
       "    <tr>\n",
       "      <th>0</th>\n",
       "      <td>MONDO:0011382</td>\n",
       "      <td>sickle cell anemia</td>\n",
       "      <td>97.950849</td>\n",
       "    </tr>\n",
       "    <tr>\n",
       "      <th>1</th>\n",
       "      <td>MONDO:0009061</td>\n",
       "      <td>cystic fibrosis</td>\n",
       "      <td>95.849475</td>\n",
       "    </tr>\n",
       "    <tr>\n",
       "      <th>2</th>\n",
       "      <td>MONDO:0008608</td>\n",
       "      <td>down syndrome</td>\n",
       "      <td>81.798639</td>\n",
       "    </tr>\n",
       "    <tr>\n",
       "      <th>3</th>\n",
       "      <td>MONDO:0005100</td>\n",
       "      <td>systemic sclerosis</td>\n",
       "      <td>77.370546</td>\n",
       "    </tr>\n",
       "    <tr>\n",
       "      <th>4</th>\n",
       "      <td>MONDO:0007191</td>\n",
       "      <td>Behcet disease</td>\n",
       "      <td>72.798110</td>\n",
       "    </tr>\n",
       "  </tbody>\n",
       "</table>\n",
       "</div>"
      ],
      "text/plain": [
       "        n2 - id           n2 - name       score\n",
       "0  MONDO:0011382  sickle cell anemia  97.950849\n",
       "1  MONDO:0009061     cystic fibrosis  95.849475\n",
       "2  MONDO:0008608       down syndrome  81.798639\n",
       "3  MONDO:0005100  systemic sclerosis  77.370546\n",
       "4  MONDO:0007191      Behcet disease  72.798110"
      ]
     },
     "metadata": {},
     "output_type": "display_data"
    },
    {
     "data": {
      "text/html": [
       "<a href=http://robokop.renci.org/simple/view/6ae9d275-3f97-480c-adda-d683f4747bb4>View Answer in ROBOKOP</a>"
      ],
      "text/plain": [
       "<IPython.core.display.HTML object>"
      ]
     },
     "metadata": {},
     "output_type": "display_data"
    },
    {
     "data": {
      "text/html": [
       "<h3>Parkinson disease</h3>"
      ],
      "text/plain": [
       "<IPython.core.display.HTML object>"
      ]
     },
     "metadata": {},
     "output_type": "display_data"
    },
    {
     "data": {
      "text/html": [
       "<div>\n",
       "<style>\n",
       "    .dataframe thead tr:only-child th {\n",
       "        text-align: right;\n",
       "    }\n",
       "\n",
       "    .dataframe thead th {\n",
       "        text-align: left;\n",
       "    }\n",
       "\n",
       "    .dataframe tbody tr th {\n",
       "        vertical-align: top;\n",
       "    }\n",
       "</style>\n",
       "<table border=\"1\" class=\"dataframe\">\n",
       "  <thead>\n",
       "    <tr style=\"text-align: right;\">\n",
       "      <th></th>\n",
       "      <th>n2 - id</th>\n",
       "      <th>n2 - name</th>\n",
       "      <th>score</th>\n",
       "    </tr>\n",
       "  </thead>\n",
       "  <tbody>\n",
       "    <tr>\n",
       "      <th>0</th>\n",
       "      <td>MONDO:0008608</td>\n",
       "      <td>down syndrome</td>\n",
       "      <td>74.555981</td>\n",
       "    </tr>\n",
       "    <tr>\n",
       "      <th>1</th>\n",
       "      <td>MONDO:0004993</td>\n",
       "      <td>carcinoma</td>\n",
       "      <td>71.201720</td>\n",
       "    </tr>\n",
       "    <tr>\n",
       "      <th>2</th>\n",
       "      <td>MONDO:0009061</td>\n",
       "      <td>cystic fibrosis</td>\n",
       "      <td>60.017983</td>\n",
       "    </tr>\n",
       "    <tr>\n",
       "      <th>3</th>\n",
       "      <td>MONDO:0010200</td>\n",
       "      <td>Wilson disease</td>\n",
       "      <td>55.789027</td>\n",
       "    </tr>\n",
       "    <tr>\n",
       "      <th>4</th>\n",
       "      <td>MONDO:0007739</td>\n",
       "      <td>Huntington disease</td>\n",
       "      <td>55.690204</td>\n",
       "    </tr>\n",
       "  </tbody>\n",
       "</table>\n",
       "</div>"
      ],
      "text/plain": [
       "        n2 - id           n2 - name       score\n",
       "0  MONDO:0008608       down syndrome  74.555981\n",
       "1  MONDO:0004993           carcinoma  71.201720\n",
       "2  MONDO:0009061     cystic fibrosis  60.017983\n",
       "3  MONDO:0010200      Wilson disease  55.789027\n",
       "4  MONDO:0007739  Huntington disease  55.690204"
      ]
     },
     "metadata": {},
     "output_type": "display_data"
    },
    {
     "data": {
      "text/html": [
       "<a href=http://robokop.renci.org/simple/view/8be39748-06da-4bab-a7ef-e14aded28066>View Answer in ROBOKOP</a>"
      ],
      "text/plain": [
       "<IPython.core.display.HTML object>"
      ]
     },
     "metadata": {},
     "output_type": "display_data"
    },
    {
     "data": {
      "text/html": [
       "<h3>arteriolosclerosis</h3>"
      ],
      "text/plain": [
       "<IPython.core.display.HTML object>"
      ]
     },
     "metadata": {},
     "output_type": "display_data"
    },
    {
     "data": {
      "text/html": [
       "<div>\n",
       "<style>\n",
       "    .dataframe thead tr:only-child th {\n",
       "        text-align: right;\n",
       "    }\n",
       "\n",
       "    .dataframe thead th {\n",
       "        text-align: left;\n",
       "    }\n",
       "\n",
       "    .dataframe tbody tr th {\n",
       "        vertical-align: top;\n",
       "    }\n",
       "</style>\n",
       "<table border=\"1\" class=\"dataframe\">\n",
       "  <thead>\n",
       "    <tr style=\"text-align: right;\">\n",
       "      <th></th>\n",
       "      <th>n2 - id</th>\n",
       "      <th>n2 - name</th>\n",
       "      <th>score</th>\n",
       "    </tr>\n",
       "  </thead>\n",
       "  <tbody>\n",
       "    <tr>\n",
       "      <th>0</th>\n",
       "      <td>MONDO:0009693</td>\n",
       "      <td>plasma cell myeloma</td>\n",
       "      <td>27.217731</td>\n",
       "    </tr>\n",
       "    <tr>\n",
       "      <th>1</th>\n",
       "      <td>MONDO:0009061</td>\n",
       "      <td>cystic fibrosis</td>\n",
       "      <td>19.977088</td>\n",
       "    </tr>\n",
       "    <tr>\n",
       "      <th>2</th>\n",
       "      <td>MONDO:0009410</td>\n",
       "      <td>Addison disease</td>\n",
       "      <td>17.635144</td>\n",
       "    </tr>\n",
       "    <tr>\n",
       "      <th>3</th>\n",
       "      <td>MONDO:0015231</td>\n",
       "      <td>Bartter syndrome</td>\n",
       "      <td>15.333758</td>\n",
       "    </tr>\n",
       "    <tr>\n",
       "      <th>4</th>\n",
       "      <td>MONDO:0005615</td>\n",
       "      <td>plasmacytoma</td>\n",
       "      <td>13.975149</td>\n",
       "    </tr>\n",
       "  </tbody>\n",
       "</table>\n",
       "</div>"
      ],
      "text/plain": [
       "        n2 - id            n2 - name       score\n",
       "0  MONDO:0009693  plasma cell myeloma  27.217731\n",
       "1  MONDO:0009061      cystic fibrosis  19.977088\n",
       "2  MONDO:0009410      Addison disease  17.635144\n",
       "3  MONDO:0015231     Bartter syndrome  15.333758\n",
       "4  MONDO:0005615         plasmacytoma  13.975149"
      ]
     },
     "metadata": {},
     "output_type": "display_data"
    },
    {
     "data": {
      "text/html": [
       "<a href=http://robokop.renci.org/simple/view/3479f3b4-eedb-4a61-b67f-9d1f06b6ff2f>View Answer in ROBOKOP</a>"
      ],
      "text/plain": [
       "<IPython.core.display.HTML object>"
      ]
     },
     "metadata": {},
     "output_type": "display_data"
    },
    {
     "data": {
      "text/html": [
       "<h3>schizophrenia</h3>"
      ],
      "text/plain": [
       "<IPython.core.display.HTML object>"
      ]
     },
     "metadata": {},
     "output_type": "display_data"
    },
    {
     "data": {
      "text/html": [
       "<div>\n",
       "<style>\n",
       "    .dataframe thead tr:only-child th {\n",
       "        text-align: right;\n",
       "    }\n",
       "\n",
       "    .dataframe thead th {\n",
       "        text-align: left;\n",
       "    }\n",
       "\n",
       "    .dataframe tbody tr th {\n",
       "        vertical-align: top;\n",
       "    }\n",
       "</style>\n",
       "<table border=\"1\" class=\"dataframe\">\n",
       "  <thead>\n",
       "    <tr style=\"text-align: right;\">\n",
       "      <th></th>\n",
       "      <th>n2 - id</th>\n",
       "      <th>n2 - name</th>\n",
       "      <th>score</th>\n",
       "    </tr>\n",
       "  </thead>\n",
       "  <tbody>\n",
       "    <tr>\n",
       "      <th>0</th>\n",
       "      <td>MONDO:0004993</td>\n",
       "      <td>carcinoma</td>\n",
       "      <td>65.020226</td>\n",
       "    </tr>\n",
       "    <tr>\n",
       "      <th>1</th>\n",
       "      <td>MONDO:0007959</td>\n",
       "      <td>medulloblastoma</td>\n",
       "      <td>43.028704</td>\n",
       "    </tr>\n",
       "    <tr>\n",
       "      <th>2</th>\n",
       "      <td>MONDO:0007089</td>\n",
       "      <td>Alzheimer disease 2</td>\n",
       "      <td>17.024618</td>\n",
       "    </tr>\n",
       "    <tr>\n",
       "      <th>3</th>\n",
       "      <td>MONDO:0001386</td>\n",
       "      <td>visual epilepsy</td>\n",
       "      <td>16.716794</td>\n",
       "    </tr>\n",
       "    <tr>\n",
       "      <th>4</th>\n",
       "      <td>MONDO:0008243</td>\n",
       "      <td>Pick disease</td>\n",
       "      <td>16.520669</td>\n",
       "    </tr>\n",
       "  </tbody>\n",
       "</table>\n",
       "</div>"
      ],
      "text/plain": [
       "        n2 - id            n2 - name       score\n",
       "0  MONDO:0004993            carcinoma  65.020226\n",
       "1  MONDO:0007959      medulloblastoma  43.028704\n",
       "2  MONDO:0007089  Alzheimer disease 2  17.024618\n",
       "3  MONDO:0001386      visual epilepsy  16.716794\n",
       "4  MONDO:0008243         Pick disease  16.520669"
      ]
     },
     "metadata": {},
     "output_type": "display_data"
    },
    {
     "data": {
      "text/html": [
       "<a href=http://robokop.renci.org/simple/view/58dc9ca2-a8e1-448c-8e8b-60d596169fa6>View Answer in ROBOKOP</a>"
      ],
      "text/plain": [
       "<IPython.core.display.HTML object>"
      ]
     },
     "metadata": {},
     "output_type": "display_data"
    },
    {
     "data": {
      "text/html": [
       "<h3>hypopituitarism</h3>"
      ],
      "text/plain": [
       "<IPython.core.display.HTML object>"
      ]
     },
     "metadata": {},
     "output_type": "display_data"
    },
    {
     "data": {
      "text/html": [
       "<div>\n",
       "<style>\n",
       "    .dataframe thead tr:only-child th {\n",
       "        text-align: right;\n",
       "    }\n",
       "\n",
       "    .dataframe thead th {\n",
       "        text-align: left;\n",
       "    }\n",
       "\n",
       "    .dataframe tbody tr th {\n",
       "        vertical-align: top;\n",
       "    }\n",
       "</style>\n",
       "<table border=\"1\" class=\"dataframe\">\n",
       "  <thead>\n",
       "    <tr style=\"text-align: right;\">\n",
       "      <th></th>\n",
       "      <th>n2 - id</th>\n",
       "      <th>n2 - name</th>\n",
       "      <th>score</th>\n",
       "    </tr>\n",
       "  </thead>\n",
       "  <tbody>\n",
       "    <tr>\n",
       "      <th>0</th>\n",
       "      <td>MONDO:0015514</td>\n",
       "      <td>genetic endocrine growth disease</td>\n",
       "      <td>273.190548</td>\n",
       "    </tr>\n",
       "    <tr>\n",
       "      <th>1</th>\n",
       "      <td>MONDO:0019052</td>\n",
       "      <td>inborn errors of metabolism</td>\n",
       "      <td>212.886816</td>\n",
       "    </tr>\n",
       "    <tr>\n",
       "      <th>2</th>\n",
       "      <td>MONDO:0004993</td>\n",
       "      <td>carcinoma</td>\n",
       "      <td>175.959689</td>\n",
       "    </tr>\n",
       "    <tr>\n",
       "      <th>3</th>\n",
       "      <td>MONDO:0008608</td>\n",
       "      <td>down syndrome</td>\n",
       "      <td>145.239586</td>\n",
       "    </tr>\n",
       "    <tr>\n",
       "      <th>4</th>\n",
       "      <td>MONDO:0009061</td>\n",
       "      <td>cystic fibrosis</td>\n",
       "      <td>134.753241</td>\n",
       "    </tr>\n",
       "  </tbody>\n",
       "</table>\n",
       "</div>"
      ],
      "text/plain": [
       "        n2 - id                         n2 - name        score\n",
       "0  MONDO:0015514  genetic endocrine growth disease  273.190548\n",
       "1  MONDO:0019052       inborn errors of metabolism  212.886816\n",
       "2  MONDO:0004993                         carcinoma  175.959689\n",
       "3  MONDO:0008608                     down syndrome  145.239586\n",
       "4  MONDO:0009061                   cystic fibrosis  134.753241"
      ]
     },
     "metadata": {},
     "output_type": "display_data"
    },
    {
     "data": {
      "text/html": [
       "<a href=http://robokop.renci.org/simple/view/18815215-a55a-464b-b255-42fadeeea832>View Answer in ROBOKOP</a>"
      ],
      "text/plain": [
       "<IPython.core.display.HTML object>"
      ]
     },
     "metadata": {},
     "output_type": "display_data"
    },
    {
     "data": {
      "text/html": [
       "<h3>facial paralysis</h3>"
      ],
      "text/plain": [
       "<IPython.core.display.HTML object>"
      ]
     },
     "metadata": {},
     "output_type": "display_data"
    },
    {
     "data": {
      "text/html": [
       "<div>\n",
       "<style>\n",
       "    .dataframe thead tr:only-child th {\n",
       "        text-align: right;\n",
       "    }\n",
       "\n",
       "    .dataframe thead th {\n",
       "        text-align: left;\n",
       "    }\n",
       "\n",
       "    .dataframe tbody tr th {\n",
       "        vertical-align: top;\n",
       "    }\n",
       "</style>\n",
       "<table border=\"1\" class=\"dataframe\">\n",
       "  <thead>\n",
       "    <tr style=\"text-align: right;\">\n",
       "      <th></th>\n",
       "      <th>n2 - id</th>\n",
       "      <th>n2 - name</th>\n",
       "      <th>score</th>\n",
       "    </tr>\n",
       "  </thead>\n",
       "  <tbody>\n",
       "    <tr>\n",
       "      <th>0</th>\n",
       "      <td>MONDO:0008274</td>\n",
       "      <td>polyostotic fibrous dysplasia</td>\n",
       "      <td>64.605147</td>\n",
       "    </tr>\n",
       "    <tr>\n",
       "      <th>1</th>\n",
       "      <td>MONDO:0002457</td>\n",
       "      <td>Treacher-Collins syndrome</td>\n",
       "      <td>62.863956</td>\n",
       "    </tr>\n",
       "    <tr>\n",
       "      <th>2</th>\n",
       "      <td>MONDO:0009061</td>\n",
       "      <td>cystic fibrosis</td>\n",
       "      <td>61.361268</td>\n",
       "    </tr>\n",
       "    <tr>\n",
       "      <th>3</th>\n",
       "      <td>MONDO:0018150</td>\n",
       "      <td>Gaucher disease</td>\n",
       "      <td>59.723899</td>\n",
       "    </tr>\n",
       "    <tr>\n",
       "      <th>4</th>\n",
       "      <td>MONDO:0008112</td>\n",
       "      <td>Goldenhar syndrome</td>\n",
       "      <td>59.525115</td>\n",
       "    </tr>\n",
       "  </tbody>\n",
       "</table>\n",
       "</div>"
      ],
      "text/plain": [
       "        n2 - id                      n2 - name       score\n",
       "0  MONDO:0008274  polyostotic fibrous dysplasia  64.605147\n",
       "1  MONDO:0002457      Treacher-Collins syndrome  62.863956\n",
       "2  MONDO:0009061                cystic fibrosis  61.361268\n",
       "3  MONDO:0018150                Gaucher disease  59.723899\n",
       "4  MONDO:0008112             Goldenhar syndrome  59.525115"
      ]
     },
     "metadata": {},
     "output_type": "display_data"
    },
    {
     "data": {
      "text/html": [
       "<a href=http://robokop.renci.org/simple/view/953cc194-436f-4514-a6a9-e6b698f0ac0a>View Answer in ROBOKOP</a>"
      ],
      "text/plain": [
       "<IPython.core.display.HTML object>"
      ]
     },
     "metadata": {},
     "output_type": "display_data"
    },
    {
     "data": {
      "text/html": [
       "<h3>polyneuropathy</h3>"
      ],
      "text/plain": [
       "<IPython.core.display.HTML object>"
      ]
     },
     "metadata": {},
     "output_type": "display_data"
    },
    {
     "data": {
      "text/html": [
       "<div>\n",
       "<style>\n",
       "    .dataframe thead tr:only-child th {\n",
       "        text-align: right;\n",
       "    }\n",
       "\n",
       "    .dataframe thead th {\n",
       "        text-align: left;\n",
       "    }\n",
       "\n",
       "    .dataframe tbody tr th {\n",
       "        vertical-align: top;\n",
       "    }\n",
       "</style>\n",
       "<table border=\"1\" class=\"dataframe\">\n",
       "  <thead>\n",
       "    <tr style=\"text-align: right;\">\n",
       "      <th></th>\n",
       "      <th>n2 - id</th>\n",
       "      <th>n2 - name</th>\n",
       "      <th>score</th>\n",
       "    </tr>\n",
       "  </thead>\n",
       "  <tbody>\n",
       "    <tr>\n",
       "      <th>0</th>\n",
       "      <td>MONDO:0009693</td>\n",
       "      <td>plasma cell myeloma</td>\n",
       "      <td>91.313088</td>\n",
       "    </tr>\n",
       "    <tr>\n",
       "      <th>1</th>\n",
       "      <td>MONDO:0005100</td>\n",
       "      <td>systemic sclerosis</td>\n",
       "      <td>87.114779</td>\n",
       "    </tr>\n",
       "    <tr>\n",
       "      <th>2</th>\n",
       "      <td>MONDO:0015909</td>\n",
       "      <td>aplastic anemia</td>\n",
       "      <td>86.817814</td>\n",
       "    </tr>\n",
       "    <tr>\n",
       "      <th>3</th>\n",
       "      <td>MONDO:0009061</td>\n",
       "      <td>cystic fibrosis</td>\n",
       "      <td>82.961166</td>\n",
       "    </tr>\n",
       "    <tr>\n",
       "      <th>4</th>\n",
       "      <td>MONDO:0009637</td>\n",
       "      <td>mitochondrial myopathy</td>\n",
       "      <td>82.094603</td>\n",
       "    </tr>\n",
       "  </tbody>\n",
       "</table>\n",
       "</div>"
      ],
      "text/plain": [
       "        n2 - id               n2 - name       score\n",
       "0  MONDO:0009693     plasma cell myeloma  91.313088\n",
       "1  MONDO:0005100      systemic sclerosis  87.114779\n",
       "2  MONDO:0015909         aplastic anemia  86.817814\n",
       "3  MONDO:0009061         cystic fibrosis  82.961166\n",
       "4  MONDO:0009637  mitochondrial myopathy  82.094603"
      ]
     },
     "metadata": {},
     "output_type": "display_data"
    },
    {
     "data": {
      "text/html": [
       "<a href=http://robokop.renci.org/simple/view/4e1fe221-32c2-4a99-9197-02629a44fc06>View Answer in ROBOKOP</a>"
      ],
      "text/plain": [
       "<IPython.core.display.HTML object>"
      ]
     },
     "metadata": {},
     "output_type": "display_data"
    },
    {
     "data": {
      "text/html": [
       "<h3>multiple sclerosis</h3>"
      ],
      "text/plain": [
       "<IPython.core.display.HTML object>"
      ]
     },
     "metadata": {},
     "output_type": "display_data"
    },
    {
     "data": {
      "text/html": [
       "<div>\n",
       "<style>\n",
       "    .dataframe thead tr:only-child th {\n",
       "        text-align: right;\n",
       "    }\n",
       "\n",
       "    .dataframe thead th {\n",
       "        text-align: left;\n",
       "    }\n",
       "\n",
       "    .dataframe tbody tr th {\n",
       "        vertical-align: top;\n",
       "    }\n",
       "</style>\n",
       "<table border=\"1\" class=\"dataframe\">\n",
       "  <thead>\n",
       "    <tr style=\"text-align: right;\">\n",
       "      <th></th>\n",
       "      <th>n2 - id</th>\n",
       "      <th>n2 - name</th>\n",
       "      <th>score</th>\n",
       "    </tr>\n",
       "  </thead>\n",
       "  <tbody>\n",
       "    <tr>\n",
       "      <th>0</th>\n",
       "      <td>MONDO:0007191</td>\n",
       "      <td>Behcet disease</td>\n",
       "      <td>116.809427</td>\n",
       "    </tr>\n",
       "    <tr>\n",
       "      <th>1</th>\n",
       "      <td>MONDO:0008608</td>\n",
       "      <td>down syndrome</td>\n",
       "      <td>112.176944</td>\n",
       "    </tr>\n",
       "    <tr>\n",
       "      <th>2</th>\n",
       "      <td>MONDO:0004993</td>\n",
       "      <td>carcinoma</td>\n",
       "      <td>109.354827</td>\n",
       "    </tr>\n",
       "    <tr>\n",
       "      <th>3</th>\n",
       "      <td>MONDO:0009061</td>\n",
       "      <td>cystic fibrosis</td>\n",
       "      <td>94.705517</td>\n",
       "    </tr>\n",
       "    <tr>\n",
       "      <th>4</th>\n",
       "      <td>MONDO:0009693</td>\n",
       "      <td>plasma cell myeloma</td>\n",
       "      <td>94.523464</td>\n",
       "    </tr>\n",
       "  </tbody>\n",
       "</table>\n",
       "</div>"
      ],
      "text/plain": [
       "        n2 - id            n2 - name        score\n",
       "0  MONDO:0007191       Behcet disease  116.809427\n",
       "1  MONDO:0008608        down syndrome  112.176944\n",
       "2  MONDO:0004993            carcinoma  109.354827\n",
       "3  MONDO:0009061      cystic fibrosis   94.705517\n",
       "4  MONDO:0009693  plasma cell myeloma   94.523464"
      ]
     },
     "metadata": {},
     "output_type": "display_data"
    },
    {
     "data": {
      "text/html": [
       "<a href=http://robokop.renci.org/simple/view/3acc931a-5989-4610-8c00-11224db1f603>View Answer in ROBOKOP</a>"
      ],
      "text/plain": [
       "<IPython.core.display.HTML object>"
      ]
     },
     "metadata": {},
     "output_type": "display_data"
    },
    {
     "data": {
      "text/html": [
       "<h3>alcoholic liver cirrhosis</h3>"
      ],
      "text/plain": [
       "<IPython.core.display.HTML object>"
      ]
     },
     "metadata": {},
     "output_type": "display_data"
    },
    {
     "data": {
      "text/html": [
       "<div>\n",
       "<style>\n",
       "    .dataframe thead tr:only-child th {\n",
       "        text-align: right;\n",
       "    }\n",
       "\n",
       "    .dataframe thead th {\n",
       "        text-align: left;\n",
       "    }\n",
       "\n",
       "    .dataframe tbody tr th {\n",
       "        vertical-align: top;\n",
       "    }\n",
       "</style>\n",
       "<table border=\"1\" class=\"dataframe\">\n",
       "  <thead>\n",
       "    <tr style=\"text-align: right;\">\n",
       "      <th></th>\n",
       "      <th>n2 - id</th>\n",
       "      <th>n2 - name</th>\n",
       "      <th>score</th>\n",
       "    </tr>\n",
       "  </thead>\n",
       "  <tbody>\n",
       "    <tr>\n",
       "      <th>0</th>\n",
       "      <td>MONDO:0009061</td>\n",
       "      <td>cystic fibrosis</td>\n",
       "      <td>89.801613</td>\n",
       "    </tr>\n",
       "    <tr>\n",
       "      <th>1</th>\n",
       "      <td>MONDO:0006507</td>\n",
       "      <td>hereditary hemochromatosis</td>\n",
       "      <td>89.042509</td>\n",
       "    </tr>\n",
       "    <tr>\n",
       "      <th>2</th>\n",
       "      <td>MONDO:0009693</td>\n",
       "      <td>plasma cell myeloma</td>\n",
       "      <td>83.545185</td>\n",
       "    </tr>\n",
       "    <tr>\n",
       "      <th>3</th>\n",
       "      <td>MONDO:0005100</td>\n",
       "      <td>systemic sclerosis</td>\n",
       "      <td>81.319338</td>\n",
       "    </tr>\n",
       "    <tr>\n",
       "      <th>4</th>\n",
       "      <td>MONDO:0011382</td>\n",
       "      <td>sickle cell anemia</td>\n",
       "      <td>79.455424</td>\n",
       "    </tr>\n",
       "  </tbody>\n",
       "</table>\n",
       "</div>"
      ],
      "text/plain": [
       "        n2 - id                   n2 - name       score\n",
       "0  MONDO:0009061             cystic fibrosis  89.801613\n",
       "1  MONDO:0006507  hereditary hemochromatosis  89.042509\n",
       "2  MONDO:0009693         plasma cell myeloma  83.545185\n",
       "3  MONDO:0005100          systemic sclerosis  81.319338\n",
       "4  MONDO:0011382          sickle cell anemia  79.455424"
      ]
     },
     "metadata": {},
     "output_type": "display_data"
    },
    {
     "data": {
      "text/html": [
       "<a href=http://robokop.renci.org/simple/view/63fb5e30-3344-49d1-bedf-a9d5b769db18>View Answer in ROBOKOP</a>"
      ],
      "text/plain": [
       "<IPython.core.display.HTML object>"
      ]
     },
     "metadata": {},
     "output_type": "display_data"
    }
   ],
   "source": [
    "#This is the templated query that goes (disease)-(set of phenotypes)-(genetic condition)\n",
    "turl=lambda robokop,disease_id,disease_name: f'http://{robokop}/api/simple/quick/template/wf1mod1_with_gene/{disease_id}/?name1={disease_name}/?max_connectivity=1000'\n",
    "\n",
    "for disease_id, disease_name in common_diseases:\n",
    "    url = turl(robokop,disease_id,disease_name)\n",
    "    display(HTML(f'<h3>{disease_name}</h3>'))\n",
    "    response = requests.get(url)\n",
    "    if response.status_code != 200:\n",
    "        print('Error')\n",
    "        continue\n",
    "    answers=response.json()\n",
    "    answer_frame = parse_answer(answers,node_list=['n2'],edge_list=[])\n",
    "    display(answer_frame.head())\n",
    "    view_url = get_view_url(answers)\n",
    "    display(HTML(f'<a href={view_url}>View Answer in ROBOKOP</a>'))"
   ]
  },
  {
   "cell_type": "code",
   "execution_count": null,
   "metadata": {
    "collapsed": true,
    "deletable": true,
    "editable": true
   },
   "outputs": [],
   "source": []
  }
 ],
 "metadata": {
  "kernelspec": {
   "display_name": "Python 3",
   "language": "python",
   "name": "python3"
  },
  "language_info": {
   "codemirror_mode": {
    "name": "ipython",
    "version": 3
   },
   "file_extension": ".py",
   "mimetype": "text/x-python",
   "name": "python",
   "nbconvert_exporter": "python",
   "pygments_lexer": "ipython3",
   "version": "3.6.2"
  }
 },
 "nbformat": 4,
 "nbformat_minor": 2
}

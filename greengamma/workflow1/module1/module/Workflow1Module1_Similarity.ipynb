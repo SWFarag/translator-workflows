{
 "cells": [
  {
   "cell_type": "markdown",
   "metadata": {},
   "source": [
    "# Workflow 1, Module 1 (Condition similarity)"
   ]
  },
  {
   "cell_type": "markdown",
   "metadata": {},
   "source": [
    "Module one can be interpreted as: \"Find me genetic conditions that are phenotypically similar to disease X\".  We can attack this problem with our similiarity endpont directly.  This is because \n",
    "1. ROBOKOP implements genetic_condition as a type, so we can use it in the query\n",
    "2. ROBOKOP's similarity endpoint does not require that the query and result type are the same."
   ]
  },
  {
   "cell_type": "code",
   "execution_count": 1,
   "metadata": {
    "collapsed": true
   },
   "outputs": [],
   "source": [
    "import requests\n",
    "import pandas as pd"
   ]
  },
  {
   "cell_type": "code",
   "execution_count": 2,
   "metadata": {
    "collapsed": true
   },
   "outputs": [],
   "source": [
    "def similarity(type1,ident,type2,by_type,threshhold=None,maxresults=None,rebuild=None):\n",
    "    #url=f'http://robokop.renci.org/api/simple/similarity/{type1}/{ident}/{type2}/{by_type}'\n",
    "    url=f'http://127.0.0.1/api/simple/similarity/{type1}/{ident}/{type2}/{by_type}'\n",
    "    params = { 'threshhold': threshhold, 'maxresults': maxresults, 'rebuild': rebuild }\n",
    "    params = { k:v for k,v in params.items() if v is not None }\n",
    "    response=requests.get(url, params = params)\n",
    "    print( 'Return code:',response.status_code )\n",
    "    return response.json()"
   ]
  },
  {
   "cell_type": "code",
   "execution_count": 3,
   "metadata": {
    "collapsed": true
   },
   "outputs": [],
   "source": [
    "diabetes = 'MONDO:0005148'\n",
    "asthma = 'MONDO:0004979'"
   ]
  },
  {
   "cell_type": "code",
   "execution_count": null,
   "metadata": {
    "collapsed": true
   },
   "outputs": [],
   "source": [
    "gc_similar_to_diabetes=similarity('disease',diabetes,'genetic_condition')\n",
    "pd.DataFrame(gc_similar_to_diabetes)"
   ]
  },
  {
   "cell_type": "code",
   "execution_count": null,
   "metadata": {
    "collapsed": true
   },
   "outputs": [],
   "source": [
    "gc_similar_to_asthma=similarity('disease',asthma,'genetic_condition')\n",
    "pd.DataFrame(gc_similar_to_asthma)"
   ]
  }
 ],
 "metadata": {
  "kernelspec": {
   "display_name": "Python 3",
   "language": "python",
   "name": "python3"
  },
  "language_info": {
   "codemirror_mode": {
    "name": "ipython",
    "version": 3
   },
   "file_extension": ".py",
   "mimetype": "text/x-python",
   "name": "python",
   "nbconvert_exporter": "python",
   "pygments_lexer": "ipython3",
   "version": "3.6.2"
  }
 },
 "nbformat": 4,
 "nbformat_minor": 2
}

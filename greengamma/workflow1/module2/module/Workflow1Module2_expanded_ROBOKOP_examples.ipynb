{
 "cells": [
  {
   "cell_type": "markdown",
   "metadata": {
    "deletable": true,
    "editable": true
   },
   "source": [
    "# Workflow 1, Module 2 with pathway expansion examples"
   ]
  },
  {
   "cell_type": "code",
   "execution_count": 1,
   "metadata": {
    "collapsed": true,
    "deletable": true,
    "editable": true
   },
   "outputs": [],
   "source": [
    "#To make nicer looking outputs\n",
    "from IPython.core.display import display, HTML\n",
    "import requests\n",
    "\n",
    "#Load some functions for parsing quick output\n",
    "import os\n",
    "import sys\n",
    "module_path = os.path.abspath(os.path.join('../../..'))\n",
    "if module_path not in sys.path:\n",
    "    sys.path.append(module_path)\n",
    "from gg_functions import parse_answer, get_view_url\n",
    "\n",
    "#load in some example disease lists to try\n",
    "example_path = os.path.abspath(os.path.join('../../../examples'))\n",
    "sys.path.append(example_path)\n",
    "from disease_lists import rare_diseases, common_diseases\n",
    "\n",
    "diseases = rare_diseases+common_diseases\n",
    "\n",
    "robokop='robokop.renci.org'"
   ]
  },
  {
   "cell_type": "code",
   "execution_count": 2,
   "metadata": {
    "collapsed": false,
    "deletable": true,
    "editable": true,
    "scrolled": true
   },
   "outputs": [
    {
     "data": {
      "text/html": [
       "<h3>xeroderma pigmentosum</h3>"
      ],
      "text/plain": [
       "<IPython.core.display.HTML object>"
      ]
     },
     "metadata": {},
     "output_type": "display_data"
    },
    {
     "data": {
      "text/html": [
       "<a href=http://robokop.renci.org/simple/view/988100a8-ddba-494a-9e1b-74c2eb8c6a1c>View Answer in ROBOKOP</a>"
      ],
      "text/plain": [
       "<IPython.core.display.HTML object>"
      ]
     },
     "metadata": {},
     "output_type": "display_data"
    },
    {
     "data": {
      "text/html": [
       "<div>\n",
       "<style>\n",
       "    .dataframe thead tr:only-child th {\n",
       "        text-align: right;\n",
       "    }\n",
       "\n",
       "    .dataframe thead th {\n",
       "        text-align: left;\n",
       "    }\n",
       "\n",
       "    .dataframe tbody tr th {\n",
       "        vertical-align: top;\n",
       "    }\n",
       "</style>\n",
       "<table border=\"1\" class=\"dataframe\">\n",
       "  <thead>\n",
       "    <tr style=\"text-align: right;\">\n",
       "      <th></th>\n",
       "      <th>n1 - name</th>\n",
       "      <th>n2 - name</th>\n",
       "      <th>n3 - name</th>\n",
       "      <th>n4 - name</th>\n",
       "      <th>score</th>\n",
       "    </tr>\n",
       "  </thead>\n",
       "  <tbody>\n",
       "    <tr>\n",
       "      <th>0</th>\n",
       "      <td>XPA</td>\n",
       "      <td>damaged DNA binding</td>\n",
       "      <td>BRCA1</td>\n",
       "      <td>mitomycin C</td>\n",
       "      <td>0.584970</td>\n",
       "    </tr>\n",
       "    <tr>\n",
       "      <th>1</th>\n",
       "      <td>XPA</td>\n",
       "      <td>transcription-coupled nucleotide-excision repair</td>\n",
       "      <td>XPA</td>\n",
       "      <td>mitomycin C</td>\n",
       "      <td>0.557810</td>\n",
       "    </tr>\n",
       "    <tr>\n",
       "      <th>2</th>\n",
       "      <td>XPA</td>\n",
       "      <td>global genome nucleotide-excision repair</td>\n",
       "      <td>XPA</td>\n",
       "      <td>mitomycin C</td>\n",
       "      <td>0.557484</td>\n",
       "    </tr>\n",
       "    <tr>\n",
       "      <th>3</th>\n",
       "      <td>XPA</td>\n",
       "      <td>response to UV</td>\n",
       "      <td>XPA</td>\n",
       "      <td>mitomycin C</td>\n",
       "      <td>0.557214</td>\n",
       "    </tr>\n",
       "    <tr>\n",
       "      <th>4</th>\n",
       "      <td>XPA</td>\n",
       "      <td>base-excision repair</td>\n",
       "      <td>XPA</td>\n",
       "      <td>mitomycin C</td>\n",
       "      <td>0.557150</td>\n",
       "    </tr>\n",
       "  </tbody>\n",
       "</table>\n",
       "</div>"
      ],
      "text/plain": [
       "  n1 - name                                         n2 - name  n3 - name   \\\n",
       "0        XPA                               damaged DNA binding      BRCA1   \n",
       "1        XPA  transcription-coupled nucleotide-excision repair        XPA   \n",
       "2        XPA          global genome nucleotide-excision repair        XPA   \n",
       "3        XPA                                    response to UV        XPA   \n",
       "4        XPA                              base-excision repair        XPA   \n",
       "\n",
       "    n4 - name      score  \n",
       "0  mitomycin C  0.584970  \n",
       "1  mitomycin C  0.557810  \n",
       "2  mitomycin C  0.557484  \n",
       "3  mitomycin C  0.557214  \n",
       "4  mitomycin C  0.557150  "
      ]
     },
     "metadata": {},
     "output_type": "display_data"
    },
    {
     "data": {
      "text/html": [
       "<h3>cockayne syndrome</h3>"
      ],
      "text/plain": [
       "<IPython.core.display.HTML object>"
      ]
     },
     "metadata": {},
     "output_type": "display_data"
    },
    {
     "data": {
      "text/html": [
       "<a href=http://robokop.renci.org/simple/view/30779725-9bb4-41ed-9dbb-937b013ea7d3>View Answer in ROBOKOP</a>"
      ],
      "text/plain": [
       "<IPython.core.display.HTML object>"
      ]
     },
     "metadata": {},
     "output_type": "display_data"
    },
    {
     "data": {
      "text/html": [
       "<div>\n",
       "<style>\n",
       "    .dataframe thead tr:only-child th {\n",
       "        text-align: right;\n",
       "    }\n",
       "\n",
       "    .dataframe thead th {\n",
       "        text-align: left;\n",
       "    }\n",
       "\n",
       "    .dataframe tbody tr th {\n",
       "        vertical-align: top;\n",
       "    }\n",
       "</style>\n",
       "<table border=\"1\" class=\"dataframe\">\n",
       "  <thead>\n",
       "    <tr style=\"text-align: right;\">\n",
       "      <th></th>\n",
       "      <th>n1 - name</th>\n",
       "      <th>n2 - name</th>\n",
       "      <th>n3 - name</th>\n",
       "      <th>n4 - name</th>\n",
       "      <th>score</th>\n",
       "    </tr>\n",
       "  </thead>\n",
       "  <tbody>\n",
       "    <tr>\n",
       "      <th>0</th>\n",
       "      <td>ERCC1</td>\n",
       "      <td>single-stranded DNA binding</td>\n",
       "      <td>TOP1</td>\n",
       "      <td>camptothecin</td>\n",
       "      <td>0.506335</td>\n",
       "    </tr>\n",
       "    <tr>\n",
       "      <th>1</th>\n",
       "      <td>ERCC1</td>\n",
       "      <td>response to oxidative stress</td>\n",
       "      <td>SIRT1</td>\n",
       "      <td>nicotinamide</td>\n",
       "      <td>0.443926</td>\n",
       "    </tr>\n",
       "    <tr>\n",
       "      <th>2</th>\n",
       "      <td>ERCC1</td>\n",
       "      <td>single-stranded DNA binding</td>\n",
       "      <td>TOP1</td>\n",
       "      <td>topotecan</td>\n",
       "      <td>0.440789</td>\n",
       "    </tr>\n",
       "    <tr>\n",
       "      <th>3</th>\n",
       "      <td>RAD51</td>\n",
       "      <td>single-stranded DNA binding</td>\n",
       "      <td>TOP1</td>\n",
       "      <td>camptothecin</td>\n",
       "      <td>0.439235</td>\n",
       "    </tr>\n",
       "    <tr>\n",
       "      <th>4</th>\n",
       "      <td>ERCC1</td>\n",
       "      <td>protein domain specific binding</td>\n",
       "      <td>TOP1</td>\n",
       "      <td>camptothecin</td>\n",
       "      <td>0.433296</td>\n",
       "    </tr>\n",
       "  </tbody>\n",
       "</table>\n",
       "</div>"
      ],
      "text/plain": [
       "  n1 - name                        n2 - name  n3 - name     n4 - name   \\\n",
       "0      ERCC1      single-stranded DNA binding       TOP1  camptothecin   \n",
       "1      ERCC1     response to oxidative stress      SIRT1  nicotinamide   \n",
       "2      ERCC1      single-stranded DNA binding       TOP1     topotecan   \n",
       "3      RAD51      single-stranded DNA binding       TOP1  camptothecin   \n",
       "4      ERCC1  protein domain specific binding       TOP1  camptothecin   \n",
       "\n",
       "      score  \n",
       "0  0.506335  \n",
       "1  0.443926  \n",
       "2  0.440789  \n",
       "3  0.439235  \n",
       "4  0.433296  "
      ]
     },
     "metadata": {},
     "output_type": "display_data"
    },
    {
     "data": {
      "text/html": [
       "<h3>UV-sensitive syndrome</h3>"
      ],
      "text/plain": [
       "<IPython.core.display.HTML object>"
      ]
     },
     "metadata": {},
     "output_type": "display_data"
    },
    {
     "data": {
      "text/html": [
       "<a href=http://robokop.renci.org/simple/view/cf884a0d-6e0f-420b-a7e2-c63488b42527>View Answer in ROBOKOP</a>"
      ],
      "text/plain": [
       "<IPython.core.display.HTML object>"
      ]
     },
     "metadata": {},
     "output_type": "display_data"
    },
    {
     "data": {
      "text/html": [
       "<div>\n",
       "<style>\n",
       "    .dataframe thead tr:only-child th {\n",
       "        text-align: right;\n",
       "    }\n",
       "\n",
       "    .dataframe thead th {\n",
       "        text-align: left;\n",
       "    }\n",
       "\n",
       "    .dataframe tbody tr th {\n",
       "        vertical-align: top;\n",
       "    }\n",
       "</style>\n",
       "<table border=\"1\" class=\"dataframe\">\n",
       "  <thead>\n",
       "    <tr style=\"text-align: right;\">\n",
       "      <th></th>\n",
       "      <th>n1 - name</th>\n",
       "      <th>n2 - name</th>\n",
       "      <th>n3 - name</th>\n",
       "      <th>n4 - name</th>\n",
       "      <th>score</th>\n",
       "    </tr>\n",
       "  </thead>\n",
       "  <tbody>\n",
       "    <tr>\n",
       "      <th>0</th>\n",
       "      <td>ERCC6</td>\n",
       "      <td>response to UV</td>\n",
       "      <td>ERCC6</td>\n",
       "      <td>rotenone</td>\n",
       "      <td>0.411286</td>\n",
       "    </tr>\n",
       "    <tr>\n",
       "      <th>1</th>\n",
       "      <td>ERCC6</td>\n",
       "      <td>chromatin binding</td>\n",
       "      <td>TOP1</td>\n",
       "      <td>camptothecin</td>\n",
       "      <td>0.325896</td>\n",
       "    </tr>\n",
       "    <tr>\n",
       "      <th>2</th>\n",
       "      <td>ERCC8</td>\n",
       "      <td>response to UV</td>\n",
       "      <td>ERCC6</td>\n",
       "      <td>rotenone</td>\n",
       "      <td>0.317202</td>\n",
       "    </tr>\n",
       "    <tr>\n",
       "      <th>3</th>\n",
       "      <td>ERCC6</td>\n",
       "      <td>response to UV</td>\n",
       "      <td>XPA</td>\n",
       "      <td>mitomycin C</td>\n",
       "      <td>0.311599</td>\n",
       "    </tr>\n",
       "    <tr>\n",
       "      <th>4</th>\n",
       "      <td>PGBD3</td>\n",
       "      <td>response to UV</td>\n",
       "      <td>ERCC6</td>\n",
       "      <td>rotenone</td>\n",
       "      <td>0.308246</td>\n",
       "    </tr>\n",
       "  </tbody>\n",
       "</table>\n",
       "</div>"
      ],
      "text/plain": [
       "  n1 - name          n2 - name  n3 - name     n4 - name      score\n",
       "0      ERCC6     response to UV      ERCC6      rotenone  0.411286\n",
       "1      ERCC6  chromatin binding       TOP1  camptothecin  0.325896\n",
       "2      ERCC8     response to UV      ERCC6      rotenone  0.317202\n",
       "3      ERCC6     response to UV        XPA   mitomycin C  0.311599\n",
       "4      PGBD3     response to UV      ERCC6      rotenone  0.308246"
      ]
     },
     "metadata": {},
     "output_type": "display_data"
    },
    {
     "data": {
      "text/html": [
       "<h3>Triciothiodystrophy</h3>"
      ],
      "text/plain": [
       "<IPython.core.display.HTML object>"
      ]
     },
     "metadata": {},
     "output_type": "display_data"
    },
    {
     "data": {
      "text/html": [
       "<a href=http://robokop.renci.org/simple/view/b882e270-bc3a-4e22-ac19-337b75291ba0>View Answer in ROBOKOP</a>"
      ],
      "text/plain": [
       "<IPython.core.display.HTML object>"
      ]
     },
     "metadata": {},
     "output_type": "display_data"
    },
    {
     "data": {
      "text/html": [
       "<div>\n",
       "<style>\n",
       "    .dataframe thead tr:only-child th {\n",
       "        text-align: right;\n",
       "    }\n",
       "\n",
       "    .dataframe thead th {\n",
       "        text-align: left;\n",
       "    }\n",
       "\n",
       "    .dataframe tbody tr th {\n",
       "        vertical-align: top;\n",
       "    }\n",
       "</style>\n",
       "<table border=\"1\" class=\"dataframe\">\n",
       "  <thead>\n",
       "    <tr style=\"text-align: right;\">\n",
       "      <th></th>\n",
       "      <th>n1 - name</th>\n",
       "      <th>n2 - name</th>\n",
       "      <th>n3 - name</th>\n",
       "      <th>n4 - name</th>\n",
       "      <th>score</th>\n",
       "    </tr>\n",
       "  </thead>\n",
       "  <tbody>\n",
       "    <tr>\n",
       "      <th>0</th>\n",
       "      <td>GTF2H5</td>\n",
       "      <td>nucleotide-excision repair</td>\n",
       "      <td>ERCC1</td>\n",
       "      <td>curcumin</td>\n",
       "      <td>0.198994</td>\n",
       "    </tr>\n",
       "    <tr>\n",
       "      <th>1</th>\n",
       "      <td>GTF2H5</td>\n",
       "      <td>nucleotide-excision repair</td>\n",
       "      <td>ERCC1</td>\n",
       "      <td>oxaliplatin</td>\n",
       "      <td>0.186365</td>\n",
       "    </tr>\n",
       "    <tr>\n",
       "      <th>2</th>\n",
       "      <td>GTF2H5</td>\n",
       "      <td>nucleotide-excision repair</td>\n",
       "      <td>ERCC1</td>\n",
       "      <td>ethyl methanesulfonate</td>\n",
       "      <td>0.185862</td>\n",
       "    </tr>\n",
       "    <tr>\n",
       "      <th>3</th>\n",
       "      <td>GTF2H5</td>\n",
       "      <td>nucleotide-excision repair</td>\n",
       "      <td>XPC</td>\n",
       "      <td>diethylstilbestrol</td>\n",
       "      <td>0.177852</td>\n",
       "    </tr>\n",
       "    <tr>\n",
       "      <th>4</th>\n",
       "      <td>GTF2H5</td>\n",
       "      <td>transcription-coupled nucleotide-excision repair</td>\n",
       "      <td>XPA</td>\n",
       "      <td>mitomycin C</td>\n",
       "      <td>0.171039</td>\n",
       "    </tr>\n",
       "  </tbody>\n",
       "</table>\n",
       "</div>"
      ],
      "text/plain": [
       "  n1 - name                                         n2 - name  n3 - name   \\\n",
       "0     GTF2H5                        nucleotide-excision repair      ERCC1   \n",
       "1     GTF2H5                        nucleotide-excision repair      ERCC1   \n",
       "2     GTF2H5                        nucleotide-excision repair      ERCC1   \n",
       "3     GTF2H5                        nucleotide-excision repair        XPC   \n",
       "4     GTF2H5  transcription-coupled nucleotide-excision repair        XPA   \n",
       "\n",
       "               n4 - name      score  \n",
       "0                curcumin  0.198994  \n",
       "1             oxaliplatin  0.186365  \n",
       "2  ethyl methanesulfonate  0.185862  \n",
       "3      diethylstilbestrol  0.177852  \n",
       "4             mitomycin C  0.171039  "
      ]
     },
     "metadata": {},
     "output_type": "display_data"
    },
    {
     "data": {
      "text/html": [
       "<h3>glucose intolerance</h3>"
      ],
      "text/plain": [
       "<IPython.core.display.HTML object>"
      ]
     },
     "metadata": {},
     "output_type": "display_data"
    },
    {
     "data": {
      "text/html": [
       "<a href=http://robokop.renci.org/simple/view/3aee524e-a0c9-43c7-8aef-8ad79cba7aa6>View Answer in ROBOKOP</a>"
      ],
      "text/plain": [
       "<IPython.core.display.HTML object>"
      ]
     },
     "metadata": {},
     "output_type": "display_data"
    },
    {
     "data": {
      "text/html": [
       "<div>\n",
       "<style>\n",
       "    .dataframe thead tr:only-child th {\n",
       "        text-align: right;\n",
       "    }\n",
       "\n",
       "    .dataframe thead th {\n",
       "        text-align: left;\n",
       "    }\n",
       "\n",
       "    .dataframe tbody tr th {\n",
       "        vertical-align: top;\n",
       "    }\n",
       "</style>\n",
       "<table border=\"1\" class=\"dataframe\">\n",
       "  <thead>\n",
       "    <tr style=\"text-align: right;\">\n",
       "      <th></th>\n",
       "      <th>n1 - name</th>\n",
       "      <th>n2 - name</th>\n",
       "      <th>n3 - name</th>\n",
       "      <th>n4 - name</th>\n",
       "      <th>score</th>\n",
       "    </tr>\n",
       "  </thead>\n",
       "  <tbody>\n",
       "    <tr>\n",
       "      <th>0</th>\n",
       "      <td>LEP</td>\n",
       "      <td>glucose homeostasis</td>\n",
       "      <td>INS</td>\n",
       "      <td>rosiglitazone</td>\n",
       "      <td>0.664575</td>\n",
       "    </tr>\n",
       "    <tr>\n",
       "      <th>1</th>\n",
       "      <td>INS</td>\n",
       "      <td>glucose homeostasis</td>\n",
       "      <td>LEP</td>\n",
       "      <td>troglitazone</td>\n",
       "      <td>0.648367</td>\n",
       "    </tr>\n",
       "    <tr>\n",
       "      <th>2</th>\n",
       "      <td>LEP</td>\n",
       "      <td>glucose homeostasis</td>\n",
       "      <td>INS</td>\n",
       "      <td>troglitazone</td>\n",
       "      <td>0.645855</td>\n",
       "    </tr>\n",
       "    <tr>\n",
       "      <th>3</th>\n",
       "      <td>LEPR</td>\n",
       "      <td>glucose homeostasis</td>\n",
       "      <td>INS</td>\n",
       "      <td>rosiglitazone</td>\n",
       "      <td>0.640955</td>\n",
       "    </tr>\n",
       "    <tr>\n",
       "      <th>4</th>\n",
       "      <td>INS</td>\n",
       "      <td>glucose homeostasis</td>\n",
       "      <td>LEP</td>\n",
       "      <td>rosiglitazone</td>\n",
       "      <td>0.624642</td>\n",
       "    </tr>\n",
       "  </tbody>\n",
       "</table>\n",
       "</div>"
      ],
      "text/plain": [
       "  n1 - name            n2 - name  n3 - name      n4 - name      score\n",
       "0        LEP  glucose homeostasis        INS  rosiglitazone  0.664575\n",
       "1        INS  glucose homeostasis        LEP   troglitazone  0.648367\n",
       "2        LEP  glucose homeostasis        INS   troglitazone  0.645855\n",
       "3       LEPR  glucose homeostasis        INS  rosiglitazone  0.640955\n",
       "4        INS  glucose homeostasis        LEP  rosiglitazone  0.624642"
      ]
     },
     "metadata": {},
     "output_type": "display_data"
    },
    {
     "data": {
      "text/html": [
       "<h3>sudden infant death syndrome</h3>"
      ],
      "text/plain": [
       "<IPython.core.display.HTML object>"
      ]
     },
     "metadata": {},
     "output_type": "display_data"
    },
    {
     "data": {
      "text/html": [
       "<a href=http://robokop.renci.org/simple/view/574dbaa6-4b34-4c1d-9aa8-8cee6a4ded30>View Answer in ROBOKOP</a>"
      ],
      "text/plain": [
       "<IPython.core.display.HTML object>"
      ]
     },
     "metadata": {},
     "output_type": "display_data"
    },
    {
     "data": {
      "text/html": [
       "<div>\n",
       "<style>\n",
       "    .dataframe thead tr:only-child th {\n",
       "        text-align: right;\n",
       "    }\n",
       "\n",
       "    .dataframe thead th {\n",
       "        text-align: left;\n",
       "    }\n",
       "\n",
       "    .dataframe tbody tr th {\n",
       "        vertical-align: top;\n",
       "    }\n",
       "</style>\n",
       "<table border=\"1\" class=\"dataframe\">\n",
       "  <thead>\n",
       "    <tr style=\"text-align: right;\">\n",
       "      <th></th>\n",
       "      <th>n1 - name</th>\n",
       "      <th>n2 - name</th>\n",
       "      <th>n3 - name</th>\n",
       "      <th>n4 - name</th>\n",
       "      <th>score</th>\n",
       "    </tr>\n",
       "  </thead>\n",
       "  <tbody>\n",
       "    <tr>\n",
       "      <th>0</th>\n",
       "      <td>CHRNB2</td>\n",
       "      <td>memory</td>\n",
       "      <td>TH</td>\n",
       "      <td>acetylcholine</td>\n",
       "      <td>0.555378</td>\n",
       "    </tr>\n",
       "    <tr>\n",
       "      <th>1</th>\n",
       "      <td>CHRNB2</td>\n",
       "      <td>learning</td>\n",
       "      <td>TH</td>\n",
       "      <td>acetylcholine</td>\n",
       "      <td>0.549145</td>\n",
       "    </tr>\n",
       "    <tr>\n",
       "      <th>2</th>\n",
       "      <td>TH</td>\n",
       "      <td>catecholamine biosynthetic process</td>\n",
       "      <td>TH</td>\n",
       "      <td>reserpine</td>\n",
       "      <td>0.546963</td>\n",
       "    </tr>\n",
       "    <tr>\n",
       "      <th>3</th>\n",
       "      <td>TH</td>\n",
       "      <td>dopamine biosynthetic process</td>\n",
       "      <td>TH</td>\n",
       "      <td>reserpine</td>\n",
       "      <td>0.546119</td>\n",
       "    </tr>\n",
       "    <tr>\n",
       "      <th>4</th>\n",
       "      <td>TH</td>\n",
       "      <td>tyrosine 3-monooxygenase activity</td>\n",
       "      <td>TH</td>\n",
       "      <td>reserpine</td>\n",
       "      <td>0.545042</td>\n",
       "    </tr>\n",
       "  </tbody>\n",
       "</table>\n",
       "</div>"
      ],
      "text/plain": [
       "  n1 - name                           n2 - name  n3 - name      n4 - name   \\\n",
       "0     CHRNB2                              memory         TH  acetylcholine   \n",
       "1     CHRNB2                            learning         TH  acetylcholine   \n",
       "2         TH  catecholamine biosynthetic process         TH      reserpine   \n",
       "3         TH       dopamine biosynthetic process         TH      reserpine   \n",
       "4         TH   tyrosine 3-monooxygenase activity         TH      reserpine   \n",
       "\n",
       "      score  \n",
       "0  0.555378  \n",
       "1  0.549145  \n",
       "2  0.546963  \n",
       "3  0.546119  \n",
       "4  0.545042  "
      ]
     },
     "metadata": {},
     "output_type": "display_data"
    },
    {
     "data": {
      "text/html": [
       "<h3>neuronal ceroid lipofuscinosis 3</h3>"
      ],
      "text/plain": [
       "<IPython.core.display.HTML object>"
      ]
     },
     "metadata": {},
     "output_type": "display_data"
    },
    {
     "data": {
      "text/html": [
       "<a href=http://robokop.renci.org/simple/view/d293d0e2-335f-492d-aabe-592a17a051db>View Answer in ROBOKOP</a>"
      ],
      "text/plain": [
       "<IPython.core.display.HTML object>"
      ]
     },
     "metadata": {},
     "output_type": "display_data"
    },
    {
     "data": {
      "text/html": [
       "<div>\n",
       "<style>\n",
       "    .dataframe thead tr:only-child th {\n",
       "        text-align: right;\n",
       "    }\n",
       "\n",
       "    .dataframe thead th {\n",
       "        text-align: left;\n",
       "    }\n",
       "\n",
       "    .dataframe tbody tr th {\n",
       "        vertical-align: top;\n",
       "    }\n",
       "</style>\n",
       "<table border=\"1\" class=\"dataframe\">\n",
       "  <thead>\n",
       "    <tr style=\"text-align: right;\">\n",
       "      <th></th>\n",
       "      <th>n1 - name</th>\n",
       "      <th>n2 - name</th>\n",
       "      <th>n3 - name</th>\n",
       "      <th>n4 - name</th>\n",
       "      <th>score</th>\n",
       "    </tr>\n",
       "  </thead>\n",
       "  <tbody>\n",
       "    <tr>\n",
       "      <th>0</th>\n",
       "      <td>CLN3</td>\n",
       "      <td>negative regulation of neuron apoptotic process</td>\n",
       "      <td>BDNF</td>\n",
       "      <td>methamphetamine</td>\n",
       "      <td>0.430008</td>\n",
       "    </tr>\n",
       "    <tr>\n",
       "      <th>1</th>\n",
       "      <td>CLN3</td>\n",
       "      <td>negative regulation of neuron apoptotic process</td>\n",
       "      <td>BDNF</td>\n",
       "      <td>nitric oxide</td>\n",
       "      <td>0.400882</td>\n",
       "    </tr>\n",
       "    <tr>\n",
       "      <th>2</th>\n",
       "      <td>CLN3</td>\n",
       "      <td>macroautophagy</td>\n",
       "      <td>PRKAA1</td>\n",
       "      <td>AICA ribonucleotide</td>\n",
       "      <td>0.371248</td>\n",
       "    </tr>\n",
       "    <tr>\n",
       "      <th>3</th>\n",
       "      <td>CLN3</td>\n",
       "      <td>macroautophagy</td>\n",
       "      <td>MAP1LC3B</td>\n",
       "      <td>chloroquine</td>\n",
       "      <td>0.364162</td>\n",
       "    </tr>\n",
       "    <tr>\n",
       "      <th>4</th>\n",
       "      <td>CLN3</td>\n",
       "      <td>autophagosome maturation</td>\n",
       "      <td>MAP1LC3B</td>\n",
       "      <td>chloroquine</td>\n",
       "      <td>0.363998</td>\n",
       "    </tr>\n",
       "  </tbody>\n",
       "</table>\n",
       "</div>"
      ],
      "text/plain": [
       "  n1 - name                                        n2 - name  n3 - name   \\\n",
       "0       CLN3  negative regulation of neuron apoptotic process       BDNF   \n",
       "1       CLN3  negative regulation of neuron apoptotic process       BDNF   \n",
       "2       CLN3                                   macroautophagy     PRKAA1   \n",
       "3       CLN3                                   macroautophagy   MAP1LC3B   \n",
       "4       CLN3                         autophagosome maturation   MAP1LC3B   \n",
       "\n",
       "            n4 - name      score  \n",
       "0      methamphetamine  0.430008  \n",
       "1         nitric oxide  0.400882  \n",
       "2  AICA ribonucleotide  0.371248  \n",
       "3          chloroquine  0.364162  \n",
       "4          chloroquine  0.363998  "
      ]
     },
     "metadata": {},
     "output_type": "display_data"
    },
    {
     "data": {
      "text/html": [
       "<h3>Niemann-Pick disease, type C1</h3>"
      ],
      "text/plain": [
       "<IPython.core.display.HTML object>"
      ]
     },
     "metadata": {},
     "output_type": "display_data"
    },
    {
     "data": {
      "text/html": [
       "<a href=http://robokop.renci.org/simple/view/3323aa32-1491-406d-8ac9-7718f3f4b8b7>View Answer in ROBOKOP</a>"
      ],
      "text/plain": [
       "<IPython.core.display.HTML object>"
      ]
     },
     "metadata": {},
     "output_type": "display_data"
    },
    {
     "data": {
      "text/html": [
       "<div>\n",
       "<style>\n",
       "    .dataframe thead tr:only-child th {\n",
       "        text-align: right;\n",
       "    }\n",
       "\n",
       "    .dataframe thead th {\n",
       "        text-align: left;\n",
       "    }\n",
       "\n",
       "    .dataframe tbody tr th {\n",
       "        vertical-align: top;\n",
       "    }\n",
       "</style>\n",
       "<table border=\"1\" class=\"dataframe\">\n",
       "  <thead>\n",
       "    <tr style=\"text-align: right;\">\n",
       "      <th></th>\n",
       "      <th>n1 - name</th>\n",
       "      <th>n2 - name</th>\n",
       "      <th>n3 - name</th>\n",
       "      <th>n4 - name</th>\n",
       "      <th>score</th>\n",
       "    </tr>\n",
       "  </thead>\n",
       "  <tbody>\n",
       "    <tr>\n",
       "      <th>0</th>\n",
       "      <td>NPC1</td>\n",
       "      <td>cholesterol metabolic process</td>\n",
       "      <td>LDLR</td>\n",
       "      <td>curcumin</td>\n",
       "      <td>0.443426</td>\n",
       "    </tr>\n",
       "    <tr>\n",
       "      <th>1</th>\n",
       "      <td>NPC1</td>\n",
       "      <td>cholesterol homeostasis</td>\n",
       "      <td>LDLR</td>\n",
       "      <td>curcumin</td>\n",
       "      <td>0.441059</td>\n",
       "    </tr>\n",
       "    <tr>\n",
       "      <th>2</th>\n",
       "      <td>NPC1</td>\n",
       "      <td>cholesterol transport</td>\n",
       "      <td>LDLR</td>\n",
       "      <td>curcumin</td>\n",
       "      <td>0.440395</td>\n",
       "    </tr>\n",
       "    <tr>\n",
       "      <th>3</th>\n",
       "      <td>NPC1</td>\n",
       "      <td>steroid metabolic process</td>\n",
       "      <td>LDLR</td>\n",
       "      <td>curcumin</td>\n",
       "      <td>0.413470</td>\n",
       "    </tr>\n",
       "    <tr>\n",
       "      <th>4</th>\n",
       "      <td>NPC1</td>\n",
       "      <td>low-density lipoprotein particle clearance</td>\n",
       "      <td>LDLR</td>\n",
       "      <td>curcumin</td>\n",
       "      <td>0.409284</td>\n",
       "    </tr>\n",
       "  </tbody>\n",
       "</table>\n",
       "</div>"
      ],
      "text/plain": [
       "  n1 - name                                   n2 - name  n3 - name   \\\n",
       "0       NPC1               cholesterol metabolic process       LDLR   \n",
       "1       NPC1                     cholesterol homeostasis       LDLR   \n",
       "2       NPC1                       cholesterol transport       LDLR   \n",
       "3       NPC1                   steroid metabolic process       LDLR   \n",
       "4       NPC1  low-density lipoprotein particle clearance       LDLR   \n",
       "\n",
       "  n4 - name      score  \n",
       "0   curcumin  0.443426  \n",
       "1   curcumin  0.441059  \n",
       "2   curcumin  0.440395  \n",
       "3   curcumin  0.413470  \n",
       "4   curcumin  0.409284  "
      ]
     },
     "metadata": {},
     "output_type": "display_data"
    },
    {
     "data": {
      "text/html": [
       "<h3>inherited susceptibility to asthma</h3>"
      ],
      "text/plain": [
       "<IPython.core.display.HTML object>"
      ]
     },
     "metadata": {},
     "output_type": "display_data"
    },
    {
     "data": {
      "text/html": [
       "<a href=http://robokop.renci.org/simple/view/98e3a2e1-08aa-46b0-a3fc-de040fc07ee2>View Answer in ROBOKOP</a>"
      ],
      "text/plain": [
       "<IPython.core.display.HTML object>"
      ]
     },
     "metadata": {},
     "output_type": "display_data"
    },
    {
     "data": {
      "text/html": [
       "<div>\n",
       "<style>\n",
       "    .dataframe thead tr:only-child th {\n",
       "        text-align: right;\n",
       "    }\n",
       "\n",
       "    .dataframe thead th {\n",
       "        text-align: left;\n",
       "    }\n",
       "\n",
       "    .dataframe tbody tr th {\n",
       "        vertical-align: top;\n",
       "    }\n",
       "</style>\n",
       "<table border=\"1\" class=\"dataframe\">\n",
       "  <thead>\n",
       "    <tr style=\"text-align: right;\">\n",
       "      <th></th>\n",
       "      <th>n1 - name</th>\n",
       "      <th>n2 - name</th>\n",
       "      <th>n3 - name</th>\n",
       "      <th>n4 - name</th>\n",
       "      <th>score</th>\n",
       "    </tr>\n",
       "  </thead>\n",
       "  <tbody>\n",
       "    <tr>\n",
       "      <th>0</th>\n",
       "      <td>IL13</td>\n",
       "      <td>cytokine-mediated signaling pathway</td>\n",
       "      <td>CCL11</td>\n",
       "      <td>ozone</td>\n",
       "      <td>0.322317</td>\n",
       "    </tr>\n",
       "    <tr>\n",
       "      <th>1</th>\n",
       "      <td>IL13</td>\n",
       "      <td>response to lipopolysaccharide</td>\n",
       "      <td>TLR4</td>\n",
       "      <td>ozone</td>\n",
       "      <td>0.318581</td>\n",
       "    </tr>\n",
       "    <tr>\n",
       "      <th>2</th>\n",
       "      <td>IL13</td>\n",
       "      <td>cytokine activity</td>\n",
       "      <td>EDN1</td>\n",
       "      <td>ozone</td>\n",
       "      <td>0.317574</td>\n",
       "    </tr>\n",
       "    <tr>\n",
       "      <th>3</th>\n",
       "      <td>IL13</td>\n",
       "      <td>cytokine activity</td>\n",
       "      <td>IL5</td>\n",
       "      <td>ozone</td>\n",
       "      <td>0.315886</td>\n",
       "    </tr>\n",
       "    <tr>\n",
       "      <th>4</th>\n",
       "      <td>IL13</td>\n",
       "      <td>cytokine activity</td>\n",
       "      <td>IL1A</td>\n",
       "      <td>ozone</td>\n",
       "      <td>0.311206</td>\n",
       "    </tr>\n",
       "  </tbody>\n",
       "</table>\n",
       "</div>"
      ],
      "text/plain": [
       "  n1 - name                            n2 - name  n3 - name  n4 - name   \\\n",
       "0       IL13  cytokine-mediated signaling pathway      CCL11      ozone   \n",
       "1       IL13       response to lipopolysaccharide       TLR4      ozone   \n",
       "2       IL13                    cytokine activity       EDN1      ozone   \n",
       "3       IL13                    cytokine activity        IL5      ozone   \n",
       "4       IL13                    cytokine activity       IL1A      ozone   \n",
       "\n",
       "      score  \n",
       "0  0.322317  \n",
       "1  0.318581  \n",
       "2  0.317574  \n",
       "3  0.315886  \n",
       "4  0.311206  "
      ]
     },
     "metadata": {},
     "output_type": "display_data"
    },
    {
     "data": {
      "text/html": [
       "<h3>familial calcium pyrophosphate deposition</h3>"
      ],
      "text/plain": [
       "<IPython.core.display.HTML object>"
      ]
     },
     "metadata": {},
     "output_type": "display_data"
    },
    {
     "data": {
      "text/html": [
       "<a href=http://robokop.renci.org/simple/view/3b2196bf-2415-494f-bedc-d20b0fb5db70>View Answer in ROBOKOP</a>"
      ],
      "text/plain": [
       "<IPython.core.display.HTML object>"
      ]
     },
     "metadata": {},
     "output_type": "display_data"
    },
    {
     "data": {
      "text/html": [
       "<div>\n",
       "<style>\n",
       "    .dataframe thead tr:only-child th {\n",
       "        text-align: right;\n",
       "    }\n",
       "\n",
       "    .dataframe thead th {\n",
       "        text-align: left;\n",
       "    }\n",
       "\n",
       "    .dataframe tbody tr th {\n",
       "        vertical-align: top;\n",
       "    }\n",
       "</style>\n",
       "<table border=\"1\" class=\"dataframe\">\n",
       "  <thead>\n",
       "    <tr style=\"text-align: right;\">\n",
       "      <th></th>\n",
       "      <th>n1 - name</th>\n",
       "      <th>n2 - name</th>\n",
       "      <th>n3 - name</th>\n",
       "      <th>n4 - name</th>\n",
       "      <th>score</th>\n",
       "    </tr>\n",
       "  </thead>\n",
       "  <tbody>\n",
       "    <tr>\n",
       "      <th>0</th>\n",
       "      <td>ANKH</td>\n",
       "      <td>locomotory behavior</td>\n",
       "      <td>TH</td>\n",
       "      <td>acetylcholine</td>\n",
       "      <td>0.294609</td>\n",
       "    </tr>\n",
       "    <tr>\n",
       "      <th>1</th>\n",
       "      <td>ANKH</td>\n",
       "      <td>locomotory behavior</td>\n",
       "      <td>TH</td>\n",
       "      <td>amphetamine</td>\n",
       "      <td>0.279738</td>\n",
       "    </tr>\n",
       "    <tr>\n",
       "      <th>2</th>\n",
       "      <td>ANKH</td>\n",
       "      <td>regulation of bone mineralization</td>\n",
       "      <td>PHOSPHO1</td>\n",
       "      <td>lansoprazole</td>\n",
       "      <td>0.268127</td>\n",
       "    </tr>\n",
       "    <tr>\n",
       "      <th>3</th>\n",
       "      <td>ANKH</td>\n",
       "      <td>locomotory behavior</td>\n",
       "      <td>TH</td>\n",
       "      <td>kainic acid</td>\n",
       "      <td>0.264527</td>\n",
       "    </tr>\n",
       "    <tr>\n",
       "      <th>4</th>\n",
       "      <td>ANKH</td>\n",
       "      <td>locomotory behavior</td>\n",
       "      <td>TH</td>\n",
       "      <td>capsaicin</td>\n",
       "      <td>0.255861</td>\n",
       "    </tr>\n",
       "  </tbody>\n",
       "</table>\n",
       "</div>"
      ],
      "text/plain": [
       "  n1 - name                          n2 - name  n3 - name      n4 - name   \\\n",
       "0       ANKH                locomotory behavior         TH  acetylcholine   \n",
       "1       ANKH                locomotory behavior         TH    amphetamine   \n",
       "2       ANKH  regulation of bone mineralization   PHOSPHO1   lansoprazole   \n",
       "3       ANKH                locomotory behavior         TH    kainic acid   \n",
       "4       ANKH                locomotory behavior         TH      capsaicin   \n",
       "\n",
       "      score  \n",
       "0  0.294609  \n",
       "1  0.279738  \n",
       "2  0.268127  \n",
       "3  0.264527  \n",
       "4  0.255861  "
      ]
     },
     "metadata": {},
     "output_type": "display_data"
    },
    {
     "data": {
      "text/html": [
       "<h3>genetic lipodystrophy</h3>"
      ],
      "text/plain": [
       "<IPython.core.display.HTML object>"
      ]
     },
     "metadata": {},
     "output_type": "display_data"
    },
    {
     "data": {
      "text/html": [
       "<a href=http://robokop.renci.org/simple/view/7228242e-dc2d-42db-a840-3a4131e6efae>View Answer in ROBOKOP</a>"
      ],
      "text/plain": [
       "<IPython.core.display.HTML object>"
      ]
     },
     "metadata": {},
     "output_type": "display_data"
    },
    {
     "data": {
      "text/html": [
       "<div>\n",
       "<style>\n",
       "    .dataframe thead tr:only-child th {\n",
       "        text-align: right;\n",
       "    }\n",
       "\n",
       "    .dataframe thead th {\n",
       "        text-align: left;\n",
       "    }\n",
       "\n",
       "    .dataframe tbody tr th {\n",
       "        vertical-align: top;\n",
       "    }\n",
       "</style>\n",
       "<table border=\"1\" class=\"dataframe\">\n",
       "  <thead>\n",
       "    <tr style=\"text-align: right;\">\n",
       "      <th></th>\n",
       "      <th>n1 - name</th>\n",
       "      <th>n2 - name</th>\n",
       "      <th>n3 - name</th>\n",
       "      <th>n4 - name</th>\n",
       "      <th>score</th>\n",
       "    </tr>\n",
       "  </thead>\n",
       "  <tbody>\n",
       "    <tr>\n",
       "      <th>0</th>\n",
       "      <td>CAV1</td>\n",
       "      <td>triglyceride metabolic process</td>\n",
       "      <td>CAV1</td>\n",
       "      <td>rosiglitazone</td>\n",
       "      <td>0.457507</td>\n",
       "    </tr>\n",
       "    <tr>\n",
       "      <th>1</th>\n",
       "      <td>CAV1</td>\n",
       "      <td>lipid storage</td>\n",
       "      <td>CAV1</td>\n",
       "      <td>rosiglitazone</td>\n",
       "      <td>0.456778</td>\n",
       "    </tr>\n",
       "    <tr>\n",
       "      <th>2</th>\n",
       "      <td>CAV1</td>\n",
       "      <td>vasoconstriction</td>\n",
       "      <td>CAV1</td>\n",
       "      <td>acetylcholine</td>\n",
       "      <td>0.434819</td>\n",
       "    </tr>\n",
       "    <tr>\n",
       "      <th>3</th>\n",
       "      <td>PLIN1</td>\n",
       "      <td>lipid catabolic process</td>\n",
       "      <td>PLIN1</td>\n",
       "      <td>rosiglitazone</td>\n",
       "      <td>0.433865</td>\n",
       "    </tr>\n",
       "    <tr>\n",
       "      <th>4</th>\n",
       "      <td>CAV1</td>\n",
       "      <td>lipid storage</td>\n",
       "      <td>CAV1</td>\n",
       "      <td>acetylcholine</td>\n",
       "      <td>0.433655</td>\n",
       "    </tr>\n",
       "  </tbody>\n",
       "</table>\n",
       "</div>"
      ],
      "text/plain": [
       "  n1 - name                       n2 - name  n3 - name      n4 - name   \\\n",
       "0       CAV1  triglyceride metabolic process       CAV1  rosiglitazone   \n",
       "1       CAV1                   lipid storage       CAV1  rosiglitazone   \n",
       "2       CAV1                vasoconstriction       CAV1  acetylcholine   \n",
       "3      PLIN1         lipid catabolic process      PLIN1  rosiglitazone   \n",
       "4       CAV1                   lipid storage       CAV1  acetylcholine   \n",
       "\n",
       "      score  \n",
       "0  0.457507  \n",
       "1  0.456778  \n",
       "2  0.434819  \n",
       "3  0.433865  \n",
       "4  0.433655  "
      ]
     },
     "metadata": {},
     "output_type": "display_data"
    },
    {
     "data": {
      "text/html": [
       "<h3>diabetes mellitus, noninsulin-dependent</h3>"
      ],
      "text/plain": [
       "<IPython.core.display.HTML object>"
      ]
     },
     "metadata": {},
     "output_type": "display_data"
    },
    {
     "data": {
      "text/html": [
       "<a href=http://robokop.renci.org/simple/view/e9e51e0a-f2ee-4cb8-8595-7c23ac77cc96>View Answer in ROBOKOP</a>"
      ],
      "text/plain": [
       "<IPython.core.display.HTML object>"
      ]
     },
     "metadata": {},
     "output_type": "display_data"
    },
    {
     "data": {
      "text/html": [
       "<div>\n",
       "<style>\n",
       "    .dataframe thead tr:only-child th {\n",
       "        text-align: right;\n",
       "    }\n",
       "\n",
       "    .dataframe thead th {\n",
       "        text-align: left;\n",
       "    }\n",
       "\n",
       "    .dataframe tbody tr th {\n",
       "        vertical-align: top;\n",
       "    }\n",
       "</style>\n",
       "<table border=\"1\" class=\"dataframe\">\n",
       "  <thead>\n",
       "    <tr style=\"text-align: right;\">\n",
       "      <th></th>\n",
       "      <th>n1 - name</th>\n",
       "      <th>n2 - name</th>\n",
       "      <th>n3 - name</th>\n",
       "      <th>n4 - name</th>\n",
       "      <th>score</th>\n",
       "    </tr>\n",
       "  </thead>\n",
       "  <tbody>\n",
       "    <tr>\n",
       "      <th>0</th>\n",
       "      <td>GCK</td>\n",
       "      <td>regulation of insulin secretion</td>\n",
       "      <td>SLC2A2</td>\n",
       "      <td>streptozocin</td>\n",
       "      <td>0.431606</td>\n",
       "    </tr>\n",
       "    <tr>\n",
       "      <th>1</th>\n",
       "      <td>ABCC8</td>\n",
       "      <td>regulation of insulin secretion</td>\n",
       "      <td>KCNJ11</td>\n",
       "      <td>tolbutamide</td>\n",
       "      <td>0.418638</td>\n",
       "    </tr>\n",
       "    <tr>\n",
       "      <th>2</th>\n",
       "      <td>ABCC8</td>\n",
       "      <td>response to drug</td>\n",
       "      <td>KCNJ11</td>\n",
       "      <td>tolbutamide</td>\n",
       "      <td>0.418349</td>\n",
       "    </tr>\n",
       "    <tr>\n",
       "      <th>3</th>\n",
       "      <td>IRS1</td>\n",
       "      <td>response to insulin</td>\n",
       "      <td>SIRT1</td>\n",
       "      <td>streptozocin</td>\n",
       "      <td>0.413341</td>\n",
       "    </tr>\n",
       "    <tr>\n",
       "      <th>4</th>\n",
       "      <td>ABCC8</td>\n",
       "      <td>negative regulation of insulin secretion</td>\n",
       "      <td>KCNJ11</td>\n",
       "      <td>tolbutamide</td>\n",
       "      <td>0.411968</td>\n",
       "    </tr>\n",
       "  </tbody>\n",
       "</table>\n",
       "</div>"
      ],
      "text/plain": [
       "  n1 - name                                 n2 - name  n3 - name   \\\n",
       "0        GCK           regulation of insulin secretion     SLC2A2   \n",
       "1      ABCC8           regulation of insulin secretion     KCNJ11   \n",
       "2      ABCC8                          response to drug     KCNJ11   \n",
       "3       IRS1                       response to insulin      SIRT1   \n",
       "4      ABCC8  negative regulation of insulin secretion     KCNJ11   \n",
       "\n",
       "     n4 - name      score  \n",
       "0  streptozocin  0.431606  \n",
       "1   tolbutamide  0.418638  \n",
       "2   tolbutamide  0.418349  \n",
       "3  streptozocin  0.413341  \n",
       "4   tolbutamide  0.411968  "
      ]
     },
     "metadata": {},
     "output_type": "display_data"
    },
    {
     "data": {
      "text/html": [
       "<h3>Behcet disease</h3>"
      ],
      "text/plain": [
       "<IPython.core.display.HTML object>"
      ]
     },
     "metadata": {},
     "output_type": "display_data"
    },
    {
     "data": {
      "text/html": [
       "<a href=http://robokop.renci.org/simple/view/34a7b521-abfc-4f7d-a0ec-16a7c9868810>View Answer in ROBOKOP</a>"
      ],
      "text/plain": [
       "<IPython.core.display.HTML object>"
      ]
     },
     "metadata": {},
     "output_type": "display_data"
    },
    {
     "data": {
      "text/html": [
       "<div>\n",
       "<style>\n",
       "    .dataframe thead tr:only-child th {\n",
       "        text-align: right;\n",
       "    }\n",
       "\n",
       "    .dataframe thead th {\n",
       "        text-align: left;\n",
       "    }\n",
       "\n",
       "    .dataframe tbody tr th {\n",
       "        vertical-align: top;\n",
       "    }\n",
       "</style>\n",
       "<table border=\"1\" class=\"dataframe\">\n",
       "  <thead>\n",
       "    <tr style=\"text-align: right;\">\n",
       "      <th></th>\n",
       "      <th>n1 - name</th>\n",
       "      <th>n2 - name</th>\n",
       "      <th>n3 - name</th>\n",
       "      <th>n4 - name</th>\n",
       "      <th>score</th>\n",
       "    </tr>\n",
       "  </thead>\n",
       "  <tbody>\n",
       "    <tr>\n",
       "      <th>0</th>\n",
       "      <td>FAS</td>\n",
       "      <td>activation of cysteine-type endopeptidase acti...</td>\n",
       "      <td>FAS</td>\n",
       "      <td>mitomycin C</td>\n",
       "      <td>0.581350</td>\n",
       "    </tr>\n",
       "    <tr>\n",
       "      <th>1</th>\n",
       "      <td>FAS</td>\n",
       "      <td>positive regulation of apoptotic process</td>\n",
       "      <td>FAS</td>\n",
       "      <td>mitomycin C</td>\n",
       "      <td>0.581003</td>\n",
       "    </tr>\n",
       "    <tr>\n",
       "      <th>2</th>\n",
       "      <td>SERPINE1</td>\n",
       "      <td>fibrinolysis</td>\n",
       "      <td>SERPINE1</td>\n",
       "      <td>methionine</td>\n",
       "      <td>0.559347</td>\n",
       "    </tr>\n",
       "    <tr>\n",
       "      <th>3</th>\n",
       "      <td>SERPINE1</td>\n",
       "      <td>angiogenesis</td>\n",
       "      <td>SERPINE1</td>\n",
       "      <td>methionine</td>\n",
       "      <td>0.557913</td>\n",
       "    </tr>\n",
       "    <tr>\n",
       "      <th>4</th>\n",
       "      <td>SERPINE1</td>\n",
       "      <td>circadian rhythm</td>\n",
       "      <td>SERPINE1</td>\n",
       "      <td>methionine</td>\n",
       "      <td>0.557824</td>\n",
       "    </tr>\n",
       "  </tbody>\n",
       "</table>\n",
       "</div>"
      ],
      "text/plain": [
       "  n1 - name                                          n2 - name  n3 - name   \\\n",
       "0        FAS  activation of cysteine-type endopeptidase acti...        FAS   \n",
       "1        FAS           positive regulation of apoptotic process        FAS   \n",
       "2   SERPINE1                                       fibrinolysis   SERPINE1   \n",
       "3   SERPINE1                                       angiogenesis   SERPINE1   \n",
       "4   SERPINE1                                   circadian rhythm   SERPINE1   \n",
       "\n",
       "    n4 - name      score  \n",
       "0  mitomycin C  0.581350  \n",
       "1  mitomycin C  0.581003  \n",
       "2   methionine  0.559347  \n",
       "3   methionine  0.557913  \n",
       "4   methionine  0.557824  "
      ]
     },
     "metadata": {},
     "output_type": "display_data"
    },
    {
     "data": {
      "text/html": [
       "<h3>systemic sclerosis</h3>"
      ],
      "text/plain": [
       "<IPython.core.display.HTML object>"
      ]
     },
     "metadata": {},
     "output_type": "display_data"
    },
    {
     "data": {
      "text/html": [
       "<a href=http://robokop.renci.org/simple/view/854f6e43-017f-47a4-a432-9f73fa5b17d5>View Answer in ROBOKOP</a>"
      ],
      "text/plain": [
       "<IPython.core.display.HTML object>"
      ]
     },
     "metadata": {},
     "output_type": "display_data"
    },
    {
     "data": {
      "text/html": [
       "<div>\n",
       "<style>\n",
       "    .dataframe thead tr:only-child th {\n",
       "        text-align: right;\n",
       "    }\n",
       "\n",
       "    .dataframe thead th {\n",
       "        text-align: left;\n",
       "    }\n",
       "\n",
       "    .dataframe tbody tr th {\n",
       "        vertical-align: top;\n",
       "    }\n",
       "</style>\n",
       "<table border=\"1\" class=\"dataframe\">\n",
       "  <thead>\n",
       "    <tr style=\"text-align: right;\">\n",
       "      <th></th>\n",
       "      <th>n1 - name</th>\n",
       "      <th>n2 - name</th>\n",
       "      <th>n3 - name</th>\n",
       "      <th>n4 - name</th>\n",
       "      <th>score</th>\n",
       "    </tr>\n",
       "  </thead>\n",
       "  <tbody>\n",
       "    <tr>\n",
       "      <th>0</th>\n",
       "      <td>CCN2</td>\n",
       "      <td>aging</td>\n",
       "      <td>TIMP1</td>\n",
       "      <td>methionine</td>\n",
       "      <td>0.667199</td>\n",
       "    </tr>\n",
       "    <tr>\n",
       "      <th>1</th>\n",
       "      <td>CCN2</td>\n",
       "      <td>angiogenesis</td>\n",
       "      <td>SIRT1</td>\n",
       "      <td>nicotinamide</td>\n",
       "      <td>0.632227</td>\n",
       "    </tr>\n",
       "    <tr>\n",
       "      <th>2</th>\n",
       "      <td>WRN</td>\n",
       "      <td>DNA replication</td>\n",
       "      <td>TOP1</td>\n",
       "      <td>camptothecin</td>\n",
       "      <td>0.620386</td>\n",
       "    </tr>\n",
       "    <tr>\n",
       "      <th>3</th>\n",
       "      <td>WRN</td>\n",
       "      <td>response to oxidative stress</td>\n",
       "      <td>SIRT1</td>\n",
       "      <td>nicotinamide</td>\n",
       "      <td>0.614254</td>\n",
       "    </tr>\n",
       "    <tr>\n",
       "      <th>4</th>\n",
       "      <td>WRN</td>\n",
       "      <td>cell aging</td>\n",
       "      <td>SIRT1</td>\n",
       "      <td>nicotinamide</td>\n",
       "      <td>0.614172</td>\n",
       "    </tr>\n",
       "  </tbody>\n",
       "</table>\n",
       "</div>"
      ],
      "text/plain": [
       "  n1 - name                     n2 - name  n3 - name     n4 - name      score\n",
       "0       CCN2                         aging      TIMP1    methionine  0.667199\n",
       "1       CCN2                  angiogenesis      SIRT1  nicotinamide  0.632227\n",
       "2        WRN               DNA replication       TOP1  camptothecin  0.620386\n",
       "3        WRN  response to oxidative stress      SIRT1  nicotinamide  0.614254\n",
       "4        WRN                    cell aging      SIRT1  nicotinamide  0.614172"
      ]
     },
     "metadata": {},
     "output_type": "display_data"
    },
    {
     "data": {
      "text/html": [
       "<h3>hemophilia A</h3>"
      ],
      "text/plain": [
       "<IPython.core.display.HTML object>"
      ]
     },
     "metadata": {},
     "output_type": "display_data"
    },
    {
     "data": {
      "text/html": [
       "<a href=http://robokop.renci.org/simple/view/e4888fd6-61f4-4d71-917c-eb0f9531fed9>View Answer in ROBOKOP</a>"
      ],
      "text/plain": [
       "<IPython.core.display.HTML object>"
      ]
     },
     "metadata": {},
     "output_type": "display_data"
    },
    {
     "data": {
      "text/html": [
       "<div>\n",
       "<style>\n",
       "    .dataframe thead tr:only-child th {\n",
       "        text-align: right;\n",
       "    }\n",
       "\n",
       "    .dataframe thead th {\n",
       "        text-align: left;\n",
       "    }\n",
       "\n",
       "    .dataframe tbody tr th {\n",
       "        vertical-align: top;\n",
       "    }\n",
       "</style>\n",
       "<table border=\"1\" class=\"dataframe\">\n",
       "  <thead>\n",
       "    <tr style=\"text-align: right;\">\n",
       "      <th></th>\n",
       "      <th>n1 - name</th>\n",
       "      <th>n2 - name</th>\n",
       "      <th>n3 - name</th>\n",
       "      <th>n4 - name</th>\n",
       "      <th>score</th>\n",
       "    </tr>\n",
       "  </thead>\n",
       "  <tbody>\n",
       "    <tr>\n",
       "      <th>0</th>\n",
       "      <td>F8</td>\n",
       "      <td>platelet activation</td>\n",
       "      <td>VWF</td>\n",
       "      <td>desmopressin</td>\n",
       "      <td>0.621857</td>\n",
       "    </tr>\n",
       "    <tr>\n",
       "      <th>1</th>\n",
       "      <td>VWF</td>\n",
       "      <td>platelet activation</td>\n",
       "      <td>VWF</td>\n",
       "      <td>desmopressin</td>\n",
       "      <td>0.621119</td>\n",
       "    </tr>\n",
       "    <tr>\n",
       "      <th>2</th>\n",
       "      <td>F8</td>\n",
       "      <td>platelet degranulation</td>\n",
       "      <td>VWF</td>\n",
       "      <td>desmopressin</td>\n",
       "      <td>0.620050</td>\n",
       "    </tr>\n",
       "    <tr>\n",
       "      <th>3</th>\n",
       "      <td>VWF</td>\n",
       "      <td>collagen binding</td>\n",
       "      <td>VWF</td>\n",
       "      <td>desmopressin</td>\n",
       "      <td>0.618877</td>\n",
       "    </tr>\n",
       "    <tr>\n",
       "      <th>4</th>\n",
       "      <td>VWF</td>\n",
       "      <td>platelet degranulation</td>\n",
       "      <td>VWF</td>\n",
       "      <td>desmopressin</td>\n",
       "      <td>0.616996</td>\n",
       "    </tr>\n",
       "  </tbody>\n",
       "</table>\n",
       "</div>"
      ],
      "text/plain": [
       "  n1 - name               n2 - name  n3 - name     n4 - name      score\n",
       "0         F8     platelet activation        VWF  desmopressin  0.621857\n",
       "1        VWF     platelet activation        VWF  desmopressin  0.621119\n",
       "2         F8  platelet degranulation        VWF  desmopressin  0.620050\n",
       "3        VWF        collagen binding        VWF  desmopressin  0.618877\n",
       "4        VWF  platelet degranulation        VWF  desmopressin  0.616996"
      ]
     },
     "metadata": {},
     "output_type": "display_data"
    },
    {
     "data": {
      "text/html": [
       "<h3>hereditary hemochromatosis</h3>"
      ],
      "text/plain": [
       "<IPython.core.display.HTML object>"
      ]
     },
     "metadata": {},
     "output_type": "display_data"
    },
    {
     "data": {
      "text/html": [
       "<a href=http://robokop.renci.org/simple/view/5e0c9b16-7c58-4905-927f-623c9baccad9>View Answer in ROBOKOP</a>"
      ],
      "text/plain": [
       "<IPython.core.display.HTML object>"
      ]
     },
     "metadata": {},
     "output_type": "display_data"
    },
    {
     "data": {
      "text/html": [
       "<div>\n",
       "<style>\n",
       "    .dataframe thead tr:only-child th {\n",
       "        text-align: right;\n",
       "    }\n",
       "\n",
       "    .dataframe thead th {\n",
       "        text-align: left;\n",
       "    }\n",
       "\n",
       "    .dataframe tbody tr th {\n",
       "        vertical-align: top;\n",
       "    }\n",
       "</style>\n",
       "<table border=\"1\" class=\"dataframe\">\n",
       "  <thead>\n",
       "    <tr style=\"text-align: right;\">\n",
       "      <th></th>\n",
       "      <th>n1 - name</th>\n",
       "      <th>n2 - name</th>\n",
       "      <th>n3 - name</th>\n",
       "      <th>n4 - name</th>\n",
       "      <th>score</th>\n",
       "    </tr>\n",
       "  </thead>\n",
       "  <tbody>\n",
       "    <tr>\n",
       "      <th>0</th>\n",
       "      <td>HAMP</td>\n",
       "      <td>aging</td>\n",
       "      <td>HAMP</td>\n",
       "      <td>apomorphine</td>\n",
       "      <td>0.551069</td>\n",
       "    </tr>\n",
       "    <tr>\n",
       "      <th>1</th>\n",
       "      <td>BMP6</td>\n",
       "      <td>transforming growth factor beta receptor binding</td>\n",
       "      <td>BMP2</td>\n",
       "      <td>icariin</td>\n",
       "      <td>0.529433</td>\n",
       "    </tr>\n",
       "    <tr>\n",
       "      <th>2</th>\n",
       "      <td>HAMP</td>\n",
       "      <td>response to ethanol</td>\n",
       "      <td>HAMP</td>\n",
       "      <td>apomorphine</td>\n",
       "      <td>0.528716</td>\n",
       "    </tr>\n",
       "    <tr>\n",
       "      <th>3</th>\n",
       "      <td>HAMP</td>\n",
       "      <td>response to iron ion</td>\n",
       "      <td>HAMP</td>\n",
       "      <td>apomorphine</td>\n",
       "      <td>0.510018</td>\n",
       "    </tr>\n",
       "    <tr>\n",
       "      <th>4</th>\n",
       "      <td>HAMP</td>\n",
       "      <td>liver regeneration</td>\n",
       "      <td>HAMP</td>\n",
       "      <td>apomorphine</td>\n",
       "      <td>0.509722</td>\n",
       "    </tr>\n",
       "  </tbody>\n",
       "</table>\n",
       "</div>"
      ],
      "text/plain": [
       "  n1 - name                                         n2 - name  n3 - name   \\\n",
       "0       HAMP                                             aging       HAMP   \n",
       "1       BMP6  transforming growth factor beta receptor binding       BMP2   \n",
       "2       HAMP                               response to ethanol       HAMP   \n",
       "3       HAMP                              response to iron ion       HAMP   \n",
       "4       HAMP                                liver regeneration       HAMP   \n",
       "\n",
       "    n4 - name      score  \n",
       "0  apomorphine  0.551069  \n",
       "1      icariin  0.529433  \n",
       "2  apomorphine  0.528716  \n",
       "3  apomorphine  0.510018  \n",
       "4  apomorphine  0.509722  "
      ]
     },
     "metadata": {},
     "output_type": "display_data"
    },
    {
     "data": {
      "text/html": [
       "<h3>primary lipodystrophy</h3>"
      ],
      "text/plain": [
       "<IPython.core.display.HTML object>"
      ]
     },
     "metadata": {},
     "output_type": "display_data"
    },
    {
     "data": {
      "text/html": [
       "<a href=http://robokop.renci.org/simple/view/0e4c0739-0375-4e57-bcc7-460509f86fe6>View Answer in ROBOKOP</a>"
      ],
      "text/plain": [
       "<IPython.core.display.HTML object>"
      ]
     },
     "metadata": {},
     "output_type": "display_data"
    },
    {
     "data": {
      "text/html": [
       "<div>\n",
       "<style>\n",
       "    .dataframe thead tr:only-child th {\n",
       "        text-align: right;\n",
       "    }\n",
       "\n",
       "    .dataframe thead th {\n",
       "        text-align: left;\n",
       "    }\n",
       "\n",
       "    .dataframe tbody tr th {\n",
       "        vertical-align: top;\n",
       "    }\n",
       "</style>\n",
       "<table border=\"1\" class=\"dataframe\">\n",
       "  <thead>\n",
       "    <tr style=\"text-align: right;\">\n",
       "      <th></th>\n",
       "      <th>n1 - name</th>\n",
       "      <th>n2 - name</th>\n",
       "      <th>n3 - name</th>\n",
       "      <th>n4 - name</th>\n",
       "      <th>score</th>\n",
       "    </tr>\n",
       "  </thead>\n",
       "  <tbody>\n",
       "    <tr>\n",
       "      <th>0</th>\n",
       "      <td>CAV1</td>\n",
       "      <td>angiogenesis</td>\n",
       "      <td>SIRT1</td>\n",
       "      <td>streptozocin</td>\n",
       "      <td>0.337885</td>\n",
       "    </tr>\n",
       "    <tr>\n",
       "      <th>1</th>\n",
       "      <td>CAV1</td>\n",
       "      <td>cholesterol homeostasis</td>\n",
       "      <td>SIRT1</td>\n",
       "      <td>streptozocin</td>\n",
       "      <td>0.337345</td>\n",
       "    </tr>\n",
       "    <tr>\n",
       "      <th>2</th>\n",
       "      <td>CAV1</td>\n",
       "      <td>angiogenesis</td>\n",
       "      <td>SERPINE1</td>\n",
       "      <td>rosiglitazone</td>\n",
       "      <td>0.336845</td>\n",
       "    </tr>\n",
       "    <tr>\n",
       "      <th>3</th>\n",
       "      <td>CAV1</td>\n",
       "      <td>cholesterol homeostasis</td>\n",
       "      <td>ABCA1</td>\n",
       "      <td>rosiglitazone</td>\n",
       "      <td>0.335310</td>\n",
       "    </tr>\n",
       "    <tr>\n",
       "      <th>4</th>\n",
       "      <td>CAV1</td>\n",
       "      <td>triglyceride metabolic process</td>\n",
       "      <td>GPX1</td>\n",
       "      <td>streptozocin</td>\n",
       "      <td>0.334383</td>\n",
       "    </tr>\n",
       "  </tbody>\n",
       "</table>\n",
       "</div>"
      ],
      "text/plain": [
       "  n1 - name                       n2 - name  n3 - name      n4 - name   \\\n",
       "0       CAV1                    angiogenesis      SIRT1   streptozocin   \n",
       "1       CAV1         cholesterol homeostasis      SIRT1   streptozocin   \n",
       "2       CAV1                    angiogenesis   SERPINE1  rosiglitazone   \n",
       "3       CAV1         cholesterol homeostasis      ABCA1  rosiglitazone   \n",
       "4       CAV1  triglyceride metabolic process       GPX1   streptozocin   \n",
       "\n",
       "      score  \n",
       "0  0.337885  \n",
       "1  0.337345  \n",
       "2  0.336845  \n",
       "3  0.335310  \n",
       "4  0.334383  "
      ]
     },
     "metadata": {},
     "output_type": "display_data"
    },
    {
     "data": {
      "text/html": [
       "<h3>genetic dementia</h3>"
      ],
      "text/plain": [
       "<IPython.core.display.HTML object>"
      ]
     },
     "metadata": {},
     "output_type": "display_data"
    },
    {
     "data": {
      "text/html": [
       "<a href=http://robokop.renci.org/simple/view/ca8251a9-2ccd-47ac-bf1c-b39015d875b8>View Answer in ROBOKOP</a>"
      ],
      "text/plain": [
       "<IPython.core.display.HTML object>"
      ]
     },
     "metadata": {},
     "output_type": "display_data"
    },
    {
     "data": {
      "text/html": [
       "<div>\n",
       "<style>\n",
       "    .dataframe thead tr:only-child th {\n",
       "        text-align: right;\n",
       "    }\n",
       "\n",
       "    .dataframe thead th {\n",
       "        text-align: left;\n",
       "    }\n",
       "\n",
       "    .dataframe tbody tr th {\n",
       "        vertical-align: top;\n",
       "    }\n",
       "</style>\n",
       "<table border=\"1\" class=\"dataframe\">\n",
       "  <thead>\n",
       "    <tr style=\"text-align: right;\">\n",
       "      <th></th>\n",
       "      <th>n1 - name</th>\n",
       "      <th>n2 - name</th>\n",
       "      <th>n3 - name</th>\n",
       "      <th>n4 - name</th>\n",
       "      <th>score</th>\n",
       "    </tr>\n",
       "  </thead>\n",
       "  <tbody>\n",
       "    <tr>\n",
       "      <th>0</th>\n",
       "      <td>PSEN1</td>\n",
       "      <td>positive regulation of apoptotic process</td>\n",
       "      <td>BAD</td>\n",
       "      <td>sulindac sulfide</td>\n",
       "      <td>0.370953</td>\n",
       "    </tr>\n",
       "    <tr>\n",
       "      <th>1</th>\n",
       "      <td>SQSTM1</td>\n",
       "      <td>positive regulation of apoptotic process</td>\n",
       "      <td>SNCA</td>\n",
       "      <td>rotenone</td>\n",
       "      <td>0.370578</td>\n",
       "    </tr>\n",
       "    <tr>\n",
       "      <th>2</th>\n",
       "      <td>PSEN1</td>\n",
       "      <td>memory</td>\n",
       "      <td>PSEN1</td>\n",
       "      <td>sulindac sulfide</td>\n",
       "      <td>0.362320</td>\n",
       "    </tr>\n",
       "    <tr>\n",
       "      <th>3</th>\n",
       "      <td>CP</td>\n",
       "      <td>copper ion binding</td>\n",
       "      <td>SNCA</td>\n",
       "      <td>rotenone</td>\n",
       "      <td>0.360352</td>\n",
       "    </tr>\n",
       "    <tr>\n",
       "      <th>4</th>\n",
       "      <td>PSEN1</td>\n",
       "      <td>memory</td>\n",
       "      <td>CREB1</td>\n",
       "      <td>forskolin</td>\n",
       "      <td>0.350356</td>\n",
       "    </tr>\n",
       "  </tbody>\n",
       "</table>\n",
       "</div>"
      ],
      "text/plain": [
       "  n1 - name                                 n2 - name  n3 - name   \\\n",
       "0      PSEN1  positive regulation of apoptotic process        BAD   \n",
       "1     SQSTM1  positive regulation of apoptotic process       SNCA   \n",
       "2      PSEN1                                    memory      PSEN1   \n",
       "3         CP                        copper ion binding       SNCA   \n",
       "4      PSEN1                                    memory      CREB1   \n",
       "\n",
       "         n4 - name      score  \n",
       "0  sulindac sulfide  0.370953  \n",
       "1          rotenone  0.370578  \n",
       "2  sulindac sulfide  0.362320  \n",
       "3          rotenone  0.360352  \n",
       "4         forskolin  0.350356  "
      ]
     },
     "metadata": {},
     "output_type": "display_data"
    },
    {
     "data": {
      "text/html": [
       "<h3>functional neutrophil defect</h3>"
      ],
      "text/plain": [
       "<IPython.core.display.HTML object>"
      ]
     },
     "metadata": {},
     "output_type": "display_data"
    },
    {
     "data": {
      "text/html": [
       "<a href=http://robokop.renci.org/simple/view/dd1e5021-03be-4724-9749-456ccba8a544>View Answer in ROBOKOP</a>"
      ],
      "text/plain": [
       "<IPython.core.display.HTML object>"
      ]
     },
     "metadata": {},
     "output_type": "display_data"
    },
    {
     "data": {
      "text/html": [
       "<div>\n",
       "<style>\n",
       "    .dataframe thead tr:only-child th {\n",
       "        text-align: right;\n",
       "    }\n",
       "\n",
       "    .dataframe thead th {\n",
       "        text-align: left;\n",
       "    }\n",
       "\n",
       "    .dataframe tbody tr th {\n",
       "        vertical-align: top;\n",
       "    }\n",
       "</style>\n",
       "<table border=\"1\" class=\"dataframe\">\n",
       "  <thead>\n",
       "    <tr style=\"text-align: right;\">\n",
       "      <th></th>\n",
       "      <th>n1 - name</th>\n",
       "      <th>n2 - name</th>\n",
       "      <th>n3 - name</th>\n",
       "      <th>n4 - name</th>\n",
       "      <th>score</th>\n",
       "    </tr>\n",
       "  </thead>\n",
       "  <tbody>\n",
       "    <tr>\n",
       "      <th>0</th>\n",
       "      <td>CYBA</td>\n",
       "      <td>superoxide metabolic process</td>\n",
       "      <td>NCF1</td>\n",
       "      <td>streptozocin</td>\n",
       "      <td>0.362508</td>\n",
       "    </tr>\n",
       "    <tr>\n",
       "      <th>1</th>\n",
       "      <td>CYBA</td>\n",
       "      <td>respiratory burst</td>\n",
       "      <td>NCF1</td>\n",
       "      <td>streptozocin</td>\n",
       "      <td>0.361986</td>\n",
       "    </tr>\n",
       "    <tr>\n",
       "      <th>2</th>\n",
       "      <td>CYBA</td>\n",
       "      <td>superoxide anion generation</td>\n",
       "      <td>NCF1</td>\n",
       "      <td>streptozocin</td>\n",
       "      <td>0.361861</td>\n",
       "    </tr>\n",
       "    <tr>\n",
       "      <th>3</th>\n",
       "      <td>CYBA</td>\n",
       "      <td>electron transport chain</td>\n",
       "      <td>NCF1</td>\n",
       "      <td>streptozocin</td>\n",
       "      <td>0.357508</td>\n",
       "    </tr>\n",
       "    <tr>\n",
       "      <th>4</th>\n",
       "      <td>CYBA</td>\n",
       "      <td>superoxide-generating NADPH oxidase activity</td>\n",
       "      <td>NCF1</td>\n",
       "      <td>streptozocin</td>\n",
       "      <td>0.348225</td>\n",
       "    </tr>\n",
       "  </tbody>\n",
       "</table>\n",
       "</div>"
      ],
      "text/plain": [
       "  n1 - name                                     n2 - name  n3 - name   \\\n",
       "0       CYBA                  superoxide metabolic process       NCF1   \n",
       "1       CYBA                             respiratory burst       NCF1   \n",
       "2       CYBA                   superoxide anion generation       NCF1   \n",
       "3       CYBA                      electron transport chain       NCF1   \n",
       "4       CYBA  superoxide-generating NADPH oxidase activity       NCF1   \n",
       "\n",
       "     n4 - name      score  \n",
       "0  streptozocin  0.362508  \n",
       "1  streptozocin  0.361986  \n",
       "2  streptozocin  0.361861  \n",
       "3  streptozocin  0.357508  \n",
       "4  streptozocin  0.348225  "
      ]
     },
     "metadata": {},
     "output_type": "display_data"
    },
    {
     "data": {
      "text/html": [
       "<h3>gastroesophageal reflux disease</h3>"
      ],
      "text/plain": [
       "<IPython.core.display.HTML object>"
      ]
     },
     "metadata": {},
     "output_type": "display_data"
    },
    {
     "data": {
      "text/html": [
       "<a href=http://robokop.renci.org/simple/view/83ca9a42-80f9-4599-b834-7ba71fcb7e04>View Answer in ROBOKOP</a>"
      ],
      "text/plain": [
       "<IPython.core.display.HTML object>"
      ]
     },
     "metadata": {},
     "output_type": "display_data"
    },
    {
     "data": {
      "text/html": [
       "<div>\n",
       "<style>\n",
       "    .dataframe thead tr:only-child th {\n",
       "        text-align: right;\n",
       "    }\n",
       "\n",
       "    .dataframe thead th {\n",
       "        text-align: left;\n",
       "    }\n",
       "\n",
       "    .dataframe tbody tr th {\n",
       "        vertical-align: top;\n",
       "    }\n",
       "</style>\n",
       "<table border=\"1\" class=\"dataframe\">\n",
       "  <thead>\n",
       "    <tr style=\"text-align: right;\">\n",
       "      <th></th>\n",
       "      <th>n1 - name</th>\n",
       "      <th>n2 - name</th>\n",
       "      <th>n3 - name</th>\n",
       "      <th>n4 - name</th>\n",
       "      <th>score</th>\n",
       "    </tr>\n",
       "  </thead>\n",
       "  <tbody>\n",
       "    <tr>\n",
       "      <th>0</th>\n",
       "      <td>TAC1</td>\n",
       "      <td>sensory perception of pain</td>\n",
       "      <td>TAC1</td>\n",
       "      <td>capsaicin</td>\n",
       "      <td>0.599334</td>\n",
       "    </tr>\n",
       "    <tr>\n",
       "      <th>1</th>\n",
       "      <td>MECP2</td>\n",
       "      <td>sensory perception of pain</td>\n",
       "      <td>TAC1</td>\n",
       "      <td>capsaicin</td>\n",
       "      <td>0.591672</td>\n",
       "    </tr>\n",
       "    <tr>\n",
       "      <th>2</th>\n",
       "      <td>TAC1</td>\n",
       "      <td>response to pain</td>\n",
       "      <td>TAC1</td>\n",
       "      <td>capsaicin</td>\n",
       "      <td>0.573672</td>\n",
       "    </tr>\n",
       "    <tr>\n",
       "      <th>3</th>\n",
       "      <td>TAC1</td>\n",
       "      <td>associative learning</td>\n",
       "      <td>TAC1</td>\n",
       "      <td>capsaicin</td>\n",
       "      <td>0.573545</td>\n",
       "    </tr>\n",
       "    <tr>\n",
       "      <th>4</th>\n",
       "      <td>MECP2</td>\n",
       "      <td>long-term memory</td>\n",
       "      <td>TAC1</td>\n",
       "      <td>capsaicin</td>\n",
       "      <td>0.544210</td>\n",
       "    </tr>\n",
       "  </tbody>\n",
       "</table>\n",
       "</div>"
      ],
      "text/plain": [
       "  n1 - name                   n2 - name  n3 - name  n4 - name      score\n",
       "0       TAC1  sensory perception of pain       TAC1  capsaicin  0.599334\n",
       "1      MECP2  sensory perception of pain       TAC1  capsaicin  0.591672\n",
       "2       TAC1            response to pain       TAC1  capsaicin  0.573672\n",
       "3       TAC1        associative learning       TAC1  capsaicin  0.573545\n",
       "4      MECP2            long-term memory       TAC1  capsaicin  0.544210"
      ]
     },
     "metadata": {},
     "output_type": "display_data"
    },
    {
     "data": {
      "text/html": [
       "<h3>cystic fibrosis</h3>"
      ],
      "text/plain": [
       "<IPython.core.display.HTML object>"
      ]
     },
     "metadata": {},
     "output_type": "display_data"
    },
    {
     "data": {
      "text/html": [
       "<a href=http://robokop.renci.org/simple/view/dafca1e0-fae8-48c3-833b-db1ac95c0167>View Answer in ROBOKOP</a>"
      ],
      "text/plain": [
       "<IPython.core.display.HTML object>"
      ]
     },
     "metadata": {},
     "output_type": "display_data"
    },
    {
     "data": {
      "text/html": [
       "<div>\n",
       "<style>\n",
       "    .dataframe thead tr:only-child th {\n",
       "        text-align: right;\n",
       "    }\n",
       "\n",
       "    .dataframe thead th {\n",
       "        text-align: left;\n",
       "    }\n",
       "\n",
       "    .dataframe tbody tr th {\n",
       "        vertical-align: top;\n",
       "    }\n",
       "</style>\n",
       "<table border=\"1\" class=\"dataframe\">\n",
       "  <thead>\n",
       "    <tr style=\"text-align: right;\">\n",
       "      <th></th>\n",
       "      <th>n1 - name</th>\n",
       "      <th>n2 - name</th>\n",
       "      <th>n3 - name</th>\n",
       "      <th>n4 - name</th>\n",
       "      <th>score</th>\n",
       "    </tr>\n",
       "  </thead>\n",
       "  <tbody>\n",
       "    <tr>\n",
       "      <th>0</th>\n",
       "      <td>TNFRSF1A</td>\n",
       "      <td>positive regulation of inflammatory response</td>\n",
       "      <td>TLR4</td>\n",
       "      <td>ozone</td>\n",
       "      <td>0.676575</td>\n",
       "    </tr>\n",
       "    <tr>\n",
       "      <th>1</th>\n",
       "      <td>SCNN1A</td>\n",
       "      <td>ligand-gated sodium channel activity</td>\n",
       "      <td>SCNN1B</td>\n",
       "      <td>amiloride</td>\n",
       "      <td>0.665475</td>\n",
       "    </tr>\n",
       "    <tr>\n",
       "      <th>2</th>\n",
       "      <td>SCNN1A</td>\n",
       "      <td>ligand-gated sodium channel activity</td>\n",
       "      <td>SCNN1G</td>\n",
       "      <td>amiloride</td>\n",
       "      <td>0.664855</td>\n",
       "    </tr>\n",
       "    <tr>\n",
       "      <th>3</th>\n",
       "      <td>SCNN1A</td>\n",
       "      <td>sensory perception of taste</td>\n",
       "      <td>SCNN1B</td>\n",
       "      <td>amiloride</td>\n",
       "      <td>0.656708</td>\n",
       "    </tr>\n",
       "    <tr>\n",
       "      <th>4</th>\n",
       "      <td>SCNN1A</td>\n",
       "      <td>sensory perception of taste</td>\n",
       "      <td>SCNN1G</td>\n",
       "      <td>amiloride</td>\n",
       "      <td>0.656218</td>\n",
       "    </tr>\n",
       "  </tbody>\n",
       "</table>\n",
       "</div>"
      ],
      "text/plain": [
       "  n1 - name                                     n2 - name  n3 - name   \\\n",
       "0   TNFRSF1A  positive regulation of inflammatory response       TLR4   \n",
       "1     SCNN1A          ligand-gated sodium channel activity     SCNN1B   \n",
       "2     SCNN1A          ligand-gated sodium channel activity     SCNN1G   \n",
       "3     SCNN1A                   sensory perception of taste     SCNN1B   \n",
       "4     SCNN1A                   sensory perception of taste     SCNN1G   \n",
       "\n",
       "  n4 - name      score  \n",
       "0      ozone  0.676575  \n",
       "1  amiloride  0.665475  \n",
       "2  amiloride  0.664855  \n",
       "3  amiloride  0.656708  \n",
       "4  amiloride  0.656218  "
      ]
     },
     "metadata": {},
     "output_type": "display_data"
    },
    {
     "data": {
      "text/html": [
       "<h3>newborn respiratory distress syndrome</h3>"
      ],
      "text/plain": [
       "<IPython.core.display.HTML object>"
      ]
     },
     "metadata": {},
     "output_type": "display_data"
    },
    {
     "data": {
      "text/html": [
       "<a href=http://robokop.renci.org/simple/view/333c38ce-7c3c-4599-8453-e9e0049990ce>View Answer in ROBOKOP</a>"
      ],
      "text/plain": [
       "<IPython.core.display.HTML object>"
      ]
     },
     "metadata": {},
     "output_type": "display_data"
    },
    {
     "data": {
      "text/html": [
       "<div>\n",
       "<style>\n",
       "    .dataframe thead tr:only-child th {\n",
       "        text-align: right;\n",
       "    }\n",
       "\n",
       "    .dataframe thead th {\n",
       "        text-align: left;\n",
       "    }\n",
       "\n",
       "    .dataframe tbody tr th {\n",
       "        vertical-align: top;\n",
       "    }\n",
       "</style>\n",
       "<table border=\"1\" class=\"dataframe\">\n",
       "  <thead>\n",
       "    <tr style=\"text-align: right;\">\n",
       "      <th></th>\n",
       "      <th>n1 - name</th>\n",
       "      <th>n2 - name</th>\n",
       "      <th>n3 - name</th>\n",
       "      <th>n4 - name</th>\n",
       "      <th>score</th>\n",
       "    </tr>\n",
       "  </thead>\n",
       "  <tbody>\n",
       "    <tr>\n",
       "      <th>0</th>\n",
       "      <td>SFTPC</td>\n",
       "      <td>respiratory gaseous exchange</td>\n",
       "      <td>SFTPB</td>\n",
       "      <td>terbutaline</td>\n",
       "      <td>0.477045</td>\n",
       "    </tr>\n",
       "    <tr>\n",
       "      <th>1</th>\n",
       "      <td>SFTPC</td>\n",
       "      <td>respiratory gaseous exchange</td>\n",
       "      <td>SFTPC</td>\n",
       "      <td>terbutaline</td>\n",
       "      <td>0.469105</td>\n",
       "    </tr>\n",
       "    <tr>\n",
       "      <th>2</th>\n",
       "      <td>SFTPB</td>\n",
       "      <td>respiratory gaseous exchange</td>\n",
       "      <td>SFTPA1</td>\n",
       "      <td>ozone</td>\n",
       "      <td>0.388279</td>\n",
       "    </tr>\n",
       "    <tr>\n",
       "      <th>3</th>\n",
       "      <td>SFTPB</td>\n",
       "      <td>respiratory gaseous exchange</td>\n",
       "      <td>SFTPC</td>\n",
       "      <td>terbutaline</td>\n",
       "      <td>0.376409</td>\n",
       "    </tr>\n",
       "    <tr>\n",
       "      <th>4</th>\n",
       "      <td>SFTPB</td>\n",
       "      <td>respiratory gaseous exchange</td>\n",
       "      <td>SFTPA2</td>\n",
       "      <td>ozone</td>\n",
       "      <td>0.373755</td>\n",
       "    </tr>\n",
       "  </tbody>\n",
       "</table>\n",
       "</div>"
      ],
      "text/plain": [
       "  n1 - name                     n2 - name  n3 - name    n4 - name      score\n",
       "0      SFTPC  respiratory gaseous exchange      SFTPB  terbutaline  0.477045\n",
       "1      SFTPC  respiratory gaseous exchange      SFTPC  terbutaline  0.469105\n",
       "2      SFTPB  respiratory gaseous exchange     SFTPA1        ozone  0.388279\n",
       "3      SFTPB  respiratory gaseous exchange      SFTPC  terbutaline  0.376409\n",
       "4      SFTPB  respiratory gaseous exchange     SFTPA2        ozone  0.373755"
      ]
     },
     "metadata": {},
     "output_type": "display_data"
    },
    {
     "data": {
      "text/html": [
       "<h3>metabolic syndrome X</h3>"
      ],
      "text/plain": [
       "<IPython.core.display.HTML object>"
      ]
     },
     "metadata": {},
     "output_type": "display_data"
    },
    {
     "data": {
      "text/html": [
       "<a href=http://robokop.renci.org/simple/view/6885208e-399a-4bf6-9b9e-b77908965032>View Answer in ROBOKOP</a>"
      ],
      "text/plain": [
       "<IPython.core.display.HTML object>"
      ]
     },
     "metadata": {},
     "output_type": "display_data"
    },
    {
     "data": {
      "text/html": [
       "<div>\n",
       "<style>\n",
       "    .dataframe thead tr:only-child th {\n",
       "        text-align: right;\n",
       "    }\n",
       "\n",
       "    .dataframe thead th {\n",
       "        text-align: left;\n",
       "    }\n",
       "\n",
       "    .dataframe tbody tr th {\n",
       "        vertical-align: top;\n",
       "    }\n",
       "</style>\n",
       "<table border=\"1\" class=\"dataframe\">\n",
       "  <thead>\n",
       "    <tr style=\"text-align: right;\">\n",
       "      <th></th>\n",
       "      <th>n1 - name</th>\n",
       "      <th>n2 - name</th>\n",
       "      <th>n3 - name</th>\n",
       "      <th>n4 - name</th>\n",
       "      <th>score</th>\n",
       "    </tr>\n",
       "  </thead>\n",
       "  <tbody>\n",
       "    <tr>\n",
       "      <th>0</th>\n",
       "      <td>ADIPOQ</td>\n",
       "      <td>glucose homeostasis</td>\n",
       "      <td>SLC2A4</td>\n",
       "      <td>rosiglitazone</td>\n",
       "      <td>0.676799</td>\n",
       "    </tr>\n",
       "    <tr>\n",
       "      <th>1</th>\n",
       "      <td>INS</td>\n",
       "      <td>glucose homeostasis</td>\n",
       "      <td>SLC2A4</td>\n",
       "      <td>rosiglitazone</td>\n",
       "      <td>0.652311</td>\n",
       "    </tr>\n",
       "    <tr>\n",
       "      <th>2</th>\n",
       "      <td>LEP</td>\n",
       "      <td>glucose homeostasis</td>\n",
       "      <td>SLC2A4</td>\n",
       "      <td>rosiglitazone</td>\n",
       "      <td>0.652116</td>\n",
       "    </tr>\n",
       "    <tr>\n",
       "      <th>3</th>\n",
       "      <td>ADIPOQ</td>\n",
       "      <td>brown fat cell differentiation</td>\n",
       "      <td>SLC2A4</td>\n",
       "      <td>rosiglitazone</td>\n",
       "      <td>0.631005</td>\n",
       "    </tr>\n",
       "    <tr>\n",
       "      <th>4</th>\n",
       "      <td>ADIPOQ</td>\n",
       "      <td>response to ethanol</td>\n",
       "      <td>SLC2A4</td>\n",
       "      <td>rosiglitazone</td>\n",
       "      <td>0.616084</td>\n",
       "    </tr>\n",
       "  </tbody>\n",
       "</table>\n",
       "</div>"
      ],
      "text/plain": [
       "  n1 - name                       n2 - name  n3 - name      n4 - name   \\\n",
       "0     ADIPOQ             glucose homeostasis     SLC2A4  rosiglitazone   \n",
       "1        INS             glucose homeostasis     SLC2A4  rosiglitazone   \n",
       "2        LEP             glucose homeostasis     SLC2A4  rosiglitazone   \n",
       "3     ADIPOQ  brown fat cell differentiation     SLC2A4  rosiglitazone   \n",
       "4     ADIPOQ             response to ethanol     SLC2A4  rosiglitazone   \n",
       "\n",
       "      score  \n",
       "0  0.676799  \n",
       "1  0.652311  \n",
       "2  0.652116  \n",
       "3  0.631005  \n",
       "4  0.616084  "
      ]
     },
     "metadata": {},
     "output_type": "display_data"
    },
    {
     "data": {
      "text/html": [
       "<h3>Alexander disease</h3>"
      ],
      "text/plain": [
       "<IPython.core.display.HTML object>"
      ]
     },
     "metadata": {},
     "output_type": "display_data"
    },
    {
     "data": {
      "text/html": [
       "<a href=http://robokop.renci.org/simple/view/655c5a4c-d2e7-4447-93e6-f181719f6ad9>View Answer in ROBOKOP</a>"
      ],
      "text/plain": [
       "<IPython.core.display.HTML object>"
      ]
     },
     "metadata": {},
     "output_type": "display_data"
    },
    {
     "data": {
      "text/html": [
       "<div>\n",
       "<style>\n",
       "    .dataframe thead tr:only-child th {\n",
       "        text-align: right;\n",
       "    }\n",
       "\n",
       "    .dataframe thead th {\n",
       "        text-align: left;\n",
       "    }\n",
       "\n",
       "    .dataframe tbody tr th {\n",
       "        vertical-align: top;\n",
       "    }\n",
       "</style>\n",
       "<table border=\"1\" class=\"dataframe\">\n",
       "  <thead>\n",
       "    <tr style=\"text-align: right;\">\n",
       "      <th></th>\n",
       "      <th>n1 - name</th>\n",
       "      <th>n2 - name</th>\n",
       "      <th>n3 - name</th>\n",
       "      <th>n4 - name</th>\n",
       "      <th>score</th>\n",
       "    </tr>\n",
       "  </thead>\n",
       "  <tbody>\n",
       "    <tr>\n",
       "      <th>0</th>\n",
       "      <td>GFAP</td>\n",
       "      <td>neuron projection regeneration</td>\n",
       "      <td>GFAP</td>\n",
       "      <td>kainic acid</td>\n",
       "      <td>0.579155</td>\n",
       "    </tr>\n",
       "    <tr>\n",
       "      <th>1</th>\n",
       "      <td>GFAP</td>\n",
       "      <td>intermediate filament organization</td>\n",
       "      <td>GFAP</td>\n",
       "      <td>kainic acid</td>\n",
       "      <td>0.562853</td>\n",
       "    </tr>\n",
       "    <tr>\n",
       "      <th>2</th>\n",
       "      <td>GFAP</td>\n",
       "      <td>long-term synaptic potentiation</td>\n",
       "      <td>GFAP</td>\n",
       "      <td>kainic acid</td>\n",
       "      <td>0.558608</td>\n",
       "    </tr>\n",
       "    <tr>\n",
       "      <th>3</th>\n",
       "      <td>GFAP</td>\n",
       "      <td>kinase binding</td>\n",
       "      <td>GFAP</td>\n",
       "      <td>kainic acid</td>\n",
       "      <td>0.558604</td>\n",
       "    </tr>\n",
       "    <tr>\n",
       "      <th>4</th>\n",
       "      <td>GFAP</td>\n",
       "      <td>astrocyte development</td>\n",
       "      <td>GFAP</td>\n",
       "      <td>kainic acid</td>\n",
       "      <td>0.549042</td>\n",
       "    </tr>\n",
       "  </tbody>\n",
       "</table>\n",
       "</div>"
      ],
      "text/plain": [
       "  n1 - name                           n2 - name  n3 - name    n4 - name   \\\n",
       "0       GFAP      neuron projection regeneration       GFAP  kainic acid   \n",
       "1       GFAP  intermediate filament organization       GFAP  kainic acid   \n",
       "2       GFAP     long-term synaptic potentiation       GFAP  kainic acid   \n",
       "3       GFAP                      kinase binding       GFAP  kainic acid   \n",
       "4       GFAP               astrocyte development       GFAP  kainic acid   \n",
       "\n",
       "      score  \n",
       "0  0.579155  \n",
       "1  0.562853  \n",
       "2  0.558608  \n",
       "3  0.558604  \n",
       "4  0.549042  "
      ]
     },
     "metadata": {},
     "output_type": "display_data"
    },
    {
     "data": {
      "text/html": [
       "<h3>Raynaud disease</h3>"
      ],
      "text/plain": [
       "<IPython.core.display.HTML object>"
      ]
     },
     "metadata": {},
     "output_type": "display_data"
    },
    {
     "data": {
      "text/html": [
       "<a href=http://robokop.renci.org/simple/view/4d79fadb-1806-4452-93c8-2626bdcf07dc>View Answer in ROBOKOP</a>"
      ],
      "text/plain": [
       "<IPython.core.display.HTML object>"
      ]
     },
     "metadata": {},
     "output_type": "display_data"
    },
    {
     "data": {
      "text/html": [
       "<div>\n",
       "<style>\n",
       "    .dataframe thead tr:only-child th {\n",
       "        text-align: right;\n",
       "    }\n",
       "\n",
       "    .dataframe thead th {\n",
       "        text-align: left;\n",
       "    }\n",
       "\n",
       "    .dataframe tbody tr th {\n",
       "        vertical-align: top;\n",
       "    }\n",
       "</style>\n",
       "<table border=\"1\" class=\"dataframe\">\n",
       "  <thead>\n",
       "    <tr style=\"text-align: right;\">\n",
       "      <th></th>\n",
       "      <th>n1 - name</th>\n",
       "      <th>n2 - name</th>\n",
       "      <th>n3 - name</th>\n",
       "      <th>n4 - name</th>\n",
       "      <th>score</th>\n",
       "    </tr>\n",
       "  </thead>\n",
       "  <tbody>\n",
       "    <tr>\n",
       "      <th>0</th>\n",
       "      <td>GSTT1</td>\n",
       "      <td>glutathione metabolic process</td>\n",
       "      <td>GSTA1</td>\n",
       "      <td>busulfan</td>\n",
       "      <td>0.431204</td>\n",
       "    </tr>\n",
       "    <tr>\n",
       "      <th>1</th>\n",
       "      <td>GSTT1</td>\n",
       "      <td>glutathione transferase activity</td>\n",
       "      <td>GSTA1</td>\n",
       "      <td>busulfan</td>\n",
       "      <td>0.431086</td>\n",
       "    </tr>\n",
       "    <tr>\n",
       "      <th>2</th>\n",
       "      <td>GSTT1</td>\n",
       "      <td>glutathione peroxidase activity</td>\n",
       "      <td>GSTA1</td>\n",
       "      <td>busulfan</td>\n",
       "      <td>0.431051</td>\n",
       "    </tr>\n",
       "    <tr>\n",
       "      <th>3</th>\n",
       "      <td>COL4A1</td>\n",
       "      <td>angiogenesis</td>\n",
       "      <td>SERPINE1</td>\n",
       "      <td>methionine</td>\n",
       "      <td>0.425029</td>\n",
       "    </tr>\n",
       "    <tr>\n",
       "      <th>4</th>\n",
       "      <td>AGXT</td>\n",
       "      <td>transaminase activity</td>\n",
       "      <td>AGXT</td>\n",
       "      <td>glycine</td>\n",
       "      <td>0.410108</td>\n",
       "    </tr>\n",
       "  </tbody>\n",
       "</table>\n",
       "</div>"
      ],
      "text/plain": [
       "  n1 - name                         n2 - name  n3 - name   n4 - name   \\\n",
       "0      GSTT1     glutathione metabolic process      GSTA1    busulfan   \n",
       "1      GSTT1  glutathione transferase activity      GSTA1    busulfan   \n",
       "2      GSTT1   glutathione peroxidase activity      GSTA1    busulfan   \n",
       "3     COL4A1                      angiogenesis   SERPINE1  methionine   \n",
       "4       AGXT             transaminase activity       AGXT     glycine   \n",
       "\n",
       "      score  \n",
       "0  0.431204  \n",
       "1  0.431086  \n",
       "2  0.431051  \n",
       "3  0.425029  \n",
       "4  0.410108  "
      ]
     },
     "metadata": {},
     "output_type": "display_data"
    },
    {
     "data": {
      "text/html": [
       "<h3>Alzheimer disease</h3>"
      ],
      "text/plain": [
       "<IPython.core.display.HTML object>"
      ]
     },
     "metadata": {},
     "output_type": "display_data"
    },
    {
     "data": {
      "text/html": [
       "<a href=http://robokop.renci.org/simple/view/cd9cd9d1-8c2c-47de-9793-7bfb30e397b4>View Answer in ROBOKOP</a>"
      ],
      "text/plain": [
       "<IPython.core.display.HTML object>"
      ]
     },
     "metadata": {},
     "output_type": "display_data"
    },
    {
     "data": {
      "text/html": [
       "<div>\n",
       "<style>\n",
       "    .dataframe thead tr:only-child th {\n",
       "        text-align: right;\n",
       "    }\n",
       "\n",
       "    .dataframe thead th {\n",
       "        text-align: left;\n",
       "    }\n",
       "\n",
       "    .dataframe tbody tr th {\n",
       "        vertical-align: top;\n",
       "    }\n",
       "</style>\n",
       "<table border=\"1\" class=\"dataframe\">\n",
       "  <thead>\n",
       "    <tr style=\"text-align: right;\">\n",
       "      <th></th>\n",
       "      <th>n1 - name</th>\n",
       "      <th>n2 - name</th>\n",
       "      <th>n3 - name</th>\n",
       "      <th>n4 - name</th>\n",
       "      <th>score</th>\n",
       "    </tr>\n",
       "  </thead>\n",
       "  <tbody>\n",
       "    <tr>\n",
       "      <th>0</th>\n",
       "      <td>CREB1</td>\n",
       "      <td>aging</td>\n",
       "      <td>SNCA</td>\n",
       "      <td>rotenone</td>\n",
       "      <td>0.801042</td>\n",
       "    </tr>\n",
       "    <tr>\n",
       "      <th>1</th>\n",
       "      <td>PSEN1</td>\n",
       "      <td>memory</td>\n",
       "      <td>PSEN1</td>\n",
       "      <td>sulindac sulfide</td>\n",
       "      <td>0.789776</td>\n",
       "    </tr>\n",
       "    <tr>\n",
       "      <th>2</th>\n",
       "      <td>SNCA</td>\n",
       "      <td>aging</td>\n",
       "      <td>SNCA</td>\n",
       "      <td>rotenone</td>\n",
       "      <td>0.788386</td>\n",
       "    </tr>\n",
       "    <tr>\n",
       "      <th>3</th>\n",
       "      <td>SQSTM1</td>\n",
       "      <td>positive regulation of apoptotic process</td>\n",
       "      <td>SNCA</td>\n",
       "      <td>rotenone</td>\n",
       "      <td>0.774120</td>\n",
       "    </tr>\n",
       "    <tr>\n",
       "      <th>4</th>\n",
       "      <td>MT-CO1</td>\n",
       "      <td>aging</td>\n",
       "      <td>SNCA</td>\n",
       "      <td>rotenone</td>\n",
       "      <td>0.747879</td>\n",
       "    </tr>\n",
       "  </tbody>\n",
       "</table>\n",
       "</div>"
      ],
      "text/plain": [
       "  n1 - name                                 n2 - name  n3 - name   \\\n",
       "0      CREB1                                     aging       SNCA   \n",
       "1      PSEN1                                    memory      PSEN1   \n",
       "2       SNCA                                     aging       SNCA   \n",
       "3     SQSTM1  positive regulation of apoptotic process       SNCA   \n",
       "4     MT-CO1                                     aging       SNCA   \n",
       "\n",
       "         n4 - name      score  \n",
       "0          rotenone  0.801042  \n",
       "1  sulindac sulfide  0.789776  \n",
       "2          rotenone  0.788386  \n",
       "3          rotenone  0.774120  \n",
       "4          rotenone  0.747879  "
      ]
     },
     "metadata": {},
     "output_type": "display_data"
    },
    {
     "data": {
      "text/html": [
       "<h3>Leigh disease</h3>"
      ],
      "text/plain": [
       "<IPython.core.display.HTML object>"
      ]
     },
     "metadata": {},
     "output_type": "display_data"
    },
    {
     "data": {
      "text/html": [
       "<a href=http://robokop.renci.org/simple/view/8ff2cef2-c3bd-4a3b-abd7-20d1a60fcca8>View Answer in ROBOKOP</a>"
      ],
      "text/plain": [
       "<IPython.core.display.HTML object>"
      ]
     },
     "metadata": {},
     "output_type": "display_data"
    },
    {
     "data": {
      "text/html": [
       "<div>\n",
       "<style>\n",
       "    .dataframe thead tr:only-child th {\n",
       "        text-align: right;\n",
       "    }\n",
       "\n",
       "    .dataframe thead th {\n",
       "        text-align: left;\n",
       "    }\n",
       "\n",
       "    .dataframe tbody tr th {\n",
       "        vertical-align: top;\n",
       "    }\n",
       "</style>\n",
       "<table border=\"1\" class=\"dataframe\">\n",
       "  <thead>\n",
       "    <tr style=\"text-align: right;\">\n",
       "      <th></th>\n",
       "      <th>n1 - name</th>\n",
       "      <th>n2 - name</th>\n",
       "      <th>n3 - name</th>\n",
       "      <th>n4 - name</th>\n",
       "      <th>score</th>\n",
       "    </tr>\n",
       "  </thead>\n",
       "  <tbody>\n",
       "    <tr>\n",
       "      <th>0</th>\n",
       "      <td>NDUFS3</td>\n",
       "      <td>reactive oxygen species metabolic process</td>\n",
       "      <td>NDUFS4</td>\n",
       "      <td>rotenone</td>\n",
       "      <td>0.580523</td>\n",
       "    </tr>\n",
       "    <tr>\n",
       "      <th>1</th>\n",
       "      <td>NDUFS4</td>\n",
       "      <td>reactive oxygen species metabolic process</td>\n",
       "      <td>NDUFS4</td>\n",
       "      <td>rotenone</td>\n",
       "      <td>0.575108</td>\n",
       "    </tr>\n",
       "    <tr>\n",
       "      <th>2</th>\n",
       "      <td>NDUFS4</td>\n",
       "      <td>NADH dehydrogenase (ubiquinone) activity</td>\n",
       "      <td>NDUFS4</td>\n",
       "      <td>rotenone</td>\n",
       "      <td>0.571416</td>\n",
       "    </tr>\n",
       "    <tr>\n",
       "      <th>3</th>\n",
       "      <td>NDUFS4</td>\n",
       "      <td>cellular respiration</td>\n",
       "      <td>NDUFS4</td>\n",
       "      <td>rotenone</td>\n",
       "      <td>0.570874</td>\n",
       "    </tr>\n",
       "    <tr>\n",
       "      <th>4</th>\n",
       "      <td>NDUFS4</td>\n",
       "      <td>reactive oxygen species metabolic process</td>\n",
       "      <td>NDUFS1</td>\n",
       "      <td>rotenone</td>\n",
       "      <td>0.569723</td>\n",
       "    </tr>\n",
       "  </tbody>\n",
       "</table>\n",
       "</div>"
      ],
      "text/plain": [
       "  n1 - name                                  n2 - name  n3 - name  n4 - name   \\\n",
       "0     NDUFS3  reactive oxygen species metabolic process     NDUFS4   rotenone   \n",
       "1     NDUFS4  reactive oxygen species metabolic process     NDUFS4   rotenone   \n",
       "2     NDUFS4   NADH dehydrogenase (ubiquinone) activity     NDUFS4   rotenone   \n",
       "3     NDUFS4                       cellular respiration     NDUFS4   rotenone   \n",
       "4     NDUFS4  reactive oxygen species metabolic process     NDUFS1   rotenone   \n",
       "\n",
       "      score  \n",
       "0  0.580523  \n",
       "1  0.575108  \n",
       "2  0.571416  \n",
       "3  0.570874  \n",
       "4  0.569723  "
      ]
     },
     "metadata": {},
     "output_type": "display_data"
    },
    {
     "data": {
      "text/html": [
       "<h3>apert syndrome</h3>"
      ],
      "text/plain": [
       "<IPython.core.display.HTML object>"
      ]
     },
     "metadata": {},
     "output_type": "display_data"
    },
    {
     "data": {
      "text/html": [
       "<a href=http://robokop.renci.org/simple/view/b0e93b38-4947-4d4b-a200-a9c5bb0f57f9>View Answer in ROBOKOP</a>"
      ],
      "text/plain": [
       "<IPython.core.display.HTML object>"
      ]
     },
     "metadata": {},
     "output_type": "display_data"
    },
    {
     "data": {
      "text/html": [
       "<div>\n",
       "<style>\n",
       "    .dataframe thead tr:only-child th {\n",
       "        text-align: right;\n",
       "    }\n",
       "\n",
       "    .dataframe thead th {\n",
       "        text-align: left;\n",
       "    }\n",
       "\n",
       "    .dataframe tbody tr th {\n",
       "        vertical-align: top;\n",
       "    }\n",
       "</style>\n",
       "<table border=\"1\" class=\"dataframe\">\n",
       "  <thead>\n",
       "    <tr style=\"text-align: right;\">\n",
       "      <th></th>\n",
       "    </tr>\n",
       "  </thead>\n",
       "  <tbody>\n",
       "  </tbody>\n",
       "</table>\n",
       "</div>"
      ],
      "text/plain": [
       "Empty DataFrame\n",
       "Columns: []\n",
       "Index: []"
      ]
     },
     "metadata": {},
     "output_type": "display_data"
    },
    {
     "data": {
      "text/html": [
       "<h3>ehlers-danlos syndrome</h3>"
      ],
      "text/plain": [
       "<IPython.core.display.HTML object>"
      ]
     },
     "metadata": {},
     "output_type": "display_data"
    },
    {
     "data": {
      "text/html": [
       "<a href=http://robokop.renci.org/simple/view/dc745a79-d371-4068-abcf-07461b3fe6e7>View Answer in ROBOKOP</a>"
      ],
      "text/plain": [
       "<IPython.core.display.HTML object>"
      ]
     },
     "metadata": {},
     "output_type": "display_data"
    },
    {
     "data": {
      "text/html": [
       "<div>\n",
       "<style>\n",
       "    .dataframe thead tr:only-child th {\n",
       "        text-align: right;\n",
       "    }\n",
       "\n",
       "    .dataframe thead th {\n",
       "        text-align: left;\n",
       "    }\n",
       "\n",
       "    .dataframe tbody tr th {\n",
       "        vertical-align: top;\n",
       "    }\n",
       "</style>\n",
       "<table border=\"1\" class=\"dataframe\">\n",
       "  <thead>\n",
       "    <tr style=\"text-align: right;\">\n",
       "      <th></th>\n",
       "      <th>n1 - name</th>\n",
       "      <th>n2 - name</th>\n",
       "      <th>n3 - name</th>\n",
       "      <th>n4 - name</th>\n",
       "      <th>score</th>\n",
       "    </tr>\n",
       "  </thead>\n",
       "  <tbody>\n",
       "    <tr>\n",
       "      <th>0</th>\n",
       "      <td>COL3A1</td>\n",
       "      <td>extracellular matrix organization</td>\n",
       "      <td>COL1A1</td>\n",
       "      <td>methionine</td>\n",
       "      <td>0.664510</td>\n",
       "    </tr>\n",
       "    <tr>\n",
       "      <th>1</th>\n",
       "      <td>COL3A1</td>\n",
       "      <td>skin development</td>\n",
       "      <td>COL1A1</td>\n",
       "      <td>methionine</td>\n",
       "      <td>0.664504</td>\n",
       "    </tr>\n",
       "    <tr>\n",
       "      <th>2</th>\n",
       "      <td>COL3A1</td>\n",
       "      <td>platelet activation</td>\n",
       "      <td>COL1A1</td>\n",
       "      <td>methionine</td>\n",
       "      <td>0.657630</td>\n",
       "    </tr>\n",
       "    <tr>\n",
       "      <th>3</th>\n",
       "      <td>COL3A1</td>\n",
       "      <td>extracellular matrix structural constituent</td>\n",
       "      <td>COL1A1</td>\n",
       "      <td>methionine</td>\n",
       "      <td>0.656326</td>\n",
       "    </tr>\n",
       "    <tr>\n",
       "      <th>4</th>\n",
       "      <td>COL3A1</td>\n",
       "      <td>collagen fibril organization</td>\n",
       "      <td>COL1A1</td>\n",
       "      <td>methionine</td>\n",
       "      <td>0.630683</td>\n",
       "    </tr>\n",
       "  </tbody>\n",
       "</table>\n",
       "</div>"
      ],
      "text/plain": [
       "  n1 - name                                    n2 - name  n3 - name   \\\n",
       "0     COL3A1            extracellular matrix organization     COL1A1   \n",
       "1     COL3A1                             skin development     COL1A1   \n",
       "2     COL3A1                          platelet activation     COL1A1   \n",
       "3     COL3A1  extracellular matrix structural constituent     COL1A1   \n",
       "4     COL3A1                 collagen fibril organization     COL1A1   \n",
       "\n",
       "   n4 - name      score  \n",
       "0  methionine  0.664510  \n",
       "1  methionine  0.664504  \n",
       "2  methionine  0.657630  \n",
       "3  methionine  0.656326  \n",
       "4  methionine  0.630683  "
      ]
     },
     "metadata": {},
     "output_type": "display_data"
    },
    {
     "data": {
      "text/html": [
       "<h3>diabetic ketoacidosis</h3>"
      ],
      "text/plain": [
       "<IPython.core.display.HTML object>"
      ]
     },
     "metadata": {},
     "output_type": "display_data"
    },
    {
     "data": {
      "text/html": [
       "<a href=http://robokop.renci.org/simple/view/aa7a5cf5-3f7d-42ed-9b78-afbae5b7c84f>View Answer in ROBOKOP</a>"
      ],
      "text/plain": [
       "<IPython.core.display.HTML object>"
      ]
     },
     "metadata": {},
     "output_type": "display_data"
    },
    {
     "data": {
      "text/html": [
       "<div>\n",
       "<style>\n",
       "    .dataframe thead tr:only-child th {\n",
       "        text-align: right;\n",
       "    }\n",
       "\n",
       "    .dataframe thead th {\n",
       "        text-align: left;\n",
       "    }\n",
       "\n",
       "    .dataframe tbody tr th {\n",
       "        vertical-align: top;\n",
       "    }\n",
       "</style>\n",
       "<table border=\"1\" class=\"dataframe\">\n",
       "  <thead>\n",
       "    <tr style=\"text-align: right;\">\n",
       "      <th></th>\n",
       "      <th>n1 - name</th>\n",
       "      <th>n2 - name</th>\n",
       "      <th>n3 - name</th>\n",
       "      <th>n4 - name</th>\n",
       "      <th>score</th>\n",
       "    </tr>\n",
       "  </thead>\n",
       "  <tbody>\n",
       "    <tr>\n",
       "      <th>0</th>\n",
       "      <td>INSR</td>\n",
       "      <td>glucose homeostasis</td>\n",
       "      <td>SLC2A4</td>\n",
       "      <td>streptozocin</td>\n",
       "      <td>0.501681</td>\n",
       "    </tr>\n",
       "    <tr>\n",
       "      <th>1</th>\n",
       "      <td>INSR</td>\n",
       "      <td>glucose homeostasis</td>\n",
       "      <td>INS</td>\n",
       "      <td>rosiglitazone</td>\n",
       "      <td>0.500828</td>\n",
       "    </tr>\n",
       "    <tr>\n",
       "      <th>2</th>\n",
       "      <td>INSR</td>\n",
       "      <td>insulin-like growth factor receptor binding</td>\n",
       "      <td>INS</td>\n",
       "      <td>rosiglitazone</td>\n",
       "      <td>0.500200</td>\n",
       "    </tr>\n",
       "    <tr>\n",
       "      <th>3</th>\n",
       "      <td>INSR</td>\n",
       "      <td>glucose homeostasis</td>\n",
       "      <td>SLC2A4</td>\n",
       "      <td>rosiglitazone</td>\n",
       "      <td>0.486542</td>\n",
       "    </tr>\n",
       "    <tr>\n",
       "      <th>4</th>\n",
       "      <td>INSR</td>\n",
       "      <td>glucose homeostasis</td>\n",
       "      <td>IRS1</td>\n",
       "      <td>streptozocin</td>\n",
       "      <td>0.453986</td>\n",
       "    </tr>\n",
       "  </tbody>\n",
       "</table>\n",
       "</div>"
      ],
      "text/plain": [
       "  n1 - name                                    n2 - name  n3 - name   \\\n",
       "0       INSR                          glucose homeostasis     SLC2A4   \n",
       "1       INSR                          glucose homeostasis        INS   \n",
       "2       INSR  insulin-like growth factor receptor binding        INS   \n",
       "3       INSR                          glucose homeostasis     SLC2A4   \n",
       "4       INSR                          glucose homeostasis       IRS1   \n",
       "\n",
       "      n4 - name      score  \n",
       "0   streptozocin  0.501681  \n",
       "1  rosiglitazone  0.500828  \n",
       "2  rosiglitazone  0.500200  \n",
       "3  rosiglitazone  0.486542  \n",
       "4   streptozocin  0.453986  "
      ]
     },
     "metadata": {},
     "output_type": "display_data"
    },
    {
     "data": {
      "text/html": [
       "<h3>diffuse idiopathic skeletal hyperostosis</h3>"
      ],
      "text/plain": [
       "<IPython.core.display.HTML object>"
      ]
     },
     "metadata": {},
     "output_type": "display_data"
    },
    {
     "data": {
      "text/html": [
       "<a href=http://robokop.renci.org/simple/view/fef894c0-19c9-4703-967b-17b23073a6f0>View Answer in ROBOKOP</a>"
      ],
      "text/plain": [
       "<IPython.core.display.HTML object>"
      ]
     },
     "metadata": {},
     "output_type": "display_data"
    },
    {
     "data": {
      "text/html": [
       "<div>\n",
       "<style>\n",
       "    .dataframe thead tr:only-child th {\n",
       "        text-align: right;\n",
       "    }\n",
       "\n",
       "    .dataframe thead th {\n",
       "        text-align: left;\n",
       "    }\n",
       "\n",
       "    .dataframe tbody tr th {\n",
       "        vertical-align: top;\n",
       "    }\n",
       "</style>\n",
       "<table border=\"1\" class=\"dataframe\">\n",
       "  <thead>\n",
       "    <tr style=\"text-align: right;\">\n",
       "      <th></th>\n",
       "      <th>n1 - name</th>\n",
       "      <th>n2 - name</th>\n",
       "      <th>n3 - name</th>\n",
       "      <th>n4 - name</th>\n",
       "      <th>score</th>\n",
       "    </tr>\n",
       "  </thead>\n",
       "  <tbody>\n",
       "    <tr>\n",
       "      <th>0</th>\n",
       "      <td>IGF1</td>\n",
       "      <td>insulin-like growth factor receptor binding</td>\n",
       "      <td>IGF1</td>\n",
       "      <td>genistein</td>\n",
       "      <td>0.511439</td>\n",
       "    </tr>\n",
       "    <tr>\n",
       "      <th>1</th>\n",
       "      <td>IGF1</td>\n",
       "      <td>insulin-like growth factor receptor binding</td>\n",
       "      <td>IGF1</td>\n",
       "      <td>raloxifene hydrochloride</td>\n",
       "      <td>0.510380</td>\n",
       "    </tr>\n",
       "    <tr>\n",
       "      <th>2</th>\n",
       "      <td>IGF1</td>\n",
       "      <td>proteoglycan biosynthetic process</td>\n",
       "      <td>IGF1</td>\n",
       "      <td>genistein</td>\n",
       "      <td>0.508119</td>\n",
       "    </tr>\n",
       "    <tr>\n",
       "      <th>3</th>\n",
       "      <td>IGF1</td>\n",
       "      <td>positive regulation of mitotic nuclear division</td>\n",
       "      <td>IGF1</td>\n",
       "      <td>genistein</td>\n",
       "      <td>0.508068</td>\n",
       "    </tr>\n",
       "    <tr>\n",
       "      <th>4</th>\n",
       "      <td>IGF1</td>\n",
       "      <td>integrin binding</td>\n",
       "      <td>IGF1</td>\n",
       "      <td>genistein</td>\n",
       "      <td>0.507899</td>\n",
       "    </tr>\n",
       "  </tbody>\n",
       "</table>\n",
       "</div>"
      ],
      "text/plain": [
       "  n1 - name                                        n2 - name  n3 - name   \\\n",
       "0       IGF1      insulin-like growth factor receptor binding       IGF1   \n",
       "1       IGF1      insulin-like growth factor receptor binding       IGF1   \n",
       "2       IGF1                proteoglycan biosynthetic process       IGF1   \n",
       "3       IGF1  positive regulation of mitotic nuclear division       IGF1   \n",
       "4       IGF1                                 integrin binding       IGF1   \n",
       "\n",
       "                 n4 - name      score  \n",
       "0                 genistein  0.511439  \n",
       "1  raloxifene hydrochloride  0.510380  \n",
       "2                 genistein  0.508119  \n",
       "3                 genistein  0.508068  \n",
       "4                 genistein  0.507899  "
      ]
     },
     "metadata": {},
     "output_type": "display_data"
    },
    {
     "data": {
      "text/html": [
       "<h3>newborn respiratory distress syndrome</h3>"
      ],
      "text/plain": [
       "<IPython.core.display.HTML object>"
      ]
     },
     "metadata": {},
     "output_type": "display_data"
    },
    {
     "data": {
      "text/html": [
       "<a href=http://robokop.renci.org/simple/view/9b777bb6-b13e-4bf6-b3bb-e87bd9aee9cf>View Answer in ROBOKOP</a>"
      ],
      "text/plain": [
       "<IPython.core.display.HTML object>"
      ]
     },
     "metadata": {},
     "output_type": "display_data"
    },
    {
     "data": {
      "text/html": [
       "<div>\n",
       "<style>\n",
       "    .dataframe thead tr:only-child th {\n",
       "        text-align: right;\n",
       "    }\n",
       "\n",
       "    .dataframe thead th {\n",
       "        text-align: left;\n",
       "    }\n",
       "\n",
       "    .dataframe tbody tr th {\n",
       "        vertical-align: top;\n",
       "    }\n",
       "</style>\n",
       "<table border=\"1\" class=\"dataframe\">\n",
       "  <thead>\n",
       "    <tr style=\"text-align: right;\">\n",
       "      <th></th>\n",
       "      <th>n1 - name</th>\n",
       "      <th>n2 - name</th>\n",
       "      <th>n3 - name</th>\n",
       "      <th>n4 - name</th>\n",
       "      <th>score</th>\n",
       "    </tr>\n",
       "  </thead>\n",
       "  <tbody>\n",
       "    <tr>\n",
       "      <th>0</th>\n",
       "      <td>SFTPC</td>\n",
       "      <td>respiratory gaseous exchange</td>\n",
       "      <td>SFTPB</td>\n",
       "      <td>terbutaline</td>\n",
       "      <td>0.477045</td>\n",
       "    </tr>\n",
       "    <tr>\n",
       "      <th>1</th>\n",
       "      <td>SFTPC</td>\n",
       "      <td>respiratory gaseous exchange</td>\n",
       "      <td>SFTPC</td>\n",
       "      <td>terbutaline</td>\n",
       "      <td>0.469105</td>\n",
       "    </tr>\n",
       "    <tr>\n",
       "      <th>2</th>\n",
       "      <td>SFTPB</td>\n",
       "      <td>respiratory gaseous exchange</td>\n",
       "      <td>SFTPA1</td>\n",
       "      <td>ozone</td>\n",
       "      <td>0.388279</td>\n",
       "    </tr>\n",
       "    <tr>\n",
       "      <th>3</th>\n",
       "      <td>SFTPB</td>\n",
       "      <td>respiratory gaseous exchange</td>\n",
       "      <td>SFTPC</td>\n",
       "      <td>terbutaline</td>\n",
       "      <td>0.376409</td>\n",
       "    </tr>\n",
       "    <tr>\n",
       "      <th>4</th>\n",
       "      <td>SFTPB</td>\n",
       "      <td>respiratory gaseous exchange</td>\n",
       "      <td>SFTPA2</td>\n",
       "      <td>ozone</td>\n",
       "      <td>0.373755</td>\n",
       "    </tr>\n",
       "  </tbody>\n",
       "</table>\n",
       "</div>"
      ],
      "text/plain": [
       "  n1 - name                     n2 - name  n3 - name    n4 - name      score\n",
       "0      SFTPC  respiratory gaseous exchange      SFTPB  terbutaline  0.477045\n",
       "1      SFTPC  respiratory gaseous exchange      SFTPC  terbutaline  0.469105\n",
       "2      SFTPB  respiratory gaseous exchange     SFTPA1        ozone  0.388279\n",
       "3      SFTPB  respiratory gaseous exchange      SFTPC  terbutaline  0.376409\n",
       "4      SFTPB  respiratory gaseous exchange     SFTPA2        ozone  0.373755"
      ]
     },
     "metadata": {},
     "output_type": "display_data"
    },
    {
     "data": {
      "text/html": [
       "<h3>mitochondrial DNA depletion syndrome 4a</h3>"
      ],
      "text/plain": [
       "<IPython.core.display.HTML object>"
      ]
     },
     "metadata": {},
     "output_type": "display_data"
    },
    {
     "data": {
      "text/html": [
       "<a href=http://robokop.renci.org/simple/view/cd61e8ca-3bbc-4db4-a499-fe0d4d9af75d>View Answer in ROBOKOP</a>"
      ],
      "text/plain": [
       "<IPython.core.display.HTML object>"
      ]
     },
     "metadata": {},
     "output_type": "display_data"
    },
    {
     "data": {
      "text/html": [
       "<div>\n",
       "<style>\n",
       "    .dataframe thead tr:only-child th {\n",
       "        text-align: right;\n",
       "    }\n",
       "\n",
       "    .dataframe thead th {\n",
       "        text-align: left;\n",
       "    }\n",
       "\n",
       "    .dataframe tbody tr th {\n",
       "        vertical-align: top;\n",
       "    }\n",
       "</style>\n",
       "<table border=\"1\" class=\"dataframe\">\n",
       "  <thead>\n",
       "    <tr style=\"text-align: right;\">\n",
       "      <th></th>\n",
       "      <th>n1 - name</th>\n",
       "      <th>n2 - name</th>\n",
       "      <th>n3 - name</th>\n",
       "      <th>n4 - name</th>\n",
       "      <th>score</th>\n",
       "    </tr>\n",
       "  </thead>\n",
       "  <tbody>\n",
       "    <tr>\n",
       "      <th>0</th>\n",
       "      <td>POLG</td>\n",
       "      <td>aging</td>\n",
       "      <td>ADA</td>\n",
       "      <td>adenosine</td>\n",
       "      <td>0.482472</td>\n",
       "    </tr>\n",
       "    <tr>\n",
       "      <th>1</th>\n",
       "      <td>POLG</td>\n",
       "      <td>aging</td>\n",
       "      <td>AGT</td>\n",
       "      <td>acetylcholine</td>\n",
       "      <td>0.465896</td>\n",
       "    </tr>\n",
       "    <tr>\n",
       "      <th>2</th>\n",
       "      <td>POLG</td>\n",
       "      <td>aging</td>\n",
       "      <td>TIMP1</td>\n",
       "      <td>methionine</td>\n",
       "      <td>0.461928</td>\n",
       "    </tr>\n",
       "    <tr>\n",
       "      <th>3</th>\n",
       "      <td>POLG</td>\n",
       "      <td>aging</td>\n",
       "      <td>CCN2</td>\n",
       "      <td>methionine</td>\n",
       "      <td>0.452857</td>\n",
       "    </tr>\n",
       "    <tr>\n",
       "      <th>4</th>\n",
       "      <td>POLG</td>\n",
       "      <td>DNA biosynthetic process</td>\n",
       "      <td>CCN2</td>\n",
       "      <td>methionine</td>\n",
       "      <td>0.447615</td>\n",
       "    </tr>\n",
       "  </tbody>\n",
       "</table>\n",
       "</div>"
      ],
      "text/plain": [
       "  n1 - name                 n2 - name  n3 - name      n4 - name      score\n",
       "0       POLG                     aging        ADA      adenosine  0.482472\n",
       "1       POLG                     aging        AGT  acetylcholine  0.465896\n",
       "2       POLG                     aging      TIMP1     methionine  0.461928\n",
       "3       POLG                     aging       CCN2     methionine  0.452857\n",
       "4       POLG  DNA biosynthetic process       CCN2     methionine  0.447615"
      ]
     },
     "metadata": {},
     "output_type": "display_data"
    },
    {
     "data": {
      "text/html": [
       "<h3>hypogonadotropic hypogonadism associated with</h3>"
      ],
      "text/plain": [
       "<IPython.core.display.HTML object>"
      ]
     },
     "metadata": {},
     "output_type": "display_data"
    },
    {
     "data": {
      "text/html": [
       "<a href=http://robokop.renci.org/simple/view/c4d24d07-84d3-4f08-b3fc-0cfcc0c2fce6>View Answer in ROBOKOP</a>"
      ],
      "text/plain": [
       "<IPython.core.display.HTML object>"
      ]
     },
     "metadata": {},
     "output_type": "display_data"
    },
    {
     "data": {
      "text/html": [
       "<div>\n",
       "<style>\n",
       "    .dataframe thead tr:only-child th {\n",
       "        text-align: right;\n",
       "    }\n",
       "\n",
       "    .dataframe thead th {\n",
       "        text-align: left;\n",
       "    }\n",
       "\n",
       "    .dataframe tbody tr th {\n",
       "        vertical-align: top;\n",
       "    }\n",
       "</style>\n",
       "<table border=\"1\" class=\"dataframe\">\n",
       "  <thead>\n",
       "    <tr style=\"text-align: right;\">\n",
       "      <th></th>\n",
       "      <th>n1 - name</th>\n",
       "      <th>n2 - name</th>\n",
       "      <th>n3 - name</th>\n",
       "      <th>n4 - name</th>\n",
       "      <th>score</th>\n",
       "    </tr>\n",
       "  </thead>\n",
       "  <tbody>\n",
       "    <tr>\n",
       "      <th>0</th>\n",
       "      <td>GH1</td>\n",
       "      <td>prolactin receptor binding</td>\n",
       "      <td>PRL</td>\n",
       "      <td>bromocriptine</td>\n",
       "      <td>0.495242</td>\n",
       "    </tr>\n",
       "    <tr>\n",
       "      <th>1</th>\n",
       "      <td>GH1</td>\n",
       "      <td>response to estradiol</td>\n",
       "      <td>PRL</td>\n",
       "      <td>bromocriptine</td>\n",
       "      <td>0.438092</td>\n",
       "    </tr>\n",
       "    <tr>\n",
       "      <th>2</th>\n",
       "      <td>GH1</td>\n",
       "      <td>JAK-STAT cascade involved in growth hormone si...</td>\n",
       "      <td>PRL</td>\n",
       "      <td>bromocriptine</td>\n",
       "      <td>0.412268</td>\n",
       "    </tr>\n",
       "    <tr>\n",
       "      <th>3</th>\n",
       "      <td>GH1</td>\n",
       "      <td>response to nutrient levels</td>\n",
       "      <td>PRL</td>\n",
       "      <td>bromocriptine</td>\n",
       "      <td>0.412268</td>\n",
       "    </tr>\n",
       "    <tr>\n",
       "      <th>4</th>\n",
       "      <td>GH1</td>\n",
       "      <td>positive regulation of JAK-STAT cascade</td>\n",
       "      <td>PRL</td>\n",
       "      <td>bromocriptine</td>\n",
       "      <td>0.412268</td>\n",
       "    </tr>\n",
       "  </tbody>\n",
       "</table>\n",
       "</div>"
      ],
      "text/plain": [
       "  n1 - name                                          n2 - name  n3 - name   \\\n",
       "0        GH1                         prolactin receptor binding        PRL   \n",
       "1        GH1                              response to estradiol        PRL   \n",
       "2        GH1  JAK-STAT cascade involved in growth hormone si...        PRL   \n",
       "3        GH1                        response to nutrient levels        PRL   \n",
       "4        GH1            positive regulation of JAK-STAT cascade        PRL   \n",
       "\n",
       "      n4 - name      score  \n",
       "0  bromocriptine  0.495242  \n",
       "1  bromocriptine  0.438092  \n",
       "2  bromocriptine  0.412268  \n",
       "3  bromocriptine  0.412268  \n",
       "4  bromocriptine  0.412268  "
      ]
     },
     "metadata": {},
     "output_type": "display_data"
    },
    {
     "data": {
      "text/html": [
       "<h3>metabolic disease with dementia</h3>"
      ],
      "text/plain": [
       "<IPython.core.display.HTML object>"
      ]
     },
     "metadata": {},
     "output_type": "display_data"
    },
    {
     "data": {
      "text/html": [
       "<a href=http://robokop.renci.org/simple/view/ef0f2413-4f0d-4912-8ac4-f3ccf1f41e01>View Answer in ROBOKOP</a>"
      ],
      "text/plain": [
       "<IPython.core.display.HTML object>"
      ]
     },
     "metadata": {},
     "output_type": "display_data"
    },
    {
     "data": {
      "text/html": [
       "<div>\n",
       "<style>\n",
       "    .dataframe thead tr:only-child th {\n",
       "        text-align: right;\n",
       "    }\n",
       "\n",
       "    .dataframe thead th {\n",
       "        text-align: left;\n",
       "    }\n",
       "\n",
       "    .dataframe tbody tr th {\n",
       "        vertical-align: top;\n",
       "    }\n",
       "</style>\n",
       "<table border=\"1\" class=\"dataframe\">\n",
       "  <thead>\n",
       "    <tr style=\"text-align: right;\">\n",
       "      <th></th>\n",
       "      <th>n1 - name</th>\n",
       "      <th>n2 - name</th>\n",
       "      <th>n3 - name</th>\n",
       "      <th>n4 - name</th>\n",
       "      <th>score</th>\n",
       "    </tr>\n",
       "  </thead>\n",
       "  <tbody>\n",
       "    <tr>\n",
       "      <th>0</th>\n",
       "      <td>CP</td>\n",
       "      <td>copper ion binding</td>\n",
       "      <td>SNCA</td>\n",
       "      <td>rotenone</td>\n",
       "      <td>0.321276</td>\n",
       "    </tr>\n",
       "    <tr>\n",
       "      <th>1</th>\n",
       "      <td>CP</td>\n",
       "      <td>post-translational protein modification</td>\n",
       "      <td>FGF23</td>\n",
       "      <td>prostaglandin E2</td>\n",
       "      <td>0.311950</td>\n",
       "    </tr>\n",
       "    <tr>\n",
       "      <th>2</th>\n",
       "      <td>NPC1</td>\n",
       "      <td>cholesterol metabolic process</td>\n",
       "      <td>STAR</td>\n",
       "      <td>bucladesine</td>\n",
       "      <td>0.296916</td>\n",
       "    </tr>\n",
       "    <tr>\n",
       "      <th>3</th>\n",
       "      <td>NPC1</td>\n",
       "      <td>cholesterol homeostasis</td>\n",
       "      <td>SIRT1</td>\n",
       "      <td>nicotinamide</td>\n",
       "      <td>0.294366</td>\n",
       "    </tr>\n",
       "    <tr>\n",
       "      <th>4</th>\n",
       "      <td>NPC1</td>\n",
       "      <td>intracellular cholesterol transport</td>\n",
       "      <td>STAR</td>\n",
       "      <td>bucladesine</td>\n",
       "      <td>0.294187</td>\n",
       "    </tr>\n",
       "  </tbody>\n",
       "</table>\n",
       "</div>"
      ],
      "text/plain": [
       "  n1 - name                                n2 - name  n3 - name   \\\n",
       "0         CP                       copper ion binding       SNCA   \n",
       "1         CP  post-translational protein modification      FGF23   \n",
       "2       NPC1            cholesterol metabolic process       STAR   \n",
       "3       NPC1                  cholesterol homeostasis      SIRT1   \n",
       "4       NPC1      intracellular cholesterol transport       STAR   \n",
       "\n",
       "         n4 - name      score  \n",
       "0          rotenone  0.321276  \n",
       "1  prostaglandin E2  0.311950  \n",
       "2       bucladesine  0.296916  \n",
       "3      nicotinamide  0.294366  \n",
       "4       bucladesine  0.294187  "
      ]
     },
     "metadata": {},
     "output_type": "display_data"
    },
    {
     "data": {
      "text/html": [
       "<h3>primary immunodeficiency due to a genetic</h3>"
      ],
      "text/plain": [
       "<IPython.core.display.HTML object>"
      ]
     },
     "metadata": {},
     "output_type": "display_data"
    },
    {
     "data": {
      "text/html": [
       "<a href=http://robokop.renci.org/simple/view/9aade4b3-a796-4fa0-b795-e174740ba84e>View Answer in ROBOKOP</a>"
      ],
      "text/plain": [
       "<IPython.core.display.HTML object>"
      ]
     },
     "metadata": {},
     "output_type": "display_data"
    },
    {
     "data": {
      "text/html": [
       "<div>\n",
       "<style>\n",
       "    .dataframe thead tr:only-child th {\n",
       "        text-align: right;\n",
       "    }\n",
       "\n",
       "    .dataframe thead th {\n",
       "        text-align: left;\n",
       "    }\n",
       "\n",
       "    .dataframe tbody tr th {\n",
       "        vertical-align: top;\n",
       "    }\n",
       "</style>\n",
       "<table border=\"1\" class=\"dataframe\">\n",
       "  <thead>\n",
       "    <tr style=\"text-align: right;\">\n",
       "      <th></th>\n",
       "      <th>n1 - name</th>\n",
       "      <th>n2 - name</th>\n",
       "      <th>n3 - name</th>\n",
       "      <th>n4 - name</th>\n",
       "      <th>score</th>\n",
       "    </tr>\n",
       "  </thead>\n",
       "  <tbody>\n",
       "    <tr>\n",
       "      <th>0</th>\n",
       "      <td>STAT1</td>\n",
       "      <td>regulation of apoptotic process</td>\n",
       "      <td>CASP4</td>\n",
       "      <td>capsaicin</td>\n",
       "      <td>0.373437</td>\n",
       "    </tr>\n",
       "    <tr>\n",
       "      <th>1</th>\n",
       "      <td>CXCR4</td>\n",
       "      <td>chemotaxis</td>\n",
       "      <td>CXCL12</td>\n",
       "      <td>genistein</td>\n",
       "      <td>0.370998</td>\n",
       "    </tr>\n",
       "    <tr>\n",
       "      <th>2</th>\n",
       "      <td>STAT1</td>\n",
       "      <td>tumor necrosis factor receptor binding</td>\n",
       "      <td>TNFSF10</td>\n",
       "      <td>capsaicin</td>\n",
       "      <td>0.370880</td>\n",
       "    </tr>\n",
       "    <tr>\n",
       "      <th>3</th>\n",
       "      <td>STAT1</td>\n",
       "      <td>cytokine-mediated signaling pathway</td>\n",
       "      <td>CCL11</td>\n",
       "      <td>ozone</td>\n",
       "      <td>0.369541</td>\n",
       "    </tr>\n",
       "    <tr>\n",
       "      <th>4</th>\n",
       "      <td>STAT1</td>\n",
       "      <td>endothelial cell migration</td>\n",
       "      <td>CALCA</td>\n",
       "      <td>capsaicin</td>\n",
       "      <td>0.368865</td>\n",
       "    </tr>\n",
       "  </tbody>\n",
       "</table>\n",
       "</div>"
      ],
      "text/plain": [
       "  n1 - name                               n2 - name  n3 - name  n4 - name   \\\n",
       "0      STAT1         regulation of apoptotic process      CASP4  capsaicin   \n",
       "1      CXCR4                              chemotaxis     CXCL12  genistein   \n",
       "2      STAT1  tumor necrosis factor receptor binding    TNFSF10  capsaicin   \n",
       "3      STAT1     cytokine-mediated signaling pathway      CCL11      ozone   \n",
       "4      STAT1              endothelial cell migration      CALCA  capsaicin   \n",
       "\n",
       "      score  \n",
       "0  0.373437  \n",
       "1  0.370998  \n",
       "2  0.370880  \n",
       "3  0.369541  \n",
       "4  0.368865  "
      ]
     },
     "metadata": {},
     "output_type": "display_data"
    },
    {
     "data": {
      "text/html": [
       "<h3>sickle cell anemia</h3>"
      ],
      "text/plain": [
       "<IPython.core.display.HTML object>"
      ]
     },
     "metadata": {},
     "output_type": "display_data"
    },
    {
     "data": {
      "text/html": [
       "<a href=http://robokop.renci.org/simple/view/22eebb40-06e3-467e-9b7e-df478314faf4>View Answer in ROBOKOP</a>"
      ],
      "text/plain": [
       "<IPython.core.display.HTML object>"
      ]
     },
     "metadata": {},
     "output_type": "display_data"
    },
    {
     "data": {
      "text/html": [
       "<div>\n",
       "<style>\n",
       "    .dataframe thead tr:only-child th {\n",
       "        text-align: right;\n",
       "    }\n",
       "\n",
       "    .dataframe thead th {\n",
       "        text-align: left;\n",
       "    }\n",
       "\n",
       "    .dataframe tbody tr th {\n",
       "        vertical-align: top;\n",
       "    }\n",
       "</style>\n",
       "<table border=\"1\" class=\"dataframe\">\n",
       "  <thead>\n",
       "    <tr style=\"text-align: right;\">\n",
       "      <th></th>\n",
       "      <th>n1 - name</th>\n",
       "      <th>n2 - name</th>\n",
       "      <th>n3 - name</th>\n",
       "      <th>n4 - name</th>\n",
       "      <th>score</th>\n",
       "    </tr>\n",
       "  </thead>\n",
       "  <tbody>\n",
       "    <tr>\n",
       "      <th>0</th>\n",
       "      <td>UGT1A10</td>\n",
       "      <td>glucuronosyltransferase activity</td>\n",
       "      <td>UGT1A8</td>\n",
       "      <td>codeine</td>\n",
       "      <td>0.579648</td>\n",
       "    </tr>\n",
       "    <tr>\n",
       "      <th>1</th>\n",
       "      <td>UGT1A8</td>\n",
       "      <td>glucuronosyltransferase activity</td>\n",
       "      <td>UGT1A10</td>\n",
       "      <td>codeine</td>\n",
       "      <td>0.579648</td>\n",
       "    </tr>\n",
       "    <tr>\n",
       "      <th>2</th>\n",
       "      <td>UGT1A8</td>\n",
       "      <td>glucuronosyltransferase activity</td>\n",
       "      <td>UGT1A3</td>\n",
       "      <td>codeine</td>\n",
       "      <td>0.579283</td>\n",
       "    </tr>\n",
       "    <tr>\n",
       "      <th>3</th>\n",
       "      <td>UGT1A3</td>\n",
       "      <td>glucuronosyltransferase activity</td>\n",
       "      <td>UGT1A8</td>\n",
       "      <td>codeine</td>\n",
       "      <td>0.579250</td>\n",
       "    </tr>\n",
       "    <tr>\n",
       "      <th>4</th>\n",
       "      <td>UGT1A10</td>\n",
       "      <td>glucuronosyltransferase activity</td>\n",
       "      <td>UGT1A3</td>\n",
       "      <td>codeine</td>\n",
       "      <td>0.579250</td>\n",
       "    </tr>\n",
       "  </tbody>\n",
       "</table>\n",
       "</div>"
      ],
      "text/plain": [
       "  n1 - name                         n2 - name  n3 - name  n4 - name      score\n",
       "0    UGT1A10  glucuronosyltransferase activity     UGT1A8    codeine  0.579648\n",
       "1     UGT1A8  glucuronosyltransferase activity    UGT1A10    codeine  0.579648\n",
       "2     UGT1A8  glucuronosyltransferase activity     UGT1A3    codeine  0.579283\n",
       "3     UGT1A3  glucuronosyltransferase activity     UGT1A8    codeine  0.579250\n",
       "4    UGT1A10  glucuronosyltransferase activity     UGT1A3    codeine  0.579250"
      ]
     },
     "metadata": {},
     "output_type": "display_data"
    },
    {
     "data": {
      "text/html": [
       "<h3>progressive supranuclear palsy</h3>"
      ],
      "text/plain": [
       "<IPython.core.display.HTML object>"
      ]
     },
     "metadata": {},
     "output_type": "display_data"
    },
    {
     "data": {
      "text/html": [
       "<a href=http://robokop.renci.org/simple/view/659178ec-bc75-41f7-9386-5d63a1151f7f>View Answer in ROBOKOP</a>"
      ],
      "text/plain": [
       "<IPython.core.display.HTML object>"
      ]
     },
     "metadata": {},
     "output_type": "display_data"
    },
    {
     "data": {
      "text/html": [
       "<div>\n",
       "<style>\n",
       "    .dataframe thead tr:only-child th {\n",
       "        text-align: right;\n",
       "    }\n",
       "\n",
       "    .dataframe thead th {\n",
       "        text-align: left;\n",
       "    }\n",
       "\n",
       "    .dataframe tbody tr th {\n",
       "        vertical-align: top;\n",
       "    }\n",
       "</style>\n",
       "<table border=\"1\" class=\"dataframe\">\n",
       "  <thead>\n",
       "    <tr style=\"text-align: right;\">\n",
       "      <th></th>\n",
       "      <th>n1 - name</th>\n",
       "      <th>n2 - name</th>\n",
       "      <th>n3 - name</th>\n",
       "      <th>n4 - name</th>\n",
       "      <th>score</th>\n",
       "    </tr>\n",
       "  </thead>\n",
       "  <tbody>\n",
       "    <tr>\n",
       "      <th>0</th>\n",
       "      <td>EIF2AK3</td>\n",
       "      <td>enzyme binding</td>\n",
       "      <td>CBS</td>\n",
       "      <td>nitric oxide</td>\n",
       "      <td>0.477976</td>\n",
       "    </tr>\n",
       "    <tr>\n",
       "      <th>1</th>\n",
       "      <td>CBS</td>\n",
       "      <td>oxygen binding</td>\n",
       "      <td>CBS</td>\n",
       "      <td>nitric oxide</td>\n",
       "      <td>0.474734</td>\n",
       "    </tr>\n",
       "    <tr>\n",
       "      <th>2</th>\n",
       "      <td>CBS</td>\n",
       "      <td>carbon monoxide binding</td>\n",
       "      <td>CBS</td>\n",
       "      <td>carbon monoxide</td>\n",
       "      <td>0.473565</td>\n",
       "    </tr>\n",
       "    <tr>\n",
       "      <th>3</th>\n",
       "      <td>CBS</td>\n",
       "      <td>homocysteine metabolic process</td>\n",
       "      <td>CBS</td>\n",
       "      <td>nitric oxide</td>\n",
       "      <td>0.472914</td>\n",
       "    </tr>\n",
       "    <tr>\n",
       "      <th>4</th>\n",
       "      <td>CBS</td>\n",
       "      <td>oxygen binding</td>\n",
       "      <td>CBS</td>\n",
       "      <td>carbon monoxide</td>\n",
       "      <td>0.472589</td>\n",
       "    </tr>\n",
       "  </tbody>\n",
       "</table>\n",
       "</div>"
      ],
      "text/plain": [
       "  n1 - name                       n2 - name  n3 - name        n4 - name   \\\n",
       "0    EIF2AK3                  enzyme binding        CBS     nitric oxide   \n",
       "1        CBS                  oxygen binding        CBS     nitric oxide   \n",
       "2        CBS         carbon monoxide binding        CBS  carbon monoxide   \n",
       "3        CBS  homocysteine metabolic process        CBS     nitric oxide   \n",
       "4        CBS                  oxygen binding        CBS  carbon monoxide   \n",
       "\n",
       "      score  \n",
       "0  0.477976  \n",
       "1  0.474734  \n",
       "2  0.473565  \n",
       "3  0.472914  \n",
       "4  0.472589  "
      ]
     },
     "metadata": {},
     "output_type": "display_data"
    },
    {
     "data": {
      "text/html": [
       "<h3>endogenous depression</h3>"
      ],
      "text/plain": [
       "<IPython.core.display.HTML object>"
      ]
     },
     "metadata": {},
     "output_type": "display_data"
    },
    {
     "data": {
      "text/html": [
       "<a href=http://robokop.renci.org/simple/view/f09ea7d9-12d9-4829-a50c-0ba699a0cb6e>View Answer in ROBOKOP</a>"
      ],
      "text/plain": [
       "<IPython.core.display.HTML object>"
      ]
     },
     "metadata": {},
     "output_type": "display_data"
    },
    {
     "data": {
      "text/html": [
       "<div>\n",
       "<style>\n",
       "    .dataframe thead tr:only-child th {\n",
       "        text-align: right;\n",
       "    }\n",
       "\n",
       "    .dataframe thead th {\n",
       "        text-align: left;\n",
       "    }\n",
       "\n",
       "    .dataframe tbody tr th {\n",
       "        vertical-align: top;\n",
       "    }\n",
       "</style>\n",
       "<table border=\"1\" class=\"dataframe\">\n",
       "  <thead>\n",
       "    <tr style=\"text-align: right;\">\n",
       "      <th></th>\n",
       "      <th>n1 - name</th>\n",
       "      <th>n2 - name</th>\n",
       "      <th>n3 - name</th>\n",
       "      <th>n4 - name</th>\n",
       "      <th>score</th>\n",
       "    </tr>\n",
       "  </thead>\n",
       "  <tbody>\n",
       "    <tr>\n",
       "      <th>0</th>\n",
       "      <td>TPH2</td>\n",
       "      <td>circadian rhythm</td>\n",
       "      <td>TPH2</td>\n",
       "      <td>melatonin</td>\n",
       "      <td>0.570765</td>\n",
       "    </tr>\n",
       "    <tr>\n",
       "      <th>1</th>\n",
       "      <td>TPH2</td>\n",
       "      <td>serotonin biosynthetic process</td>\n",
       "      <td>TPH1</td>\n",
       "      <td>L-tryptophan</td>\n",
       "      <td>0.560799</td>\n",
       "    </tr>\n",
       "    <tr>\n",
       "      <th>2</th>\n",
       "      <td>TPH2</td>\n",
       "      <td>circadian rhythm</td>\n",
       "      <td>TPH1</td>\n",
       "      <td>L-tryptophan</td>\n",
       "      <td>0.560684</td>\n",
       "    </tr>\n",
       "    <tr>\n",
       "      <th>3</th>\n",
       "      <td>TPH2</td>\n",
       "      <td>tryptophan 5-monooxygenase activity</td>\n",
       "      <td>TPH1</td>\n",
       "      <td>L-tryptophan</td>\n",
       "      <td>0.533777</td>\n",
       "    </tr>\n",
       "    <tr>\n",
       "      <th>4</th>\n",
       "      <td>TPH2</td>\n",
       "      <td>serotonin biosynthetic process</td>\n",
       "      <td>TPH2</td>\n",
       "      <td>L-tryptophan</td>\n",
       "      <td>0.527742</td>\n",
       "    </tr>\n",
       "  </tbody>\n",
       "</table>\n",
       "</div>"
      ],
      "text/plain": [
       "  n1 - name                            n2 - name  n3 - name     n4 - name   \\\n",
       "0       TPH2                     circadian rhythm       TPH2     melatonin   \n",
       "1       TPH2       serotonin biosynthetic process       TPH1  L-tryptophan   \n",
       "2       TPH2                     circadian rhythm       TPH1  L-tryptophan   \n",
       "3       TPH2  tryptophan 5-monooxygenase activity       TPH1  L-tryptophan   \n",
       "4       TPH2       serotonin biosynthetic process       TPH2  L-tryptophan   \n",
       "\n",
       "      score  \n",
       "0  0.570765  \n",
       "1  0.560799  \n",
       "2  0.560684  \n",
       "3  0.533777  \n",
       "4  0.527742  "
      ]
     },
     "metadata": {},
     "output_type": "display_data"
    },
    {
     "data": {
      "text/html": [
       "<h3>non-acquired combined pituitary hormone defici.</h3>"
      ],
      "text/plain": [
       "<IPython.core.display.HTML object>"
      ]
     },
     "metadata": {},
     "output_type": "display_data"
    },
    {
     "data": {
      "text/html": [
       "<a href=http://robokop.renci.org/simple/view/487ad3c0-4ffd-4a60-a5d1-2c421a308be7>View Answer in ROBOKOP</a>"
      ],
      "text/plain": [
       "<IPython.core.display.HTML object>"
      ]
     },
     "metadata": {},
     "output_type": "display_data"
    },
    {
     "data": {
      "text/html": [
       "<div>\n",
       "<style>\n",
       "    .dataframe thead tr:only-child th {\n",
       "        text-align: right;\n",
       "    }\n",
       "\n",
       "    .dataframe thead th {\n",
       "        text-align: left;\n",
       "    }\n",
       "\n",
       "    .dataframe tbody tr th {\n",
       "        vertical-align: top;\n",
       "    }\n",
       "</style>\n",
       "<table border=\"1\" class=\"dataframe\">\n",
       "  <thead>\n",
       "    <tr style=\"text-align: right;\">\n",
       "      <th></th>\n",
       "      <th>n1 - name</th>\n",
       "      <th>n2 - name</th>\n",
       "      <th>n3 - name</th>\n",
       "      <th>n4 - name</th>\n",
       "      <th>score</th>\n",
       "    </tr>\n",
       "  </thead>\n",
       "  <tbody>\n",
       "    <tr>\n",
       "      <th>0</th>\n",
       "      <td>GH1</td>\n",
       "      <td>prolactin receptor binding</td>\n",
       "      <td>PRL</td>\n",
       "      <td>bromocriptine</td>\n",
       "      <td>0.495242</td>\n",
       "    </tr>\n",
       "    <tr>\n",
       "      <th>1</th>\n",
       "      <td>GH1</td>\n",
       "      <td>response to estradiol</td>\n",
       "      <td>PRL</td>\n",
       "      <td>bromocriptine</td>\n",
       "      <td>0.438092</td>\n",
       "    </tr>\n",
       "    <tr>\n",
       "      <th>2</th>\n",
       "      <td>GH1</td>\n",
       "      <td>positive regulation of JAK-STAT cascade</td>\n",
       "      <td>PRL</td>\n",
       "      <td>bromocriptine</td>\n",
       "      <td>0.412268</td>\n",
       "    </tr>\n",
       "    <tr>\n",
       "      <th>3</th>\n",
       "      <td>GH1</td>\n",
       "      <td>response to nutrient levels</td>\n",
       "      <td>PRL</td>\n",
       "      <td>bromocriptine</td>\n",
       "      <td>0.412268</td>\n",
       "    </tr>\n",
       "    <tr>\n",
       "      <th>4</th>\n",
       "      <td>GH1</td>\n",
       "      <td>JAK-STAT cascade involved in growth hormone si...</td>\n",
       "      <td>PRL</td>\n",
       "      <td>bromocriptine</td>\n",
       "      <td>0.412268</td>\n",
       "    </tr>\n",
       "  </tbody>\n",
       "</table>\n",
       "</div>"
      ],
      "text/plain": [
       "  n1 - name                                          n2 - name  n3 - name   \\\n",
       "0        GH1                         prolactin receptor binding        PRL   \n",
       "1        GH1                              response to estradiol        PRL   \n",
       "2        GH1            positive regulation of JAK-STAT cascade        PRL   \n",
       "3        GH1                        response to nutrient levels        PRL   \n",
       "4        GH1  JAK-STAT cascade involved in growth hormone si...        PRL   \n",
       "\n",
       "      n4 - name      score  \n",
       "0  bromocriptine  0.495242  \n",
       "1  bromocriptine  0.438092  \n",
       "2  bromocriptine  0.412268  \n",
       "3  bromocriptine  0.412268  \n",
       "4  bromocriptine  0.412268  "
      ]
     },
     "metadata": {},
     "output_type": "display_data"
    },
    {
     "data": {
      "text/html": [
       "<h3>Meniere disease</h3>"
      ],
      "text/plain": [
       "<IPython.core.display.HTML object>"
      ]
     },
     "metadata": {},
     "output_type": "display_data"
    },
    {
     "data": {
      "text/html": [
       "<a href=http://robokop.renci.org/simple/view/3a42d07e-7475-4e87-9c6d-cf0fe2b1b219>View Answer in ROBOKOP</a>"
      ],
      "text/plain": [
       "<IPython.core.display.HTML object>"
      ]
     },
     "metadata": {},
     "output_type": "display_data"
    },
    {
     "data": {
      "text/html": [
       "<div>\n",
       "<style>\n",
       "    .dataframe thead tr:only-child th {\n",
       "        text-align: right;\n",
       "    }\n",
       "\n",
       "    .dataframe thead th {\n",
       "        text-align: left;\n",
       "    }\n",
       "\n",
       "    .dataframe tbody tr th {\n",
       "        vertical-align: top;\n",
       "    }\n",
       "</style>\n",
       "<table border=\"1\" class=\"dataframe\">\n",
       "  <thead>\n",
       "    <tr style=\"text-align: right;\">\n",
       "      <th></th>\n",
       "      <th>n1 - name</th>\n",
       "      <th>n2 - name</th>\n",
       "      <th>n3 - name</th>\n",
       "      <th>n4 - name</th>\n",
       "      <th>score</th>\n",
       "    </tr>\n",
       "  </thead>\n",
       "  <tbody>\n",
       "    <tr>\n",
       "      <th>0</th>\n",
       "      <td>AQP3</td>\n",
       "      <td>water channel activity</td>\n",
       "      <td>AQP3</td>\n",
       "      <td>glycerol</td>\n",
       "      <td>0.526878</td>\n",
       "    </tr>\n",
       "    <tr>\n",
       "      <th>1</th>\n",
       "      <td>AQP3</td>\n",
       "      <td>water transport</td>\n",
       "      <td>AQP3</td>\n",
       "      <td>glycerol</td>\n",
       "      <td>0.521391</td>\n",
       "    </tr>\n",
       "    <tr>\n",
       "      <th>2</th>\n",
       "      <td>AQP3</td>\n",
       "      <td>excretion</td>\n",
       "      <td>AQP3</td>\n",
       "      <td>glycerol</td>\n",
       "      <td>0.521142</td>\n",
       "    </tr>\n",
       "    <tr>\n",
       "      <th>3</th>\n",
       "      <td>AQP1</td>\n",
       "      <td>water channel activity</td>\n",
       "      <td>AQP3</td>\n",
       "      <td>glycerol</td>\n",
       "      <td>0.520775</td>\n",
       "    </tr>\n",
       "    <tr>\n",
       "      <th>4</th>\n",
       "      <td>AQP2</td>\n",
       "      <td>water channel activity</td>\n",
       "      <td>AQP3</td>\n",
       "      <td>glycerol</td>\n",
       "      <td>0.519247</td>\n",
       "    </tr>\n",
       "  </tbody>\n",
       "</table>\n",
       "</div>"
      ],
      "text/plain": [
       "  n1 - name               n2 - name  n3 - name  n4 - name      score\n",
       "0       AQP3  water channel activity       AQP3   glycerol  0.526878\n",
       "1       AQP3         water transport       AQP3   glycerol  0.521391\n",
       "2       AQP3               excretion       AQP3   glycerol  0.521142\n",
       "3       AQP1  water channel activity       AQP3   glycerol  0.520775\n",
       "4       AQP2  water channel activity       AQP3   glycerol  0.519247"
      ]
     },
     "metadata": {},
     "output_type": "display_data"
    },
    {
     "data": {
      "text/html": [
       "<h3>mitochondrial myopathy</h3>"
      ],
      "text/plain": [
       "<IPython.core.display.HTML object>"
      ]
     },
     "metadata": {},
     "output_type": "display_data"
    },
    {
     "data": {
      "text/html": [
       "<a href=http://robokop.renci.org/simple/view/39615839-a82d-4da6-a998-fb0facb8631f>View Answer in ROBOKOP</a>"
      ],
      "text/plain": [
       "<IPython.core.display.HTML object>"
      ]
     },
     "metadata": {},
     "output_type": "display_data"
    },
    {
     "data": {
      "text/html": [
       "<div>\n",
       "<style>\n",
       "    .dataframe thead tr:only-child th {\n",
       "        text-align: right;\n",
       "    }\n",
       "\n",
       "    .dataframe thead th {\n",
       "        text-align: left;\n",
       "    }\n",
       "\n",
       "    .dataframe tbody tr th {\n",
       "        vertical-align: top;\n",
       "    }\n",
       "</style>\n",
       "<table border=\"1\" class=\"dataframe\">\n",
       "  <thead>\n",
       "    <tr style=\"text-align: right;\">\n",
       "      <th></th>\n",
       "      <th>n1 - name</th>\n",
       "      <th>n2 - name</th>\n",
       "      <th>n3 - name</th>\n",
       "      <th>n4 - name</th>\n",
       "      <th>score</th>\n",
       "    </tr>\n",
       "  </thead>\n",
       "  <tbody>\n",
       "    <tr>\n",
       "      <th>0</th>\n",
       "      <td>NDUFS1</td>\n",
       "      <td>NADH dehydrogenase (ubiquinone) activity</td>\n",
       "      <td>NDUFS4</td>\n",
       "      <td>rotenone</td>\n",
       "      <td>0.601965</td>\n",
       "    </tr>\n",
       "    <tr>\n",
       "      <th>1</th>\n",
       "      <td>NDUFS1</td>\n",
       "      <td>reactive oxygen species metabolic process</td>\n",
       "      <td>NDUFS4</td>\n",
       "      <td>rotenone</td>\n",
       "      <td>0.559122</td>\n",
       "    </tr>\n",
       "    <tr>\n",
       "      <th>2</th>\n",
       "      <td>MT-ND4</td>\n",
       "      <td>aging</td>\n",
       "      <td>DLD</td>\n",
       "      <td>rotenone</td>\n",
       "      <td>0.556146</td>\n",
       "    </tr>\n",
       "    <tr>\n",
       "      <th>3</th>\n",
       "      <td>NDUFS1</td>\n",
       "      <td>cellular respiration</td>\n",
       "      <td>NDUFS4</td>\n",
       "      <td>rotenone</td>\n",
       "      <td>0.554958</td>\n",
       "    </tr>\n",
       "    <tr>\n",
       "      <th>4</th>\n",
       "      <td>NDUFS2</td>\n",
       "      <td>NADH dehydrogenase (ubiquinone) activity</td>\n",
       "      <td>NDUFS4</td>\n",
       "      <td>rotenone</td>\n",
       "      <td>0.549713</td>\n",
       "    </tr>\n",
       "  </tbody>\n",
       "</table>\n",
       "</div>"
      ],
      "text/plain": [
       "  n1 - name                                  n2 - name  n3 - name  n4 - name   \\\n",
       "0     NDUFS1   NADH dehydrogenase (ubiquinone) activity     NDUFS4   rotenone   \n",
       "1     NDUFS1  reactive oxygen species metabolic process     NDUFS4   rotenone   \n",
       "2     MT-ND4                                      aging        DLD   rotenone   \n",
       "3     NDUFS1                       cellular respiration     NDUFS4   rotenone   \n",
       "4     NDUFS2   NADH dehydrogenase (ubiquinone) activity     NDUFS4   rotenone   \n",
       "\n",
       "      score  \n",
       "0  0.601965  \n",
       "1  0.559122  \n",
       "2  0.556146  \n",
       "3  0.554958  \n",
       "4  0.549713  "
      ]
     },
     "metadata": {},
     "output_type": "display_data"
    },
    {
     "data": {
      "text/html": [
       "<h3>arteriovenous malformations of the brain</h3>"
      ],
      "text/plain": [
       "<IPython.core.display.HTML object>"
      ]
     },
     "metadata": {},
     "output_type": "display_data"
    },
    {
     "data": {
      "text/html": [
       "<a href=http://robokop.renci.org/simple/view/268d8a58-65b8-4f60-a498-4f48c4d6d18f>View Answer in ROBOKOP</a>"
      ],
      "text/plain": [
       "<IPython.core.display.HTML object>"
      ]
     },
     "metadata": {},
     "output_type": "display_data"
    },
    {
     "data": {
      "text/html": [
       "<div>\n",
       "<style>\n",
       "    .dataframe thead tr:only-child th {\n",
       "        text-align: right;\n",
       "    }\n",
       "\n",
       "    .dataframe thead th {\n",
       "        text-align: left;\n",
       "    }\n",
       "\n",
       "    .dataframe tbody tr th {\n",
       "        vertical-align: top;\n",
       "    }\n",
       "</style>\n",
       "<table border=\"1\" class=\"dataframe\">\n",
       "  <thead>\n",
       "    <tr style=\"text-align: right;\">\n",
       "      <th></th>\n",
       "      <th>n1 - name</th>\n",
       "      <th>n2 - name</th>\n",
       "      <th>n3 - name</th>\n",
       "      <th>n4 - name</th>\n",
       "      <th>score</th>\n",
       "    </tr>\n",
       "  </thead>\n",
       "  <tbody>\n",
       "    <tr>\n",
       "      <th>0</th>\n",
       "      <td>ENG</td>\n",
       "      <td>angiogenesis</td>\n",
       "      <td>ANGPTL4</td>\n",
       "      <td>dimethyl sulfoxide</td>\n",
       "      <td>0.428723</td>\n",
       "    </tr>\n",
       "    <tr>\n",
       "      <th>1</th>\n",
       "      <td>SMAD4</td>\n",
       "      <td>response to hypoxia</td>\n",
       "      <td>ANGPTL4</td>\n",
       "      <td>dimethyl sulfoxide</td>\n",
       "      <td>0.427306</td>\n",
       "    </tr>\n",
       "    <tr>\n",
       "      <th>2</th>\n",
       "      <td>ENG</td>\n",
       "      <td>angiogenesis</td>\n",
       "      <td>ANGPTL4</td>\n",
       "      <td>glycerol</td>\n",
       "      <td>0.423983</td>\n",
       "    </tr>\n",
       "    <tr>\n",
       "      <th>3</th>\n",
       "      <td>ENG</td>\n",
       "      <td>response to drug</td>\n",
       "      <td>POR</td>\n",
       "      <td>dimethyl sulfoxide</td>\n",
       "      <td>0.405035</td>\n",
       "    </tr>\n",
       "    <tr>\n",
       "      <th>4</th>\n",
       "      <td>ACVRL1</td>\n",
       "      <td>angiogenesis</td>\n",
       "      <td>CCN2</td>\n",
       "      <td>methionine</td>\n",
       "      <td>0.401417</td>\n",
       "    </tr>\n",
       "  </tbody>\n",
       "</table>\n",
       "</div>"
      ],
      "text/plain": [
       "  n1 - name            n2 - name  n3 - name           n4 - name      score\n",
       "0        ENG         angiogenesis    ANGPTL4  dimethyl sulfoxide  0.428723\n",
       "1      SMAD4  response to hypoxia    ANGPTL4  dimethyl sulfoxide  0.427306\n",
       "2        ENG         angiogenesis    ANGPTL4            glycerol  0.423983\n",
       "3        ENG     response to drug        POR  dimethyl sulfoxide  0.405035\n",
       "4     ACVRL1         angiogenesis       CCN2          methionine  0.401417"
      ]
     },
     "metadata": {},
     "output_type": "display_data"
    },
    {
     "data": {
      "text/html": [
       "<h3>agammaglobulinemia</h3>"
      ],
      "text/plain": [
       "<IPython.core.display.HTML object>"
      ]
     },
     "metadata": {},
     "output_type": "display_data"
    },
    {
     "data": {
      "text/html": [
       "<a href=http://robokop.renci.org/simple/view/b965e310-e082-42c3-a84f-b64967eceba4>View Answer in ROBOKOP</a>"
      ],
      "text/plain": [
       "<IPython.core.display.HTML object>"
      ]
     },
     "metadata": {},
     "output_type": "display_data"
    },
    {
     "data": {
      "text/html": [
       "<div>\n",
       "<style>\n",
       "    .dataframe thead tr:only-child th {\n",
       "        text-align: right;\n",
       "    }\n",
       "\n",
       "    .dataframe thead th {\n",
       "        text-align: left;\n",
       "    }\n",
       "\n",
       "    .dataframe tbody tr th {\n",
       "        vertical-align: top;\n",
       "    }\n",
       "</style>\n",
       "<table border=\"1\" class=\"dataframe\">\n",
       "  <thead>\n",
       "    <tr style=\"text-align: right;\">\n",
       "      <th></th>\n",
       "      <th>n1 - name</th>\n",
       "      <th>n2 - name</th>\n",
       "      <th>n3 - name</th>\n",
       "      <th>n4 - name</th>\n",
       "      <th>score</th>\n",
       "    </tr>\n",
       "  </thead>\n",
       "  <tbody>\n",
       "    <tr>\n",
       "      <th>0</th>\n",
       "      <td>NFKB2</td>\n",
       "      <td>aging</td>\n",
       "      <td>AGT</td>\n",
       "      <td>acetylcholine</td>\n",
       "      <td>0.492115</td>\n",
       "    </tr>\n",
       "    <tr>\n",
       "      <th>1</th>\n",
       "      <td>NFKB2</td>\n",
       "      <td>positive regulation of NF-kappaB transcription...</td>\n",
       "      <td>AGT</td>\n",
       "      <td>acetylcholine</td>\n",
       "      <td>0.486349</td>\n",
       "    </tr>\n",
       "    <tr>\n",
       "      <th>2</th>\n",
       "      <td>MYD88</td>\n",
       "      <td>positive regulation of NF-kappaB transcription...</td>\n",
       "      <td>TLR4</td>\n",
       "      <td>ozone</td>\n",
       "      <td>0.475529</td>\n",
       "    </tr>\n",
       "    <tr>\n",
       "      <th>3</th>\n",
       "      <td>MYD88</td>\n",
       "      <td>positive regulation of NF-kappaB transcription...</td>\n",
       "      <td>TLR4</td>\n",
       "      <td>nitrogen dioxide</td>\n",
       "      <td>0.475515</td>\n",
       "    </tr>\n",
       "    <tr>\n",
       "      <th>4</th>\n",
       "      <td>CD81</td>\n",
       "      <td>integrin binding</td>\n",
       "      <td>CCN2</td>\n",
       "      <td>methionine</td>\n",
       "      <td>0.453823</td>\n",
       "    </tr>\n",
       "  </tbody>\n",
       "</table>\n",
       "</div>"
      ],
      "text/plain": [
       "  n1 - name                                          n2 - name  n3 - name   \\\n",
       "0      NFKB2                                              aging        AGT   \n",
       "1      NFKB2  positive regulation of NF-kappaB transcription...        AGT   \n",
       "2      MYD88  positive regulation of NF-kappaB transcription...       TLR4   \n",
       "3      MYD88  positive regulation of NF-kappaB transcription...       TLR4   \n",
       "4       CD81                                   integrin binding       CCN2   \n",
       "\n",
       "         n4 - name      score  \n",
       "0     acetylcholine  0.492115  \n",
       "1     acetylcholine  0.486349  \n",
       "2             ozone  0.475529  \n",
       "3  nitrogen dioxide  0.475515  \n",
       "4        methionine  0.453823  "
      ]
     },
     "metadata": {},
     "output_type": "display_data"
    },
    {
     "data": {
      "text/html": [
       "<h3>rare genetic parkinsonian disorder</h3>"
      ],
      "text/plain": [
       "<IPython.core.display.HTML object>"
      ]
     },
     "metadata": {},
     "output_type": "display_data"
    },
    {
     "data": {
      "text/html": [
       "<a href=http://robokop.renci.org/simple/view/132e5d8d-15a0-472e-aa0d-2202e6dc0293>View Answer in ROBOKOP</a>"
      ],
      "text/plain": [
       "<IPython.core.display.HTML object>"
      ]
     },
     "metadata": {},
     "output_type": "display_data"
    },
    {
     "data": {
      "text/html": [
       "<div>\n",
       "<style>\n",
       "    .dataframe thead tr:only-child th {\n",
       "        text-align: right;\n",
       "    }\n",
       "\n",
       "    .dataframe thead th {\n",
       "        text-align: left;\n",
       "    }\n",
       "\n",
       "    .dataframe tbody tr th {\n",
       "        vertical-align: top;\n",
       "    }\n",
       "</style>\n",
       "<table border=\"1\" class=\"dataframe\">\n",
       "  <thead>\n",
       "    <tr style=\"text-align: right;\">\n",
       "      <th></th>\n",
       "      <th>n1 - name</th>\n",
       "      <th>n2 - name</th>\n",
       "      <th>n3 - name</th>\n",
       "      <th>n4 - name</th>\n",
       "      <th>score</th>\n",
       "    </tr>\n",
       "  </thead>\n",
       "  <tbody>\n",
       "    <tr>\n",
       "      <th>0</th>\n",
       "      <td>PARK7</td>\n",
       "      <td>negative regulation of neuron apoptotic process</td>\n",
       "      <td>SNCA</td>\n",
       "      <td>rotenone</td>\n",
       "      <td>0.395998</td>\n",
       "    </tr>\n",
       "    <tr>\n",
       "      <th>1</th>\n",
       "      <td>SNCA</td>\n",
       "      <td>negative regulation of neuron apoptotic process</td>\n",
       "      <td>PARK7</td>\n",
       "      <td>rotenone</td>\n",
       "      <td>0.394919</td>\n",
       "    </tr>\n",
       "    <tr>\n",
       "      <th>2</th>\n",
       "      <td>PINK1</td>\n",
       "      <td>negative regulation of neuron apoptotic process</td>\n",
       "      <td>SNCA</td>\n",
       "      <td>rotenone</td>\n",
       "      <td>0.393968</td>\n",
       "    </tr>\n",
       "    <tr>\n",
       "      <th>3</th>\n",
       "      <td>PARK7</td>\n",
       "      <td>cellular response to oxidative stress</td>\n",
       "      <td>SNCA</td>\n",
       "      <td>rotenone</td>\n",
       "      <td>0.387448</td>\n",
       "    </tr>\n",
       "    <tr>\n",
       "      <th>4</th>\n",
       "      <td>PINK1</td>\n",
       "      <td>negative regulation of neuron apoptotic process</td>\n",
       "      <td>PARK7</td>\n",
       "      <td>rotenone</td>\n",
       "      <td>0.386173</td>\n",
       "    </tr>\n",
       "  </tbody>\n",
       "</table>\n",
       "</div>"
      ],
      "text/plain": [
       "  n1 - name                                        n2 - name  n3 - name   \\\n",
       "0      PARK7  negative regulation of neuron apoptotic process       SNCA   \n",
       "1       SNCA  negative regulation of neuron apoptotic process      PARK7   \n",
       "2      PINK1  negative regulation of neuron apoptotic process       SNCA   \n",
       "3      PARK7            cellular response to oxidative stress       SNCA   \n",
       "4      PINK1  negative regulation of neuron apoptotic process      PARK7   \n",
       "\n",
       "  n4 - name      score  \n",
       "0   rotenone  0.395998  \n",
       "1   rotenone  0.394919  \n",
       "2   rotenone  0.393968  \n",
       "3   rotenone  0.387448  \n",
       "4   rotenone  0.386173  "
      ]
     },
     "metadata": {},
     "output_type": "display_data"
    },
    {
     "data": {
      "text/html": [
       "<h3>patent ductus arteriosus</h3>"
      ],
      "text/plain": [
       "<IPython.core.display.HTML object>"
      ]
     },
     "metadata": {},
     "output_type": "display_data"
    },
    {
     "data": {
      "text/html": [
       "<a href=http://robokop.renci.org/simple/view/84975576-f363-4a8a-8fa4-ed0ffbd7cf9d>View Answer in ROBOKOP</a>"
      ],
      "text/plain": [
       "<IPython.core.display.HTML object>"
      ]
     },
     "metadata": {},
     "output_type": "display_data"
    },
    {
     "data": {
      "text/html": [
       "<div>\n",
       "<style>\n",
       "    .dataframe thead tr:only-child th {\n",
       "        text-align: right;\n",
       "    }\n",
       "\n",
       "    .dataframe thead th {\n",
       "        text-align: left;\n",
       "    }\n",
       "\n",
       "    .dataframe tbody tr th {\n",
       "        vertical-align: top;\n",
       "    }\n",
       "</style>\n",
       "<table border=\"1\" class=\"dataframe\">\n",
       "  <thead>\n",
       "    <tr style=\"text-align: right;\">\n",
       "      <th></th>\n",
       "      <th>n1 - name</th>\n",
       "      <th>n2 - name</th>\n",
       "      <th>n3 - name</th>\n",
       "      <th>n4 - name</th>\n",
       "      <th>score</th>\n",
       "    </tr>\n",
       "  </thead>\n",
       "  <tbody>\n",
       "    <tr>\n",
       "      <th>0</th>\n",
       "      <td>TFAP2B</td>\n",
       "      <td>skin development</td>\n",
       "      <td>COL3A1</td>\n",
       "      <td>methionine</td>\n",
       "      <td>0.446585</td>\n",
       "    </tr>\n",
       "    <tr>\n",
       "      <th>1</th>\n",
       "      <td>JAG1</td>\n",
       "      <td>angiogenesis</td>\n",
       "      <td>SIRT1</td>\n",
       "      <td>nicotinamide</td>\n",
       "      <td>0.421638</td>\n",
       "    </tr>\n",
       "    <tr>\n",
       "      <th>2</th>\n",
       "      <td>TFAP2B</td>\n",
       "      <td>ductus arteriosus closure</td>\n",
       "      <td>HPGD</td>\n",
       "      <td>prostaglandin E2</td>\n",
       "      <td>0.418860</td>\n",
       "    </tr>\n",
       "    <tr>\n",
       "      <th>3</th>\n",
       "      <td>GATA6</td>\n",
       "      <td>response to drug</td>\n",
       "      <td>STAR</td>\n",
       "      <td>bucladesine</td>\n",
       "      <td>0.394459</td>\n",
       "    </tr>\n",
       "    <tr>\n",
       "      <th>4</th>\n",
       "      <td>GATA4</td>\n",
       "      <td>response to drug</td>\n",
       "      <td>STAR</td>\n",
       "      <td>bucladesine</td>\n",
       "      <td>0.394279</td>\n",
       "    </tr>\n",
       "  </tbody>\n",
       "</table>\n",
       "</div>"
      ],
      "text/plain": [
       "  n1 - name                  n2 - name  n3 - name         n4 - name      score\n",
       "0     TFAP2B           skin development     COL3A1        methionine  0.446585\n",
       "1       JAG1               angiogenesis      SIRT1      nicotinamide  0.421638\n",
       "2     TFAP2B  ductus arteriosus closure       HPGD  prostaglandin E2  0.418860\n",
       "3      GATA6           response to drug       STAR       bucladesine  0.394459\n",
       "4      GATA4           response to drug       STAR       bucladesine  0.394279"
      ]
     },
     "metadata": {},
     "output_type": "display_data"
    },
    {
     "data": {
      "text/html": [
       "<h3>nicotine dependence</h3>"
      ],
      "text/plain": [
       "<IPython.core.display.HTML object>"
      ]
     },
     "metadata": {},
     "output_type": "display_data"
    },
    {
     "data": {
      "text/html": [
       "<a href=http://robokop.renci.org/simple/view/162a4a9c-c00a-49d7-8f83-fc29c789ac65>View Answer in ROBOKOP</a>"
      ],
      "text/plain": [
       "<IPython.core.display.HTML object>"
      ]
     },
     "metadata": {},
     "output_type": "display_data"
    },
    {
     "data": {
      "text/html": [
       "<div>\n",
       "<style>\n",
       "    .dataframe thead tr:only-child th {\n",
       "        text-align: right;\n",
       "    }\n",
       "\n",
       "    .dataframe thead th {\n",
       "        text-align: left;\n",
       "    }\n",
       "\n",
       "    .dataframe tbody tr th {\n",
       "        vertical-align: top;\n",
       "    }\n",
       "</style>\n",
       "<table border=\"1\" class=\"dataframe\">\n",
       "  <thead>\n",
       "    <tr style=\"text-align: right;\">\n",
       "      <th></th>\n",
       "      <th>n1 - name</th>\n",
       "      <th>n2 - name</th>\n",
       "      <th>n3 - name</th>\n",
       "      <th>n4 - name</th>\n",
       "      <th>score</th>\n",
       "    </tr>\n",
       "  </thead>\n",
       "  <tbody>\n",
       "    <tr>\n",
       "      <th>0</th>\n",
       "      <td>CHRNA3</td>\n",
       "      <td>acetylcholine-gated cation-selective channel a...</td>\n",
       "      <td>CHRNA4</td>\n",
       "      <td>acetylcholine</td>\n",
       "      <td>0.652251</td>\n",
       "    </tr>\n",
       "    <tr>\n",
       "      <th>1</th>\n",
       "      <td>CHRNA4</td>\n",
       "      <td>acetylcholine-gated cation-selective channel a...</td>\n",
       "      <td>CHRNA4</td>\n",
       "      <td>acetylcholine</td>\n",
       "      <td>0.640760</td>\n",
       "    </tr>\n",
       "    <tr>\n",
       "      <th>2</th>\n",
       "      <td>CHRNA3</td>\n",
       "      <td>acetylcholine binding</td>\n",
       "      <td>CHRNA4</td>\n",
       "      <td>acetylcholine</td>\n",
       "      <td>0.628032</td>\n",
       "    </tr>\n",
       "    <tr>\n",
       "      <th>3</th>\n",
       "      <td>CYP2B6</td>\n",
       "      <td>xenobiotic metabolic process</td>\n",
       "      <td>CYP2B6</td>\n",
       "      <td>bupropion</td>\n",
       "      <td>0.624977</td>\n",
       "    </tr>\n",
       "    <tr>\n",
       "      <th>4</th>\n",
       "      <td>CYP2B6</td>\n",
       "      <td>oxidoreductase activity, acting on paired dono...</td>\n",
       "      <td>CYP2B6</td>\n",
       "      <td>bupropion</td>\n",
       "      <td>0.624870</td>\n",
       "    </tr>\n",
       "  </tbody>\n",
       "</table>\n",
       "</div>"
      ],
      "text/plain": [
       "  n1 - name                                          n2 - name  n3 - name   \\\n",
       "0     CHRNA3  acetylcholine-gated cation-selective channel a...     CHRNA4   \n",
       "1     CHRNA4  acetylcholine-gated cation-selective channel a...     CHRNA4   \n",
       "2     CHRNA3                              acetylcholine binding     CHRNA4   \n",
       "3     CYP2B6                       xenobiotic metabolic process     CYP2B6   \n",
       "4     CYP2B6  oxidoreductase activity, acting on paired dono...     CYP2B6   \n",
       "\n",
       "      n4 - name      score  \n",
       "0  acetylcholine  0.652251  \n",
       "1  acetylcholine  0.640760  \n",
       "2  acetylcholine  0.628032  \n",
       "3      bupropion  0.624977  \n",
       "4      bupropion  0.624870  "
      ]
     },
     "metadata": {},
     "output_type": "display_data"
    },
    {
     "data": {
      "text/html": [
       "<h3>cone dystrophy</h3>"
      ],
      "text/plain": [
       "<IPython.core.display.HTML object>"
      ]
     },
     "metadata": {},
     "output_type": "display_data"
    },
    {
     "data": {
      "text/html": [
       "<a href=http://robokop.renci.org/simple/view/b8c87fe2-b030-429d-ae36-7baf52444544>View Answer in ROBOKOP</a>"
      ],
      "text/plain": [
       "<IPython.core.display.HTML object>"
      ]
     },
     "metadata": {},
     "output_type": "display_data"
    },
    {
     "data": {
      "text/html": [
       "<div>\n",
       "<style>\n",
       "    .dataframe thead tr:only-child th {\n",
       "        text-align: right;\n",
       "    }\n",
       "\n",
       "    .dataframe thead th {\n",
       "        text-align: left;\n",
       "    }\n",
       "\n",
       "    .dataframe tbody tr th {\n",
       "        vertical-align: top;\n",
       "    }\n",
       "</style>\n",
       "<table border=\"1\" class=\"dataframe\">\n",
       "  <thead>\n",
       "    <tr style=\"text-align: right;\">\n",
       "      <th></th>\n",
       "      <th>n1 - name</th>\n",
       "      <th>n2 - name</th>\n",
       "      <th>n3 - name</th>\n",
       "      <th>n4 - name</th>\n",
       "      <th>score</th>\n",
       "    </tr>\n",
       "  </thead>\n",
       "  <tbody>\n",
       "    <tr>\n",
       "      <th>0</th>\n",
       "      <td>CYBB</td>\n",
       "      <td>response to drug</td>\n",
       "      <td>TH</td>\n",
       "      <td>methamphetamine</td>\n",
       "      <td>0.377150</td>\n",
       "    </tr>\n",
       "    <tr>\n",
       "      <th>1</th>\n",
       "      <td>NDUFS1</td>\n",
       "      <td>NADH dehydrogenase (ubiquinone) activity</td>\n",
       "      <td>NDUFS4</td>\n",
       "      <td>rotenone</td>\n",
       "      <td>0.357352</td>\n",
       "    </tr>\n",
       "    <tr>\n",
       "      <th>2</th>\n",
       "      <td>GATA3</td>\n",
       "      <td>response to drug</td>\n",
       "      <td>TH</td>\n",
       "      <td>methamphetamine</td>\n",
       "      <td>0.339977</td>\n",
       "    </tr>\n",
       "    <tr>\n",
       "      <th>3</th>\n",
       "      <td>GATA3</td>\n",
       "      <td>norepinephrine biosynthetic process</td>\n",
       "      <td>TH</td>\n",
       "      <td>methamphetamine</td>\n",
       "      <td>0.339910</td>\n",
       "    </tr>\n",
       "    <tr>\n",
       "      <th>4</th>\n",
       "      <td>GATA3</td>\n",
       "      <td>response to ethanol</td>\n",
       "      <td>TH</td>\n",
       "      <td>methamphetamine</td>\n",
       "      <td>0.339815</td>\n",
       "    </tr>\n",
       "  </tbody>\n",
       "</table>\n",
       "</div>"
      ],
      "text/plain": [
       "  n1 - name                                 n2 - name  n3 - name   \\\n",
       "0       CYBB                          response to drug         TH   \n",
       "1     NDUFS1  NADH dehydrogenase (ubiquinone) activity     NDUFS4   \n",
       "2      GATA3                          response to drug         TH   \n",
       "3      GATA3       norepinephrine biosynthetic process         TH   \n",
       "4      GATA3                       response to ethanol         TH   \n",
       "\n",
       "        n4 - name      score  \n",
       "0  methamphetamine  0.377150  \n",
       "1         rotenone  0.357352  \n",
       "2  methamphetamine  0.339977  \n",
       "3  methamphetamine  0.339910  \n",
       "4  methamphetamine  0.339815  "
      ]
     },
     "metadata": {},
     "output_type": "display_data"
    },
    {
     "data": {
      "text/html": [
       "<h3>hypohidrosis-enamel hypoplasia-palmoplantar ke...</h3>"
      ],
      "text/plain": [
       "<IPython.core.display.HTML object>"
      ]
     },
     "metadata": {},
     "output_type": "display_data"
    },
    {
     "data": {
      "text/html": [
       "<a href=http://robokop.renci.org/simple/view/d9810795-1d80-486a-9928-416c703e5360>View Answer in ROBOKOP</a>"
      ],
      "text/plain": [
       "<IPython.core.display.HTML object>"
      ]
     },
     "metadata": {},
     "output_type": "display_data"
    },
    {
     "data": {
      "text/html": [
       "<div>\n",
       "<style>\n",
       "    .dataframe thead tr:only-child th {\n",
       "        text-align: right;\n",
       "    }\n",
       "\n",
       "    .dataframe thead th {\n",
       "        text-align: left;\n",
       "    }\n",
       "\n",
       "    .dataframe tbody tr th {\n",
       "        vertical-align: top;\n",
       "    }\n",
       "</style>\n",
       "<table border=\"1\" class=\"dataframe\">\n",
       "  <thead>\n",
       "    <tr style=\"text-align: right;\">\n",
       "      <th></th>\n",
       "      <th>n1 - name</th>\n",
       "      <th>n2 - name</th>\n",
       "      <th>n3 - name</th>\n",
       "      <th>n4 - name</th>\n",
       "      <th>score</th>\n",
       "    </tr>\n",
       "  </thead>\n",
       "  <tbody>\n",
       "    <tr>\n",
       "      <th>0</th>\n",
       "      <td>COG6</td>\n",
       "      <td>ER to Golgi vesicle-mediated transport</td>\n",
       "      <td>AREG</td>\n",
       "      <td>tyrphostin AG 1478</td>\n",
       "      <td>0.138734</td>\n",
       "    </tr>\n",
       "    <tr>\n",
       "      <th>1</th>\n",
       "      <td>COG6</td>\n",
       "      <td>ER to Golgi vesicle-mediated transport</td>\n",
       "      <td>SEC24D</td>\n",
       "      <td>bupropion</td>\n",
       "      <td>0.108173</td>\n",
       "    </tr>\n",
       "    <tr>\n",
       "      <th>2</th>\n",
       "      <td>COG6</td>\n",
       "      <td>ER to Golgi vesicle-mediated transport</td>\n",
       "      <td>AREG</td>\n",
       "      <td>forskolin</td>\n",
       "      <td>0.107363</td>\n",
       "    </tr>\n",
       "    <tr>\n",
       "      <th>3</th>\n",
       "      <td>COG6</td>\n",
       "      <td>ER to Golgi vesicle-mediated transport</td>\n",
       "      <td>INS</td>\n",
       "      <td>acetylcholine</td>\n",
       "      <td>0.103404</td>\n",
       "    </tr>\n",
       "    <tr>\n",
       "      <th>4</th>\n",
       "      <td>COG6</td>\n",
       "      <td>ER to Golgi vesicle-mediated transport</td>\n",
       "      <td>CAPZA2</td>\n",
       "      <td>nocodazole</td>\n",
       "      <td>0.101522</td>\n",
       "    </tr>\n",
       "  </tbody>\n",
       "</table>\n",
       "</div>"
      ],
      "text/plain": [
       "  n1 - name                               n2 - name  n3 - name   \\\n",
       "0       COG6  ER to Golgi vesicle-mediated transport       AREG   \n",
       "1       COG6  ER to Golgi vesicle-mediated transport     SEC24D   \n",
       "2       COG6  ER to Golgi vesicle-mediated transport       AREG   \n",
       "3       COG6  ER to Golgi vesicle-mediated transport        INS   \n",
       "4       COG6  ER to Golgi vesicle-mediated transport     CAPZA2   \n",
       "\n",
       "           n4 - name      score  \n",
       "0  tyrphostin AG 1478  0.138734  \n",
       "1           bupropion  0.108173  \n",
       "2           forskolin  0.107363  \n",
       "3       acetylcholine  0.103404  \n",
       "4          nocodazole  0.101522  "
      ]
     },
     "metadata": {},
     "output_type": "display_data"
    },
    {
     "data": {
      "text/html": [
       "<h3>genetic dementia</h3>"
      ],
      "text/plain": [
       "<IPython.core.display.HTML object>"
      ]
     },
     "metadata": {},
     "output_type": "display_data"
    },
    {
     "data": {
      "text/html": [
       "<a href=http://robokop.renci.org/simple/view/6891dd52-a529-44e6-b5fb-1833509a6fca>View Answer in ROBOKOP</a>"
      ],
      "text/plain": [
       "<IPython.core.display.HTML object>"
      ]
     },
     "metadata": {},
     "output_type": "display_data"
    },
    {
     "data": {
      "text/html": [
       "<div>\n",
       "<style>\n",
       "    .dataframe thead tr:only-child th {\n",
       "        text-align: right;\n",
       "    }\n",
       "\n",
       "    .dataframe thead th {\n",
       "        text-align: left;\n",
       "    }\n",
       "\n",
       "    .dataframe tbody tr th {\n",
       "        vertical-align: top;\n",
       "    }\n",
       "</style>\n",
       "<table border=\"1\" class=\"dataframe\">\n",
       "  <thead>\n",
       "    <tr style=\"text-align: right;\">\n",
       "      <th></th>\n",
       "      <th>n1 - name</th>\n",
       "      <th>n2 - name</th>\n",
       "      <th>n3 - name</th>\n",
       "      <th>n4 - name</th>\n",
       "      <th>score</th>\n",
       "    </tr>\n",
       "  </thead>\n",
       "  <tbody>\n",
       "    <tr>\n",
       "      <th>0</th>\n",
       "      <td>PSEN1</td>\n",
       "      <td>positive regulation of apoptotic process</td>\n",
       "      <td>BAD</td>\n",
       "      <td>sulindac sulfide</td>\n",
       "      <td>0.370953</td>\n",
       "    </tr>\n",
       "    <tr>\n",
       "      <th>1</th>\n",
       "      <td>SQSTM1</td>\n",
       "      <td>positive regulation of apoptotic process</td>\n",
       "      <td>SNCA</td>\n",
       "      <td>rotenone</td>\n",
       "      <td>0.370578</td>\n",
       "    </tr>\n",
       "    <tr>\n",
       "      <th>2</th>\n",
       "      <td>PSEN1</td>\n",
       "      <td>memory</td>\n",
       "      <td>PSEN1</td>\n",
       "      <td>sulindac sulfide</td>\n",
       "      <td>0.362320</td>\n",
       "    </tr>\n",
       "    <tr>\n",
       "      <th>3</th>\n",
       "      <td>CP</td>\n",
       "      <td>copper ion binding</td>\n",
       "      <td>SNCA</td>\n",
       "      <td>rotenone</td>\n",
       "      <td>0.360352</td>\n",
       "    </tr>\n",
       "    <tr>\n",
       "      <th>4</th>\n",
       "      <td>PSEN1</td>\n",
       "      <td>memory</td>\n",
       "      <td>CREB1</td>\n",
       "      <td>forskolin</td>\n",
       "      <td>0.350356</td>\n",
       "    </tr>\n",
       "  </tbody>\n",
       "</table>\n",
       "</div>"
      ],
      "text/plain": [
       "  n1 - name                                 n2 - name  n3 - name   \\\n",
       "0      PSEN1  positive regulation of apoptotic process        BAD   \n",
       "1     SQSTM1  positive regulation of apoptotic process       SNCA   \n",
       "2      PSEN1                                    memory      PSEN1   \n",
       "3         CP                        copper ion binding       SNCA   \n",
       "4      PSEN1                                    memory      CREB1   \n",
       "\n",
       "         n4 - name      score  \n",
       "0  sulindac sulfide  0.370953  \n",
       "1          rotenone  0.370578  \n",
       "2  sulindac sulfide  0.362320  \n",
       "3          rotenone  0.360352  \n",
       "4         forskolin  0.350356  "
      ]
     },
     "metadata": {},
     "output_type": "display_data"
    },
    {
     "data": {
      "text/html": [
       "<h3>functional neutrophil defect</h3>"
      ],
      "text/plain": [
       "<IPython.core.display.HTML object>"
      ]
     },
     "metadata": {},
     "output_type": "display_data"
    },
    {
     "data": {
      "text/html": [
       "<a href=http://robokop.renci.org/simple/view/1a3b38c0-ae71-4eaa-ae84-13728b1551ba>View Answer in ROBOKOP</a>"
      ],
      "text/plain": [
       "<IPython.core.display.HTML object>"
      ]
     },
     "metadata": {},
     "output_type": "display_data"
    },
    {
     "data": {
      "text/html": [
       "<div>\n",
       "<style>\n",
       "    .dataframe thead tr:only-child th {\n",
       "        text-align: right;\n",
       "    }\n",
       "\n",
       "    .dataframe thead th {\n",
       "        text-align: left;\n",
       "    }\n",
       "\n",
       "    .dataframe tbody tr th {\n",
       "        vertical-align: top;\n",
       "    }\n",
       "</style>\n",
       "<table border=\"1\" class=\"dataframe\">\n",
       "  <thead>\n",
       "    <tr style=\"text-align: right;\">\n",
       "      <th></th>\n",
       "      <th>n1 - name</th>\n",
       "      <th>n2 - name</th>\n",
       "      <th>n3 - name</th>\n",
       "      <th>n4 - name</th>\n",
       "      <th>score</th>\n",
       "    </tr>\n",
       "  </thead>\n",
       "  <tbody>\n",
       "    <tr>\n",
       "      <th>0</th>\n",
       "      <td>CYBA</td>\n",
       "      <td>superoxide metabolic process</td>\n",
       "      <td>NCF1</td>\n",
       "      <td>streptozocin</td>\n",
       "      <td>0.362508</td>\n",
       "    </tr>\n",
       "    <tr>\n",
       "      <th>1</th>\n",
       "      <td>CYBA</td>\n",
       "      <td>respiratory burst</td>\n",
       "      <td>NCF1</td>\n",
       "      <td>streptozocin</td>\n",
       "      <td>0.361986</td>\n",
       "    </tr>\n",
       "    <tr>\n",
       "      <th>2</th>\n",
       "      <td>CYBA</td>\n",
       "      <td>superoxide anion generation</td>\n",
       "      <td>NCF1</td>\n",
       "      <td>streptozocin</td>\n",
       "      <td>0.361861</td>\n",
       "    </tr>\n",
       "    <tr>\n",
       "      <th>3</th>\n",
       "      <td>CYBA</td>\n",
       "      <td>electron transport chain</td>\n",
       "      <td>NCF1</td>\n",
       "      <td>streptozocin</td>\n",
       "      <td>0.357508</td>\n",
       "    </tr>\n",
       "    <tr>\n",
       "      <th>4</th>\n",
       "      <td>CYBA</td>\n",
       "      <td>superoxide-generating NADPH oxidase activity</td>\n",
       "      <td>NCF1</td>\n",
       "      <td>streptozocin</td>\n",
       "      <td>0.348225</td>\n",
       "    </tr>\n",
       "  </tbody>\n",
       "</table>\n",
       "</div>"
      ],
      "text/plain": [
       "  n1 - name                                     n2 - name  n3 - name   \\\n",
       "0       CYBA                  superoxide metabolic process       NCF1   \n",
       "1       CYBA                             respiratory burst       NCF1   \n",
       "2       CYBA                   superoxide anion generation       NCF1   \n",
       "3       CYBA                      electron transport chain       NCF1   \n",
       "4       CYBA  superoxide-generating NADPH oxidase activity       NCF1   \n",
       "\n",
       "     n4 - name      score  \n",
       "0  streptozocin  0.362508  \n",
       "1  streptozocin  0.361986  \n",
       "2  streptozocin  0.361861  \n",
       "3  streptozocin  0.357508  \n",
       "4  streptozocin  0.348225  "
      ]
     },
     "metadata": {},
     "output_type": "display_data"
    },
    {
     "data": {
      "text/html": [
       "<h3>CADASIL</h3>"
      ],
      "text/plain": [
       "<IPython.core.display.HTML object>"
      ]
     },
     "metadata": {},
     "output_type": "display_data"
    },
    {
     "data": {
      "text/html": [
       "<a href=http://robokop.renci.org/simple/view/9dab2910-4998-47ee-8156-77ff3d307a50>View Answer in ROBOKOP</a>"
      ],
      "text/plain": [
       "<IPython.core.display.HTML object>"
      ]
     },
     "metadata": {},
     "output_type": "display_data"
    },
    {
     "data": {
      "text/html": [
       "<div>\n",
       "<style>\n",
       "    .dataframe thead tr:only-child th {\n",
       "        text-align: right;\n",
       "    }\n",
       "\n",
       "    .dataframe thead th {\n",
       "        text-align: left;\n",
       "    }\n",
       "\n",
       "    .dataframe tbody tr th {\n",
       "        vertical-align: top;\n",
       "    }\n",
       "</style>\n",
       "<table border=\"1\" class=\"dataframe\">\n",
       "  <thead>\n",
       "    <tr style=\"text-align: right;\">\n",
       "      <th></th>\n",
       "      <th>n1 - name</th>\n",
       "      <th>n2 - name</th>\n",
       "      <th>n3 - name</th>\n",
       "      <th>n4 - name</th>\n",
       "      <th>score</th>\n",
       "    </tr>\n",
       "  </thead>\n",
       "  <tbody>\n",
       "    <tr>\n",
       "      <th>0</th>\n",
       "      <td>NOTCH3</td>\n",
       "      <td>transcription initiation from RNA polymerase I...</td>\n",
       "      <td>NOTCH4</td>\n",
       "      <td>ozone</td>\n",
       "      <td>0.440133</td>\n",
       "    </tr>\n",
       "    <tr>\n",
       "      <th>1</th>\n",
       "      <td>NOTCH3</td>\n",
       "      <td>positive regulation of transcription of Notch ...</td>\n",
       "      <td>NOTCH4</td>\n",
       "      <td>ozone</td>\n",
       "      <td>0.440133</td>\n",
       "    </tr>\n",
       "    <tr>\n",
       "      <th>2</th>\n",
       "      <td>NOTCH3</td>\n",
       "      <td>regulation of developmental process</td>\n",
       "      <td>NOTCH4</td>\n",
       "      <td>ozone</td>\n",
       "      <td>0.440133</td>\n",
       "    </tr>\n",
       "    <tr>\n",
       "      <th>3</th>\n",
       "      <td>NOTCH3</td>\n",
       "      <td>Notch signaling pathway</td>\n",
       "      <td>NOTCH3</td>\n",
       "      <td>ozone</td>\n",
       "      <td>0.431014</td>\n",
       "    </tr>\n",
       "    <tr>\n",
       "      <th>4</th>\n",
       "      <td>NOTCH3</td>\n",
       "      <td>negative regulation of Notch signaling pathway</td>\n",
       "      <td>NOTCH3</td>\n",
       "      <td>ozone</td>\n",
       "      <td>0.419440</td>\n",
       "    </tr>\n",
       "  </tbody>\n",
       "</table>\n",
       "</div>"
      ],
      "text/plain": [
       "  n1 - name                                          n2 - name  n3 - name   \\\n",
       "0     NOTCH3  transcription initiation from RNA polymerase I...     NOTCH4   \n",
       "1     NOTCH3  positive regulation of transcription of Notch ...     NOTCH4   \n",
       "2     NOTCH3                regulation of developmental process     NOTCH4   \n",
       "3     NOTCH3                            Notch signaling pathway     NOTCH3   \n",
       "4     NOTCH3     negative regulation of Notch signaling pathway     NOTCH3   \n",
       "\n",
       "  n4 - name      score  \n",
       "0      ozone  0.440133  \n",
       "1      ozone  0.440133  \n",
       "2      ozone  0.440133  \n",
       "3      ozone  0.431014  \n",
       "4      ozone  0.419440  "
      ]
     },
     "metadata": {},
     "output_type": "display_data"
    },
    {
     "data": {
      "text/html": [
       "<h3>glomerulopathy with fibronectin deposits 2</h3>"
      ],
      "text/plain": [
       "<IPython.core.display.HTML object>"
      ]
     },
     "metadata": {},
     "output_type": "display_data"
    },
    {
     "data": {
      "text/html": [
       "<a href=http://robokop.renci.org/simple/view/844dea3f-32d8-447c-b24c-4e2ea145f313>View Answer in ROBOKOP</a>"
      ],
      "text/plain": [
       "<IPython.core.display.HTML object>"
      ]
     },
     "metadata": {},
     "output_type": "display_data"
    },
    {
     "data": {
      "text/html": [
       "<div>\n",
       "<style>\n",
       "    .dataframe thead tr:only-child th {\n",
       "        text-align: right;\n",
       "    }\n",
       "\n",
       "    .dataframe thead th {\n",
       "        text-align: left;\n",
       "    }\n",
       "\n",
       "    .dataframe tbody tr th {\n",
       "        vertical-align: top;\n",
       "    }\n",
       "</style>\n",
       "<table border=\"1\" class=\"dataframe\">\n",
       "  <thead>\n",
       "    <tr style=\"text-align: right;\">\n",
       "      <th></th>\n",
       "      <th>n1 - name</th>\n",
       "      <th>n2 - name</th>\n",
       "      <th>n3 - name</th>\n",
       "      <th>n4 - name</th>\n",
       "      <th>score</th>\n",
       "    </tr>\n",
       "  </thead>\n",
       "  <tbody>\n",
       "    <tr>\n",
       "      <th>0</th>\n",
       "      <td>FN1</td>\n",
       "      <td>angiogenesis</td>\n",
       "      <td>SIRT1</td>\n",
       "      <td>streptozocin</td>\n",
       "      <td>0.326322</td>\n",
       "    </tr>\n",
       "    <tr>\n",
       "      <th>1</th>\n",
       "      <td>FN1</td>\n",
       "      <td>angiogenesis</td>\n",
       "      <td>SERPINE1</td>\n",
       "      <td>rosiglitazone</td>\n",
       "      <td>0.325366</td>\n",
       "    </tr>\n",
       "    <tr>\n",
       "      <th>2</th>\n",
       "      <td>FN1</td>\n",
       "      <td>angiogenesis</td>\n",
       "      <td>LEP</td>\n",
       "      <td>rosiglitazone</td>\n",
       "      <td>0.323185</td>\n",
       "    </tr>\n",
       "    <tr>\n",
       "      <th>3</th>\n",
       "      <td>FN1</td>\n",
       "      <td>angiogenesis</td>\n",
       "      <td>ANGPTL4</td>\n",
       "      <td>rosiglitazone</td>\n",
       "      <td>0.320617</td>\n",
       "    </tr>\n",
       "    <tr>\n",
       "      <th>4</th>\n",
       "      <td>FN1</td>\n",
       "      <td>leukocyte migration</td>\n",
       "      <td>COL1A1</td>\n",
       "      <td>rosiglitazone</td>\n",
       "      <td>0.319750</td>\n",
       "    </tr>\n",
       "  </tbody>\n",
       "</table>\n",
       "</div>"
      ],
      "text/plain": [
       "  n1 - name            n2 - name  n3 - name      n4 - name      score\n",
       "0        FN1         angiogenesis      SIRT1   streptozocin  0.326322\n",
       "1        FN1         angiogenesis   SERPINE1  rosiglitazone  0.325366\n",
       "2        FN1         angiogenesis        LEP  rosiglitazone  0.323185\n",
       "3        FN1         angiogenesis    ANGPTL4  rosiglitazone  0.320617\n",
       "4        FN1  leukocyte migration     COL1A1  rosiglitazone  0.319750"
      ]
     },
     "metadata": {},
     "output_type": "display_data"
    },
    {
     "data": {
      "text/html": [
       "<h3>Alzheimer's disease 2</h3>"
      ],
      "text/plain": [
       "<IPython.core.display.HTML object>"
      ]
     },
     "metadata": {},
     "output_type": "display_data"
    },
    {
     "data": {
      "text/html": [
       "<a href=http://robokop.renci.org/simple/view/967e7ca9-c393-4017-bd10-e6083aaa74f6>View Answer in ROBOKOP</a>"
      ],
      "text/plain": [
       "<IPython.core.display.HTML object>"
      ]
     },
     "metadata": {},
     "output_type": "display_data"
    },
    {
     "data": {
      "text/html": [
       "<div>\n",
       "<style>\n",
       "    .dataframe thead tr:only-child th {\n",
       "        text-align: right;\n",
       "    }\n",
       "\n",
       "    .dataframe thead th {\n",
       "        text-align: left;\n",
       "    }\n",
       "\n",
       "    .dataframe tbody tr th {\n",
       "        vertical-align: top;\n",
       "    }\n",
       "</style>\n",
       "<table border=\"1\" class=\"dataframe\">\n",
       "  <thead>\n",
       "    <tr style=\"text-align: right;\">\n",
       "      <th></th>\n",
       "      <th>n1 - name</th>\n",
       "      <th>n2 - name</th>\n",
       "      <th>n3 - name</th>\n",
       "      <th>n4 - name</th>\n",
       "      <th>score</th>\n",
       "    </tr>\n",
       "  </thead>\n",
       "  <tbody>\n",
       "    <tr>\n",
       "      <th>0</th>\n",
       "      <td>SIRT1</td>\n",
       "      <td>angiogenesis</td>\n",
       "      <td>SIRT1</td>\n",
       "      <td>nicotinamide</td>\n",
       "      <td>0.551090</td>\n",
       "    </tr>\n",
       "    <tr>\n",
       "      <th>1</th>\n",
       "      <td>SIRT1</td>\n",
       "      <td>response to oxidative stress</td>\n",
       "      <td>SIRT1</td>\n",
       "      <td>nicotinamide</td>\n",
       "      <td>0.550759</td>\n",
       "    </tr>\n",
       "    <tr>\n",
       "      <th>2</th>\n",
       "      <td>SIRT1</td>\n",
       "      <td>protein C-terminus binding</td>\n",
       "      <td>SIRT1</td>\n",
       "      <td>nicotinamide</td>\n",
       "      <td>0.550636</td>\n",
       "    </tr>\n",
       "    <tr>\n",
       "      <th>3</th>\n",
       "      <td>SIRT1</td>\n",
       "      <td>transcription factor binding</td>\n",
       "      <td>SIRT1</td>\n",
       "      <td>nicotinamide</td>\n",
       "      <td>0.550609</td>\n",
       "    </tr>\n",
       "    <tr>\n",
       "      <th>4</th>\n",
       "      <td>PSEN1</td>\n",
       "      <td>response to oxidative stress</td>\n",
       "      <td>SIRT1</td>\n",
       "      <td>nicotinamide</td>\n",
       "      <td>0.542021</td>\n",
       "    </tr>\n",
       "  </tbody>\n",
       "</table>\n",
       "</div>"
      ],
      "text/plain": [
       "  n1 - name                     n2 - name  n3 - name     n4 - name      score\n",
       "0      SIRT1                  angiogenesis      SIRT1  nicotinamide  0.551090\n",
       "1      SIRT1  response to oxidative stress      SIRT1  nicotinamide  0.550759\n",
       "2      SIRT1    protein C-terminus binding      SIRT1  nicotinamide  0.550636\n",
       "3      SIRT1  transcription factor binding      SIRT1  nicotinamide  0.550609\n",
       "4      PSEN1  response to oxidative stress      SIRT1  nicotinamide  0.542021"
      ]
     },
     "metadata": {},
     "output_type": "display_data"
    },
    {
     "data": {
      "text/html": [
       "<h3>combined pituitary hormone deficiencies, genet...</h3>"
      ],
      "text/plain": [
       "<IPython.core.display.HTML object>"
      ]
     },
     "metadata": {},
     "output_type": "display_data"
    },
    {
     "data": {
      "text/html": [
       "<a href=http://robokop.renci.org/simple/view/b7a70f6b-6979-476b-91ba-7626b175496e>View Answer in ROBOKOP</a>"
      ],
      "text/plain": [
       "<IPython.core.display.HTML object>"
      ]
     },
     "metadata": {},
     "output_type": "display_data"
    },
    {
     "data": {
      "text/html": [
       "<div>\n",
       "<style>\n",
       "    .dataframe thead tr:only-child th {\n",
       "        text-align: right;\n",
       "    }\n",
       "\n",
       "    .dataframe thead th {\n",
       "        text-align: left;\n",
       "    }\n",
       "\n",
       "    .dataframe tbody tr th {\n",
       "        vertical-align: top;\n",
       "    }\n",
       "</style>\n",
       "<table border=\"1\" class=\"dataframe\">\n",
       "  <thead>\n",
       "    <tr style=\"text-align: right;\">\n",
       "      <th></th>\n",
       "      <th>n1 - name</th>\n",
       "      <th>n2 - name</th>\n",
       "      <th>n3 - name</th>\n",
       "      <th>n4 - name</th>\n",
       "      <th>score</th>\n",
       "    </tr>\n",
       "  </thead>\n",
       "  <tbody>\n",
       "    <tr>\n",
       "      <th>0</th>\n",
       "      <td>GH1</td>\n",
       "      <td>prolactin receptor binding</td>\n",
       "      <td>PRL</td>\n",
       "      <td>bromocriptine</td>\n",
       "      <td>0.495242</td>\n",
       "    </tr>\n",
       "    <tr>\n",
       "      <th>1</th>\n",
       "      <td>GH1</td>\n",
       "      <td>response to estradiol</td>\n",
       "      <td>PRL</td>\n",
       "      <td>bromocriptine</td>\n",
       "      <td>0.438092</td>\n",
       "    </tr>\n",
       "    <tr>\n",
       "      <th>2</th>\n",
       "      <td>GH1</td>\n",
       "      <td>positive regulation of JAK-STAT cascade</td>\n",
       "      <td>PRL</td>\n",
       "      <td>bromocriptine</td>\n",
       "      <td>0.412268</td>\n",
       "    </tr>\n",
       "    <tr>\n",
       "      <th>3</th>\n",
       "      <td>GH1</td>\n",
       "      <td>JAK-STAT cascade involved in growth hormone si...</td>\n",
       "      <td>PRL</td>\n",
       "      <td>bromocriptine</td>\n",
       "      <td>0.412268</td>\n",
       "    </tr>\n",
       "    <tr>\n",
       "      <th>4</th>\n",
       "      <td>GH1</td>\n",
       "      <td>response to nutrient levels</td>\n",
       "      <td>PRL</td>\n",
       "      <td>bromocriptine</td>\n",
       "      <td>0.412268</td>\n",
       "    </tr>\n",
       "  </tbody>\n",
       "</table>\n",
       "</div>"
      ],
      "text/plain": [
       "  n1 - name                                          n2 - name  n3 - name   \\\n",
       "0        GH1                         prolactin receptor binding        PRL   \n",
       "1        GH1                              response to estradiol        PRL   \n",
       "2        GH1            positive regulation of JAK-STAT cascade        PRL   \n",
       "3        GH1  JAK-STAT cascade involved in growth hormone si...        PRL   \n",
       "4        GH1                        response to nutrient levels        PRL   \n",
       "\n",
       "      n4 - name      score  \n",
       "0  bromocriptine  0.495242  \n",
       "1  bromocriptine  0.438092  \n",
       "2  bromocriptine  0.412268  \n",
       "3  bromocriptine  0.412268  \n",
       "4  bromocriptine  0.412268  "
      ]
     },
     "metadata": {},
     "output_type": "display_data"
    },
    {
     "data": {
      "text/html": [
       "<h3>arthritis</h3>"
      ],
      "text/plain": [
       "<IPython.core.display.HTML object>"
      ]
     },
     "metadata": {},
     "output_type": "display_data"
    },
    {
     "data": {
      "text/html": [
       "<a href=http://robokop.renci.org/simple/view/1967bfa3-562b-4fd2-8f5c-e87f1245ba47>View Answer in ROBOKOP</a>"
      ],
      "text/plain": [
       "<IPython.core.display.HTML object>"
      ]
     },
     "metadata": {},
     "output_type": "display_data"
    },
    {
     "data": {
      "text/html": [
       "<div>\n",
       "<style>\n",
       "    .dataframe thead tr:only-child th {\n",
       "        text-align: right;\n",
       "    }\n",
       "\n",
       "    .dataframe thead th {\n",
       "        text-align: left;\n",
       "    }\n",
       "\n",
       "    .dataframe tbody tr th {\n",
       "        vertical-align: top;\n",
       "    }\n",
       "</style>\n",
       "<table border=\"1\" class=\"dataframe\">\n",
       "  <thead>\n",
       "    <tr style=\"text-align: right;\">\n",
       "      <th></th>\n",
       "      <th>n1 - name</th>\n",
       "      <th>n2 - name</th>\n",
       "      <th>n3 - name</th>\n",
       "      <th>n4 - name</th>\n",
       "      <th>score</th>\n",
       "    </tr>\n",
       "  </thead>\n",
       "  <tbody>\n",
       "    <tr>\n",
       "      <th>0</th>\n",
       "      <td>TLR2</td>\n",
       "      <td>positive regulation of NF-kappaB transcription...</td>\n",
       "      <td>TLR4</td>\n",
       "      <td>nitrogen dioxide</td>\n",
       "      <td>0.701094</td>\n",
       "    </tr>\n",
       "    <tr>\n",
       "      <th>1</th>\n",
       "      <td>TLR2</td>\n",
       "      <td>positive regulation of inflammatory response</td>\n",
       "      <td>TLR4</td>\n",
       "      <td>ozone</td>\n",
       "      <td>0.699234</td>\n",
       "    </tr>\n",
       "    <tr>\n",
       "      <th>2</th>\n",
       "      <td>CALCA</td>\n",
       "      <td>aging</td>\n",
       "      <td>CALCA</td>\n",
       "      <td>capsaicin</td>\n",
       "      <td>0.693847</td>\n",
       "    </tr>\n",
       "    <tr>\n",
       "      <th>3</th>\n",
       "      <td>PPARGC1A</td>\n",
       "      <td>aging</td>\n",
       "      <td>CALCA</td>\n",
       "      <td>capsaicin</td>\n",
       "      <td>0.690089</td>\n",
       "    </tr>\n",
       "    <tr>\n",
       "      <th>4</th>\n",
       "      <td>TNFRSF1A</td>\n",
       "      <td>positive regulation of inflammatory response</td>\n",
       "      <td>TLR4</td>\n",
       "      <td>ozone</td>\n",
       "      <td>0.684440</td>\n",
       "    </tr>\n",
       "  </tbody>\n",
       "</table>\n",
       "</div>"
      ],
      "text/plain": [
       "  n1 - name                                          n2 - name  n3 - name   \\\n",
       "0       TLR2  positive regulation of NF-kappaB transcription...       TLR4   \n",
       "1       TLR2       positive regulation of inflammatory response       TLR4   \n",
       "2      CALCA                                              aging      CALCA   \n",
       "3   PPARGC1A                                              aging      CALCA   \n",
       "4   TNFRSF1A       positive regulation of inflammatory response       TLR4   \n",
       "\n",
       "         n4 - name      score  \n",
       "0  nitrogen dioxide  0.701094  \n",
       "1             ozone  0.699234  \n",
       "2         capsaicin  0.693847  \n",
       "3         capsaicin  0.690089  \n",
       "4             ozone  0.684440  "
      ]
     },
     "metadata": {},
     "output_type": "display_data"
    },
    {
     "data": {
      "text/html": [
       "<h3>type 2 diabetes mellitus</h3>"
      ],
      "text/plain": [
       "<IPython.core.display.HTML object>"
      ]
     },
     "metadata": {},
     "output_type": "display_data"
    },
    {
     "data": {
      "text/html": [
       "<a href=http://robokop.renci.org/simple/view/e63c4fb4-1865-4f71-aa15-723fffc7c872>View Answer in ROBOKOP</a>"
      ],
      "text/plain": [
       "<IPython.core.display.HTML object>"
      ]
     },
     "metadata": {},
     "output_type": "display_data"
    },
    {
     "data": {
      "text/html": [
       "<div>\n",
       "<style>\n",
       "    .dataframe thead tr:only-child th {\n",
       "        text-align: right;\n",
       "    }\n",
       "\n",
       "    .dataframe thead th {\n",
       "        text-align: left;\n",
       "    }\n",
       "\n",
       "    .dataframe tbody tr th {\n",
       "        vertical-align: top;\n",
       "    }\n",
       "</style>\n",
       "<table border=\"1\" class=\"dataframe\">\n",
       "  <thead>\n",
       "    <tr style=\"text-align: right;\">\n",
       "      <th></th>\n",
       "      <th>n1 - name</th>\n",
       "      <th>n2 - name</th>\n",
       "      <th>n3 - name</th>\n",
       "      <th>n4 - name</th>\n",
       "      <th>score</th>\n",
       "    </tr>\n",
       "  </thead>\n",
       "  <tbody>\n",
       "    <tr>\n",
       "      <th>0</th>\n",
       "      <td>TCF7L2</td>\n",
       "      <td>glucose homeostasis</td>\n",
       "      <td>ADIPOQ</td>\n",
       "      <td>rosiglitazone</td>\n",
       "      <td>0.804548</td>\n",
       "    </tr>\n",
       "    <tr>\n",
       "      <th>1</th>\n",
       "      <td>TCF7L2</td>\n",
       "      <td>response to glucose</td>\n",
       "      <td>ADIPOQ</td>\n",
       "      <td>rosiglitazone</td>\n",
       "      <td>0.787241</td>\n",
       "    </tr>\n",
       "    <tr>\n",
       "      <th>2</th>\n",
       "      <td>PPARGC1A</td>\n",
       "      <td>aging</td>\n",
       "      <td>CALCA</td>\n",
       "      <td>capsaicin</td>\n",
       "      <td>0.784459</td>\n",
       "    </tr>\n",
       "    <tr>\n",
       "      <th>3</th>\n",
       "      <td>INSR</td>\n",
       "      <td>glucose homeostasis</td>\n",
       "      <td>ADIPOQ</td>\n",
       "      <td>rosiglitazone</td>\n",
       "      <td>0.774955</td>\n",
       "    </tr>\n",
       "    <tr>\n",
       "      <th>4</th>\n",
       "      <td>IRS1</td>\n",
       "      <td>glucose homeostasis</td>\n",
       "      <td>ADIPOQ</td>\n",
       "      <td>rosiglitazone</td>\n",
       "      <td>0.771872</td>\n",
       "    </tr>\n",
       "  </tbody>\n",
       "</table>\n",
       "</div>"
      ],
      "text/plain": [
       "  n1 - name            n2 - name  n3 - name      n4 - name      score\n",
       "0     TCF7L2  glucose homeostasis     ADIPOQ  rosiglitazone  0.804548\n",
       "1     TCF7L2  response to glucose     ADIPOQ  rosiglitazone  0.787241\n",
       "2   PPARGC1A                aging      CALCA      capsaicin  0.784459\n",
       "3       INSR  glucose homeostasis     ADIPOQ  rosiglitazone  0.774955\n",
       "4       IRS1  glucose homeostasis     ADIPOQ  rosiglitazone  0.771872"
      ]
     },
     "metadata": {},
     "output_type": "display_data"
    },
    {
     "data": {
      "text/html": [
       "<h3>dermatitis</h3>"
      ],
      "text/plain": [
       "<IPython.core.display.HTML object>"
      ]
     },
     "metadata": {},
     "output_type": "display_data"
    },
    {
     "data": {
      "text/html": [
       "<a href=http://robokop.renci.org/simple/view/02171248-70e8-4044-9b27-a1d6abd3544b>View Answer in ROBOKOP</a>"
      ],
      "text/plain": [
       "<IPython.core.display.HTML object>"
      ]
     },
     "metadata": {},
     "output_type": "display_data"
    },
    {
     "data": {
      "text/html": [
       "<div>\n",
       "<style>\n",
       "    .dataframe thead tr:only-child th {\n",
       "        text-align: right;\n",
       "    }\n",
       "\n",
       "    .dataframe thead th {\n",
       "        text-align: left;\n",
       "    }\n",
       "\n",
       "    .dataframe tbody tr th {\n",
       "        vertical-align: top;\n",
       "    }\n",
       "</style>\n",
       "<table border=\"1\" class=\"dataframe\">\n",
       "  <thead>\n",
       "    <tr style=\"text-align: right;\">\n",
       "      <th></th>\n",
       "      <th>n1 - name</th>\n",
       "      <th>n2 - name</th>\n",
       "      <th>n3 - name</th>\n",
       "      <th>n4 - name</th>\n",
       "      <th>score</th>\n",
       "    </tr>\n",
       "  </thead>\n",
       "  <tbody>\n",
       "    <tr>\n",
       "      <th>0</th>\n",
       "      <td>ADA</td>\n",
       "      <td>aging</td>\n",
       "      <td>ADA</td>\n",
       "      <td>adenosine</td>\n",
       "      <td>0.756890</td>\n",
       "    </tr>\n",
       "    <tr>\n",
       "      <th>1</th>\n",
       "      <td>ADA</td>\n",
       "      <td>adenosine deaminase activity</td>\n",
       "      <td>ADA</td>\n",
       "      <td>adenosine</td>\n",
       "      <td>0.704996</td>\n",
       "    </tr>\n",
       "    <tr>\n",
       "      <th>2</th>\n",
       "      <td>MYD88</td>\n",
       "      <td>positive regulation of NF-kappaB transcription...</td>\n",
       "      <td>TLR4</td>\n",
       "      <td>nitrogen dioxide</td>\n",
       "      <td>0.693643</td>\n",
       "    </tr>\n",
       "    <tr>\n",
       "      <th>3</th>\n",
       "      <td>MYD88</td>\n",
       "      <td>positive regulation of NF-kappaB transcription...</td>\n",
       "      <td>TLR4</td>\n",
       "      <td>ozone</td>\n",
       "      <td>0.693228</td>\n",
       "    </tr>\n",
       "    <tr>\n",
       "      <th>4</th>\n",
       "      <td>NOD2</td>\n",
       "      <td>positive regulation of NF-kappaB transcription...</td>\n",
       "      <td>TLR4</td>\n",
       "      <td>muramyl dipeptide</td>\n",
       "      <td>0.675352</td>\n",
       "    </tr>\n",
       "  </tbody>\n",
       "</table>\n",
       "</div>"
      ],
      "text/plain": [
       "  n1 - name                                          n2 - name  n3 - name   \\\n",
       "0        ADA                                              aging        ADA   \n",
       "1        ADA                       adenosine deaminase activity        ADA   \n",
       "2      MYD88  positive regulation of NF-kappaB transcription...       TLR4   \n",
       "3      MYD88  positive regulation of NF-kappaB transcription...       TLR4   \n",
       "4       NOD2  positive regulation of NF-kappaB transcription...       TLR4   \n",
       "\n",
       "          n4 - name      score  \n",
       "0          adenosine  0.756890  \n",
       "1          adenosine  0.704996  \n",
       "2   nitrogen dioxide  0.693643  \n",
       "3              ozone  0.693228  \n",
       "4  muramyl dipeptide  0.675352  "
      ]
     },
     "metadata": {},
     "output_type": "display_data"
    },
    {
     "data": {
      "text/html": [
       "<h3>rheumatoid arthritis</h3>"
      ],
      "text/plain": [
       "<IPython.core.display.HTML object>"
      ]
     },
     "metadata": {},
     "output_type": "display_data"
    },
    {
     "data": {
      "text/html": [
       "<a href=http://robokop.renci.org/simple/view/fc06db1a-b95b-46c4-b887-19e1d2a4f152>View Answer in ROBOKOP</a>"
      ],
      "text/plain": [
       "<IPython.core.display.HTML object>"
      ]
     },
     "metadata": {},
     "output_type": "display_data"
    },
    {
     "data": {
      "text/html": [
       "<div>\n",
       "<style>\n",
       "    .dataframe thead tr:only-child th {\n",
       "        text-align: right;\n",
       "    }\n",
       "\n",
       "    .dataframe thead th {\n",
       "        text-align: left;\n",
       "    }\n",
       "\n",
       "    .dataframe tbody tr th {\n",
       "        vertical-align: top;\n",
       "    }\n",
       "</style>\n",
       "<table border=\"1\" class=\"dataframe\">\n",
       "  <thead>\n",
       "    <tr style=\"text-align: right;\">\n",
       "      <th></th>\n",
       "      <th>n1 - name</th>\n",
       "      <th>n2 - name</th>\n",
       "      <th>n3 - name</th>\n",
       "      <th>n4 - name</th>\n",
       "      <th>score</th>\n",
       "    </tr>\n",
       "  </thead>\n",
       "  <tbody>\n",
       "    <tr>\n",
       "      <th>0</th>\n",
       "      <td>FASLG</td>\n",
       "      <td>activation of cysteine-type endopeptidase acti...</td>\n",
       "      <td>FAS</td>\n",
       "      <td>vorinostat</td>\n",
       "      <td>0.776149</td>\n",
       "    </tr>\n",
       "    <tr>\n",
       "      <th>1</th>\n",
       "      <td>FASLG</td>\n",
       "      <td>positive regulation of apoptotic process</td>\n",
       "      <td>FAS</td>\n",
       "      <td>vorinostat</td>\n",
       "      <td>0.776066</td>\n",
       "    </tr>\n",
       "    <tr>\n",
       "      <th>2</th>\n",
       "      <td>FASLG</td>\n",
       "      <td>apoptotic signaling pathway</td>\n",
       "      <td>FAS</td>\n",
       "      <td>vorinostat</td>\n",
       "      <td>0.775142</td>\n",
       "    </tr>\n",
       "    <tr>\n",
       "      <th>3</th>\n",
       "      <td>TLR2</td>\n",
       "      <td>positive regulation of NF-kappaB transcription...</td>\n",
       "      <td>TLR4</td>\n",
       "      <td>nitrogen dioxide</td>\n",
       "      <td>0.764280</td>\n",
       "    </tr>\n",
       "    <tr>\n",
       "      <th>4</th>\n",
       "      <td>TLR2</td>\n",
       "      <td>positive regulation of NF-kappaB transcription...</td>\n",
       "      <td>TLR4</td>\n",
       "      <td>ozone</td>\n",
       "      <td>0.764276</td>\n",
       "    </tr>\n",
       "  </tbody>\n",
       "</table>\n",
       "</div>"
      ],
      "text/plain": [
       "  n1 - name                                          n2 - name  n3 - name   \\\n",
       "0      FASLG  activation of cysteine-type endopeptidase acti...        FAS   \n",
       "1      FASLG           positive regulation of apoptotic process        FAS   \n",
       "2      FASLG                        apoptotic signaling pathway        FAS   \n",
       "3       TLR2  positive regulation of NF-kappaB transcription...       TLR4   \n",
       "4       TLR2  positive regulation of NF-kappaB transcription...       TLR4   \n",
       "\n",
       "         n4 - name      score  \n",
       "0        vorinostat  0.776149  \n",
       "1        vorinostat  0.776066  \n",
       "2        vorinostat  0.775142  \n",
       "3  nitrogen dioxide  0.764280  \n",
       "4             ozone  0.764276  "
      ]
     },
     "metadata": {},
     "output_type": "display_data"
    },
    {
     "data": {
      "text/html": [
       "<h3>drug-induced liver injury</h3>"
      ],
      "text/plain": [
       "<IPython.core.display.HTML object>"
      ]
     },
     "metadata": {},
     "output_type": "display_data"
    },
    {
     "data": {
      "text/html": [
       "<a href=http://robokop.renci.org/simple/view/51d2ae0c-1edd-4ae7-9a84-c9955a324470>View Answer in ROBOKOP</a>"
      ],
      "text/plain": [
       "<IPython.core.display.HTML object>"
      ]
     },
     "metadata": {},
     "output_type": "display_data"
    },
    {
     "data": {
      "text/html": [
       "<div>\n",
       "<style>\n",
       "    .dataframe thead tr:only-child th {\n",
       "        text-align: right;\n",
       "    }\n",
       "\n",
       "    .dataframe thead th {\n",
       "        text-align: left;\n",
       "    }\n",
       "\n",
       "    .dataframe tbody tr th {\n",
       "        vertical-align: top;\n",
       "    }\n",
       "</style>\n",
       "<table border=\"1\" class=\"dataframe\">\n",
       "  <thead>\n",
       "    <tr style=\"text-align: right;\">\n",
       "      <th></th>\n",
       "      <th>n1 - name</th>\n",
       "      <th>n2 - name</th>\n",
       "      <th>n3 - name</th>\n",
       "      <th>n4 - name</th>\n",
       "      <th>score</th>\n",
       "    </tr>\n",
       "  </thead>\n",
       "  <tbody>\n",
       "    <tr>\n",
       "      <th>0</th>\n",
       "      <td>UGT1A9</td>\n",
       "      <td>xenobiotic metabolic process</td>\n",
       "      <td>CYP2B6</td>\n",
       "      <td>bupropion</td>\n",
       "      <td>0.643714</td>\n",
       "    </tr>\n",
       "    <tr>\n",
       "      <th>1</th>\n",
       "      <td>IGF1</td>\n",
       "      <td>response to heat</td>\n",
       "      <td>GCLC</td>\n",
       "      <td>curcumin</td>\n",
       "      <td>0.628742</td>\n",
       "    </tr>\n",
       "    <tr>\n",
       "      <th>2</th>\n",
       "      <td>CYP2B6</td>\n",
       "      <td>xenobiotic metabolic process</td>\n",
       "      <td>CYP2B6</td>\n",
       "      <td>bupropion</td>\n",
       "      <td>0.625592</td>\n",
       "    </tr>\n",
       "    <tr>\n",
       "      <th>3</th>\n",
       "      <td>CYP2B6</td>\n",
       "      <td>oxidoreductase activity, acting on paired dono...</td>\n",
       "      <td>CYP2B6</td>\n",
       "      <td>bupropion</td>\n",
       "      <td>0.625410</td>\n",
       "    </tr>\n",
       "    <tr>\n",
       "      <th>4</th>\n",
       "      <td>UGT1A9</td>\n",
       "      <td>xenobiotic metabolic process</td>\n",
       "      <td>FMO3</td>\n",
       "      <td>sulindac</td>\n",
       "      <td>0.609977</td>\n",
       "    </tr>\n",
       "  </tbody>\n",
       "</table>\n",
       "</div>"
      ],
      "text/plain": [
       "  n1 - name                                          n2 - name  n3 - name   \\\n",
       "0     UGT1A9                       xenobiotic metabolic process     CYP2B6   \n",
       "1       IGF1                                   response to heat       GCLC   \n",
       "2     CYP2B6                       xenobiotic metabolic process     CYP2B6   \n",
       "3     CYP2B6  oxidoreductase activity, acting on paired dono...     CYP2B6   \n",
       "4     UGT1A9                       xenobiotic metabolic process       FMO3   \n",
       "\n",
       "  n4 - name      score  \n",
       "0  bupropion  0.643714  \n",
       "1   curcumin  0.628742  \n",
       "2  bupropion  0.625592  \n",
       "3  bupropion  0.625410  \n",
       "4   sulindac  0.609977  "
      ]
     },
     "metadata": {},
     "output_type": "display_data"
    },
    {
     "data": {
      "text/html": [
       "<h3>lipodystrophy (disease)</h3>"
      ],
      "text/plain": [
       "<IPython.core.display.HTML object>"
      ]
     },
     "metadata": {},
     "output_type": "display_data"
    },
    {
     "data": {
      "text/html": [
       "<a href=http://robokop.renci.org/simple/view/ae4027d2-c580-416c-b595-42afc9ef6c10>View Answer in ROBOKOP</a>"
      ],
      "text/plain": [
       "<IPython.core.display.HTML object>"
      ]
     },
     "metadata": {},
     "output_type": "display_data"
    },
    {
     "data": {
      "text/html": [
       "<div>\n",
       "<style>\n",
       "    .dataframe thead tr:only-child th {\n",
       "        text-align: right;\n",
       "    }\n",
       "\n",
       "    .dataframe thead th {\n",
       "        text-align: left;\n",
       "    }\n",
       "\n",
       "    .dataframe tbody tr th {\n",
       "        vertical-align: top;\n",
       "    }\n",
       "</style>\n",
       "<table border=\"1\" class=\"dataframe\">\n",
       "  <thead>\n",
       "    <tr style=\"text-align: right;\">\n",
       "      <th></th>\n",
       "      <th>n1 - name</th>\n",
       "      <th>n2 - name</th>\n",
       "      <th>n3 - name</th>\n",
       "      <th>n4 - name</th>\n",
       "      <th>score</th>\n",
       "    </tr>\n",
       "  </thead>\n",
       "  <tbody>\n",
       "    <tr>\n",
       "      <th>0</th>\n",
       "      <td>CAV1</td>\n",
       "      <td>response to bacterium</td>\n",
       "      <td>ADIPOQ</td>\n",
       "      <td>rosiglitazone</td>\n",
       "      <td>0.690904</td>\n",
       "    </tr>\n",
       "    <tr>\n",
       "      <th>1</th>\n",
       "      <td>CAV1</td>\n",
       "      <td>positive regulation of cold-induced thermogenesis</td>\n",
       "      <td>ADIPOQ</td>\n",
       "      <td>rosiglitazone</td>\n",
       "      <td>0.670684</td>\n",
       "    </tr>\n",
       "    <tr>\n",
       "      <th>2</th>\n",
       "      <td>CAV1</td>\n",
       "      <td>protein homooligomerization</td>\n",
       "      <td>ADIPOQ</td>\n",
       "      <td>rosiglitazone</td>\n",
       "      <td>0.670684</td>\n",
       "    </tr>\n",
       "    <tr>\n",
       "      <th>3</th>\n",
       "      <td>PIK3R1</td>\n",
       "      <td>insulin-like growth factor receptor binding</td>\n",
       "      <td>INS</td>\n",
       "      <td>rosiglitazone</td>\n",
       "      <td>0.649484</td>\n",
       "    </tr>\n",
       "    <tr>\n",
       "      <th>4</th>\n",
       "      <td>CAV1</td>\n",
       "      <td>response to bacterium</td>\n",
       "      <td>ADIPOQ</td>\n",
       "      <td>streptozocin</td>\n",
       "      <td>0.618930</td>\n",
       "    </tr>\n",
       "  </tbody>\n",
       "</table>\n",
       "</div>"
      ],
      "text/plain": [
       "  n1 - name                                          n2 - name  n3 - name   \\\n",
       "0       CAV1                              response to bacterium     ADIPOQ   \n",
       "1       CAV1  positive regulation of cold-induced thermogenesis     ADIPOQ   \n",
       "2       CAV1                        protein homooligomerization     ADIPOQ   \n",
       "3     PIK3R1        insulin-like growth factor receptor binding        INS   \n",
       "4       CAV1                              response to bacterium     ADIPOQ   \n",
       "\n",
       "      n4 - name      score  \n",
       "0  rosiglitazone  0.690904  \n",
       "1  rosiglitazone  0.670684  \n",
       "2  rosiglitazone  0.670684  \n",
       "3  rosiglitazone  0.649484  \n",
       "4   streptozocin  0.618930  "
      ]
     },
     "metadata": {},
     "output_type": "display_data"
    },
    {
     "data": {
      "text/html": [
       "<h3>aggressive periodontitis</h3>"
      ],
      "text/plain": [
       "<IPython.core.display.HTML object>"
      ]
     },
     "metadata": {},
     "output_type": "display_data"
    },
    {
     "data": {
      "text/html": [
       "<a href=http://robokop.renci.org/simple/view/f1e7fb43-950e-4668-b8ee-f5b082b5fd88>View Answer in ROBOKOP</a>"
      ],
      "text/plain": [
       "<IPython.core.display.HTML object>"
      ]
     },
     "metadata": {},
     "output_type": "display_data"
    },
    {
     "data": {
      "text/html": [
       "<div>\n",
       "<style>\n",
       "    .dataframe thead tr:only-child th {\n",
       "        text-align: right;\n",
       "    }\n",
       "\n",
       "    .dataframe thead th {\n",
       "        text-align: left;\n",
       "    }\n",
       "\n",
       "    .dataframe tbody tr th {\n",
       "        vertical-align: top;\n",
       "    }\n",
       "</style>\n",
       "<table border=\"1\" class=\"dataframe\">\n",
       "  <thead>\n",
       "    <tr style=\"text-align: right;\">\n",
       "      <th></th>\n",
       "      <th>n1 - name</th>\n",
       "      <th>n2 - name</th>\n",
       "      <th>n3 - name</th>\n",
       "      <th>n4 - name</th>\n",
       "      <th>score</th>\n",
       "    </tr>\n",
       "  </thead>\n",
       "  <tbody>\n",
       "    <tr>\n",
       "      <th>0</th>\n",
       "      <td>FPR1</td>\n",
       "      <td>chemotaxis</td>\n",
       "      <td>CCL3</td>\n",
       "      <td>ozone</td>\n",
       "      <td>0.366609</td>\n",
       "    </tr>\n",
       "    <tr>\n",
       "      <th>1</th>\n",
       "      <td>FPR1</td>\n",
       "      <td>chemotaxis</td>\n",
       "      <td>CXCL5</td>\n",
       "      <td>ozone</td>\n",
       "      <td>0.361599</td>\n",
       "    </tr>\n",
       "    <tr>\n",
       "      <th>2</th>\n",
       "      <td>FPR1</td>\n",
       "      <td>cytokine-mediated signaling pathway</td>\n",
       "      <td>IL4</td>\n",
       "      <td>prostaglandin E2</td>\n",
       "      <td>0.361126</td>\n",
       "    </tr>\n",
       "    <tr>\n",
       "      <th>3</th>\n",
       "      <td>FPR1</td>\n",
       "      <td>chemotaxis</td>\n",
       "      <td>CXCL10</td>\n",
       "      <td>ozone</td>\n",
       "      <td>0.348512</td>\n",
       "    </tr>\n",
       "    <tr>\n",
       "      <th>4</th>\n",
       "      <td>FPR1</td>\n",
       "      <td>chemotaxis</td>\n",
       "      <td>S100A9</td>\n",
       "      <td>ozone</td>\n",
       "      <td>0.347366</td>\n",
       "    </tr>\n",
       "  </tbody>\n",
       "</table>\n",
       "</div>"
      ],
      "text/plain": [
       "  n1 - name                            n2 - name  n3 - name   \\\n",
       "0       FPR1                           chemotaxis       CCL3   \n",
       "1       FPR1                           chemotaxis      CXCL5   \n",
       "2       FPR1  cytokine-mediated signaling pathway        IL4   \n",
       "3       FPR1                           chemotaxis     CXCL10   \n",
       "4       FPR1                           chemotaxis     S100A9   \n",
       "\n",
       "         n4 - name      score  \n",
       "0             ozone  0.366609  \n",
       "1             ozone  0.361599  \n",
       "2  prostaglandin E2  0.361126  \n",
       "3             ozone  0.348512  \n",
       "4             ozone  0.347366  "
      ]
     },
     "metadata": {},
     "output_type": "display_data"
    },
    {
     "data": {
      "text/html": [
       "<h3>dementia</h3>"
      ],
      "text/plain": [
       "<IPython.core.display.HTML object>"
      ]
     },
     "metadata": {},
     "output_type": "display_data"
    },
    {
     "data": {
      "text/html": [
       "<a href=http://robokop.renci.org/simple/view/6f3f903d-4b15-427e-a8d5-6d10007f6b89>View Answer in ROBOKOP</a>"
      ],
      "text/plain": [
       "<IPython.core.display.HTML object>"
      ]
     },
     "metadata": {},
     "output_type": "display_data"
    },
    {
     "data": {
      "text/html": [
       "<div>\n",
       "<style>\n",
       "    .dataframe thead tr:only-child th {\n",
       "        text-align: right;\n",
       "    }\n",
       "\n",
       "    .dataframe thead th {\n",
       "        text-align: left;\n",
       "    }\n",
       "\n",
       "    .dataframe tbody tr th {\n",
       "        vertical-align: top;\n",
       "    }\n",
       "</style>\n",
       "<table border=\"1\" class=\"dataframe\">\n",
       "  <thead>\n",
       "    <tr style=\"text-align: right;\">\n",
       "      <th></th>\n",
       "      <th>n1 - name</th>\n",
       "      <th>n2 - name</th>\n",
       "      <th>n3 - name</th>\n",
       "      <th>n4 - name</th>\n",
       "      <th>score</th>\n",
       "    </tr>\n",
       "  </thead>\n",
       "  <tbody>\n",
       "    <tr>\n",
       "      <th>0</th>\n",
       "      <td>SNCA</td>\n",
       "      <td>aging</td>\n",
       "      <td>SNCA</td>\n",
       "      <td>rotenone</td>\n",
       "      <td>0.798599</td>\n",
       "    </tr>\n",
       "    <tr>\n",
       "      <th>1</th>\n",
       "      <td>CREB1</td>\n",
       "      <td>aging</td>\n",
       "      <td>SNCA</td>\n",
       "      <td>rotenone</td>\n",
       "      <td>0.797257</td>\n",
       "    </tr>\n",
       "    <tr>\n",
       "      <th>2</th>\n",
       "      <td>SQSTM1</td>\n",
       "      <td>positive regulation of apoptotic process</td>\n",
       "      <td>SNCA</td>\n",
       "      <td>rotenone</td>\n",
       "      <td>0.790197</td>\n",
       "    </tr>\n",
       "    <tr>\n",
       "      <th>3</th>\n",
       "      <td>CP</td>\n",
       "      <td>copper ion binding</td>\n",
       "      <td>SNCA</td>\n",
       "      <td>rotenone</td>\n",
       "      <td>0.785854</td>\n",
       "    </tr>\n",
       "    <tr>\n",
       "      <th>4</th>\n",
       "      <td>MT-ND4</td>\n",
       "      <td>aging</td>\n",
       "      <td>SNCA</td>\n",
       "      <td>rotenone</td>\n",
       "      <td>0.766650</td>\n",
       "    </tr>\n",
       "  </tbody>\n",
       "</table>\n",
       "</div>"
      ],
      "text/plain": [
       "  n1 - name                                 n2 - name  n3 - name  n4 - name   \\\n",
       "0       SNCA                                     aging       SNCA   rotenone   \n",
       "1      CREB1                                     aging       SNCA   rotenone   \n",
       "2     SQSTM1  positive regulation of apoptotic process       SNCA   rotenone   \n",
       "3         CP                        copper ion binding       SNCA   rotenone   \n",
       "4     MT-ND4                                     aging       SNCA   rotenone   \n",
       "\n",
       "      score  \n",
       "0  0.798599  \n",
       "1  0.797257  \n",
       "2  0.790197  \n",
       "3  0.785854  \n",
       "4  0.766650  "
      ]
     },
     "metadata": {},
     "output_type": "display_data"
    },
    {
     "data": {
      "text/html": [
       "<h3>inflammatory bowel disease</h3>"
      ],
      "text/plain": [
       "<IPython.core.display.HTML object>"
      ]
     },
     "metadata": {},
     "output_type": "display_data"
    },
    {
     "data": {
      "text/html": [
       "<a href=http://robokop.renci.org/simple/view/f1fa3b89-cf86-4798-8fed-809d18e28170>View Answer in ROBOKOP</a>"
      ],
      "text/plain": [
       "<IPython.core.display.HTML object>"
      ]
     },
     "metadata": {},
     "output_type": "display_data"
    },
    {
     "data": {
      "text/html": [
       "<div>\n",
       "<style>\n",
       "    .dataframe thead tr:only-child th {\n",
       "        text-align: right;\n",
       "    }\n",
       "\n",
       "    .dataframe thead th {\n",
       "        text-align: left;\n",
       "    }\n",
       "\n",
       "    .dataframe tbody tr th {\n",
       "        vertical-align: top;\n",
       "    }\n",
       "</style>\n",
       "<table border=\"1\" class=\"dataframe\">\n",
       "  <thead>\n",
       "    <tr style=\"text-align: right;\">\n",
       "      <th></th>\n",
       "      <th>n1 - name</th>\n",
       "      <th>n2 - name</th>\n",
       "      <th>n3 - name</th>\n",
       "      <th>n4 - name</th>\n",
       "      <th>score</th>\n",
       "    </tr>\n",
       "  </thead>\n",
       "  <tbody>\n",
       "    <tr>\n",
       "      <th>0</th>\n",
       "      <td>NOD2</td>\n",
       "      <td>positive regulation of NF-kappaB transcription...</td>\n",
       "      <td>TLR4</td>\n",
       "      <td>muramyl dipeptide</td>\n",
       "      <td>0.706492</td>\n",
       "    </tr>\n",
       "    <tr>\n",
       "      <th>1</th>\n",
       "      <td>NOD2</td>\n",
       "      <td>positive regulation of NF-kappaB transcription...</td>\n",
       "      <td>TLR2</td>\n",
       "      <td>muramyl dipeptide</td>\n",
       "      <td>0.702321</td>\n",
       "    </tr>\n",
       "    <tr>\n",
       "      <th>2</th>\n",
       "      <td>NOD2</td>\n",
       "      <td>nucleotide-binding oligomerization domain cont...</td>\n",
       "      <td>NFKBIA</td>\n",
       "      <td>dextran sulfate</td>\n",
       "      <td>0.667926</td>\n",
       "    </tr>\n",
       "    <tr>\n",
       "      <th>3</th>\n",
       "      <td>NOD2</td>\n",
       "      <td>positive regulation of interleukin-6 production</td>\n",
       "      <td>TLR4</td>\n",
       "      <td>muramyl dipeptide</td>\n",
       "      <td>0.665063</td>\n",
       "    </tr>\n",
       "    <tr>\n",
       "      <th>4</th>\n",
       "      <td>CYBB</td>\n",
       "      <td>positive regulation of angiogenesis</td>\n",
       "      <td>SIRT1</td>\n",
       "      <td>nicotinamide</td>\n",
       "      <td>0.660995</td>\n",
       "    </tr>\n",
       "  </tbody>\n",
       "</table>\n",
       "</div>"
      ],
      "text/plain": [
       "  n1 - name                                          n2 - name  n3 - name   \\\n",
       "0       NOD2  positive regulation of NF-kappaB transcription...       TLR4   \n",
       "1       NOD2  positive regulation of NF-kappaB transcription...       TLR2   \n",
       "2       NOD2  nucleotide-binding oligomerization domain cont...     NFKBIA   \n",
       "3       NOD2    positive regulation of interleukin-6 production       TLR4   \n",
       "4       CYBB                positive regulation of angiogenesis      SIRT1   \n",
       "\n",
       "          n4 - name      score  \n",
       "0  muramyl dipeptide  0.706492  \n",
       "1  muramyl dipeptide  0.702321  \n",
       "2    dextran sulfate  0.667926  \n",
       "3  muramyl dipeptide  0.665063  \n",
       "4       nicotinamide  0.660995  "
      ]
     },
     "metadata": {},
     "output_type": "display_data"
    },
    {
     "data": {
      "text/html": [
       "<h3>asthma</h3>"
      ],
      "text/plain": [
       "<IPython.core.display.HTML object>"
      ]
     },
     "metadata": {},
     "output_type": "display_data"
    },
    {
     "data": {
      "text/html": [
       "<a href=http://robokop.renci.org/simple/view/b1245f35-44dd-461d-aefb-24f7a4330f5f>View Answer in ROBOKOP</a>"
      ],
      "text/plain": [
       "<IPython.core.display.HTML object>"
      ]
     },
     "metadata": {},
     "output_type": "display_data"
    },
    {
     "data": {
      "text/html": [
       "<div>\n",
       "<style>\n",
       "    .dataframe thead tr:only-child th {\n",
       "        text-align: right;\n",
       "    }\n",
       "\n",
       "    .dataframe thead th {\n",
       "        text-align: left;\n",
       "    }\n",
       "\n",
       "    .dataframe tbody tr th {\n",
       "        vertical-align: top;\n",
       "    }\n",
       "</style>\n",
       "<table border=\"1\" class=\"dataframe\">\n",
       "  <thead>\n",
       "    <tr style=\"text-align: right;\">\n",
       "      <th></th>\n",
       "      <th>n1 - name</th>\n",
       "      <th>n2 - name</th>\n",
       "      <th>n3 - name</th>\n",
       "      <th>n4 - name</th>\n",
       "      <th>score</th>\n",
       "    </tr>\n",
       "  </thead>\n",
       "  <tbody>\n",
       "    <tr>\n",
       "      <th>0</th>\n",
       "      <td>ADA</td>\n",
       "      <td>aging</td>\n",
       "      <td>ADA</td>\n",
       "      <td>adenosine</td>\n",
       "      <td>0.813724</td>\n",
       "    </tr>\n",
       "    <tr>\n",
       "      <th>1</th>\n",
       "      <td>IL13</td>\n",
       "      <td>response to lipopolysaccharide</td>\n",
       "      <td>TLR4</td>\n",
       "      <td>ozone</td>\n",
       "      <td>0.760154</td>\n",
       "    </tr>\n",
       "    <tr>\n",
       "      <th>2</th>\n",
       "      <td>TRPA1</td>\n",
       "      <td>sensory perception of pain</td>\n",
       "      <td>TAC1</td>\n",
       "      <td>capsaicin</td>\n",
       "      <td>0.730187</td>\n",
       "    </tr>\n",
       "    <tr>\n",
       "      <th>3</th>\n",
       "      <td>ARG1</td>\n",
       "      <td>aging</td>\n",
       "      <td>ADA</td>\n",
       "      <td>adenosine</td>\n",
       "      <td>0.709232</td>\n",
       "    </tr>\n",
       "    <tr>\n",
       "      <th>4</th>\n",
       "      <td>IL13</td>\n",
       "      <td>positive regulation of macrophage activation</td>\n",
       "      <td>TLR4</td>\n",
       "      <td>ozone</td>\n",
       "      <td>0.707705</td>\n",
       "    </tr>\n",
       "  </tbody>\n",
       "</table>\n",
       "</div>"
      ],
      "text/plain": [
       "  n1 - name                                     n2 - name  n3 - name   \\\n",
       "0        ADA                                         aging        ADA   \n",
       "1       IL13                response to lipopolysaccharide       TLR4   \n",
       "2      TRPA1                    sensory perception of pain       TAC1   \n",
       "3       ARG1                                         aging        ADA   \n",
       "4       IL13  positive regulation of macrophage activation       TLR4   \n",
       "\n",
       "  n4 - name      score  \n",
       "0  adenosine  0.813724  \n",
       "1      ozone  0.760154  \n",
       "2  capsaicin  0.730187  \n",
       "3  adenosine  0.709232  \n",
       "4      ozone  0.707705  "
      ]
     },
     "metadata": {},
     "output_type": "display_data"
    },
    {
     "data": {
      "text/html": [
       "<h3>osteoporosis</h3>"
      ],
      "text/plain": [
       "<IPython.core.display.HTML object>"
      ]
     },
     "metadata": {},
     "output_type": "display_data"
    },
    {
     "data": {
      "text/html": [
       "<a href=http://robokop.renci.org/simple/view/6d619598-d2ec-4367-9c16-b9aaf74cd9f7>View Answer in ROBOKOP</a>"
      ],
      "text/plain": [
       "<IPython.core.display.HTML object>"
      ]
     },
     "metadata": {},
     "output_type": "display_data"
    },
    {
     "data": {
      "text/html": [
       "<div>\n",
       "<style>\n",
       "    .dataframe thead tr:only-child th {\n",
       "        text-align: right;\n",
       "    }\n",
       "\n",
       "    .dataframe thead th {\n",
       "        text-align: left;\n",
       "    }\n",
       "\n",
       "    .dataframe tbody tr th {\n",
       "        vertical-align: top;\n",
       "    }\n",
       "</style>\n",
       "<table border=\"1\" class=\"dataframe\">\n",
       "  <thead>\n",
       "    <tr style=\"text-align: right;\">\n",
       "      <th></th>\n",
       "      <th>n1 - name</th>\n",
       "      <th>n2 - name</th>\n",
       "      <th>n3 - name</th>\n",
       "      <th>n4 - name</th>\n",
       "      <th>score</th>\n",
       "    </tr>\n",
       "  </thead>\n",
       "  <tbody>\n",
       "    <tr>\n",
       "      <th>0</th>\n",
       "      <td>POMC</td>\n",
       "      <td>regulation of blood pressure</td>\n",
       "      <td>CALCA</td>\n",
       "      <td>capsaicin</td>\n",
       "      <td>0.742392</td>\n",
       "    </tr>\n",
       "    <tr>\n",
       "      <th>1</th>\n",
       "      <td>CALCA</td>\n",
       "      <td>aging</td>\n",
       "      <td>CALCA</td>\n",
       "      <td>capsaicin</td>\n",
       "      <td>0.697887</td>\n",
       "    </tr>\n",
       "    <tr>\n",
       "      <th>2</th>\n",
       "      <td>RUNX2</td>\n",
       "      <td>osteoblast differentiation</td>\n",
       "      <td>COL1A1</td>\n",
       "      <td>rosiglitazone</td>\n",
       "      <td>0.677141</td>\n",
       "    </tr>\n",
       "    <tr>\n",
       "      <th>3</th>\n",
       "      <td>IGF1</td>\n",
       "      <td>insulin-like growth factor receptor binding</td>\n",
       "      <td>INS</td>\n",
       "      <td>rosiglitazone</td>\n",
       "      <td>0.671226</td>\n",
       "    </tr>\n",
       "    <tr>\n",
       "      <th>4</th>\n",
       "      <td>STAT1</td>\n",
       "      <td>endothelial cell migration</td>\n",
       "      <td>CALCA</td>\n",
       "      <td>capsaicin</td>\n",
       "      <td>0.670653</td>\n",
       "    </tr>\n",
       "  </tbody>\n",
       "</table>\n",
       "</div>"
      ],
      "text/plain": [
       "  n1 - name                                    n2 - name  n3 - name   \\\n",
       "0       POMC                 regulation of blood pressure      CALCA   \n",
       "1      CALCA                                        aging      CALCA   \n",
       "2      RUNX2                   osteoblast differentiation     COL1A1   \n",
       "3       IGF1  insulin-like growth factor receptor binding        INS   \n",
       "4      STAT1                   endothelial cell migration      CALCA   \n",
       "\n",
       "      n4 - name      score  \n",
       "0      capsaicin  0.742392  \n",
       "1      capsaicin  0.697887  \n",
       "2  rosiglitazone  0.677141  \n",
       "3  rosiglitazone  0.671226  \n",
       "4      capsaicin  0.670653  "
      ]
     },
     "metadata": {},
     "output_type": "display_data"
    },
    {
     "data": {
      "text/html": [
       "<h3>pulmonary edema</h3>"
      ],
      "text/plain": [
       "<IPython.core.display.HTML object>"
      ]
     },
     "metadata": {},
     "output_type": "display_data"
    },
    {
     "data": {
      "text/html": [
       "<a href=http://robokop.renci.org/simple/view/e3e9a35b-94dc-4392-90ec-cda769a3dfa0>View Answer in ROBOKOP</a>"
      ],
      "text/plain": [
       "<IPython.core.display.HTML object>"
      ]
     },
     "metadata": {},
     "output_type": "display_data"
    },
    {
     "data": {
      "text/html": [
       "<div>\n",
       "<style>\n",
       "    .dataframe thead tr:only-child th {\n",
       "        text-align: right;\n",
       "    }\n",
       "\n",
       "    .dataframe thead th {\n",
       "        text-align: left;\n",
       "    }\n",
       "\n",
       "    .dataframe tbody tr th {\n",
       "        vertical-align: top;\n",
       "    }\n",
       "</style>\n",
       "<table border=\"1\" class=\"dataframe\">\n",
       "  <thead>\n",
       "    <tr style=\"text-align: right;\">\n",
       "      <th></th>\n",
       "      <th>n1 - name</th>\n",
       "      <th>n2 - name</th>\n",
       "      <th>n3 - name</th>\n",
       "      <th>n4 - name</th>\n",
       "      <th>score</th>\n",
       "    </tr>\n",
       "  </thead>\n",
       "  <tbody>\n",
       "    <tr>\n",
       "      <th>0</th>\n",
       "      <td>MYD88</td>\n",
       "      <td>positive regulation of NF-kappaB transcription...</td>\n",
       "      <td>TLR4</td>\n",
       "      <td>nitrogen dioxide</td>\n",
       "      <td>0.579347</td>\n",
       "    </tr>\n",
       "    <tr>\n",
       "      <th>1</th>\n",
       "      <td>MYD88</td>\n",
       "      <td>positive regulation of NF-kappaB transcription...</td>\n",
       "      <td>TLR4</td>\n",
       "      <td>ozone</td>\n",
       "      <td>0.578950</td>\n",
       "    </tr>\n",
       "    <tr>\n",
       "      <th>2</th>\n",
       "      <td>MYD88</td>\n",
       "      <td>positive regulation of NF-kappaB transcription...</td>\n",
       "      <td>TLR2</td>\n",
       "      <td>nitrogen dioxide</td>\n",
       "      <td>0.542058</td>\n",
       "    </tr>\n",
       "    <tr>\n",
       "      <th>3</th>\n",
       "      <td>MYD88</td>\n",
       "      <td>positive regulation of NF-kappaB transcription...</td>\n",
       "      <td>TLR2</td>\n",
       "      <td>ozone</td>\n",
       "      <td>0.541642</td>\n",
       "    </tr>\n",
       "    <tr>\n",
       "      <th>4</th>\n",
       "      <td>CEBPA</td>\n",
       "      <td>glucose homeostasis</td>\n",
       "      <td>LEP</td>\n",
       "      <td>troglitazone</td>\n",
       "      <td>0.527329</td>\n",
       "    </tr>\n",
       "  </tbody>\n",
       "</table>\n",
       "</div>"
      ],
      "text/plain": [
       "  n1 - name                                          n2 - name  n3 - name   \\\n",
       "0      MYD88  positive regulation of NF-kappaB transcription...       TLR4   \n",
       "1      MYD88  positive regulation of NF-kappaB transcription...       TLR4   \n",
       "2      MYD88  positive regulation of NF-kappaB transcription...       TLR2   \n",
       "3      MYD88  positive regulation of NF-kappaB transcription...       TLR2   \n",
       "4      CEBPA                                glucose homeostasis        LEP   \n",
       "\n",
       "         n4 - name      score  \n",
       "0  nitrogen dioxide  0.579347  \n",
       "1             ozone  0.578950  \n",
       "2  nitrogen dioxide  0.542058  \n",
       "3             ozone  0.541642  \n",
       "4      troglitazone  0.527329  "
      ]
     },
     "metadata": {},
     "output_type": "display_data"
    },
    {
     "data": {
      "text/html": [
       "<h3>Parkinson disease</h3>"
      ],
      "text/plain": [
       "<IPython.core.display.HTML object>"
      ]
     },
     "metadata": {},
     "output_type": "display_data"
    },
    {
     "data": {
      "text/html": [
       "<a href=http://robokop.renci.org/simple/view/01cd118b-2eac-47fb-a583-52e160ebe18c>View Answer in ROBOKOP</a>"
      ],
      "text/plain": [
       "<IPython.core.display.HTML object>"
      ]
     },
     "metadata": {},
     "output_type": "display_data"
    },
    {
     "data": {
      "text/html": [
       "<div>\n",
       "<style>\n",
       "    .dataframe thead tr:only-child th {\n",
       "        text-align: right;\n",
       "    }\n",
       "\n",
       "    .dataframe thead th {\n",
       "        text-align: left;\n",
       "    }\n",
       "\n",
       "    .dataframe tbody tr th {\n",
       "        vertical-align: top;\n",
       "    }\n",
       "</style>\n",
       "<table border=\"1\" class=\"dataframe\">\n",
       "  <thead>\n",
       "    <tr style=\"text-align: right;\">\n",
       "      <th></th>\n",
       "      <th>n1 - name</th>\n",
       "      <th>n2 - name</th>\n",
       "      <th>n3 - name</th>\n",
       "      <th>n4 - name</th>\n",
       "      <th>score</th>\n",
       "    </tr>\n",
       "  </thead>\n",
       "  <tbody>\n",
       "    <tr>\n",
       "      <th>0</th>\n",
       "      <td>PINK1</td>\n",
       "      <td>negative regulation of neuron apoptotic process</td>\n",
       "      <td>SNCA</td>\n",
       "      <td>rotenone</td>\n",
       "      <td>0.953451</td>\n",
       "    </tr>\n",
       "    <tr>\n",
       "      <th>1</th>\n",
       "      <td>PARK7</td>\n",
       "      <td>negative regulation of neuron apoptotic process</td>\n",
       "      <td>SNCA</td>\n",
       "      <td>rotenone</td>\n",
       "      <td>0.931226</td>\n",
       "    </tr>\n",
       "    <tr>\n",
       "      <th>2</th>\n",
       "      <td>PINK1</td>\n",
       "      <td>cellular response to oxidative stress</td>\n",
       "      <td>SNCA</td>\n",
       "      <td>rotenone</td>\n",
       "      <td>0.922589</td>\n",
       "    </tr>\n",
       "    <tr>\n",
       "      <th>3</th>\n",
       "      <td>SREBF1</td>\n",
       "      <td>aging</td>\n",
       "      <td>SNCA</td>\n",
       "      <td>rotenone</td>\n",
       "      <td>0.919918</td>\n",
       "    </tr>\n",
       "    <tr>\n",
       "      <th>4</th>\n",
       "      <td>HTRA2</td>\n",
       "      <td>aging</td>\n",
       "      <td>SNCA</td>\n",
       "      <td>rotenone</td>\n",
       "      <td>0.917072</td>\n",
       "    </tr>\n",
       "  </tbody>\n",
       "</table>\n",
       "</div>"
      ],
      "text/plain": [
       "  n1 - name                                        n2 - name  n3 - name   \\\n",
       "0      PINK1  negative regulation of neuron apoptotic process       SNCA   \n",
       "1      PARK7  negative regulation of neuron apoptotic process       SNCA   \n",
       "2      PINK1            cellular response to oxidative stress       SNCA   \n",
       "3     SREBF1                                            aging       SNCA   \n",
       "4      HTRA2                                            aging       SNCA   \n",
       "\n",
       "  n4 - name      score  \n",
       "0   rotenone  0.953451  \n",
       "1   rotenone  0.931226  \n",
       "2   rotenone  0.922589  \n",
       "3   rotenone  0.919918  \n",
       "4   rotenone  0.917072  "
      ]
     },
     "metadata": {},
     "output_type": "display_data"
    },
    {
     "data": {
      "text/html": [
       "<h3>arteriolosclerosis</h3>"
      ],
      "text/plain": [
       "<IPython.core.display.HTML object>"
      ]
     },
     "metadata": {},
     "output_type": "display_data"
    },
    {
     "data": {
      "text/html": [
       "<a href=http://robokop.renci.org/simple/view/d7793663-22fd-436b-b581-c35579a74a4c>View Answer in ROBOKOP</a>"
      ],
      "text/plain": [
       "<IPython.core.display.HTML object>"
      ]
     },
     "metadata": {},
     "output_type": "display_data"
    },
    {
     "data": {
      "text/html": [
       "<div>\n",
       "<style>\n",
       "    .dataframe thead tr:only-child th {\n",
       "        text-align: right;\n",
       "    }\n",
       "\n",
       "    .dataframe thead th {\n",
       "        text-align: left;\n",
       "    }\n",
       "\n",
       "    .dataframe tbody tr th {\n",
       "        vertical-align: top;\n",
       "    }\n",
       "</style>\n",
       "<table border=\"1\" class=\"dataframe\">\n",
       "  <thead>\n",
       "    <tr style=\"text-align: right;\">\n",
       "      <th></th>\n",
       "      <th>n1 - name</th>\n",
       "      <th>n2 - name</th>\n",
       "      <th>n3 - name</th>\n",
       "      <th>n4 - name</th>\n",
       "      <th>score</th>\n",
       "    </tr>\n",
       "  </thead>\n",
       "  <tbody>\n",
       "    <tr>\n",
       "      <th>0</th>\n",
       "      <td>ABCC9</td>\n",
       "      <td>ATPase activity, coupled to transmembrane move...</td>\n",
       "      <td>ABCC9</td>\n",
       "      <td>nicorandil</td>\n",
       "      <td>0.335757</td>\n",
       "    </tr>\n",
       "    <tr>\n",
       "      <th>1</th>\n",
       "      <td>ABCC9</td>\n",
       "      <td>potassium ion transport</td>\n",
       "      <td>ABCC9</td>\n",
       "      <td>nicorandil</td>\n",
       "      <td>0.335382</td>\n",
       "    </tr>\n",
       "    <tr>\n",
       "      <th>2</th>\n",
       "      <td>ABCC9</td>\n",
       "      <td>ATPase activity, coupled to transmembrane move...</td>\n",
       "      <td>ABCC9</td>\n",
       "      <td>oxybenzone</td>\n",
       "      <td>0.335070</td>\n",
       "    </tr>\n",
       "    <tr>\n",
       "      <th>3</th>\n",
       "      <td>ABCC9</td>\n",
       "      <td>potassium channel activity</td>\n",
       "      <td>ABCC9</td>\n",
       "      <td>nicorandil</td>\n",
       "      <td>0.329693</td>\n",
       "    </tr>\n",
       "    <tr>\n",
       "      <th>4</th>\n",
       "      <td>ABCC9</td>\n",
       "      <td>response to drug</td>\n",
       "      <td>ABCC9</td>\n",
       "      <td>nicorandil</td>\n",
       "      <td>0.329685</td>\n",
       "    </tr>\n",
       "  </tbody>\n",
       "</table>\n",
       "</div>"
      ],
      "text/plain": [
       "  n1 - name                                          n2 - name  n3 - name   \\\n",
       "0      ABCC9  ATPase activity, coupled to transmembrane move...      ABCC9   \n",
       "1      ABCC9                            potassium ion transport      ABCC9   \n",
       "2      ABCC9  ATPase activity, coupled to transmembrane move...      ABCC9   \n",
       "3      ABCC9                         potassium channel activity      ABCC9   \n",
       "4      ABCC9                                   response to drug      ABCC9   \n",
       "\n",
       "   n4 - name      score  \n",
       "0  nicorandil  0.335757  \n",
       "1  nicorandil  0.335382  \n",
       "2  oxybenzone  0.335070  \n",
       "3  nicorandil  0.329693  \n",
       "4  nicorandil  0.329685  "
      ]
     },
     "metadata": {},
     "output_type": "display_data"
    },
    {
     "data": {
      "text/html": [
       "<h3>schizophrenia</h3>"
      ],
      "text/plain": [
       "<IPython.core.display.HTML object>"
      ]
     },
     "metadata": {},
     "output_type": "display_data"
    },
    {
     "data": {
      "text/html": [
       "<a href=http://robokop.renci.org/simple/view/290a9a81-1955-4fca-9d62-71883e02b6bf>View Answer in ROBOKOP</a>"
      ],
      "text/plain": [
       "<IPython.core.display.HTML object>"
      ]
     },
     "metadata": {},
     "output_type": "display_data"
    },
    {
     "data": {
      "text/html": [
       "<div>\n",
       "<style>\n",
       "    .dataframe thead tr:only-child th {\n",
       "        text-align: right;\n",
       "    }\n",
       "\n",
       "    .dataframe thead th {\n",
       "        text-align: left;\n",
       "    }\n",
       "\n",
       "    .dataframe tbody tr th {\n",
       "        vertical-align: top;\n",
       "    }\n",
       "</style>\n",
       "<table border=\"1\" class=\"dataframe\">\n",
       "  <thead>\n",
       "    <tr style=\"text-align: right;\">\n",
       "      <th></th>\n",
       "      <th>n1 - name</th>\n",
       "      <th>n2 - name</th>\n",
       "      <th>n3 - name</th>\n",
       "      <th>n4 - name</th>\n",
       "      <th>score</th>\n",
       "    </tr>\n",
       "  </thead>\n",
       "  <tbody>\n",
       "    <tr>\n",
       "      <th>0</th>\n",
       "      <td>NGF</td>\n",
       "      <td>memory</td>\n",
       "      <td>TH</td>\n",
       "      <td>methamphetamine</td>\n",
       "      <td>0.755321</td>\n",
       "    </tr>\n",
       "    <tr>\n",
       "      <th>1</th>\n",
       "      <td>NGF</td>\n",
       "      <td>memory</td>\n",
       "      <td>TH</td>\n",
       "      <td>reserpine</td>\n",
       "      <td>0.711517</td>\n",
       "    </tr>\n",
       "    <tr>\n",
       "      <th>2</th>\n",
       "      <td>GRIN2A</td>\n",
       "      <td>brain development</td>\n",
       "      <td>GRIN1</td>\n",
       "      <td>ketamine</td>\n",
       "      <td>0.686977</td>\n",
       "    </tr>\n",
       "    <tr>\n",
       "      <th>3</th>\n",
       "      <td>FOXO3</td>\n",
       "      <td>aging</td>\n",
       "      <td>PPARGC1A</td>\n",
       "      <td>troglitazone</td>\n",
       "      <td>0.681827</td>\n",
       "    </tr>\n",
       "    <tr>\n",
       "      <th>4</th>\n",
       "      <td>HDC</td>\n",
       "      <td>catecholamine biosynthetic process</td>\n",
       "      <td>TH</td>\n",
       "      <td>methamphetamine</td>\n",
       "      <td>0.674938</td>\n",
       "    </tr>\n",
       "  </tbody>\n",
       "</table>\n",
       "</div>"
      ],
      "text/plain": [
       "  n1 - name                           n2 - name  n3 - name        n4 - name   \\\n",
       "0        NGF                              memory         TH  methamphetamine   \n",
       "1        NGF                              memory         TH        reserpine   \n",
       "2     GRIN2A                   brain development      GRIN1         ketamine   \n",
       "3      FOXO3                               aging   PPARGC1A     troglitazone   \n",
       "4        HDC  catecholamine biosynthetic process         TH  methamphetamine   \n",
       "\n",
       "      score  \n",
       "0  0.755321  \n",
       "1  0.711517  \n",
       "2  0.686977  \n",
       "3  0.681827  \n",
       "4  0.674938  "
      ]
     },
     "metadata": {},
     "output_type": "display_data"
    },
    {
     "data": {
      "text/html": [
       "<h3>hypopituitarism</h3>"
      ],
      "text/plain": [
       "<IPython.core.display.HTML object>"
      ]
     },
     "metadata": {},
     "output_type": "display_data"
    },
    {
     "data": {
      "text/html": [
       "<a href=http://robokop.renci.org/simple/view/f6b1629b-35c4-418f-8751-348dbb5a38ff>View Answer in ROBOKOP</a>"
      ],
      "text/plain": [
       "<IPython.core.display.HTML object>"
      ]
     },
     "metadata": {},
     "output_type": "display_data"
    },
    {
     "data": {
      "text/html": [
       "<div>\n",
       "<style>\n",
       "    .dataframe thead tr:only-child th {\n",
       "        text-align: right;\n",
       "    }\n",
       "\n",
       "    .dataframe thead th {\n",
       "        text-align: left;\n",
       "    }\n",
       "\n",
       "    .dataframe tbody tr th {\n",
       "        vertical-align: top;\n",
       "    }\n",
       "</style>\n",
       "<table border=\"1\" class=\"dataframe\">\n",
       "  <thead>\n",
       "    <tr style=\"text-align: right;\">\n",
       "      <th></th>\n",
       "      <th>n1 - name</th>\n",
       "      <th>n2 - name</th>\n",
       "      <th>n3 - name</th>\n",
       "      <th>n4 - name</th>\n",
       "      <th>score</th>\n",
       "    </tr>\n",
       "  </thead>\n",
       "  <tbody>\n",
       "    <tr>\n",
       "      <th>0</th>\n",
       "      <td>GH1</td>\n",
       "      <td>prolactin receptor binding</td>\n",
       "      <td>PRL</td>\n",
       "      <td>bromocriptine</td>\n",
       "      <td>0.817072</td>\n",
       "    </tr>\n",
       "    <tr>\n",
       "      <th>1</th>\n",
       "      <td>PRL</td>\n",
       "      <td>prolactin receptor binding</td>\n",
       "      <td>PRL</td>\n",
       "      <td>bromocriptine</td>\n",
       "      <td>0.774212</td>\n",
       "    </tr>\n",
       "    <tr>\n",
       "      <th>2</th>\n",
       "      <td>PRL</td>\n",
       "      <td>prolactin receptor binding</td>\n",
       "      <td>GH1</td>\n",
       "      <td>bromocriptine</td>\n",
       "      <td>0.718111</td>\n",
       "    </tr>\n",
       "    <tr>\n",
       "      <th>3</th>\n",
       "      <td>GH1</td>\n",
       "      <td>response to estradiol</td>\n",
       "      <td>PRL</td>\n",
       "      <td>bromocriptine</td>\n",
       "      <td>0.708823</td>\n",
       "    </tr>\n",
       "    <tr>\n",
       "      <th>4</th>\n",
       "      <td>PRL</td>\n",
       "      <td>prolactin receptor binding</td>\n",
       "      <td>PRL</td>\n",
       "      <td>diethylstilbestrol</td>\n",
       "      <td>0.697943</td>\n",
       "    </tr>\n",
       "  </tbody>\n",
       "</table>\n",
       "</div>"
      ],
      "text/plain": [
       "  n1 - name                   n2 - name  n3 - name           n4 - name   \\\n",
       "0        GH1  prolactin receptor binding        PRL       bromocriptine   \n",
       "1        PRL  prolactin receptor binding        PRL       bromocriptine   \n",
       "2        PRL  prolactin receptor binding        GH1       bromocriptine   \n",
       "3        GH1       response to estradiol        PRL       bromocriptine   \n",
       "4        PRL  prolactin receptor binding        PRL  diethylstilbestrol   \n",
       "\n",
       "      score  \n",
       "0  0.817072  \n",
       "1  0.774212  \n",
       "2  0.718111  \n",
       "3  0.708823  \n",
       "4  0.697943  "
      ]
     },
     "metadata": {},
     "output_type": "display_data"
    },
    {
     "data": {
      "text/html": [
       "<h3>facial paralysis</h3>"
      ],
      "text/plain": [
       "<IPython.core.display.HTML object>"
      ]
     },
     "metadata": {},
     "output_type": "display_data"
    },
    {
     "data": {
      "text/html": [
       "<a href=http://robokop.renci.org/simple/view/92685f50-a4a7-40cc-8057-23bd39dea83a>View Answer in ROBOKOP</a>"
      ],
      "text/plain": [
       "<IPython.core.display.HTML object>"
      ]
     },
     "metadata": {},
     "output_type": "display_data"
    },
    {
     "data": {
      "text/html": [
       "<div>\n",
       "<style>\n",
       "    .dataframe thead tr:only-child th {\n",
       "        text-align: right;\n",
       "    }\n",
       "\n",
       "    .dataframe thead th {\n",
       "        text-align: left;\n",
       "    }\n",
       "\n",
       "    .dataframe tbody tr th {\n",
       "        vertical-align: top;\n",
       "    }\n",
       "</style>\n",
       "<table border=\"1\" class=\"dataframe\">\n",
       "  <thead>\n",
       "    <tr style=\"text-align: right;\">\n",
       "      <th></th>\n",
       "      <th>n1 - name</th>\n",
       "      <th>n2 - name</th>\n",
       "      <th>n3 - name</th>\n",
       "      <th>n4 - name</th>\n",
       "      <th>score</th>\n",
       "    </tr>\n",
       "  </thead>\n",
       "  <tbody>\n",
       "    <tr>\n",
       "      <th>0</th>\n",
       "      <td>RYR1</td>\n",
       "      <td>ryanodine-sensitive calcium-release channel ac...</td>\n",
       "      <td>RYR1</td>\n",
       "      <td>halothane</td>\n",
       "      <td>0.578968</td>\n",
       "    </tr>\n",
       "    <tr>\n",
       "      <th>1</th>\n",
       "      <td>RYR1</td>\n",
       "      <td>response to caffeine</td>\n",
       "      <td>RYR1</td>\n",
       "      <td>halothane</td>\n",
       "      <td>0.542429</td>\n",
       "    </tr>\n",
       "    <tr>\n",
       "      <th>2</th>\n",
       "      <td>RYR1</td>\n",
       "      <td>calcium ion transport</td>\n",
       "      <td>RYR1</td>\n",
       "      <td>halothane</td>\n",
       "      <td>0.542284</td>\n",
       "    </tr>\n",
       "    <tr>\n",
       "      <th>3</th>\n",
       "      <td>RYR1</td>\n",
       "      <td>voltage-gated calcium channel activity</td>\n",
       "      <td>RYR1</td>\n",
       "      <td>halothane</td>\n",
       "      <td>0.524767</td>\n",
       "    </tr>\n",
       "    <tr>\n",
       "      <th>4</th>\n",
       "      <td>RYR1</td>\n",
       "      <td>calmodulin binding</td>\n",
       "      <td>RYR1</td>\n",
       "      <td>halothane</td>\n",
       "      <td>0.520933</td>\n",
       "    </tr>\n",
       "  </tbody>\n",
       "</table>\n",
       "</div>"
      ],
      "text/plain": [
       "  n1 - name                                          n2 - name  n3 - name   \\\n",
       "0       RYR1  ryanodine-sensitive calcium-release channel ac...       RYR1   \n",
       "1       RYR1                               response to caffeine       RYR1   \n",
       "2       RYR1                              calcium ion transport       RYR1   \n",
       "3       RYR1             voltage-gated calcium channel activity       RYR1   \n",
       "4       RYR1                                 calmodulin binding       RYR1   \n",
       "\n",
       "  n4 - name      score  \n",
       "0  halothane  0.578968  \n",
       "1  halothane  0.542429  \n",
       "2  halothane  0.542284  \n",
       "3  halothane  0.524767  \n",
       "4  halothane  0.520933  "
      ]
     },
     "metadata": {},
     "output_type": "display_data"
    },
    {
     "data": {
      "text/html": [
       "<h3>polyneuropathy</h3>"
      ],
      "text/plain": [
       "<IPython.core.display.HTML object>"
      ]
     },
     "metadata": {},
     "output_type": "display_data"
    },
    {
     "data": {
      "text/html": [
       "<a href=http://robokop.renci.org/simple/view/40d65b19-59e8-4493-ad4e-1b3c0c1825f2>View Answer in ROBOKOP</a>"
      ],
      "text/plain": [
       "<IPython.core.display.HTML object>"
      ]
     },
     "metadata": {},
     "output_type": "display_data"
    },
    {
     "data": {
      "text/html": [
       "<div>\n",
       "<style>\n",
       "    .dataframe thead tr:only-child th {\n",
       "        text-align: right;\n",
       "    }\n",
       "\n",
       "    .dataframe thead th {\n",
       "        text-align: left;\n",
       "    }\n",
       "\n",
       "    .dataframe tbody tr th {\n",
       "        vertical-align: top;\n",
       "    }\n",
       "</style>\n",
       "<table border=\"1\" class=\"dataframe\">\n",
       "  <thead>\n",
       "    <tr style=\"text-align: right;\">\n",
       "      <th></th>\n",
       "      <th>n1 - name</th>\n",
       "      <th>n2 - name</th>\n",
       "      <th>n3 - name</th>\n",
       "      <th>n4 - name</th>\n",
       "      <th>score</th>\n",
       "    </tr>\n",
       "  </thead>\n",
       "  <tbody>\n",
       "    <tr>\n",
       "      <th>0</th>\n",
       "      <td>MYD88</td>\n",
       "      <td>positive regulation of NF-kappaB transcription...</td>\n",
       "      <td>TLR4</td>\n",
       "      <td>ozone</td>\n",
       "      <td>0.586275</td>\n",
       "    </tr>\n",
       "    <tr>\n",
       "      <th>1</th>\n",
       "      <td>ABCA1</td>\n",
       "      <td>cholesterol metabolic process</td>\n",
       "      <td>LEP</td>\n",
       "      <td>troglitazone</td>\n",
       "      <td>0.570034</td>\n",
       "    </tr>\n",
       "    <tr>\n",
       "      <th>2</th>\n",
       "      <td>ABCA1</td>\n",
       "      <td>response to drug</td>\n",
       "      <td>ADIPOQ</td>\n",
       "      <td>rosiglitazone</td>\n",
       "      <td>0.568590</td>\n",
       "    </tr>\n",
       "    <tr>\n",
       "      <th>3</th>\n",
       "      <td>ABCA1</td>\n",
       "      <td>anion transmembrane transporter activity</td>\n",
       "      <td>ABCA1</td>\n",
       "      <td>rosiglitazone</td>\n",
       "      <td>0.559592</td>\n",
       "    </tr>\n",
       "    <tr>\n",
       "      <th>4</th>\n",
       "      <td>ABCA1</td>\n",
       "      <td>anion transmembrane transporter activity</td>\n",
       "      <td>ABCA1</td>\n",
       "      <td>pioglitazone</td>\n",
       "      <td>0.559216</td>\n",
       "    </tr>\n",
       "  </tbody>\n",
       "</table>\n",
       "</div>"
      ],
      "text/plain": [
       "  n1 - name                                          n2 - name  n3 - name   \\\n",
       "0      MYD88  positive regulation of NF-kappaB transcription...       TLR4   \n",
       "1      ABCA1                      cholesterol metabolic process        LEP   \n",
       "2      ABCA1                                   response to drug     ADIPOQ   \n",
       "3      ABCA1           anion transmembrane transporter activity      ABCA1   \n",
       "4      ABCA1           anion transmembrane transporter activity      ABCA1   \n",
       "\n",
       "      n4 - name      score  \n",
       "0          ozone  0.586275  \n",
       "1   troglitazone  0.570034  \n",
       "2  rosiglitazone  0.568590  \n",
       "3  rosiglitazone  0.559592  \n",
       "4   pioglitazone  0.559216  "
      ]
     },
     "metadata": {},
     "output_type": "display_data"
    },
    {
     "data": {
      "text/html": [
       "<h3>multiple sclerosis</h3>"
      ],
      "text/plain": [
       "<IPython.core.display.HTML object>"
      ]
     },
     "metadata": {},
     "output_type": "display_data"
    },
    {
     "data": {
      "text/html": [
       "<a href=http://robokop.renci.org/simple/view/74a62e34-3fcd-46e2-ab79-1e6db856f497>View Answer in ROBOKOP</a>"
      ],
      "text/plain": [
       "<IPython.core.display.HTML object>"
      ]
     },
     "metadata": {},
     "output_type": "display_data"
    },
    {
     "data": {
      "text/html": [
       "<div>\n",
       "<style>\n",
       "    .dataframe thead tr:only-child th {\n",
       "        text-align: right;\n",
       "    }\n",
       "\n",
       "    .dataframe thead th {\n",
       "        text-align: left;\n",
       "    }\n",
       "\n",
       "    .dataframe tbody tr th {\n",
       "        vertical-align: top;\n",
       "    }\n",
       "</style>\n",
       "<table border=\"1\" class=\"dataframe\">\n",
       "  <thead>\n",
       "    <tr style=\"text-align: right;\">\n",
       "      <th></th>\n",
       "      <th>n1 - name</th>\n",
       "      <th>n2 - name</th>\n",
       "      <th>n3 - name</th>\n",
       "      <th>n4 - name</th>\n",
       "      <th>score</th>\n",
       "    </tr>\n",
       "  </thead>\n",
       "  <tbody>\n",
       "    <tr>\n",
       "      <th>0</th>\n",
       "      <td>TNFRSF1A</td>\n",
       "      <td>positive regulation of inflammatory response</td>\n",
       "      <td>TLR4</td>\n",
       "      <td>ozone</td>\n",
       "      <td>0.698507</td>\n",
       "    </tr>\n",
       "    <tr>\n",
       "      <th>1</th>\n",
       "      <td>TNFRSF1A</td>\n",
       "      <td>defense response to bacterium</td>\n",
       "      <td>TLR4</td>\n",
       "      <td>ozone</td>\n",
       "      <td>0.637992</td>\n",
       "    </tr>\n",
       "    <tr>\n",
       "      <th>2</th>\n",
       "      <td>TNFRSF1A</td>\n",
       "      <td>positive regulation of I-kappaB kinase/NF-kapp...</td>\n",
       "      <td>TLR4</td>\n",
       "      <td>ozone</td>\n",
       "      <td>0.630290</td>\n",
       "    </tr>\n",
       "    <tr>\n",
       "      <th>3</th>\n",
       "      <td>TNFRSF1A</td>\n",
       "      <td>I-kappaB kinase/NF-kappaB signaling</td>\n",
       "      <td>TLR4</td>\n",
       "      <td>ozone</td>\n",
       "      <td>0.630290</td>\n",
       "    </tr>\n",
       "    <tr>\n",
       "      <th>4</th>\n",
       "      <td>TNFRSF1A</td>\n",
       "      <td>cellular response to mechanical stimulus</td>\n",
       "      <td>TLR4</td>\n",
       "      <td>ozone</td>\n",
       "      <td>0.630290</td>\n",
       "    </tr>\n",
       "  </tbody>\n",
       "</table>\n",
       "</div>"
      ],
      "text/plain": [
       "  n1 - name                                          n2 - name  n3 - name   \\\n",
       "0   TNFRSF1A       positive regulation of inflammatory response       TLR4   \n",
       "1   TNFRSF1A                      defense response to bacterium       TLR4   \n",
       "2   TNFRSF1A  positive regulation of I-kappaB kinase/NF-kapp...       TLR4   \n",
       "3   TNFRSF1A                I-kappaB kinase/NF-kappaB signaling       TLR4   \n",
       "4   TNFRSF1A           cellular response to mechanical stimulus       TLR4   \n",
       "\n",
       "  n4 - name      score  \n",
       "0      ozone  0.698507  \n",
       "1      ozone  0.637992  \n",
       "2      ozone  0.630290  \n",
       "3      ozone  0.630290  \n",
       "4      ozone  0.630290  "
      ]
     },
     "metadata": {},
     "output_type": "display_data"
    },
    {
     "data": {
      "text/html": [
       "<h3>alcoholic liver cirrhosis</h3>"
      ],
      "text/plain": [
       "<IPython.core.display.HTML object>"
      ]
     },
     "metadata": {},
     "output_type": "display_data"
    },
    {
     "data": {
      "text/html": [
       "<a href=http://robokop.renci.org/simple/view/762e7934-84e8-475f-a249-b42f370bbb77>View Answer in ROBOKOP</a>"
      ],
      "text/plain": [
       "<IPython.core.display.HTML object>"
      ]
     },
     "metadata": {},
     "output_type": "display_data"
    },
    {
     "data": {
      "text/html": [
       "<div>\n",
       "<style>\n",
       "    .dataframe thead tr:only-child th {\n",
       "        text-align: right;\n",
       "    }\n",
       "\n",
       "    .dataframe thead th {\n",
       "        text-align: left;\n",
       "    }\n",
       "\n",
       "    .dataframe tbody tr th {\n",
       "        vertical-align: top;\n",
       "    }\n",
       "</style>\n",
       "<table border=\"1\" class=\"dataframe\">\n",
       "  <thead>\n",
       "    <tr style=\"text-align: right;\">\n",
       "      <th></th>\n",
       "      <th>n1 - name</th>\n",
       "      <th>n2 - name</th>\n",
       "      <th>n3 - name</th>\n",
       "      <th>n4 - name</th>\n",
       "      <th>score</th>\n",
       "    </tr>\n",
       "  </thead>\n",
       "  <tbody>\n",
       "    <tr>\n",
       "      <th>0</th>\n",
       "      <td>TIMP1</td>\n",
       "      <td>aging</td>\n",
       "      <td>AGT</td>\n",
       "      <td>isoprenaline</td>\n",
       "      <td>0.528930</td>\n",
       "    </tr>\n",
       "    <tr>\n",
       "      <th>1</th>\n",
       "      <td>TIMP1</td>\n",
       "      <td>aging</td>\n",
       "      <td>CCN2</td>\n",
       "      <td>methionine</td>\n",
       "      <td>0.526792</td>\n",
       "    </tr>\n",
       "    <tr>\n",
       "      <th>2</th>\n",
       "      <td>SMAD3</td>\n",
       "      <td>T cell activation</td>\n",
       "      <td>IL4</td>\n",
       "      <td>prostaglandin E2</td>\n",
       "      <td>0.486883</td>\n",
       "    </tr>\n",
       "    <tr>\n",
       "      <th>3</th>\n",
       "      <td>TIMP1</td>\n",
       "      <td>aging</td>\n",
       "      <td>AGT</td>\n",
       "      <td>acetylcholine</td>\n",
       "      <td>0.482240</td>\n",
       "    </tr>\n",
       "    <tr>\n",
       "      <th>4</th>\n",
       "      <td>TIMP1</td>\n",
       "      <td>post-translational protein modification</td>\n",
       "      <td>CP</td>\n",
       "      <td>isoprenaline</td>\n",
       "      <td>0.482087</td>\n",
       "    </tr>\n",
       "  </tbody>\n",
       "</table>\n",
       "</div>"
      ],
      "text/plain": [
       "  n1 - name                                n2 - name  n3 - name   \\\n",
       "0      TIMP1                                    aging        AGT   \n",
       "1      TIMP1                                    aging       CCN2   \n",
       "2      SMAD3                        T cell activation        IL4   \n",
       "3      TIMP1                                    aging        AGT   \n",
       "4      TIMP1  post-translational protein modification         CP   \n",
       "\n",
       "         n4 - name      score  \n",
       "0      isoprenaline  0.528930  \n",
       "1        methionine  0.526792  \n",
       "2  prostaglandin E2  0.486883  \n",
       "3     acetylcholine  0.482240  \n",
       "4      isoprenaline  0.482087  "
      ]
     },
     "metadata": {},
     "output_type": "display_data"
    }
   ],
   "source": [
    "#This is the templated query that goes (disease)-(gene)-(process)-(gene)-(chemical)\n",
    "turl=lambda robokop,disease_id,disease_name: f'http://{robokop}/api/simple/quick/template/wf1mod2_expanded/{disease_id}/?name1={disease_name}&max_connectivity=500'\n",
    "\n",
    "for disease_id, disease_name in diseases:\n",
    "    url = turl(robokop,disease_id,disease_name)\n",
    "    display(HTML(f'<h3>{disease_name}</h3>'))\n",
    "    response = requests.get(url)\n",
    "    if response.status_code != 200:\n",
    "        print('Error')\n",
    "        continue\n",
    "    answers=response.json()\n",
    "    view_url = get_view_url(answers)\n",
    "    display(HTML(f'<a href={view_url}>View Answer in ROBOKOP</a>'))\n",
    "    answer_frame = parse_answer(answers,node_list=['n1','n2','n3','n4'],edge_list=[],node_properties=['name'])\n",
    "    display(answer_frame.head())    "
   ]
  }
 ],
 "metadata": {
  "kernelspec": {
   "display_name": "Python 3",
   "language": "python",
   "name": "python3"
  },
  "language_info": {
   "codemirror_mode": {
    "name": "ipython",
    "version": 3
   },
   "file_extension": ".py",
   "mimetype": "text/x-python",
   "name": "python",
   "nbconvert_exporter": "python",
   "pygments_lexer": "ipython3",
   "version": "3.6.2"
  }
 },
 "nbformat": 4,
 "nbformat_minor": 2
}

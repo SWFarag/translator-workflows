{
 "cells": [
  {
   "cell_type": "markdown",
   "metadata": {
    "deletable": true,
    "editable": true
   },
   "source": [
    "# Workflow 1, Module 3"
   ]
  },
  {
   "cell_type": "code",
   "execution_count": 1,
   "metadata": {
    "collapsed": true,
    "deletable": true,
    "editable": true
   },
   "outputs": [],
   "source": [
    "import requests\n",
    "import pandas as pd\n",
    "from IPython.core.display import display, HTML\n",
    "\n",
    "robokop='robokop.renci.org'"
   ]
  },
  {
   "cell_type": "code",
   "execution_count": 2,
   "metadata": {
    "collapsed": true,
    "deletable": true,
    "editable": true
   },
   "outputs": [],
   "source": [
    "test_diseases = [\n",
    "    (\"MONDO:0005148\",\"type 2 diabetes mellitus\"),\n",
    "    (\"MONDO:0019600\",\"Xeroderma Pigmentosum\"),\n",
    "    (\"DOID:0050427\",\"Xeroderma Pigmentosum\"),\n",
    "    (\"DOID:9352\",\"Xeroderma Pigmentosum\"),\n",
    "    (\"MONDO:0005578\",\"arthritis\"),\n",
    "    (\"MONDO:0002406\",\"dermatitis\"),\n",
    "    (\"MONDO:0008383\",\"rheumatoid arthritis\"),\n",
    "    (\"MONDO:0005359\",\"drug-induced liver injury\"),\n",
    "    (\"MONDO:0006573\",\"lipodystrophy (disease)\"),\n",
    "    (\"MONDO:0008226\",\"aggressive periodontitis\"),\n",
    "    (\"MONDO:0001627\",\"dementia\"),\n",
    "    (\"MONDO:0005265\",\"inflammatory bowel disease\"),\n",
    "    (\"MONDO:0004979\",\"asthma\"),\n",
    "    (\"MONDO:0005298\",\"osteoporosis\"),\n",
    "    (\"MONDO:0006932\",\"pulmonary edema\"),\n",
    "    (\"MONDO:0005180\",\"Parkinson disease\"),\n",
    "    (\"MONDO:0006658\",\"arteriolosclerosis\"),\n",
    "    (\"MONDO:0005090\",\"schizophrenia\"),\n",
    "    (\"MONDO:0005152\",\"hypopituitarism\"),\n",
    "    (\"MONDO:0001835\",\"facial paralysis\"),\n",
    "    (\"MONDO:0001824\",\"polyneuropathy\"),\n",
    "    (\"MONDO:0005301\",\"multiple sclerosis\"),\n",
    "    (\"MONDO:0006644\",\"alcoholic liver cirrhosis\")\n",
    "]"
   ]
  },
  {
   "cell_type": "code",
   "execution_count": 19,
   "metadata": {
    "collapsed": false,
    "deletable": true,
    "editable": true
   },
   "outputs": [],
   "source": [
    "def parse_answer(returnanswer):\n",
    "    #First, parse out the parts of the kg that we want, names and types\n",
    "    kg_node_names = { n['id']: n['name'] if 'name' in n else n['id'] for n in returnanswer['knowledge_graph']['nodes'] }\n",
    "    answers = [ {\"phenotype_id\": answer['node_bindings']['n1'],\n",
    "                 \"phenotype_name\": [kg_node_names[x] for x in answer['node_bindings']['n1']],\n",
    "                 \"condition_id\": answer['node_bindings']['n2'], \n",
    "                 \"condition_name\": kg_node_names[answer['node_bindings']['n2']], #if 'name' in node else node['id'], \n",
    "                 \"score\" :      answer['score']\n",
    "                }\n",
    "              for answer in returnanswer['answers']]\n",
    "    return pd.DataFrame(answers)"
   ]
  },
  {
   "cell_type": "code",
   "execution_count": 3,
   "metadata": {
    "collapsed": true,
    "deletable": true,
    "editable": true
   },
   "outputs": [],
   "source": [
    "def get_view_url(returnanswer):\n",
    "    view_post_url = f'http://{robokop}/api/simple/view/'\n",
    "    view_post_response = requests.post(view_post_url, json=returnanswer)\n",
    "    uid=view_post_response.json()\n",
    "    view_url = f'http://{robokop}/simple/view/{uid}'\n",
    "    return view_url\n"
   ]
  },
  {
   "cell_type": "code",
   "execution_count": 5,
   "metadata": {
    "collapsed": false,
    "deletable": true,
    "editable": true
   },
   "outputs": [
    {
     "data": {
      "text/html": [
       "<h3>type 2 diabetes mellitus</h3>"
      ],
      "text/plain": [
       "<IPython.core.display.HTML object>"
      ]
     },
     "metadata": {},
     "output_type": "display_data"
    },
    {
     "ename": "NameError",
     "evalue": "name 'parse_answer' is not defined",
     "output_type": "error",
     "traceback": [
      "\u001b[1;31m---------------------------------------------------------------------------\u001b[0m",
      "\u001b[1;31mNameError\u001b[0m                                 Traceback (most recent call last)",
      "\u001b[1;32m<ipython-input-5-5fadec7b6770>\u001b[0m in \u001b[0;36m<module>\u001b[1;34m()\u001b[0m\n\u001b[0;32m      9\u001b[0m         \u001b[1;32mcontinue\u001b[0m\u001b[1;33m\u001b[0m\u001b[0m\n\u001b[0;32m     10\u001b[0m     \u001b[0manswers\u001b[0m\u001b[1;33m=\u001b[0m\u001b[0mresponse\u001b[0m\u001b[1;33m.\u001b[0m\u001b[0mjson\u001b[0m\u001b[1;33m(\u001b[0m\u001b[1;33m)\u001b[0m\u001b[1;33m\u001b[0m\u001b[0m\n\u001b[1;32m---> 11\u001b[1;33m     \u001b[0manswer_frame\u001b[0m \u001b[1;33m=\u001b[0m \u001b[0mparse_answer\u001b[0m\u001b[1;33m(\u001b[0m\u001b[0manswers\u001b[0m\u001b[1;33m)\u001b[0m\u001b[1;33m\u001b[0m\u001b[0m\n\u001b[0m\u001b[0;32m     12\u001b[0m     \u001b[0mdisplay\u001b[0m\u001b[1;33m(\u001b[0m\u001b[0manswer_frame\u001b[0m\u001b[1;33m)\u001b[0m\u001b[1;33m\u001b[0m\u001b[0m\n\u001b[0;32m     13\u001b[0m     \u001b[0mview_url\u001b[0m \u001b[1;33m=\u001b[0m \u001b[0mget_view_url\u001b[0m\u001b[1;33m(\u001b[0m\u001b[0manswers\u001b[0m\u001b[1;33m)\u001b[0m\u001b[1;33m\u001b[0m\u001b[0m\n",
      "\u001b[1;31mNameError\u001b[0m: name 'parse_answer' is not defined"
     ]
    }
   ],
   "source": [
    "turl=lambda robokop,disease_id,disease_name: f'http://{robokop}/api/simple/quick/template/wf1mod3/{disease_id}/?name1={disease_name}/?max_connectivity=1000'\n",
    "\n",
    "for disease_id, disease_name in test_diseases[0:2]:\n",
    "    url = turl(robokop,disease_id,disease_name)\n",
    "    display(HTML(f'<h3>{disease_name}</h3>'))\n",
    "    response = requests.get(url)\n",
    "    if response.status_code != 200:\n",
    "        print('Error')\n",
    "        continue\n",
    "    answers=response.json()\n",
    "    answer_frame = parse_answer(answers)\n",
    "    display(answer_frame)\n",
    "    view_url = get_view_url(answers)\n",
    "    display(HTML(f'<a href={view_url}>View Answer in ROBOKOP</a>'))"
   ]
  },
  {
   "cell_type": "code",
   "execution_count": null,
   "metadata": {
    "collapsed": true,
    "deletable": true,
    "editable": true
   },
   "outputs": [],
   "source": []
  }
 ],
 "metadata": {
  "kernelspec": {
   "display_name": "Python 3",
   "language": "python",
   "name": "python3"
  },
  "language_info": {
   "codemirror_mode": {
    "name": "ipython",
    "version": 3
   },
   "file_extension": ".py",
   "mimetype": "text/x-python",
   "name": "python",
   "nbconvert_exporter": "python",
   "pygments_lexer": "ipython3",
   "version": "3.6.2"
  }
 },
 "nbformat": 4,
 "nbformat_minor": 2
}

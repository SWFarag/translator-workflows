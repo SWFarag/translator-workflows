{
 "cells": [
  {
   "cell_type": "markdown",
   "metadata": {
    "deletable": true,
    "editable": true
   },
   "source": [
    "# Workflow 1, Module 3 examples"
   ]
  },
  {
   "cell_type": "code",
   "execution_count": 3,
   "metadata": {
    "collapsed": true,
    "deletable": true,
    "editable": true
   },
   "outputs": [],
   "source": [
    "#To make nicer looking outputs\n",
    "from IPython.core.display import display, HTML\n",
    "import requests\n",
    "\n",
    "#Load some functions for parsing quick output\n",
    "import os\n",
    "import sys\n",
    "module_path = os.path.abspath(os.path.join('../../..'))\n",
    "if module_path not in sys.path:\n",
    "    sys.path.append(module_path)\n",
    "from gg_functions import parse_answer, get_view_url\n",
    "\n",
    "#load in some example disease lists to try\n",
    "example_path = os.path.abspath(os.path.join('../../../examples'))\n",
    "sys.path.append(example_path)\n",
    "from disease_lists import rare_diseases, common_diseases\n",
    "diseases = common_diseases + rare_diseases\n",
    "\n",
    "robokop='robokop.renci.org'"
   ]
  },
  {
   "cell_type": "code",
   "execution_count": 7,
   "metadata": {
    "collapsed": false,
    "deletable": true,
    "editable": true,
    "scrolled": true
   },
   "outputs": [
    {
     "data": {
      "text/html": [
       "<h3>arthritis</h3>"
      ],
      "text/plain": [
       "<IPython.core.display.HTML object>"
      ]
     },
     "metadata": {},
     "output_type": "display_data"
    },
    {
     "data": {
      "text/html": [
       "<a href=http://robokop.renci.org/simple/view/0538325f-e3c2-4d1f-9d96-e3386c54d229>View Answer in ROBOKOP</a>"
      ],
      "text/plain": [
       "<IPython.core.display.HTML object>"
      ]
     },
     "metadata": {},
     "output_type": "display_data"
    },
    {
     "data": {
      "text/html": [
       "<div>\n",
       "<style>\n",
       "    .dataframe thead tr:only-child th {\n",
       "        text-align: right;\n",
       "    }\n",
       "\n",
       "    .dataframe thead th {\n",
       "        text-align: left;\n",
       "    }\n",
       "\n",
       "    .dataframe tbody tr th {\n",
       "        vertical-align: top;\n",
       "    }\n",
       "</style>\n",
       "<table border=\"1\" class=\"dataframe\">\n",
       "  <thead>\n",
       "    <tr style=\"text-align: right;\">\n",
       "      <th></th>\n",
       "      <th>n2 - id</th>\n",
       "      <th>n2 - name</th>\n",
       "      <th>n3 - id</th>\n",
       "      <th>n3 - name</th>\n",
       "      <th>score</th>\n",
       "    </tr>\n",
       "  </thead>\n",
       "  <tbody>\n",
       "    <tr>\n",
       "      <th>0</th>\n",
       "      <td>HGNC:11892</td>\n",
       "      <td>TNF</td>\n",
       "      <td>CHEBI:41879</td>\n",
       "      <td>dexamethasone</td>\n",
       "      <td>0.486965</td>\n",
       "    </tr>\n",
       "    <tr>\n",
       "      <th>1</th>\n",
       "      <td>HGNC:11892</td>\n",
       "      <td>TNF</td>\n",
       "      <td>CHEBI:44185</td>\n",
       "      <td>methotrexate</td>\n",
       "      <td>0.477080</td>\n",
       "    </tr>\n",
       "    <tr>\n",
       "      <th>2</th>\n",
       "      <td>HGNC:11892</td>\n",
       "      <td>TNF</td>\n",
       "      <td>CHEBI:44185</td>\n",
       "      <td>methotrexate</td>\n",
       "      <td>0.474217</td>\n",
       "    </tr>\n",
       "    <tr>\n",
       "      <th>3</th>\n",
       "      <td>HGNC:2861</td>\n",
       "      <td>DHFR</td>\n",
       "      <td>CHEBI:44185</td>\n",
       "      <td>methotrexate</td>\n",
       "      <td>0.474214</td>\n",
       "    </tr>\n",
       "    <tr>\n",
       "      <th>4</th>\n",
       "      <td>HGNC:11892</td>\n",
       "      <td>TNF</td>\n",
       "      <td>CHEBI:16243</td>\n",
       "      <td>quercetin</td>\n",
       "      <td>0.465349</td>\n",
       "    </tr>\n",
       "  </tbody>\n",
       "</table>\n",
       "</div>"
      ],
      "text/plain": [
       "     n2 - id  n2 - name      n3 - id      n3 - name      score\n",
       "0  HGNC:11892        TNF  CHEBI:41879  dexamethasone  0.486965\n",
       "1  HGNC:11892        TNF  CHEBI:44185   methotrexate  0.477080\n",
       "2  HGNC:11892        TNF  CHEBI:44185   methotrexate  0.474217\n",
       "3   HGNC:2861       DHFR  CHEBI:44185   methotrexate  0.474214\n",
       "4  HGNC:11892        TNF  CHEBI:16243      quercetin  0.465349"
      ]
     },
     "metadata": {},
     "output_type": "display_data"
    },
    {
     "data": {
      "text/html": [
       "<h3>type 2 diabetes mellitus</h3>"
      ],
      "text/plain": [
       "<IPython.core.display.HTML object>"
      ]
     },
     "metadata": {},
     "output_type": "display_data"
    },
    {
     "data": {
      "text/html": [
       "<a href=http://robokop.renci.org/simple/view/33156bbf-ede9-47b4-96ea-9c0d868be908>View Answer in ROBOKOP</a>"
      ],
      "text/plain": [
       "<IPython.core.display.HTML object>"
      ]
     },
     "metadata": {},
     "output_type": "display_data"
    },
    {
     "data": {
      "text/html": [
       "<div>\n",
       "<style>\n",
       "    .dataframe thead tr:only-child th {\n",
       "        text-align: right;\n",
       "    }\n",
       "\n",
       "    .dataframe thead th {\n",
       "        text-align: left;\n",
       "    }\n",
       "\n",
       "    .dataframe tbody tr th {\n",
       "        vertical-align: top;\n",
       "    }\n",
       "</style>\n",
       "<table border=\"1\" class=\"dataframe\">\n",
       "  <thead>\n",
       "    <tr style=\"text-align: right;\">\n",
       "      <th></th>\n",
       "      <th>n2 - id</th>\n",
       "      <th>n2 - name</th>\n",
       "      <th>n3 - id</th>\n",
       "      <th>n3 - name</th>\n",
       "      <th>score</th>\n",
       "    </tr>\n",
       "  </thead>\n",
       "  <tbody>\n",
       "    <tr>\n",
       "      <th>0</th>\n",
       "      <td>HGNC:6081</td>\n",
       "      <td>INS</td>\n",
       "      <td>CHEBI:6801</td>\n",
       "      <td>metformin</td>\n",
       "      <td>0.915422</td>\n",
       "    </tr>\n",
       "    <tr>\n",
       "      <th>1</th>\n",
       "      <td>HGNC:14929</td>\n",
       "      <td>SIRT1</td>\n",
       "      <td>CHEBI:16236</td>\n",
       "      <td>ethanol</td>\n",
       "      <td>0.673230</td>\n",
       "    </tr>\n",
       "    <tr>\n",
       "      <th>2</th>\n",
       "      <td>HGNC:14929</td>\n",
       "      <td>SIRT1</td>\n",
       "      <td>CHEBI:9288</td>\n",
       "      <td>streptozocin</td>\n",
       "      <td>0.659519</td>\n",
       "    </tr>\n",
       "    <tr>\n",
       "      <th>3</th>\n",
       "      <td>HGNC:11005</td>\n",
       "      <td>SLC2A1</td>\n",
       "      <td>CHEBI:15422</td>\n",
       "      <td>ATP</td>\n",
       "      <td>0.647185</td>\n",
       "    </tr>\n",
       "    <tr>\n",
       "      <th>4</th>\n",
       "      <td>HGNC:391</td>\n",
       "      <td>AKT1</td>\n",
       "      <td>CHEBI:15422</td>\n",
       "      <td>ATP</td>\n",
       "      <td>0.639674</td>\n",
       "    </tr>\n",
       "  </tbody>\n",
       "</table>\n",
       "</div>"
      ],
      "text/plain": [
       "     n2 - id  n2 - name      n3 - id     n3 - name      score\n",
       "0   HGNC:6081        INS   CHEBI:6801     metformin  0.915422\n",
       "1  HGNC:14929      SIRT1  CHEBI:16236       ethanol  0.673230\n",
       "2  HGNC:14929      SIRT1   CHEBI:9288  streptozocin  0.659519\n",
       "3  HGNC:11005     SLC2A1  CHEBI:15422           ATP  0.647185\n",
       "4    HGNC:391       AKT1  CHEBI:15422           ATP  0.639674"
      ]
     },
     "metadata": {},
     "output_type": "display_data"
    },
    {
     "data": {
      "text/html": [
       "<h3>dermatitis</h3>"
      ],
      "text/plain": [
       "<IPython.core.display.HTML object>"
      ]
     },
     "metadata": {},
     "output_type": "display_data"
    },
    {
     "data": {
      "text/html": [
       "<a href=http://robokop.renci.org/simple/view/3dab7310-361a-49ce-a62d-c46f33d3bbf2>View Answer in ROBOKOP</a>"
      ],
      "text/plain": [
       "<IPython.core.display.HTML object>"
      ]
     },
     "metadata": {},
     "output_type": "display_data"
    },
    {
     "data": {
      "text/html": [
       "<div>\n",
       "<style>\n",
       "    .dataframe thead tr:only-child th {\n",
       "        text-align: right;\n",
       "    }\n",
       "\n",
       "    .dataframe thead th {\n",
       "        text-align: left;\n",
       "    }\n",
       "\n",
       "    .dataframe tbody tr th {\n",
       "        vertical-align: top;\n",
       "    }\n",
       "</style>\n",
       "<table border=\"1\" class=\"dataframe\">\n",
       "  <thead>\n",
       "    <tr style=\"text-align: right;\">\n",
       "      <th></th>\n",
       "      <th>n2 - id</th>\n",
       "      <th>n2 - name</th>\n",
       "      <th>n3 - id</th>\n",
       "      <th>n3 - name</th>\n",
       "      <th>score</th>\n",
       "    </tr>\n",
       "  </thead>\n",
       "  <tbody>\n",
       "    <tr>\n",
       "      <th>0</th>\n",
       "      <td>HGNC:9864</td>\n",
       "      <td>RARA</td>\n",
       "      <td>CHEBI:15367</td>\n",
       "      <td>all-trans-retinoic acid</td>\n",
       "      <td>0.561329</td>\n",
       "    </tr>\n",
       "    <tr>\n",
       "      <th>1</th>\n",
       "      <td>HGNC:3012</td>\n",
       "      <td>DPYD</td>\n",
       "      <td>CHEBI:46345</td>\n",
       "      <td>5-fluorouracil</td>\n",
       "      <td>0.542622</td>\n",
       "    </tr>\n",
       "    <tr>\n",
       "      <th>2</th>\n",
       "      <td>HGNC:9605</td>\n",
       "      <td>PTGS2</td>\n",
       "      <td>CHEBI:16243</td>\n",
       "      <td>quercetin</td>\n",
       "      <td>0.542475</td>\n",
       "    </tr>\n",
       "    <tr>\n",
       "      <th>3</th>\n",
       "      <td>HGNC:11892</td>\n",
       "      <td>TNF</td>\n",
       "      <td>CHEBI:41879</td>\n",
       "      <td>dexamethasone</td>\n",
       "      <td>0.539746</td>\n",
       "    </tr>\n",
       "    <tr>\n",
       "      <th>4</th>\n",
       "      <td>HGNC:6018</td>\n",
       "      <td>IL6</td>\n",
       "      <td>CHEBI:41879</td>\n",
       "      <td>dexamethasone</td>\n",
       "      <td>0.538575</td>\n",
       "    </tr>\n",
       "  </tbody>\n",
       "</table>\n",
       "</div>"
      ],
      "text/plain": [
       "     n2 - id  n2 - name      n3 - id                n3 - name      score\n",
       "0   HGNC:9864       RARA  CHEBI:15367  all-trans-retinoic acid  0.561329\n",
       "1   HGNC:3012       DPYD  CHEBI:46345           5-fluorouracil  0.542622\n",
       "2   HGNC:9605      PTGS2  CHEBI:16243                quercetin  0.542475\n",
       "3  HGNC:11892        TNF  CHEBI:41879            dexamethasone  0.539746\n",
       "4   HGNC:6018        IL6  CHEBI:41879            dexamethasone  0.538575"
      ]
     },
     "metadata": {},
     "output_type": "display_data"
    },
    {
     "data": {
      "text/html": [
       "<h3>rheumatoid arthritis</h3>"
      ],
      "text/plain": [
       "<IPython.core.display.HTML object>"
      ]
     },
     "metadata": {},
     "output_type": "display_data"
    },
    {
     "data": {
      "text/html": [
       "<a href=http://robokop.renci.org/simple/view/4ef7d41a-bbf3-488e-9545-b0f3453c8b8f>View Answer in ROBOKOP</a>"
      ],
      "text/plain": [
       "<IPython.core.display.HTML object>"
      ]
     },
     "metadata": {},
     "output_type": "display_data"
    },
    {
     "data": {
      "text/html": [
       "<div>\n",
       "<style>\n",
       "    .dataframe thead tr:only-child th {\n",
       "        text-align: right;\n",
       "    }\n",
       "\n",
       "    .dataframe thead th {\n",
       "        text-align: left;\n",
       "    }\n",
       "\n",
       "    .dataframe tbody tr th {\n",
       "        vertical-align: top;\n",
       "    }\n",
       "</style>\n",
       "<table border=\"1\" class=\"dataframe\">\n",
       "  <thead>\n",
       "    <tr style=\"text-align: right;\">\n",
       "      <th></th>\n",
       "      <th>n2 - id</th>\n",
       "      <th>n2 - name</th>\n",
       "      <th>n3 - id</th>\n",
       "      <th>n3 - name</th>\n",
       "      <th>score</th>\n",
       "    </tr>\n",
       "  </thead>\n",
       "  <tbody>\n",
       "    <tr>\n",
       "      <th>0</th>\n",
       "      <td>HGNC:2861</td>\n",
       "      <td>DHFR</td>\n",
       "      <td>CHEBI:44185</td>\n",
       "      <td>methotrexate</td>\n",
       "      <td>0.699827</td>\n",
       "    </tr>\n",
       "    <tr>\n",
       "      <th>1</th>\n",
       "      <td>HGNC:11892</td>\n",
       "      <td>TNF</td>\n",
       "      <td>CHEBI:44185</td>\n",
       "      <td>methotrexate</td>\n",
       "      <td>0.679752</td>\n",
       "    </tr>\n",
       "    <tr>\n",
       "      <th>2</th>\n",
       "      <td>HGNC:11892</td>\n",
       "      <td>TNF</td>\n",
       "      <td>CHEBI:44185</td>\n",
       "      <td>methotrexate</td>\n",
       "      <td>0.657341</td>\n",
       "    </tr>\n",
       "    <tr>\n",
       "      <th>3</th>\n",
       "      <td>HGNC:10937</td>\n",
       "      <td>SLC19A1</td>\n",
       "      <td>CHEBI:44185</td>\n",
       "      <td>methotrexate</td>\n",
       "      <td>0.641152</td>\n",
       "    </tr>\n",
       "    <tr>\n",
       "      <th>4</th>\n",
       "      <td>HGNC:5438</td>\n",
       "      <td>IFNG</td>\n",
       "      <td>CHEBI:44185</td>\n",
       "      <td>methotrexate</td>\n",
       "      <td>0.641137</td>\n",
       "    </tr>\n",
       "  </tbody>\n",
       "</table>\n",
       "</div>"
      ],
      "text/plain": [
       "     n2 - id  n2 - name      n3 - id     n3 - name      score\n",
       "0   HGNC:2861       DHFR  CHEBI:44185  methotrexate  0.699827\n",
       "1  HGNC:11892        TNF  CHEBI:44185  methotrexate  0.679752\n",
       "2  HGNC:11892        TNF  CHEBI:44185  methotrexate  0.657341\n",
       "3  HGNC:10937    SLC19A1  CHEBI:44185  methotrexate  0.641152\n",
       "4   HGNC:5438       IFNG  CHEBI:44185  methotrexate  0.641137"
      ]
     },
     "metadata": {},
     "output_type": "display_data"
    },
    {
     "data": {
      "text/html": [
       "<h3>drug-induced liver injury</h3>"
      ],
      "text/plain": [
       "<IPython.core.display.HTML object>"
      ]
     },
     "metadata": {},
     "output_type": "display_data"
    },
    {
     "data": {
      "text/html": [
       "<a href=http://robokop.renci.org/simple/view/dbe2833c-7fd0-44d9-a605-2d4d5b1a5392>View Answer in ROBOKOP</a>"
      ],
      "text/plain": [
       "<IPython.core.display.HTML object>"
      ]
     },
     "metadata": {},
     "output_type": "display_data"
    },
    {
     "data": {
      "text/html": [
       "<div>\n",
       "<style>\n",
       "    .dataframe thead tr:only-child th {\n",
       "        text-align: right;\n",
       "    }\n",
       "\n",
       "    .dataframe thead th {\n",
       "        text-align: left;\n",
       "    }\n",
       "\n",
       "    .dataframe tbody tr th {\n",
       "        vertical-align: top;\n",
       "    }\n",
       "</style>\n",
       "<table border=\"1\" class=\"dataframe\">\n",
       "  <thead>\n",
       "    <tr style=\"text-align: right;\">\n",
       "      <th></th>\n",
       "      <th>n2 - id</th>\n",
       "      <th>n2 - name</th>\n",
       "      <th>n3 - id</th>\n",
       "      <th>n3 - name</th>\n",
       "      <th>score</th>\n",
       "    </tr>\n",
       "  </thead>\n",
       "  <tbody>\n",
       "    <tr>\n",
       "      <th>0</th>\n",
       "      <td>HGNC:2596</td>\n",
       "      <td>CYP1A2</td>\n",
       "      <td>CHEBI:8069</td>\n",
       "      <td>phenobarbital</td>\n",
       "      <td>0.671913</td>\n",
       "    </tr>\n",
       "    <tr>\n",
       "      <th>1</th>\n",
       "      <td>HGNC:2596</td>\n",
       "      <td>CYP1A2</td>\n",
       "      <td>CHEBI:41879</td>\n",
       "      <td>dexamethasone</td>\n",
       "      <td>0.644720</td>\n",
       "    </tr>\n",
       "    <tr>\n",
       "      <th>2</th>\n",
       "      <td>HGNC:2596</td>\n",
       "      <td>CYP1A2</td>\n",
       "      <td>CHEBI:5138</td>\n",
       "      <td>fluvoxamine</td>\n",
       "      <td>0.643443</td>\n",
       "    </tr>\n",
       "    <tr>\n",
       "      <th>3</th>\n",
       "      <td>HGNC:40</td>\n",
       "      <td>ABCB1</td>\n",
       "      <td>CHEBI:4031</td>\n",
       "      <td>cyclosporin A</td>\n",
       "      <td>0.614494</td>\n",
       "    </tr>\n",
       "    <tr>\n",
       "      <th>4</th>\n",
       "      <td>HGNC:7873</td>\n",
       "      <td>NOS2</td>\n",
       "      <td>CHEBI:41879</td>\n",
       "      <td>dexamethasone</td>\n",
       "      <td>0.606997</td>\n",
       "    </tr>\n",
       "  </tbody>\n",
       "</table>\n",
       "</div>"
      ],
      "text/plain": [
       "    n2 - id  n2 - name      n3 - id      n3 - name      score\n",
       "0  HGNC:2596     CYP1A2   CHEBI:8069  phenobarbital  0.671913\n",
       "1  HGNC:2596     CYP1A2  CHEBI:41879  dexamethasone  0.644720\n",
       "2  HGNC:2596     CYP1A2   CHEBI:5138    fluvoxamine  0.643443\n",
       "3    HGNC:40      ABCB1   CHEBI:4031  cyclosporin A  0.614494\n",
       "4  HGNC:7873       NOS2  CHEBI:41879  dexamethasone  0.606997"
      ]
     },
     "metadata": {},
     "output_type": "display_data"
    },
    {
     "data": {
      "text/html": [
       "<h3>lipodystrophy (disease)</h3>"
      ],
      "text/plain": [
       "<IPython.core.display.HTML object>"
      ]
     },
     "metadata": {},
     "output_type": "display_data"
    },
    {
     "data": {
      "text/html": [
       "<a href=http://robokop.renci.org/simple/view/6d32ec69-8ee0-4d8d-8d04-ceaf3add72e5>View Answer in ROBOKOP</a>"
      ],
      "text/plain": [
       "<IPython.core.display.HTML object>"
      ]
     },
     "metadata": {},
     "output_type": "display_data"
    },
    {
     "data": {
      "text/html": [
       "<div>\n",
       "<style>\n",
       "    .dataframe thead tr:only-child th {\n",
       "        text-align: right;\n",
       "    }\n",
       "\n",
       "    .dataframe thead th {\n",
       "        text-align: left;\n",
       "    }\n",
       "\n",
       "    .dataframe tbody tr th {\n",
       "        vertical-align: top;\n",
       "    }\n",
       "</style>\n",
       "<table border=\"1\" class=\"dataframe\">\n",
       "  <thead>\n",
       "    <tr style=\"text-align: right;\">\n",
       "      <th></th>\n",
       "      <th>n2 - id</th>\n",
       "      <th>n2 - name</th>\n",
       "      <th>n3 - id</th>\n",
       "      <th>n3 - name</th>\n",
       "      <th>score</th>\n",
       "    </tr>\n",
       "  </thead>\n",
       "  <tbody>\n",
       "    <tr>\n",
       "      <th>0</th>\n",
       "      <td>HGNC:11830</td>\n",
       "      <td>TK1</td>\n",
       "      <td>CHEBI:17026</td>\n",
       "      <td>progesterone</td>\n",
       "      <td>0.428695</td>\n",
       "    </tr>\n",
       "    <tr>\n",
       "      <th>1</th>\n",
       "      <td>HGNC:11830</td>\n",
       "      <td>TK1</td>\n",
       "      <td>CHEBI:16236</td>\n",
       "      <td>ethanol</td>\n",
       "      <td>0.390383</td>\n",
       "    </tr>\n",
       "    <tr>\n",
       "      <th>2</th>\n",
       "      <td>HGNC:11830</td>\n",
       "      <td>TK1</td>\n",
       "      <td>CHEBI:10110</td>\n",
       "      <td>zidovudine</td>\n",
       "      <td>0.373385</td>\n",
       "    </tr>\n",
       "    <tr>\n",
       "      <th>3</th>\n",
       "      <td>HGNC:11830</td>\n",
       "      <td>TK1</td>\n",
       "      <td>CHEBI:33216</td>\n",
       "      <td>bisphenol A</td>\n",
       "      <td>0.327354</td>\n",
       "    </tr>\n",
       "    <tr>\n",
       "      <th>4</th>\n",
       "      <td>HGNC:11830</td>\n",
       "      <td>TK1</td>\n",
       "      <td>CHEBI:4031</td>\n",
       "      <td>cyclosporin A</td>\n",
       "      <td>0.314972</td>\n",
       "    </tr>\n",
       "  </tbody>\n",
       "</table>\n",
       "</div>"
      ],
      "text/plain": [
       "     n2 - id  n2 - name      n3 - id      n3 - name      score\n",
       "0  HGNC:11830        TK1  CHEBI:17026   progesterone  0.428695\n",
       "1  HGNC:11830        TK1  CHEBI:16236        ethanol  0.390383\n",
       "2  HGNC:11830        TK1  CHEBI:10110     zidovudine  0.373385\n",
       "3  HGNC:11830        TK1  CHEBI:33216    bisphenol A  0.327354\n",
       "4  HGNC:11830        TK1   CHEBI:4031  cyclosporin A  0.314972"
      ]
     },
     "metadata": {},
     "output_type": "display_data"
    },
    {
     "data": {
      "text/html": [
       "<h3>aggressive periodontitis</h3>"
      ],
      "text/plain": [
       "<IPython.core.display.HTML object>"
      ]
     },
     "metadata": {},
     "output_type": "display_data"
    },
    {
     "data": {
      "text/html": [
       "<a href=http://robokop.renci.org/simple/view/96f15892-1e91-46d9-a821-c23dec72eaff>View Answer in ROBOKOP</a>"
      ],
      "text/plain": [
       "<IPython.core.display.HTML object>"
      ]
     },
     "metadata": {},
     "output_type": "display_data"
    },
    {
     "data": {
      "text/html": [
       "<div>\n",
       "<style>\n",
       "    .dataframe thead tr:only-child th {\n",
       "        text-align: right;\n",
       "    }\n",
       "\n",
       "    .dataframe thead th {\n",
       "        text-align: left;\n",
       "    }\n",
       "\n",
       "    .dataframe tbody tr th {\n",
       "        vertical-align: top;\n",
       "    }\n",
       "</style>\n",
       "<table border=\"1\" class=\"dataframe\">\n",
       "  <thead>\n",
       "    <tr style=\"text-align: right;\">\n",
       "      <th></th>\n",
       "    </tr>\n",
       "  </thead>\n",
       "  <tbody>\n",
       "  </tbody>\n",
       "</table>\n",
       "</div>"
      ],
      "text/plain": [
       "Empty DataFrame\n",
       "Columns: []\n",
       "Index: []"
      ]
     },
     "metadata": {},
     "output_type": "display_data"
    },
    {
     "data": {
      "text/html": [
       "<h3>dementia</h3>"
      ],
      "text/plain": [
       "<IPython.core.display.HTML object>"
      ]
     },
     "metadata": {},
     "output_type": "display_data"
    },
    {
     "data": {
      "text/html": [
       "<a href=http://robokop.renci.org/simple/view/f2ea40f1-b595-4376-8366-fc0966e828c7>View Answer in ROBOKOP</a>"
      ],
      "text/plain": [
       "<IPython.core.display.HTML object>"
      ]
     },
     "metadata": {},
     "output_type": "display_data"
    },
    {
     "data": {
      "text/html": [
       "<div>\n",
       "<style>\n",
       "    .dataframe thead tr:only-child th {\n",
       "        text-align: right;\n",
       "    }\n",
       "\n",
       "    .dataframe thead th {\n",
       "        text-align: left;\n",
       "    }\n",
       "\n",
       "    .dataframe tbody tr th {\n",
       "        vertical-align: top;\n",
       "    }\n",
       "</style>\n",
       "<table border=\"1\" class=\"dataframe\">\n",
       "  <thead>\n",
       "    <tr style=\"text-align: right;\">\n",
       "      <th></th>\n",
       "      <th>n2 - id</th>\n",
       "      <th>n2 - name</th>\n",
       "      <th>n3 - id</th>\n",
       "      <th>n3 - name</th>\n",
       "      <th>score</th>\n",
       "    </tr>\n",
       "  </thead>\n",
       "  <tbody>\n",
       "    <tr>\n",
       "      <th>0</th>\n",
       "      <td>HGNC:10937</td>\n",
       "      <td>SLC19A1</td>\n",
       "      <td>CHEBI:27470</td>\n",
       "      <td>folic acid</td>\n",
       "      <td>0.604012</td>\n",
       "    </tr>\n",
       "    <tr>\n",
       "      <th>1</th>\n",
       "      <td>HGNC:2590</td>\n",
       "      <td>CYP11A1</td>\n",
       "      <td>CHEBI:41922</td>\n",
       "      <td>diethylstilbestrol</td>\n",
       "      <td>0.542849</td>\n",
       "    </tr>\n",
       "    <tr>\n",
       "      <th>2</th>\n",
       "      <td>HGNC:40</td>\n",
       "      <td>ABCB1</td>\n",
       "      <td>CHEBI:4031</td>\n",
       "      <td>cyclosporin A</td>\n",
       "      <td>0.530609</td>\n",
       "    </tr>\n",
       "    <tr>\n",
       "      <th>3</th>\n",
       "      <td>HGNC:3964</td>\n",
       "      <td>FSHB</td>\n",
       "      <td>CHEBI:41922</td>\n",
       "      <td>diethylstilbestrol</td>\n",
       "      <td>0.522187</td>\n",
       "    </tr>\n",
       "    <tr>\n",
       "      <th>4</th>\n",
       "      <td>HGNC:644</td>\n",
       "      <td>AR</td>\n",
       "      <td>CHEBI:41922</td>\n",
       "      <td>diethylstilbestrol</td>\n",
       "      <td>0.521118</td>\n",
       "    </tr>\n",
       "  </tbody>\n",
       "</table>\n",
       "</div>"
      ],
      "text/plain": [
       "     n2 - id  n2 - name      n3 - id           n3 - name      score\n",
       "0  HGNC:10937    SLC19A1  CHEBI:27470          folic acid  0.604012\n",
       "1   HGNC:2590    CYP11A1  CHEBI:41922  diethylstilbestrol  0.542849\n",
       "2     HGNC:40      ABCB1   CHEBI:4031       cyclosporin A  0.530609\n",
       "3   HGNC:3964       FSHB  CHEBI:41922  diethylstilbestrol  0.522187\n",
       "4    HGNC:644         AR  CHEBI:41922  diethylstilbestrol  0.521118"
      ]
     },
     "metadata": {},
     "output_type": "display_data"
    },
    {
     "data": {
      "text/html": [
       "<h3>inflammatory bowel disease</h3>"
      ],
      "text/plain": [
       "<IPython.core.display.HTML object>"
      ]
     },
     "metadata": {},
     "output_type": "display_data"
    },
    {
     "data": {
      "text/html": [
       "<a href=http://robokop.renci.org/simple/view/8d8ac784-f70f-43db-ab1b-dfe29e490f64>View Answer in ROBOKOP</a>"
      ],
      "text/plain": [
       "<IPython.core.display.HTML object>"
      ]
     },
     "metadata": {},
     "output_type": "display_data"
    },
    {
     "data": {
      "text/html": [
       "<div>\n",
       "<style>\n",
       "    .dataframe thead tr:only-child th {\n",
       "        text-align: right;\n",
       "    }\n",
       "\n",
       "    .dataframe thead th {\n",
       "        text-align: left;\n",
       "    }\n",
       "\n",
       "    .dataframe tbody tr th {\n",
       "        vertical-align: top;\n",
       "    }\n",
       "</style>\n",
       "<table border=\"1\" class=\"dataframe\">\n",
       "  <thead>\n",
       "    <tr style=\"text-align: right;\">\n",
       "      <th></th>\n",
       "      <th>n2 - id</th>\n",
       "      <th>n2 - name</th>\n",
       "      <th>n3 - id</th>\n",
       "      <th>n3 - name</th>\n",
       "      <th>score</th>\n",
       "    </tr>\n",
       "  </thead>\n",
       "  <tbody>\n",
       "    <tr>\n",
       "      <th>0</th>\n",
       "      <td>HGNC:11892</td>\n",
       "      <td>TNF</td>\n",
       "      <td>CHEBI:41879</td>\n",
       "      <td>dexamethasone</td>\n",
       "      <td>0.490630</td>\n",
       "    </tr>\n",
       "    <tr>\n",
       "      <th>1</th>\n",
       "      <td>HGNC:9864</td>\n",
       "      <td>RARA</td>\n",
       "      <td>CHEBI:15367</td>\n",
       "      <td>all-trans-retinoic acid</td>\n",
       "      <td>0.486407</td>\n",
       "    </tr>\n",
       "    <tr>\n",
       "      <th>2</th>\n",
       "      <td>HGNC:11892</td>\n",
       "      <td>TNF</td>\n",
       "      <td>CHEBI:16243</td>\n",
       "      <td>quercetin</td>\n",
       "      <td>0.478595</td>\n",
       "    </tr>\n",
       "    <tr>\n",
       "      <th>3</th>\n",
       "      <td>HGNC:6018</td>\n",
       "      <td>IL6</td>\n",
       "      <td>CHEBI:41879</td>\n",
       "      <td>dexamethasone</td>\n",
       "      <td>0.471679</td>\n",
       "    </tr>\n",
       "    <tr>\n",
       "      <th>4</th>\n",
       "      <td>HGNC:11892</td>\n",
       "      <td>TNF</td>\n",
       "      <td>CHEBI:9753</td>\n",
       "      <td>troglitazone</td>\n",
       "      <td>0.470145</td>\n",
       "    </tr>\n",
       "  </tbody>\n",
       "</table>\n",
       "</div>"
      ],
      "text/plain": [
       "     n2 - id  n2 - name      n3 - id                n3 - name      score\n",
       "0  HGNC:11892        TNF  CHEBI:41879            dexamethasone  0.490630\n",
       "1   HGNC:9864       RARA  CHEBI:15367  all-trans-retinoic acid  0.486407\n",
       "2  HGNC:11892        TNF  CHEBI:16243                quercetin  0.478595\n",
       "3   HGNC:6018        IL6  CHEBI:41879            dexamethasone  0.471679\n",
       "4  HGNC:11892        TNF   CHEBI:9753             troglitazone  0.470145"
      ]
     },
     "metadata": {},
     "output_type": "display_data"
    },
    {
     "data": {
      "text/html": [
       "<h3>asthma</h3>"
      ],
      "text/plain": [
       "<IPython.core.display.HTML object>"
      ]
     },
     "metadata": {},
     "output_type": "display_data"
    },
    {
     "data": {
      "text/html": [
       "<a href=http://robokop.renci.org/simple/view/8a82610b-9ff8-4428-9958-5aa0f9d9326c>View Answer in ROBOKOP</a>"
      ],
      "text/plain": [
       "<IPython.core.display.HTML object>"
      ]
     },
     "metadata": {},
     "output_type": "display_data"
    },
    {
     "data": {
      "text/html": [
       "<div>\n",
       "<style>\n",
       "    .dataframe thead tr:only-child th {\n",
       "        text-align: right;\n",
       "    }\n",
       "\n",
       "    .dataframe thead th {\n",
       "        text-align: left;\n",
       "    }\n",
       "\n",
       "    .dataframe tbody tr th {\n",
       "        vertical-align: top;\n",
       "    }\n",
       "</style>\n",
       "<table border=\"1\" class=\"dataframe\">\n",
       "  <thead>\n",
       "    <tr style=\"text-align: right;\">\n",
       "      <th></th>\n",
       "      <th>n2 - id</th>\n",
       "      <th>n2 - name</th>\n",
       "      <th>n3 - id</th>\n",
       "      <th>n3 - name</th>\n",
       "      <th>score</th>\n",
       "    </tr>\n",
       "  </thead>\n",
       "  <tbody>\n",
       "    <tr>\n",
       "      <th>0</th>\n",
       "      <td>HGNC:990</td>\n",
       "      <td>BCL2</td>\n",
       "      <td>CHEBI:28177</td>\n",
       "      <td>theophylline</td>\n",
       "      <td>0.560860</td>\n",
       "    </tr>\n",
       "    <tr>\n",
       "      <th>1</th>\n",
       "      <td>HGNC:11892</td>\n",
       "      <td>TNF</td>\n",
       "      <td>CHEBI:2549</td>\n",
       "      <td>albuterol</td>\n",
       "      <td>0.546045</td>\n",
       "    </tr>\n",
       "    <tr>\n",
       "      <th>2</th>\n",
       "      <td>HGNC:6014</td>\n",
       "      <td>IL4</td>\n",
       "      <td>CHEBI:28177</td>\n",
       "      <td>theophylline</td>\n",
       "      <td>0.530862</td>\n",
       "    </tr>\n",
       "    <tr>\n",
       "      <th>3</th>\n",
       "      <td>HGNC:11892</td>\n",
       "      <td>TNF</td>\n",
       "      <td>CHEBI:2549</td>\n",
       "      <td>albuterol</td>\n",
       "      <td>0.526946</td>\n",
       "    </tr>\n",
       "    <tr>\n",
       "      <th>4</th>\n",
       "      <td>HGNC:7873</td>\n",
       "      <td>NOS2</td>\n",
       "      <td>CHEBI:41879</td>\n",
       "      <td>dexamethasone</td>\n",
       "      <td>0.526594</td>\n",
       "    </tr>\n",
       "  </tbody>\n",
       "</table>\n",
       "</div>"
      ],
      "text/plain": [
       "     n2 - id  n2 - name      n3 - id      n3 - name      score\n",
       "0    HGNC:990       BCL2  CHEBI:28177   theophylline  0.560860\n",
       "1  HGNC:11892        TNF   CHEBI:2549      albuterol  0.546045\n",
       "2   HGNC:6014        IL4  CHEBI:28177   theophylline  0.530862\n",
       "3  HGNC:11892        TNF   CHEBI:2549      albuterol  0.526946\n",
       "4   HGNC:7873       NOS2  CHEBI:41879  dexamethasone  0.526594"
      ]
     },
     "metadata": {},
     "output_type": "display_data"
    },
    {
     "data": {
      "text/html": [
       "<h3>osteoporosis</h3>"
      ],
      "text/plain": [
       "<IPython.core.display.HTML object>"
      ]
     },
     "metadata": {},
     "output_type": "display_data"
    },
    {
     "data": {
      "text/html": [
       "<a href=http://robokop.renci.org/simple/view/eb56778c-bca5-401e-be54-8dac2e563e3c>View Answer in ROBOKOP</a>"
      ],
      "text/plain": [
       "<IPython.core.display.HTML object>"
      ]
     },
     "metadata": {},
     "output_type": "display_data"
    },
    {
     "data": {
      "text/html": [
       "<div>\n",
       "<style>\n",
       "    .dataframe thead tr:only-child th {\n",
       "        text-align: right;\n",
       "    }\n",
       "\n",
       "    .dataframe thead th {\n",
       "        text-align: left;\n",
       "    }\n",
       "\n",
       "    .dataframe tbody tr th {\n",
       "        vertical-align: top;\n",
       "    }\n",
       "</style>\n",
       "<table border=\"1\" class=\"dataframe\">\n",
       "  <thead>\n",
       "    <tr style=\"text-align: right;\">\n",
       "      <th></th>\n",
       "      <th>n2 - id</th>\n",
       "      <th>n2 - name</th>\n",
       "      <th>n3 - id</th>\n",
       "      <th>n3 - name</th>\n",
       "      <th>score</th>\n",
       "    </tr>\n",
       "  </thead>\n",
       "  <tbody>\n",
       "    <tr>\n",
       "      <th>0</th>\n",
       "      <td>HGNC:6018</td>\n",
       "      <td>IL6</td>\n",
       "      <td>CHEBI:17650</td>\n",
       "      <td>cortisol</td>\n",
       "      <td>0.638361</td>\n",
       "    </tr>\n",
       "    <tr>\n",
       "      <th>1</th>\n",
       "      <td>HGNC:990</td>\n",
       "      <td>BCL2</td>\n",
       "      <td>CHEBI:41774</td>\n",
       "      <td>tamoxifen</td>\n",
       "      <td>0.554217</td>\n",
       "    </tr>\n",
       "    <tr>\n",
       "      <th>2</th>\n",
       "      <td>HGNC:6018</td>\n",
       "      <td>IL6</td>\n",
       "      <td>CHEBI:17026</td>\n",
       "      <td>progesterone</td>\n",
       "      <td>0.547547</td>\n",
       "    </tr>\n",
       "    <tr>\n",
       "      <th>3</th>\n",
       "      <td>HGNC:990</td>\n",
       "      <td>BCL2</td>\n",
       "      <td>CHEBI:45863</td>\n",
       "      <td>paclitaxel</td>\n",
       "      <td>0.546672</td>\n",
       "    </tr>\n",
       "    <tr>\n",
       "      <th>4</th>\n",
       "      <td>HGNC:990</td>\n",
       "      <td>BCL2</td>\n",
       "      <td>CHEBI:52717</td>\n",
       "      <td>bortezomib</td>\n",
       "      <td>0.546439</td>\n",
       "    </tr>\n",
       "  </tbody>\n",
       "</table>\n",
       "</div>"
      ],
      "text/plain": [
       "    n2 - id  n2 - name      n3 - id     n3 - name      score\n",
       "0  HGNC:6018        IL6  CHEBI:17650      cortisol  0.638361\n",
       "1   HGNC:990       BCL2  CHEBI:41774     tamoxifen  0.554217\n",
       "2  HGNC:6018        IL6  CHEBI:17026  progesterone  0.547547\n",
       "3   HGNC:990       BCL2  CHEBI:45863    paclitaxel  0.546672\n",
       "4   HGNC:990       BCL2  CHEBI:52717    bortezomib  0.546439"
      ]
     },
     "metadata": {},
     "output_type": "display_data"
    },
    {
     "data": {
      "text/html": [
       "<h3>pulmonary edema</h3>"
      ],
      "text/plain": [
       "<IPython.core.display.HTML object>"
      ]
     },
     "metadata": {},
     "output_type": "display_data"
    },
    {
     "data": {
      "text/html": [
       "<a href=http://robokop.renci.org/simple/view/7c66ab43-ad4e-4f15-b9b8-723b493ed4dd>View Answer in ROBOKOP</a>"
      ],
      "text/plain": [
       "<IPython.core.display.HTML object>"
      ]
     },
     "metadata": {},
     "output_type": "display_data"
    },
    {
     "data": {
      "text/html": [
       "<div>\n",
       "<style>\n",
       "    .dataframe thead tr:only-child th {\n",
       "        text-align: right;\n",
       "    }\n",
       "\n",
       "    .dataframe thead th {\n",
       "        text-align: left;\n",
       "    }\n",
       "\n",
       "    .dataframe tbody tr th {\n",
       "        vertical-align: top;\n",
       "    }\n",
       "</style>\n",
       "<table border=\"1\" class=\"dataframe\">\n",
       "  <thead>\n",
       "    <tr style=\"text-align: right;\">\n",
       "      <th></th>\n",
       "      <th>n2 - id</th>\n",
       "      <th>n2 - name</th>\n",
       "      <th>n3 - id</th>\n",
       "      <th>n3 - name</th>\n",
       "      <th>score</th>\n",
       "    </tr>\n",
       "  </thead>\n",
       "  <tbody>\n",
       "    <tr>\n",
       "      <th>0</th>\n",
       "      <td>HGNC:11050</td>\n",
       "      <td>SLC6A4</td>\n",
       "      <td>CHEBI:6809</td>\n",
       "      <td>methamphetamine</td>\n",
       "      <td>0.604405</td>\n",
       "    </tr>\n",
       "    <tr>\n",
       "      <th>1</th>\n",
       "      <td>HGNC:11049</td>\n",
       "      <td>SLC6A3</td>\n",
       "      <td>CHEBI:6809</td>\n",
       "      <td>methamphetamine</td>\n",
       "      <td>0.601753</td>\n",
       "    </tr>\n",
       "    <tr>\n",
       "      <th>2</th>\n",
       "      <td>HGNC:11048</td>\n",
       "      <td>SLC6A2</td>\n",
       "      <td>CHEBI:2679</td>\n",
       "      <td>amphetamine</td>\n",
       "      <td>0.593098</td>\n",
       "    </tr>\n",
       "    <tr>\n",
       "      <th>3</th>\n",
       "      <td>HGNC:2596</td>\n",
       "      <td>CYP1A2</td>\n",
       "      <td>CHEBI:8069</td>\n",
       "      <td>phenobarbital</td>\n",
       "      <td>0.588836</td>\n",
       "    </tr>\n",
       "    <tr>\n",
       "      <th>4</th>\n",
       "      <td>HGNC:1516</td>\n",
       "      <td>CAT</td>\n",
       "      <td>CHEBI:33216</td>\n",
       "      <td>bisphenol A</td>\n",
       "      <td>0.585317</td>\n",
       "    </tr>\n",
       "  </tbody>\n",
       "</table>\n",
       "</div>"
      ],
      "text/plain": [
       "     n2 - id  n2 - name      n3 - id        n3 - name      score\n",
       "0  HGNC:11050     SLC6A4   CHEBI:6809  methamphetamine  0.604405\n",
       "1  HGNC:11049     SLC6A3   CHEBI:6809  methamphetamine  0.601753\n",
       "2  HGNC:11048     SLC6A2   CHEBI:2679      amphetamine  0.593098\n",
       "3   HGNC:2596     CYP1A2   CHEBI:8069    phenobarbital  0.588836\n",
       "4   HGNC:1516        CAT  CHEBI:33216      bisphenol A  0.585317"
      ]
     },
     "metadata": {},
     "output_type": "display_data"
    },
    {
     "data": {
      "text/html": [
       "<h3>Parkinson disease</h3>"
      ],
      "text/plain": [
       "<IPython.core.display.HTML object>"
      ]
     },
     "metadata": {},
     "output_type": "display_data"
    },
    {
     "data": {
      "text/html": [
       "<a href=http://robokop.renci.org/simple/view/5f8133c6-c9bb-4538-891e-43717834a68c>View Answer in ROBOKOP</a>"
      ],
      "text/plain": [
       "<IPython.core.display.HTML object>"
      ]
     },
     "metadata": {},
     "output_type": "display_data"
    },
    {
     "data": {
      "text/html": [
       "<div>\n",
       "<style>\n",
       "    .dataframe thead tr:only-child th {\n",
       "        text-align: right;\n",
       "    }\n",
       "\n",
       "    .dataframe thead th {\n",
       "        text-align: left;\n",
       "    }\n",
       "\n",
       "    .dataframe tbody tr th {\n",
       "        vertical-align: top;\n",
       "    }\n",
       "</style>\n",
       "<table border=\"1\" class=\"dataframe\">\n",
       "  <thead>\n",
       "    <tr style=\"text-align: right;\">\n",
       "      <th></th>\n",
       "      <th>n2 - id</th>\n",
       "      <th>n2 - name</th>\n",
       "      <th>n3 - id</th>\n",
       "      <th>n3 - name</th>\n",
       "      <th>score</th>\n",
       "    </tr>\n",
       "  </thead>\n",
       "  <tbody>\n",
       "    <tr>\n",
       "      <th>0</th>\n",
       "      <td>HGNC:11782</td>\n",
       "      <td>TH</td>\n",
       "      <td>CHEBI:18243</td>\n",
       "      <td>dopamine</td>\n",
       "      <td>1.173087</td>\n",
       "    </tr>\n",
       "    <tr>\n",
       "      <th>1</th>\n",
       "      <td>HGNC:11782</td>\n",
       "      <td>TH</td>\n",
       "      <td>CHEBI:18243</td>\n",
       "      <td>dopamine</td>\n",
       "      <td>1.073364</td>\n",
       "    </tr>\n",
       "    <tr>\n",
       "      <th>2</th>\n",
       "      <td>HGNC:4638</td>\n",
       "      <td>GSTP1</td>\n",
       "      <td>CHEBI:18243</td>\n",
       "      <td>dopamine</td>\n",
       "      <td>1.059447</td>\n",
       "    </tr>\n",
       "    <tr>\n",
       "      <th>3</th>\n",
       "      <td>HGNC:2625</td>\n",
       "      <td>CYP2D6</td>\n",
       "      <td>CHEBI:18243</td>\n",
       "      <td>dopamine</td>\n",
       "      <td>1.007262</td>\n",
       "    </tr>\n",
       "    <tr>\n",
       "      <th>4</th>\n",
       "      <td>HGNC:4632</td>\n",
       "      <td>GSTM1</td>\n",
       "      <td>CHEBI:18243</td>\n",
       "      <td>dopamine</td>\n",
       "      <td>1.005324</td>\n",
       "    </tr>\n",
       "  </tbody>\n",
       "</table>\n",
       "</div>"
      ],
      "text/plain": [
       "     n2 - id  n2 - name      n3 - id  n3 - name      score\n",
       "0  HGNC:11782         TH  CHEBI:18243   dopamine  1.173087\n",
       "1  HGNC:11782         TH  CHEBI:18243   dopamine  1.073364\n",
       "2   HGNC:4638      GSTP1  CHEBI:18243   dopamine  1.059447\n",
       "3   HGNC:2625     CYP2D6  CHEBI:18243   dopamine  1.007262\n",
       "4   HGNC:4632      GSTM1  CHEBI:18243   dopamine  1.005324"
      ]
     },
     "metadata": {},
     "output_type": "display_data"
    },
    {
     "data": {
      "text/html": [
       "<h3>arteriolosclerosis</h3>"
      ],
      "text/plain": [
       "<IPython.core.display.HTML object>"
      ]
     },
     "metadata": {},
     "output_type": "display_data"
    },
    {
     "data": {
      "text/html": [
       "<a href=http://robokop.renci.org/simple/view/5d17b307-3254-4bf2-8728-d6cbfc1b9caa>View Answer in ROBOKOP</a>"
      ],
      "text/plain": [
       "<IPython.core.display.HTML object>"
      ]
     },
     "metadata": {},
     "output_type": "display_data"
    },
    {
     "data": {
      "text/html": [
       "<div>\n",
       "<style>\n",
       "    .dataframe thead tr:only-child th {\n",
       "        text-align: right;\n",
       "    }\n",
       "\n",
       "    .dataframe thead th {\n",
       "        text-align: left;\n",
       "    }\n",
       "\n",
       "    .dataframe tbody tr th {\n",
       "        vertical-align: top;\n",
       "    }\n",
       "</style>\n",
       "<table border=\"1\" class=\"dataframe\">\n",
       "  <thead>\n",
       "    <tr style=\"text-align: right;\">\n",
       "      <th></th>\n",
       "    </tr>\n",
       "  </thead>\n",
       "  <tbody>\n",
       "  </tbody>\n",
       "</table>\n",
       "</div>"
      ],
      "text/plain": [
       "Empty DataFrame\n",
       "Columns: []\n",
       "Index: []"
      ]
     },
     "metadata": {},
     "output_type": "display_data"
    },
    {
     "data": {
      "text/html": [
       "<h3>schizophrenia</h3>"
      ],
      "text/plain": [
       "<IPython.core.display.HTML object>"
      ]
     },
     "metadata": {},
     "output_type": "display_data"
    },
    {
     "data": {
      "text/html": [
       "<a href=http://robokop.renci.org/simple/view/459fb50b-962f-4e67-b971-dc78cb0e0c28>View Answer in ROBOKOP</a>"
      ],
      "text/plain": [
       "<IPython.core.display.HTML object>"
      ]
     },
     "metadata": {},
     "output_type": "display_data"
    },
    {
     "data": {
      "text/html": [
       "<div>\n",
       "<style>\n",
       "    .dataframe thead tr:only-child th {\n",
       "        text-align: right;\n",
       "    }\n",
       "\n",
       "    .dataframe thead th {\n",
       "        text-align: left;\n",
       "    }\n",
       "\n",
       "    .dataframe tbody tr th {\n",
       "        vertical-align: top;\n",
       "    }\n",
       "</style>\n",
       "<table border=\"1\" class=\"dataframe\">\n",
       "  <thead>\n",
       "    <tr style=\"text-align: right;\">\n",
       "      <th></th>\n",
       "      <th>n2 - id</th>\n",
       "      <th>n2 - name</th>\n",
       "      <th>n3 - id</th>\n",
       "      <th>n3 - name</th>\n",
       "      <th>score</th>\n",
       "    </tr>\n",
       "  </thead>\n",
       "  <tbody>\n",
       "    <tr>\n",
       "      <th>0</th>\n",
       "      <td>HGNC:4638</td>\n",
       "      <td>GSTP1</td>\n",
       "      <td>CHEBI:18243</td>\n",
       "      <td>dopamine</td>\n",
       "      <td>0.830271</td>\n",
       "    </tr>\n",
       "    <tr>\n",
       "      <th>1</th>\n",
       "      <td>HGNC:11782</td>\n",
       "      <td>TH</td>\n",
       "      <td>CHEBI:18243</td>\n",
       "      <td>dopamine</td>\n",
       "      <td>0.752496</td>\n",
       "    </tr>\n",
       "    <tr>\n",
       "      <th>2</th>\n",
       "      <td>HGNC:2625</td>\n",
       "      <td>CYP2D6</td>\n",
       "      <td>CHEBI:18243</td>\n",
       "      <td>dopamine</td>\n",
       "      <td>0.716521</td>\n",
       "    </tr>\n",
       "    <tr>\n",
       "      <th>3</th>\n",
       "      <td>HGNC:11782</td>\n",
       "      <td>TH</td>\n",
       "      <td>CHEBI:3766</td>\n",
       "      <td>clozapine</td>\n",
       "      <td>0.697973</td>\n",
       "    </tr>\n",
       "    <tr>\n",
       "      <th>4</th>\n",
       "      <td>HGNC:4638</td>\n",
       "      <td>GSTP1</td>\n",
       "      <td>CHEBI:3766</td>\n",
       "      <td>clozapine</td>\n",
       "      <td>0.686475</td>\n",
       "    </tr>\n",
       "  </tbody>\n",
       "</table>\n",
       "</div>"
      ],
      "text/plain": [
       "     n2 - id  n2 - name      n3 - id  n3 - name      score\n",
       "0   HGNC:4638      GSTP1  CHEBI:18243   dopamine  0.830271\n",
       "1  HGNC:11782         TH  CHEBI:18243   dopamine  0.752496\n",
       "2   HGNC:2625     CYP2D6  CHEBI:18243   dopamine  0.716521\n",
       "3  HGNC:11782         TH   CHEBI:3766  clozapine  0.697973\n",
       "4   HGNC:4638      GSTP1   CHEBI:3766  clozapine  0.686475"
      ]
     },
     "metadata": {},
     "output_type": "display_data"
    },
    {
     "data": {
      "text/html": [
       "<h3>hypopituitarism</h3>"
      ],
      "text/plain": [
       "<IPython.core.display.HTML object>"
      ]
     },
     "metadata": {},
     "output_type": "display_data"
    },
    {
     "data": {
      "text/html": [
       "<a href=http://robokop.renci.org/simple/view/2c0c8d2a-586a-4163-91bc-bee8478532d6>View Answer in ROBOKOP</a>"
      ],
      "text/plain": [
       "<IPython.core.display.HTML object>"
      ]
     },
     "metadata": {},
     "output_type": "display_data"
    },
    {
     "data": {
      "text/html": [
       "<div>\n",
       "<style>\n",
       "    .dataframe thead tr:only-child th {\n",
       "        text-align: right;\n",
       "    }\n",
       "\n",
       "    .dataframe thead th {\n",
       "        text-align: left;\n",
       "    }\n",
       "\n",
       "    .dataframe tbody tr th {\n",
       "        vertical-align: top;\n",
       "    }\n",
       "</style>\n",
       "<table border=\"1\" class=\"dataframe\">\n",
       "  <thead>\n",
       "    <tr style=\"text-align: right;\">\n",
       "      <th></th>\n",
       "      <th>n2 - id</th>\n",
       "      <th>n2 - name</th>\n",
       "      <th>n3 - id</th>\n",
       "      <th>n3 - name</th>\n",
       "      <th>score</th>\n",
       "    </tr>\n",
       "  </thead>\n",
       "  <tbody>\n",
       "    <tr>\n",
       "      <th>0</th>\n",
       "      <td>HGNC:6018</td>\n",
       "      <td>IL6</td>\n",
       "      <td>CHEBI:17650</td>\n",
       "      <td>cortisol</td>\n",
       "      <td>0.530975</td>\n",
       "    </tr>\n",
       "    <tr>\n",
       "      <th>1</th>\n",
       "      <td>HGNC:7876</td>\n",
       "      <td>NOS3</td>\n",
       "      <td>CHEBI:16240</td>\n",
       "      <td>hydrogen peroxide</td>\n",
       "      <td>0.471829</td>\n",
       "    </tr>\n",
       "    <tr>\n",
       "      <th>2</th>\n",
       "      <td>HGNC:990</td>\n",
       "      <td>BCL2</td>\n",
       "      <td>CHEBI:45863</td>\n",
       "      <td>paclitaxel</td>\n",
       "      <td>0.465478</td>\n",
       "    </tr>\n",
       "    <tr>\n",
       "      <th>3</th>\n",
       "      <td>HGNC:9605</td>\n",
       "      <td>PTGS2</td>\n",
       "      <td>CHEBI:41879</td>\n",
       "      <td>dexamethasone</td>\n",
       "      <td>0.448361</td>\n",
       "    </tr>\n",
       "    <tr>\n",
       "      <th>4</th>\n",
       "      <td>HGNC:9201</td>\n",
       "      <td>POMC</td>\n",
       "      <td>CHEBI:41879</td>\n",
       "      <td>dexamethasone</td>\n",
       "      <td>0.430767</td>\n",
       "    </tr>\n",
       "  </tbody>\n",
       "</table>\n",
       "</div>"
      ],
      "text/plain": [
       "    n2 - id  n2 - name      n3 - id          n3 - name      score\n",
       "0  HGNC:6018        IL6  CHEBI:17650           cortisol  0.530975\n",
       "1  HGNC:7876       NOS3  CHEBI:16240  hydrogen peroxide  0.471829\n",
       "2   HGNC:990       BCL2  CHEBI:45863         paclitaxel  0.465478\n",
       "3  HGNC:9605      PTGS2  CHEBI:41879      dexamethasone  0.448361\n",
       "4  HGNC:9201       POMC  CHEBI:41879      dexamethasone  0.430767"
      ]
     },
     "metadata": {},
     "output_type": "display_data"
    },
    {
     "data": {
      "text/html": [
       "<h3>facial paralysis</h3>"
      ],
      "text/plain": [
       "<IPython.core.display.HTML object>"
      ]
     },
     "metadata": {},
     "output_type": "display_data"
    },
    {
     "data": {
      "text/html": [
       "<a href=http://robokop.renci.org/simple/view/63635b5d-a9db-4d6d-bfbb-1731077991d9>View Answer in ROBOKOP</a>"
      ],
      "text/plain": [
       "<IPython.core.display.HTML object>"
      ]
     },
     "metadata": {},
     "output_type": "display_data"
    },
    {
     "data": {
      "text/html": [
       "<div>\n",
       "<style>\n",
       "    .dataframe thead tr:only-child th {\n",
       "        text-align: right;\n",
       "    }\n",
       "\n",
       "    .dataframe thead th {\n",
       "        text-align: left;\n",
       "    }\n",
       "\n",
       "    .dataframe tbody tr th {\n",
       "        vertical-align: top;\n",
       "    }\n",
       "</style>\n",
       "<table border=\"1\" class=\"dataframe\">\n",
       "  <thead>\n",
       "    <tr style=\"text-align: right;\">\n",
       "      <th></th>\n",
       "      <th>n2 - id</th>\n",
       "      <th>n2 - name</th>\n",
       "      <th>n3 - id</th>\n",
       "      <th>n3 - name</th>\n",
       "      <th>score</th>\n",
       "    </tr>\n",
       "  </thead>\n",
       "  <tbody>\n",
       "    <tr>\n",
       "      <th>0</th>\n",
       "      <td>HGNC:990</td>\n",
       "      <td>BCL2</td>\n",
       "      <td>CHEBI:44185</td>\n",
       "      <td>methotrexate</td>\n",
       "      <td>0.527243</td>\n",
       "    </tr>\n",
       "    <tr>\n",
       "      <th>1</th>\n",
       "      <td>HGNC:990</td>\n",
       "      <td>BCL2</td>\n",
       "      <td>CHEBI:45863</td>\n",
       "      <td>paclitaxel</td>\n",
       "      <td>0.509183</td>\n",
       "    </tr>\n",
       "    <tr>\n",
       "      <th>2</th>\n",
       "      <td>HGNC:990</td>\n",
       "      <td>BCL2</td>\n",
       "      <td>CHEBI:28680</td>\n",
       "      <td>cytarabine</td>\n",
       "      <td>0.504952</td>\n",
       "    </tr>\n",
       "    <tr>\n",
       "      <th>3</th>\n",
       "      <td>HGNC:990</td>\n",
       "      <td>BCL2</td>\n",
       "      <td>CHEBI:31355</td>\n",
       "      <td>carboplatin</td>\n",
       "      <td>0.497882</td>\n",
       "    </tr>\n",
       "    <tr>\n",
       "      <th>4</th>\n",
       "      <td>HGNC:40</td>\n",
       "      <td>ABCB1</td>\n",
       "      <td>CHEBI:4031</td>\n",
       "      <td>cyclosporin A</td>\n",
       "      <td>0.496477</td>\n",
       "    </tr>\n",
       "  </tbody>\n",
       "</table>\n",
       "</div>"
      ],
      "text/plain": [
       "   n2 - id  n2 - name      n3 - id      n3 - name      score\n",
       "0  HGNC:990       BCL2  CHEBI:44185   methotrexate  0.527243\n",
       "1  HGNC:990       BCL2  CHEBI:45863     paclitaxel  0.509183\n",
       "2  HGNC:990       BCL2  CHEBI:28680     cytarabine  0.504952\n",
       "3  HGNC:990       BCL2  CHEBI:31355    carboplatin  0.497882\n",
       "4   HGNC:40      ABCB1   CHEBI:4031  cyclosporin A  0.496477"
      ]
     },
     "metadata": {},
     "output_type": "display_data"
    },
    {
     "data": {
      "text/html": [
       "<h3>polyneuropathy</h3>"
      ],
      "text/plain": [
       "<IPython.core.display.HTML object>"
      ]
     },
     "metadata": {},
     "output_type": "display_data"
    },
    {
     "data": {
      "text/html": [
       "<a href=http://robokop.renci.org/simple/view/35c166df-1a30-494a-b87a-5bad4c3942c3>View Answer in ROBOKOP</a>"
      ],
      "text/plain": [
       "<IPython.core.display.HTML object>"
      ]
     },
     "metadata": {},
     "output_type": "display_data"
    },
    {
     "data": {
      "text/html": [
       "<div>\n",
       "<style>\n",
       "    .dataframe thead tr:only-child th {\n",
       "        text-align: right;\n",
       "    }\n",
       "\n",
       "    .dataframe thead th {\n",
       "        text-align: left;\n",
       "    }\n",
       "\n",
       "    .dataframe tbody tr th {\n",
       "        vertical-align: top;\n",
       "    }\n",
       "</style>\n",
       "<table border=\"1\" class=\"dataframe\">\n",
       "  <thead>\n",
       "    <tr style=\"text-align: right;\">\n",
       "      <th></th>\n",
       "      <th>n2 - id</th>\n",
       "      <th>n2 - name</th>\n",
       "      <th>n3 - id</th>\n",
       "      <th>n3 - name</th>\n",
       "      <th>score</th>\n",
       "    </tr>\n",
       "  </thead>\n",
       "  <tbody>\n",
       "    <tr>\n",
       "      <th>0</th>\n",
       "      <td>HGNC:40</td>\n",
       "      <td>ABCB1</td>\n",
       "      <td>CHEBI:4031</td>\n",
       "      <td>cyclosporin A</td>\n",
       "      <td>0.646895</td>\n",
       "    </tr>\n",
       "    <tr>\n",
       "      <th>1</th>\n",
       "      <td>HGNC:990</td>\n",
       "      <td>BCL2</td>\n",
       "      <td>CHEBI:52717</td>\n",
       "      <td>bortezomib</td>\n",
       "      <td>0.640845</td>\n",
       "    </tr>\n",
       "    <tr>\n",
       "      <th>2</th>\n",
       "      <td>HGNC:40</td>\n",
       "      <td>ABCB1</td>\n",
       "      <td>CHEBI:4031</td>\n",
       "      <td>cyclosporin A</td>\n",
       "      <td>0.633762</td>\n",
       "    </tr>\n",
       "    <tr>\n",
       "      <th>3</th>\n",
       "      <td>HGNC:990</td>\n",
       "      <td>BCL2</td>\n",
       "      <td>CHEBI:45863</td>\n",
       "      <td>paclitaxel</td>\n",
       "      <td>0.625651</td>\n",
       "    </tr>\n",
       "    <tr>\n",
       "      <th>4</th>\n",
       "      <td>HGNC:990</td>\n",
       "      <td>BCL2</td>\n",
       "      <td>CHEBI:46345</td>\n",
       "      <td>5-fluorouracil</td>\n",
       "      <td>0.611422</td>\n",
       "    </tr>\n",
       "  </tbody>\n",
       "</table>\n",
       "</div>"
      ],
      "text/plain": [
       "   n2 - id  n2 - name      n3 - id       n3 - name      score\n",
       "0   HGNC:40      ABCB1   CHEBI:4031   cyclosporin A  0.646895\n",
       "1  HGNC:990       BCL2  CHEBI:52717      bortezomib  0.640845\n",
       "2   HGNC:40      ABCB1   CHEBI:4031   cyclosporin A  0.633762\n",
       "3  HGNC:990       BCL2  CHEBI:45863      paclitaxel  0.625651\n",
       "4  HGNC:990       BCL2  CHEBI:46345  5-fluorouracil  0.611422"
      ]
     },
     "metadata": {},
     "output_type": "display_data"
    },
    {
     "data": {
      "text/html": [
       "<h3>multiple sclerosis</h3>"
      ],
      "text/plain": [
       "<IPython.core.display.HTML object>"
      ]
     },
     "metadata": {},
     "output_type": "display_data"
    },
    {
     "data": {
      "text/html": [
       "<a href=http://robokop.renci.org/simple/view/151c422e-1764-4be5-b8a3-8fa42815c463>View Answer in ROBOKOP</a>"
      ],
      "text/plain": [
       "<IPython.core.display.HTML object>"
      ]
     },
     "metadata": {},
     "output_type": "display_data"
    },
    {
     "data": {
      "text/html": [
       "<div>\n",
       "<style>\n",
       "    .dataframe thead tr:only-child th {\n",
       "        text-align: right;\n",
       "    }\n",
       "\n",
       "    .dataframe thead th {\n",
       "        text-align: left;\n",
       "    }\n",
       "\n",
       "    .dataframe tbody tr th {\n",
       "        vertical-align: top;\n",
       "    }\n",
       "</style>\n",
       "<table border=\"1\" class=\"dataframe\">\n",
       "  <thead>\n",
       "    <tr style=\"text-align: right;\">\n",
       "      <th></th>\n",
       "      <th>n2 - id</th>\n",
       "      <th>n2 - name</th>\n",
       "      <th>n3 - id</th>\n",
       "      <th>n3 - name</th>\n",
       "      <th>score</th>\n",
       "    </tr>\n",
       "  </thead>\n",
       "  <tbody>\n",
       "    <tr>\n",
       "      <th>0</th>\n",
       "      <td>HGNC:11892</td>\n",
       "      <td>TNF</td>\n",
       "      <td>CHEBI:41879</td>\n",
       "      <td>dexamethasone</td>\n",
       "      <td>0.438284</td>\n",
       "    </tr>\n",
       "    <tr>\n",
       "      <th>1</th>\n",
       "      <td>HGNC:11892</td>\n",
       "      <td>TNF</td>\n",
       "      <td>CHEBI:16243</td>\n",
       "      <td>quercetin</td>\n",
       "      <td>0.430354</td>\n",
       "    </tr>\n",
       "    <tr>\n",
       "      <th>2</th>\n",
       "      <td>HGNC:7873</td>\n",
       "      <td>NOS2</td>\n",
       "      <td>CHEBI:41879</td>\n",
       "      <td>dexamethasone</td>\n",
       "      <td>0.429513</td>\n",
       "    </tr>\n",
       "    <tr>\n",
       "      <th>3</th>\n",
       "      <td>HGNC:5438</td>\n",
       "      <td>IFNG</td>\n",
       "      <td>CHEBI:41879</td>\n",
       "      <td>dexamethasone</td>\n",
       "      <td>0.424916</td>\n",
       "    </tr>\n",
       "    <tr>\n",
       "      <th>4</th>\n",
       "      <td>HGNC:7873</td>\n",
       "      <td>NOS2</td>\n",
       "      <td>CHEBI:41879</td>\n",
       "      <td>dexamethasone</td>\n",
       "      <td>0.423916</td>\n",
       "    </tr>\n",
       "  </tbody>\n",
       "</table>\n",
       "</div>"
      ],
      "text/plain": [
       "     n2 - id  n2 - name      n3 - id      n3 - name      score\n",
       "0  HGNC:11892        TNF  CHEBI:41879  dexamethasone  0.438284\n",
       "1  HGNC:11892        TNF  CHEBI:16243      quercetin  0.430354\n",
       "2   HGNC:7873       NOS2  CHEBI:41879  dexamethasone  0.429513\n",
       "3   HGNC:5438       IFNG  CHEBI:41879  dexamethasone  0.424916\n",
       "4   HGNC:7873       NOS2  CHEBI:41879  dexamethasone  0.423916"
      ]
     },
     "metadata": {},
     "output_type": "display_data"
    },
    {
     "data": {
      "text/html": [
       "<h3>alcoholic liver cirrhosis</h3>"
      ],
      "text/plain": [
       "<IPython.core.display.HTML object>"
      ]
     },
     "metadata": {},
     "output_type": "display_data"
    },
    {
     "data": {
      "text/html": [
       "<a href=http://robokop.renci.org/simple/view/c76d874e-37d9-4380-b8db-1d8cd4ce9839>View Answer in ROBOKOP</a>"
      ],
      "text/plain": [
       "<IPython.core.display.HTML object>"
      ]
     },
     "metadata": {},
     "output_type": "display_data"
    },
    {
     "data": {
      "text/html": [
       "<div>\n",
       "<style>\n",
       "    .dataframe thead tr:only-child th {\n",
       "        text-align: right;\n",
       "    }\n",
       "\n",
       "    .dataframe thead th {\n",
       "        text-align: left;\n",
       "    }\n",
       "\n",
       "    .dataframe tbody tr th {\n",
       "        vertical-align: top;\n",
       "    }\n",
       "</style>\n",
       "<table border=\"1\" class=\"dataframe\">\n",
       "  <thead>\n",
       "    <tr style=\"text-align: right;\">\n",
       "      <th></th>\n",
       "      <th>n2 - id</th>\n",
       "      <th>n2 - name</th>\n",
       "      <th>n3 - id</th>\n",
       "      <th>n3 - name</th>\n",
       "      <th>score</th>\n",
       "    </tr>\n",
       "  </thead>\n",
       "  <tbody>\n",
       "    <tr>\n",
       "      <th>0</th>\n",
       "      <td>HGNC:2631</td>\n",
       "      <td>CYP2E1</td>\n",
       "      <td>CHEBI:46195</td>\n",
       "      <td>paracetamol</td>\n",
       "      <td>0.552733</td>\n",
       "    </tr>\n",
       "    <tr>\n",
       "      <th>1</th>\n",
       "      <td>HGNC:2631</td>\n",
       "      <td>CYP2E1</td>\n",
       "      <td>CHEBI:4659</td>\n",
       "      <td>disulfiram</td>\n",
       "      <td>0.531402</td>\n",
       "    </tr>\n",
       "    <tr>\n",
       "      <th>2</th>\n",
       "      <td>HGNC:2631</td>\n",
       "      <td>CYP2E1</td>\n",
       "      <td>CHEBI:8069</td>\n",
       "      <td>phenobarbital</td>\n",
       "      <td>0.501164</td>\n",
       "    </tr>\n",
       "    <tr>\n",
       "      <th>3</th>\n",
       "      <td>HGNC:2631</td>\n",
       "      <td>CYP2E1</td>\n",
       "      <td>CHEBI:4031</td>\n",
       "      <td>cyclosporin A</td>\n",
       "      <td>0.487566</td>\n",
       "    </tr>\n",
       "    <tr>\n",
       "      <th>4</th>\n",
       "      <td>HGNC:404</td>\n",
       "      <td>ALDH2</td>\n",
       "      <td>CHEBI:4659</td>\n",
       "      <td>disulfiram</td>\n",
       "      <td>0.486286</td>\n",
       "    </tr>\n",
       "  </tbody>\n",
       "</table>\n",
       "</div>"
      ],
      "text/plain": [
       "    n2 - id  n2 - name      n3 - id      n3 - name      score\n",
       "0  HGNC:2631     CYP2E1  CHEBI:46195    paracetamol  0.552733\n",
       "1  HGNC:2631     CYP2E1   CHEBI:4659     disulfiram  0.531402\n",
       "2  HGNC:2631     CYP2E1   CHEBI:8069  phenobarbital  0.501164\n",
       "3  HGNC:2631     CYP2E1   CHEBI:4031  cyclosporin A  0.487566\n",
       "4   HGNC:404      ALDH2   CHEBI:4659     disulfiram  0.486286"
      ]
     },
     "metadata": {},
     "output_type": "display_data"
    },
    {
     "data": {
      "text/html": [
       "<h3>xeroderma pigmentosum</h3>"
      ],
      "text/plain": [
       "<IPython.core.display.HTML object>"
      ]
     },
     "metadata": {},
     "output_type": "display_data"
    },
    {
     "data": {
      "text/html": [
       "<a href=http://robokop.renci.org/simple/view/8142b4f2-fa5f-485b-9494-49ac828689be>View Answer in ROBOKOP</a>"
      ],
      "text/plain": [
       "<IPython.core.display.HTML object>"
      ]
     },
     "metadata": {},
     "output_type": "display_data"
    },
    {
     "data": {
      "text/html": [
       "<div>\n",
       "<style>\n",
       "    .dataframe thead tr:only-child th {\n",
       "        text-align: right;\n",
       "    }\n",
       "\n",
       "    .dataframe thead th {\n",
       "        text-align: left;\n",
       "    }\n",
       "\n",
       "    .dataframe tbody tr th {\n",
       "        vertical-align: top;\n",
       "    }\n",
       "</style>\n",
       "<table border=\"1\" class=\"dataframe\">\n",
       "  <thead>\n",
       "    <tr style=\"text-align: right;\">\n",
       "      <th></th>\n",
       "    </tr>\n",
       "  </thead>\n",
       "  <tbody>\n",
       "  </tbody>\n",
       "</table>\n",
       "</div>"
      ],
      "text/plain": [
       "Empty DataFrame\n",
       "Columns: []\n",
       "Index: []"
      ]
     },
     "metadata": {},
     "output_type": "display_data"
    },
    {
     "data": {
      "text/html": [
       "<h3>cockayne syndrome</h3>"
      ],
      "text/plain": [
       "<IPython.core.display.HTML object>"
      ]
     },
     "metadata": {},
     "output_type": "display_data"
    },
    {
     "data": {
      "text/html": [
       "<a href=http://robokop.renci.org/simple/view/f055c773-1f7c-4135-8508-0c161c57f889>View Answer in ROBOKOP</a>"
      ],
      "text/plain": [
       "<IPython.core.display.HTML object>"
      ]
     },
     "metadata": {},
     "output_type": "display_data"
    },
    {
     "data": {
      "text/html": [
       "<div>\n",
       "<style>\n",
       "    .dataframe thead tr:only-child th {\n",
       "        text-align: right;\n",
       "    }\n",
       "\n",
       "    .dataframe thead th {\n",
       "        text-align: left;\n",
       "    }\n",
       "\n",
       "    .dataframe tbody tr th {\n",
       "        vertical-align: top;\n",
       "    }\n",
       "</style>\n",
       "<table border=\"1\" class=\"dataframe\">\n",
       "  <thead>\n",
       "    <tr style=\"text-align: right;\">\n",
       "      <th></th>\n",
       "    </tr>\n",
       "  </thead>\n",
       "  <tbody>\n",
       "  </tbody>\n",
       "</table>\n",
       "</div>"
      ],
      "text/plain": [
       "Empty DataFrame\n",
       "Columns: []\n",
       "Index: []"
      ]
     },
     "metadata": {},
     "output_type": "display_data"
    },
    {
     "data": {
      "text/html": [
       "<h3>UV-sensitive syndrome</h3>"
      ],
      "text/plain": [
       "<IPython.core.display.HTML object>"
      ]
     },
     "metadata": {},
     "output_type": "display_data"
    },
    {
     "data": {
      "text/html": [
       "<a href=http://robokop.renci.org/simple/view/7f897c6f-f1a8-495f-9b44-5d15099773c2>View Answer in ROBOKOP</a>"
      ],
      "text/plain": [
       "<IPython.core.display.HTML object>"
      ]
     },
     "metadata": {},
     "output_type": "display_data"
    },
    {
     "data": {
      "text/html": [
       "<div>\n",
       "<style>\n",
       "    .dataframe thead tr:only-child th {\n",
       "        text-align: right;\n",
       "    }\n",
       "\n",
       "    .dataframe thead th {\n",
       "        text-align: left;\n",
       "    }\n",
       "\n",
       "    .dataframe tbody tr th {\n",
       "        vertical-align: top;\n",
       "    }\n",
       "</style>\n",
       "<table border=\"1\" class=\"dataframe\">\n",
       "  <thead>\n",
       "    <tr style=\"text-align: right;\">\n",
       "      <th></th>\n",
       "    </tr>\n",
       "  </thead>\n",
       "  <tbody>\n",
       "  </tbody>\n",
       "</table>\n",
       "</div>"
      ],
      "text/plain": [
       "Empty DataFrame\n",
       "Columns: []\n",
       "Index: []"
      ]
     },
     "metadata": {},
     "output_type": "display_data"
    },
    {
     "data": {
      "text/html": [
       "<h3>Triciothiodystrophy</h3>"
      ],
      "text/plain": [
       "<IPython.core.display.HTML object>"
      ]
     },
     "metadata": {},
     "output_type": "display_data"
    },
    {
     "data": {
      "text/html": [
       "<a href=http://robokop.renci.org/simple/view/e302d19f-72f0-481f-a2e1-bd52a5baeec9>View Answer in ROBOKOP</a>"
      ],
      "text/plain": [
       "<IPython.core.display.HTML object>"
      ]
     },
     "metadata": {},
     "output_type": "display_data"
    },
    {
     "data": {
      "text/html": [
       "<div>\n",
       "<style>\n",
       "    .dataframe thead tr:only-child th {\n",
       "        text-align: right;\n",
       "    }\n",
       "\n",
       "    .dataframe thead th {\n",
       "        text-align: left;\n",
       "    }\n",
       "\n",
       "    .dataframe tbody tr th {\n",
       "        vertical-align: top;\n",
       "    }\n",
       "</style>\n",
       "<table border=\"1\" class=\"dataframe\">\n",
       "  <thead>\n",
       "    <tr style=\"text-align: right;\">\n",
       "      <th></th>\n",
       "    </tr>\n",
       "  </thead>\n",
       "  <tbody>\n",
       "  </tbody>\n",
       "</table>\n",
       "</div>"
      ],
      "text/plain": [
       "Empty DataFrame\n",
       "Columns: []\n",
       "Index: []"
      ]
     },
     "metadata": {},
     "output_type": "display_data"
    },
    {
     "data": {
      "text/html": [
       "<h3>glucose intolerance</h3>"
      ],
      "text/plain": [
       "<IPython.core.display.HTML object>"
      ]
     },
     "metadata": {},
     "output_type": "display_data"
    },
    {
     "data": {
      "text/html": [
       "<a href=http://robokop.renci.org/simple/view/ce6927f4-d2a9-4c38-b015-d6054b710eb1>View Answer in ROBOKOP</a>"
      ],
      "text/plain": [
       "<IPython.core.display.HTML object>"
      ]
     },
     "metadata": {},
     "output_type": "display_data"
    },
    {
     "data": {
      "text/html": [
       "<div>\n",
       "<style>\n",
       "    .dataframe thead tr:only-child th {\n",
       "        text-align: right;\n",
       "    }\n",
       "\n",
       "    .dataframe thead th {\n",
       "        text-align: left;\n",
       "    }\n",
       "\n",
       "    .dataframe tbody tr th {\n",
       "        vertical-align: top;\n",
       "    }\n",
       "</style>\n",
       "<table border=\"1\" class=\"dataframe\">\n",
       "  <thead>\n",
       "    <tr style=\"text-align: right;\">\n",
       "      <th></th>\n",
       "      <th>n2 - id</th>\n",
       "      <th>n2 - name</th>\n",
       "      <th>n3 - id</th>\n",
       "      <th>n3 - name</th>\n",
       "      <th>score</th>\n",
       "    </tr>\n",
       "  </thead>\n",
       "  <tbody>\n",
       "    <tr>\n",
       "      <th>0</th>\n",
       "      <td>HGNC:644</td>\n",
       "      <td>AR</td>\n",
       "      <td>CHEBI:16243</td>\n",
       "      <td>quercetin</td>\n",
       "      <td>0.586301</td>\n",
       "    </tr>\n",
       "    <tr>\n",
       "      <th>1</th>\n",
       "      <td>HGNC:6018</td>\n",
       "      <td>IL6</td>\n",
       "      <td>CHEBI:17650</td>\n",
       "      <td>cortisol</td>\n",
       "      <td>0.560715</td>\n",
       "    </tr>\n",
       "    <tr>\n",
       "      <th>2</th>\n",
       "      <td>HGNC:644</td>\n",
       "      <td>AR</td>\n",
       "      <td>CHEBI:41922</td>\n",
       "      <td>diethylstilbestrol</td>\n",
       "      <td>0.543953</td>\n",
       "    </tr>\n",
       "    <tr>\n",
       "      <th>3</th>\n",
       "      <td>HGNC:7978</td>\n",
       "      <td>NR3C1</td>\n",
       "      <td>CHEBI:41879</td>\n",
       "      <td>dexamethasone</td>\n",
       "      <td>0.535534</td>\n",
       "    </tr>\n",
       "    <tr>\n",
       "      <th>4</th>\n",
       "      <td>HGNC:644</td>\n",
       "      <td>AR</td>\n",
       "      <td>CHEBI:39867</td>\n",
       "      <td>valproic acid</td>\n",
       "      <td>0.535446</td>\n",
       "    </tr>\n",
       "  </tbody>\n",
       "</table>\n",
       "</div>"
      ],
      "text/plain": [
       "    n2 - id  n2 - name      n3 - id           n3 - name      score\n",
       "0   HGNC:644         AR  CHEBI:16243           quercetin  0.586301\n",
       "1  HGNC:6018        IL6  CHEBI:17650            cortisol  0.560715\n",
       "2   HGNC:644         AR  CHEBI:41922  diethylstilbestrol  0.543953\n",
       "3  HGNC:7978      NR3C1  CHEBI:41879       dexamethasone  0.535534\n",
       "4   HGNC:644         AR  CHEBI:39867       valproic acid  0.535446"
      ]
     },
     "metadata": {},
     "output_type": "display_data"
    },
    {
     "data": {
      "text/html": [
       "<h3>sudden infant death syndrome</h3>"
      ],
      "text/plain": [
       "<IPython.core.display.HTML object>"
      ]
     },
     "metadata": {},
     "output_type": "display_data"
    },
    {
     "data": {
      "text/html": [
       "<a href=http://robokop.renci.org/simple/view/54d7d039-8ee5-49cb-b764-7f94e879c8cd>View Answer in ROBOKOP</a>"
      ],
      "text/plain": [
       "<IPython.core.display.HTML object>"
      ]
     },
     "metadata": {},
     "output_type": "display_data"
    },
    {
     "data": {
      "text/html": [
       "<div>\n",
       "<style>\n",
       "    .dataframe thead tr:only-child th {\n",
       "        text-align: right;\n",
       "    }\n",
       "\n",
       "    .dataframe thead th {\n",
       "        text-align: left;\n",
       "    }\n",
       "\n",
       "    .dataframe tbody tr th {\n",
       "        vertical-align: top;\n",
       "    }\n",
       "</style>\n",
       "<table border=\"1\" class=\"dataframe\">\n",
       "  <thead>\n",
       "    <tr style=\"text-align: right;\">\n",
       "      <th></th>\n",
       "      <th>n2 - id</th>\n",
       "      <th>n2 - name</th>\n",
       "      <th>n3 - id</th>\n",
       "      <th>n3 - name</th>\n",
       "      <th>score</th>\n",
       "    </tr>\n",
       "  </thead>\n",
       "  <tbody>\n",
       "    <tr>\n",
       "      <th>0</th>\n",
       "      <td>HGNC:11892</td>\n",
       "      <td>TNF</td>\n",
       "      <td>CHEBI:41879</td>\n",
       "      <td>dexamethasone</td>\n",
       "      <td>0.516839</td>\n",
       "    </tr>\n",
       "    <tr>\n",
       "      <th>1</th>\n",
       "      <td>HGNC:11892</td>\n",
       "      <td>TNF</td>\n",
       "      <td>CHEBI:33101</td>\n",
       "      <td>nitrogen dioxide</td>\n",
       "      <td>0.514982</td>\n",
       "    </tr>\n",
       "    <tr>\n",
       "      <th>2</th>\n",
       "      <td>HGNC:6018</td>\n",
       "      <td>IL6</td>\n",
       "      <td>CHEBI:41879</td>\n",
       "      <td>dexamethasone</td>\n",
       "      <td>0.496067</td>\n",
       "    </tr>\n",
       "    <tr>\n",
       "      <th>3</th>\n",
       "      <td>HGNC:5013</td>\n",
       "      <td>HMOX1</td>\n",
       "      <td>CHEBI:46195</td>\n",
       "      <td>paracetamol</td>\n",
       "      <td>0.495597</td>\n",
       "    </tr>\n",
       "    <tr>\n",
       "      <th>4</th>\n",
       "      <td>HGNC:7873</td>\n",
       "      <td>NOS2</td>\n",
       "      <td>CHEBI:46195</td>\n",
       "      <td>paracetamol</td>\n",
       "      <td>0.493888</td>\n",
       "    </tr>\n",
       "  </tbody>\n",
       "</table>\n",
       "</div>"
      ],
      "text/plain": [
       "     n2 - id  n2 - name      n3 - id         n3 - name      score\n",
       "0  HGNC:11892        TNF  CHEBI:41879     dexamethasone  0.516839\n",
       "1  HGNC:11892        TNF  CHEBI:33101  nitrogen dioxide  0.514982\n",
       "2   HGNC:6018        IL6  CHEBI:41879     dexamethasone  0.496067\n",
       "3   HGNC:5013      HMOX1  CHEBI:46195       paracetamol  0.495597\n",
       "4   HGNC:7873       NOS2  CHEBI:46195       paracetamol  0.493888"
      ]
     },
     "metadata": {},
     "output_type": "display_data"
    },
    {
     "data": {
      "text/html": [
       "<h3>neuronal ceroid lipofuscinosis 3</h3>"
      ],
      "text/plain": [
       "<IPython.core.display.HTML object>"
      ]
     },
     "metadata": {},
     "output_type": "display_data"
    },
    {
     "data": {
      "text/html": [
       "<a href=http://robokop.renci.org/simple/view/499f6419-959f-440a-b112-4d27cd7b6caf>View Answer in ROBOKOP</a>"
      ],
      "text/plain": [
       "<IPython.core.display.HTML object>"
      ]
     },
     "metadata": {},
     "output_type": "display_data"
    },
    {
     "data": {
      "text/html": [
       "<div>\n",
       "<style>\n",
       "    .dataframe thead tr:only-child th {\n",
       "        text-align: right;\n",
       "    }\n",
       "\n",
       "    .dataframe thead th {\n",
       "        text-align: left;\n",
       "    }\n",
       "\n",
       "    .dataframe tbody tr th {\n",
       "        vertical-align: top;\n",
       "    }\n",
       "</style>\n",
       "<table border=\"1\" class=\"dataframe\">\n",
       "  <thead>\n",
       "    <tr style=\"text-align: right;\">\n",
       "      <th></th>\n",
       "    </tr>\n",
       "  </thead>\n",
       "  <tbody>\n",
       "  </tbody>\n",
       "</table>\n",
       "</div>"
      ],
      "text/plain": [
       "Empty DataFrame\n",
       "Columns: []\n",
       "Index: []"
      ]
     },
     "metadata": {},
     "output_type": "display_data"
    },
    {
     "data": {
      "text/html": [
       "<h3>Niemann-Pick disease, type C1</h3>"
      ],
      "text/plain": [
       "<IPython.core.display.HTML object>"
      ]
     },
     "metadata": {},
     "output_type": "display_data"
    },
    {
     "data": {
      "text/html": [
       "<a href=http://robokop.renci.org/simple/view/58b91a34-20d4-400a-bd77-9aff6505c913>View Answer in ROBOKOP</a>"
      ],
      "text/plain": [
       "<IPython.core.display.HTML object>"
      ]
     },
     "metadata": {},
     "output_type": "display_data"
    },
    {
     "data": {
      "text/html": [
       "<div>\n",
       "<style>\n",
       "    .dataframe thead tr:only-child th {\n",
       "        text-align: right;\n",
       "    }\n",
       "\n",
       "    .dataframe thead th {\n",
       "        text-align: left;\n",
       "    }\n",
       "\n",
       "    .dataframe tbody tr th {\n",
       "        vertical-align: top;\n",
       "    }\n",
       "</style>\n",
       "<table border=\"1\" class=\"dataframe\">\n",
       "  <thead>\n",
       "    <tr style=\"text-align: right;\">\n",
       "      <th></th>\n",
       "    </tr>\n",
       "  </thead>\n",
       "  <tbody>\n",
       "  </tbody>\n",
       "</table>\n",
       "</div>"
      ],
      "text/plain": [
       "Empty DataFrame\n",
       "Columns: []\n",
       "Index: []"
      ]
     },
     "metadata": {},
     "output_type": "display_data"
    },
    {
     "data": {
      "text/html": [
       "<h3>inherited susceptibility to asthma</h3>"
      ],
      "text/plain": [
       "<IPython.core.display.HTML object>"
      ]
     },
     "metadata": {},
     "output_type": "display_data"
    },
    {
     "data": {
      "text/html": [
       "<a href=http://robokop.renci.org/simple/view/8a8d3ff7-4f0d-456a-9e93-bc2f606e1a4d>View Answer in ROBOKOP</a>"
      ],
      "text/plain": [
       "<IPython.core.display.HTML object>"
      ]
     },
     "metadata": {},
     "output_type": "display_data"
    },
    {
     "data": {
      "text/html": [
       "<div>\n",
       "<style>\n",
       "    .dataframe thead tr:only-child th {\n",
       "        text-align: right;\n",
       "    }\n",
       "\n",
       "    .dataframe thead th {\n",
       "        text-align: left;\n",
       "    }\n",
       "\n",
       "    .dataframe tbody tr th {\n",
       "        vertical-align: top;\n",
       "    }\n",
       "</style>\n",
       "<table border=\"1\" class=\"dataframe\">\n",
       "  <thead>\n",
       "    <tr style=\"text-align: right;\">\n",
       "      <th></th>\n",
       "    </tr>\n",
       "  </thead>\n",
       "  <tbody>\n",
       "  </tbody>\n",
       "</table>\n",
       "</div>"
      ],
      "text/plain": [
       "Empty DataFrame\n",
       "Columns: []\n",
       "Index: []"
      ]
     },
     "metadata": {},
     "output_type": "display_data"
    },
    {
     "data": {
      "text/html": [
       "<h3>familial calcium pyrophosphate deposition</h3>"
      ],
      "text/plain": [
       "<IPython.core.display.HTML object>"
      ]
     },
     "metadata": {},
     "output_type": "display_data"
    },
    {
     "data": {
      "text/html": [
       "<a href=http://robokop.renci.org/simple/view/5f5fdb17-2ba2-431a-9ec4-3c6597428d70>View Answer in ROBOKOP</a>"
      ],
      "text/plain": [
       "<IPython.core.display.HTML object>"
      ]
     },
     "metadata": {},
     "output_type": "display_data"
    },
    {
     "data": {
      "text/html": [
       "<div>\n",
       "<style>\n",
       "    .dataframe thead tr:only-child th {\n",
       "        text-align: right;\n",
       "    }\n",
       "\n",
       "    .dataframe thead th {\n",
       "        text-align: left;\n",
       "    }\n",
       "\n",
       "    .dataframe tbody tr th {\n",
       "        vertical-align: top;\n",
       "    }\n",
       "</style>\n",
       "<table border=\"1\" class=\"dataframe\">\n",
       "  <thead>\n",
       "    <tr style=\"text-align: right;\">\n",
       "      <th></th>\n",
       "    </tr>\n",
       "  </thead>\n",
       "  <tbody>\n",
       "  </tbody>\n",
       "</table>\n",
       "</div>"
      ],
      "text/plain": [
       "Empty DataFrame\n",
       "Columns: []\n",
       "Index: []"
      ]
     },
     "metadata": {},
     "output_type": "display_data"
    },
    {
     "data": {
      "text/html": [
       "<h3>genetic lipodystrophy</h3>"
      ],
      "text/plain": [
       "<IPython.core.display.HTML object>"
      ]
     },
     "metadata": {},
     "output_type": "display_data"
    },
    {
     "data": {
      "text/html": [
       "<a href=http://robokop.renci.org/simple/view/d2a72746-0bfa-4027-95eb-93a3baa26802>View Answer in ROBOKOP</a>"
      ],
      "text/plain": [
       "<IPython.core.display.HTML object>"
      ]
     },
     "metadata": {},
     "output_type": "display_data"
    },
    {
     "data": {
      "text/html": [
       "<div>\n",
       "<style>\n",
       "    .dataframe thead tr:only-child th {\n",
       "        text-align: right;\n",
       "    }\n",
       "\n",
       "    .dataframe thead th {\n",
       "        text-align: left;\n",
       "    }\n",
       "\n",
       "    .dataframe tbody tr th {\n",
       "        vertical-align: top;\n",
       "    }\n",
       "</style>\n",
       "<table border=\"1\" class=\"dataframe\">\n",
       "  <thead>\n",
       "    <tr style=\"text-align: right;\">\n",
       "      <th></th>\n",
       "    </tr>\n",
       "  </thead>\n",
       "  <tbody>\n",
       "  </tbody>\n",
       "</table>\n",
       "</div>"
      ],
      "text/plain": [
       "Empty DataFrame\n",
       "Columns: []\n",
       "Index: []"
      ]
     },
     "metadata": {},
     "output_type": "display_data"
    },
    {
     "data": {
      "text/html": [
       "<h3>diabetes mellitus, noninsulin-dependent</h3>"
      ],
      "text/plain": [
       "<IPython.core.display.HTML object>"
      ]
     },
     "metadata": {},
     "output_type": "display_data"
    },
    {
     "data": {
      "text/html": [
       "<a href=http://robokop.renci.org/simple/view/a9dc64da-4983-4185-b7d5-83a188b9a00c>View Answer in ROBOKOP</a>"
      ],
      "text/plain": [
       "<IPython.core.display.HTML object>"
      ]
     },
     "metadata": {},
     "output_type": "display_data"
    },
    {
     "data": {
      "text/html": [
       "<div>\n",
       "<style>\n",
       "    .dataframe thead tr:only-child th {\n",
       "        text-align: right;\n",
       "    }\n",
       "\n",
       "    .dataframe thead th {\n",
       "        text-align: left;\n",
       "    }\n",
       "\n",
       "    .dataframe tbody tr th {\n",
       "        vertical-align: top;\n",
       "    }\n",
       "</style>\n",
       "<table border=\"1\" class=\"dataframe\">\n",
       "  <thead>\n",
       "    <tr style=\"text-align: right;\">\n",
       "      <th></th>\n",
       "    </tr>\n",
       "  </thead>\n",
       "  <tbody>\n",
       "  </tbody>\n",
       "</table>\n",
       "</div>"
      ],
      "text/plain": [
       "Empty DataFrame\n",
       "Columns: []\n",
       "Index: []"
      ]
     },
     "metadata": {},
     "output_type": "display_data"
    },
    {
     "data": {
      "text/html": [
       "<h3>Behcet disease</h3>"
      ],
      "text/plain": [
       "<IPython.core.display.HTML object>"
      ]
     },
     "metadata": {},
     "output_type": "display_data"
    },
    {
     "data": {
      "text/html": [
       "<a href=http://robokop.renci.org/simple/view/e919ed3d-5c02-4f5e-b6f4-91512252cd7d>View Answer in ROBOKOP</a>"
      ],
      "text/plain": [
       "<IPython.core.display.HTML object>"
      ]
     },
     "metadata": {},
     "output_type": "display_data"
    },
    {
     "data": {
      "text/html": [
       "<div>\n",
       "<style>\n",
       "    .dataframe thead tr:only-child th {\n",
       "        text-align: right;\n",
       "    }\n",
       "\n",
       "    .dataframe thead th {\n",
       "        text-align: left;\n",
       "    }\n",
       "\n",
       "    .dataframe tbody tr th {\n",
       "        vertical-align: top;\n",
       "    }\n",
       "</style>\n",
       "<table border=\"1\" class=\"dataframe\">\n",
       "  <thead>\n",
       "    <tr style=\"text-align: right;\">\n",
       "      <th></th>\n",
       "      <th>n2 - id</th>\n",
       "      <th>n2 - name</th>\n",
       "      <th>n3 - id</th>\n",
       "      <th>n3 - name</th>\n",
       "      <th>score</th>\n",
       "    </tr>\n",
       "  </thead>\n",
       "  <tbody>\n",
       "    <tr>\n",
       "      <th>0</th>\n",
       "      <td>HGNC:10937</td>\n",
       "      <td>SLC19A1</td>\n",
       "      <td>CHEBI:44185</td>\n",
       "      <td>methotrexate</td>\n",
       "      <td>0.314212</td>\n",
       "    </tr>\n",
       "    <tr>\n",
       "      <th>1</th>\n",
       "      <td>HGNC:2861</td>\n",
       "      <td>DHFR</td>\n",
       "      <td>CHEBI:44185</td>\n",
       "      <td>methotrexate</td>\n",
       "      <td>0.312540</td>\n",
       "    </tr>\n",
       "    <tr>\n",
       "      <th>2</th>\n",
       "      <td>HGNC:5013</td>\n",
       "      <td>HMOX1</td>\n",
       "      <td>CHEBI:16236</td>\n",
       "      <td>ethanol</td>\n",
       "      <td>0.292121</td>\n",
       "    </tr>\n",
       "    <tr>\n",
       "      <th>3</th>\n",
       "      <td>HGNC:5013</td>\n",
       "      <td>HMOX1</td>\n",
       "      <td>CHEBI:46195</td>\n",
       "      <td>paracetamol</td>\n",
       "      <td>0.288697</td>\n",
       "    </tr>\n",
       "    <tr>\n",
       "      <th>4</th>\n",
       "      <td>HGNC:5013</td>\n",
       "      <td>HMOX1</td>\n",
       "      <td>CHEBI:4031</td>\n",
       "      <td>cyclosporin A</td>\n",
       "      <td>0.288658</td>\n",
       "    </tr>\n",
       "  </tbody>\n",
       "</table>\n",
       "</div>"
      ],
      "text/plain": [
       "     n2 - id  n2 - name      n3 - id      n3 - name      score\n",
       "0  HGNC:10937    SLC19A1  CHEBI:44185   methotrexate  0.314212\n",
       "1   HGNC:2861       DHFR  CHEBI:44185   methotrexate  0.312540\n",
       "2   HGNC:5013      HMOX1  CHEBI:16236        ethanol  0.292121\n",
       "3   HGNC:5013      HMOX1  CHEBI:46195    paracetamol  0.288697\n",
       "4   HGNC:5013      HMOX1   CHEBI:4031  cyclosporin A  0.288658"
      ]
     },
     "metadata": {},
     "output_type": "display_data"
    },
    {
     "data": {
      "text/html": [
       "<h3>systemic sclerosis</h3>"
      ],
      "text/plain": [
       "<IPython.core.display.HTML object>"
      ]
     },
     "metadata": {},
     "output_type": "display_data"
    },
    {
     "data": {
      "text/html": [
       "<a href=http://robokop.renci.org/simple/view/11c7becf-96b2-4570-9ce7-6dc6ff8fdc38>View Answer in ROBOKOP</a>"
      ],
      "text/plain": [
       "<IPython.core.display.HTML object>"
      ]
     },
     "metadata": {},
     "output_type": "display_data"
    },
    {
     "data": {
      "text/html": [
       "<div>\n",
       "<style>\n",
       "    .dataframe thead tr:only-child th {\n",
       "        text-align: right;\n",
       "    }\n",
       "\n",
       "    .dataframe thead th {\n",
       "        text-align: left;\n",
       "    }\n",
       "\n",
       "    .dataframe tbody tr th {\n",
       "        vertical-align: top;\n",
       "    }\n",
       "</style>\n",
       "<table border=\"1\" class=\"dataframe\">\n",
       "  <thead>\n",
       "    <tr style=\"text-align: right;\">\n",
       "      <th></th>\n",
       "      <th>n2 - id</th>\n",
       "      <th>n2 - name</th>\n",
       "      <th>n3 - id</th>\n",
       "      <th>n3 - name</th>\n",
       "      <th>score</th>\n",
       "    </tr>\n",
       "  </thead>\n",
       "  <tbody>\n",
       "    <tr>\n",
       "      <th>0</th>\n",
       "      <td>HGNC:40</td>\n",
       "      <td>ABCB1</td>\n",
       "      <td>CHEBI:4031</td>\n",
       "      <td>cyclosporin A</td>\n",
       "      <td>0.534081</td>\n",
       "    </tr>\n",
       "    <tr>\n",
       "      <th>1</th>\n",
       "      <td>HGNC:11730</td>\n",
       "      <td>TERT</td>\n",
       "      <td>CHEBI:46345</td>\n",
       "      <td>5-fluorouracil</td>\n",
       "      <td>0.519951</td>\n",
       "    </tr>\n",
       "    <tr>\n",
       "      <th>2</th>\n",
       "      <td>HGNC:990</td>\n",
       "      <td>BCL2</td>\n",
       "      <td>CHEBI:46345</td>\n",
       "      <td>5-fluorouracil</td>\n",
       "      <td>0.517024</td>\n",
       "    </tr>\n",
       "    <tr>\n",
       "      <th>3</th>\n",
       "      <td>HGNC:990</td>\n",
       "      <td>BCL2</td>\n",
       "      <td>CHEBI:31355</td>\n",
       "      <td>carboplatin</td>\n",
       "      <td>0.497882</td>\n",
       "    </tr>\n",
       "    <tr>\n",
       "      <th>4</th>\n",
       "      <td>HGNC:40</td>\n",
       "      <td>ABCB1</td>\n",
       "      <td>CHEBI:3962</td>\n",
       "      <td>curcumin</td>\n",
       "      <td>0.497615</td>\n",
       "    </tr>\n",
       "  </tbody>\n",
       "</table>\n",
       "</div>"
      ],
      "text/plain": [
       "     n2 - id  n2 - name      n3 - id       n3 - name      score\n",
       "0     HGNC:40      ABCB1   CHEBI:4031   cyclosporin A  0.534081\n",
       "1  HGNC:11730       TERT  CHEBI:46345  5-fluorouracil  0.519951\n",
       "2    HGNC:990       BCL2  CHEBI:46345  5-fluorouracil  0.517024\n",
       "3    HGNC:990       BCL2  CHEBI:31355     carboplatin  0.497882\n",
       "4     HGNC:40      ABCB1   CHEBI:3962        curcumin  0.497615"
      ]
     },
     "metadata": {},
     "output_type": "display_data"
    },
    {
     "data": {
      "text/html": [
       "<h3>hemophilia A</h3>"
      ],
      "text/plain": [
       "<IPython.core.display.HTML object>"
      ]
     },
     "metadata": {},
     "output_type": "display_data"
    },
    {
     "data": {
      "text/html": [
       "<a href=http://robokop.renci.org/simple/view/ebeb58a0-a9ff-49a5-8edf-5faab69c6f4d>View Answer in ROBOKOP</a>"
      ],
      "text/plain": [
       "<IPython.core.display.HTML object>"
      ]
     },
     "metadata": {},
     "output_type": "display_data"
    },
    {
     "data": {
      "text/html": [
       "<div>\n",
       "<style>\n",
       "    .dataframe thead tr:only-child th {\n",
       "        text-align: right;\n",
       "    }\n",
       "\n",
       "    .dataframe thead th {\n",
       "        text-align: left;\n",
       "    }\n",
       "\n",
       "    .dataframe tbody tr th {\n",
       "        vertical-align: top;\n",
       "    }\n",
       "</style>\n",
       "<table border=\"1\" class=\"dataframe\">\n",
       "  <thead>\n",
       "    <tr style=\"text-align: right;\">\n",
       "      <th></th>\n",
       "      <th>n2 - id</th>\n",
       "      <th>n2 - name</th>\n",
       "      <th>n3 - id</th>\n",
       "      <th>n3 - name</th>\n",
       "      <th>score</th>\n",
       "    </tr>\n",
       "  </thead>\n",
       "  <tbody>\n",
       "    <tr>\n",
       "      <th>0</th>\n",
       "      <td>HGNC:11892</td>\n",
       "      <td>TNF</td>\n",
       "      <td>CHEBI:41879</td>\n",
       "      <td>dexamethasone</td>\n",
       "      <td>0.362915</td>\n",
       "    </tr>\n",
       "    <tr>\n",
       "      <th>1</th>\n",
       "      <td>HGNC:11892</td>\n",
       "      <td>TNF</td>\n",
       "      <td>CHEBI:41879</td>\n",
       "      <td>dexamethasone</td>\n",
       "      <td>0.355140</td>\n",
       "    </tr>\n",
       "    <tr>\n",
       "      <th>2</th>\n",
       "      <td>HGNC:6018</td>\n",
       "      <td>IL6</td>\n",
       "      <td>CHEBI:41879</td>\n",
       "      <td>dexamethasone</td>\n",
       "      <td>0.348473</td>\n",
       "    </tr>\n",
       "    <tr>\n",
       "      <th>3</th>\n",
       "      <td>HGNC:11892</td>\n",
       "      <td>TNF</td>\n",
       "      <td>CHEBI:33101</td>\n",
       "      <td>nitrogen dioxide</td>\n",
       "      <td>0.346500</td>\n",
       "    </tr>\n",
       "    <tr>\n",
       "      <th>4</th>\n",
       "      <td>HGNC:11892</td>\n",
       "      <td>TNF</td>\n",
       "      <td>CHEBI:33101</td>\n",
       "      <td>nitrogen dioxide</td>\n",
       "      <td>0.342949</td>\n",
       "    </tr>\n",
       "  </tbody>\n",
       "</table>\n",
       "</div>"
      ],
      "text/plain": [
       "     n2 - id  n2 - name      n3 - id         n3 - name      score\n",
       "0  HGNC:11892        TNF  CHEBI:41879     dexamethasone  0.362915\n",
       "1  HGNC:11892        TNF  CHEBI:41879     dexamethasone  0.355140\n",
       "2   HGNC:6018        IL6  CHEBI:41879     dexamethasone  0.348473\n",
       "3  HGNC:11892        TNF  CHEBI:33101  nitrogen dioxide  0.346500\n",
       "4  HGNC:11892        TNF  CHEBI:33101  nitrogen dioxide  0.342949"
      ]
     },
     "metadata": {},
     "output_type": "display_data"
    },
    {
     "data": {
      "text/html": [
       "<h3>hereditary hemochromatosis</h3>"
      ],
      "text/plain": [
       "<IPython.core.display.HTML object>"
      ]
     },
     "metadata": {},
     "output_type": "display_data"
    },
    {
     "data": {
      "text/html": [
       "<a href=http://robokop.renci.org/simple/view/bc153e49-aeb5-457e-a558-18ee92900e40>View Answer in ROBOKOP</a>"
      ],
      "text/plain": [
       "<IPython.core.display.HTML object>"
      ]
     },
     "metadata": {},
     "output_type": "display_data"
    },
    {
     "data": {
      "text/html": [
       "<div>\n",
       "<style>\n",
       "    .dataframe thead tr:only-child th {\n",
       "        text-align: right;\n",
       "    }\n",
       "\n",
       "    .dataframe thead th {\n",
       "        text-align: left;\n",
       "    }\n",
       "\n",
       "    .dataframe tbody tr th {\n",
       "        vertical-align: top;\n",
       "    }\n",
       "</style>\n",
       "<table border=\"1\" class=\"dataframe\">\n",
       "  <thead>\n",
       "    <tr style=\"text-align: right;\">\n",
       "      <th></th>\n",
       "      <th>n2 - id</th>\n",
       "      <th>n2 - name</th>\n",
       "      <th>n3 - id</th>\n",
       "      <th>n3 - name</th>\n",
       "      <th>score</th>\n",
       "    </tr>\n",
       "  </thead>\n",
       "  <tbody>\n",
       "    <tr>\n",
       "      <th>0</th>\n",
       "      <td>HGNC:3999</td>\n",
       "      <td>FTL</td>\n",
       "      <td>CHEBI:16240</td>\n",
       "      <td>hydrogen peroxide</td>\n",
       "      <td>0.509260</td>\n",
       "    </tr>\n",
       "    <tr>\n",
       "      <th>1</th>\n",
       "      <td>HGNC:4910</td>\n",
       "      <td>HIF1A</td>\n",
       "      <td>CHEBI:15430</td>\n",
       "      <td>protoporphyrin</td>\n",
       "      <td>0.485372</td>\n",
       "    </tr>\n",
       "    <tr>\n",
       "      <th>2</th>\n",
       "      <td>HGNC:11763</td>\n",
       "      <td>TFRC</td>\n",
       "      <td>CHEBI:4031</td>\n",
       "      <td>cyclosporin A</td>\n",
       "      <td>0.444505</td>\n",
       "    </tr>\n",
       "    <tr>\n",
       "      <th>3</th>\n",
       "      <td>HGNC:613</td>\n",
       "      <td>APOE</td>\n",
       "      <td>CHEBI:4031</td>\n",
       "      <td>cyclosporin A</td>\n",
       "      <td>0.436823</td>\n",
       "    </tr>\n",
       "    <tr>\n",
       "      <th>4</th>\n",
       "      <td>HGNC:4910</td>\n",
       "      <td>HIF1A</td>\n",
       "      <td>CHEBI:15379</td>\n",
       "      <td>dioxygen</td>\n",
       "      <td>0.424549</td>\n",
       "    </tr>\n",
       "  </tbody>\n",
       "</table>\n",
       "</div>"
      ],
      "text/plain": [
       "     n2 - id  n2 - name      n3 - id          n3 - name      score\n",
       "0   HGNC:3999        FTL  CHEBI:16240  hydrogen peroxide  0.509260\n",
       "1   HGNC:4910      HIF1A  CHEBI:15430     protoporphyrin  0.485372\n",
       "2  HGNC:11763       TFRC   CHEBI:4031      cyclosporin A  0.444505\n",
       "3    HGNC:613       APOE   CHEBI:4031      cyclosporin A  0.436823\n",
       "4   HGNC:4910      HIF1A  CHEBI:15379           dioxygen  0.424549"
      ]
     },
     "metadata": {},
     "output_type": "display_data"
    },
    {
     "data": {
      "text/html": [
       "<h3>primary lipodystrophy</h3>"
      ],
      "text/plain": [
       "<IPython.core.display.HTML object>"
      ]
     },
     "metadata": {},
     "output_type": "display_data"
    },
    {
     "data": {
      "text/html": [
       "<a href=http://robokop.renci.org/simple/view/d9744826-a4bc-408b-9fd0-d8bdf59aa8e8>View Answer in ROBOKOP</a>"
      ],
      "text/plain": [
       "<IPython.core.display.HTML object>"
      ]
     },
     "metadata": {},
     "output_type": "display_data"
    },
    {
     "data": {
      "text/html": [
       "<div>\n",
       "<style>\n",
       "    .dataframe thead tr:only-child th {\n",
       "        text-align: right;\n",
       "    }\n",
       "\n",
       "    .dataframe thead th {\n",
       "        text-align: left;\n",
       "    }\n",
       "\n",
       "    .dataframe tbody tr th {\n",
       "        vertical-align: top;\n",
       "    }\n",
       "</style>\n",
       "<table border=\"1\" class=\"dataframe\">\n",
       "  <thead>\n",
       "    <tr style=\"text-align: right;\">\n",
       "      <th></th>\n",
       "    </tr>\n",
       "  </thead>\n",
       "  <tbody>\n",
       "  </tbody>\n",
       "</table>\n",
       "</div>"
      ],
      "text/plain": [
       "Empty DataFrame\n",
       "Columns: []\n",
       "Index: []"
      ]
     },
     "metadata": {},
     "output_type": "display_data"
    },
    {
     "data": {
      "text/html": [
       "<h3>genetic dementia</h3>"
      ],
      "text/plain": [
       "<IPython.core.display.HTML object>"
      ]
     },
     "metadata": {},
     "output_type": "display_data"
    },
    {
     "data": {
      "text/html": [
       "<a href=http://robokop.renci.org/simple/view/3b33eba9-66ae-4804-ac5d-3b7d66129d67>View Answer in ROBOKOP</a>"
      ],
      "text/plain": [
       "<IPython.core.display.HTML object>"
      ]
     },
     "metadata": {},
     "output_type": "display_data"
    },
    {
     "data": {
      "text/html": [
       "<div>\n",
       "<style>\n",
       "    .dataframe thead tr:only-child th {\n",
       "        text-align: right;\n",
       "    }\n",
       "\n",
       "    .dataframe thead th {\n",
       "        text-align: left;\n",
       "    }\n",
       "\n",
       "    .dataframe tbody tr th {\n",
       "        vertical-align: top;\n",
       "    }\n",
       "</style>\n",
       "<table border=\"1\" class=\"dataframe\">\n",
       "  <thead>\n",
       "    <tr style=\"text-align: right;\">\n",
       "      <th></th>\n",
       "    </tr>\n",
       "  </thead>\n",
       "  <tbody>\n",
       "  </tbody>\n",
       "</table>\n",
       "</div>"
      ],
      "text/plain": [
       "Empty DataFrame\n",
       "Columns: []\n",
       "Index: []"
      ]
     },
     "metadata": {},
     "output_type": "display_data"
    },
    {
     "data": {
      "text/html": [
       "<h3>functional neutrophil defect</h3>"
      ],
      "text/plain": [
       "<IPython.core.display.HTML object>"
      ]
     },
     "metadata": {},
     "output_type": "display_data"
    },
    {
     "data": {
      "text/html": [
       "<a href=http://robokop.renci.org/simple/view/5382cd5e-1446-445c-afc5-7207178bb9d3>View Answer in ROBOKOP</a>"
      ],
      "text/plain": [
       "<IPython.core.display.HTML object>"
      ]
     },
     "metadata": {},
     "output_type": "display_data"
    },
    {
     "data": {
      "text/html": [
       "<div>\n",
       "<style>\n",
       "    .dataframe thead tr:only-child th {\n",
       "        text-align: right;\n",
       "    }\n",
       "\n",
       "    .dataframe thead th {\n",
       "        text-align: left;\n",
       "    }\n",
       "\n",
       "    .dataframe tbody tr th {\n",
       "        vertical-align: top;\n",
       "    }\n",
       "</style>\n",
       "<table border=\"1\" class=\"dataframe\">\n",
       "  <thead>\n",
       "    <tr style=\"text-align: right;\">\n",
       "      <th></th>\n",
       "    </tr>\n",
       "  </thead>\n",
       "  <tbody>\n",
       "  </tbody>\n",
       "</table>\n",
       "</div>"
      ],
      "text/plain": [
       "Empty DataFrame\n",
       "Columns: []\n",
       "Index: []"
      ]
     },
     "metadata": {},
     "output_type": "display_data"
    },
    {
     "data": {
      "text/html": [
       "<h3>gastroesophageal reflux disease</h3>"
      ],
      "text/plain": [
       "<IPython.core.display.HTML object>"
      ]
     },
     "metadata": {},
     "output_type": "display_data"
    },
    {
     "data": {
      "text/html": [
       "<a href=http://robokop.renci.org/simple/view/a464af84-cb98-4b6b-90d4-970313573d1d>View Answer in ROBOKOP</a>"
      ],
      "text/plain": [
       "<IPython.core.display.HTML object>"
      ]
     },
     "metadata": {},
     "output_type": "display_data"
    },
    {
     "data": {
      "text/html": [
       "<div>\n",
       "<style>\n",
       "    .dataframe thead tr:only-child th {\n",
       "        text-align: right;\n",
       "    }\n",
       "\n",
       "    .dataframe thead th {\n",
       "        text-align: left;\n",
       "    }\n",
       "\n",
       "    .dataframe tbody tr th {\n",
       "        vertical-align: top;\n",
       "    }\n",
       "</style>\n",
       "<table border=\"1\" class=\"dataframe\">\n",
       "  <thead>\n",
       "    <tr style=\"text-align: right;\">\n",
       "      <th></th>\n",
       "      <th>n2 - id</th>\n",
       "      <th>n2 - name</th>\n",
       "      <th>n3 - id</th>\n",
       "      <th>n3 - name</th>\n",
       "      <th>score</th>\n",
       "    </tr>\n",
       "  </thead>\n",
       "  <tbody>\n",
       "    <tr>\n",
       "      <th>0</th>\n",
       "      <td>HGNC:11892</td>\n",
       "      <td>TNF</td>\n",
       "      <td>CHEBI:9150</td>\n",
       "      <td>simvastatin</td>\n",
       "      <td>0.495669</td>\n",
       "    </tr>\n",
       "    <tr>\n",
       "      <th>1</th>\n",
       "      <td>HGNC:11892</td>\n",
       "      <td>TNF</td>\n",
       "      <td>CHEBI:41879</td>\n",
       "      <td>dexamethasone</td>\n",
       "      <td>0.495219</td>\n",
       "    </tr>\n",
       "    <tr>\n",
       "      <th>2</th>\n",
       "      <td>HGNC:11892</td>\n",
       "      <td>TNF</td>\n",
       "      <td>CHEBI:16243</td>\n",
       "      <td>quercetin</td>\n",
       "      <td>0.485356</td>\n",
       "    </tr>\n",
       "    <tr>\n",
       "      <th>3</th>\n",
       "      <td>HGNC:11892</td>\n",
       "      <td>TNF</td>\n",
       "      <td>CHEBI:9753</td>\n",
       "      <td>troglitazone</td>\n",
       "      <td>0.476196</td>\n",
       "    </tr>\n",
       "    <tr>\n",
       "      <th>4</th>\n",
       "      <td>HGNC:11892</td>\n",
       "      <td>TNF</td>\n",
       "      <td>CHEBI:25812</td>\n",
       "      <td>ozone</td>\n",
       "      <td>0.469110</td>\n",
       "    </tr>\n",
       "  </tbody>\n",
       "</table>\n",
       "</div>"
      ],
      "text/plain": [
       "     n2 - id  n2 - name      n3 - id      n3 - name      score\n",
       "0  HGNC:11892        TNF   CHEBI:9150    simvastatin  0.495669\n",
       "1  HGNC:11892        TNF  CHEBI:41879  dexamethasone  0.495219\n",
       "2  HGNC:11892        TNF  CHEBI:16243      quercetin  0.485356\n",
       "3  HGNC:11892        TNF   CHEBI:9753   troglitazone  0.476196\n",
       "4  HGNC:11892        TNF  CHEBI:25812          ozone  0.469110"
      ]
     },
     "metadata": {},
     "output_type": "display_data"
    },
    {
     "data": {
      "text/html": [
       "<h3>cystic fibrosis</h3>"
      ],
      "text/plain": [
       "<IPython.core.display.HTML object>"
      ]
     },
     "metadata": {},
     "output_type": "display_data"
    },
    {
     "data": {
      "text/html": [
       "<a href=http://robokop.renci.org/simple/view/66b6d514-633f-4b8a-80eb-e338e670cd6c>View Answer in ROBOKOP</a>"
      ],
      "text/plain": [
       "<IPython.core.display.HTML object>"
      ]
     },
     "metadata": {},
     "output_type": "display_data"
    },
    {
     "data": {
      "text/html": [
       "<div>\n",
       "<style>\n",
       "    .dataframe thead tr:only-child th {\n",
       "        text-align: right;\n",
       "    }\n",
       "\n",
       "    .dataframe thead th {\n",
       "        text-align: left;\n",
       "    }\n",
       "\n",
       "    .dataframe tbody tr th {\n",
       "        vertical-align: top;\n",
       "    }\n",
       "</style>\n",
       "<table border=\"1\" class=\"dataframe\">\n",
       "  <thead>\n",
       "    <tr style=\"text-align: right;\">\n",
       "      <th></th>\n",
       "      <th>n2 - id</th>\n",
       "      <th>n2 - name</th>\n",
       "      <th>n3 - id</th>\n",
       "      <th>n3 - name</th>\n",
       "      <th>score</th>\n",
       "    </tr>\n",
       "  </thead>\n",
       "  <tbody>\n",
       "    <tr>\n",
       "      <th>0</th>\n",
       "      <td>HGNC:40</td>\n",
       "      <td>ABCB1</td>\n",
       "      <td>CHEBI:4031</td>\n",
       "      <td>cyclosporin A</td>\n",
       "      <td>0.436367</td>\n",
       "    </tr>\n",
       "    <tr>\n",
       "      <th>1</th>\n",
       "      <td>HGNC:11998</td>\n",
       "      <td>TP53</td>\n",
       "      <td>CHEBI:29678</td>\n",
       "      <td>sodium arsenite</td>\n",
       "      <td>0.414053</td>\n",
       "    </tr>\n",
       "    <tr>\n",
       "      <th>2</th>\n",
       "      <td>HGNC:40</td>\n",
       "      <td>ABCB1</td>\n",
       "      <td>CHEBI:3962</td>\n",
       "      <td>curcumin</td>\n",
       "      <td>0.409188</td>\n",
       "    </tr>\n",
       "    <tr>\n",
       "      <th>3</th>\n",
       "      <td>HGNC:11998</td>\n",
       "      <td>TP53</td>\n",
       "      <td>CHEBI:16243</td>\n",
       "      <td>quercetin</td>\n",
       "      <td>0.407303</td>\n",
       "    </tr>\n",
       "    <tr>\n",
       "      <th>4</th>\n",
       "      <td>HGNC:9884</td>\n",
       "      <td>RB1</td>\n",
       "      <td>CHEBI:8382</td>\n",
       "      <td>prednisone</td>\n",
       "      <td>0.405668</td>\n",
       "    </tr>\n",
       "  </tbody>\n",
       "</table>\n",
       "</div>"
      ],
      "text/plain": [
       "     n2 - id  n2 - name      n3 - id        n3 - name      score\n",
       "0     HGNC:40      ABCB1   CHEBI:4031    cyclosporin A  0.436367\n",
       "1  HGNC:11998       TP53  CHEBI:29678  sodium arsenite  0.414053\n",
       "2     HGNC:40      ABCB1   CHEBI:3962         curcumin  0.409188\n",
       "3  HGNC:11998       TP53  CHEBI:16243        quercetin  0.407303\n",
       "4   HGNC:9884        RB1   CHEBI:8382       prednisone  0.405668"
      ]
     },
     "metadata": {},
     "output_type": "display_data"
    },
    {
     "data": {
      "text/html": [
       "<h3>newborn respiratory distress syndrome</h3>"
      ],
      "text/plain": [
       "<IPython.core.display.HTML object>"
      ]
     },
     "metadata": {},
     "output_type": "display_data"
    },
    {
     "data": {
      "text/html": [
       "<a href=http://robokop.renci.org/simple/view/0578d1c8-bb69-4847-b760-6be3cd21f1f1>View Answer in ROBOKOP</a>"
      ],
      "text/plain": [
       "<IPython.core.display.HTML object>"
      ]
     },
     "metadata": {},
     "output_type": "display_data"
    },
    {
     "data": {
      "text/html": [
       "<div>\n",
       "<style>\n",
       "    .dataframe thead tr:only-child th {\n",
       "        text-align: right;\n",
       "    }\n",
       "\n",
       "    .dataframe thead th {\n",
       "        text-align: left;\n",
       "    }\n",
       "\n",
       "    .dataframe tbody tr th {\n",
       "        vertical-align: top;\n",
       "    }\n",
       "</style>\n",
       "<table border=\"1\" class=\"dataframe\">\n",
       "  <thead>\n",
       "    <tr style=\"text-align: right;\">\n",
       "      <th></th>\n",
       "      <th>n2 - id</th>\n",
       "      <th>n2 - name</th>\n",
       "      <th>n3 - id</th>\n",
       "      <th>n3 - name</th>\n",
       "      <th>score</th>\n",
       "    </tr>\n",
       "  </thead>\n",
       "  <tbody>\n",
       "    <tr>\n",
       "      <th>0</th>\n",
       "      <td>HGNC:11782</td>\n",
       "      <td>TH</td>\n",
       "      <td>CHEBI:6809</td>\n",
       "      <td>methamphetamine</td>\n",
       "      <td>0.441137</td>\n",
       "    </tr>\n",
       "    <tr>\n",
       "      <th>1</th>\n",
       "      <td>HGNC:11892</td>\n",
       "      <td>TNF</td>\n",
       "      <td>CHEBI:41879</td>\n",
       "      <td>dexamethasone</td>\n",
       "      <td>0.423395</td>\n",
       "    </tr>\n",
       "    <tr>\n",
       "      <th>2</th>\n",
       "      <td>HGNC:40</td>\n",
       "      <td>ABCB1</td>\n",
       "      <td>CHEBI:4031</td>\n",
       "      <td>cyclosporin A</td>\n",
       "      <td>0.422959</td>\n",
       "    </tr>\n",
       "    <tr>\n",
       "      <th>3</th>\n",
       "      <td>HGNC:11892</td>\n",
       "      <td>TNF</td>\n",
       "      <td>CHEBI:41879</td>\n",
       "      <td>dexamethasone</td>\n",
       "      <td>0.420479</td>\n",
       "    </tr>\n",
       "    <tr>\n",
       "      <th>4</th>\n",
       "      <td>HGNC:270</td>\n",
       "      <td>PARP1</td>\n",
       "      <td>CHEBI:4911</td>\n",
       "      <td>etoposide</td>\n",
       "      <td>0.417458</td>\n",
       "    </tr>\n",
       "  </tbody>\n",
       "</table>\n",
       "</div>"
      ],
      "text/plain": [
       "     n2 - id  n2 - name      n3 - id        n3 - name      score\n",
       "0  HGNC:11782         TH   CHEBI:6809  methamphetamine  0.441137\n",
       "1  HGNC:11892        TNF  CHEBI:41879    dexamethasone  0.423395\n",
       "2     HGNC:40      ABCB1   CHEBI:4031    cyclosporin A  0.422959\n",
       "3  HGNC:11892        TNF  CHEBI:41879    dexamethasone  0.420479\n",
       "4    HGNC:270      PARP1   CHEBI:4911        etoposide  0.417458"
      ]
     },
     "metadata": {},
     "output_type": "display_data"
    },
    {
     "data": {
      "text/html": [
       "<h3>metabolic syndrome X</h3>"
      ],
      "text/plain": [
       "<IPython.core.display.HTML object>"
      ]
     },
     "metadata": {},
     "output_type": "display_data"
    },
    {
     "data": {
      "text/html": [
       "<a href=http://robokop.renci.org/simple/view/b8cb7893-a9c5-4c1d-a171-91eeedf981be>View Answer in ROBOKOP</a>"
      ],
      "text/plain": [
       "<IPython.core.display.HTML object>"
      ]
     },
     "metadata": {},
     "output_type": "display_data"
    },
    {
     "data": {
      "text/html": [
       "<div>\n",
       "<style>\n",
       "    .dataframe thead tr:only-child th {\n",
       "        text-align: right;\n",
       "    }\n",
       "\n",
       "    .dataframe thead th {\n",
       "        text-align: left;\n",
       "    }\n",
       "\n",
       "    .dataframe tbody tr th {\n",
       "        vertical-align: top;\n",
       "    }\n",
       "</style>\n",
       "<table border=\"1\" class=\"dataframe\">\n",
       "  <thead>\n",
       "    <tr style=\"text-align: right;\">\n",
       "      <th></th>\n",
       "      <th>n2 - id</th>\n",
       "      <th>n2 - name</th>\n",
       "      <th>n3 - id</th>\n",
       "      <th>n3 - name</th>\n",
       "      <th>score</th>\n",
       "    </tr>\n",
       "  </thead>\n",
       "  <tbody>\n",
       "    <tr>\n",
       "      <th>0</th>\n",
       "      <td>HGNC:11892</td>\n",
       "      <td>TNF</td>\n",
       "      <td>CHEBI:41879</td>\n",
       "      <td>dexamethasone</td>\n",
       "      <td>0.485212</td>\n",
       "    </tr>\n",
       "    <tr>\n",
       "      <th>1</th>\n",
       "      <td>HGNC:11892</td>\n",
       "      <td>TNF</td>\n",
       "      <td>CHEBI:9753</td>\n",
       "      <td>troglitazone</td>\n",
       "      <td>0.466760</td>\n",
       "    </tr>\n",
       "    <tr>\n",
       "      <th>2</th>\n",
       "      <td>HGNC:11892</td>\n",
       "      <td>TNF</td>\n",
       "      <td>CHEBI:41879</td>\n",
       "      <td>dexamethasone</td>\n",
       "      <td>0.444886</td>\n",
       "    </tr>\n",
       "    <tr>\n",
       "      <th>3</th>\n",
       "      <td>HGNC:11892</td>\n",
       "      <td>TNF</td>\n",
       "      <td>CHEBI:9753</td>\n",
       "      <td>troglitazone</td>\n",
       "      <td>0.429836</td>\n",
       "    </tr>\n",
       "    <tr>\n",
       "      <th>4</th>\n",
       "      <td>HGNC:11892</td>\n",
       "      <td>TNF</td>\n",
       "      <td>CHEBI:50122</td>\n",
       "      <td>rosiglitazone</td>\n",
       "      <td>0.421176</td>\n",
       "    </tr>\n",
       "  </tbody>\n",
       "</table>\n",
       "</div>"
      ],
      "text/plain": [
       "     n2 - id  n2 - name      n3 - id      n3 - name      score\n",
       "0  HGNC:11892        TNF  CHEBI:41879  dexamethasone  0.485212\n",
       "1  HGNC:11892        TNF   CHEBI:9753   troglitazone  0.466760\n",
       "2  HGNC:11892        TNF  CHEBI:41879  dexamethasone  0.444886\n",
       "3  HGNC:11892        TNF   CHEBI:9753   troglitazone  0.429836\n",
       "4  HGNC:11892        TNF  CHEBI:50122  rosiglitazone  0.421176"
      ]
     },
     "metadata": {},
     "output_type": "display_data"
    },
    {
     "data": {
      "text/html": [
       "<h3>Alexander disease</h3>"
      ],
      "text/plain": [
       "<IPython.core.display.HTML object>"
      ]
     },
     "metadata": {},
     "output_type": "display_data"
    },
    {
     "data": {
      "text/html": [
       "<a href=http://robokop.renci.org/simple/view/bb0751c7-6273-4ffc-98d6-5dc232c426ed>View Answer in ROBOKOP</a>"
      ],
      "text/plain": [
       "<IPython.core.display.HTML object>"
      ]
     },
     "metadata": {},
     "output_type": "display_data"
    },
    {
     "data": {
      "text/html": [
       "<div>\n",
       "<style>\n",
       "    .dataframe thead tr:only-child th {\n",
       "        text-align: right;\n",
       "    }\n",
       "\n",
       "    .dataframe thead th {\n",
       "        text-align: left;\n",
       "    }\n",
       "\n",
       "    .dataframe tbody tr th {\n",
       "        vertical-align: top;\n",
       "    }\n",
       "</style>\n",
       "<table border=\"1\" class=\"dataframe\">\n",
       "  <thead>\n",
       "    <tr style=\"text-align: right;\">\n",
       "      <th></th>\n",
       "    </tr>\n",
       "  </thead>\n",
       "  <tbody>\n",
       "  </tbody>\n",
       "</table>\n",
       "</div>"
      ],
      "text/plain": [
       "Empty DataFrame\n",
       "Columns: []\n",
       "Index: []"
      ]
     },
     "metadata": {},
     "output_type": "display_data"
    },
    {
     "data": {
      "text/html": [
       "<h3>Raynaud disease</h3>"
      ],
      "text/plain": [
       "<IPython.core.display.HTML object>"
      ]
     },
     "metadata": {},
     "output_type": "display_data"
    },
    {
     "data": {
      "text/html": [
       "<a href=http://robokop.renci.org/simple/view/a0e918fc-7fd4-4025-a97f-5cc896aac8b0>View Answer in ROBOKOP</a>"
      ],
      "text/plain": [
       "<IPython.core.display.HTML object>"
      ]
     },
     "metadata": {},
     "output_type": "display_data"
    },
    {
     "data": {
      "text/html": [
       "<div>\n",
       "<style>\n",
       "    .dataframe thead tr:only-child th {\n",
       "        text-align: right;\n",
       "    }\n",
       "\n",
       "    .dataframe thead th {\n",
       "        text-align: left;\n",
       "    }\n",
       "\n",
       "    .dataframe tbody tr th {\n",
       "        vertical-align: top;\n",
       "    }\n",
       "</style>\n",
       "<table border=\"1\" class=\"dataframe\">\n",
       "  <thead>\n",
       "    <tr style=\"text-align: right;\">\n",
       "      <th></th>\n",
       "      <th>n2 - id</th>\n",
       "      <th>n2 - name</th>\n",
       "      <th>n3 - id</th>\n",
       "      <th>n3 - name</th>\n",
       "      <th>score</th>\n",
       "    </tr>\n",
       "  </thead>\n",
       "  <tbody>\n",
       "    <tr>\n",
       "      <th>0</th>\n",
       "      <td>HGNC:1516</td>\n",
       "      <td>CAT</td>\n",
       "      <td>CHEBI:16240</td>\n",
       "      <td>hydrogen peroxide</td>\n",
       "      <td>0.487516</td>\n",
       "    </tr>\n",
       "    <tr>\n",
       "      <th>1</th>\n",
       "      <td>HGNC:1516</td>\n",
       "      <td>CAT</td>\n",
       "      <td>CHEBI:16236</td>\n",
       "      <td>ethanol</td>\n",
       "      <td>0.481485</td>\n",
       "    </tr>\n",
       "    <tr>\n",
       "      <th>2</th>\n",
       "      <td>HGNC:11892</td>\n",
       "      <td>TNF</td>\n",
       "      <td>CHEBI:41879</td>\n",
       "      <td>dexamethasone</td>\n",
       "      <td>0.476459</td>\n",
       "    </tr>\n",
       "    <tr>\n",
       "      <th>3</th>\n",
       "      <td>HGNC:1516</td>\n",
       "      <td>CAT</td>\n",
       "      <td>CHEBI:64317</td>\n",
       "      <td>isoprenaline</td>\n",
       "      <td>0.474792</td>\n",
       "    </tr>\n",
       "    <tr>\n",
       "      <th>4</th>\n",
       "      <td>HGNC:8583</td>\n",
       "      <td>SERPINE1</td>\n",
       "      <td>CHEBI:9150</td>\n",
       "      <td>simvastatin</td>\n",
       "      <td>0.468221</td>\n",
       "    </tr>\n",
       "  </tbody>\n",
       "</table>\n",
       "</div>"
      ],
      "text/plain": [
       "     n2 - id  n2 - name      n3 - id          n3 - name      score\n",
       "0   HGNC:1516        CAT  CHEBI:16240  hydrogen peroxide  0.487516\n",
       "1   HGNC:1516        CAT  CHEBI:16236            ethanol  0.481485\n",
       "2  HGNC:11892        TNF  CHEBI:41879      dexamethasone  0.476459\n",
       "3   HGNC:1516        CAT  CHEBI:64317       isoprenaline  0.474792\n",
       "4   HGNC:8583   SERPINE1   CHEBI:9150        simvastatin  0.468221"
      ]
     },
     "metadata": {},
     "output_type": "display_data"
    },
    {
     "data": {
      "text/html": [
       "<h3>Alzheimer disease</h3>"
      ],
      "text/plain": [
       "<IPython.core.display.HTML object>"
      ]
     },
     "metadata": {},
     "output_type": "display_data"
    },
    {
     "data": {
      "text/html": [
       "<a href=http://robokop.renci.org/simple/view/0242e2ae-d5c5-4a09-b83c-020c4da5e9bb>View Answer in ROBOKOP</a>"
      ],
      "text/plain": [
       "<IPython.core.display.HTML object>"
      ]
     },
     "metadata": {},
     "output_type": "display_data"
    },
    {
     "data": {
      "text/html": [
       "<div>\n",
       "<style>\n",
       "    .dataframe thead tr:only-child th {\n",
       "        text-align: right;\n",
       "    }\n",
       "\n",
       "    .dataframe thead th {\n",
       "        text-align: left;\n",
       "    }\n",
       "\n",
       "    .dataframe tbody tr th {\n",
       "        vertical-align: top;\n",
       "    }\n",
       "</style>\n",
       "<table border=\"1\" class=\"dataframe\">\n",
       "  <thead>\n",
       "    <tr style=\"text-align: right;\">\n",
       "      <th></th>\n",
       "      <th>n2 - id</th>\n",
       "      <th>n2 - name</th>\n",
       "      <th>n3 - id</th>\n",
       "      <th>n3 - name</th>\n",
       "      <th>score</th>\n",
       "    </tr>\n",
       "  </thead>\n",
       "  <tbody>\n",
       "    <tr>\n",
       "      <th>0</th>\n",
       "      <td>HGNC:620</td>\n",
       "      <td>APP</td>\n",
       "      <td>CHEBI:16240</td>\n",
       "      <td>hydrogen peroxide</td>\n",
       "      <td>0.570986</td>\n",
       "    </tr>\n",
       "    <tr>\n",
       "      <th>1</th>\n",
       "      <td>HGNC:4553</td>\n",
       "      <td>GPX1</td>\n",
       "      <td>CHEBI:16240</td>\n",
       "      <td>hydrogen peroxide</td>\n",
       "      <td>0.551517</td>\n",
       "    </tr>\n",
       "    <tr>\n",
       "      <th>2</th>\n",
       "      <td>HGNC:613</td>\n",
       "      <td>APOE</td>\n",
       "      <td>CHEBI:9150</td>\n",
       "      <td>simvastatin</td>\n",
       "      <td>0.532776</td>\n",
       "    </tr>\n",
       "    <tr>\n",
       "      <th>3</th>\n",
       "      <td>HGNC:613</td>\n",
       "      <td>APOE</td>\n",
       "      <td>CHEBI:9150</td>\n",
       "      <td>simvastatin</td>\n",
       "      <td>0.531039</td>\n",
       "    </tr>\n",
       "    <tr>\n",
       "      <th>4</th>\n",
       "      <td>HGNC:7978</td>\n",
       "      <td>NR3C1</td>\n",
       "      <td>CHEBI:41879</td>\n",
       "      <td>dexamethasone</td>\n",
       "      <td>0.527662</td>\n",
       "    </tr>\n",
       "  </tbody>\n",
       "</table>\n",
       "</div>"
      ],
      "text/plain": [
       "    n2 - id  n2 - name      n3 - id          n3 - name      score\n",
       "0   HGNC:620        APP  CHEBI:16240  hydrogen peroxide  0.570986\n",
       "1  HGNC:4553       GPX1  CHEBI:16240  hydrogen peroxide  0.551517\n",
       "2   HGNC:613       APOE   CHEBI:9150        simvastatin  0.532776\n",
       "3   HGNC:613       APOE   CHEBI:9150        simvastatin  0.531039\n",
       "4  HGNC:7978      NR3C1  CHEBI:41879      dexamethasone  0.527662"
      ]
     },
     "metadata": {},
     "output_type": "display_data"
    },
    {
     "data": {
      "text/html": [
       "<h3>Leigh disease</h3>"
      ],
      "text/plain": [
       "<IPython.core.display.HTML object>"
      ]
     },
     "metadata": {},
     "output_type": "display_data"
    },
    {
     "data": {
      "text/html": [
       "<a href=http://robokop.renci.org/simple/view/31ba734b-f6dd-4384-8f4a-f88ca8ca617d>View Answer in ROBOKOP</a>"
      ],
      "text/plain": [
       "<IPython.core.display.HTML object>"
      ]
     },
     "metadata": {},
     "output_type": "display_data"
    },
    {
     "data": {
      "text/html": [
       "<div>\n",
       "<style>\n",
       "    .dataframe thead tr:only-child th {\n",
       "        text-align: right;\n",
       "    }\n",
       "\n",
       "    .dataframe thead th {\n",
       "        text-align: left;\n",
       "    }\n",
       "\n",
       "    .dataframe tbody tr th {\n",
       "        vertical-align: top;\n",
       "    }\n",
       "</style>\n",
       "<table border=\"1\" class=\"dataframe\">\n",
       "  <thead>\n",
       "    <tr style=\"text-align: right;\">\n",
       "      <th></th>\n",
       "    </tr>\n",
       "  </thead>\n",
       "  <tbody>\n",
       "  </tbody>\n",
       "</table>\n",
       "</div>"
      ],
      "text/plain": [
       "Empty DataFrame\n",
       "Columns: []\n",
       "Index: []"
      ]
     },
     "metadata": {},
     "output_type": "display_data"
    },
    {
     "data": {
      "text/html": [
       "<h3>apert syndrome</h3>"
      ],
      "text/plain": [
       "<IPython.core.display.HTML object>"
      ]
     },
     "metadata": {},
     "output_type": "display_data"
    },
    {
     "data": {
      "text/html": [
       "<a href=http://robokop.renci.org/simple/view/73418ddc-d779-4f79-8555-f8237e953e31>View Answer in ROBOKOP</a>"
      ],
      "text/plain": [
       "<IPython.core.display.HTML object>"
      ]
     },
     "metadata": {},
     "output_type": "display_data"
    },
    {
     "data": {
      "text/html": [
       "<div>\n",
       "<style>\n",
       "    .dataframe thead tr:only-child th {\n",
       "        text-align: right;\n",
       "    }\n",
       "\n",
       "    .dataframe thead th {\n",
       "        text-align: left;\n",
       "    }\n",
       "\n",
       "    .dataframe tbody tr th {\n",
       "        vertical-align: top;\n",
       "    }\n",
       "</style>\n",
       "<table border=\"1\" class=\"dataframe\">\n",
       "  <thead>\n",
       "    <tr style=\"text-align: right;\">\n",
       "      <th></th>\n",
       "    </tr>\n",
       "  </thead>\n",
       "  <tbody>\n",
       "  </tbody>\n",
       "</table>\n",
       "</div>"
      ],
      "text/plain": [
       "Empty DataFrame\n",
       "Columns: []\n",
       "Index: []"
      ]
     },
     "metadata": {},
     "output_type": "display_data"
    },
    {
     "data": {
      "text/html": [
       "<h3>ehlers-danlos syndrome</h3>"
      ],
      "text/plain": [
       "<IPython.core.display.HTML object>"
      ]
     },
     "metadata": {},
     "output_type": "display_data"
    },
    {
     "data": {
      "text/html": [
       "<a href=http://robokop.renci.org/simple/view/53844231-5eb1-4a80-884b-b725f01514a5>View Answer in ROBOKOP</a>"
      ],
      "text/plain": [
       "<IPython.core.display.HTML object>"
      ]
     },
     "metadata": {},
     "output_type": "display_data"
    },
    {
     "data": {
      "text/html": [
       "<div>\n",
       "<style>\n",
       "    .dataframe thead tr:only-child th {\n",
       "        text-align: right;\n",
       "    }\n",
       "\n",
       "    .dataframe thead th {\n",
       "        text-align: left;\n",
       "    }\n",
       "\n",
       "    .dataframe tbody tr th {\n",
       "        vertical-align: top;\n",
       "    }\n",
       "</style>\n",
       "<table border=\"1\" class=\"dataframe\">\n",
       "  <thead>\n",
       "    <tr style=\"text-align: right;\">\n",
       "      <th></th>\n",
       "    </tr>\n",
       "  </thead>\n",
       "  <tbody>\n",
       "  </tbody>\n",
       "</table>\n",
       "</div>"
      ],
      "text/plain": [
       "Empty DataFrame\n",
       "Columns: []\n",
       "Index: []"
      ]
     },
     "metadata": {},
     "output_type": "display_data"
    },
    {
     "data": {
      "text/html": [
       "<h3>diabetic ketoacidosis</h3>"
      ],
      "text/plain": [
       "<IPython.core.display.HTML object>"
      ]
     },
     "metadata": {},
     "output_type": "display_data"
    },
    {
     "data": {
      "text/html": [
       "<a href=http://robokop.renci.org/simple/view/f97931fb-4e8c-4619-95aa-08b44d2d86bf>View Answer in ROBOKOP</a>"
      ],
      "text/plain": [
       "<IPython.core.display.HTML object>"
      ]
     },
     "metadata": {},
     "output_type": "display_data"
    },
    {
     "data": {
      "text/html": [
       "<div>\n",
       "<style>\n",
       "    .dataframe thead tr:only-child th {\n",
       "        text-align: right;\n",
       "    }\n",
       "\n",
       "    .dataframe thead th {\n",
       "        text-align: left;\n",
       "    }\n",
       "\n",
       "    .dataframe tbody tr th {\n",
       "        vertical-align: top;\n",
       "    }\n",
       "</style>\n",
       "<table border=\"1\" class=\"dataframe\">\n",
       "  <thead>\n",
       "    <tr style=\"text-align: right;\">\n",
       "      <th></th>\n",
       "      <th>n2 - id</th>\n",
       "      <th>n2 - name</th>\n",
       "      <th>n3 - id</th>\n",
       "      <th>n3 - name</th>\n",
       "      <th>score</th>\n",
       "    </tr>\n",
       "  </thead>\n",
       "  <tbody>\n",
       "    <tr>\n",
       "      <th>0</th>\n",
       "      <td>HGNC:11892</td>\n",
       "      <td>TNF</td>\n",
       "      <td>CHEBI:41879</td>\n",
       "      <td>dexamethasone</td>\n",
       "      <td>0.398590</td>\n",
       "    </tr>\n",
       "    <tr>\n",
       "      <th>1</th>\n",
       "      <td>HGNC:11892</td>\n",
       "      <td>TNF</td>\n",
       "      <td>CHEBI:9150</td>\n",
       "      <td>simvastatin</td>\n",
       "      <td>0.398450</td>\n",
       "    </tr>\n",
       "    <tr>\n",
       "      <th>2</th>\n",
       "      <td>HGNC:3023</td>\n",
       "      <td>DRD2</td>\n",
       "      <td>CHEBI:7735</td>\n",
       "      <td>olanzapine</td>\n",
       "      <td>0.394159</td>\n",
       "    </tr>\n",
       "    <tr>\n",
       "      <th>3</th>\n",
       "      <td>HGNC:5293</td>\n",
       "      <td>HTR2A</td>\n",
       "      <td>CHEBI:7735</td>\n",
       "      <td>olanzapine</td>\n",
       "      <td>0.393895</td>\n",
       "    </tr>\n",
       "    <tr>\n",
       "      <th>4</th>\n",
       "      <td>HGNC:11892</td>\n",
       "      <td>TNF</td>\n",
       "      <td>CHEBI:9150</td>\n",
       "      <td>simvastatin</td>\n",
       "      <td>0.389990</td>\n",
       "    </tr>\n",
       "  </tbody>\n",
       "</table>\n",
       "</div>"
      ],
      "text/plain": [
       "     n2 - id  n2 - name      n3 - id      n3 - name      score\n",
       "0  HGNC:11892        TNF  CHEBI:41879  dexamethasone  0.398590\n",
       "1  HGNC:11892        TNF   CHEBI:9150    simvastatin  0.398450\n",
       "2   HGNC:3023       DRD2   CHEBI:7735     olanzapine  0.394159\n",
       "3   HGNC:5293      HTR2A   CHEBI:7735     olanzapine  0.393895\n",
       "4  HGNC:11892        TNF   CHEBI:9150    simvastatin  0.389990"
      ]
     },
     "metadata": {},
     "output_type": "display_data"
    },
    {
     "data": {
      "text/html": [
       "<h3>diffuse idiopathic skeletal hyperostosis</h3>"
      ],
      "text/plain": [
       "<IPython.core.display.HTML object>"
      ]
     },
     "metadata": {},
     "output_type": "display_data"
    },
    {
     "data": {
      "text/html": [
       "<a href=http://robokop.renci.org/simple/view/d3058fd2-1e20-4ad6-a2a5-d49e3176d850>View Answer in ROBOKOP</a>"
      ],
      "text/plain": [
       "<IPython.core.display.HTML object>"
      ]
     },
     "metadata": {},
     "output_type": "display_data"
    },
    {
     "data": {
      "text/html": [
       "<div>\n",
       "<style>\n",
       "    .dataframe thead tr:only-child th {\n",
       "        text-align: right;\n",
       "    }\n",
       "\n",
       "    .dataframe thead th {\n",
       "        text-align: left;\n",
       "    }\n",
       "\n",
       "    .dataframe tbody tr th {\n",
       "        vertical-align: top;\n",
       "    }\n",
       "</style>\n",
       "<table border=\"1\" class=\"dataframe\">\n",
       "  <thead>\n",
       "    <tr style=\"text-align: right;\">\n",
       "      <th></th>\n",
       "    </tr>\n",
       "  </thead>\n",
       "  <tbody>\n",
       "  </tbody>\n",
       "</table>\n",
       "</div>"
      ],
      "text/plain": [
       "Empty DataFrame\n",
       "Columns: []\n",
       "Index: []"
      ]
     },
     "metadata": {},
     "output_type": "display_data"
    },
    {
     "data": {
      "text/html": [
       "<h3>newborn respiratory distress syndrome</h3>"
      ],
      "text/plain": [
       "<IPython.core.display.HTML object>"
      ]
     },
     "metadata": {},
     "output_type": "display_data"
    },
    {
     "data": {
      "text/html": [
       "<a href=http://robokop.renci.org/simple/view/00c16676-2e26-4623-a616-a7aabdff06fa>View Answer in ROBOKOP</a>"
      ],
      "text/plain": [
       "<IPython.core.display.HTML object>"
      ]
     },
     "metadata": {},
     "output_type": "display_data"
    },
    {
     "data": {
      "text/html": [
       "<div>\n",
       "<style>\n",
       "    .dataframe thead tr:only-child th {\n",
       "        text-align: right;\n",
       "    }\n",
       "\n",
       "    .dataframe thead th {\n",
       "        text-align: left;\n",
       "    }\n",
       "\n",
       "    .dataframe tbody tr th {\n",
       "        vertical-align: top;\n",
       "    }\n",
       "</style>\n",
       "<table border=\"1\" class=\"dataframe\">\n",
       "  <thead>\n",
       "    <tr style=\"text-align: right;\">\n",
       "      <th></th>\n",
       "      <th>n2 - id</th>\n",
       "      <th>n2 - name</th>\n",
       "      <th>n3 - id</th>\n",
       "      <th>n3 - name</th>\n",
       "      <th>score</th>\n",
       "    </tr>\n",
       "  </thead>\n",
       "  <tbody>\n",
       "    <tr>\n",
       "      <th>0</th>\n",
       "      <td>HGNC:11782</td>\n",
       "      <td>TH</td>\n",
       "      <td>CHEBI:6809</td>\n",
       "      <td>methamphetamine</td>\n",
       "      <td>0.441137</td>\n",
       "    </tr>\n",
       "    <tr>\n",
       "      <th>1</th>\n",
       "      <td>HGNC:11892</td>\n",
       "      <td>TNF</td>\n",
       "      <td>CHEBI:41879</td>\n",
       "      <td>dexamethasone</td>\n",
       "      <td>0.423395</td>\n",
       "    </tr>\n",
       "    <tr>\n",
       "      <th>2</th>\n",
       "      <td>HGNC:40</td>\n",
       "      <td>ABCB1</td>\n",
       "      <td>CHEBI:4031</td>\n",
       "      <td>cyclosporin A</td>\n",
       "      <td>0.422959</td>\n",
       "    </tr>\n",
       "    <tr>\n",
       "      <th>3</th>\n",
       "      <td>HGNC:11892</td>\n",
       "      <td>TNF</td>\n",
       "      <td>CHEBI:41879</td>\n",
       "      <td>dexamethasone</td>\n",
       "      <td>0.420479</td>\n",
       "    </tr>\n",
       "    <tr>\n",
       "      <th>4</th>\n",
       "      <td>HGNC:270</td>\n",
       "      <td>PARP1</td>\n",
       "      <td>CHEBI:4911</td>\n",
       "      <td>etoposide</td>\n",
       "      <td>0.417458</td>\n",
       "    </tr>\n",
       "  </tbody>\n",
       "</table>\n",
       "</div>"
      ],
      "text/plain": [
       "     n2 - id  n2 - name      n3 - id        n3 - name      score\n",
       "0  HGNC:11782         TH   CHEBI:6809  methamphetamine  0.441137\n",
       "1  HGNC:11892        TNF  CHEBI:41879    dexamethasone  0.423395\n",
       "2     HGNC:40      ABCB1   CHEBI:4031    cyclosporin A  0.422959\n",
       "3  HGNC:11892        TNF  CHEBI:41879    dexamethasone  0.420479\n",
       "4    HGNC:270      PARP1   CHEBI:4911        etoposide  0.417458"
      ]
     },
     "metadata": {},
     "output_type": "display_data"
    },
    {
     "data": {
      "text/html": [
       "<h3>mitochondrial DNA depletion syndrome 4a</h3>"
      ],
      "text/plain": [
       "<IPython.core.display.HTML object>"
      ]
     },
     "metadata": {},
     "output_type": "display_data"
    },
    {
     "data": {
      "text/html": [
       "<a href=http://robokop.renci.org/simple/view/1a92c06d-48db-4c95-b6a9-364e4e0d7cd8>View Answer in ROBOKOP</a>"
      ],
      "text/plain": [
       "<IPython.core.display.HTML object>"
      ]
     },
     "metadata": {},
     "output_type": "display_data"
    },
    {
     "data": {
      "text/html": [
       "<div>\n",
       "<style>\n",
       "    .dataframe thead tr:only-child th {\n",
       "        text-align: right;\n",
       "    }\n",
       "\n",
       "    .dataframe thead th {\n",
       "        text-align: left;\n",
       "    }\n",
       "\n",
       "    .dataframe tbody tr th {\n",
       "        vertical-align: top;\n",
       "    }\n",
       "</style>\n",
       "<table border=\"1\" class=\"dataframe\">\n",
       "  <thead>\n",
       "    <tr style=\"text-align: right;\">\n",
       "      <th></th>\n",
       "    </tr>\n",
       "  </thead>\n",
       "  <tbody>\n",
       "  </tbody>\n",
       "</table>\n",
       "</div>"
      ],
      "text/plain": [
       "Empty DataFrame\n",
       "Columns: []\n",
       "Index: []"
      ]
     },
     "metadata": {},
     "output_type": "display_data"
    },
    {
     "data": {
      "text/html": [
       "<h3>hypogonadotropic hypogonadism associated with</h3>"
      ],
      "text/plain": [
       "<IPython.core.display.HTML object>"
      ]
     },
     "metadata": {},
     "output_type": "display_data"
    },
    {
     "data": {
      "text/html": [
       "<a href=http://robokop.renci.org/simple/view/a3253177-2565-4088-a319-0cce2df4728f>View Answer in ROBOKOP</a>"
      ],
      "text/plain": [
       "<IPython.core.display.HTML object>"
      ]
     },
     "metadata": {},
     "output_type": "display_data"
    },
    {
     "data": {
      "text/html": [
       "<div>\n",
       "<style>\n",
       "    .dataframe thead tr:only-child th {\n",
       "        text-align: right;\n",
       "    }\n",
       "\n",
       "    .dataframe thead th {\n",
       "        text-align: left;\n",
       "    }\n",
       "\n",
       "    .dataframe tbody tr th {\n",
       "        vertical-align: top;\n",
       "    }\n",
       "</style>\n",
       "<table border=\"1\" class=\"dataframe\">\n",
       "  <thead>\n",
       "    <tr style=\"text-align: right;\">\n",
       "      <th></th>\n",
       "    </tr>\n",
       "  </thead>\n",
       "  <tbody>\n",
       "  </tbody>\n",
       "</table>\n",
       "</div>"
      ],
      "text/plain": [
       "Empty DataFrame\n",
       "Columns: []\n",
       "Index: []"
      ]
     },
     "metadata": {},
     "output_type": "display_data"
    },
    {
     "data": {
      "text/html": [
       "<h3>metabolic disease with dementia</h3>"
      ],
      "text/plain": [
       "<IPython.core.display.HTML object>"
      ]
     },
     "metadata": {},
     "output_type": "display_data"
    },
    {
     "data": {
      "text/html": [
       "<a href=http://robokop.renci.org/simple/view/9ad50ed0-ccc2-4d15-ab7d-f89704aae323>View Answer in ROBOKOP</a>"
      ],
      "text/plain": [
       "<IPython.core.display.HTML object>"
      ]
     },
     "metadata": {},
     "output_type": "display_data"
    },
    {
     "data": {
      "text/html": [
       "<div>\n",
       "<style>\n",
       "    .dataframe thead tr:only-child th {\n",
       "        text-align: right;\n",
       "    }\n",
       "\n",
       "    .dataframe thead th {\n",
       "        text-align: left;\n",
       "    }\n",
       "\n",
       "    .dataframe tbody tr th {\n",
       "        vertical-align: top;\n",
       "    }\n",
       "</style>\n",
       "<table border=\"1\" class=\"dataframe\">\n",
       "  <thead>\n",
       "    <tr style=\"text-align: right;\">\n",
       "      <th></th>\n",
       "    </tr>\n",
       "  </thead>\n",
       "  <tbody>\n",
       "  </tbody>\n",
       "</table>\n",
       "</div>"
      ],
      "text/plain": [
       "Empty DataFrame\n",
       "Columns: []\n",
       "Index: []"
      ]
     },
     "metadata": {},
     "output_type": "display_data"
    },
    {
     "data": {
      "text/html": [
       "<h3>primary immunodeficiency due to a genetic</h3>"
      ],
      "text/plain": [
       "<IPython.core.display.HTML object>"
      ]
     },
     "metadata": {},
     "output_type": "display_data"
    },
    {
     "data": {
      "text/html": [
       "<a href=http://robokop.renci.org/simple/view/452a6179-c0ba-43b3-90d6-ccee5a37e4fb>View Answer in ROBOKOP</a>"
      ],
      "text/plain": [
       "<IPython.core.display.HTML object>"
      ]
     },
     "metadata": {},
     "output_type": "display_data"
    },
    {
     "data": {
      "text/html": [
       "<div>\n",
       "<style>\n",
       "    .dataframe thead tr:only-child th {\n",
       "        text-align: right;\n",
       "    }\n",
       "\n",
       "    .dataframe thead th {\n",
       "        text-align: left;\n",
       "    }\n",
       "\n",
       "    .dataframe tbody tr th {\n",
       "        vertical-align: top;\n",
       "    }\n",
       "</style>\n",
       "<table border=\"1\" class=\"dataframe\">\n",
       "  <thead>\n",
       "    <tr style=\"text-align: right;\">\n",
       "      <th></th>\n",
       "    </tr>\n",
       "  </thead>\n",
       "  <tbody>\n",
       "  </tbody>\n",
       "</table>\n",
       "</div>"
      ],
      "text/plain": [
       "Empty DataFrame\n",
       "Columns: []\n",
       "Index: []"
      ]
     },
     "metadata": {},
     "output_type": "display_data"
    },
    {
     "data": {
      "text/html": [
       "<h3>sickle cell anemia</h3>"
      ],
      "text/plain": [
       "<IPython.core.display.HTML object>"
      ]
     },
     "metadata": {},
     "output_type": "display_data"
    },
    {
     "data": {
      "text/html": [
       "<a href=http://robokop.renci.org/simple/view/24d9e98a-ba42-4559-ae55-0d32dd2909c2>View Answer in ROBOKOP</a>"
      ],
      "text/plain": [
       "<IPython.core.display.HTML object>"
      ]
     },
     "metadata": {},
     "output_type": "display_data"
    },
    {
     "data": {
      "text/html": [
       "<div>\n",
       "<style>\n",
       "    .dataframe thead tr:only-child th {\n",
       "        text-align: right;\n",
       "    }\n",
       "\n",
       "    .dataframe thead th {\n",
       "        text-align: left;\n",
       "    }\n",
       "\n",
       "    .dataframe tbody tr th {\n",
       "        vertical-align: top;\n",
       "    }\n",
       "</style>\n",
       "<table border=\"1\" class=\"dataframe\">\n",
       "  <thead>\n",
       "    <tr style=\"text-align: right;\">\n",
       "      <th></th>\n",
       "      <th>n2 - id</th>\n",
       "      <th>n2 - name</th>\n",
       "      <th>n3 - id</th>\n",
       "      <th>n3 - name</th>\n",
       "      <th>score</th>\n",
       "    </tr>\n",
       "  </thead>\n",
       "  <tbody>\n",
       "    <tr>\n",
       "      <th>0</th>\n",
       "      <td>HGNC:40</td>\n",
       "      <td>ABCB1</td>\n",
       "      <td>CHEBI:4031</td>\n",
       "      <td>cyclosporin A</td>\n",
       "      <td>0.465773</td>\n",
       "    </tr>\n",
       "    <tr>\n",
       "      <th>1</th>\n",
       "      <td>HGNC:40</td>\n",
       "      <td>ABCB1</td>\n",
       "      <td>CHEBI:3962</td>\n",
       "      <td>curcumin</td>\n",
       "      <td>0.440738</td>\n",
       "    </tr>\n",
       "    <tr>\n",
       "      <th>2</th>\n",
       "      <td>HGNC:11892</td>\n",
       "      <td>TNF</td>\n",
       "      <td>CHEBI:41879</td>\n",
       "      <td>dexamethasone</td>\n",
       "      <td>0.431604</td>\n",
       "    </tr>\n",
       "    <tr>\n",
       "      <th>3</th>\n",
       "      <td>HGNC:11892</td>\n",
       "      <td>TNF</td>\n",
       "      <td>CHEBI:9150</td>\n",
       "      <td>simvastatin</td>\n",
       "      <td>0.431192</td>\n",
       "    </tr>\n",
       "    <tr>\n",
       "      <th>4</th>\n",
       "      <td>HGNC:11892</td>\n",
       "      <td>TNF</td>\n",
       "      <td>CHEBI:16243</td>\n",
       "      <td>quercetin</td>\n",
       "      <td>0.423963</td>\n",
       "    </tr>\n",
       "  </tbody>\n",
       "</table>\n",
       "</div>"
      ],
      "text/plain": [
       "     n2 - id  n2 - name      n3 - id      n3 - name      score\n",
       "0     HGNC:40      ABCB1   CHEBI:4031  cyclosporin A  0.465773\n",
       "1     HGNC:40      ABCB1   CHEBI:3962       curcumin  0.440738\n",
       "2  HGNC:11892        TNF  CHEBI:41879  dexamethasone  0.431604\n",
       "3  HGNC:11892        TNF   CHEBI:9150    simvastatin  0.431192\n",
       "4  HGNC:11892        TNF  CHEBI:16243      quercetin  0.423963"
      ]
     },
     "metadata": {},
     "output_type": "display_data"
    },
    {
     "data": {
      "text/html": [
       "<h3>progressive supranuclear palsy</h3>"
      ],
      "text/plain": [
       "<IPython.core.display.HTML object>"
      ]
     },
     "metadata": {},
     "output_type": "display_data"
    },
    {
     "data": {
      "text/html": [
       "<a href=http://robokop.renci.org/simple/view/b3ebee71-8a99-409f-b429-e8a01d60eb68>View Answer in ROBOKOP</a>"
      ],
      "text/plain": [
       "<IPython.core.display.HTML object>"
      ]
     },
     "metadata": {},
     "output_type": "display_data"
    },
    {
     "data": {
      "text/html": [
       "<div>\n",
       "<style>\n",
       "    .dataframe thead tr:only-child th {\n",
       "        text-align: right;\n",
       "    }\n",
       "\n",
       "    .dataframe thead th {\n",
       "        text-align: left;\n",
       "    }\n",
       "\n",
       "    .dataframe tbody tr th {\n",
       "        vertical-align: top;\n",
       "    }\n",
       "</style>\n",
       "<table border=\"1\" class=\"dataframe\">\n",
       "  <thead>\n",
       "    <tr style=\"text-align: right;\">\n",
       "      <th></th>\n",
       "      <th>n2 - id</th>\n",
       "      <th>n2 - name</th>\n",
       "      <th>n3 - id</th>\n",
       "      <th>n3 - name</th>\n",
       "      <th>score</th>\n",
       "    </tr>\n",
       "  </thead>\n",
       "  <tbody>\n",
       "    <tr>\n",
       "      <th>0</th>\n",
       "      <td>HGNC:2595</td>\n",
       "      <td>CYP1A1</td>\n",
       "      <td>CHEBI:4031</td>\n",
       "      <td>cyclosporin A</td>\n",
       "      <td>0.404705</td>\n",
       "    </tr>\n",
       "    <tr>\n",
       "      <th>1</th>\n",
       "      <td>HGNC:6018</td>\n",
       "      <td>IL6</td>\n",
       "      <td>CHEBI:3962</td>\n",
       "      <td>curcumin</td>\n",
       "      <td>0.404331</td>\n",
       "    </tr>\n",
       "    <tr>\n",
       "      <th>2</th>\n",
       "      <td>HGNC:2595</td>\n",
       "      <td>CYP1A1</td>\n",
       "      <td>CHEBI:3962</td>\n",
       "      <td>curcumin</td>\n",
       "      <td>0.392115</td>\n",
       "    </tr>\n",
       "    <tr>\n",
       "      <th>3</th>\n",
       "      <td>HGNC:2595</td>\n",
       "      <td>CYP1A1</td>\n",
       "      <td>CHEBI:18243</td>\n",
       "      <td>dopamine</td>\n",
       "      <td>0.380485</td>\n",
       "    </tr>\n",
       "    <tr>\n",
       "      <th>4</th>\n",
       "      <td>HGNC:2637</td>\n",
       "      <td>CYP3A4</td>\n",
       "      <td>CHEBI:4031</td>\n",
       "      <td>cyclosporin A</td>\n",
       "      <td>0.379485</td>\n",
       "    </tr>\n",
       "  </tbody>\n",
       "</table>\n",
       "</div>"
      ],
      "text/plain": [
       "    n2 - id  n2 - name      n3 - id      n3 - name      score\n",
       "0  HGNC:2595     CYP1A1   CHEBI:4031  cyclosporin A  0.404705\n",
       "1  HGNC:6018        IL6   CHEBI:3962       curcumin  0.404331\n",
       "2  HGNC:2595     CYP1A1   CHEBI:3962       curcumin  0.392115\n",
       "3  HGNC:2595     CYP1A1  CHEBI:18243       dopamine  0.380485\n",
       "4  HGNC:2637     CYP3A4   CHEBI:4031  cyclosporin A  0.379485"
      ]
     },
     "metadata": {},
     "output_type": "display_data"
    },
    {
     "data": {
      "text/html": [
       "<h3>endogenous depression</h3>"
      ],
      "text/plain": [
       "<IPython.core.display.HTML object>"
      ]
     },
     "metadata": {},
     "output_type": "display_data"
    },
    {
     "data": {
      "text/html": [
       "<a href=http://robokop.renci.org/simple/view/647f9f05-ee26-4b3d-8fd1-cf8aaab97928>View Answer in ROBOKOP</a>"
      ],
      "text/plain": [
       "<IPython.core.display.HTML object>"
      ]
     },
     "metadata": {},
     "output_type": "display_data"
    },
    {
     "data": {
      "text/html": [
       "<div>\n",
       "<style>\n",
       "    .dataframe thead tr:only-child th {\n",
       "        text-align: right;\n",
       "    }\n",
       "\n",
       "    .dataframe thead th {\n",
       "        text-align: left;\n",
       "    }\n",
       "\n",
       "    .dataframe tbody tr th {\n",
       "        vertical-align: top;\n",
       "    }\n",
       "</style>\n",
       "<table border=\"1\" class=\"dataframe\">\n",
       "  <thead>\n",
       "    <tr style=\"text-align: right;\">\n",
       "      <th></th>\n",
       "    </tr>\n",
       "  </thead>\n",
       "  <tbody>\n",
       "  </tbody>\n",
       "</table>\n",
       "</div>"
      ],
      "text/plain": [
       "Empty DataFrame\n",
       "Columns: []\n",
       "Index: []"
      ]
     },
     "metadata": {},
     "output_type": "display_data"
    },
    {
     "data": {
      "text/html": [
       "<h3>non-acquired combined pituitary hormone defici.</h3>"
      ],
      "text/plain": [
       "<IPython.core.display.HTML object>"
      ]
     },
     "metadata": {},
     "output_type": "display_data"
    },
    {
     "data": {
      "text/html": [
       "<a href=http://robokop.renci.org/simple/view/c029e5e0-2893-4ff6-96d0-6cd92d63a2e1>View Answer in ROBOKOP</a>"
      ],
      "text/plain": [
       "<IPython.core.display.HTML object>"
      ]
     },
     "metadata": {},
     "output_type": "display_data"
    },
    {
     "data": {
      "text/html": [
       "<div>\n",
       "<style>\n",
       "    .dataframe thead tr:only-child th {\n",
       "        text-align: right;\n",
       "    }\n",
       "\n",
       "    .dataframe thead th {\n",
       "        text-align: left;\n",
       "    }\n",
       "\n",
       "    .dataframe tbody tr th {\n",
       "        vertical-align: top;\n",
       "    }\n",
       "</style>\n",
       "<table border=\"1\" class=\"dataframe\">\n",
       "  <thead>\n",
       "    <tr style=\"text-align: right;\">\n",
       "      <th></th>\n",
       "    </tr>\n",
       "  </thead>\n",
       "  <tbody>\n",
       "  </tbody>\n",
       "</table>\n",
       "</div>"
      ],
      "text/plain": [
       "Empty DataFrame\n",
       "Columns: []\n",
       "Index: []"
      ]
     },
     "metadata": {},
     "output_type": "display_data"
    },
    {
     "data": {
      "text/html": [
       "<h3>Meniere disease</h3>"
      ],
      "text/plain": [
       "<IPython.core.display.HTML object>"
      ]
     },
     "metadata": {},
     "output_type": "display_data"
    },
    {
     "data": {
      "text/html": [
       "<a href=http://robokop.renci.org/simple/view/b392a021-07ef-415b-a202-c70e0af3cfb2>View Answer in ROBOKOP</a>"
      ],
      "text/plain": [
       "<IPython.core.display.HTML object>"
      ]
     },
     "metadata": {},
     "output_type": "display_data"
    },
    {
     "data": {
      "text/html": [
       "<div>\n",
       "<style>\n",
       "    .dataframe thead tr:only-child th {\n",
       "        text-align: right;\n",
       "    }\n",
       "\n",
       "    .dataframe thead th {\n",
       "        text-align: left;\n",
       "    }\n",
       "\n",
       "    .dataframe tbody tr th {\n",
       "        vertical-align: top;\n",
       "    }\n",
       "</style>\n",
       "<table border=\"1\" class=\"dataframe\">\n",
       "  <thead>\n",
       "    <tr style=\"text-align: right;\">\n",
       "      <th></th>\n",
       "      <th>n2 - id</th>\n",
       "      <th>n2 - name</th>\n",
       "      <th>n3 - id</th>\n",
       "      <th>n3 - name</th>\n",
       "      <th>score</th>\n",
       "    </tr>\n",
       "  </thead>\n",
       "  <tbody>\n",
       "    <tr>\n",
       "      <th>0</th>\n",
       "      <td>HGNC:6584</td>\n",
       "      <td>LHB</td>\n",
       "      <td>CHEBI:17026</td>\n",
       "      <td>progesterone</td>\n",
       "      <td>0.349363</td>\n",
       "    </tr>\n",
       "    <tr>\n",
       "      <th>1</th>\n",
       "      <td>HGNC:11285</td>\n",
       "      <td>SRD5A2</td>\n",
       "      <td>CHEBI:17026</td>\n",
       "      <td>progesterone</td>\n",
       "      <td>0.339941</td>\n",
       "    </tr>\n",
       "    <tr>\n",
       "      <th>2</th>\n",
       "      <td>HGNC:11284</td>\n",
       "      <td>SRD5A1</td>\n",
       "      <td>CHEBI:17026</td>\n",
       "      <td>progesterone</td>\n",
       "      <td>0.339816</td>\n",
       "    </tr>\n",
       "    <tr>\n",
       "      <th>3</th>\n",
       "      <td>HGNC:11766</td>\n",
       "      <td>TGFB1</td>\n",
       "      <td>CHEBI:41879</td>\n",
       "      <td>dexamethasone</td>\n",
       "      <td>0.306542</td>\n",
       "    </tr>\n",
       "    <tr>\n",
       "      <th>4</th>\n",
       "      <td>HGNC:5962</td>\n",
       "      <td>IL10</td>\n",
       "      <td>CHEBI:16236</td>\n",
       "      <td>ethanol</td>\n",
       "      <td>0.298939</td>\n",
       "    </tr>\n",
       "  </tbody>\n",
       "</table>\n",
       "</div>"
      ],
      "text/plain": [
       "     n2 - id  n2 - name      n3 - id      n3 - name      score\n",
       "0   HGNC:6584        LHB  CHEBI:17026   progesterone  0.349363\n",
       "1  HGNC:11285     SRD5A2  CHEBI:17026   progesterone  0.339941\n",
       "2  HGNC:11284     SRD5A1  CHEBI:17026   progesterone  0.339816\n",
       "3  HGNC:11766      TGFB1  CHEBI:41879  dexamethasone  0.306542\n",
       "4   HGNC:5962       IL10  CHEBI:16236        ethanol  0.298939"
      ]
     },
     "metadata": {},
     "output_type": "display_data"
    },
    {
     "data": {
      "text/html": [
       "<h3>mitochondrial myopathy</h3>"
      ],
      "text/plain": [
       "<IPython.core.display.HTML object>"
      ]
     },
     "metadata": {},
     "output_type": "display_data"
    },
    {
     "data": {
      "text/html": [
       "<a href=http://robokop.renci.org/simple/view/85f1eb7f-4e58-4c4b-9ea1-3e9d02f5de26>View Answer in ROBOKOP</a>"
      ],
      "text/plain": [
       "<IPython.core.display.HTML object>"
      ]
     },
     "metadata": {},
     "output_type": "display_data"
    },
    {
     "data": {
      "text/html": [
       "<div>\n",
       "<style>\n",
       "    .dataframe thead tr:only-child th {\n",
       "        text-align: right;\n",
       "    }\n",
       "\n",
       "    .dataframe thead th {\n",
       "        text-align: left;\n",
       "    }\n",
       "\n",
       "    .dataframe tbody tr th {\n",
       "        vertical-align: top;\n",
       "    }\n",
       "</style>\n",
       "<table border=\"1\" class=\"dataframe\">\n",
       "  <thead>\n",
       "    <tr style=\"text-align: right;\">\n",
       "      <th></th>\n",
       "      <th>n2 - id</th>\n",
       "      <th>n2 - name</th>\n",
       "      <th>n3 - id</th>\n",
       "      <th>n3 - name</th>\n",
       "      <th>score</th>\n",
       "    </tr>\n",
       "  </thead>\n",
       "  <tbody>\n",
       "    <tr>\n",
       "      <th>0</th>\n",
       "      <td>HGNC:11830</td>\n",
       "      <td>TK1</td>\n",
       "      <td>CHEBI:17026</td>\n",
       "      <td>progesterone</td>\n",
       "      <td>0.445639</td>\n",
       "    </tr>\n",
       "    <tr>\n",
       "      <th>1</th>\n",
       "      <td>HGNC:11830</td>\n",
       "      <td>TK1</td>\n",
       "      <td>CHEBI:4031</td>\n",
       "      <td>cyclosporin A</td>\n",
       "      <td>0.431383</td>\n",
       "    </tr>\n",
       "    <tr>\n",
       "      <th>2</th>\n",
       "      <td>HGNC:11830</td>\n",
       "      <td>TK1</td>\n",
       "      <td>CHEBI:16236</td>\n",
       "      <td>ethanol</td>\n",
       "      <td>0.405174</td>\n",
       "    </tr>\n",
       "    <tr>\n",
       "      <th>3</th>\n",
       "      <td>HGNC:10959</td>\n",
       "      <td>SLCO1B1</td>\n",
       "      <td>CHEBI:40303</td>\n",
       "      <td>lovastatin</td>\n",
       "      <td>0.393126</td>\n",
       "    </tr>\n",
       "    <tr>\n",
       "      <th>4</th>\n",
       "      <td>HGNC:5013</td>\n",
       "      <td>HMOX1</td>\n",
       "      <td>CHEBI:16236</td>\n",
       "      <td>ethanol</td>\n",
       "      <td>0.386961</td>\n",
       "    </tr>\n",
       "  </tbody>\n",
       "</table>\n",
       "</div>"
      ],
      "text/plain": [
       "     n2 - id  n2 - name      n3 - id      n3 - name      score\n",
       "0  HGNC:11830        TK1  CHEBI:17026   progesterone  0.445639\n",
       "1  HGNC:11830        TK1   CHEBI:4031  cyclosporin A  0.431383\n",
       "2  HGNC:11830        TK1  CHEBI:16236        ethanol  0.405174\n",
       "3  HGNC:10959    SLCO1B1  CHEBI:40303     lovastatin  0.393126\n",
       "4   HGNC:5013      HMOX1  CHEBI:16236        ethanol  0.386961"
      ]
     },
     "metadata": {},
     "output_type": "display_data"
    },
    {
     "data": {
      "text/html": [
       "<h3>arteriovenous malformations of the brain</h3>"
      ],
      "text/plain": [
       "<IPython.core.display.HTML object>"
      ]
     },
     "metadata": {},
     "output_type": "display_data"
    },
    {
     "data": {
      "text/html": [
       "<a href=http://robokop.renci.org/simple/view/516b9e3c-04ab-4eb7-8d30-80ae81339ba9>View Answer in ROBOKOP</a>"
      ],
      "text/plain": [
       "<IPython.core.display.HTML object>"
      ]
     },
     "metadata": {},
     "output_type": "display_data"
    },
    {
     "data": {
      "text/html": [
       "<div>\n",
       "<style>\n",
       "    .dataframe thead tr:only-child th {\n",
       "        text-align: right;\n",
       "    }\n",
       "\n",
       "    .dataframe thead th {\n",
       "        text-align: left;\n",
       "    }\n",
       "\n",
       "    .dataframe tbody tr th {\n",
       "        vertical-align: top;\n",
       "    }\n",
       "</style>\n",
       "<table border=\"1\" class=\"dataframe\">\n",
       "  <thead>\n",
       "    <tr style=\"text-align: right;\">\n",
       "      <th></th>\n",
       "      <th>n2 - id</th>\n",
       "      <th>n2 - name</th>\n",
       "      <th>n3 - id</th>\n",
       "      <th>n3 - name</th>\n",
       "      <th>score</th>\n",
       "    </tr>\n",
       "  </thead>\n",
       "  <tbody>\n",
       "    <tr>\n",
       "      <th>0</th>\n",
       "      <td>HGNC:4632</td>\n",
       "      <td>GSTM1</td>\n",
       "      <td>CHEBI:18243</td>\n",
       "      <td>dopamine</td>\n",
       "      <td>0.311697</td>\n",
       "    </tr>\n",
       "    <tr>\n",
       "      <th>1</th>\n",
       "      <td>HGNC:4632</td>\n",
       "      <td>GSTM1</td>\n",
       "      <td>CHEBI:47381</td>\n",
       "      <td>diclofenac</td>\n",
       "      <td>0.215871</td>\n",
       "    </tr>\n",
       "    <tr>\n",
       "      <th>2</th>\n",
       "      <td>HGNC:4632</td>\n",
       "      <td>GSTM1</td>\n",
       "      <td>CHEBI:15854</td>\n",
       "      <td>quinine</td>\n",
       "      <td>0.210798</td>\n",
       "    </tr>\n",
       "    <tr>\n",
       "      <th>3</th>\n",
       "      <td>HGNC:4632</td>\n",
       "      <td>GSTM1</td>\n",
       "      <td>CHEBI:28593</td>\n",
       "      <td>quinidine</td>\n",
       "      <td>0.201532</td>\n",
       "    </tr>\n",
       "    <tr>\n",
       "      <th>4</th>\n",
       "      <td>HGNC:4632</td>\n",
       "      <td>GSTM1</td>\n",
       "      <td>CHEBI:35036</td>\n",
       "      <td>fentin chloride</td>\n",
       "      <td>0.158501</td>\n",
       "    </tr>\n",
       "  </tbody>\n",
       "</table>\n",
       "</div>"
      ],
      "text/plain": [
       "    n2 - id  n2 - name      n3 - id        n3 - name      score\n",
       "0  HGNC:4632      GSTM1  CHEBI:18243         dopamine  0.311697\n",
       "1  HGNC:4632      GSTM1  CHEBI:47381       diclofenac  0.215871\n",
       "2  HGNC:4632      GSTM1  CHEBI:15854          quinine  0.210798\n",
       "3  HGNC:4632      GSTM1  CHEBI:28593        quinidine  0.201532\n",
       "4  HGNC:4632      GSTM1  CHEBI:35036  fentin chloride  0.158501"
      ]
     },
     "metadata": {},
     "output_type": "display_data"
    },
    {
     "data": {
      "text/html": [
       "<h3>agammaglobulinemia</h3>"
      ],
      "text/plain": [
       "<IPython.core.display.HTML object>"
      ]
     },
     "metadata": {},
     "output_type": "display_data"
    },
    {
     "data": {
      "text/html": [
       "<a href=http://robokop.renci.org/simple/view/829293b6-ef54-40dc-9750-962f9ed43e8e>View Answer in ROBOKOP</a>"
      ],
      "text/plain": [
       "<IPython.core.display.HTML object>"
      ]
     },
     "metadata": {},
     "output_type": "display_data"
    },
    {
     "data": {
      "text/html": [
       "<div>\n",
       "<style>\n",
       "    .dataframe thead tr:only-child th {\n",
       "        text-align: right;\n",
       "    }\n",
       "\n",
       "    .dataframe thead th {\n",
       "        text-align: left;\n",
       "    }\n",
       "\n",
       "    .dataframe tbody tr th {\n",
       "        vertical-align: top;\n",
       "    }\n",
       "</style>\n",
       "<table border=\"1\" class=\"dataframe\">\n",
       "  <thead>\n",
       "    <tr style=\"text-align: right;\">\n",
       "      <th></th>\n",
       "      <th>n2 - id</th>\n",
       "      <th>n2 - name</th>\n",
       "      <th>n3 - id</th>\n",
       "      <th>n3 - name</th>\n",
       "      <th>score</th>\n",
       "    </tr>\n",
       "  </thead>\n",
       "  <tbody>\n",
       "    <tr>\n",
       "      <th>0</th>\n",
       "      <td>HGNC:990</td>\n",
       "      <td>BCL2</td>\n",
       "      <td>CHEBI:52717</td>\n",
       "      <td>bortezomib</td>\n",
       "      <td>0.420971</td>\n",
       "    </tr>\n",
       "    <tr>\n",
       "      <th>1</th>\n",
       "      <td>HGNC:6018</td>\n",
       "      <td>IL6</td>\n",
       "      <td>CHEBI:17650</td>\n",
       "      <td>cortisol</td>\n",
       "      <td>0.418942</td>\n",
       "    </tr>\n",
       "    <tr>\n",
       "      <th>2</th>\n",
       "      <td>HGNC:11892</td>\n",
       "      <td>TNF</td>\n",
       "      <td>CHEBI:41879</td>\n",
       "      <td>dexamethasone</td>\n",
       "      <td>0.401423</td>\n",
       "    </tr>\n",
       "    <tr>\n",
       "      <th>3</th>\n",
       "      <td>HGNC:990</td>\n",
       "      <td>BCL2</td>\n",
       "      <td>CHEBI:44185</td>\n",
       "      <td>methotrexate</td>\n",
       "      <td>0.399297</td>\n",
       "    </tr>\n",
       "    <tr>\n",
       "      <th>4</th>\n",
       "      <td>HGNC:990</td>\n",
       "      <td>BCL2</td>\n",
       "      <td>CHEBI:44185</td>\n",
       "      <td>methotrexate</td>\n",
       "      <td>0.396852</td>\n",
       "    </tr>\n",
       "  </tbody>\n",
       "</table>\n",
       "</div>"
      ],
      "text/plain": [
       "     n2 - id  n2 - name      n3 - id      n3 - name      score\n",
       "0    HGNC:990       BCL2  CHEBI:52717     bortezomib  0.420971\n",
       "1   HGNC:6018        IL6  CHEBI:17650       cortisol  0.418942\n",
       "2  HGNC:11892        TNF  CHEBI:41879  dexamethasone  0.401423\n",
       "3    HGNC:990       BCL2  CHEBI:44185   methotrexate  0.399297\n",
       "4    HGNC:990       BCL2  CHEBI:44185   methotrexate  0.396852"
      ]
     },
     "metadata": {},
     "output_type": "display_data"
    },
    {
     "data": {
      "text/html": [
       "<h3>rare genetic parkinsonian disorder</h3>"
      ],
      "text/plain": [
       "<IPython.core.display.HTML object>"
      ]
     },
     "metadata": {},
     "output_type": "display_data"
    },
    {
     "data": {
      "text/html": [
       "<a href=http://robokop.renci.org/simple/view/9d47c72f-9398-4368-97e0-f760ebd792bd>View Answer in ROBOKOP</a>"
      ],
      "text/plain": [
       "<IPython.core.display.HTML object>"
      ]
     },
     "metadata": {},
     "output_type": "display_data"
    },
    {
     "data": {
      "text/html": [
       "<div>\n",
       "<style>\n",
       "    .dataframe thead tr:only-child th {\n",
       "        text-align: right;\n",
       "    }\n",
       "\n",
       "    .dataframe thead th {\n",
       "        text-align: left;\n",
       "    }\n",
       "\n",
       "    .dataframe tbody tr th {\n",
       "        vertical-align: top;\n",
       "    }\n",
       "</style>\n",
       "<table border=\"1\" class=\"dataframe\">\n",
       "  <thead>\n",
       "    <tr style=\"text-align: right;\">\n",
       "      <th></th>\n",
       "    </tr>\n",
       "  </thead>\n",
       "  <tbody>\n",
       "  </tbody>\n",
       "</table>\n",
       "</div>"
      ],
      "text/plain": [
       "Empty DataFrame\n",
       "Columns: []\n",
       "Index: []"
      ]
     },
     "metadata": {},
     "output_type": "display_data"
    },
    {
     "data": {
      "text/html": [
       "<h3>patent ductus arteriosus</h3>"
      ],
      "text/plain": [
       "<IPython.core.display.HTML object>"
      ]
     },
     "metadata": {},
     "output_type": "display_data"
    },
    {
     "data": {
      "text/html": [
       "<a href=http://robokop.renci.org/simple/view/66deecf8-f3e2-49b8-927f-9e114e6b5195>View Answer in ROBOKOP</a>"
      ],
      "text/plain": [
       "<IPython.core.display.HTML object>"
      ]
     },
     "metadata": {},
     "output_type": "display_data"
    },
    {
     "data": {
      "text/html": [
       "<div>\n",
       "<style>\n",
       "    .dataframe thead tr:only-child th {\n",
       "        text-align: right;\n",
       "    }\n",
       "\n",
       "    .dataframe thead th {\n",
       "        text-align: left;\n",
       "    }\n",
       "\n",
       "    .dataframe tbody tr th {\n",
       "        vertical-align: top;\n",
       "    }\n",
       "</style>\n",
       "<table border=\"1\" class=\"dataframe\">\n",
       "  <thead>\n",
       "    <tr style=\"text-align: right;\">\n",
       "      <th></th>\n",
       "      <th>n2 - id</th>\n",
       "      <th>n2 - name</th>\n",
       "      <th>n3 - id</th>\n",
       "      <th>n3 - name</th>\n",
       "      <th>score</th>\n",
       "    </tr>\n",
       "  </thead>\n",
       "  <tbody>\n",
       "    <tr>\n",
       "      <th>0</th>\n",
       "      <td>HGNC:7218</td>\n",
       "      <td>MPO</td>\n",
       "      <td>CHEBI:41879</td>\n",
       "      <td>dexamethasone</td>\n",
       "      <td>0.384055</td>\n",
       "    </tr>\n",
       "    <tr>\n",
       "      <th>1</th>\n",
       "      <td>HGNC:7218</td>\n",
       "      <td>MPO</td>\n",
       "      <td>CHEBI:15367</td>\n",
       "      <td>all-trans-retinoic acid</td>\n",
       "      <td>0.364380</td>\n",
       "    </tr>\n",
       "    <tr>\n",
       "      <th>2</th>\n",
       "      <td>HGNC:51</td>\n",
       "      <td>ABCC1</td>\n",
       "      <td>CHEBI:28088</td>\n",
       "      <td>genistein</td>\n",
       "      <td>0.340471</td>\n",
       "    </tr>\n",
       "    <tr>\n",
       "      <th>3</th>\n",
       "      <td>HGNC:51</td>\n",
       "      <td>ABCC1</td>\n",
       "      <td>CHEBI:28593</td>\n",
       "      <td>quinidine</td>\n",
       "      <td>0.329529</td>\n",
       "    </tr>\n",
       "    <tr>\n",
       "      <th>4</th>\n",
       "      <td>HGNC:7218</td>\n",
       "      <td>MPO</td>\n",
       "      <td>CHEBI:5615</td>\n",
       "      <td>halothane</td>\n",
       "      <td>0.326914</td>\n",
       "    </tr>\n",
       "  </tbody>\n",
       "</table>\n",
       "</div>"
      ],
      "text/plain": [
       "    n2 - id  n2 - name      n3 - id                n3 - name      score\n",
       "0  HGNC:7218        MPO  CHEBI:41879            dexamethasone  0.384055\n",
       "1  HGNC:7218        MPO  CHEBI:15367  all-trans-retinoic acid  0.364380\n",
       "2    HGNC:51      ABCC1  CHEBI:28088                genistein  0.340471\n",
       "3    HGNC:51      ABCC1  CHEBI:28593                quinidine  0.329529\n",
       "4  HGNC:7218        MPO   CHEBI:5615                halothane  0.326914"
      ]
     },
     "metadata": {},
     "output_type": "display_data"
    },
    {
     "data": {
      "text/html": [
       "<h3>nicotine dependence</h3>"
      ],
      "text/plain": [
       "<IPython.core.display.HTML object>"
      ]
     },
     "metadata": {},
     "output_type": "display_data"
    },
    {
     "data": {
      "text/html": [
       "<a href=http://robokop.renci.org/simple/view/a05a5c27-b87c-498f-9f3f-aa2a28780553>View Answer in ROBOKOP</a>"
      ],
      "text/plain": [
       "<IPython.core.display.HTML object>"
      ]
     },
     "metadata": {},
     "output_type": "display_data"
    },
    {
     "data": {
      "text/html": [
       "<div>\n",
       "<style>\n",
       "    .dataframe thead tr:only-child th {\n",
       "        text-align: right;\n",
       "    }\n",
       "\n",
       "    .dataframe thead th {\n",
       "        text-align: left;\n",
       "    }\n",
       "\n",
       "    .dataframe tbody tr th {\n",
       "        vertical-align: top;\n",
       "    }\n",
       "</style>\n",
       "<table border=\"1\" class=\"dataframe\">\n",
       "  <thead>\n",
       "    <tr style=\"text-align: right;\">\n",
       "      <th></th>\n",
       "      <th>n2 - id</th>\n",
       "      <th>n2 - name</th>\n",
       "      <th>n3 - id</th>\n",
       "      <th>n3 - name</th>\n",
       "      <th>score</th>\n",
       "    </tr>\n",
       "  </thead>\n",
       "  <tbody>\n",
       "    <tr>\n",
       "      <th>0</th>\n",
       "      <td>HGNC:5013</td>\n",
       "      <td>HMOX1</td>\n",
       "      <td>CHEBI:16236</td>\n",
       "      <td>ethanol</td>\n",
       "      <td>0.421324</td>\n",
       "    </tr>\n",
       "    <tr>\n",
       "      <th>1</th>\n",
       "      <td>HGNC:2689</td>\n",
       "      <td>DBH</td>\n",
       "      <td>CHEBI:4659</td>\n",
       "      <td>disulfiram</td>\n",
       "      <td>0.399138</td>\n",
       "    </tr>\n",
       "    <tr>\n",
       "      <th>2</th>\n",
       "      <td>HGNC:2610</td>\n",
       "      <td>CYP2A6</td>\n",
       "      <td>CHEBI:18358</td>\n",
       "      <td>methoxsalen</td>\n",
       "      <td>0.391454</td>\n",
       "    </tr>\n",
       "    <tr>\n",
       "      <th>3</th>\n",
       "      <td>HGNC:1960</td>\n",
       "      <td>CHRNA7</td>\n",
       "      <td>CHEBI:17688</td>\n",
       "      <td>(S)-nicotine</td>\n",
       "      <td>0.384792</td>\n",
       "    </tr>\n",
       "    <tr>\n",
       "      <th>4</th>\n",
       "      <td>HGNC:348</td>\n",
       "      <td>AHR</td>\n",
       "      <td>CHEBI:29865</td>\n",
       "      <td>benzo[a]pyrene</td>\n",
       "      <td>0.372727</td>\n",
       "    </tr>\n",
       "  </tbody>\n",
       "</table>\n",
       "</div>"
      ],
      "text/plain": [
       "    n2 - id  n2 - name      n3 - id       n3 - name      score\n",
       "0  HGNC:5013      HMOX1  CHEBI:16236         ethanol  0.421324\n",
       "1  HGNC:2689        DBH   CHEBI:4659      disulfiram  0.399138\n",
       "2  HGNC:2610     CYP2A6  CHEBI:18358     methoxsalen  0.391454\n",
       "3  HGNC:1960     CHRNA7  CHEBI:17688    (S)-nicotine  0.384792\n",
       "4   HGNC:348        AHR  CHEBI:29865  benzo[a]pyrene  0.372727"
      ]
     },
     "metadata": {},
     "output_type": "display_data"
    },
    {
     "data": {
      "text/html": [
       "<h3>cone dystrophy</h3>"
      ],
      "text/plain": [
       "<IPython.core.display.HTML object>"
      ]
     },
     "metadata": {},
     "output_type": "display_data"
    },
    {
     "data": {
      "text/html": [
       "<a href=http://robokop.renci.org/simple/view/61742892-e45d-4a0f-9db9-5608a4916c11>View Answer in ROBOKOP</a>"
      ],
      "text/plain": [
       "<IPython.core.display.HTML object>"
      ]
     },
     "metadata": {},
     "output_type": "display_data"
    },
    {
     "data": {
      "text/html": [
       "<div>\n",
       "<style>\n",
       "    .dataframe thead tr:only-child th {\n",
       "        text-align: right;\n",
       "    }\n",
       "\n",
       "    .dataframe thead th {\n",
       "        text-align: left;\n",
       "    }\n",
       "\n",
       "    .dataframe tbody tr th {\n",
       "        vertical-align: top;\n",
       "    }\n",
       "</style>\n",
       "<table border=\"1\" class=\"dataframe\">\n",
       "  <thead>\n",
       "    <tr style=\"text-align: right;\">\n",
       "      <th></th>\n",
       "      <th>n2 - id</th>\n",
       "      <th>n2 - name</th>\n",
       "      <th>n3 - id</th>\n",
       "      <th>n3 - name</th>\n",
       "      <th>score</th>\n",
       "    </tr>\n",
       "  </thead>\n",
       "  <tbody>\n",
       "    <tr>\n",
       "      <th>0</th>\n",
       "      <td>HGNC:2625</td>\n",
       "      <td>CYP2D6</td>\n",
       "      <td>CHEBI:18243</td>\n",
       "      <td>dopamine</td>\n",
       "      <td>0.300016</td>\n",
       "    </tr>\n",
       "    <tr>\n",
       "      <th>1</th>\n",
       "      <td>HGNC:2637</td>\n",
       "      <td>CYP3A4</td>\n",
       "      <td>CHEBI:18243</td>\n",
       "      <td>dopamine</td>\n",
       "      <td>0.298142</td>\n",
       "    </tr>\n",
       "    <tr>\n",
       "      <th>2</th>\n",
       "      <td>HGNC:3467</td>\n",
       "      <td>ESR1</td>\n",
       "      <td>CHEBI:31638</td>\n",
       "      <td>fulvestrant</td>\n",
       "      <td>0.266717</td>\n",
       "    </tr>\n",
       "    <tr>\n",
       "      <th>3</th>\n",
       "      <td>HGNC:3467</td>\n",
       "      <td>ESR1</td>\n",
       "      <td>CHEBI:33216</td>\n",
       "      <td>bisphenol A</td>\n",
       "      <td>0.260879</td>\n",
       "    </tr>\n",
       "    <tr>\n",
       "      <th>4</th>\n",
       "      <td>HGNC:2625</td>\n",
       "      <td>CYP2D6</td>\n",
       "      <td>CHEBI:18243</td>\n",
       "      <td>dopamine</td>\n",
       "      <td>0.259226</td>\n",
       "    </tr>\n",
       "  </tbody>\n",
       "</table>\n",
       "</div>"
      ],
      "text/plain": [
       "    n2 - id  n2 - name      n3 - id    n3 - name      score\n",
       "0  HGNC:2625     CYP2D6  CHEBI:18243     dopamine  0.300016\n",
       "1  HGNC:2637     CYP3A4  CHEBI:18243     dopamine  0.298142\n",
       "2  HGNC:3467       ESR1  CHEBI:31638  fulvestrant  0.266717\n",
       "3  HGNC:3467       ESR1  CHEBI:33216  bisphenol A  0.260879\n",
       "4  HGNC:2625     CYP2D6  CHEBI:18243     dopamine  0.259226"
      ]
     },
     "metadata": {},
     "output_type": "display_data"
    },
    {
     "data": {
      "text/html": [
       "<h3>hypohidrosis-enamel hypoplasia-palmoplantar ke...</h3>"
      ],
      "text/plain": [
       "<IPython.core.display.HTML object>"
      ]
     },
     "metadata": {},
     "output_type": "display_data"
    },
    {
     "data": {
      "text/html": [
       "<a href=http://robokop.renci.org/simple/view/98d6e0ea-474f-4206-a29c-01e08be2ea7a>View Answer in ROBOKOP</a>"
      ],
      "text/plain": [
       "<IPython.core.display.HTML object>"
      ]
     },
     "metadata": {},
     "output_type": "display_data"
    },
    {
     "data": {
      "text/html": [
       "<div>\n",
       "<style>\n",
       "    .dataframe thead tr:only-child th {\n",
       "        text-align: right;\n",
       "    }\n",
       "\n",
       "    .dataframe thead th {\n",
       "        text-align: left;\n",
       "    }\n",
       "\n",
       "    .dataframe tbody tr th {\n",
       "        vertical-align: top;\n",
       "    }\n",
       "</style>\n",
       "<table border=\"1\" class=\"dataframe\">\n",
       "  <thead>\n",
       "    <tr style=\"text-align: right;\">\n",
       "      <th></th>\n",
       "    </tr>\n",
       "  </thead>\n",
       "  <tbody>\n",
       "  </tbody>\n",
       "</table>\n",
       "</div>"
      ],
      "text/plain": [
       "Empty DataFrame\n",
       "Columns: []\n",
       "Index: []"
      ]
     },
     "metadata": {},
     "output_type": "display_data"
    },
    {
     "data": {
      "text/html": [
       "<h3>genetic dementia</h3>"
      ],
      "text/plain": [
       "<IPython.core.display.HTML object>"
      ]
     },
     "metadata": {},
     "output_type": "display_data"
    },
    {
     "data": {
      "text/html": [
       "<a href=http://robokop.renci.org/simple/view/f565b6f4-69bb-4c1a-84f1-076a2eae964f>View Answer in ROBOKOP</a>"
      ],
      "text/plain": [
       "<IPython.core.display.HTML object>"
      ]
     },
     "metadata": {},
     "output_type": "display_data"
    },
    {
     "data": {
      "text/html": [
       "<div>\n",
       "<style>\n",
       "    .dataframe thead tr:only-child th {\n",
       "        text-align: right;\n",
       "    }\n",
       "\n",
       "    .dataframe thead th {\n",
       "        text-align: left;\n",
       "    }\n",
       "\n",
       "    .dataframe tbody tr th {\n",
       "        vertical-align: top;\n",
       "    }\n",
       "</style>\n",
       "<table border=\"1\" class=\"dataframe\">\n",
       "  <thead>\n",
       "    <tr style=\"text-align: right;\">\n",
       "      <th></th>\n",
       "    </tr>\n",
       "  </thead>\n",
       "  <tbody>\n",
       "  </tbody>\n",
       "</table>\n",
       "</div>"
      ],
      "text/plain": [
       "Empty DataFrame\n",
       "Columns: []\n",
       "Index: []"
      ]
     },
     "metadata": {},
     "output_type": "display_data"
    },
    {
     "data": {
      "text/html": [
       "<h3>functional neutrophil defect</h3>"
      ],
      "text/plain": [
       "<IPython.core.display.HTML object>"
      ]
     },
     "metadata": {},
     "output_type": "display_data"
    },
    {
     "data": {
      "text/html": [
       "<a href=http://robokop.renci.org/simple/view/ca582f50-32f3-4135-8031-e22bd0ea8b8b>View Answer in ROBOKOP</a>"
      ],
      "text/plain": [
       "<IPython.core.display.HTML object>"
      ]
     },
     "metadata": {},
     "output_type": "display_data"
    },
    {
     "data": {
      "text/html": [
       "<div>\n",
       "<style>\n",
       "    .dataframe thead tr:only-child th {\n",
       "        text-align: right;\n",
       "    }\n",
       "\n",
       "    .dataframe thead th {\n",
       "        text-align: left;\n",
       "    }\n",
       "\n",
       "    .dataframe tbody tr th {\n",
       "        vertical-align: top;\n",
       "    }\n",
       "</style>\n",
       "<table border=\"1\" class=\"dataframe\">\n",
       "  <thead>\n",
       "    <tr style=\"text-align: right;\">\n",
       "      <th></th>\n",
       "    </tr>\n",
       "  </thead>\n",
       "  <tbody>\n",
       "  </tbody>\n",
       "</table>\n",
       "</div>"
      ],
      "text/plain": [
       "Empty DataFrame\n",
       "Columns: []\n",
       "Index: []"
      ]
     },
     "metadata": {},
     "output_type": "display_data"
    },
    {
     "data": {
      "text/html": [
       "<h3>CADASIL</h3>"
      ],
      "text/plain": [
       "<IPython.core.display.HTML object>"
      ]
     },
     "metadata": {},
     "output_type": "display_data"
    },
    {
     "data": {
      "text/html": [
       "<a href=http://robokop.renci.org/simple/view/2ed9ea82-cb4b-46ab-85b2-d21805f2e1bf>View Answer in ROBOKOP</a>"
      ],
      "text/plain": [
       "<IPython.core.display.HTML object>"
      ]
     },
     "metadata": {},
     "output_type": "display_data"
    },
    {
     "data": {
      "text/html": [
       "<div>\n",
       "<style>\n",
       "    .dataframe thead tr:only-child th {\n",
       "        text-align: right;\n",
       "    }\n",
       "\n",
       "    .dataframe thead th {\n",
       "        text-align: left;\n",
       "    }\n",
       "\n",
       "    .dataframe tbody tr th {\n",
       "        vertical-align: top;\n",
       "    }\n",
       "</style>\n",
       "<table border=\"1\" class=\"dataframe\">\n",
       "  <thead>\n",
       "    <tr style=\"text-align: right;\">\n",
       "      <th></th>\n",
       "    </tr>\n",
       "  </thead>\n",
       "  <tbody>\n",
       "  </tbody>\n",
       "</table>\n",
       "</div>"
      ],
      "text/plain": [
       "Empty DataFrame\n",
       "Columns: []\n",
       "Index: []"
      ]
     },
     "metadata": {},
     "output_type": "display_data"
    },
    {
     "data": {
      "text/html": [
       "<h3>glomerulopathy with fibronectin deposits 2</h3>"
      ],
      "text/plain": [
       "<IPython.core.display.HTML object>"
      ]
     },
     "metadata": {},
     "output_type": "display_data"
    },
    {
     "data": {
      "text/html": [
       "<a href=http://robokop.renci.org/simple/view/dcc1ca6d-fcfa-4d5d-b6c4-f3e22cdcc299>View Answer in ROBOKOP</a>"
      ],
      "text/plain": [
       "<IPython.core.display.HTML object>"
      ]
     },
     "metadata": {},
     "output_type": "display_data"
    },
    {
     "data": {
      "text/html": [
       "<div>\n",
       "<style>\n",
       "    .dataframe thead tr:only-child th {\n",
       "        text-align: right;\n",
       "    }\n",
       "\n",
       "    .dataframe thead th {\n",
       "        text-align: left;\n",
       "    }\n",
       "\n",
       "    .dataframe tbody tr th {\n",
       "        vertical-align: top;\n",
       "    }\n",
       "</style>\n",
       "<table border=\"1\" class=\"dataframe\">\n",
       "  <thead>\n",
       "    <tr style=\"text-align: right;\">\n",
       "      <th></th>\n",
       "    </tr>\n",
       "  </thead>\n",
       "  <tbody>\n",
       "  </tbody>\n",
       "</table>\n",
       "</div>"
      ],
      "text/plain": [
       "Empty DataFrame\n",
       "Columns: []\n",
       "Index: []"
      ]
     },
     "metadata": {},
     "output_type": "display_data"
    },
    {
     "data": {
      "text/html": [
       "<h3>Alzheimer's disease 2</h3>"
      ],
      "text/plain": [
       "<IPython.core.display.HTML object>"
      ]
     },
     "metadata": {},
     "output_type": "display_data"
    },
    {
     "data": {
      "text/html": [
       "<a href=http://robokop.renci.org/simple/view/b9586792-8dbb-4128-9507-4a4a7178f790>View Answer in ROBOKOP</a>"
      ],
      "text/plain": [
       "<IPython.core.display.HTML object>"
      ]
     },
     "metadata": {},
     "output_type": "display_data"
    },
    {
     "data": {
      "text/html": [
       "<div>\n",
       "<style>\n",
       "    .dataframe thead tr:only-child th {\n",
       "        text-align: right;\n",
       "    }\n",
       "\n",
       "    .dataframe thead th {\n",
       "        text-align: left;\n",
       "    }\n",
       "\n",
       "    .dataframe tbody tr th {\n",
       "        vertical-align: top;\n",
       "    }\n",
       "</style>\n",
       "<table border=\"1\" class=\"dataframe\">\n",
       "  <thead>\n",
       "    <tr style=\"text-align: right;\">\n",
       "      <th></th>\n",
       "      <th>n2 - id</th>\n",
       "      <th>n2 - name</th>\n",
       "      <th>n3 - id</th>\n",
       "      <th>n3 - name</th>\n",
       "      <th>score</th>\n",
       "    </tr>\n",
       "  </thead>\n",
       "  <tbody>\n",
       "    <tr>\n",
       "      <th>0</th>\n",
       "      <td>HGNC:11892</td>\n",
       "      <td>TNF</td>\n",
       "      <td>CHEBI:41879</td>\n",
       "      <td>dexamethasone</td>\n",
       "      <td>0.507629</td>\n",
       "    </tr>\n",
       "    <tr>\n",
       "      <th>1</th>\n",
       "      <td>HGNC:11179</td>\n",
       "      <td>SOD1</td>\n",
       "      <td>CHEBI:9288</td>\n",
       "      <td>streptozocin</td>\n",
       "      <td>0.485361</td>\n",
       "    </tr>\n",
       "    <tr>\n",
       "      <th>2</th>\n",
       "      <td>HGNC:4910</td>\n",
       "      <td>HIF1A</td>\n",
       "      <td>CHEBI:15430</td>\n",
       "      <td>protoporphyrin</td>\n",
       "      <td>0.484236</td>\n",
       "    </tr>\n",
       "    <tr>\n",
       "      <th>3</th>\n",
       "      <td>HGNC:11892</td>\n",
       "      <td>TNF</td>\n",
       "      <td>CHEBI:16240</td>\n",
       "      <td>hydrogen peroxide</td>\n",
       "      <td>0.476497</td>\n",
       "    </tr>\n",
       "    <tr>\n",
       "      <th>4</th>\n",
       "      <td>HGNC:1516</td>\n",
       "      <td>CAT</td>\n",
       "      <td>CHEBI:9288</td>\n",
       "      <td>streptozocin</td>\n",
       "      <td>0.475195</td>\n",
       "    </tr>\n",
       "  </tbody>\n",
       "</table>\n",
       "</div>"
      ],
      "text/plain": [
       "     n2 - id  n2 - name      n3 - id          n3 - name      score\n",
       "0  HGNC:11892        TNF  CHEBI:41879      dexamethasone  0.507629\n",
       "1  HGNC:11179       SOD1   CHEBI:9288       streptozocin  0.485361\n",
       "2   HGNC:4910      HIF1A  CHEBI:15430     protoporphyrin  0.484236\n",
       "3  HGNC:11892        TNF  CHEBI:16240  hydrogen peroxide  0.476497\n",
       "4   HGNC:1516        CAT   CHEBI:9288       streptozocin  0.475195"
      ]
     },
     "metadata": {},
     "output_type": "display_data"
    },
    {
     "data": {
      "text/html": [
       "<h3>combined pituitary hormone deficiencies, genet...</h3>"
      ],
      "text/plain": [
       "<IPython.core.display.HTML object>"
      ]
     },
     "metadata": {},
     "output_type": "display_data"
    },
    {
     "data": {
      "text/html": [
       "<a href=http://robokop.renci.org/simple/view/810cf0ed-434e-4f0f-a39d-0c4ecb978c48>View Answer in ROBOKOP</a>"
      ],
      "text/plain": [
       "<IPython.core.display.HTML object>"
      ]
     },
     "metadata": {},
     "output_type": "display_data"
    },
    {
     "data": {
      "text/html": [
       "<div>\n",
       "<style>\n",
       "    .dataframe thead tr:only-child th {\n",
       "        text-align: right;\n",
       "    }\n",
       "\n",
       "    .dataframe thead th {\n",
       "        text-align: left;\n",
       "    }\n",
       "\n",
       "    .dataframe tbody tr th {\n",
       "        vertical-align: top;\n",
       "    }\n",
       "</style>\n",
       "<table border=\"1\" class=\"dataframe\">\n",
       "  <thead>\n",
       "    <tr style=\"text-align: right;\">\n",
       "      <th></th>\n",
       "    </tr>\n",
       "  </thead>\n",
       "  <tbody>\n",
       "  </tbody>\n",
       "</table>\n",
       "</div>"
      ],
      "text/plain": [
       "Empty DataFrame\n",
       "Columns: []\n",
       "Index: []"
      ]
     },
     "metadata": {},
     "output_type": "display_data"
    }
   ],
   "source": [
    "turl=lambda robokop,disease_id,disease_name: f'http://{robokop}/api/simple/quick/template/wf1mod3/{disease_id}/?name1={disease_name}'\n",
    "\n",
    "for disease_id, disease_name in diseases:\n",
    "    url = turl(robokop,disease_id,disease_name)\n",
    "    display(HTML(f'<h3>{disease_name}</h3>'))\n",
    "    response = requests.get(url)\n",
    "    if response.status_code != 200:\n",
    "        print('Error')\n",
    "        continue\n",
    "    answers=response.json()\n",
    "    view_url = get_view_url(answers)\n",
    "    display(HTML(f'<a href={view_url}>View Answer in ROBOKOP</a>'))\n",
    "    answer_frame = parse_answer(answers,node_list=['n2','n3','n4'],edge_list=[])\n",
    "    display(answer_frame.head())    "
   ]
  },
  {
   "cell_type": "code",
   "execution_count": null,
   "metadata": {
    "collapsed": true,
    "deletable": true,
    "editable": true
   },
   "outputs": [],
   "source": []
  }
 ],
 "metadata": {
  "kernelspec": {
   "display_name": "Python 3",
   "language": "python",
   "name": "python3"
  },
  "language_info": {
   "codemirror_mode": {
    "name": "ipython",
    "version": 3
   },
   "file_extension": ".py",
   "mimetype": "text/x-python",
   "name": "python",
   "nbconvert_exporter": "python",
   "pygments_lexer": "ipython3",
   "version": "3.6.2"
  }
 },
 "nbformat": 4,
 "nbformat_minor": 2
}

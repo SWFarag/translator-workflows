{
 "cells": [
  {
   "cell_type": "markdown",
   "metadata": {
    "deletable": true,
    "editable": true
   },
   "source": [
    "# Workflow 1, Module 3a examples"
   ]
  },
  {
   "cell_type": "code",
   "execution_count": 1,
   "metadata": {
    "collapsed": true,
    "deletable": true,
    "editable": true
   },
   "outputs": [],
   "source": [
    "#To make nicer looking outputs\n",
    "from IPython.core.display import display, HTML\n",
    "import requests\n",
    "\n",
    "#Load some functions for parsing quick output\n",
    "import os\n",
    "import sys\n",
    "module_path = os.path.abspath(os.path.join('../../..'))\n",
    "if module_path not in sys.path:\n",
    "    sys.path.append(module_path)\n",
    "from gg_functions import parse_answer, get_view_url\n",
    "\n",
    "#load in some example disease lists to try\n",
    "example_path = os.path.abspath(os.path.join('../../../examples'))\n",
    "sys.path.append(example_path)\n",
    "from disease_lists import rare_diseases, common_diseases\n",
    "diseases = common_diseases + rare_diseases\n",
    "\n",
    "robokop='robokop.renci.org'"
   ]
  },
  {
   "cell_type": "code",
   "execution_count": 2,
   "metadata": {
    "collapsed": false,
    "deletable": true,
    "editable": true,
    "scrolled": true
   },
   "outputs": [
    {
     "data": {
      "text/html": [
       "<h3>arthritis</h3>"
      ],
      "text/plain": [
       "<IPython.core.display.HTML object>"
      ]
     },
     "metadata": {},
     "output_type": "display_data"
    },
    {
     "data": {
      "text/html": [
       "<a href=http://robokop.renci.org/simple/view/cf6708e2-67b0-427b-8913-16567203cd20>View Answer in ROBOKOP</a>"
      ],
      "text/plain": [
       "<IPython.core.display.HTML object>"
      ]
     },
     "metadata": {},
     "output_type": "display_data"
    },
    {
     "data": {
      "text/html": [
       "<div>\n",
       "<style>\n",
       "    .dataframe thead tr:only-child th {\n",
       "        text-align: right;\n",
       "    }\n",
       "\n",
       "    .dataframe thead th {\n",
       "        text-align: left;\n",
       "    }\n",
       "\n",
       "    .dataframe tbody tr th {\n",
       "        vertical-align: top;\n",
       "    }\n",
       "</style>\n",
       "<table border=\"1\" class=\"dataframe\">\n",
       "  <thead>\n",
       "    <tr style=\"text-align: right;\">\n",
       "      <th></th>\n",
       "      <th>n2 - id</th>\n",
       "      <th>n2 - name</th>\n",
       "      <th>n3 - id</th>\n",
       "      <th>n3 - name</th>\n",
       "      <th>score</th>\n",
       "    </tr>\n",
       "  </thead>\n",
       "  <tbody>\n",
       "    <tr>\n",
       "      <th>0</th>\n",
       "      <td>HGNC:1504</td>\n",
       "      <td>CASP3</td>\n",
       "      <td>CHEBI:44185</td>\n",
       "      <td>methotrexate</td>\n",
       "      <td>0.475562</td>\n",
       "    </tr>\n",
       "    <tr>\n",
       "      <th>1</th>\n",
       "      <td>HGNC:2637</td>\n",
       "      <td>CYP3A4</td>\n",
       "      <td>CHEBI:41879</td>\n",
       "      <td>dexamethasone</td>\n",
       "      <td>0.464412</td>\n",
       "    </tr>\n",
       "    <tr>\n",
       "      <th>2</th>\n",
       "      <td>HGNC:2637</td>\n",
       "      <td>CYP3A4</td>\n",
       "      <td>CHEBI:3387</td>\n",
       "      <td>carbamazepine</td>\n",
       "      <td>0.463590</td>\n",
       "    </tr>\n",
       "    <tr>\n",
       "      <th>3</th>\n",
       "      <td>HGNC:2637</td>\n",
       "      <td>CYP3A4</td>\n",
       "      <td>CHEBI:28077</td>\n",
       "      <td>rifampicin</td>\n",
       "      <td>0.459983</td>\n",
       "    </tr>\n",
       "    <tr>\n",
       "      <th>4</th>\n",
       "      <td>HGNC:2637</td>\n",
       "      <td>CYP3A4</td>\n",
       "      <td>CHEBI:8107</td>\n",
       "      <td>phenytoin</td>\n",
       "      <td>0.459774</td>\n",
       "    </tr>\n",
       "  </tbody>\n",
       "</table>\n",
       "</div>"
      ],
      "text/plain": [
       "    n2 - id  n2 - name      n3 - id      n3 - name      score\n",
       "0  HGNC:1504      CASP3  CHEBI:44185   methotrexate  0.475562\n",
       "1  HGNC:2637     CYP3A4  CHEBI:41879  dexamethasone  0.464412\n",
       "2  HGNC:2637     CYP3A4   CHEBI:3387  carbamazepine  0.463590\n",
       "3  HGNC:2637     CYP3A4  CHEBI:28077     rifampicin  0.459983\n",
       "4  HGNC:2637     CYP3A4   CHEBI:8107      phenytoin  0.459774"
      ]
     },
     "metadata": {},
     "output_type": "display_data"
    },
    {
     "data": {
      "text/html": [
       "<h3>type 2 diabetes mellitus</h3>"
      ],
      "text/plain": [
       "<IPython.core.display.HTML object>"
      ]
     },
     "metadata": {},
     "output_type": "display_data"
    },
    {
     "data": {
      "text/html": [
       "<a href=http://robokop.renci.org/simple/view/12490b1c-c1e6-4924-aafd-a8f69ab15a7d>View Answer in ROBOKOP</a>"
      ],
      "text/plain": [
       "<IPython.core.display.HTML object>"
      ]
     },
     "metadata": {},
     "output_type": "display_data"
    },
    {
     "data": {
      "text/html": [
       "<div>\n",
       "<style>\n",
       "    .dataframe thead tr:only-child th {\n",
       "        text-align: right;\n",
       "    }\n",
       "\n",
       "    .dataframe thead th {\n",
       "        text-align: left;\n",
       "    }\n",
       "\n",
       "    .dataframe tbody tr th {\n",
       "        vertical-align: top;\n",
       "    }\n",
       "</style>\n",
       "<table border=\"1\" class=\"dataframe\">\n",
       "  <thead>\n",
       "    <tr style=\"text-align: right;\">\n",
       "      <th></th>\n",
       "      <th>n2 - id</th>\n",
       "      <th>n2 - name</th>\n",
       "      <th>n3 - id</th>\n",
       "      <th>n3 - name</th>\n",
       "      <th>score</th>\n",
       "    </tr>\n",
       "  </thead>\n",
       "  <tbody>\n",
       "    <tr>\n",
       "      <th>0</th>\n",
       "      <td>HGNC:11009</td>\n",
       "      <td>SLC2A4</td>\n",
       "      <td>CHEBI:6801</td>\n",
       "      <td>metformin</td>\n",
       "      <td>0.953679</td>\n",
       "    </tr>\n",
       "    <tr>\n",
       "      <th>1</th>\n",
       "      <td>HGNC:6081</td>\n",
       "      <td>INS</td>\n",
       "      <td>CHEBI:6801</td>\n",
       "      <td>metformin</td>\n",
       "      <td>0.874051</td>\n",
       "    </tr>\n",
       "    <tr>\n",
       "      <th>2</th>\n",
       "      <td>HGNC:1516</td>\n",
       "      <td>CAT</td>\n",
       "      <td>CHEBI:6801</td>\n",
       "      <td>metformin</td>\n",
       "      <td>0.709781</td>\n",
       "    </tr>\n",
       "    <tr>\n",
       "      <th>3</th>\n",
       "      <td>HGNC:11180</td>\n",
       "      <td>SOD2</td>\n",
       "      <td>CHEBI:16236</td>\n",
       "      <td>ethanol</td>\n",
       "      <td>0.699207</td>\n",
       "    </tr>\n",
       "    <tr>\n",
       "      <th>4</th>\n",
       "      <td>HGNC:12517</td>\n",
       "      <td>UCP1</td>\n",
       "      <td>CHEBI:50122</td>\n",
       "      <td>rosiglitazone</td>\n",
       "      <td>0.683096</td>\n",
       "    </tr>\n",
       "  </tbody>\n",
       "</table>\n",
       "</div>"
      ],
      "text/plain": [
       "     n2 - id  n2 - name      n3 - id      n3 - name      score\n",
       "0  HGNC:11009     SLC2A4   CHEBI:6801      metformin  0.953679\n",
       "1   HGNC:6081        INS   CHEBI:6801      metformin  0.874051\n",
       "2   HGNC:1516        CAT   CHEBI:6801      metformin  0.709781\n",
       "3  HGNC:11180       SOD2  CHEBI:16236        ethanol  0.699207\n",
       "4  HGNC:12517       UCP1  CHEBI:50122  rosiglitazone  0.683096"
      ]
     },
     "metadata": {},
     "output_type": "display_data"
    },
    {
     "data": {
      "text/html": [
       "<h3>dermatitis</h3>"
      ],
      "text/plain": [
       "<IPython.core.display.HTML object>"
      ]
     },
     "metadata": {},
     "output_type": "display_data"
    },
    {
     "data": {
      "text/html": [
       "<a href=http://robokop.renci.org/simple/view/5d167c5d-72a2-47ee-b4f3-b72e785f2e0a>View Answer in ROBOKOP</a>"
      ],
      "text/plain": [
       "<IPython.core.display.HTML object>"
      ]
     },
     "metadata": {},
     "output_type": "display_data"
    },
    {
     "data": {
      "text/html": [
       "<div>\n",
       "<style>\n",
       "    .dataframe thead tr:only-child th {\n",
       "        text-align: right;\n",
       "    }\n",
       "\n",
       "    .dataframe thead th {\n",
       "        text-align: left;\n",
       "    }\n",
       "\n",
       "    .dataframe tbody tr th {\n",
       "        vertical-align: top;\n",
       "    }\n",
       "</style>\n",
       "<table border=\"1\" class=\"dataframe\">\n",
       "  <thead>\n",
       "    <tr style=\"text-align: right;\">\n",
       "      <th></th>\n",
       "      <th>n2 - id</th>\n",
       "      <th>n2 - name</th>\n",
       "      <th>n3 - id</th>\n",
       "      <th>n3 - name</th>\n",
       "      <th>score</th>\n",
       "    </tr>\n",
       "  </thead>\n",
       "  <tbody>\n",
       "    <tr>\n",
       "      <th>0</th>\n",
       "      <td>HGNC:1784</td>\n",
       "      <td>CDKN1A</td>\n",
       "      <td>CHEBI:44185</td>\n",
       "      <td>methotrexate</td>\n",
       "      <td>0.603848</td>\n",
       "    </tr>\n",
       "    <tr>\n",
       "      <th>1</th>\n",
       "      <td>HGNC:11998</td>\n",
       "      <td>TP53</td>\n",
       "      <td>CHEBI:27504</td>\n",
       "      <td>mitomycin C</td>\n",
       "      <td>0.602394</td>\n",
       "    </tr>\n",
       "    <tr>\n",
       "      <th>2</th>\n",
       "      <td>HGNC:11998</td>\n",
       "      <td>TP53</td>\n",
       "      <td>CHEBI:80630</td>\n",
       "      <td>irinotecan</td>\n",
       "      <td>0.583871</td>\n",
       "    </tr>\n",
       "    <tr>\n",
       "      <th>3</th>\n",
       "      <td>HGNC:11998</td>\n",
       "      <td>TP53</td>\n",
       "      <td>CHEBI:44185</td>\n",
       "      <td>methotrexate</td>\n",
       "      <td>0.580669</td>\n",
       "    </tr>\n",
       "    <tr>\n",
       "      <th>4</th>\n",
       "      <td>HGNC:3012</td>\n",
       "      <td>DPYD</td>\n",
       "      <td>CHEBI:39867</td>\n",
       "      <td>valproic acid</td>\n",
       "      <td>0.579460</td>\n",
       "    </tr>\n",
       "  </tbody>\n",
       "</table>\n",
       "</div>"
      ],
      "text/plain": [
       "     n2 - id  n2 - name      n3 - id      n3 - name      score\n",
       "0   HGNC:1784     CDKN1A  CHEBI:44185   methotrexate  0.603848\n",
       "1  HGNC:11998       TP53  CHEBI:27504    mitomycin C  0.602394\n",
       "2  HGNC:11998       TP53  CHEBI:80630     irinotecan  0.583871\n",
       "3  HGNC:11998       TP53  CHEBI:44185   methotrexate  0.580669\n",
       "4   HGNC:3012       DPYD  CHEBI:39867  valproic acid  0.579460"
      ]
     },
     "metadata": {},
     "output_type": "display_data"
    },
    {
     "data": {
      "text/html": [
       "<h3>rheumatoid arthritis</h3>"
      ],
      "text/plain": [
       "<IPython.core.display.HTML object>"
      ]
     },
     "metadata": {},
     "output_type": "display_data"
    },
    {
     "data": {
      "text/html": [
       "<a href=http://robokop.renci.org/simple/view/ce4f3c86-c1a2-450d-a650-ef5ce42d0da9>View Answer in ROBOKOP</a>"
      ],
      "text/plain": [
       "<IPython.core.display.HTML object>"
      ]
     },
     "metadata": {},
     "output_type": "display_data"
    },
    {
     "data": {
      "text/html": [
       "<div>\n",
       "<style>\n",
       "    .dataframe thead tr:only-child th {\n",
       "        text-align: right;\n",
       "    }\n",
       "\n",
       "    .dataframe thead th {\n",
       "        text-align: left;\n",
       "    }\n",
       "\n",
       "    .dataframe tbody tr th {\n",
       "        vertical-align: top;\n",
       "    }\n",
       "</style>\n",
       "<table border=\"1\" class=\"dataframe\">\n",
       "  <thead>\n",
       "    <tr style=\"text-align: right;\">\n",
       "      <th></th>\n",
       "      <th>n2 - id</th>\n",
       "      <th>n2 - name</th>\n",
       "      <th>n3 - id</th>\n",
       "      <th>n3 - name</th>\n",
       "      <th>score</th>\n",
       "    </tr>\n",
       "  </thead>\n",
       "  <tbody>\n",
       "    <tr>\n",
       "      <th>0</th>\n",
       "      <td>HGNC:2861</td>\n",
       "      <td>DHFR</td>\n",
       "      <td>CHEBI:44185</td>\n",
       "      <td>methotrexate</td>\n",
       "      <td>0.726768</td>\n",
       "    </tr>\n",
       "    <tr>\n",
       "      <th>1</th>\n",
       "      <td>HGNC:1516</td>\n",
       "      <td>CAT</td>\n",
       "      <td>CHEBI:44185</td>\n",
       "      <td>methotrexate</td>\n",
       "      <td>0.662617</td>\n",
       "    </tr>\n",
       "    <tr>\n",
       "      <th>2</th>\n",
       "      <td>HGNC:1925</td>\n",
       "      <td>CHEK1</td>\n",
       "      <td>CHEBI:44185</td>\n",
       "      <td>methotrexate</td>\n",
       "      <td>0.636938</td>\n",
       "    </tr>\n",
       "    <tr>\n",
       "      <th>3</th>\n",
       "      <td>HGNC:2201</td>\n",
       "      <td>COL3A1</td>\n",
       "      <td>CHEBI:44185</td>\n",
       "      <td>methotrexate</td>\n",
       "      <td>0.626955</td>\n",
       "    </tr>\n",
       "    <tr>\n",
       "      <th>4</th>\n",
       "      <td>HGNC:11892</td>\n",
       "      <td>TNF</td>\n",
       "      <td>CHEBI:44185</td>\n",
       "      <td>methotrexate</td>\n",
       "      <td>0.622459</td>\n",
       "    </tr>\n",
       "  </tbody>\n",
       "</table>\n",
       "</div>"
      ],
      "text/plain": [
       "     n2 - id  n2 - name      n3 - id     n3 - name      score\n",
       "0   HGNC:2861       DHFR  CHEBI:44185  methotrexate  0.726768\n",
       "1   HGNC:1516        CAT  CHEBI:44185  methotrexate  0.662617\n",
       "2   HGNC:1925      CHEK1  CHEBI:44185  methotrexate  0.636938\n",
       "3   HGNC:2201     COL3A1  CHEBI:44185  methotrexate  0.626955\n",
       "4  HGNC:11892        TNF  CHEBI:44185  methotrexate  0.622459"
      ]
     },
     "metadata": {},
     "output_type": "display_data"
    },
    {
     "data": {
      "text/html": [
       "<h3>drug-induced liver injury</h3>"
      ],
      "text/plain": [
       "<IPython.core.display.HTML object>"
      ]
     },
     "metadata": {},
     "output_type": "display_data"
    },
    {
     "data": {
      "text/html": [
       "<a href=http://robokop.renci.org/simple/view/be356aa8-4212-4d05-96dd-0fe7e27e7db7>View Answer in ROBOKOP</a>"
      ],
      "text/plain": [
       "<IPython.core.display.HTML object>"
      ]
     },
     "metadata": {},
     "output_type": "display_data"
    },
    {
     "data": {
      "text/html": [
       "<div>\n",
       "<style>\n",
       "    .dataframe thead tr:only-child th {\n",
       "        text-align: right;\n",
       "    }\n",
       "\n",
       "    .dataframe thead th {\n",
       "        text-align: left;\n",
       "    }\n",
       "\n",
       "    .dataframe tbody tr th {\n",
       "        vertical-align: top;\n",
       "    }\n",
       "</style>\n",
       "<table border=\"1\" class=\"dataframe\">\n",
       "  <thead>\n",
       "    <tr style=\"text-align: right;\">\n",
       "      <th></th>\n",
       "      <th>n2 - id</th>\n",
       "      <th>n2 - name</th>\n",
       "      <th>n3 - id</th>\n",
       "      <th>n3 - name</th>\n",
       "      <th>score</th>\n",
       "    </tr>\n",
       "  </thead>\n",
       "  <tbody>\n",
       "    <tr>\n",
       "      <th>0</th>\n",
       "      <td>HGNC:2637</td>\n",
       "      <td>CYP3A4</td>\n",
       "      <td>CHEBI:8107</td>\n",
       "      <td>phenytoin</td>\n",
       "      <td>0.662104</td>\n",
       "    </tr>\n",
       "    <tr>\n",
       "      <th>1</th>\n",
       "      <td>HGNC:11998</td>\n",
       "      <td>TP53</td>\n",
       "      <td>CHEBI:4911</td>\n",
       "      <td>etoposide</td>\n",
       "      <td>0.639843</td>\n",
       "    </tr>\n",
       "    <tr>\n",
       "      <th>2</th>\n",
       "      <td>HGNC:1516</td>\n",
       "      <td>CAT</td>\n",
       "      <td>CHEBI:16240</td>\n",
       "      <td>hydrogen peroxide</td>\n",
       "      <td>0.621783</td>\n",
       "    </tr>\n",
       "    <tr>\n",
       "      <th>3</th>\n",
       "      <td>HGNC:6018</td>\n",
       "      <td>IL6</td>\n",
       "      <td>CHEBI:16240</td>\n",
       "      <td>hydrogen peroxide</td>\n",
       "      <td>0.612187</td>\n",
       "    </tr>\n",
       "    <tr>\n",
       "      <th>4</th>\n",
       "      <td>HGNC:7969</td>\n",
       "      <td>NR1I3</td>\n",
       "      <td>CHEBI:8069</td>\n",
       "      <td>phenobarbital</td>\n",
       "      <td>0.596938</td>\n",
       "    </tr>\n",
       "  </tbody>\n",
       "</table>\n",
       "</div>"
      ],
      "text/plain": [
       "     n2 - id  n2 - name      n3 - id          n3 - name      score\n",
       "0   HGNC:2637     CYP3A4   CHEBI:8107          phenytoin  0.662104\n",
       "1  HGNC:11998       TP53   CHEBI:4911          etoposide  0.639843\n",
       "2   HGNC:1516        CAT  CHEBI:16240  hydrogen peroxide  0.621783\n",
       "3   HGNC:6018        IL6  CHEBI:16240  hydrogen peroxide  0.612187\n",
       "4   HGNC:7969      NR1I3   CHEBI:8069      phenobarbital  0.596938"
      ]
     },
     "metadata": {},
     "output_type": "display_data"
    },
    {
     "data": {
      "text/html": [
       "<h3>lipodystrophy (disease)</h3>"
      ],
      "text/plain": [
       "<IPython.core.display.HTML object>"
      ]
     },
     "metadata": {},
     "output_type": "display_data"
    },
    {
     "data": {
      "text/html": [
       "<a href=http://robokop.renci.org/simple/view/11388fc2-fc96-4e67-bda0-f0f655453ef9>View Answer in ROBOKOP</a>"
      ],
      "text/plain": [
       "<IPython.core.display.HTML object>"
      ]
     },
     "metadata": {},
     "output_type": "display_data"
    },
    {
     "data": {
      "text/html": [
       "<div>\n",
       "<style>\n",
       "    .dataframe thead tr:only-child th {\n",
       "        text-align: right;\n",
       "    }\n",
       "\n",
       "    .dataframe thead th {\n",
       "        text-align: left;\n",
       "    }\n",
       "\n",
       "    .dataframe tbody tr th {\n",
       "        vertical-align: top;\n",
       "    }\n",
       "</style>\n",
       "<table border=\"1\" class=\"dataframe\">\n",
       "  <thead>\n",
       "    <tr style=\"text-align: right;\">\n",
       "      <th></th>\n",
       "      <th>n2 - id</th>\n",
       "      <th>n2 - name</th>\n",
       "      <th>n3 - id</th>\n",
       "      <th>n3 - name</th>\n",
       "      <th>score</th>\n",
       "    </tr>\n",
       "  </thead>\n",
       "  <tbody>\n",
       "    <tr>\n",
       "      <th>0</th>\n",
       "      <td>HGNC:1516</td>\n",
       "      <td>CAT</td>\n",
       "      <td>CHEBI:16240</td>\n",
       "      <td>hydrogen peroxide</td>\n",
       "      <td>0.458246</td>\n",
       "    </tr>\n",
       "    <tr>\n",
       "      <th>1</th>\n",
       "      <td>HGNC:1516</td>\n",
       "      <td>CAT</td>\n",
       "      <td>CHEBI:3750</td>\n",
       "      <td>clofibrate</td>\n",
       "      <td>0.454530</td>\n",
       "    </tr>\n",
       "    <tr>\n",
       "      <th>2</th>\n",
       "      <td>HGNC:1516</td>\n",
       "      <td>CAT</td>\n",
       "      <td>CHEBI:9288</td>\n",
       "      <td>streptozocin</td>\n",
       "      <td>0.448862</td>\n",
       "    </tr>\n",
       "    <tr>\n",
       "      <th>3</th>\n",
       "      <td>HGNC:11180</td>\n",
       "      <td>SOD2</td>\n",
       "      <td>CHEBI:16236</td>\n",
       "      <td>ethanol</td>\n",
       "      <td>0.442900</td>\n",
       "    </tr>\n",
       "    <tr>\n",
       "      <th>4</th>\n",
       "      <td>HGNC:11180</td>\n",
       "      <td>SOD2</td>\n",
       "      <td>CHEBI:16240</td>\n",
       "      <td>hydrogen peroxide</td>\n",
       "      <td>0.436448</td>\n",
       "    </tr>\n",
       "  </tbody>\n",
       "</table>\n",
       "</div>"
      ],
      "text/plain": [
       "     n2 - id  n2 - name      n3 - id          n3 - name      score\n",
       "0   HGNC:1516        CAT  CHEBI:16240  hydrogen peroxide  0.458246\n",
       "1   HGNC:1516        CAT   CHEBI:3750         clofibrate  0.454530\n",
       "2   HGNC:1516        CAT   CHEBI:9288       streptozocin  0.448862\n",
       "3  HGNC:11180       SOD2  CHEBI:16236            ethanol  0.442900\n",
       "4  HGNC:11180       SOD2  CHEBI:16240  hydrogen peroxide  0.436448"
      ]
     },
     "metadata": {},
     "output_type": "display_data"
    },
    {
     "data": {
      "text/html": [
       "<h3>aggressive periodontitis</h3>"
      ],
      "text/plain": [
       "<IPython.core.display.HTML object>"
      ]
     },
     "metadata": {},
     "output_type": "display_data"
    },
    {
     "data": {
      "text/html": [
       "<a href=http://robokop.renci.org/simple/view/3d63c775-015b-462e-9464-4ffdebc9043a>View Answer in ROBOKOP</a>"
      ],
      "text/plain": [
       "<IPython.core.display.HTML object>"
      ]
     },
     "metadata": {},
     "output_type": "display_data"
    },
    {
     "data": {
      "text/html": [
       "<div>\n",
       "<style>\n",
       "    .dataframe thead tr:only-child th {\n",
       "        text-align: right;\n",
       "    }\n",
       "\n",
       "    .dataframe thead th {\n",
       "        text-align: left;\n",
       "    }\n",
       "\n",
       "    .dataframe tbody tr th {\n",
       "        vertical-align: top;\n",
       "    }\n",
       "</style>\n",
       "<table border=\"1\" class=\"dataframe\">\n",
       "  <thead>\n",
       "    <tr style=\"text-align: right;\">\n",
       "      <th></th>\n",
       "    </tr>\n",
       "  </thead>\n",
       "  <tbody>\n",
       "  </tbody>\n",
       "</table>\n",
       "</div>"
      ],
      "text/plain": [
       "Empty DataFrame\n",
       "Columns: []\n",
       "Index: []"
      ]
     },
     "metadata": {},
     "output_type": "display_data"
    },
    {
     "data": {
      "text/html": [
       "<h3>dementia</h3>"
      ],
      "text/plain": [
       "<IPython.core.display.HTML object>"
      ]
     },
     "metadata": {},
     "output_type": "display_data"
    },
    {
     "data": {
      "text/html": [
       "<a href=http://robokop.renci.org/simple/view/5331a46d-d1ae-4dde-8f60-818f87640c19>View Answer in ROBOKOP</a>"
      ],
      "text/plain": [
       "<IPython.core.display.HTML object>"
      ]
     },
     "metadata": {},
     "output_type": "display_data"
    },
    {
     "data": {
      "text/html": [
       "<div>\n",
       "<style>\n",
       "    .dataframe thead tr:only-child th {\n",
       "        text-align: right;\n",
       "    }\n",
       "\n",
       "    .dataframe thead th {\n",
       "        text-align: left;\n",
       "    }\n",
       "\n",
       "    .dataframe tbody tr th {\n",
       "        vertical-align: top;\n",
       "    }\n",
       "</style>\n",
       "<table border=\"1\" class=\"dataframe\">\n",
       "  <thead>\n",
       "    <tr style=\"text-align: right;\">\n",
       "      <th></th>\n",
       "      <th>n2 - id</th>\n",
       "      <th>n2 - name</th>\n",
       "      <th>n3 - id</th>\n",
       "      <th>n3 - name</th>\n",
       "      <th>score</th>\n",
       "    </tr>\n",
       "  </thead>\n",
       "  <tbody>\n",
       "    <tr>\n",
       "      <th>0</th>\n",
       "      <td>HGNC:1925</td>\n",
       "      <td>CHEK1</td>\n",
       "      <td>CHEBI:46345</td>\n",
       "      <td>5-fluorouracil</td>\n",
       "      <td>0.559742</td>\n",
       "    </tr>\n",
       "    <tr>\n",
       "      <th>1</th>\n",
       "      <td>HGNC:9605</td>\n",
       "      <td>PTGS2</td>\n",
       "      <td>CHEBI:15365</td>\n",
       "      <td>acetylsalicylic acid</td>\n",
       "      <td>0.553933</td>\n",
       "    </tr>\n",
       "    <tr>\n",
       "      <th>2</th>\n",
       "      <td>HGNC:12441</td>\n",
       "      <td>TYMS</td>\n",
       "      <td>CHEBI:46345</td>\n",
       "      <td>5-fluorouracil</td>\n",
       "      <td>0.525379</td>\n",
       "    </tr>\n",
       "    <tr>\n",
       "      <th>3</th>\n",
       "      <td>HGNC:9605</td>\n",
       "      <td>PTGS2</td>\n",
       "      <td>CHEBI:29678</td>\n",
       "      <td>sodium arsenite</td>\n",
       "      <td>0.521397</td>\n",
       "    </tr>\n",
       "    <tr>\n",
       "      <th>4</th>\n",
       "      <td>HGNC:9605</td>\n",
       "      <td>PTGS2</td>\n",
       "      <td>CHEBI:49662</td>\n",
       "      <td>indometacin</td>\n",
       "      <td>0.521052</td>\n",
       "    </tr>\n",
       "  </tbody>\n",
       "</table>\n",
       "</div>"
      ],
      "text/plain": [
       "     n2 - id  n2 - name      n3 - id             n3 - name      score\n",
       "0   HGNC:1925      CHEK1  CHEBI:46345        5-fluorouracil  0.559742\n",
       "1   HGNC:9605      PTGS2  CHEBI:15365  acetylsalicylic acid  0.553933\n",
       "2  HGNC:12441       TYMS  CHEBI:46345        5-fluorouracil  0.525379\n",
       "3   HGNC:9605      PTGS2  CHEBI:29678       sodium arsenite  0.521397\n",
       "4   HGNC:9605      PTGS2  CHEBI:49662           indometacin  0.521052"
      ]
     },
     "metadata": {},
     "output_type": "display_data"
    },
    {
     "data": {
      "text/html": [
       "<h3>inflammatory bowel disease</h3>"
      ],
      "text/plain": [
       "<IPython.core.display.HTML object>"
      ]
     },
     "metadata": {},
     "output_type": "display_data"
    },
    {
     "data": {
      "text/html": [
       "<a href=http://robokop.renci.org/simple/view/e70e5d5c-c8c1-4407-8320-ffdc7a8ef8ad>View Answer in ROBOKOP</a>"
      ],
      "text/plain": [
       "<IPython.core.display.HTML object>"
      ]
     },
     "metadata": {},
     "output_type": "display_data"
    },
    {
     "data": {
      "text/html": [
       "<div>\n",
       "<style>\n",
       "    .dataframe thead tr:only-child th {\n",
       "        text-align: right;\n",
       "    }\n",
       "\n",
       "    .dataframe thead th {\n",
       "        text-align: left;\n",
       "    }\n",
       "\n",
       "    .dataframe tbody tr th {\n",
       "        vertical-align: top;\n",
       "    }\n",
       "</style>\n",
       "<table border=\"1\" class=\"dataframe\">\n",
       "  <thead>\n",
       "    <tr style=\"text-align: right;\">\n",
       "      <th></th>\n",
       "      <th>n2 - id</th>\n",
       "      <th>n2 - name</th>\n",
       "      <th>n3 - id</th>\n",
       "      <th>n3 - name</th>\n",
       "      <th>score</th>\n",
       "    </tr>\n",
       "  </thead>\n",
       "  <tbody>\n",
       "    <tr>\n",
       "      <th>0</th>\n",
       "      <td>HGNC:11892</td>\n",
       "      <td>TNF</td>\n",
       "      <td>CHEBI:34674</td>\n",
       "      <td>dextran sulfate</td>\n",
       "      <td>0.462217</td>\n",
       "    </tr>\n",
       "    <tr>\n",
       "      <th>1</th>\n",
       "      <td>HGNC:2595</td>\n",
       "      <td>CYP1A1</td>\n",
       "      <td>CHEBI:29865</td>\n",
       "      <td>benzo[a]pyrene</td>\n",
       "      <td>0.448391</td>\n",
       "    </tr>\n",
       "    <tr>\n",
       "      <th>2</th>\n",
       "      <td>HGNC:391</td>\n",
       "      <td>AKT1</td>\n",
       "      <td>CHEBI:33216</td>\n",
       "      <td>bisphenol A</td>\n",
       "      <td>0.446407</td>\n",
       "    </tr>\n",
       "    <tr>\n",
       "      <th>3</th>\n",
       "      <td>HGNC:9864</td>\n",
       "      <td>RARA</td>\n",
       "      <td>CHEBI:15367</td>\n",
       "      <td>all-trans-retinoic acid</td>\n",
       "      <td>0.444818</td>\n",
       "    </tr>\n",
       "    <tr>\n",
       "      <th>4</th>\n",
       "      <td>HGNC:2595</td>\n",
       "      <td>CYP1A1</td>\n",
       "      <td>CHEBI:16243</td>\n",
       "      <td>quercetin</td>\n",
       "      <td>0.444390</td>\n",
       "    </tr>\n",
       "  </tbody>\n",
       "</table>\n",
       "</div>"
      ],
      "text/plain": [
       "     n2 - id  n2 - name      n3 - id                n3 - name      score\n",
       "0  HGNC:11892        TNF  CHEBI:34674          dextran sulfate  0.462217\n",
       "1   HGNC:2595     CYP1A1  CHEBI:29865           benzo[a]pyrene  0.448391\n",
       "2    HGNC:391       AKT1  CHEBI:33216              bisphenol A  0.446407\n",
       "3   HGNC:9864       RARA  CHEBI:15367  all-trans-retinoic acid  0.444818\n",
       "4   HGNC:2595     CYP1A1  CHEBI:16243                quercetin  0.444390"
      ]
     },
     "metadata": {},
     "output_type": "display_data"
    },
    {
     "data": {
      "text/html": [
       "<h3>asthma</h3>"
      ],
      "text/plain": [
       "<IPython.core.display.HTML object>"
      ]
     },
     "metadata": {},
     "output_type": "display_data"
    },
    {
     "data": {
      "text/html": [
       "<a href=http://robokop.renci.org/simple/view/4f0f3cc3-972b-471a-a043-1df20a9f887d>View Answer in ROBOKOP</a>"
      ],
      "text/plain": [
       "<IPython.core.display.HTML object>"
      ]
     },
     "metadata": {},
     "output_type": "display_data"
    },
    {
     "data": {
      "text/html": [
       "<div>\n",
       "<style>\n",
       "    .dataframe thead tr:only-child th {\n",
       "        text-align: right;\n",
       "    }\n",
       "\n",
       "    .dataframe thead th {\n",
       "        text-align: left;\n",
       "    }\n",
       "\n",
       "    .dataframe tbody tr th {\n",
       "        vertical-align: top;\n",
       "    }\n",
       "</style>\n",
       "<table border=\"1\" class=\"dataframe\">\n",
       "  <thead>\n",
       "    <tr style=\"text-align: right;\">\n",
       "      <th></th>\n",
       "      <th>n2 - id</th>\n",
       "      <th>n2 - name</th>\n",
       "      <th>n3 - id</th>\n",
       "      <th>n3 - name</th>\n",
       "      <th>score</th>\n",
       "    </tr>\n",
       "  </thead>\n",
       "  <tbody>\n",
       "    <tr>\n",
       "      <th>0</th>\n",
       "      <td>HGNC:7978</td>\n",
       "      <td>NR3C1</td>\n",
       "      <td>CHEBI:17650</td>\n",
       "      <td>cortisol</td>\n",
       "      <td>0.516995</td>\n",
       "    </tr>\n",
       "    <tr>\n",
       "      <th>1</th>\n",
       "      <td>HGNC:7978</td>\n",
       "      <td>NR3C1</td>\n",
       "      <td>CHEBI:3207</td>\n",
       "      <td>budesonide</td>\n",
       "      <td>0.501712</td>\n",
       "    </tr>\n",
       "    <tr>\n",
       "      <th>2</th>\n",
       "      <td>HGNC:6018</td>\n",
       "      <td>IL6</td>\n",
       "      <td>CHEBI:25812</td>\n",
       "      <td>ozone</td>\n",
       "      <td>0.499764</td>\n",
       "    </tr>\n",
       "    <tr>\n",
       "      <th>3</th>\n",
       "      <td>HGNC:6018</td>\n",
       "      <td>IL6</td>\n",
       "      <td>CHEBI:46195</td>\n",
       "      <td>paracetamol</td>\n",
       "      <td>0.499478</td>\n",
       "    </tr>\n",
       "    <tr>\n",
       "      <th>4</th>\n",
       "      <td>HGNC:404</td>\n",
       "      <td>ALDH2</td>\n",
       "      <td>CHEBI:16236</td>\n",
       "      <td>ethanol</td>\n",
       "      <td>0.491189</td>\n",
       "    </tr>\n",
       "  </tbody>\n",
       "</table>\n",
       "</div>"
      ],
      "text/plain": [
       "    n2 - id  n2 - name      n3 - id    n3 - name      score\n",
       "0  HGNC:7978      NR3C1  CHEBI:17650     cortisol  0.516995\n",
       "1  HGNC:7978      NR3C1   CHEBI:3207   budesonide  0.501712\n",
       "2  HGNC:6018        IL6  CHEBI:25812        ozone  0.499764\n",
       "3  HGNC:6018        IL6  CHEBI:46195  paracetamol  0.499478\n",
       "4   HGNC:404      ALDH2  CHEBI:16236      ethanol  0.491189"
      ]
     },
     "metadata": {},
     "output_type": "display_data"
    },
    {
     "data": {
      "text/html": [
       "<h3>osteoporosis</h3>"
      ],
      "text/plain": [
       "<IPython.core.display.HTML object>"
      ]
     },
     "metadata": {},
     "output_type": "display_data"
    },
    {
     "data": {
      "text/html": [
       "<a href=http://robokop.renci.org/simple/view/7cdda604-3a1f-43e3-90f3-b8c0aaeb594f>View Answer in ROBOKOP</a>"
      ],
      "text/plain": [
       "<IPython.core.display.HTML object>"
      ]
     },
     "metadata": {},
     "output_type": "display_data"
    },
    {
     "data": {
      "text/html": [
       "<div>\n",
       "<style>\n",
       "    .dataframe thead tr:only-child th {\n",
       "        text-align: right;\n",
       "    }\n",
       "\n",
       "    .dataframe thead th {\n",
       "        text-align: left;\n",
       "    }\n",
       "\n",
       "    .dataframe tbody tr th {\n",
       "        vertical-align: top;\n",
       "    }\n",
       "</style>\n",
       "<table border=\"1\" class=\"dataframe\">\n",
       "  <thead>\n",
       "    <tr style=\"text-align: right;\">\n",
       "      <th></th>\n",
       "      <th>n2 - id</th>\n",
       "      <th>n2 - name</th>\n",
       "      <th>n3 - id</th>\n",
       "      <th>n3 - name</th>\n",
       "      <th>score</th>\n",
       "    </tr>\n",
       "  </thead>\n",
       "  <tbody>\n",
       "    <tr>\n",
       "      <th>0</th>\n",
       "      <td>HGNC:7978</td>\n",
       "      <td>NR3C1</td>\n",
       "      <td>CHEBI:17650</td>\n",
       "      <td>cortisol</td>\n",
       "      <td>0.716151</td>\n",
       "    </tr>\n",
       "    <tr>\n",
       "      <th>1</th>\n",
       "      <td>HGNC:6018</td>\n",
       "      <td>IL6</td>\n",
       "      <td>CHEBI:16236</td>\n",
       "      <td>ethanol</td>\n",
       "      <td>0.604426</td>\n",
       "    </tr>\n",
       "    <tr>\n",
       "      <th>2</th>\n",
       "      <td>HGNC:6018</td>\n",
       "      <td>IL6</td>\n",
       "      <td>CHEBI:46195</td>\n",
       "      <td>paracetamol</td>\n",
       "      <td>0.570930</td>\n",
       "    </tr>\n",
       "    <tr>\n",
       "      <th>3</th>\n",
       "      <td>HGNC:6018</td>\n",
       "      <td>IL6</td>\n",
       "      <td>CHEBI:16240</td>\n",
       "      <td>hydrogen peroxide</td>\n",
       "      <td>0.566719</td>\n",
       "    </tr>\n",
       "    <tr>\n",
       "      <th>4</th>\n",
       "      <td>HGNC:6018</td>\n",
       "      <td>IL6</td>\n",
       "      <td>CHEBI:33216</td>\n",
       "      <td>bisphenol A</td>\n",
       "      <td>0.558521</td>\n",
       "    </tr>\n",
       "  </tbody>\n",
       "</table>\n",
       "</div>"
      ],
      "text/plain": [
       "    n2 - id  n2 - name      n3 - id          n3 - name      score\n",
       "0  HGNC:7978      NR3C1  CHEBI:17650           cortisol  0.716151\n",
       "1  HGNC:6018        IL6  CHEBI:16236            ethanol  0.604426\n",
       "2  HGNC:6018        IL6  CHEBI:46195        paracetamol  0.570930\n",
       "3  HGNC:6018        IL6  CHEBI:16240  hydrogen peroxide  0.566719\n",
       "4  HGNC:6018        IL6  CHEBI:33216        bisphenol A  0.558521"
      ]
     },
     "metadata": {},
     "output_type": "display_data"
    },
    {
     "data": {
      "text/html": [
       "<h3>pulmonary edema</h3>"
      ],
      "text/plain": [
       "<IPython.core.display.HTML object>"
      ]
     },
     "metadata": {},
     "output_type": "display_data"
    },
    {
     "data": {
      "text/html": [
       "<a href=http://robokop.renci.org/simple/view/d1b07337-833e-4717-884e-8bdfd3a032a7>View Answer in ROBOKOP</a>"
      ],
      "text/plain": [
       "<IPython.core.display.HTML object>"
      ]
     },
     "metadata": {},
     "output_type": "display_data"
    },
    {
     "data": {
      "text/html": [
       "<div>\n",
       "<style>\n",
       "    .dataframe thead tr:only-child th {\n",
       "        text-align: right;\n",
       "    }\n",
       "\n",
       "    .dataframe thead th {\n",
       "        text-align: left;\n",
       "    }\n",
       "\n",
       "    .dataframe tbody tr th {\n",
       "        vertical-align: top;\n",
       "    }\n",
       "</style>\n",
       "<table border=\"1\" class=\"dataframe\">\n",
       "  <thead>\n",
       "    <tr style=\"text-align: right;\">\n",
       "      <th></th>\n",
       "      <th>n2 - id</th>\n",
       "      <th>n2 - name</th>\n",
       "      <th>n3 - id</th>\n",
       "      <th>n3 - name</th>\n",
       "      <th>score</th>\n",
       "    </tr>\n",
       "  </thead>\n",
       "  <tbody>\n",
       "    <tr>\n",
       "      <th>0</th>\n",
       "      <td>HGNC:3796</td>\n",
       "      <td>FOS</td>\n",
       "      <td>CHEBI:2679</td>\n",
       "      <td>amphetamine</td>\n",
       "      <td>0.692647</td>\n",
       "    </tr>\n",
       "    <tr>\n",
       "      <th>1</th>\n",
       "      <td>HGNC:3023</td>\n",
       "      <td>DRD2</td>\n",
       "      <td>CHEBI:18243</td>\n",
       "      <td>dopamine</td>\n",
       "      <td>0.671040</td>\n",
       "    </tr>\n",
       "    <tr>\n",
       "      <th>2</th>\n",
       "      <td>HGNC:3024</td>\n",
       "      <td>DRD3</td>\n",
       "      <td>CHEBI:18243</td>\n",
       "      <td>dopamine</td>\n",
       "      <td>0.660264</td>\n",
       "    </tr>\n",
       "    <tr>\n",
       "      <th>3</th>\n",
       "      <td>HGNC:3020</td>\n",
       "      <td>DRD1</td>\n",
       "      <td>CHEBI:18243</td>\n",
       "      <td>dopamine</td>\n",
       "      <td>0.657603</td>\n",
       "    </tr>\n",
       "    <tr>\n",
       "      <th>4</th>\n",
       "      <td>HGNC:6877</td>\n",
       "      <td>MAPK3</td>\n",
       "      <td>CHEBI:18243</td>\n",
       "      <td>dopamine</td>\n",
       "      <td>0.643858</td>\n",
       "    </tr>\n",
       "  </tbody>\n",
       "</table>\n",
       "</div>"
      ],
      "text/plain": [
       "    n2 - id  n2 - name      n3 - id    n3 - name      score\n",
       "0  HGNC:3796        FOS   CHEBI:2679  amphetamine  0.692647\n",
       "1  HGNC:3023       DRD2  CHEBI:18243     dopamine  0.671040\n",
       "2  HGNC:3024       DRD3  CHEBI:18243     dopamine  0.660264\n",
       "3  HGNC:3020       DRD1  CHEBI:18243     dopamine  0.657603\n",
       "4  HGNC:6877      MAPK3  CHEBI:18243     dopamine  0.643858"
      ]
     },
     "metadata": {},
     "output_type": "display_data"
    },
    {
     "data": {
      "text/html": [
       "<h3>Parkinson disease</h3>"
      ],
      "text/plain": [
       "<IPython.core.display.HTML object>"
      ]
     },
     "metadata": {},
     "output_type": "display_data"
    },
    {
     "data": {
      "text/html": [
       "<a href=http://robokop.renci.org/simple/view/be5536fa-0adc-430a-aec8-a57d6435af43>View Answer in ROBOKOP</a>"
      ],
      "text/plain": [
       "<IPython.core.display.HTML object>"
      ]
     },
     "metadata": {},
     "output_type": "display_data"
    },
    {
     "data": {
      "text/html": [
       "<div>\n",
       "<style>\n",
       "    .dataframe thead tr:only-child th {\n",
       "        text-align: right;\n",
       "    }\n",
       "\n",
       "    .dataframe thead th {\n",
       "        text-align: left;\n",
       "    }\n",
       "\n",
       "    .dataframe tbody tr th {\n",
       "        vertical-align: top;\n",
       "    }\n",
       "</style>\n",
       "<table border=\"1\" class=\"dataframe\">\n",
       "  <thead>\n",
       "    <tr style=\"text-align: right;\">\n",
       "      <th></th>\n",
       "      <th>n2 - id</th>\n",
       "      <th>n2 - name</th>\n",
       "      <th>n3 - id</th>\n",
       "      <th>n3 - name</th>\n",
       "      <th>score</th>\n",
       "    </tr>\n",
       "  </thead>\n",
       "  <tbody>\n",
       "    <tr>\n",
       "      <th>0</th>\n",
       "      <td>HGNC:667</td>\n",
       "      <td>RHOA</td>\n",
       "      <td>CHEBI:18243</td>\n",
       "      <td>dopamine</td>\n",
       "      <td>1.090633</td>\n",
       "    </tr>\n",
       "    <tr>\n",
       "      <th>1</th>\n",
       "      <td>HGNC:6871</td>\n",
       "      <td>MAPK1</td>\n",
       "      <td>CHEBI:18243</td>\n",
       "      <td>dopamine</td>\n",
       "      <td>1.078417</td>\n",
       "    </tr>\n",
       "    <tr>\n",
       "      <th>2</th>\n",
       "      <td>HGNC:6877</td>\n",
       "      <td>MAPK3</td>\n",
       "      <td>CHEBI:18243</td>\n",
       "      <td>dopamine</td>\n",
       "      <td>1.026471</td>\n",
       "    </tr>\n",
       "    <tr>\n",
       "      <th>3</th>\n",
       "      <td>HGNC:1516</td>\n",
       "      <td>CAT</td>\n",
       "      <td>CHEBI:16240</td>\n",
       "      <td>hydrogen peroxide</td>\n",
       "      <td>0.682619</td>\n",
       "    </tr>\n",
       "    <tr>\n",
       "      <th>4</th>\n",
       "      <td>HGNC:11138</td>\n",
       "      <td>SNCA</td>\n",
       "      <td>CHEBI:28201</td>\n",
       "      <td>rotenone</td>\n",
       "      <td>0.668856</td>\n",
       "    </tr>\n",
       "  </tbody>\n",
       "</table>\n",
       "</div>"
      ],
      "text/plain": [
       "     n2 - id  n2 - name      n3 - id          n3 - name      score\n",
       "0    HGNC:667       RHOA  CHEBI:18243           dopamine  1.090633\n",
       "1   HGNC:6871      MAPK1  CHEBI:18243           dopamine  1.078417\n",
       "2   HGNC:6877      MAPK3  CHEBI:18243           dopamine  1.026471\n",
       "3   HGNC:1516        CAT  CHEBI:16240  hydrogen peroxide  0.682619\n",
       "4  HGNC:11138       SNCA  CHEBI:28201           rotenone  0.668856"
      ]
     },
     "metadata": {},
     "output_type": "display_data"
    },
    {
     "data": {
      "text/html": [
       "<h3>arteriolosclerosis</h3>"
      ],
      "text/plain": [
       "<IPython.core.display.HTML object>"
      ]
     },
     "metadata": {},
     "output_type": "display_data"
    },
    {
     "data": {
      "text/html": [
       "<a href=http://robokop.renci.org/simple/view/de9bf008-77c2-45eb-9706-b98f2736793a>View Answer in ROBOKOP</a>"
      ],
      "text/plain": [
       "<IPython.core.display.HTML object>"
      ]
     },
     "metadata": {},
     "output_type": "display_data"
    },
    {
     "data": {
      "text/html": [
       "<div>\n",
       "<style>\n",
       "    .dataframe thead tr:only-child th {\n",
       "        text-align: right;\n",
       "    }\n",
       "\n",
       "    .dataframe thead th {\n",
       "        text-align: left;\n",
       "    }\n",
       "\n",
       "    .dataframe tbody tr th {\n",
       "        vertical-align: top;\n",
       "    }\n",
       "</style>\n",
       "<table border=\"1\" class=\"dataframe\">\n",
       "  <thead>\n",
       "    <tr style=\"text-align: right;\">\n",
       "      <th></th>\n",
       "    </tr>\n",
       "  </thead>\n",
       "  <tbody>\n",
       "  </tbody>\n",
       "</table>\n",
       "</div>"
      ],
      "text/plain": [
       "Empty DataFrame\n",
       "Columns: []\n",
       "Index: []"
      ]
     },
     "metadata": {},
     "output_type": "display_data"
    },
    {
     "data": {
      "text/html": [
       "<h3>schizophrenia</h3>"
      ],
      "text/plain": [
       "<IPython.core.display.HTML object>"
      ]
     },
     "metadata": {},
     "output_type": "display_data"
    },
    {
     "data": {
      "text/html": [
       "<a href=http://robokop.renci.org/simple/view/443ffbd3-13f5-4573-953e-280266622d5b>View Answer in ROBOKOP</a>"
      ],
      "text/plain": [
       "<IPython.core.display.HTML object>"
      ]
     },
     "metadata": {},
     "output_type": "display_data"
    },
    {
     "data": {
      "text/html": [
       "<div>\n",
       "<style>\n",
       "    .dataframe thead tr:only-child th {\n",
       "        text-align: right;\n",
       "    }\n",
       "\n",
       "    .dataframe thead th {\n",
       "        text-align: left;\n",
       "    }\n",
       "\n",
       "    .dataframe tbody tr th {\n",
       "        vertical-align: top;\n",
       "    }\n",
       "</style>\n",
       "<table border=\"1\" class=\"dataframe\">\n",
       "  <thead>\n",
       "    <tr style=\"text-align: right;\">\n",
       "      <th></th>\n",
       "      <th>n2 - id</th>\n",
       "      <th>n2 - name</th>\n",
       "      <th>n3 - id</th>\n",
       "      <th>n3 - name</th>\n",
       "      <th>score</th>\n",
       "    </tr>\n",
       "  </thead>\n",
       "  <tbody>\n",
       "    <tr>\n",
       "      <th>0</th>\n",
       "      <td>HGNC:3023</td>\n",
       "      <td>DRD2</td>\n",
       "      <td>CHEBI:18243</td>\n",
       "      <td>dopamine</td>\n",
       "      <td>0.822999</td>\n",
       "    </tr>\n",
       "    <tr>\n",
       "      <th>1</th>\n",
       "      <td>HGNC:3024</td>\n",
       "      <td>DRD3</td>\n",
       "      <td>CHEBI:18243</td>\n",
       "      <td>dopamine</td>\n",
       "      <td>0.812756</td>\n",
       "    </tr>\n",
       "    <tr>\n",
       "      <th>2</th>\n",
       "      <td>HGNC:3020</td>\n",
       "      <td>DRD1</td>\n",
       "      <td>CHEBI:18243</td>\n",
       "      <td>dopamine</td>\n",
       "      <td>0.811302</td>\n",
       "    </tr>\n",
       "    <tr>\n",
       "      <th>3</th>\n",
       "      <td>HGNC:3024</td>\n",
       "      <td>DRD3</td>\n",
       "      <td>CHEBI:18243</td>\n",
       "      <td>dopamine</td>\n",
       "      <td>0.805151</td>\n",
       "    </tr>\n",
       "    <tr>\n",
       "      <th>4</th>\n",
       "      <td>HGNC:6877</td>\n",
       "      <td>MAPK3</td>\n",
       "      <td>CHEBI:18243</td>\n",
       "      <td>dopamine</td>\n",
       "      <td>0.794653</td>\n",
       "    </tr>\n",
       "  </tbody>\n",
       "</table>\n",
       "</div>"
      ],
      "text/plain": [
       "    n2 - id  n2 - name      n3 - id  n3 - name      score\n",
       "0  HGNC:3023       DRD2  CHEBI:18243   dopamine  0.822999\n",
       "1  HGNC:3024       DRD3  CHEBI:18243   dopamine  0.812756\n",
       "2  HGNC:3020       DRD1  CHEBI:18243   dopamine  0.811302\n",
       "3  HGNC:3024       DRD3  CHEBI:18243   dopamine  0.805151\n",
       "4  HGNC:6877      MAPK3  CHEBI:18243   dopamine  0.794653"
      ]
     },
     "metadata": {},
     "output_type": "display_data"
    },
    {
     "data": {
      "text/html": [
       "<h3>hypopituitarism</h3>"
      ],
      "text/plain": [
       "<IPython.core.display.HTML object>"
      ]
     },
     "metadata": {},
     "output_type": "display_data"
    },
    {
     "data": {
      "text/html": [
       "<a href=http://robokop.renci.org/simple/view/e070516d-9719-4650-8900-3d378815f2b7>View Answer in ROBOKOP</a>"
      ],
      "text/plain": [
       "<IPython.core.display.HTML object>"
      ]
     },
     "metadata": {},
     "output_type": "display_data"
    },
    {
     "data": {
      "text/html": [
       "<div>\n",
       "<style>\n",
       "    .dataframe thead tr:only-child th {\n",
       "        text-align: right;\n",
       "    }\n",
       "\n",
       "    .dataframe thead th {\n",
       "        text-align: left;\n",
       "    }\n",
       "\n",
       "    .dataframe tbody tr th {\n",
       "        vertical-align: top;\n",
       "    }\n",
       "</style>\n",
       "<table border=\"1\" class=\"dataframe\">\n",
       "  <thead>\n",
       "    <tr style=\"text-align: right;\">\n",
       "      <th></th>\n",
       "      <th>n2 - id</th>\n",
       "      <th>n2 - name</th>\n",
       "      <th>n3 - id</th>\n",
       "      <th>n3 - name</th>\n",
       "      <th>score</th>\n",
       "    </tr>\n",
       "  </thead>\n",
       "  <tbody>\n",
       "    <tr>\n",
       "      <th>0</th>\n",
       "      <td>HGNC:7978</td>\n",
       "      <td>NR3C1</td>\n",
       "      <td>CHEBI:17650</td>\n",
       "      <td>cortisol</td>\n",
       "      <td>0.565927</td>\n",
       "    </tr>\n",
       "    <tr>\n",
       "      <th>1</th>\n",
       "      <td>HGNC:3796</td>\n",
       "      <td>FOS</td>\n",
       "      <td>CHEBI:17303</td>\n",
       "      <td>morphine</td>\n",
       "      <td>0.496821</td>\n",
       "    </tr>\n",
       "    <tr>\n",
       "      <th>2</th>\n",
       "      <td>HGNC:3796</td>\n",
       "      <td>FOS</td>\n",
       "      <td>CHEBI:2679</td>\n",
       "      <td>amphetamine</td>\n",
       "      <td>0.487054</td>\n",
       "    </tr>\n",
       "    <tr>\n",
       "      <th>3</th>\n",
       "      <td>HGNC:2637</td>\n",
       "      <td>CYP3A4</td>\n",
       "      <td>CHEBI:41879</td>\n",
       "      <td>dexamethasone</td>\n",
       "      <td>0.466179</td>\n",
       "    </tr>\n",
       "    <tr>\n",
       "      <th>4</th>\n",
       "      <td>HGNC:6018</td>\n",
       "      <td>IL6</td>\n",
       "      <td>CHEBI:17303</td>\n",
       "      <td>morphine</td>\n",
       "      <td>0.465486</td>\n",
       "    </tr>\n",
       "  </tbody>\n",
       "</table>\n",
       "</div>"
      ],
      "text/plain": [
       "    n2 - id  n2 - name      n3 - id      n3 - name      score\n",
       "0  HGNC:7978      NR3C1  CHEBI:17650       cortisol  0.565927\n",
       "1  HGNC:3796        FOS  CHEBI:17303       morphine  0.496821\n",
       "2  HGNC:3796        FOS   CHEBI:2679    amphetamine  0.487054\n",
       "3  HGNC:2637     CYP3A4  CHEBI:41879  dexamethasone  0.466179\n",
       "4  HGNC:6018        IL6  CHEBI:17303       morphine  0.465486"
      ]
     },
     "metadata": {},
     "output_type": "display_data"
    },
    {
     "data": {
      "text/html": [
       "<h3>facial paralysis</h3>"
      ],
      "text/plain": [
       "<IPython.core.display.HTML object>"
      ]
     },
     "metadata": {},
     "output_type": "display_data"
    },
    {
     "data": {
      "text/html": [
       "<a href=http://robokop.renci.org/simple/view/aac7f837-50d9-4b00-9216-5846c35f2834>View Answer in ROBOKOP</a>"
      ],
      "text/plain": [
       "<IPython.core.display.HTML object>"
      ]
     },
     "metadata": {},
     "output_type": "display_data"
    },
    {
     "data": {
      "text/html": [
       "<div>\n",
       "<style>\n",
       "    .dataframe thead tr:only-child th {\n",
       "        text-align: right;\n",
       "    }\n",
       "\n",
       "    .dataframe thead th {\n",
       "        text-align: left;\n",
       "    }\n",
       "\n",
       "    .dataframe tbody tr th {\n",
       "        vertical-align: top;\n",
       "    }\n",
       "</style>\n",
       "<table border=\"1\" class=\"dataframe\">\n",
       "  <thead>\n",
       "    <tr style=\"text-align: right;\">\n",
       "      <th></th>\n",
       "      <th>n2 - id</th>\n",
       "      <th>n2 - name</th>\n",
       "      <th>n3 - id</th>\n",
       "      <th>n3 - name</th>\n",
       "      <th>score</th>\n",
       "    </tr>\n",
       "  </thead>\n",
       "  <tbody>\n",
       "    <tr>\n",
       "      <th>0</th>\n",
       "      <td>HGNC:40</td>\n",
       "      <td>ABCB1</td>\n",
       "      <td>CHEBI:45863</td>\n",
       "      <td>paclitaxel</td>\n",
       "      <td>0.527475</td>\n",
       "    </tr>\n",
       "    <tr>\n",
       "      <th>1</th>\n",
       "      <td>HGNC:40</td>\n",
       "      <td>ABCB1</td>\n",
       "      <td>CHEBI:28077</td>\n",
       "      <td>rifampicin</td>\n",
       "      <td>0.491038</td>\n",
       "    </tr>\n",
       "    <tr>\n",
       "      <th>2</th>\n",
       "      <td>HGNC:40</td>\n",
       "      <td>ABCB1</td>\n",
       "      <td>CHEBI:39867</td>\n",
       "      <td>valproic acid</td>\n",
       "      <td>0.477221</td>\n",
       "    </tr>\n",
       "    <tr>\n",
       "      <th>3</th>\n",
       "      <td>HGNC:5464</td>\n",
       "      <td>IGF1</td>\n",
       "      <td>CHEBI:17026</td>\n",
       "      <td>progesterone</td>\n",
       "      <td>0.472310</td>\n",
       "    </tr>\n",
       "    <tr>\n",
       "      <th>4</th>\n",
       "      <td>HGNC:40</td>\n",
       "      <td>ABCB1</td>\n",
       "      <td>CHEBI:8069</td>\n",
       "      <td>phenobarbital</td>\n",
       "      <td>0.471321</td>\n",
       "    </tr>\n",
       "  </tbody>\n",
       "</table>\n",
       "</div>"
      ],
      "text/plain": [
       "    n2 - id  n2 - name      n3 - id      n3 - name      score\n",
       "0    HGNC:40      ABCB1  CHEBI:45863     paclitaxel  0.527475\n",
       "1    HGNC:40      ABCB1  CHEBI:28077     rifampicin  0.491038\n",
       "2    HGNC:40      ABCB1  CHEBI:39867  valproic acid  0.477221\n",
       "3  HGNC:5464       IGF1  CHEBI:17026   progesterone  0.472310\n",
       "4    HGNC:40      ABCB1   CHEBI:8069  phenobarbital  0.471321"
      ]
     },
     "metadata": {},
     "output_type": "display_data"
    },
    {
     "data": {
      "text/html": [
       "<h3>polyneuropathy</h3>"
      ],
      "text/plain": [
       "<IPython.core.display.HTML object>"
      ]
     },
     "metadata": {},
     "output_type": "display_data"
    },
    {
     "data": {
      "text/html": [
       "<a href=http://robokop.renci.org/simple/view/478e88c6-71bb-481d-a7c2-201657f4567b>View Answer in ROBOKOP</a>"
      ],
      "text/plain": [
       "<IPython.core.display.HTML object>"
      ]
     },
     "metadata": {},
     "output_type": "display_data"
    },
    {
     "data": {
      "text/html": [
       "<div>\n",
       "<style>\n",
       "    .dataframe thead tr:only-child th {\n",
       "        text-align: right;\n",
       "    }\n",
       "\n",
       "    .dataframe thead th {\n",
       "        text-align: left;\n",
       "    }\n",
       "\n",
       "    .dataframe tbody tr th {\n",
       "        vertical-align: top;\n",
       "    }\n",
       "</style>\n",
       "<table border=\"1\" class=\"dataframe\">\n",
       "  <thead>\n",
       "    <tr style=\"text-align: right;\">\n",
       "      <th></th>\n",
       "      <th>n2 - id</th>\n",
       "      <th>n2 - name</th>\n",
       "      <th>n3 - id</th>\n",
       "      <th>n3 - name</th>\n",
       "      <th>score</th>\n",
       "    </tr>\n",
       "  </thead>\n",
       "  <tbody>\n",
       "    <tr>\n",
       "      <th>0</th>\n",
       "      <td>HGNC:11998</td>\n",
       "      <td>TP53</td>\n",
       "      <td>CHEBI:4911</td>\n",
       "      <td>etoposide</td>\n",
       "      <td>0.703584</td>\n",
       "    </tr>\n",
       "    <tr>\n",
       "      <th>1</th>\n",
       "      <td>HGNC:11998</td>\n",
       "      <td>TP53</td>\n",
       "      <td>CHEBI:46345</td>\n",
       "      <td>5-fluorouracil</td>\n",
       "      <td>0.702902</td>\n",
       "    </tr>\n",
       "    <tr>\n",
       "      <th>2</th>\n",
       "      <td>HGNC:40</td>\n",
       "      <td>ABCB1</td>\n",
       "      <td>CHEBI:45863</td>\n",
       "      <td>paclitaxel</td>\n",
       "      <td>0.689307</td>\n",
       "    </tr>\n",
       "    <tr>\n",
       "      <th>3</th>\n",
       "      <td>HGNC:11998</td>\n",
       "      <td>TP53</td>\n",
       "      <td>CHEBI:175901</td>\n",
       "      <td>gemcitabine</td>\n",
       "      <td>0.648136</td>\n",
       "    </tr>\n",
       "    <tr>\n",
       "      <th>4</th>\n",
       "      <td>HGNC:11998</td>\n",
       "      <td>TP53</td>\n",
       "      <td>CHEBI:31941</td>\n",
       "      <td>oxaliplatin</td>\n",
       "      <td>0.638767</td>\n",
       "    </tr>\n",
       "  </tbody>\n",
       "</table>\n",
       "</div>"
      ],
      "text/plain": [
       "     n2 - id  n2 - name       n3 - id       n3 - name      score\n",
       "0  HGNC:11998       TP53    CHEBI:4911       etoposide  0.703584\n",
       "1  HGNC:11998       TP53   CHEBI:46345  5-fluorouracil  0.702902\n",
       "2     HGNC:40      ABCB1   CHEBI:45863      paclitaxel  0.689307\n",
       "3  HGNC:11998       TP53  CHEBI:175901     gemcitabine  0.648136\n",
       "4  HGNC:11998       TP53   CHEBI:31941     oxaliplatin  0.638767"
      ]
     },
     "metadata": {},
     "output_type": "display_data"
    },
    {
     "data": {
      "text/html": [
       "<h3>multiple sclerosis</h3>"
      ],
      "text/plain": [
       "<IPython.core.display.HTML object>"
      ]
     },
     "metadata": {},
     "output_type": "display_data"
    },
    {
     "data": {
      "text/html": [
       "<a href=http://robokop.renci.org/simple/view/b18ea2a4-90a2-4147-b619-3204c95f15db>View Answer in ROBOKOP</a>"
      ],
      "text/plain": [
       "<IPython.core.display.HTML object>"
      ]
     },
     "metadata": {},
     "output_type": "display_data"
    },
    {
     "data": {
      "text/html": [
       "<div>\n",
       "<style>\n",
       "    .dataframe thead tr:only-child th {\n",
       "        text-align: right;\n",
       "    }\n",
       "\n",
       "    .dataframe thead th {\n",
       "        text-align: left;\n",
       "    }\n",
       "\n",
       "    .dataframe tbody tr th {\n",
       "        vertical-align: top;\n",
       "    }\n",
       "</style>\n",
       "<table border=\"1\" class=\"dataframe\">\n",
       "  <thead>\n",
       "    <tr style=\"text-align: right;\">\n",
       "      <th></th>\n",
       "      <th>n2 - id</th>\n",
       "      <th>n2 - name</th>\n",
       "      <th>n3 - id</th>\n",
       "      <th>n3 - name</th>\n",
       "      <th>score</th>\n",
       "    </tr>\n",
       "  </thead>\n",
       "  <tbody>\n",
       "    <tr>\n",
       "      <th>0</th>\n",
       "      <td>HGNC:7782</td>\n",
       "      <td>NFE2L2</td>\n",
       "      <td>CHEBI:16243</td>\n",
       "      <td>quercetin</td>\n",
       "      <td>0.435472</td>\n",
       "    </tr>\n",
       "    <tr>\n",
       "      <th>1</th>\n",
       "      <td>HGNC:1516</td>\n",
       "      <td>CAT</td>\n",
       "      <td>CHEBI:16240</td>\n",
       "      <td>hydrogen peroxide</td>\n",
       "      <td>0.434348</td>\n",
       "    </tr>\n",
       "    <tr>\n",
       "      <th>2</th>\n",
       "      <td>HGNC:1516</td>\n",
       "      <td>CAT</td>\n",
       "      <td>CHEBI:33216</td>\n",
       "      <td>bisphenol A</td>\n",
       "      <td>0.423825</td>\n",
       "    </tr>\n",
       "    <tr>\n",
       "      <th>3</th>\n",
       "      <td>HGNC:1516</td>\n",
       "      <td>CAT</td>\n",
       "      <td>CHEBI:9288</td>\n",
       "      <td>streptozocin</td>\n",
       "      <td>0.422588</td>\n",
       "    </tr>\n",
       "    <tr>\n",
       "      <th>4</th>\n",
       "      <td>HGNC:1516</td>\n",
       "      <td>CAT</td>\n",
       "      <td>CHEBI:28201</td>\n",
       "      <td>rotenone</td>\n",
       "      <td>0.420294</td>\n",
       "    </tr>\n",
       "  </tbody>\n",
       "</table>\n",
       "</div>"
      ],
      "text/plain": [
       "    n2 - id  n2 - name      n3 - id          n3 - name      score\n",
       "0  HGNC:7782     NFE2L2  CHEBI:16243          quercetin  0.435472\n",
       "1  HGNC:1516        CAT  CHEBI:16240  hydrogen peroxide  0.434348\n",
       "2  HGNC:1516        CAT  CHEBI:33216        bisphenol A  0.423825\n",
       "3  HGNC:1516        CAT   CHEBI:9288       streptozocin  0.422588\n",
       "4  HGNC:1516        CAT  CHEBI:28201           rotenone  0.420294"
      ]
     },
     "metadata": {},
     "output_type": "display_data"
    },
    {
     "data": {
      "text/html": [
       "<h3>alcoholic liver cirrhosis</h3>"
      ],
      "text/plain": [
       "<IPython.core.display.HTML object>"
      ]
     },
     "metadata": {},
     "output_type": "display_data"
    },
    {
     "data": {
      "text/html": [
       "<a href=http://robokop.renci.org/simple/view/4c733efa-a510-4df6-98c0-b3fc6f6b5f4b>View Answer in ROBOKOP</a>"
      ],
      "text/plain": [
       "<IPython.core.display.HTML object>"
      ]
     },
     "metadata": {},
     "output_type": "display_data"
    },
    {
     "data": {
      "text/html": [
       "<div>\n",
       "<style>\n",
       "    .dataframe thead tr:only-child th {\n",
       "        text-align: right;\n",
       "    }\n",
       "\n",
       "    .dataframe thead th {\n",
       "        text-align: left;\n",
       "    }\n",
       "\n",
       "    .dataframe tbody tr th {\n",
       "        vertical-align: top;\n",
       "    }\n",
       "</style>\n",
       "<table border=\"1\" class=\"dataframe\">\n",
       "  <thead>\n",
       "    <tr style=\"text-align: right;\">\n",
       "      <th></th>\n",
       "      <th>n2 - id</th>\n",
       "      <th>n2 - name</th>\n",
       "      <th>n3 - id</th>\n",
       "      <th>n3 - name</th>\n",
       "      <th>score</th>\n",
       "    </tr>\n",
       "  </thead>\n",
       "  <tbody>\n",
       "    <tr>\n",
       "      <th>0</th>\n",
       "      <td>HGNC:1516</td>\n",
       "      <td>CAT</td>\n",
       "      <td>CHEBI:16240</td>\n",
       "      <td>hydrogen peroxide</td>\n",
       "      <td>0.574671</td>\n",
       "    </tr>\n",
       "    <tr>\n",
       "      <th>1</th>\n",
       "      <td>HGNC:6018</td>\n",
       "      <td>IL6</td>\n",
       "      <td>CHEBI:16240</td>\n",
       "      <td>hydrogen peroxide</td>\n",
       "      <td>0.568475</td>\n",
       "    </tr>\n",
       "    <tr>\n",
       "      <th>2</th>\n",
       "      <td>HGNC:6018</td>\n",
       "      <td>IL6</td>\n",
       "      <td>CHEBI:46195</td>\n",
       "      <td>paracetamol</td>\n",
       "      <td>0.553840</td>\n",
       "    </tr>\n",
       "    <tr>\n",
       "      <th>3</th>\n",
       "      <td>HGNC:6018</td>\n",
       "      <td>IL6</td>\n",
       "      <td>CHEBI:17303</td>\n",
       "      <td>morphine</td>\n",
       "      <td>0.531337</td>\n",
       "    </tr>\n",
       "    <tr>\n",
       "      <th>4</th>\n",
       "      <td>HGNC:5013</td>\n",
       "      <td>HMOX1</td>\n",
       "      <td>CHEBI:16240</td>\n",
       "      <td>hydrogen peroxide</td>\n",
       "      <td>0.527748</td>\n",
       "    </tr>\n",
       "  </tbody>\n",
       "</table>\n",
       "</div>"
      ],
      "text/plain": [
       "    n2 - id  n2 - name      n3 - id          n3 - name      score\n",
       "0  HGNC:1516        CAT  CHEBI:16240  hydrogen peroxide  0.574671\n",
       "1  HGNC:6018        IL6  CHEBI:16240  hydrogen peroxide  0.568475\n",
       "2  HGNC:6018        IL6  CHEBI:46195        paracetamol  0.553840\n",
       "3  HGNC:6018        IL6  CHEBI:17303           morphine  0.531337\n",
       "4  HGNC:5013      HMOX1  CHEBI:16240  hydrogen peroxide  0.527748"
      ]
     },
     "metadata": {},
     "output_type": "display_data"
    },
    {
     "data": {
      "text/html": [
       "<h3>xeroderma pigmentosum</h3>"
      ],
      "text/plain": [
       "<IPython.core.display.HTML object>"
      ]
     },
     "metadata": {},
     "output_type": "display_data"
    },
    {
     "data": {
      "text/html": [
       "<a href=http://robokop.renci.org/simple/view/45db41ed-aa88-49dd-b33b-211bef046374>View Answer in ROBOKOP</a>"
      ],
      "text/plain": [
       "<IPython.core.display.HTML object>"
      ]
     },
     "metadata": {},
     "output_type": "display_data"
    },
    {
     "data": {
      "text/html": [
       "<div>\n",
       "<style>\n",
       "    .dataframe thead tr:only-child th {\n",
       "        text-align: right;\n",
       "    }\n",
       "\n",
       "    .dataframe thead th {\n",
       "        text-align: left;\n",
       "    }\n",
       "\n",
       "    .dataframe tbody tr th {\n",
       "        vertical-align: top;\n",
       "    }\n",
       "</style>\n",
       "<table border=\"1\" class=\"dataframe\">\n",
       "  <thead>\n",
       "    <tr style=\"text-align: right;\">\n",
       "      <th></th>\n",
       "      <th>n2 - id</th>\n",
       "      <th>n2 - name</th>\n",
       "      <th>n3 - id</th>\n",
       "      <th>n3 - name</th>\n",
       "      <th>score</th>\n",
       "    </tr>\n",
       "  </thead>\n",
       "  <tbody>\n",
       "    <tr>\n",
       "      <th>0</th>\n",
       "      <td>HGNC:1046</td>\n",
       "      <td>BHLHE40</td>\n",
       "      <td>CHEBI:4031</td>\n",
       "      <td>cyclosporin A</td>\n",
       "      <td>0.288036</td>\n",
       "    </tr>\n",
       "    <tr>\n",
       "      <th>1</th>\n",
       "      <td>HGNC:1046</td>\n",
       "      <td>BHLHE40</td>\n",
       "      <td>CHEBI:33216</td>\n",
       "      <td>bisphenol A</td>\n",
       "      <td>0.261152</td>\n",
       "    </tr>\n",
       "    <tr>\n",
       "      <th>2</th>\n",
       "      <td>HGNC:1046</td>\n",
       "      <td>BHLHE40</td>\n",
       "      <td>CHEBI:39867</td>\n",
       "      <td>valproic acid</td>\n",
       "      <td>0.195685</td>\n",
       "    </tr>\n",
       "    <tr>\n",
       "      <th>3</th>\n",
       "      <td>HGNC:1046</td>\n",
       "      <td>BHLHE40</td>\n",
       "      <td>CHEBI:26689</td>\n",
       "      <td>singlet dioxygen</td>\n",
       "      <td>0.194059</td>\n",
       "    </tr>\n",
       "    <tr>\n",
       "      <th>4</th>\n",
       "      <td>HGNC:1046</td>\n",
       "      <td>BHLHE40</td>\n",
       "      <td>CHEBI:27140</td>\n",
       "      <td>triplet dioxygen</td>\n",
       "      <td>0.169128</td>\n",
       "    </tr>\n",
       "  </tbody>\n",
       "</table>\n",
       "</div>"
      ],
      "text/plain": [
       "    n2 - id  n2 - name      n3 - id         n3 - name      score\n",
       "0  HGNC:1046    BHLHE40   CHEBI:4031     cyclosporin A  0.288036\n",
       "1  HGNC:1046    BHLHE40  CHEBI:33216       bisphenol A  0.261152\n",
       "2  HGNC:1046    BHLHE40  CHEBI:39867     valproic acid  0.195685\n",
       "3  HGNC:1046    BHLHE40  CHEBI:26689  singlet dioxygen  0.194059\n",
       "4  HGNC:1046    BHLHE40  CHEBI:27140  triplet dioxygen  0.169128"
      ]
     },
     "metadata": {},
     "output_type": "display_data"
    },
    {
     "data": {
      "text/html": [
       "<h3>cockayne syndrome</h3>"
      ],
      "text/plain": [
       "<IPython.core.display.HTML object>"
      ]
     },
     "metadata": {},
     "output_type": "display_data"
    },
    {
     "data": {
      "text/html": [
       "<a href=http://robokop.renci.org/simple/view/10a49138-674b-448b-9d33-75a7f67eb9c7>View Answer in ROBOKOP</a>"
      ],
      "text/plain": [
       "<IPython.core.display.HTML object>"
      ]
     },
     "metadata": {},
     "output_type": "display_data"
    },
    {
     "data": {
      "text/html": [
       "<div>\n",
       "<style>\n",
       "    .dataframe thead tr:only-child th {\n",
       "        text-align: right;\n",
       "    }\n",
       "\n",
       "    .dataframe thead th {\n",
       "        text-align: left;\n",
       "    }\n",
       "\n",
       "    .dataframe tbody tr th {\n",
       "        vertical-align: top;\n",
       "    }\n",
       "</style>\n",
       "<table border=\"1\" class=\"dataframe\">\n",
       "  <thead>\n",
       "    <tr style=\"text-align: right;\">\n",
       "      <th></th>\n",
       "    </tr>\n",
       "  </thead>\n",
       "  <tbody>\n",
       "  </tbody>\n",
       "</table>\n",
       "</div>"
      ],
      "text/plain": [
       "Empty DataFrame\n",
       "Columns: []\n",
       "Index: []"
      ]
     },
     "metadata": {},
     "output_type": "display_data"
    },
    {
     "data": {
      "text/html": [
       "<h3>UV-sensitive syndrome</h3>"
      ],
      "text/plain": [
       "<IPython.core.display.HTML object>"
      ]
     },
     "metadata": {},
     "output_type": "display_data"
    },
    {
     "data": {
      "text/html": [
       "<a href=http://robokop.renci.org/simple/view/86626c42-49cf-4b1b-928f-32d1d5ab16ed>View Answer in ROBOKOP</a>"
      ],
      "text/plain": [
       "<IPython.core.display.HTML object>"
      ]
     },
     "metadata": {},
     "output_type": "display_data"
    },
    {
     "data": {
      "text/html": [
       "<div>\n",
       "<style>\n",
       "    .dataframe thead tr:only-child th {\n",
       "        text-align: right;\n",
       "    }\n",
       "\n",
       "    .dataframe thead th {\n",
       "        text-align: left;\n",
       "    }\n",
       "\n",
       "    .dataframe tbody tr th {\n",
       "        vertical-align: top;\n",
       "    }\n",
       "</style>\n",
       "<table border=\"1\" class=\"dataframe\">\n",
       "  <thead>\n",
       "    <tr style=\"text-align: right;\">\n",
       "      <th></th>\n",
       "    </tr>\n",
       "  </thead>\n",
       "  <tbody>\n",
       "  </tbody>\n",
       "</table>\n",
       "</div>"
      ],
      "text/plain": [
       "Empty DataFrame\n",
       "Columns: []\n",
       "Index: []"
      ]
     },
     "metadata": {},
     "output_type": "display_data"
    },
    {
     "data": {
      "text/html": [
       "<h3>Triciothiodystrophy</h3>"
      ],
      "text/plain": [
       "<IPython.core.display.HTML object>"
      ]
     },
     "metadata": {},
     "output_type": "display_data"
    },
    {
     "data": {
      "text/html": [
       "<a href=http://robokop.renci.org/simple/view/9ea1d757-4c9c-4218-8782-21a80b867162>View Answer in ROBOKOP</a>"
      ],
      "text/plain": [
       "<IPython.core.display.HTML object>"
      ]
     },
     "metadata": {},
     "output_type": "display_data"
    },
    {
     "data": {
      "text/html": [
       "<div>\n",
       "<style>\n",
       "    .dataframe thead tr:only-child th {\n",
       "        text-align: right;\n",
       "    }\n",
       "\n",
       "    .dataframe thead th {\n",
       "        text-align: left;\n",
       "    }\n",
       "\n",
       "    .dataframe tbody tr th {\n",
       "        vertical-align: top;\n",
       "    }\n",
       "</style>\n",
       "<table border=\"1\" class=\"dataframe\">\n",
       "  <thead>\n",
       "    <tr style=\"text-align: right;\">\n",
       "      <th></th>\n",
       "    </tr>\n",
       "  </thead>\n",
       "  <tbody>\n",
       "  </tbody>\n",
       "</table>\n",
       "</div>"
      ],
      "text/plain": [
       "Empty DataFrame\n",
       "Columns: []\n",
       "Index: []"
      ]
     },
     "metadata": {},
     "output_type": "display_data"
    },
    {
     "data": {
      "text/html": [
       "<h3>glucose intolerance</h3>"
      ],
      "text/plain": [
       "<IPython.core.display.HTML object>"
      ]
     },
     "metadata": {},
     "output_type": "display_data"
    },
    {
     "data": {
      "text/html": [
       "<a href=http://robokop.renci.org/simple/view/8d7b096e-31e2-483b-935a-ab4b2db6d9df>View Answer in ROBOKOP</a>"
      ],
      "text/plain": [
       "<IPython.core.display.HTML object>"
      ]
     },
     "metadata": {},
     "output_type": "display_data"
    },
    {
     "data": {
      "text/html": [
       "<div>\n",
       "<style>\n",
       "    .dataframe thead tr:only-child th {\n",
       "        text-align: right;\n",
       "    }\n",
       "\n",
       "    .dataframe thead th {\n",
       "        text-align: left;\n",
       "    }\n",
       "\n",
       "    .dataframe tbody tr th {\n",
       "        vertical-align: top;\n",
       "    }\n",
       "</style>\n",
       "<table border=\"1\" class=\"dataframe\">\n",
       "  <thead>\n",
       "    <tr style=\"text-align: right;\">\n",
       "      <th></th>\n",
       "      <th>n2 - id</th>\n",
       "      <th>n2 - name</th>\n",
       "      <th>n3 - id</th>\n",
       "      <th>n3 - name</th>\n",
       "      <th>score</th>\n",
       "    </tr>\n",
       "  </thead>\n",
       "  <tbody>\n",
       "    <tr>\n",
       "      <th>0</th>\n",
       "      <td>HGNC:7978</td>\n",
       "      <td>NR3C1</td>\n",
       "      <td>CHEBI:17650</td>\n",
       "      <td>cortisol</td>\n",
       "      <td>0.619937</td>\n",
       "    </tr>\n",
       "    <tr>\n",
       "      <th>1</th>\n",
       "      <td>HGNC:7782</td>\n",
       "      <td>NFE2L2</td>\n",
       "      <td>CHEBI:16243</td>\n",
       "      <td>quercetin</td>\n",
       "      <td>0.553147</td>\n",
       "    </tr>\n",
       "    <tr>\n",
       "      <th>2</th>\n",
       "      <td>HGNC:7978</td>\n",
       "      <td>NR3C1</td>\n",
       "      <td>CHEBI:41879</td>\n",
       "      <td>dexamethasone</td>\n",
       "      <td>0.545051</td>\n",
       "    </tr>\n",
       "    <tr>\n",
       "      <th>3</th>\n",
       "      <td>HGNC:6018</td>\n",
       "      <td>IL6</td>\n",
       "      <td>CHEBI:29678</td>\n",
       "      <td>sodium arsenite</td>\n",
       "      <td>0.540646</td>\n",
       "    </tr>\n",
       "    <tr>\n",
       "      <th>4</th>\n",
       "      <td>HGNC:6018</td>\n",
       "      <td>IL6</td>\n",
       "      <td>CHEBI:16236</td>\n",
       "      <td>ethanol</td>\n",
       "      <td>0.540019</td>\n",
       "    </tr>\n",
       "  </tbody>\n",
       "</table>\n",
       "</div>"
      ],
      "text/plain": [
       "    n2 - id  n2 - name      n3 - id        n3 - name      score\n",
       "0  HGNC:7978      NR3C1  CHEBI:17650         cortisol  0.619937\n",
       "1  HGNC:7782     NFE2L2  CHEBI:16243        quercetin  0.553147\n",
       "2  HGNC:7978      NR3C1  CHEBI:41879    dexamethasone  0.545051\n",
       "3  HGNC:6018        IL6  CHEBI:29678  sodium arsenite  0.540646\n",
       "4  HGNC:6018        IL6  CHEBI:16236          ethanol  0.540019"
      ]
     },
     "metadata": {},
     "output_type": "display_data"
    },
    {
     "data": {
      "text/html": [
       "<h3>sudden infant death syndrome</h3>"
      ],
      "text/plain": [
       "<IPython.core.display.HTML object>"
      ]
     },
     "metadata": {},
     "output_type": "display_data"
    },
    {
     "data": {
      "text/html": [
       "<a href=http://robokop.renci.org/simple/view/acfe29c3-ad50-47b1-9ef7-422d67ea2679>View Answer in ROBOKOP</a>"
      ],
      "text/plain": [
       "<IPython.core.display.HTML object>"
      ]
     },
     "metadata": {},
     "output_type": "display_data"
    },
    {
     "data": {
      "text/html": [
       "<div>\n",
       "<style>\n",
       "    .dataframe thead tr:only-child th {\n",
       "        text-align: right;\n",
       "    }\n",
       "\n",
       "    .dataframe thead th {\n",
       "        text-align: left;\n",
       "    }\n",
       "\n",
       "    .dataframe tbody tr th {\n",
       "        vertical-align: top;\n",
       "    }\n",
       "</style>\n",
       "<table border=\"1\" class=\"dataframe\">\n",
       "  <thead>\n",
       "    <tr style=\"text-align: right;\">\n",
       "      <th></th>\n",
       "      <th>n2 - id</th>\n",
       "      <th>n2 - name</th>\n",
       "      <th>n3 - id</th>\n",
       "      <th>n3 - name</th>\n",
       "      <th>score</th>\n",
       "    </tr>\n",
       "  </thead>\n",
       "  <tbody>\n",
       "    <tr>\n",
       "      <th>0</th>\n",
       "      <td>HGNC:11892</td>\n",
       "      <td>TNF</td>\n",
       "      <td>CHEBI:46195</td>\n",
       "      <td>paracetamol</td>\n",
       "      <td>0.559810</td>\n",
       "    </tr>\n",
       "    <tr>\n",
       "      <th>1</th>\n",
       "      <td>HGNC:11892</td>\n",
       "      <td>TNF</td>\n",
       "      <td>CHEBI:33101</td>\n",
       "      <td>nitrogen dioxide</td>\n",
       "      <td>0.543461</td>\n",
       "    </tr>\n",
       "    <tr>\n",
       "      <th>2</th>\n",
       "      <td>HGNC:11892</td>\n",
       "      <td>TNF</td>\n",
       "      <td>CHEBI:27958</td>\n",
       "      <td>cocaine</td>\n",
       "      <td>0.529933</td>\n",
       "    </tr>\n",
       "    <tr>\n",
       "      <th>3</th>\n",
       "      <td>HGNC:11892</td>\n",
       "      <td>TNF</td>\n",
       "      <td>CHEBI:16236</td>\n",
       "      <td>ethanol</td>\n",
       "      <td>0.523949</td>\n",
       "    </tr>\n",
       "    <tr>\n",
       "      <th>4</th>\n",
       "      <td>HGNC:11892</td>\n",
       "      <td>TNF</td>\n",
       "      <td>CHEBI:16240</td>\n",
       "      <td>hydrogen peroxide</td>\n",
       "      <td>0.510743</td>\n",
       "    </tr>\n",
       "  </tbody>\n",
       "</table>\n",
       "</div>"
      ],
      "text/plain": [
       "     n2 - id  n2 - name      n3 - id          n3 - name      score\n",
       "0  HGNC:11892        TNF  CHEBI:46195        paracetamol  0.559810\n",
       "1  HGNC:11892        TNF  CHEBI:33101   nitrogen dioxide  0.543461\n",
       "2  HGNC:11892        TNF  CHEBI:27958            cocaine  0.529933\n",
       "3  HGNC:11892        TNF  CHEBI:16236            ethanol  0.523949\n",
       "4  HGNC:11892        TNF  CHEBI:16240  hydrogen peroxide  0.510743"
      ]
     },
     "metadata": {},
     "output_type": "display_data"
    },
    {
     "data": {
      "text/html": [
       "<h3>neuronal ceroid lipofuscinosis 3</h3>"
      ],
      "text/plain": [
       "<IPython.core.display.HTML object>"
      ]
     },
     "metadata": {},
     "output_type": "display_data"
    },
    {
     "data": {
      "text/html": [
       "<a href=http://robokop.renci.org/simple/view/2b02e358-5323-4c3c-8fe5-1d2d3bbafdfd>View Answer in ROBOKOP</a>"
      ],
      "text/plain": [
       "<IPython.core.display.HTML object>"
      ]
     },
     "metadata": {},
     "output_type": "display_data"
    },
    {
     "data": {
      "text/html": [
       "<div>\n",
       "<style>\n",
       "    .dataframe thead tr:only-child th {\n",
       "        text-align: right;\n",
       "    }\n",
       "\n",
       "    .dataframe thead th {\n",
       "        text-align: left;\n",
       "    }\n",
       "\n",
       "    .dataframe tbody tr th {\n",
       "        vertical-align: top;\n",
       "    }\n",
       "</style>\n",
       "<table border=\"1\" class=\"dataframe\">\n",
       "  <thead>\n",
       "    <tr style=\"text-align: right;\">\n",
       "      <th></th>\n",
       "    </tr>\n",
       "  </thead>\n",
       "  <tbody>\n",
       "  </tbody>\n",
       "</table>\n",
       "</div>"
      ],
      "text/plain": [
       "Empty DataFrame\n",
       "Columns: []\n",
       "Index: []"
      ]
     },
     "metadata": {},
     "output_type": "display_data"
    },
    {
     "data": {
      "text/html": [
       "<h3>Niemann-Pick disease, type C1</h3>"
      ],
      "text/plain": [
       "<IPython.core.display.HTML object>"
      ]
     },
     "metadata": {},
     "output_type": "display_data"
    },
    {
     "data": {
      "text/html": [
       "<a href=http://robokop.renci.org/simple/view/f8d1a97c-65d2-4244-8907-fc35f0d1266e>View Answer in ROBOKOP</a>"
      ],
      "text/plain": [
       "<IPython.core.display.HTML object>"
      ]
     },
     "metadata": {},
     "output_type": "display_data"
    },
    {
     "data": {
      "text/html": [
       "<div>\n",
       "<style>\n",
       "    .dataframe thead tr:only-child th {\n",
       "        text-align: right;\n",
       "    }\n",
       "\n",
       "    .dataframe thead th {\n",
       "        text-align: left;\n",
       "    }\n",
       "\n",
       "    .dataframe tbody tr th {\n",
       "        vertical-align: top;\n",
       "    }\n",
       "</style>\n",
       "<table border=\"1\" class=\"dataframe\">\n",
       "  <thead>\n",
       "    <tr style=\"text-align: right;\">\n",
       "      <th></th>\n",
       "    </tr>\n",
       "  </thead>\n",
       "  <tbody>\n",
       "  </tbody>\n",
       "</table>\n",
       "</div>"
      ],
      "text/plain": [
       "Empty DataFrame\n",
       "Columns: []\n",
       "Index: []"
      ]
     },
     "metadata": {},
     "output_type": "display_data"
    },
    {
     "data": {
      "text/html": [
       "<h3>inherited susceptibility to asthma</h3>"
      ],
      "text/plain": [
       "<IPython.core.display.HTML object>"
      ]
     },
     "metadata": {},
     "output_type": "display_data"
    },
    {
     "data": {
      "text/html": [
       "<a href=http://robokop.renci.org/simple/view/2eab4639-5806-49d8-aa19-4a6d411ba8f1>View Answer in ROBOKOP</a>"
      ],
      "text/plain": [
       "<IPython.core.display.HTML object>"
      ]
     },
     "metadata": {},
     "output_type": "display_data"
    },
    {
     "data": {
      "text/html": [
       "<div>\n",
       "<style>\n",
       "    .dataframe thead tr:only-child th {\n",
       "        text-align: right;\n",
       "    }\n",
       "\n",
       "    .dataframe thead th {\n",
       "        text-align: left;\n",
       "    }\n",
       "\n",
       "    .dataframe tbody tr th {\n",
       "        vertical-align: top;\n",
       "    }\n",
       "</style>\n",
       "<table border=\"1\" class=\"dataframe\">\n",
       "  <thead>\n",
       "    <tr style=\"text-align: right;\">\n",
       "      <th></th>\n",
       "    </tr>\n",
       "  </thead>\n",
       "  <tbody>\n",
       "  </tbody>\n",
       "</table>\n",
       "</div>"
      ],
      "text/plain": [
       "Empty DataFrame\n",
       "Columns: []\n",
       "Index: []"
      ]
     },
     "metadata": {},
     "output_type": "display_data"
    },
    {
     "data": {
      "text/html": [
       "<h3>familial calcium pyrophosphate deposition</h3>"
      ],
      "text/plain": [
       "<IPython.core.display.HTML object>"
      ]
     },
     "metadata": {},
     "output_type": "display_data"
    },
    {
     "data": {
      "text/html": [
       "<a href=http://robokop.renci.org/simple/view/167673fb-25e2-497c-a6de-911ea7f5b76f>View Answer in ROBOKOP</a>"
      ],
      "text/plain": [
       "<IPython.core.display.HTML object>"
      ]
     },
     "metadata": {},
     "output_type": "display_data"
    },
    {
     "data": {
      "text/html": [
       "<div>\n",
       "<style>\n",
       "    .dataframe thead tr:only-child th {\n",
       "        text-align: right;\n",
       "    }\n",
       "\n",
       "    .dataframe thead th {\n",
       "        text-align: left;\n",
       "    }\n",
       "\n",
       "    .dataframe tbody tr th {\n",
       "        vertical-align: top;\n",
       "    }\n",
       "</style>\n",
       "<table border=\"1\" class=\"dataframe\">\n",
       "  <thead>\n",
       "    <tr style=\"text-align: right;\">\n",
       "      <th></th>\n",
       "    </tr>\n",
       "  </thead>\n",
       "  <tbody>\n",
       "  </tbody>\n",
       "</table>\n",
       "</div>"
      ],
      "text/plain": [
       "Empty DataFrame\n",
       "Columns: []\n",
       "Index: []"
      ]
     },
     "metadata": {},
     "output_type": "display_data"
    },
    {
     "data": {
      "text/html": [
       "<h3>genetic lipodystrophy</h3>"
      ],
      "text/plain": [
       "<IPython.core.display.HTML object>"
      ]
     },
     "metadata": {},
     "output_type": "display_data"
    },
    {
     "data": {
      "text/html": [
       "<a href=http://robokop.renci.org/simple/view/9552f0af-21ff-40db-b1ac-4998e1335724>View Answer in ROBOKOP</a>"
      ],
      "text/plain": [
       "<IPython.core.display.HTML object>"
      ]
     },
     "metadata": {},
     "output_type": "display_data"
    },
    {
     "data": {
      "text/html": [
       "<div>\n",
       "<style>\n",
       "    .dataframe thead tr:only-child th {\n",
       "        text-align: right;\n",
       "    }\n",
       "\n",
       "    .dataframe thead th {\n",
       "        text-align: left;\n",
       "    }\n",
       "\n",
       "    .dataframe tbody tr th {\n",
       "        vertical-align: top;\n",
       "    }\n",
       "</style>\n",
       "<table border=\"1\" class=\"dataframe\">\n",
       "  <thead>\n",
       "    <tr style=\"text-align: right;\">\n",
       "      <th></th>\n",
       "    </tr>\n",
       "  </thead>\n",
       "  <tbody>\n",
       "  </tbody>\n",
       "</table>\n",
       "</div>"
      ],
      "text/plain": [
       "Empty DataFrame\n",
       "Columns: []\n",
       "Index: []"
      ]
     },
     "metadata": {},
     "output_type": "display_data"
    },
    {
     "data": {
      "text/html": [
       "<h3>diabetes mellitus, noninsulin-dependent</h3>"
      ],
      "text/plain": [
       "<IPython.core.display.HTML object>"
      ]
     },
     "metadata": {},
     "output_type": "display_data"
    },
    {
     "data": {
      "text/html": [
       "<a href=http://robokop.renci.org/simple/view/628bdcec-85ce-4a66-aea3-8d6b134c64d1>View Answer in ROBOKOP</a>"
      ],
      "text/plain": [
       "<IPython.core.display.HTML object>"
      ]
     },
     "metadata": {},
     "output_type": "display_data"
    },
    {
     "data": {
      "text/html": [
       "<div>\n",
       "<style>\n",
       "    .dataframe thead tr:only-child th {\n",
       "        text-align: right;\n",
       "    }\n",
       "\n",
       "    .dataframe thead th {\n",
       "        text-align: left;\n",
       "    }\n",
       "\n",
       "    .dataframe tbody tr th {\n",
       "        vertical-align: top;\n",
       "    }\n",
       "</style>\n",
       "<table border=\"1\" class=\"dataframe\">\n",
       "  <thead>\n",
       "    <tr style=\"text-align: right;\">\n",
       "      <th></th>\n",
       "    </tr>\n",
       "  </thead>\n",
       "  <tbody>\n",
       "  </tbody>\n",
       "</table>\n",
       "</div>"
      ],
      "text/plain": [
       "Empty DataFrame\n",
       "Columns: []\n",
       "Index: []"
      ]
     },
     "metadata": {},
     "output_type": "display_data"
    },
    {
     "data": {
      "text/html": [
       "<h3>Behcet disease</h3>"
      ],
      "text/plain": [
       "<IPython.core.display.HTML object>"
      ]
     },
     "metadata": {},
     "output_type": "display_data"
    },
    {
     "data": {
      "text/html": [
       "<a href=http://robokop.renci.org/simple/view/f4796702-8ea3-4e09-b815-9e50994bccf7>View Answer in ROBOKOP</a>"
      ],
      "text/plain": [
       "<IPython.core.display.HTML object>"
      ]
     },
     "metadata": {},
     "output_type": "display_data"
    },
    {
     "data": {
      "text/html": [
       "<div>\n",
       "<style>\n",
       "    .dataframe thead tr:only-child th {\n",
       "        text-align: right;\n",
       "    }\n",
       "\n",
       "    .dataframe thead th {\n",
       "        text-align: left;\n",
       "    }\n",
       "\n",
       "    .dataframe tbody tr th {\n",
       "        vertical-align: top;\n",
       "    }\n",
       "</style>\n",
       "<table border=\"1\" class=\"dataframe\">\n",
       "  <thead>\n",
       "    <tr style=\"text-align: right;\">\n",
       "      <th></th>\n",
       "      <th>n2 - id</th>\n",
       "      <th>n2 - name</th>\n",
       "      <th>n3 - id</th>\n",
       "      <th>n3 - name</th>\n",
       "      <th>score</th>\n",
       "    </tr>\n",
       "  </thead>\n",
       "  <tbody>\n",
       "    <tr>\n",
       "      <th>0</th>\n",
       "      <td>HGNC:992</td>\n",
       "      <td>BCL2L1</td>\n",
       "      <td>CHEBI:41879</td>\n",
       "      <td>dexamethasone</td>\n",
       "      <td>0.441520</td>\n",
       "    </tr>\n",
       "    <tr>\n",
       "      <th>1</th>\n",
       "      <td>HGNC:992</td>\n",
       "      <td>BCL2L1</td>\n",
       "      <td>CHEBI:39867</td>\n",
       "      <td>valproic acid</td>\n",
       "      <td>0.401360</td>\n",
       "    </tr>\n",
       "    <tr>\n",
       "      <th>2</th>\n",
       "      <td>HGNC:992</td>\n",
       "      <td>BCL2L1</td>\n",
       "      <td>CHEBI:46195</td>\n",
       "      <td>paracetamol</td>\n",
       "      <td>0.401021</td>\n",
       "    </tr>\n",
       "    <tr>\n",
       "      <th>3</th>\n",
       "      <td>HGNC:992</td>\n",
       "      <td>BCL2L1</td>\n",
       "      <td>CHEBI:17026</td>\n",
       "      <td>progesterone</td>\n",
       "      <td>0.400985</td>\n",
       "    </tr>\n",
       "    <tr>\n",
       "      <th>4</th>\n",
       "      <td>HGNC:10969</td>\n",
       "      <td>SLC22A5</td>\n",
       "      <td>CHEBI:32509</td>\n",
       "      <td>pirinixic acid</td>\n",
       "      <td>0.303674</td>\n",
       "    </tr>\n",
       "  </tbody>\n",
       "</table>\n",
       "</div>"
      ],
      "text/plain": [
       "     n2 - id  n2 - name      n3 - id       n3 - name      score\n",
       "0    HGNC:992     BCL2L1  CHEBI:41879   dexamethasone  0.441520\n",
       "1    HGNC:992     BCL2L1  CHEBI:39867   valproic acid  0.401360\n",
       "2    HGNC:992     BCL2L1  CHEBI:46195     paracetamol  0.401021\n",
       "3    HGNC:992     BCL2L1  CHEBI:17026    progesterone  0.400985\n",
       "4  HGNC:10969    SLC22A5  CHEBI:32509  pirinixic acid  0.303674"
      ]
     },
     "metadata": {},
     "output_type": "display_data"
    },
    {
     "data": {
      "text/html": [
       "<h3>systemic sclerosis</h3>"
      ],
      "text/plain": [
       "<IPython.core.display.HTML object>"
      ]
     },
     "metadata": {},
     "output_type": "display_data"
    },
    {
     "data": {
      "text/html": [
       "<a href=http://robokop.renci.org/simple/view/fe928a4a-fdf4-4f66-9f81-6b54d56726bc>View Answer in ROBOKOP</a>"
      ],
      "text/plain": [
       "<IPython.core.display.HTML object>"
      ]
     },
     "metadata": {},
     "output_type": "display_data"
    },
    {
     "data": {
      "text/html": [
       "<div>\n",
       "<style>\n",
       "    .dataframe thead tr:only-child th {\n",
       "        text-align: right;\n",
       "    }\n",
       "\n",
       "    .dataframe thead th {\n",
       "        text-align: left;\n",
       "    }\n",
       "\n",
       "    .dataframe tbody tr th {\n",
       "        vertical-align: top;\n",
       "    }\n",
       "</style>\n",
       "<table border=\"1\" class=\"dataframe\">\n",
       "  <thead>\n",
       "    <tr style=\"text-align: right;\">\n",
       "      <th></th>\n",
       "      <th>n2 - id</th>\n",
       "      <th>n2 - name</th>\n",
       "      <th>n3 - id</th>\n",
       "      <th>n3 - name</th>\n",
       "      <th>score</th>\n",
       "    </tr>\n",
       "  </thead>\n",
       "  <tbody>\n",
       "    <tr>\n",
       "      <th>0</th>\n",
       "      <td>HGNC:11998</td>\n",
       "      <td>TP53</td>\n",
       "      <td>CHEBI:46345</td>\n",
       "      <td>5-fluorouracil</td>\n",
       "      <td>0.575376</td>\n",
       "    </tr>\n",
       "    <tr>\n",
       "      <th>1</th>\n",
       "      <td>HGNC:11998</td>\n",
       "      <td>TP53</td>\n",
       "      <td>CHEBI:175901</td>\n",
       "      <td>gemcitabine</td>\n",
       "      <td>0.537468</td>\n",
       "    </tr>\n",
       "    <tr>\n",
       "      <th>2</th>\n",
       "      <td>HGNC:11998</td>\n",
       "      <td>TP53</td>\n",
       "      <td>CHEBI:4911</td>\n",
       "      <td>etoposide</td>\n",
       "      <td>0.536121</td>\n",
       "    </tr>\n",
       "    <tr>\n",
       "      <th>3</th>\n",
       "      <td>HGNC:1511</td>\n",
       "      <td>CASP9</td>\n",
       "      <td>CHEBI:175901</td>\n",
       "      <td>gemcitabine</td>\n",
       "      <td>0.532829</td>\n",
       "    </tr>\n",
       "    <tr>\n",
       "      <th>4</th>\n",
       "      <td>HGNC:11998</td>\n",
       "      <td>TP53</td>\n",
       "      <td>CHEBI:27656</td>\n",
       "      <td>camptothecin</td>\n",
       "      <td>0.529152</td>\n",
       "    </tr>\n",
       "  </tbody>\n",
       "</table>\n",
       "</div>"
      ],
      "text/plain": [
       "     n2 - id  n2 - name       n3 - id       n3 - name      score\n",
       "0  HGNC:11998       TP53   CHEBI:46345  5-fluorouracil  0.575376\n",
       "1  HGNC:11998       TP53  CHEBI:175901     gemcitabine  0.537468\n",
       "2  HGNC:11998       TP53    CHEBI:4911       etoposide  0.536121\n",
       "3   HGNC:1511      CASP9  CHEBI:175901     gemcitabine  0.532829\n",
       "4  HGNC:11998       TP53   CHEBI:27656    camptothecin  0.529152"
      ]
     },
     "metadata": {},
     "output_type": "display_data"
    },
    {
     "data": {
      "text/html": [
       "<h3>hemophilia A</h3>"
      ],
      "text/plain": [
       "<IPython.core.display.HTML object>"
      ]
     },
     "metadata": {},
     "output_type": "display_data"
    },
    {
     "data": {
      "text/html": [
       "<a href=http://robokop.renci.org/simple/view/e88e98fa-1187-4370-a347-a135eef42abf>View Answer in ROBOKOP</a>"
      ],
      "text/plain": [
       "<IPython.core.display.HTML object>"
      ]
     },
     "metadata": {},
     "output_type": "display_data"
    },
    {
     "data": {
      "text/html": [
       "<div>\n",
       "<style>\n",
       "    .dataframe thead tr:only-child th {\n",
       "        text-align: right;\n",
       "    }\n",
       "\n",
       "    .dataframe thead th {\n",
       "        text-align: left;\n",
       "    }\n",
       "\n",
       "    .dataframe tbody tr th {\n",
       "        vertical-align: top;\n",
       "    }\n",
       "</style>\n",
       "<table border=\"1\" class=\"dataframe\">\n",
       "  <thead>\n",
       "    <tr style=\"text-align: right;\">\n",
       "      <th></th>\n",
       "      <th>n2 - id</th>\n",
       "      <th>n2 - name</th>\n",
       "      <th>n3 - id</th>\n",
       "      <th>n3 - name</th>\n",
       "      <th>score</th>\n",
       "    </tr>\n",
       "  </thead>\n",
       "  <tbody>\n",
       "    <tr>\n",
       "      <th>0</th>\n",
       "      <td>HGNC:11892</td>\n",
       "      <td>TNF</td>\n",
       "      <td>CHEBI:16236</td>\n",
       "      <td>ethanol</td>\n",
       "      <td>0.366814</td>\n",
       "    </tr>\n",
       "    <tr>\n",
       "      <th>1</th>\n",
       "      <td>HGNC:11892</td>\n",
       "      <td>TNF</td>\n",
       "      <td>CHEBI:46195</td>\n",
       "      <td>paracetamol</td>\n",
       "      <td>0.366041</td>\n",
       "    </tr>\n",
       "    <tr>\n",
       "      <th>2</th>\n",
       "      <td>HGNC:11892</td>\n",
       "      <td>TNF</td>\n",
       "      <td>CHEBI:33101</td>\n",
       "      <td>nitrogen dioxide</td>\n",
       "      <td>0.363804</td>\n",
       "    </tr>\n",
       "    <tr>\n",
       "      <th>3</th>\n",
       "      <td>HGNC:11892</td>\n",
       "      <td>TNF</td>\n",
       "      <td>CHEBI:27958</td>\n",
       "      <td>cocaine</td>\n",
       "      <td>0.346500</td>\n",
       "    </tr>\n",
       "    <tr>\n",
       "      <th>4</th>\n",
       "      <td>HGNC:11892</td>\n",
       "      <td>TNF</td>\n",
       "      <td>CHEBI:17303</td>\n",
       "      <td>morphine</td>\n",
       "      <td>0.346500</td>\n",
       "    </tr>\n",
       "  </tbody>\n",
       "</table>\n",
       "</div>"
      ],
      "text/plain": [
       "     n2 - id  n2 - name      n3 - id         n3 - name      score\n",
       "0  HGNC:11892        TNF  CHEBI:16236           ethanol  0.366814\n",
       "1  HGNC:11892        TNF  CHEBI:46195       paracetamol  0.366041\n",
       "2  HGNC:11892        TNF  CHEBI:33101  nitrogen dioxide  0.363804\n",
       "3  HGNC:11892        TNF  CHEBI:27958           cocaine  0.346500\n",
       "4  HGNC:11892        TNF  CHEBI:17303          morphine  0.346500"
      ]
     },
     "metadata": {},
     "output_type": "display_data"
    },
    {
     "data": {
      "text/html": [
       "<h3>hereditary hemochromatosis</h3>"
      ],
      "text/plain": [
       "<IPython.core.display.HTML object>"
      ]
     },
     "metadata": {},
     "output_type": "display_data"
    },
    {
     "data": {
      "text/html": [
       "<a href=http://robokop.renci.org/simple/view/7241b34b-f0df-4de2-bb39-a1ed6a4008c5>View Answer in ROBOKOP</a>"
      ],
      "text/plain": [
       "<IPython.core.display.HTML object>"
      ]
     },
     "metadata": {},
     "output_type": "display_data"
    },
    {
     "data": {
      "text/html": [
       "<div>\n",
       "<style>\n",
       "    .dataframe thead tr:only-child th {\n",
       "        text-align: right;\n",
       "    }\n",
       "\n",
       "    .dataframe thead th {\n",
       "        text-align: left;\n",
       "    }\n",
       "\n",
       "    .dataframe tbody tr th {\n",
       "        vertical-align: top;\n",
       "    }\n",
       "</style>\n",
       "<table border=\"1\" class=\"dataframe\">\n",
       "  <thead>\n",
       "    <tr style=\"text-align: right;\">\n",
       "      <th></th>\n",
       "      <th>n2 - id</th>\n",
       "      <th>n2 - name</th>\n",
       "      <th>n3 - id</th>\n",
       "      <th>n3 - name</th>\n",
       "      <th>score</th>\n",
       "    </tr>\n",
       "  </thead>\n",
       "  <tbody>\n",
       "    <tr>\n",
       "      <th>0</th>\n",
       "      <td>HGNC:11892</td>\n",
       "      <td>TNF</td>\n",
       "      <td>CHEBI:16240</td>\n",
       "      <td>hydrogen peroxide</td>\n",
       "      <td>0.580019</td>\n",
       "    </tr>\n",
       "    <tr>\n",
       "      <th>1</th>\n",
       "      <td>HGNC:11892</td>\n",
       "      <td>TNF</td>\n",
       "      <td>CHEBI:16236</td>\n",
       "      <td>ethanol</td>\n",
       "      <td>0.520251</td>\n",
       "    </tr>\n",
       "    <tr>\n",
       "      <th>2</th>\n",
       "      <td>HGNC:11892</td>\n",
       "      <td>TNF</td>\n",
       "      <td>CHEBI:16811</td>\n",
       "      <td>methionine</td>\n",
       "      <td>0.475912</td>\n",
       "    </tr>\n",
       "    <tr>\n",
       "      <th>3</th>\n",
       "      <td>HGNC:11763</td>\n",
       "      <td>TFRC</td>\n",
       "      <td>CHEBI:16236</td>\n",
       "      <td>ethanol</td>\n",
       "      <td>0.463518</td>\n",
       "    </tr>\n",
       "    <tr>\n",
       "      <th>4</th>\n",
       "      <td>HGNC:11892</td>\n",
       "      <td>TNF</td>\n",
       "      <td>CHEBI:46195</td>\n",
       "      <td>paracetamol</td>\n",
       "      <td>0.411043</td>\n",
       "    </tr>\n",
       "  </tbody>\n",
       "</table>\n",
       "</div>"
      ],
      "text/plain": [
       "     n2 - id  n2 - name      n3 - id          n3 - name      score\n",
       "0  HGNC:11892        TNF  CHEBI:16240  hydrogen peroxide  0.580019\n",
       "1  HGNC:11892        TNF  CHEBI:16236            ethanol  0.520251\n",
       "2  HGNC:11892        TNF  CHEBI:16811         methionine  0.475912\n",
       "3  HGNC:11763       TFRC  CHEBI:16236            ethanol  0.463518\n",
       "4  HGNC:11892        TNF  CHEBI:46195        paracetamol  0.411043"
      ]
     },
     "metadata": {},
     "output_type": "display_data"
    },
    {
     "data": {
      "text/html": [
       "<h3>primary lipodystrophy</h3>"
      ],
      "text/plain": [
       "<IPython.core.display.HTML object>"
      ]
     },
     "metadata": {},
     "output_type": "display_data"
    },
    {
     "data": {
      "text/html": [
       "<a href=http://robokop.renci.org/simple/view/8414e567-2be1-445e-a12a-d2e35cd5da9b>View Answer in ROBOKOP</a>"
      ],
      "text/plain": [
       "<IPython.core.display.HTML object>"
      ]
     },
     "metadata": {},
     "output_type": "display_data"
    },
    {
     "data": {
      "text/html": [
       "<div>\n",
       "<style>\n",
       "    .dataframe thead tr:only-child th {\n",
       "        text-align: right;\n",
       "    }\n",
       "\n",
       "    .dataframe thead th {\n",
       "        text-align: left;\n",
       "    }\n",
       "\n",
       "    .dataframe tbody tr th {\n",
       "        vertical-align: top;\n",
       "    }\n",
       "</style>\n",
       "<table border=\"1\" class=\"dataframe\">\n",
       "  <thead>\n",
       "    <tr style=\"text-align: right;\">\n",
       "      <th></th>\n",
       "    </tr>\n",
       "  </thead>\n",
       "  <tbody>\n",
       "  </tbody>\n",
       "</table>\n",
       "</div>"
      ],
      "text/plain": [
       "Empty DataFrame\n",
       "Columns: []\n",
       "Index: []"
      ]
     },
     "metadata": {},
     "output_type": "display_data"
    },
    {
     "data": {
      "text/html": [
       "<h3>genetic dementia</h3>"
      ],
      "text/plain": [
       "<IPython.core.display.HTML object>"
      ]
     },
     "metadata": {},
     "output_type": "display_data"
    },
    {
     "data": {
      "text/html": [
       "<a href=http://robokop.renci.org/simple/view/c825478a-a48d-44b9-b807-c568edb4c9f3>View Answer in ROBOKOP</a>"
      ],
      "text/plain": [
       "<IPython.core.display.HTML object>"
      ]
     },
     "metadata": {},
     "output_type": "display_data"
    },
    {
     "data": {
      "text/html": [
       "<div>\n",
       "<style>\n",
       "    .dataframe thead tr:only-child th {\n",
       "        text-align: right;\n",
       "    }\n",
       "\n",
       "    .dataframe thead th {\n",
       "        text-align: left;\n",
       "    }\n",
       "\n",
       "    .dataframe tbody tr th {\n",
       "        vertical-align: top;\n",
       "    }\n",
       "</style>\n",
       "<table border=\"1\" class=\"dataframe\">\n",
       "  <thead>\n",
       "    <tr style=\"text-align: right;\">\n",
       "      <th></th>\n",
       "    </tr>\n",
       "  </thead>\n",
       "  <tbody>\n",
       "  </tbody>\n",
       "</table>\n",
       "</div>"
      ],
      "text/plain": [
       "Empty DataFrame\n",
       "Columns: []\n",
       "Index: []"
      ]
     },
     "metadata": {},
     "output_type": "display_data"
    },
    {
     "data": {
      "text/html": [
       "<h3>functional neutrophil defect</h3>"
      ],
      "text/plain": [
       "<IPython.core.display.HTML object>"
      ]
     },
     "metadata": {},
     "output_type": "display_data"
    },
    {
     "data": {
      "text/html": [
       "<a href=http://robokop.renci.org/simple/view/1dd2b118-f206-455d-bfba-e47d27d3aa91>View Answer in ROBOKOP</a>"
      ],
      "text/plain": [
       "<IPython.core.display.HTML object>"
      ]
     },
     "metadata": {},
     "output_type": "display_data"
    },
    {
     "data": {
      "text/html": [
       "<div>\n",
       "<style>\n",
       "    .dataframe thead tr:only-child th {\n",
       "        text-align: right;\n",
       "    }\n",
       "\n",
       "    .dataframe thead th {\n",
       "        text-align: left;\n",
       "    }\n",
       "\n",
       "    .dataframe tbody tr th {\n",
       "        vertical-align: top;\n",
       "    }\n",
       "</style>\n",
       "<table border=\"1\" class=\"dataframe\">\n",
       "  <thead>\n",
       "    <tr style=\"text-align: right;\">\n",
       "      <th></th>\n",
       "    </tr>\n",
       "  </thead>\n",
       "  <tbody>\n",
       "  </tbody>\n",
       "</table>\n",
       "</div>"
      ],
      "text/plain": [
       "Empty DataFrame\n",
       "Columns: []\n",
       "Index: []"
      ]
     },
     "metadata": {},
     "output_type": "display_data"
    },
    {
     "data": {
      "text/html": [
       "<h3>gastroesophageal reflux disease</h3>"
      ],
      "text/plain": [
       "<IPython.core.display.HTML object>"
      ]
     },
     "metadata": {},
     "output_type": "display_data"
    },
    {
     "data": {
      "text/html": [
       "<a href=http://robokop.renci.org/simple/view/1ab298a1-1afb-44d7-bd09-6db3e5dbf14f>View Answer in ROBOKOP</a>"
      ],
      "text/plain": [
       "<IPython.core.display.HTML object>"
      ]
     },
     "metadata": {},
     "output_type": "display_data"
    },
    {
     "data": {
      "text/html": [
       "<div>\n",
       "<style>\n",
       "    .dataframe thead tr:only-child th {\n",
       "        text-align: right;\n",
       "    }\n",
       "\n",
       "    .dataframe thead th {\n",
       "        text-align: left;\n",
       "    }\n",
       "\n",
       "    .dataframe tbody tr th {\n",
       "        vertical-align: top;\n",
       "    }\n",
       "</style>\n",
       "<table border=\"1\" class=\"dataframe\">\n",
       "  <thead>\n",
       "    <tr style=\"text-align: right;\">\n",
       "      <th></th>\n",
       "      <th>n2 - id</th>\n",
       "      <th>n2 - name</th>\n",
       "      <th>n3 - id</th>\n",
       "      <th>n3 - name</th>\n",
       "      <th>score</th>\n",
       "    </tr>\n",
       "  </thead>\n",
       "  <tbody>\n",
       "    <tr>\n",
       "      <th>0</th>\n",
       "      <td>HGNC:12716</td>\n",
       "      <td>TRPV1</td>\n",
       "      <td>CHEBI:3374</td>\n",
       "      <td>capsaicin</td>\n",
       "      <td>0.506636</td>\n",
       "    </tr>\n",
       "    <tr>\n",
       "      <th>1</th>\n",
       "      <td>HGNC:12716</td>\n",
       "      <td>TRPV1</td>\n",
       "      <td>CHEBI:2700</td>\n",
       "      <td>anandamide</td>\n",
       "      <td>0.474660</td>\n",
       "    </tr>\n",
       "    <tr>\n",
       "      <th>2</th>\n",
       "      <td>HGNC:990</td>\n",
       "      <td>BCL2</td>\n",
       "      <td>CHEBI:16236</td>\n",
       "      <td>ethanol</td>\n",
       "      <td>0.448371</td>\n",
       "    </tr>\n",
       "    <tr>\n",
       "      <th>3</th>\n",
       "      <td>HGNC:990</td>\n",
       "      <td>BCL2</td>\n",
       "      <td>CHEBI:45863</td>\n",
       "      <td>paclitaxel</td>\n",
       "      <td>0.444493</td>\n",
       "    </tr>\n",
       "    <tr>\n",
       "      <th>4</th>\n",
       "      <td>HGNC:990</td>\n",
       "      <td>BCL2</td>\n",
       "      <td>CHEBI:16240</td>\n",
       "      <td>hydrogen peroxide</td>\n",
       "      <td>0.437302</td>\n",
       "    </tr>\n",
       "  </tbody>\n",
       "</table>\n",
       "</div>"
      ],
      "text/plain": [
       "     n2 - id  n2 - name      n3 - id          n3 - name      score\n",
       "0  HGNC:12716      TRPV1   CHEBI:3374          capsaicin  0.506636\n",
       "1  HGNC:12716      TRPV1   CHEBI:2700         anandamide  0.474660\n",
       "2    HGNC:990       BCL2  CHEBI:16236            ethanol  0.448371\n",
       "3    HGNC:990       BCL2  CHEBI:45863         paclitaxel  0.444493\n",
       "4    HGNC:990       BCL2  CHEBI:16240  hydrogen peroxide  0.437302"
      ]
     },
     "metadata": {},
     "output_type": "display_data"
    },
    {
     "data": {
      "text/html": [
       "<h3>cystic fibrosis</h3>"
      ],
      "text/plain": [
       "<IPython.core.display.HTML object>"
      ]
     },
     "metadata": {},
     "output_type": "display_data"
    },
    {
     "data": {
      "text/html": [
       "<a href=http://robokop.renci.org/simple/view/e679efb7-ed32-4fe6-8d91-b94952c122f1>View Answer in ROBOKOP</a>"
      ],
      "text/plain": [
       "<IPython.core.display.HTML object>"
      ]
     },
     "metadata": {},
     "output_type": "display_data"
    },
    {
     "data": {
      "text/html": [
       "<div>\n",
       "<style>\n",
       "    .dataframe thead tr:only-child th {\n",
       "        text-align: right;\n",
       "    }\n",
       "\n",
       "    .dataframe thead th {\n",
       "        text-align: left;\n",
       "    }\n",
       "\n",
       "    .dataframe tbody tr th {\n",
       "        vertical-align: top;\n",
       "    }\n",
       "</style>\n",
       "<table border=\"1\" class=\"dataframe\">\n",
       "  <thead>\n",
       "    <tr style=\"text-align: right;\">\n",
       "      <th></th>\n",
       "      <th>n2 - id</th>\n",
       "      <th>n2 - name</th>\n",
       "      <th>n3 - id</th>\n",
       "      <th>n3 - name</th>\n",
       "      <th>score</th>\n",
       "    </tr>\n",
       "  </thead>\n",
       "  <tbody>\n",
       "    <tr>\n",
       "      <th>0</th>\n",
       "      <td>HGNC:53</td>\n",
       "      <td>ABCC2</td>\n",
       "      <td>CHEBI:29678</td>\n",
       "      <td>sodium arsenite</td>\n",
       "      <td>0.433936</td>\n",
       "    </tr>\n",
       "    <tr>\n",
       "      <th>1</th>\n",
       "      <td>HGNC:2874</td>\n",
       "      <td>NQO1</td>\n",
       "      <td>CHEBI:29865</td>\n",
       "      <td>benzo[a]pyrene</td>\n",
       "      <td>0.433313</td>\n",
       "    </tr>\n",
       "    <tr>\n",
       "      <th>2</th>\n",
       "      <td>HGNC:2874</td>\n",
       "      <td>NQO1</td>\n",
       "      <td>CHEBI:29678</td>\n",
       "      <td>sodium arsenite</td>\n",
       "      <td>0.430911</td>\n",
       "    </tr>\n",
       "    <tr>\n",
       "      <th>3</th>\n",
       "      <td>HGNC:2874</td>\n",
       "      <td>NQO1</td>\n",
       "      <td>CHEBI:34342</td>\n",
       "      <td>3-methylcholanthrene</td>\n",
       "      <td>0.429356</td>\n",
       "    </tr>\n",
       "    <tr>\n",
       "      <th>4</th>\n",
       "      <td>HGNC:2874</td>\n",
       "      <td>NQO1</td>\n",
       "      <td>CHEBI:3962</td>\n",
       "      <td>curcumin</td>\n",
       "      <td>0.424586</td>\n",
       "    </tr>\n",
       "  </tbody>\n",
       "</table>\n",
       "</div>"
      ],
      "text/plain": [
       "    n2 - id  n2 - name      n3 - id             n3 - name      score\n",
       "0    HGNC:53      ABCC2  CHEBI:29678       sodium arsenite  0.433936\n",
       "1  HGNC:2874       NQO1  CHEBI:29865        benzo[a]pyrene  0.433313\n",
       "2  HGNC:2874       NQO1  CHEBI:29678       sodium arsenite  0.430911\n",
       "3  HGNC:2874       NQO1  CHEBI:34342  3-methylcholanthrene  0.429356\n",
       "4  HGNC:2874       NQO1   CHEBI:3962              curcumin  0.424586"
      ]
     },
     "metadata": {},
     "output_type": "display_data"
    },
    {
     "data": {
      "text/html": [
       "<h3>newborn respiratory distress syndrome</h3>"
      ],
      "text/plain": [
       "<IPython.core.display.HTML object>"
      ]
     },
     "metadata": {},
     "output_type": "display_data"
    },
    {
     "data": {
      "text/html": [
       "<a href=http://robokop.renci.org/simple/view/f99cd708-5882-4cbc-bd2c-24e311e3254e>View Answer in ROBOKOP</a>"
      ],
      "text/plain": [
       "<IPython.core.display.HTML object>"
      ]
     },
     "metadata": {},
     "output_type": "display_data"
    },
    {
     "data": {
      "text/html": [
       "<div>\n",
       "<style>\n",
       "    .dataframe thead tr:only-child th {\n",
       "        text-align: right;\n",
       "    }\n",
       "\n",
       "    .dataframe thead th {\n",
       "        text-align: left;\n",
       "    }\n",
       "\n",
       "    .dataframe tbody tr th {\n",
       "        vertical-align: top;\n",
       "    }\n",
       "</style>\n",
       "<table border=\"1\" class=\"dataframe\">\n",
       "  <thead>\n",
       "    <tr style=\"text-align: right;\">\n",
       "      <th></th>\n",
       "      <th>n2 - id</th>\n",
       "      <th>n2 - name</th>\n",
       "      <th>n3 - id</th>\n",
       "      <th>n3 - name</th>\n",
       "      <th>score</th>\n",
       "    </tr>\n",
       "  </thead>\n",
       "  <tbody>\n",
       "    <tr>\n",
       "      <th>0</th>\n",
       "      <td>HGNC:11892</td>\n",
       "      <td>TNF</td>\n",
       "      <td>CHEBI:27958</td>\n",
       "      <td>cocaine</td>\n",
       "      <td>0.452450</td>\n",
       "    </tr>\n",
       "    <tr>\n",
       "      <th>1</th>\n",
       "      <td>HGNC:11048</td>\n",
       "      <td>SLC6A2</td>\n",
       "      <td>CHEBI:27958</td>\n",
       "      <td>cocaine</td>\n",
       "      <td>0.438958</td>\n",
       "    </tr>\n",
       "    <tr>\n",
       "      <th>2</th>\n",
       "      <td>HGNC:3023</td>\n",
       "      <td>DRD2</td>\n",
       "      <td>CHEBI:18243</td>\n",
       "      <td>dopamine</td>\n",
       "      <td>0.438406</td>\n",
       "    </tr>\n",
       "    <tr>\n",
       "      <th>3</th>\n",
       "      <td>HGNC:11049</td>\n",
       "      <td>SLC6A3</td>\n",
       "      <td>CHEBI:27958</td>\n",
       "      <td>cocaine</td>\n",
       "      <td>0.436290</td>\n",
       "    </tr>\n",
       "    <tr>\n",
       "      <th>4</th>\n",
       "      <td>HGNC:3020</td>\n",
       "      <td>DRD1</td>\n",
       "      <td>CHEBI:18243</td>\n",
       "      <td>dopamine</td>\n",
       "      <td>0.435000</td>\n",
       "    </tr>\n",
       "  </tbody>\n",
       "</table>\n",
       "</div>"
      ],
      "text/plain": [
       "     n2 - id  n2 - name      n3 - id  n3 - name      score\n",
       "0  HGNC:11892        TNF  CHEBI:27958    cocaine  0.452450\n",
       "1  HGNC:11048     SLC6A2  CHEBI:27958    cocaine  0.438958\n",
       "2   HGNC:3023       DRD2  CHEBI:18243   dopamine  0.438406\n",
       "3  HGNC:11049     SLC6A3  CHEBI:27958    cocaine  0.436290\n",
       "4   HGNC:3020       DRD1  CHEBI:18243   dopamine  0.435000"
      ]
     },
     "metadata": {},
     "output_type": "display_data"
    },
    {
     "data": {
      "text/html": [
       "<h3>metabolic syndrome X</h3>"
      ],
      "text/plain": [
       "<IPython.core.display.HTML object>"
      ]
     },
     "metadata": {},
     "output_type": "display_data"
    },
    {
     "data": {
      "text/html": [
       "<a href=http://robokop.renci.org/simple/view/6e277497-e5a5-42e9-a562-988ba35062ce>View Answer in ROBOKOP</a>"
      ],
      "text/plain": [
       "<IPython.core.display.HTML object>"
      ]
     },
     "metadata": {},
     "output_type": "display_data"
    },
    {
     "data": {
      "text/html": [
       "<div>\n",
       "<style>\n",
       "    .dataframe thead tr:only-child th {\n",
       "        text-align: right;\n",
       "    }\n",
       "\n",
       "    .dataframe thead th {\n",
       "        text-align: left;\n",
       "    }\n",
       "\n",
       "    .dataframe tbody tr th {\n",
       "        vertical-align: top;\n",
       "    }\n",
       "</style>\n",
       "<table border=\"1\" class=\"dataframe\">\n",
       "  <thead>\n",
       "    <tr style=\"text-align: right;\">\n",
       "      <th></th>\n",
       "      <th>n2 - id</th>\n",
       "      <th>n2 - name</th>\n",
       "      <th>n3 - id</th>\n",
       "      <th>n3 - name</th>\n",
       "      <th>score</th>\n",
       "    </tr>\n",
       "  </thead>\n",
       "  <tbody>\n",
       "    <tr>\n",
       "      <th>0</th>\n",
       "      <td>HGNC:11892</td>\n",
       "      <td>TNF</td>\n",
       "      <td>CHEBI:17303</td>\n",
       "      <td>morphine</td>\n",
       "      <td>0.473253</td>\n",
       "    </tr>\n",
       "    <tr>\n",
       "      <th>1</th>\n",
       "      <td>HGNC:11892</td>\n",
       "      <td>TNF</td>\n",
       "      <td>CHEBI:15365</td>\n",
       "      <td>acetylsalicylic acid</td>\n",
       "      <td>0.467713</td>\n",
       "    </tr>\n",
       "    <tr>\n",
       "      <th>2</th>\n",
       "      <td>HGNC:3024</td>\n",
       "      <td>DRD3</td>\n",
       "      <td>CHEBI:18243</td>\n",
       "      <td>dopamine</td>\n",
       "      <td>0.443514</td>\n",
       "    </tr>\n",
       "    <tr>\n",
       "      <th>3</th>\n",
       "      <td>HGNC:992</td>\n",
       "      <td>BCL2L1</td>\n",
       "      <td>CHEBI:41879</td>\n",
       "      <td>dexamethasone</td>\n",
       "      <td>0.434714</td>\n",
       "    </tr>\n",
       "    <tr>\n",
       "      <th>4</th>\n",
       "      <td>HGNC:5992</td>\n",
       "      <td>IL1B</td>\n",
       "      <td>CHEBI:15422</td>\n",
       "      <td>ATP</td>\n",
       "      <td>0.421108</td>\n",
       "    </tr>\n",
       "  </tbody>\n",
       "</table>\n",
       "</div>"
      ],
      "text/plain": [
       "     n2 - id  n2 - name      n3 - id             n3 - name      score\n",
       "0  HGNC:11892        TNF  CHEBI:17303              morphine  0.473253\n",
       "1  HGNC:11892        TNF  CHEBI:15365  acetylsalicylic acid  0.467713\n",
       "2   HGNC:3024       DRD3  CHEBI:18243              dopamine  0.443514\n",
       "3    HGNC:992     BCL2L1  CHEBI:41879         dexamethasone  0.434714\n",
       "4   HGNC:5992       IL1B  CHEBI:15422                   ATP  0.421108"
      ]
     },
     "metadata": {},
     "output_type": "display_data"
    },
    {
     "data": {
      "text/html": [
       "<h3>Alexander disease</h3>"
      ],
      "text/plain": [
       "<IPython.core.display.HTML object>"
      ]
     },
     "metadata": {},
     "output_type": "display_data"
    },
    {
     "data": {
      "text/html": [
       "<a href=http://robokop.renci.org/simple/view/511e0f7f-a4fb-4128-994a-1de02dbb6af6>View Answer in ROBOKOP</a>"
      ],
      "text/plain": [
       "<IPython.core.display.HTML object>"
      ]
     },
     "metadata": {},
     "output_type": "display_data"
    },
    {
     "data": {
      "text/html": [
       "<div>\n",
       "<style>\n",
       "    .dataframe thead tr:only-child th {\n",
       "        text-align: right;\n",
       "    }\n",
       "\n",
       "    .dataframe thead th {\n",
       "        text-align: left;\n",
       "    }\n",
       "\n",
       "    .dataframe tbody tr th {\n",
       "        vertical-align: top;\n",
       "    }\n",
       "</style>\n",
       "<table border=\"1\" class=\"dataframe\">\n",
       "  <thead>\n",
       "    <tr style=\"text-align: right;\">\n",
       "      <th></th>\n",
       "    </tr>\n",
       "  </thead>\n",
       "  <tbody>\n",
       "  </tbody>\n",
       "</table>\n",
       "</div>"
      ],
      "text/plain": [
       "Empty DataFrame\n",
       "Columns: []\n",
       "Index: []"
      ]
     },
     "metadata": {},
     "output_type": "display_data"
    },
    {
     "data": {
      "text/html": [
       "<h3>Raynaud disease</h3>"
      ],
      "text/plain": [
       "<IPython.core.display.HTML object>"
      ]
     },
     "metadata": {},
     "output_type": "display_data"
    },
    {
     "data": {
      "text/html": [
       "<a href=http://robokop.renci.org/simple/view/0c91004a-083e-4c14-966e-15e611e169e4>View Answer in ROBOKOP</a>"
      ],
      "text/plain": [
       "<IPython.core.display.HTML object>"
      ]
     },
     "metadata": {},
     "output_type": "display_data"
    },
    {
     "data": {
      "text/html": [
       "<div>\n",
       "<style>\n",
       "    .dataframe thead tr:only-child th {\n",
       "        text-align: right;\n",
       "    }\n",
       "\n",
       "    .dataframe thead th {\n",
       "        text-align: left;\n",
       "    }\n",
       "\n",
       "    .dataframe tbody tr th {\n",
       "        vertical-align: top;\n",
       "    }\n",
       "</style>\n",
       "<table border=\"1\" class=\"dataframe\">\n",
       "  <thead>\n",
       "    <tr style=\"text-align: right;\">\n",
       "      <th></th>\n",
       "      <th>n2 - id</th>\n",
       "      <th>n2 - name</th>\n",
       "      <th>n3 - id</th>\n",
       "      <th>n3 - name</th>\n",
       "      <th>score</th>\n",
       "    </tr>\n",
       "  </thead>\n",
       "  <tbody>\n",
       "    <tr>\n",
       "      <th>0</th>\n",
       "      <td>HGNC:40</td>\n",
       "      <td>ABCB1</td>\n",
       "      <td>CHEBI:45863</td>\n",
       "      <td>paclitaxel</td>\n",
       "      <td>0.500427</td>\n",
       "    </tr>\n",
       "    <tr>\n",
       "      <th>1</th>\n",
       "      <td>HGNC:40</td>\n",
       "      <td>ABCB1</td>\n",
       "      <td>CHEBI:45863</td>\n",
       "      <td>paclitaxel</td>\n",
       "      <td>0.491265</td>\n",
       "    </tr>\n",
       "    <tr>\n",
       "      <th>2</th>\n",
       "      <td>HGNC:40</td>\n",
       "      <td>ABCB1</td>\n",
       "      <td>CHEBI:45863</td>\n",
       "      <td>paclitaxel</td>\n",
       "      <td>0.479827</td>\n",
       "    </tr>\n",
       "    <tr>\n",
       "      <th>3</th>\n",
       "      <td>HGNC:11998</td>\n",
       "      <td>TP53</td>\n",
       "      <td>CHEBI:4911</td>\n",
       "      <td>etoposide</td>\n",
       "      <td>0.466655</td>\n",
       "    </tr>\n",
       "    <tr>\n",
       "      <th>4</th>\n",
       "      <td>HGNC:12680</td>\n",
       "      <td>VEGFA</td>\n",
       "      <td>CHEBI:4305</td>\n",
       "      <td>dacarbazine</td>\n",
       "      <td>0.463935</td>\n",
       "    </tr>\n",
       "  </tbody>\n",
       "</table>\n",
       "</div>"
      ],
      "text/plain": [
       "     n2 - id  n2 - name      n3 - id    n3 - name      score\n",
       "0     HGNC:40      ABCB1  CHEBI:45863   paclitaxel  0.500427\n",
       "1     HGNC:40      ABCB1  CHEBI:45863   paclitaxel  0.491265\n",
       "2     HGNC:40      ABCB1  CHEBI:45863   paclitaxel  0.479827\n",
       "3  HGNC:11998       TP53   CHEBI:4911    etoposide  0.466655\n",
       "4  HGNC:12680      VEGFA   CHEBI:4305  dacarbazine  0.463935"
      ]
     },
     "metadata": {},
     "output_type": "display_data"
    },
    {
     "data": {
      "text/html": [
       "<h3>Alzheimer disease</h3>"
      ],
      "text/plain": [
       "<IPython.core.display.HTML object>"
      ]
     },
     "metadata": {},
     "output_type": "display_data"
    },
    {
     "data": {
      "text/html": [
       "<a href=http://robokop.renci.org/simple/view/ca529ac8-f211-4f8a-9055-474fa7d4a6f7>View Answer in ROBOKOP</a>"
      ],
      "text/plain": [
       "<IPython.core.display.HTML object>"
      ]
     },
     "metadata": {},
     "output_type": "display_data"
    },
    {
     "data": {
      "text/html": [
       "<div>\n",
       "<style>\n",
       "    .dataframe thead tr:only-child th {\n",
       "        text-align: right;\n",
       "    }\n",
       "\n",
       "    .dataframe thead th {\n",
       "        text-align: left;\n",
       "    }\n",
       "\n",
       "    .dataframe tbody tr th {\n",
       "        vertical-align: top;\n",
       "    }\n",
       "</style>\n",
       "<table border=\"1\" class=\"dataframe\">\n",
       "  <thead>\n",
       "    <tr style=\"text-align: right;\">\n",
       "      <th></th>\n",
       "      <th>n2 - id</th>\n",
       "      <th>n2 - name</th>\n",
       "      <th>n3 - id</th>\n",
       "      <th>n3 - name</th>\n",
       "      <th>score</th>\n",
       "    </tr>\n",
       "  </thead>\n",
       "  <tbody>\n",
       "    <tr>\n",
       "      <th>0</th>\n",
       "      <td>HGNC:11892</td>\n",
       "      <td>TNF</td>\n",
       "      <td>CHEBI:16240</td>\n",
       "      <td>hydrogen peroxide</td>\n",
       "      <td>0.603622</td>\n",
       "    </tr>\n",
       "    <tr>\n",
       "      <th>1</th>\n",
       "      <td>HGNC:1516</td>\n",
       "      <td>CAT</td>\n",
       "      <td>CHEBI:16240</td>\n",
       "      <td>hydrogen peroxide</td>\n",
       "      <td>0.599482</td>\n",
       "    </tr>\n",
       "    <tr>\n",
       "      <th>2</th>\n",
       "      <td>HGNC:1516</td>\n",
       "      <td>CAT</td>\n",
       "      <td>CHEBI:16240</td>\n",
       "      <td>hydrogen peroxide</td>\n",
       "      <td>0.580152</td>\n",
       "    </tr>\n",
       "    <tr>\n",
       "      <th>3</th>\n",
       "      <td>HGNC:11180</td>\n",
       "      <td>SOD2</td>\n",
       "      <td>CHEBI:16240</td>\n",
       "      <td>hydrogen peroxide</td>\n",
       "      <td>0.555113</td>\n",
       "    </tr>\n",
       "    <tr>\n",
       "      <th>4</th>\n",
       "      <td>HGNC:9449</td>\n",
       "      <td>PRNP</td>\n",
       "      <td>CHEBI:39867</td>\n",
       "      <td>valproic acid</td>\n",
       "      <td>0.548847</td>\n",
       "    </tr>\n",
       "  </tbody>\n",
       "</table>\n",
       "</div>"
      ],
      "text/plain": [
       "     n2 - id  n2 - name      n3 - id          n3 - name      score\n",
       "0  HGNC:11892        TNF  CHEBI:16240  hydrogen peroxide  0.603622\n",
       "1   HGNC:1516        CAT  CHEBI:16240  hydrogen peroxide  0.599482\n",
       "2   HGNC:1516        CAT  CHEBI:16240  hydrogen peroxide  0.580152\n",
       "3  HGNC:11180       SOD2  CHEBI:16240  hydrogen peroxide  0.555113\n",
       "4   HGNC:9449       PRNP  CHEBI:39867      valproic acid  0.548847"
      ]
     },
     "metadata": {},
     "output_type": "display_data"
    },
    {
     "data": {
      "text/html": [
       "<h3>Leigh disease</h3>"
      ],
      "text/plain": [
       "<IPython.core.display.HTML object>"
      ]
     },
     "metadata": {},
     "output_type": "display_data"
    },
    {
     "data": {
      "text/html": [
       "<a href=http://robokop.renci.org/simple/view/f265b4d7-ffce-404b-925f-9d94172240ba>View Answer in ROBOKOP</a>"
      ],
      "text/plain": [
       "<IPython.core.display.HTML object>"
      ]
     },
     "metadata": {},
     "output_type": "display_data"
    },
    {
     "data": {
      "text/html": [
       "<div>\n",
       "<style>\n",
       "    .dataframe thead tr:only-child th {\n",
       "        text-align: right;\n",
       "    }\n",
       "\n",
       "    .dataframe thead th {\n",
       "        text-align: left;\n",
       "    }\n",
       "\n",
       "    .dataframe tbody tr th {\n",
       "        vertical-align: top;\n",
       "    }\n",
       "</style>\n",
       "<table border=\"1\" class=\"dataframe\">\n",
       "  <thead>\n",
       "    <tr style=\"text-align: right;\">\n",
       "      <th></th>\n",
       "    </tr>\n",
       "  </thead>\n",
       "  <tbody>\n",
       "  </tbody>\n",
       "</table>\n",
       "</div>"
      ],
      "text/plain": [
       "Empty DataFrame\n",
       "Columns: []\n",
       "Index: []"
      ]
     },
     "metadata": {},
     "output_type": "display_data"
    },
    {
     "data": {
      "text/html": [
       "<h3>apert syndrome</h3>"
      ],
      "text/plain": [
       "<IPython.core.display.HTML object>"
      ]
     },
     "metadata": {},
     "output_type": "display_data"
    },
    {
     "data": {
      "text/html": [
       "<a href=http://robokop.renci.org/simple/view/babcaaaa-88f9-46b4-be63-82af22b63453>View Answer in ROBOKOP</a>"
      ],
      "text/plain": [
       "<IPython.core.display.HTML object>"
      ]
     },
     "metadata": {},
     "output_type": "display_data"
    },
    {
     "data": {
      "text/html": [
       "<div>\n",
       "<style>\n",
       "    .dataframe thead tr:only-child th {\n",
       "        text-align: right;\n",
       "    }\n",
       "\n",
       "    .dataframe thead th {\n",
       "        text-align: left;\n",
       "    }\n",
       "\n",
       "    .dataframe tbody tr th {\n",
       "        vertical-align: top;\n",
       "    }\n",
       "</style>\n",
       "<table border=\"1\" class=\"dataframe\">\n",
       "  <thead>\n",
       "    <tr style=\"text-align: right;\">\n",
       "      <th></th>\n",
       "    </tr>\n",
       "  </thead>\n",
       "  <tbody>\n",
       "  </tbody>\n",
       "</table>\n",
       "</div>"
      ],
      "text/plain": [
       "Empty DataFrame\n",
       "Columns: []\n",
       "Index: []"
      ]
     },
     "metadata": {},
     "output_type": "display_data"
    },
    {
     "data": {
      "text/html": [
       "<h3>ehlers-danlos syndrome</h3>"
      ],
      "text/plain": [
       "<IPython.core.display.HTML object>"
      ]
     },
     "metadata": {},
     "output_type": "display_data"
    },
    {
     "data": {
      "text/html": [
       "<a href=http://robokop.renci.org/simple/view/d6714ad4-12e9-4451-8a29-f2f12e53918b>View Answer in ROBOKOP</a>"
      ],
      "text/plain": [
       "<IPython.core.display.HTML object>"
      ]
     },
     "metadata": {},
     "output_type": "display_data"
    },
    {
     "data": {
      "text/html": [
       "<div>\n",
       "<style>\n",
       "    .dataframe thead tr:only-child th {\n",
       "        text-align: right;\n",
       "    }\n",
       "\n",
       "    .dataframe thead th {\n",
       "        text-align: left;\n",
       "    }\n",
       "\n",
       "    .dataframe tbody tr th {\n",
       "        vertical-align: top;\n",
       "    }\n",
       "</style>\n",
       "<table border=\"1\" class=\"dataframe\">\n",
       "  <thead>\n",
       "    <tr style=\"text-align: right;\">\n",
       "      <th></th>\n",
       "    </tr>\n",
       "  </thead>\n",
       "  <tbody>\n",
       "  </tbody>\n",
       "</table>\n",
       "</div>"
      ],
      "text/plain": [
       "Empty DataFrame\n",
       "Columns: []\n",
       "Index: []"
      ]
     },
     "metadata": {},
     "output_type": "display_data"
    },
    {
     "data": {
      "text/html": [
       "<h3>diabetic ketoacidosis</h3>"
      ],
      "text/plain": [
       "<IPython.core.display.HTML object>"
      ]
     },
     "metadata": {},
     "output_type": "display_data"
    },
    {
     "data": {
      "text/html": [
       "<a href=http://robokop.renci.org/simple/view/5a8e242e-df10-46bc-8075-be6b1c721b31>View Answer in ROBOKOP</a>"
      ],
      "text/plain": [
       "<IPython.core.display.HTML object>"
      ]
     },
     "metadata": {},
     "output_type": "display_data"
    },
    {
     "data": {
      "text/html": [
       "<div>\n",
       "<style>\n",
       "    .dataframe thead tr:only-child th {\n",
       "        text-align: right;\n",
       "    }\n",
       "\n",
       "    .dataframe thead th {\n",
       "        text-align: left;\n",
       "    }\n",
       "\n",
       "    .dataframe tbody tr th {\n",
       "        vertical-align: top;\n",
       "    }\n",
       "</style>\n",
       "<table border=\"1\" class=\"dataframe\">\n",
       "  <thead>\n",
       "    <tr style=\"text-align: right;\">\n",
       "      <th></th>\n",
       "      <th>n2 - id</th>\n",
       "      <th>n2 - name</th>\n",
       "      <th>n3 - id</th>\n",
       "      <th>n3 - name</th>\n",
       "      <th>score</th>\n",
       "    </tr>\n",
       "  </thead>\n",
       "  <tbody>\n",
       "    <tr>\n",
       "      <th>0</th>\n",
       "      <td>HGNC:2596</td>\n",
       "      <td>CYP1A2</td>\n",
       "      <td>CHEBI:8069</td>\n",
       "      <td>phenobarbital</td>\n",
       "      <td>0.401843</td>\n",
       "    </tr>\n",
       "    <tr>\n",
       "      <th>1</th>\n",
       "      <td>HGNC:2631</td>\n",
       "      <td>CYP2E1</td>\n",
       "      <td>CHEBI:16236</td>\n",
       "      <td>ethanol</td>\n",
       "      <td>0.395748</td>\n",
       "    </tr>\n",
       "    <tr>\n",
       "      <th>2</th>\n",
       "      <td>HGNC:2631</td>\n",
       "      <td>CYP2E1</td>\n",
       "      <td>CHEBI:46195</td>\n",
       "      <td>paracetamol</td>\n",
       "      <td>0.389738</td>\n",
       "    </tr>\n",
       "    <tr>\n",
       "      <th>3</th>\n",
       "      <td>HGNC:3024</td>\n",
       "      <td>DRD3</td>\n",
       "      <td>CHEBI:18243</td>\n",
       "      <td>dopamine</td>\n",
       "      <td>0.387178</td>\n",
       "    </tr>\n",
       "    <tr>\n",
       "      <th>4</th>\n",
       "      <td>HGNC:2631</td>\n",
       "      <td>CYP2E1</td>\n",
       "      <td>CHEBI:15347</td>\n",
       "      <td>acetone</td>\n",
       "      <td>0.381824</td>\n",
       "    </tr>\n",
       "  </tbody>\n",
       "</table>\n",
       "</div>"
      ],
      "text/plain": [
       "    n2 - id  n2 - name      n3 - id      n3 - name      score\n",
       "0  HGNC:2596     CYP1A2   CHEBI:8069  phenobarbital  0.401843\n",
       "1  HGNC:2631     CYP2E1  CHEBI:16236        ethanol  0.395748\n",
       "2  HGNC:2631     CYP2E1  CHEBI:46195    paracetamol  0.389738\n",
       "3  HGNC:3024       DRD3  CHEBI:18243       dopamine  0.387178\n",
       "4  HGNC:2631     CYP2E1  CHEBI:15347        acetone  0.381824"
      ]
     },
     "metadata": {},
     "output_type": "display_data"
    },
    {
     "data": {
      "text/html": [
       "<h3>diffuse idiopathic skeletal hyperostosis</h3>"
      ],
      "text/plain": [
       "<IPython.core.display.HTML object>"
      ]
     },
     "metadata": {},
     "output_type": "display_data"
    },
    {
     "data": {
      "text/html": [
       "<a href=http://robokop.renci.org/simple/view/7ed858f3-5d23-45c0-b96f-9875d2def41d>View Answer in ROBOKOP</a>"
      ],
      "text/plain": [
       "<IPython.core.display.HTML object>"
      ]
     },
     "metadata": {},
     "output_type": "display_data"
    },
    {
     "data": {
      "text/html": [
       "<div>\n",
       "<style>\n",
       "    .dataframe thead tr:only-child th {\n",
       "        text-align: right;\n",
       "    }\n",
       "\n",
       "    .dataframe thead th {\n",
       "        text-align: left;\n",
       "    }\n",
       "\n",
       "    .dataframe tbody tr th {\n",
       "        vertical-align: top;\n",
       "    }\n",
       "</style>\n",
       "<table border=\"1\" class=\"dataframe\">\n",
       "  <thead>\n",
       "    <tr style=\"text-align: right;\">\n",
       "      <th></th>\n",
       "    </tr>\n",
       "  </thead>\n",
       "  <tbody>\n",
       "  </tbody>\n",
       "</table>\n",
       "</div>"
      ],
      "text/plain": [
       "Empty DataFrame\n",
       "Columns: []\n",
       "Index: []"
      ]
     },
     "metadata": {},
     "output_type": "display_data"
    },
    {
     "data": {
      "text/html": [
       "<h3>newborn respiratory distress syndrome</h3>"
      ],
      "text/plain": [
       "<IPython.core.display.HTML object>"
      ]
     },
     "metadata": {},
     "output_type": "display_data"
    },
    {
     "data": {
      "text/html": [
       "<a href=http://robokop.renci.org/simple/view/9fb17900-3b25-4d7c-a644-d660811cd606>View Answer in ROBOKOP</a>"
      ],
      "text/plain": [
       "<IPython.core.display.HTML object>"
      ]
     },
     "metadata": {},
     "output_type": "display_data"
    },
    {
     "data": {
      "text/html": [
       "<div>\n",
       "<style>\n",
       "    .dataframe thead tr:only-child th {\n",
       "        text-align: right;\n",
       "    }\n",
       "\n",
       "    .dataframe thead th {\n",
       "        text-align: left;\n",
       "    }\n",
       "\n",
       "    .dataframe tbody tr th {\n",
       "        vertical-align: top;\n",
       "    }\n",
       "</style>\n",
       "<table border=\"1\" class=\"dataframe\">\n",
       "  <thead>\n",
       "    <tr style=\"text-align: right;\">\n",
       "      <th></th>\n",
       "      <th>n2 - id</th>\n",
       "      <th>n2 - name</th>\n",
       "      <th>n3 - id</th>\n",
       "      <th>n3 - name</th>\n",
       "      <th>score</th>\n",
       "    </tr>\n",
       "  </thead>\n",
       "  <tbody>\n",
       "    <tr>\n",
       "      <th>0</th>\n",
       "      <td>HGNC:11892</td>\n",
       "      <td>TNF</td>\n",
       "      <td>CHEBI:27958</td>\n",
       "      <td>cocaine</td>\n",
       "      <td>0.452450</td>\n",
       "    </tr>\n",
       "    <tr>\n",
       "      <th>1</th>\n",
       "      <td>HGNC:11048</td>\n",
       "      <td>SLC6A2</td>\n",
       "      <td>CHEBI:27958</td>\n",
       "      <td>cocaine</td>\n",
       "      <td>0.438958</td>\n",
       "    </tr>\n",
       "    <tr>\n",
       "      <th>2</th>\n",
       "      <td>HGNC:3023</td>\n",
       "      <td>DRD2</td>\n",
       "      <td>CHEBI:18243</td>\n",
       "      <td>dopamine</td>\n",
       "      <td>0.438406</td>\n",
       "    </tr>\n",
       "    <tr>\n",
       "      <th>3</th>\n",
       "      <td>HGNC:11049</td>\n",
       "      <td>SLC6A3</td>\n",
       "      <td>CHEBI:27958</td>\n",
       "      <td>cocaine</td>\n",
       "      <td>0.436290</td>\n",
       "    </tr>\n",
       "    <tr>\n",
       "      <th>4</th>\n",
       "      <td>HGNC:3020</td>\n",
       "      <td>DRD1</td>\n",
       "      <td>CHEBI:18243</td>\n",
       "      <td>dopamine</td>\n",
       "      <td>0.435000</td>\n",
       "    </tr>\n",
       "  </tbody>\n",
       "</table>\n",
       "</div>"
      ],
      "text/plain": [
       "     n2 - id  n2 - name      n3 - id  n3 - name      score\n",
       "0  HGNC:11892        TNF  CHEBI:27958    cocaine  0.452450\n",
       "1  HGNC:11048     SLC6A2  CHEBI:27958    cocaine  0.438958\n",
       "2   HGNC:3023       DRD2  CHEBI:18243   dopamine  0.438406\n",
       "3  HGNC:11049     SLC6A3  CHEBI:27958    cocaine  0.436290\n",
       "4   HGNC:3020       DRD1  CHEBI:18243   dopamine  0.435000"
      ]
     },
     "metadata": {},
     "output_type": "display_data"
    },
    {
     "data": {
      "text/html": [
       "<h3>mitochondrial DNA depletion syndrome 4a</h3>"
      ],
      "text/plain": [
       "<IPython.core.display.HTML object>"
      ]
     },
     "metadata": {},
     "output_type": "display_data"
    },
    {
     "data": {
      "text/html": [
       "<a href=http://robokop.renci.org/simple/view/c2766f1c-982f-4630-bc00-ec0d05f7b376>View Answer in ROBOKOP</a>"
      ],
      "text/plain": [
       "<IPython.core.display.HTML object>"
      ]
     },
     "metadata": {},
     "output_type": "display_data"
    },
    {
     "data": {
      "text/html": [
       "<div>\n",
       "<style>\n",
       "    .dataframe thead tr:only-child th {\n",
       "        text-align: right;\n",
       "    }\n",
       "\n",
       "    .dataframe thead th {\n",
       "        text-align: left;\n",
       "    }\n",
       "\n",
       "    .dataframe tbody tr th {\n",
       "        vertical-align: top;\n",
       "    }\n",
       "</style>\n",
       "<table border=\"1\" class=\"dataframe\">\n",
       "  <thead>\n",
       "    <tr style=\"text-align: right;\">\n",
       "      <th></th>\n",
       "    </tr>\n",
       "  </thead>\n",
       "  <tbody>\n",
       "  </tbody>\n",
       "</table>\n",
       "</div>"
      ],
      "text/plain": [
       "Empty DataFrame\n",
       "Columns: []\n",
       "Index: []"
      ]
     },
     "metadata": {},
     "output_type": "display_data"
    },
    {
     "data": {
      "text/html": [
       "<h3>hypogonadotropic hypogonadism associated with</h3>"
      ],
      "text/plain": [
       "<IPython.core.display.HTML object>"
      ]
     },
     "metadata": {},
     "output_type": "display_data"
    },
    {
     "data": {
      "text/html": [
       "<a href=http://robokop.renci.org/simple/view/7fa942ff-8b85-4268-9584-756814ce0a14>View Answer in ROBOKOP</a>"
      ],
      "text/plain": [
       "<IPython.core.display.HTML object>"
      ]
     },
     "metadata": {},
     "output_type": "display_data"
    },
    {
     "data": {
      "text/html": [
       "<div>\n",
       "<style>\n",
       "    .dataframe thead tr:only-child th {\n",
       "        text-align: right;\n",
       "    }\n",
       "\n",
       "    .dataframe thead th {\n",
       "        text-align: left;\n",
       "    }\n",
       "\n",
       "    .dataframe tbody tr th {\n",
       "        vertical-align: top;\n",
       "    }\n",
       "</style>\n",
       "<table border=\"1\" class=\"dataframe\">\n",
       "  <thead>\n",
       "    <tr style=\"text-align: right;\">\n",
       "      <th></th>\n",
       "    </tr>\n",
       "  </thead>\n",
       "  <tbody>\n",
       "  </tbody>\n",
       "</table>\n",
       "</div>"
      ],
      "text/plain": [
       "Empty DataFrame\n",
       "Columns: []\n",
       "Index: []"
      ]
     },
     "metadata": {},
     "output_type": "display_data"
    },
    {
     "data": {
      "text/html": [
       "<h3>metabolic disease with dementia</h3>"
      ],
      "text/plain": [
       "<IPython.core.display.HTML object>"
      ]
     },
     "metadata": {},
     "output_type": "display_data"
    },
    {
     "data": {
      "text/html": [
       "<a href=http://robokop.renci.org/simple/view/83b33fcc-0bb3-4b33-a97a-3d7c958f6fa6>View Answer in ROBOKOP</a>"
      ],
      "text/plain": [
       "<IPython.core.display.HTML object>"
      ]
     },
     "metadata": {},
     "output_type": "display_data"
    },
    {
     "data": {
      "text/html": [
       "<div>\n",
       "<style>\n",
       "    .dataframe thead tr:only-child th {\n",
       "        text-align: right;\n",
       "    }\n",
       "\n",
       "    .dataframe thead th {\n",
       "        text-align: left;\n",
       "    }\n",
       "\n",
       "    .dataframe tbody tr th {\n",
       "        vertical-align: top;\n",
       "    }\n",
       "</style>\n",
       "<table border=\"1\" class=\"dataframe\">\n",
       "  <thead>\n",
       "    <tr style=\"text-align: right;\">\n",
       "      <th></th>\n",
       "    </tr>\n",
       "  </thead>\n",
       "  <tbody>\n",
       "  </tbody>\n",
       "</table>\n",
       "</div>"
      ],
      "text/plain": [
       "Empty DataFrame\n",
       "Columns: []\n",
       "Index: []"
      ]
     },
     "metadata": {},
     "output_type": "display_data"
    },
    {
     "data": {
      "text/html": [
       "<h3>primary immunodeficiency due to a genetic</h3>"
      ],
      "text/plain": [
       "<IPython.core.display.HTML object>"
      ]
     },
     "metadata": {},
     "output_type": "display_data"
    },
    {
     "data": {
      "text/html": [
       "<a href=http://robokop.renci.org/simple/view/7505e5ff-044d-4758-a67c-2f156a2de387>View Answer in ROBOKOP</a>"
      ],
      "text/plain": [
       "<IPython.core.display.HTML object>"
      ]
     },
     "metadata": {},
     "output_type": "display_data"
    },
    {
     "data": {
      "text/html": [
       "<div>\n",
       "<style>\n",
       "    .dataframe thead tr:only-child th {\n",
       "        text-align: right;\n",
       "    }\n",
       "\n",
       "    .dataframe thead th {\n",
       "        text-align: left;\n",
       "    }\n",
       "\n",
       "    .dataframe tbody tr th {\n",
       "        vertical-align: top;\n",
       "    }\n",
       "</style>\n",
       "<table border=\"1\" class=\"dataframe\">\n",
       "  <thead>\n",
       "    <tr style=\"text-align: right;\">\n",
       "      <th></th>\n",
       "    </tr>\n",
       "  </thead>\n",
       "  <tbody>\n",
       "  </tbody>\n",
       "</table>\n",
       "</div>"
      ],
      "text/plain": [
       "Empty DataFrame\n",
       "Columns: []\n",
       "Index: []"
      ]
     },
     "metadata": {},
     "output_type": "display_data"
    },
    {
     "data": {
      "text/html": [
       "<h3>sickle cell anemia</h3>"
      ],
      "text/plain": [
       "<IPython.core.display.HTML object>"
      ]
     },
     "metadata": {},
     "output_type": "display_data"
    },
    {
     "data": {
      "text/html": [
       "<a href=http://robokop.renci.org/simple/view/a69ee22e-3953-41db-99b9-fbb0ca87e268>View Answer in ROBOKOP</a>"
      ],
      "text/plain": [
       "<IPython.core.display.HTML object>"
      ]
     },
     "metadata": {},
     "output_type": "display_data"
    },
    {
     "data": {
      "text/html": [
       "<div>\n",
       "<style>\n",
       "    .dataframe thead tr:only-child th {\n",
       "        text-align: right;\n",
       "    }\n",
       "\n",
       "    .dataframe thead th {\n",
       "        text-align: left;\n",
       "    }\n",
       "\n",
       "    .dataframe tbody tr th {\n",
       "        vertical-align: top;\n",
       "    }\n",
       "</style>\n",
       "<table border=\"1\" class=\"dataframe\">\n",
       "  <thead>\n",
       "    <tr style=\"text-align: right;\">\n",
       "      <th></th>\n",
       "      <th>n2 - id</th>\n",
       "      <th>n2 - name</th>\n",
       "      <th>n3 - id</th>\n",
       "      <th>n3 - name</th>\n",
       "      <th>score</th>\n",
       "    </tr>\n",
       "  </thead>\n",
       "  <tbody>\n",
       "    <tr>\n",
       "      <th>0</th>\n",
       "      <td>HGNC:5992</td>\n",
       "      <td>IL1B</td>\n",
       "      <td>CHEBI:15422</td>\n",
       "      <td>ATP</td>\n",
       "      <td>0.439410</td>\n",
       "    </tr>\n",
       "    <tr>\n",
       "      <th>1</th>\n",
       "      <td>HGNC:40</td>\n",
       "      <td>ABCB1</td>\n",
       "      <td>CHEBI:46195</td>\n",
       "      <td>paracetamol</td>\n",
       "      <td>0.437209</td>\n",
       "    </tr>\n",
       "    <tr>\n",
       "      <th>2</th>\n",
       "      <td>HGNC:6018</td>\n",
       "      <td>IL6</td>\n",
       "      <td>CHEBI:16240</td>\n",
       "      <td>hydrogen peroxide</td>\n",
       "      <td>0.434750</td>\n",
       "    </tr>\n",
       "    <tr>\n",
       "      <th>3</th>\n",
       "      <td>HGNC:6018</td>\n",
       "      <td>IL6</td>\n",
       "      <td>CHEBI:46195</td>\n",
       "      <td>paracetamol</td>\n",
       "      <td>0.430204</td>\n",
       "    </tr>\n",
       "    <tr>\n",
       "      <th>4</th>\n",
       "      <td>HGNC:9605</td>\n",
       "      <td>PTGS2</td>\n",
       "      <td>CHEBI:16240</td>\n",
       "      <td>hydrogen peroxide</td>\n",
       "      <td>0.429354</td>\n",
       "    </tr>\n",
       "  </tbody>\n",
       "</table>\n",
       "</div>"
      ],
      "text/plain": [
       "    n2 - id  n2 - name      n3 - id          n3 - name      score\n",
       "0  HGNC:5992       IL1B  CHEBI:15422                ATP  0.439410\n",
       "1    HGNC:40      ABCB1  CHEBI:46195        paracetamol  0.437209\n",
       "2  HGNC:6018        IL6  CHEBI:16240  hydrogen peroxide  0.434750\n",
       "3  HGNC:6018        IL6  CHEBI:46195        paracetamol  0.430204\n",
       "4  HGNC:9605      PTGS2  CHEBI:16240  hydrogen peroxide  0.429354"
      ]
     },
     "metadata": {},
     "output_type": "display_data"
    },
    {
     "data": {
      "text/html": [
       "<h3>progressive supranuclear palsy</h3>"
      ],
      "text/plain": [
       "<IPython.core.display.HTML object>"
      ]
     },
     "metadata": {},
     "output_type": "display_data"
    },
    {
     "data": {
      "text/html": [
       "<a href=http://robokop.renci.org/simple/view/d215e72b-06a7-4118-a808-c8aa874e5f29>View Answer in ROBOKOP</a>"
      ],
      "text/plain": [
       "<IPython.core.display.HTML object>"
      ]
     },
     "metadata": {},
     "output_type": "display_data"
    },
    {
     "data": {
      "text/html": [
       "<div>\n",
       "<style>\n",
       "    .dataframe thead tr:only-child th {\n",
       "        text-align: right;\n",
       "    }\n",
       "\n",
       "    .dataframe thead th {\n",
       "        text-align: left;\n",
       "    }\n",
       "\n",
       "    .dataframe tbody tr th {\n",
       "        vertical-align: top;\n",
       "    }\n",
       "</style>\n",
       "<table border=\"1\" class=\"dataframe\">\n",
       "  <thead>\n",
       "    <tr style=\"text-align: right;\">\n",
       "      <th></th>\n",
       "      <th>n2 - id</th>\n",
       "      <th>n2 - name</th>\n",
       "      <th>n3 - id</th>\n",
       "      <th>n3 - name</th>\n",
       "      <th>score</th>\n",
       "    </tr>\n",
       "  </thead>\n",
       "  <tbody>\n",
       "    <tr>\n",
       "      <th>0</th>\n",
       "      <td>HGNC:2631</td>\n",
       "      <td>CYP2E1</td>\n",
       "      <td>CHEBI:16236</td>\n",
       "      <td>ethanol</td>\n",
       "      <td>0.391144</td>\n",
       "    </tr>\n",
       "    <tr>\n",
       "      <th>1</th>\n",
       "      <td>HGNC:2615</td>\n",
       "      <td>CYP2B6</td>\n",
       "      <td>CHEBI:28077</td>\n",
       "      <td>rifampicin</td>\n",
       "      <td>0.390550</td>\n",
       "    </tr>\n",
       "    <tr>\n",
       "      <th>2</th>\n",
       "      <td>HGNC:2623</td>\n",
       "      <td>CYP2C9</td>\n",
       "      <td>CHEBI:28077</td>\n",
       "      <td>rifampicin</td>\n",
       "      <td>0.390436</td>\n",
       "    </tr>\n",
       "    <tr>\n",
       "      <th>3</th>\n",
       "      <td>HGNC:2615</td>\n",
       "      <td>CYP2B6</td>\n",
       "      <td>CHEBI:8107</td>\n",
       "      <td>phenytoin</td>\n",
       "      <td>0.383546</td>\n",
       "    </tr>\n",
       "    <tr>\n",
       "      <th>4</th>\n",
       "      <td>HGNC:2622</td>\n",
       "      <td>CYP2C8</td>\n",
       "      <td>CHEBI:28077</td>\n",
       "      <td>rifampicin</td>\n",
       "      <td>0.382113</td>\n",
       "    </tr>\n",
       "  </tbody>\n",
       "</table>\n",
       "</div>"
      ],
      "text/plain": [
       "    n2 - id  n2 - name      n3 - id   n3 - name      score\n",
       "0  HGNC:2631     CYP2E1  CHEBI:16236     ethanol  0.391144\n",
       "1  HGNC:2615     CYP2B6  CHEBI:28077  rifampicin  0.390550\n",
       "2  HGNC:2623     CYP2C9  CHEBI:28077  rifampicin  0.390436\n",
       "3  HGNC:2615     CYP2B6   CHEBI:8107   phenytoin  0.383546\n",
       "4  HGNC:2622     CYP2C8  CHEBI:28077  rifampicin  0.382113"
      ]
     },
     "metadata": {},
     "output_type": "display_data"
    },
    {
     "data": {
      "text/html": [
       "<h3>endogenous depression</h3>"
      ],
      "text/plain": [
       "<IPython.core.display.HTML object>"
      ]
     },
     "metadata": {},
     "output_type": "display_data"
    },
    {
     "data": {
      "text/html": [
       "<a href=http://robokop.renci.org/simple/view/ed96c818-2bd1-450c-8a7a-0f083f80754b>View Answer in ROBOKOP</a>"
      ],
      "text/plain": [
       "<IPython.core.display.HTML object>"
      ]
     },
     "metadata": {},
     "output_type": "display_data"
    },
    {
     "data": {
      "text/html": [
       "<div>\n",
       "<style>\n",
       "    .dataframe thead tr:only-child th {\n",
       "        text-align: right;\n",
       "    }\n",
       "\n",
       "    .dataframe thead th {\n",
       "        text-align: left;\n",
       "    }\n",
       "\n",
       "    .dataframe tbody tr th {\n",
       "        vertical-align: top;\n",
       "    }\n",
       "</style>\n",
       "<table border=\"1\" class=\"dataframe\">\n",
       "  <thead>\n",
       "    <tr style=\"text-align: right;\">\n",
       "      <th></th>\n",
       "    </tr>\n",
       "  </thead>\n",
       "  <tbody>\n",
       "  </tbody>\n",
       "</table>\n",
       "</div>"
      ],
      "text/plain": [
       "Empty DataFrame\n",
       "Columns: []\n",
       "Index: []"
      ]
     },
     "metadata": {},
     "output_type": "display_data"
    },
    {
     "data": {
      "text/html": [
       "<h3>non-acquired combined pituitary hormone defici.</h3>"
      ],
      "text/plain": [
       "<IPython.core.display.HTML object>"
      ]
     },
     "metadata": {},
     "output_type": "display_data"
    },
    {
     "data": {
      "text/html": [
       "<a href=http://robokop.renci.org/simple/view/758bcc8e-9b9b-419e-927e-95c1e1827243>View Answer in ROBOKOP</a>"
      ],
      "text/plain": [
       "<IPython.core.display.HTML object>"
      ]
     },
     "metadata": {},
     "output_type": "display_data"
    },
    {
     "data": {
      "text/html": [
       "<div>\n",
       "<style>\n",
       "    .dataframe thead tr:only-child th {\n",
       "        text-align: right;\n",
       "    }\n",
       "\n",
       "    .dataframe thead th {\n",
       "        text-align: left;\n",
       "    }\n",
       "\n",
       "    .dataframe tbody tr th {\n",
       "        vertical-align: top;\n",
       "    }\n",
       "</style>\n",
       "<table border=\"1\" class=\"dataframe\">\n",
       "  <thead>\n",
       "    <tr style=\"text-align: right;\">\n",
       "      <th></th>\n",
       "    </tr>\n",
       "  </thead>\n",
       "  <tbody>\n",
       "  </tbody>\n",
       "</table>\n",
       "</div>"
      ],
      "text/plain": [
       "Empty DataFrame\n",
       "Columns: []\n",
       "Index: []"
      ]
     },
     "metadata": {},
     "output_type": "display_data"
    },
    {
     "data": {
      "text/html": [
       "<h3>Meniere disease</h3>"
      ],
      "text/plain": [
       "<IPython.core.display.HTML object>"
      ]
     },
     "metadata": {},
     "output_type": "display_data"
    },
    {
     "data": {
      "text/html": [
       "<a href=http://robokop.renci.org/simple/view/739d3675-54a7-4f65-abb4-ce73d7e54f22>View Answer in ROBOKOP</a>"
      ],
      "text/plain": [
       "<IPython.core.display.HTML object>"
      ]
     },
     "metadata": {},
     "output_type": "display_data"
    },
    {
     "data": {
      "text/html": [
       "<div>\n",
       "<style>\n",
       "    .dataframe thead tr:only-child th {\n",
       "        text-align: right;\n",
       "    }\n",
       "\n",
       "    .dataframe thead th {\n",
       "        text-align: left;\n",
       "    }\n",
       "\n",
       "    .dataframe tbody tr th {\n",
       "        vertical-align: top;\n",
       "    }\n",
       "</style>\n",
       "<table border=\"1\" class=\"dataframe\">\n",
       "  <thead>\n",
       "    <tr style=\"text-align: right;\">\n",
       "      <th></th>\n",
       "      <th>n2 - id</th>\n",
       "      <th>n2 - name</th>\n",
       "      <th>n3 - id</th>\n",
       "      <th>n3 - name</th>\n",
       "      <th>score</th>\n",
       "    </tr>\n",
       "  </thead>\n",
       "  <tbody>\n",
       "    <tr>\n",
       "      <th>0</th>\n",
       "      <td>HGNC:11920</td>\n",
       "      <td>FAS</td>\n",
       "      <td>CHEBI:27504</td>\n",
       "      <td>mitomycin C</td>\n",
       "      <td>0.343293</td>\n",
       "    </tr>\n",
       "    <tr>\n",
       "      <th>1</th>\n",
       "      <td>HGNC:2594</td>\n",
       "      <td>CYP19A1</td>\n",
       "      <td>CHEBI:17026</td>\n",
       "      <td>progesterone</td>\n",
       "      <td>0.340008</td>\n",
       "    </tr>\n",
       "    <tr>\n",
       "      <th>2</th>\n",
       "      <td>HGNC:11920</td>\n",
       "      <td>FAS</td>\n",
       "      <td>CHEBI:44185</td>\n",
       "      <td>methotrexate</td>\n",
       "      <td>0.324045</td>\n",
       "    </tr>\n",
       "    <tr>\n",
       "      <th>3</th>\n",
       "      <td>HGNC:9604</td>\n",
       "      <td>PTGS1</td>\n",
       "      <td>CHEBI:41879</td>\n",
       "      <td>dexamethasone</td>\n",
       "      <td>0.303558</td>\n",
       "    </tr>\n",
       "    <tr>\n",
       "      <th>4</th>\n",
       "      <td>HGNC:2595</td>\n",
       "      <td>CYP1A1</td>\n",
       "      <td>CHEBI:41879</td>\n",
       "      <td>dexamethasone</td>\n",
       "      <td>0.303497</td>\n",
       "    </tr>\n",
       "  </tbody>\n",
       "</table>\n",
       "</div>"
      ],
      "text/plain": [
       "     n2 - id  n2 - name      n3 - id      n3 - name      score\n",
       "0  HGNC:11920        FAS  CHEBI:27504    mitomycin C  0.343293\n",
       "1   HGNC:2594    CYP19A1  CHEBI:17026   progesterone  0.340008\n",
       "2  HGNC:11920        FAS  CHEBI:44185   methotrexate  0.324045\n",
       "3   HGNC:9604      PTGS1  CHEBI:41879  dexamethasone  0.303558\n",
       "4   HGNC:2595     CYP1A1  CHEBI:41879  dexamethasone  0.303497"
      ]
     },
     "metadata": {},
     "output_type": "display_data"
    },
    {
     "data": {
      "text/html": [
       "<h3>mitochondrial myopathy</h3>"
      ],
      "text/plain": [
       "<IPython.core.display.HTML object>"
      ]
     },
     "metadata": {},
     "output_type": "display_data"
    },
    {
     "data": {
      "text/html": [
       "<a href=http://robokop.renci.org/simple/view/ad5dc054-3bc1-4409-9839-df16861b68b9>View Answer in ROBOKOP</a>"
      ],
      "text/plain": [
       "<IPython.core.display.HTML object>"
      ]
     },
     "metadata": {},
     "output_type": "display_data"
    },
    {
     "data": {
      "text/html": [
       "<div>\n",
       "<style>\n",
       "    .dataframe thead tr:only-child th {\n",
       "        text-align: right;\n",
       "    }\n",
       "\n",
       "    .dataframe thead th {\n",
       "        text-align: left;\n",
       "    }\n",
       "\n",
       "    .dataframe tbody tr th {\n",
       "        vertical-align: top;\n",
       "    }\n",
       "</style>\n",
       "<table border=\"1\" class=\"dataframe\">\n",
       "  <thead>\n",
       "    <tr style=\"text-align: right;\">\n",
       "      <th></th>\n",
       "      <th>n2 - id</th>\n",
       "      <th>n2 - name</th>\n",
       "      <th>n3 - id</th>\n",
       "      <th>n3 - name</th>\n",
       "      <th>score</th>\n",
       "    </tr>\n",
       "  </thead>\n",
       "  <tbody>\n",
       "    <tr>\n",
       "      <th>0</th>\n",
       "      <td>HGNC:1516</td>\n",
       "      <td>CAT</td>\n",
       "      <td>CHEBI:16240</td>\n",
       "      <td>hydrogen peroxide</td>\n",
       "      <td>0.516117</td>\n",
       "    </tr>\n",
       "    <tr>\n",
       "      <th>1</th>\n",
       "      <td>HGNC:1516</td>\n",
       "      <td>CAT</td>\n",
       "      <td>CHEBI:3750</td>\n",
       "      <td>clofibrate</td>\n",
       "      <td>0.511137</td>\n",
       "    </tr>\n",
       "    <tr>\n",
       "      <th>2</th>\n",
       "      <td>HGNC:1516</td>\n",
       "      <td>CAT</td>\n",
       "      <td>CHEBI:28201</td>\n",
       "      <td>rotenone</td>\n",
       "      <td>0.500678</td>\n",
       "    </tr>\n",
       "    <tr>\n",
       "      <th>3</th>\n",
       "      <td>HGNC:11180</td>\n",
       "      <td>SOD2</td>\n",
       "      <td>CHEBI:16236</td>\n",
       "      <td>ethanol</td>\n",
       "      <td>0.495829</td>\n",
       "    </tr>\n",
       "    <tr>\n",
       "      <th>4</th>\n",
       "      <td>HGNC:11180</td>\n",
       "      <td>SOD2</td>\n",
       "      <td>CHEBI:28201</td>\n",
       "      <td>rotenone</td>\n",
       "      <td>0.489917</td>\n",
       "    </tr>\n",
       "  </tbody>\n",
       "</table>\n",
       "</div>"
      ],
      "text/plain": [
       "     n2 - id  n2 - name      n3 - id          n3 - name      score\n",
       "0   HGNC:1516        CAT  CHEBI:16240  hydrogen peroxide  0.516117\n",
       "1   HGNC:1516        CAT   CHEBI:3750         clofibrate  0.511137\n",
       "2   HGNC:1516        CAT  CHEBI:28201           rotenone  0.500678\n",
       "3  HGNC:11180       SOD2  CHEBI:16236            ethanol  0.495829\n",
       "4  HGNC:11180       SOD2  CHEBI:28201           rotenone  0.489917"
      ]
     },
     "metadata": {},
     "output_type": "display_data"
    },
    {
     "data": {
      "text/html": [
       "<h3>arteriovenous malformations of the brain</h3>"
      ],
      "text/plain": [
       "<IPython.core.display.HTML object>"
      ]
     },
     "metadata": {},
     "output_type": "display_data"
    },
    {
     "data": {
      "text/html": [
       "<a href=http://robokop.renci.org/simple/view/e6bdf226-1d4a-4676-a3fa-08b99e3c15c6>View Answer in ROBOKOP</a>"
      ],
      "text/plain": [
       "<IPython.core.display.HTML object>"
      ]
     },
     "metadata": {},
     "output_type": "display_data"
    },
    {
     "data": {
      "text/html": [
       "<div>\n",
       "<style>\n",
       "    .dataframe thead tr:only-child th {\n",
       "        text-align: right;\n",
       "    }\n",
       "\n",
       "    .dataframe thead th {\n",
       "        text-align: left;\n",
       "    }\n",
       "\n",
       "    .dataframe tbody tr th {\n",
       "        vertical-align: top;\n",
       "    }\n",
       "</style>\n",
       "<table border=\"1\" class=\"dataframe\">\n",
       "  <thead>\n",
       "    <tr style=\"text-align: right;\">\n",
       "      <th></th>\n",
       "      <th>n2 - id</th>\n",
       "      <th>n2 - name</th>\n",
       "      <th>n3 - id</th>\n",
       "      <th>n3 - name</th>\n",
       "      <th>score</th>\n",
       "    </tr>\n",
       "  </thead>\n",
       "  <tbody>\n",
       "    <tr>\n",
       "      <th>0</th>\n",
       "      <td>HGNC:2637</td>\n",
       "      <td>CYP3A4</td>\n",
       "      <td>CHEBI:8107</td>\n",
       "      <td>phenytoin</td>\n",
       "      <td>0.381763</td>\n",
       "    </tr>\n",
       "    <tr>\n",
       "      <th>1</th>\n",
       "      <td>HGNC:2637</td>\n",
       "      <td>CYP3A4</td>\n",
       "      <td>CHEBI:8069</td>\n",
       "      <td>phenobarbital</td>\n",
       "      <td>0.366287</td>\n",
       "    </tr>\n",
       "    <tr>\n",
       "      <th>2</th>\n",
       "      <td>HGNC:10585</td>\n",
       "      <td>SCN1A</td>\n",
       "      <td>CHEBI:39867</td>\n",
       "      <td>valproic acid</td>\n",
       "      <td>0.364000</td>\n",
       "    </tr>\n",
       "    <tr>\n",
       "      <th>3</th>\n",
       "      <td>HGNC:2637</td>\n",
       "      <td>CYP3A4</td>\n",
       "      <td>CHEBI:41879</td>\n",
       "      <td>dexamethasone</td>\n",
       "      <td>0.351378</td>\n",
       "    </tr>\n",
       "    <tr>\n",
       "      <th>4</th>\n",
       "      <td>HGNC:2637</td>\n",
       "      <td>CYP3A4</td>\n",
       "      <td>CHEBI:45863</td>\n",
       "      <td>paclitaxel</td>\n",
       "      <td>0.341915</td>\n",
       "    </tr>\n",
       "  </tbody>\n",
       "</table>\n",
       "</div>"
      ],
      "text/plain": [
       "     n2 - id  n2 - name      n3 - id      n3 - name      score\n",
       "0   HGNC:2637     CYP3A4   CHEBI:8107      phenytoin  0.381763\n",
       "1   HGNC:2637     CYP3A4   CHEBI:8069  phenobarbital  0.366287\n",
       "2  HGNC:10585      SCN1A  CHEBI:39867  valproic acid  0.364000\n",
       "3   HGNC:2637     CYP3A4  CHEBI:41879  dexamethasone  0.351378\n",
       "4   HGNC:2637     CYP3A4  CHEBI:45863     paclitaxel  0.341915"
      ]
     },
     "metadata": {},
     "output_type": "display_data"
    },
    {
     "data": {
      "text/html": [
       "<h3>agammaglobulinemia</h3>"
      ],
      "text/plain": [
       "<IPython.core.display.HTML object>"
      ]
     },
     "metadata": {},
     "output_type": "display_data"
    },
    {
     "data": {
      "text/html": [
       "<a href=http://robokop.renci.org/simple/view/6e61ebfc-c354-492c-9abc-f04eb6dca861>View Answer in ROBOKOP</a>"
      ],
      "text/plain": [
       "<IPython.core.display.HTML object>"
      ]
     },
     "metadata": {},
     "output_type": "display_data"
    },
    {
     "data": {
      "text/html": [
       "<div>\n",
       "<style>\n",
       "    .dataframe thead tr:only-child th {\n",
       "        text-align: right;\n",
       "    }\n",
       "\n",
       "    .dataframe thead th {\n",
       "        text-align: left;\n",
       "    }\n",
       "\n",
       "    .dataframe tbody tr th {\n",
       "        vertical-align: top;\n",
       "    }\n",
       "</style>\n",
       "<table border=\"1\" class=\"dataframe\">\n",
       "  <thead>\n",
       "    <tr style=\"text-align: right;\">\n",
       "      <th></th>\n",
       "      <th>n2 - id</th>\n",
       "      <th>n2 - name</th>\n",
       "      <th>n3 - id</th>\n",
       "      <th>n3 - name</th>\n",
       "      <th>score</th>\n",
       "    </tr>\n",
       "  </thead>\n",
       "  <tbody>\n",
       "    <tr>\n",
       "      <th>0</th>\n",
       "      <td>HGNC:11998</td>\n",
       "      <td>TP53</td>\n",
       "      <td>CHEBI:46345</td>\n",
       "      <td>5-fluorouracil</td>\n",
       "      <td>0.423609</td>\n",
       "    </tr>\n",
       "    <tr>\n",
       "      <th>1</th>\n",
       "      <td>HGNC:1516</td>\n",
       "      <td>CAT</td>\n",
       "      <td>CHEBI:3387</td>\n",
       "      <td>carbamazepine</td>\n",
       "      <td>0.414473</td>\n",
       "    </tr>\n",
       "    <tr>\n",
       "      <th>2</th>\n",
       "      <td>HGNC:11998</td>\n",
       "      <td>TP53</td>\n",
       "      <td>CHEBI:28680</td>\n",
       "      <td>cytarabine</td>\n",
       "      <td>0.409135</td>\n",
       "    </tr>\n",
       "    <tr>\n",
       "      <th>3</th>\n",
       "      <td>HGNC:11998</td>\n",
       "      <td>TP53</td>\n",
       "      <td>CHEBI:27504</td>\n",
       "      <td>mitomycin C</td>\n",
       "      <td>0.407760</td>\n",
       "    </tr>\n",
       "    <tr>\n",
       "      <th>4</th>\n",
       "      <td>HGNC:6018</td>\n",
       "      <td>IL6</td>\n",
       "      <td>CHEBI:16240</td>\n",
       "      <td>hydrogen peroxide</td>\n",
       "      <td>0.406399</td>\n",
       "    </tr>\n",
       "  </tbody>\n",
       "</table>\n",
       "</div>"
      ],
      "text/plain": [
       "     n2 - id  n2 - name      n3 - id          n3 - name      score\n",
       "0  HGNC:11998       TP53  CHEBI:46345     5-fluorouracil  0.423609\n",
       "1   HGNC:1516        CAT   CHEBI:3387      carbamazepine  0.414473\n",
       "2  HGNC:11998       TP53  CHEBI:28680         cytarabine  0.409135\n",
       "3  HGNC:11998       TP53  CHEBI:27504        mitomycin C  0.407760\n",
       "4   HGNC:6018        IL6  CHEBI:16240  hydrogen peroxide  0.406399"
      ]
     },
     "metadata": {},
     "output_type": "display_data"
    },
    {
     "data": {
      "text/html": [
       "<h3>rare genetic parkinsonian disorder</h3>"
      ],
      "text/plain": [
       "<IPython.core.display.HTML object>"
      ]
     },
     "metadata": {},
     "output_type": "display_data"
    },
    {
     "data": {
      "text/html": [
       "<a href=http://robokop.renci.org/simple/view/241c4fec-9249-4d3f-929a-f4e499ec25a0>View Answer in ROBOKOP</a>"
      ],
      "text/plain": [
       "<IPython.core.display.HTML object>"
      ]
     },
     "metadata": {},
     "output_type": "display_data"
    },
    {
     "data": {
      "text/html": [
       "<div>\n",
       "<style>\n",
       "    .dataframe thead tr:only-child th {\n",
       "        text-align: right;\n",
       "    }\n",
       "\n",
       "    .dataframe thead th {\n",
       "        text-align: left;\n",
       "    }\n",
       "\n",
       "    .dataframe tbody tr th {\n",
       "        vertical-align: top;\n",
       "    }\n",
       "</style>\n",
       "<table border=\"1\" class=\"dataframe\">\n",
       "  <thead>\n",
       "    <tr style=\"text-align: right;\">\n",
       "      <th></th>\n",
       "    </tr>\n",
       "  </thead>\n",
       "  <tbody>\n",
       "  </tbody>\n",
       "</table>\n",
       "</div>"
      ],
      "text/plain": [
       "Empty DataFrame\n",
       "Columns: []\n",
       "Index: []"
      ]
     },
     "metadata": {},
     "output_type": "display_data"
    },
    {
     "data": {
      "text/html": [
       "<h3>patent ductus arteriosus</h3>"
      ],
      "text/plain": [
       "<IPython.core.display.HTML object>"
      ]
     },
     "metadata": {},
     "output_type": "display_data"
    },
    {
     "data": {
      "text/html": [
       "<a href=http://robokop.renci.org/simple/view/be07db37-ff3f-4b35-b9ab-d155597add7e>View Answer in ROBOKOP</a>"
      ],
      "text/plain": [
       "<IPython.core.display.HTML object>"
      ]
     },
     "metadata": {},
     "output_type": "display_data"
    },
    {
     "data": {
      "text/html": [
       "<div>\n",
       "<style>\n",
       "    .dataframe thead tr:only-child th {\n",
       "        text-align: right;\n",
       "    }\n",
       "\n",
       "    .dataframe thead th {\n",
       "        text-align: left;\n",
       "    }\n",
       "\n",
       "    .dataframe tbody tr th {\n",
       "        vertical-align: top;\n",
       "    }\n",
       "</style>\n",
       "<table border=\"1\" class=\"dataframe\">\n",
       "  <thead>\n",
       "    <tr style=\"text-align: right;\">\n",
       "      <th></th>\n",
       "      <th>n2 - id</th>\n",
       "      <th>n2 - name</th>\n",
       "      <th>n3 - id</th>\n",
       "      <th>n3 - name</th>\n",
       "      <th>score</th>\n",
       "    </tr>\n",
       "  </thead>\n",
       "  <tbody>\n",
       "    <tr>\n",
       "      <th>0</th>\n",
       "      <td>HGNC:1516</td>\n",
       "      <td>CAT</td>\n",
       "      <td>CHEBI:16240</td>\n",
       "      <td>hydrogen peroxide</td>\n",
       "      <td>0.493747</td>\n",
       "    </tr>\n",
       "    <tr>\n",
       "      <th>1</th>\n",
       "      <td>HGNC:7873</td>\n",
       "      <td>NOS2</td>\n",
       "      <td>CHEBI:46195</td>\n",
       "      <td>paracetamol</td>\n",
       "      <td>0.444069</td>\n",
       "    </tr>\n",
       "    <tr>\n",
       "      <th>2</th>\n",
       "      <td>HGNC:1516</td>\n",
       "      <td>CAT</td>\n",
       "      <td>CHEBI:46195</td>\n",
       "      <td>paracetamol</td>\n",
       "      <td>0.427251</td>\n",
       "    </tr>\n",
       "    <tr>\n",
       "      <th>3</th>\n",
       "      <td>HGNC:1516</td>\n",
       "      <td>CAT</td>\n",
       "      <td>CHEBI:49662</td>\n",
       "      <td>indometacin</td>\n",
       "      <td>0.414950</td>\n",
       "    </tr>\n",
       "    <tr>\n",
       "      <th>4</th>\n",
       "      <td>HGNC:7873</td>\n",
       "      <td>NOS2</td>\n",
       "      <td>CHEBI:16236</td>\n",
       "      <td>ethanol</td>\n",
       "      <td>0.414093</td>\n",
       "    </tr>\n",
       "  </tbody>\n",
       "</table>\n",
       "</div>"
      ],
      "text/plain": [
       "    n2 - id  n2 - name      n3 - id          n3 - name      score\n",
       "0  HGNC:1516        CAT  CHEBI:16240  hydrogen peroxide  0.493747\n",
       "1  HGNC:7873       NOS2  CHEBI:46195        paracetamol  0.444069\n",
       "2  HGNC:1516        CAT  CHEBI:46195        paracetamol  0.427251\n",
       "3  HGNC:1516        CAT  CHEBI:49662        indometacin  0.414950\n",
       "4  HGNC:7873       NOS2  CHEBI:16236            ethanol  0.414093"
      ]
     },
     "metadata": {},
     "output_type": "display_data"
    },
    {
     "data": {
      "text/html": [
       "<h3>nicotine dependence</h3>"
      ],
      "text/plain": [
       "<IPython.core.display.HTML object>"
      ]
     },
     "metadata": {},
     "output_type": "display_data"
    },
    {
     "data": {
      "text/html": [
       "<a href=http://robokop.renci.org/simple/view/2aff72ee-cae9-4564-a66f-86ad100cc8d4>View Answer in ROBOKOP</a>"
      ],
      "text/plain": [
       "<IPython.core.display.HTML object>"
      ]
     },
     "metadata": {},
     "output_type": "display_data"
    },
    {
     "data": {
      "text/html": [
       "<div>\n",
       "<style>\n",
       "    .dataframe thead tr:only-child th {\n",
       "        text-align: right;\n",
       "    }\n",
       "\n",
       "    .dataframe thead th {\n",
       "        text-align: left;\n",
       "    }\n",
       "\n",
       "    .dataframe tbody tr th {\n",
       "        vertical-align: top;\n",
       "    }\n",
       "</style>\n",
       "<table border=\"1\" class=\"dataframe\">\n",
       "  <thead>\n",
       "    <tr style=\"text-align: right;\">\n",
       "      <th></th>\n",
       "      <th>n2 - id</th>\n",
       "      <th>n2 - name</th>\n",
       "      <th>n3 - id</th>\n",
       "      <th>n3 - name</th>\n",
       "      <th>score</th>\n",
       "    </tr>\n",
       "  </thead>\n",
       "  <tbody>\n",
       "    <tr>\n",
       "      <th>0</th>\n",
       "      <td>HGNC:1960</td>\n",
       "      <td>CHRNA7</td>\n",
       "      <td>CHEBI:15355</td>\n",
       "      <td>acetylcholine</td>\n",
       "      <td>0.503378</td>\n",
       "    </tr>\n",
       "    <tr>\n",
       "      <th>1</th>\n",
       "      <td>HGNC:3023</td>\n",
       "      <td>DRD2</td>\n",
       "      <td>CHEBI:5613</td>\n",
       "      <td>haloperidol</td>\n",
       "      <td>0.460646</td>\n",
       "    </tr>\n",
       "    <tr>\n",
       "      <th>2</th>\n",
       "      <td>HGNC:3023</td>\n",
       "      <td>DRD2</td>\n",
       "      <td>CHEBI:18243</td>\n",
       "      <td>dopamine</td>\n",
       "      <td>0.458207</td>\n",
       "    </tr>\n",
       "    <tr>\n",
       "      <th>3</th>\n",
       "      <td>HGNC:1960</td>\n",
       "      <td>CHRNA7</td>\n",
       "      <td>CHEBI:17688</td>\n",
       "      <td>(S)-nicotine</td>\n",
       "      <td>0.434712</td>\n",
       "    </tr>\n",
       "    <tr>\n",
       "      <th>4</th>\n",
       "      <td>HGNC:1960</td>\n",
       "      <td>CHRNA7</td>\n",
       "      <td>CHEBI:28313</td>\n",
       "      <td>nornicotine</td>\n",
       "      <td>0.407453</td>\n",
       "    </tr>\n",
       "  </tbody>\n",
       "</table>\n",
       "</div>"
      ],
      "text/plain": [
       "    n2 - id  n2 - name      n3 - id      n3 - name      score\n",
       "0  HGNC:1960     CHRNA7  CHEBI:15355  acetylcholine  0.503378\n",
       "1  HGNC:3023       DRD2   CHEBI:5613    haloperidol  0.460646\n",
       "2  HGNC:3023       DRD2  CHEBI:18243       dopamine  0.458207\n",
       "3  HGNC:1960     CHRNA7  CHEBI:17688   (S)-nicotine  0.434712\n",
       "4  HGNC:1960     CHRNA7  CHEBI:28313    nornicotine  0.407453"
      ]
     },
     "metadata": {},
     "output_type": "display_data"
    },
    {
     "data": {
      "text/html": [
       "<h3>cone dystrophy</h3>"
      ],
      "text/plain": [
       "<IPython.core.display.HTML object>"
      ]
     },
     "metadata": {},
     "output_type": "display_data"
    },
    {
     "data": {
      "text/html": [
       "<a href=http://robokop.renci.org/simple/view/2e13d4c8-9c23-49ef-bfb8-ed29b1357a06>View Answer in ROBOKOP</a>"
      ],
      "text/plain": [
       "<IPython.core.display.HTML object>"
      ]
     },
     "metadata": {},
     "output_type": "display_data"
    },
    {
     "data": {
      "text/html": [
       "<div>\n",
       "<style>\n",
       "    .dataframe thead tr:only-child th {\n",
       "        text-align: right;\n",
       "    }\n",
       "\n",
       "    .dataframe thead th {\n",
       "        text-align: left;\n",
       "    }\n",
       "\n",
       "    .dataframe tbody tr th {\n",
       "        vertical-align: top;\n",
       "    }\n",
       "</style>\n",
       "<table border=\"1\" class=\"dataframe\">\n",
       "  <thead>\n",
       "    <tr style=\"text-align: right;\">\n",
       "      <th></th>\n",
       "      <th>n2 - id</th>\n",
       "      <th>n2 - name</th>\n",
       "      <th>n3 - id</th>\n",
       "      <th>n3 - name</th>\n",
       "      <th>score</th>\n",
       "    </tr>\n",
       "  </thead>\n",
       "  <tbody>\n",
       "    <tr>\n",
       "      <th>0</th>\n",
       "      <td>HGNC:9035</td>\n",
       "      <td>PLA2G4A</td>\n",
       "      <td>CHEBI:15422</td>\n",
       "      <td>ATP</td>\n",
       "      <td>0.283642</td>\n",
       "    </tr>\n",
       "    <tr>\n",
       "      <th>1</th>\n",
       "      <td>HGNC:644</td>\n",
       "      <td>AR</td>\n",
       "      <td>CHEBI:33216</td>\n",
       "      <td>bisphenol A</td>\n",
       "      <td>0.282812</td>\n",
       "    </tr>\n",
       "    <tr>\n",
       "      <th>2</th>\n",
       "      <td>HGNC:644</td>\n",
       "      <td>AR</td>\n",
       "      <td>CHEBI:17026</td>\n",
       "      <td>progesterone</td>\n",
       "      <td>0.275842</td>\n",
       "    </tr>\n",
       "    <tr>\n",
       "      <th>3</th>\n",
       "      <td>HGNC:644</td>\n",
       "      <td>AR</td>\n",
       "      <td>CHEBI:17823</td>\n",
       "      <td>calcitriol</td>\n",
       "      <td>0.263030</td>\n",
       "    </tr>\n",
       "    <tr>\n",
       "      <th>4</th>\n",
       "      <td>HGNC:11998</td>\n",
       "      <td>TP53</td>\n",
       "      <td>CHEBI:16240</td>\n",
       "      <td>hydrogen peroxide</td>\n",
       "      <td>0.260247</td>\n",
       "    </tr>\n",
       "  </tbody>\n",
       "</table>\n",
       "</div>"
      ],
      "text/plain": [
       "     n2 - id  n2 - name      n3 - id          n3 - name      score\n",
       "0   HGNC:9035    PLA2G4A  CHEBI:15422                ATP  0.283642\n",
       "1    HGNC:644         AR  CHEBI:33216        bisphenol A  0.282812\n",
       "2    HGNC:644         AR  CHEBI:17026       progesterone  0.275842\n",
       "3    HGNC:644         AR  CHEBI:17823         calcitriol  0.263030\n",
       "4  HGNC:11998       TP53  CHEBI:16240  hydrogen peroxide  0.260247"
      ]
     },
     "metadata": {},
     "output_type": "display_data"
    },
    {
     "data": {
      "text/html": [
       "<h3>hypohidrosis-enamel hypoplasia-palmoplantar ke...</h3>"
      ],
      "text/plain": [
       "<IPython.core.display.HTML object>"
      ]
     },
     "metadata": {},
     "output_type": "display_data"
    },
    {
     "data": {
      "text/html": [
       "<a href=http://robokop.renci.org/simple/view/1b566107-7cd5-4522-9f1c-0309ff318721>View Answer in ROBOKOP</a>"
      ],
      "text/plain": [
       "<IPython.core.display.HTML object>"
      ]
     },
     "metadata": {},
     "output_type": "display_data"
    },
    {
     "data": {
      "text/html": [
       "<div>\n",
       "<style>\n",
       "    .dataframe thead tr:only-child th {\n",
       "        text-align: right;\n",
       "    }\n",
       "\n",
       "    .dataframe thead th {\n",
       "        text-align: left;\n",
       "    }\n",
       "\n",
       "    .dataframe tbody tr th {\n",
       "        vertical-align: top;\n",
       "    }\n",
       "</style>\n",
       "<table border=\"1\" class=\"dataframe\">\n",
       "  <thead>\n",
       "    <tr style=\"text-align: right;\">\n",
       "      <th></th>\n",
       "    </tr>\n",
       "  </thead>\n",
       "  <tbody>\n",
       "  </tbody>\n",
       "</table>\n",
       "</div>"
      ],
      "text/plain": [
       "Empty DataFrame\n",
       "Columns: []\n",
       "Index: []"
      ]
     },
     "metadata": {},
     "output_type": "display_data"
    },
    {
     "data": {
      "text/html": [
       "<h3>genetic dementia</h3>"
      ],
      "text/plain": [
       "<IPython.core.display.HTML object>"
      ]
     },
     "metadata": {},
     "output_type": "display_data"
    },
    {
     "data": {
      "text/html": [
       "<a href=http://robokop.renci.org/simple/view/6d378e7f-5b70-484d-b68e-c5fcdc88683e>View Answer in ROBOKOP</a>"
      ],
      "text/plain": [
       "<IPython.core.display.HTML object>"
      ]
     },
     "metadata": {},
     "output_type": "display_data"
    },
    {
     "data": {
      "text/html": [
       "<div>\n",
       "<style>\n",
       "    .dataframe thead tr:only-child th {\n",
       "        text-align: right;\n",
       "    }\n",
       "\n",
       "    .dataframe thead th {\n",
       "        text-align: left;\n",
       "    }\n",
       "\n",
       "    .dataframe tbody tr th {\n",
       "        vertical-align: top;\n",
       "    }\n",
       "</style>\n",
       "<table border=\"1\" class=\"dataframe\">\n",
       "  <thead>\n",
       "    <tr style=\"text-align: right;\">\n",
       "      <th></th>\n",
       "    </tr>\n",
       "  </thead>\n",
       "  <tbody>\n",
       "  </tbody>\n",
       "</table>\n",
       "</div>"
      ],
      "text/plain": [
       "Empty DataFrame\n",
       "Columns: []\n",
       "Index: []"
      ]
     },
     "metadata": {},
     "output_type": "display_data"
    },
    {
     "data": {
      "text/html": [
       "<h3>functional neutrophil defect</h3>"
      ],
      "text/plain": [
       "<IPython.core.display.HTML object>"
      ]
     },
     "metadata": {},
     "output_type": "display_data"
    },
    {
     "data": {
      "text/html": [
       "<a href=http://robokop.renci.org/simple/view/fee9c7f2-94bd-412d-be38-22e3f3bdeb9b>View Answer in ROBOKOP</a>"
      ],
      "text/plain": [
       "<IPython.core.display.HTML object>"
      ]
     },
     "metadata": {},
     "output_type": "display_data"
    },
    {
     "data": {
      "text/html": [
       "<div>\n",
       "<style>\n",
       "    .dataframe thead tr:only-child th {\n",
       "        text-align: right;\n",
       "    }\n",
       "\n",
       "    .dataframe thead th {\n",
       "        text-align: left;\n",
       "    }\n",
       "\n",
       "    .dataframe tbody tr th {\n",
       "        vertical-align: top;\n",
       "    }\n",
       "</style>\n",
       "<table border=\"1\" class=\"dataframe\">\n",
       "  <thead>\n",
       "    <tr style=\"text-align: right;\">\n",
       "      <th></th>\n",
       "    </tr>\n",
       "  </thead>\n",
       "  <tbody>\n",
       "  </tbody>\n",
       "</table>\n",
       "</div>"
      ],
      "text/plain": [
       "Empty DataFrame\n",
       "Columns: []\n",
       "Index: []"
      ]
     },
     "metadata": {},
     "output_type": "display_data"
    },
    {
     "data": {
      "text/html": [
       "<h3>CADASIL</h3>"
      ],
      "text/plain": [
       "<IPython.core.display.HTML object>"
      ]
     },
     "metadata": {},
     "output_type": "display_data"
    },
    {
     "data": {
      "text/html": [
       "<a href=http://robokop.renci.org/simple/view/ce1b8184-c9b8-4165-bb57-95ca21be0a50>View Answer in ROBOKOP</a>"
      ],
      "text/plain": [
       "<IPython.core.display.HTML object>"
      ]
     },
     "metadata": {},
     "output_type": "display_data"
    },
    {
     "data": {
      "text/html": [
       "<div>\n",
       "<style>\n",
       "    .dataframe thead tr:only-child th {\n",
       "        text-align: right;\n",
       "    }\n",
       "\n",
       "    .dataframe thead th {\n",
       "        text-align: left;\n",
       "    }\n",
       "\n",
       "    .dataframe tbody tr th {\n",
       "        vertical-align: top;\n",
       "    }\n",
       "</style>\n",
       "<table border=\"1\" class=\"dataframe\">\n",
       "  <thead>\n",
       "    <tr style=\"text-align: right;\">\n",
       "      <th></th>\n",
       "    </tr>\n",
       "  </thead>\n",
       "  <tbody>\n",
       "  </tbody>\n",
       "</table>\n",
       "</div>"
      ],
      "text/plain": [
       "Empty DataFrame\n",
       "Columns: []\n",
       "Index: []"
      ]
     },
     "metadata": {},
     "output_type": "display_data"
    },
    {
     "data": {
      "text/html": [
       "<h3>glomerulopathy with fibronectin deposits 2</h3>"
      ],
      "text/plain": [
       "<IPython.core.display.HTML object>"
      ]
     },
     "metadata": {},
     "output_type": "display_data"
    },
    {
     "data": {
      "text/html": [
       "<a href=http://robokop.renci.org/simple/view/33159681-067d-4c7d-9c10-6864ddcf66b8>View Answer in ROBOKOP</a>"
      ],
      "text/plain": [
       "<IPython.core.display.HTML object>"
      ]
     },
     "metadata": {},
     "output_type": "display_data"
    },
    {
     "data": {
      "text/html": [
       "<div>\n",
       "<style>\n",
       "    .dataframe thead tr:only-child th {\n",
       "        text-align: right;\n",
       "    }\n",
       "\n",
       "    .dataframe thead th {\n",
       "        text-align: left;\n",
       "    }\n",
       "\n",
       "    .dataframe tbody tr th {\n",
       "        vertical-align: top;\n",
       "    }\n",
       "</style>\n",
       "<table border=\"1\" class=\"dataframe\">\n",
       "  <thead>\n",
       "    <tr style=\"text-align: right;\">\n",
       "      <th></th>\n",
       "    </tr>\n",
       "  </thead>\n",
       "  <tbody>\n",
       "  </tbody>\n",
       "</table>\n",
       "</div>"
      ],
      "text/plain": [
       "Empty DataFrame\n",
       "Columns: []\n",
       "Index: []"
      ]
     },
     "metadata": {},
     "output_type": "display_data"
    },
    {
     "data": {
      "text/html": [
       "<h3>Alzheimer's disease 2</h3>"
      ],
      "text/plain": [
       "<IPython.core.display.HTML object>"
      ]
     },
     "metadata": {},
     "output_type": "display_data"
    },
    {
     "data": {
      "text/html": [
       "<a href=http://robokop.renci.org/simple/view/8c728af9-4532-47b3-a208-2f619779d75a>View Answer in ROBOKOP</a>"
      ],
      "text/plain": [
       "<IPython.core.display.HTML object>"
      ]
     },
     "metadata": {},
     "output_type": "display_data"
    },
    {
     "data": {
      "text/html": [
       "<div>\n",
       "<style>\n",
       "    .dataframe thead tr:only-child th {\n",
       "        text-align: right;\n",
       "    }\n",
       "\n",
       "    .dataframe thead th {\n",
       "        text-align: left;\n",
       "    }\n",
       "\n",
       "    .dataframe tbody tr th {\n",
       "        vertical-align: top;\n",
       "    }\n",
       "</style>\n",
       "<table border=\"1\" class=\"dataframe\">\n",
       "  <thead>\n",
       "    <tr style=\"text-align: right;\">\n",
       "      <th></th>\n",
       "      <th>n2 - id</th>\n",
       "      <th>n2 - name</th>\n",
       "      <th>n3 - id</th>\n",
       "      <th>n3 - name</th>\n",
       "      <th>score</th>\n",
       "    </tr>\n",
       "  </thead>\n",
       "  <tbody>\n",
       "    <tr>\n",
       "      <th>0</th>\n",
       "      <td>HGNC:11892</td>\n",
       "      <td>TNF</td>\n",
       "      <td>CHEBI:16240</td>\n",
       "      <td>hydrogen peroxide</td>\n",
       "      <td>0.582543</td>\n",
       "    </tr>\n",
       "    <tr>\n",
       "      <th>1</th>\n",
       "      <td>HGNC:1516</td>\n",
       "      <td>CAT</td>\n",
       "      <td>CHEBI:16240</td>\n",
       "      <td>hydrogen peroxide</td>\n",
       "      <td>0.581594</td>\n",
       "    </tr>\n",
       "    <tr>\n",
       "      <th>2</th>\n",
       "      <td>HGNC:1516</td>\n",
       "      <td>CAT</td>\n",
       "      <td>CHEBI:16240</td>\n",
       "      <td>hydrogen peroxide</td>\n",
       "      <td>0.531045</td>\n",
       "    </tr>\n",
       "    <tr>\n",
       "      <th>3</th>\n",
       "      <td>HGNC:5992</td>\n",
       "      <td>IL1B</td>\n",
       "      <td>CHEBI:15422</td>\n",
       "      <td>ATP</td>\n",
       "      <td>0.519499</td>\n",
       "    </tr>\n",
       "    <tr>\n",
       "      <th>4</th>\n",
       "      <td>HGNC:11892</td>\n",
       "      <td>TNF</td>\n",
       "      <td>CHEBI:16236</td>\n",
       "      <td>ethanol</td>\n",
       "      <td>0.519165</td>\n",
       "    </tr>\n",
       "  </tbody>\n",
       "</table>\n",
       "</div>"
      ],
      "text/plain": [
       "     n2 - id  n2 - name      n3 - id          n3 - name      score\n",
       "0  HGNC:11892        TNF  CHEBI:16240  hydrogen peroxide  0.582543\n",
       "1   HGNC:1516        CAT  CHEBI:16240  hydrogen peroxide  0.581594\n",
       "2   HGNC:1516        CAT  CHEBI:16240  hydrogen peroxide  0.531045\n",
       "3   HGNC:5992       IL1B  CHEBI:15422                ATP  0.519499\n",
       "4  HGNC:11892        TNF  CHEBI:16236            ethanol  0.519165"
      ]
     },
     "metadata": {},
     "output_type": "display_data"
    },
    {
     "data": {
      "text/html": [
       "<h3>combined pituitary hormone deficiencies, genet...</h3>"
      ],
      "text/plain": [
       "<IPython.core.display.HTML object>"
      ]
     },
     "metadata": {},
     "output_type": "display_data"
    },
    {
     "data": {
      "text/html": [
       "<a href=http://robokop.renci.org/simple/view/75dfd9b7-63ad-43d5-8e8d-07f3acf2f855>View Answer in ROBOKOP</a>"
      ],
      "text/plain": [
       "<IPython.core.display.HTML object>"
      ]
     },
     "metadata": {},
     "output_type": "display_data"
    },
    {
     "data": {
      "text/html": [
       "<div>\n",
       "<style>\n",
       "    .dataframe thead tr:only-child th {\n",
       "        text-align: right;\n",
       "    }\n",
       "\n",
       "    .dataframe thead th {\n",
       "        text-align: left;\n",
       "    }\n",
       "\n",
       "    .dataframe tbody tr th {\n",
       "        vertical-align: top;\n",
       "    }\n",
       "</style>\n",
       "<table border=\"1\" class=\"dataframe\">\n",
       "  <thead>\n",
       "    <tr style=\"text-align: right;\">\n",
       "      <th></th>\n",
       "    </tr>\n",
       "  </thead>\n",
       "  <tbody>\n",
       "  </tbody>\n",
       "</table>\n",
       "</div>"
      ],
      "text/plain": [
       "Empty DataFrame\n",
       "Columns: []\n",
       "Index: []"
      ]
     },
     "metadata": {},
     "output_type": "display_data"
    }
   ],
   "source": [
    "turl=lambda robokop,disease_id,disease_name: f'http://{robokop}/api/simple/quick/template/wf1mod3_v2/{disease_id}/?name1={disease_name}'\n",
    "\n",
    "for disease_id, disease_name in diseases:\n",
    "    url = turl(robokop,disease_id,disease_name)\n",
    "    display(HTML(f'<h3>{disease_name}</h3>'))\n",
    "    response = requests.get(url)\n",
    "    if response.status_code != 200:\n",
    "        print('Error')\n",
    "        continue\n",
    "    answers=response.json()\n",
    "    view_url = get_view_url(answers)\n",
    "    display(HTML(f'<a href={view_url}>View Answer in ROBOKOP</a>'))\n",
    "    answer_frame = parse_answer(answers,node_list=['n2','n3','n4'],edge_list=[])\n",
    "    display(answer_frame.head())    "
   ]
  },
  {
   "cell_type": "code",
   "execution_count": null,
   "metadata": {
    "collapsed": true,
    "deletable": true,
    "editable": true
   },
   "outputs": [],
   "source": []
  }
 ],
 "metadata": {
  "kernelspec": {
   "display_name": "Python 3",
   "language": "python",
   "name": "python3"
  },
  "language_info": {
   "codemirror_mode": {
    "name": "ipython",
    "version": 3
   },
   "file_extension": ".py",
   "mimetype": "text/x-python",
   "name": "python",
   "nbconvert_exporter": "python",
   "pygments_lexer": "ipython3",
   "version": "3.6.2"
  }
 },
 "nbformat": 4,
 "nbformat_minor": 2
}

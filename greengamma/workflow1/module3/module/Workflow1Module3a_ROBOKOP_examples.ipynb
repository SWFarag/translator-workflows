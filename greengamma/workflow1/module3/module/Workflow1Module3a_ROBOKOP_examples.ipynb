{
 "cells": [
  {
   "cell_type": "markdown",
   "metadata": {
    "deletable": true,
    "editable": true
   },
   "source": [
    "# Workflow 1, Module 3 examples"
   ]
  },
  {
   "cell_type": "code",
   "execution_count": 3,
   "metadata": {
    "collapsed": true,
    "deletable": true,
    "editable": true
   },
   "outputs": [],
   "source": [
    "#To make nicer looking outputs\n",
    "from IPython.core.display import display, HTML\n",
    "import requests\n",
    "\n",
    "#Load some functions for parsing quick output\n",
    "import os\n",
    "import sys\n",
    "module_path = os.path.abspath(os.path.join('../../..'))\n",
    "if module_path not in sys.path:\n",
    "    sys.path.append(module_path)\n",
    "from gg_functions import parse_answer, get_view_url\n",
    "\n",
    "robokop='robokop.renci.org'"
   ]
  },
  {
   "cell_type": "code",
   "execution_count": 2,
   "metadata": {
    "collapsed": true,
    "deletable": true,
    "editable": true
   },
   "outputs": [],
   "source": [
    "common_diseases = [\n",
    "(\"MONDO:0005578\",\"arthritis\"),\n",
    "(\"MONDO:0005148\",\"type 2 diabetes mellitus\"),\n",
    "(\"MONDO:0002406\",\"dermatitis\"),\n",
    "(\"MONDO:0008383\",\"rheumatoid arthritis\"),\n",
    "(\"MONDO:0005359\",\"drug-induced liver injury\"),\n",
    "(\"MONDO:0006573\",\"lipodystrophy (disease)\"),\n",
    "(\"MONDO:0008226\",\"aggressive periodontitis\"),\n",
    "(\"MONDO:0001627\",\"dementia\"),\n",
    "(\"MONDO:0005265\",\"inflammatory bowel disease\"),\n",
    "(\"MONDO:0004979\",\"asthma\"),\n",
    "(\"MONDO:0005298\",\"osteoporosis\"),\n",
    "(\"MONDO:0006932\",\"pulmonary edema\"),\n",
    "(\"MONDO:0005180\",\"Parkinson disease\"),\n",
    "(\"MONDO:0006658\",\"arteriolosclerosis\"),\n",
    "(\"MONDO:0005090\",\"schizophrenia\"),\n",
    "(\"MONDO:0005152\",\"hypopituitarism\"),\n",
    "(\"MONDO:0001835\",\"facial paralysis\"),\n",
    "(\"MONDO:0001824\",\"polyneuropathy\"),\n",
    "(\"MONDO:0005301\",\"multiple sclerosis\"),\n",
    "(\"MONDO:0006644\",\"alcoholic liver cirrhosis\")\n",
    "]"
   ]
  },
  {
   "cell_type": "code",
   "execution_count": null,
   "metadata": {
    "collapsed": true,
    "deletable": true,
    "editable": true
   },
   "outputs": [],
   "source": [
    "rare_diseases = [\n",
    "    (\"MONDO:0019600\",\"xeroderma pigmentosum\"),\n",
    "    (\"MONDO:0016006\",\"cockayne syndrome\"),\n",
    "    (\"MONDO:0015797\",\"UV-sensitive syndrome\"),\n",
    "    (\"MONDO:0011125\",\"Triciothiodystrophy\"),\n",
    "    (\"MONDO:0001076\",\"glucose intolerance\"),\n",
    "    (\"MONDO:0010086\",\"sudden infant death syndrome\"),\n",
    "    ('MONDO:0010940', 'inherited susceptibility to asthma'),\n",
    "    ('MONDO:0007319', 'familial calcium pyrophosphate deposition'),\n",
    "    ('MONDO:0020087', 'genetic lipodystrophy'),\n",
    "    ('MONDO:0007455', 'diabetes mellitus, noninsulin-dependent'),\n",
    "    ('MONDO:0007191','Behcet disease'),\n",
    "    ('MONDO:0005100','systemic sclerosis'),\n",
    "    ('MONDO:0010602','hemophilia A'),\n",
    "    ('MONDO:0006507','hereditary hemochromatosis'),\n",
    "    ('MONDO:0019599','primary lipodystrophy'),\n",
    "    ('MONDO:0015547','genetic dementia'),\n",
    "    ('MONDO:0015978','functional neutrophil defect'),\n",
    "    ('MONDO:0007186','gastroesophageal reflux disease'),\n",
    "    ('MONDO:0009061','cystic fibrosis'),\n",
    "    ('MONDO:0009971','newborn respiratory distress syndrome'),\n",
    "    ('MONDO:0011565','metabolic syndrome X'),\n",
    "    ('MONDO:0008752','Alexander disease'),\n",
    "    ('MONDO:0008364','Raynaud disease')\n",
    "]"
   ]
  },
  {
   "cell_type": "code",
   "execution_count": 14,
   "metadata": {
    "collapsed": false,
    "deletable": true,
    "editable": true,
    "scrolled": true
   },
   "outputs": [
    {
     "data": {
      "text/html": [
       "<h3>testdisease</h3>"
      ],
      "text/plain": [
       "<IPython.core.display.HTML object>"
      ]
     },
     "metadata": {},
     "output_type": "display_data"
    },
    {
     "data": {
      "text/html": [
       "<a href=http://robokop.renci.org/simple/view/c618b5c0-fc64-4280-8060-c357096d5ce1>View Answer in ROBOKOP</a>"
      ],
      "text/plain": [
       "<IPython.core.display.HTML object>"
      ]
     },
     "metadata": {},
     "output_type": "display_data"
    },
    {
     "data": {
      "text/html": [
       "<div>\n",
       "<style>\n",
       "    .dataframe thead tr:only-child th {\n",
       "        text-align: right;\n",
       "    }\n",
       "\n",
       "    .dataframe thead th {\n",
       "        text-align: left;\n",
       "    }\n",
       "\n",
       "    .dataframe tbody tr th {\n",
       "        vertical-align: top;\n",
       "    }\n",
       "</style>\n",
       "<table border=\"1\" class=\"dataframe\">\n",
       "  <thead>\n",
       "    <tr style=\"text-align: right;\">\n",
       "      <th></th>\n",
       "      <th>n2 - id</th>\n",
       "      <th>n2 - name</th>\n",
       "      <th>n3 - id</th>\n",
       "      <th>n3 - name</th>\n",
       "      <th>score</th>\n",
       "    </tr>\n",
       "  </thead>\n",
       "  <tbody>\n",
       "    <tr>\n",
       "      <th>0</th>\n",
       "      <td>HGNC:1046</td>\n",
       "      <td>BHLHE40</td>\n",
       "      <td>CHEBI:4031</td>\n",
       "      <td>cyclosporin A</td>\n",
       "      <td>0.331933</td>\n",
       "    </tr>\n",
       "    <tr>\n",
       "      <th>1</th>\n",
       "      <td>HGNC:1046</td>\n",
       "      <td>BHLHE40</td>\n",
       "      <td>CHEBI:16842</td>\n",
       "      <td>formaldehyde</td>\n",
       "      <td>0.320067</td>\n",
       "    </tr>\n",
       "    <tr>\n",
       "      <th>2</th>\n",
       "      <td>HGNC:1046</td>\n",
       "      <td>BHLHE40</td>\n",
       "      <td>CHEBI:46024</td>\n",
       "      <td>trichostatin A</td>\n",
       "      <td>0.319993</td>\n",
       "    </tr>\n",
       "    <tr>\n",
       "      <th>3</th>\n",
       "      <td>HGNC:1046</td>\n",
       "      <td>BHLHE40</td>\n",
       "      <td>CHEBI:33216</td>\n",
       "      <td>bisphenol A</td>\n",
       "      <td>0.317477</td>\n",
       "    </tr>\n",
       "    <tr>\n",
       "      <th>4</th>\n",
       "      <td>HGNC:1046</td>\n",
       "      <td>BHLHE40</td>\n",
       "      <td>CHEBI:39867</td>\n",
       "      <td>valproic acid</td>\n",
       "      <td>0.239349</td>\n",
       "    </tr>\n",
       "  </tbody>\n",
       "</table>\n",
       "</div>"
      ],
      "text/plain": [
       "    n2 - id  n2 - name      n3 - id       n3 - name      score\n",
       "0  HGNC:1046    BHLHE40   CHEBI:4031   cyclosporin A  0.331933\n",
       "1  HGNC:1046    BHLHE40  CHEBI:16842    formaldehyde  0.320067\n",
       "2  HGNC:1046    BHLHE40  CHEBI:46024  trichostatin A  0.319993\n",
       "3  HGNC:1046    BHLHE40  CHEBI:33216     bisphenol A  0.317477\n",
       "4  HGNC:1046    BHLHE40  CHEBI:39867   valproic acid  0.239349"
      ]
     },
     "metadata": {},
     "output_type": "display_data"
    }
   ],
   "source": [
    "#This is the templated query that goes (disease)-(set of phenotypes)-(genetic condition)\n",
    "turl=lambda robokop,disease_id,disease_name: f'http://{robokop}/api/simple/quick/template/wf1mod3_v2/{disease_id}/?name1={disease_name}/?max_connectivity=1000'\n",
    "\n",
    "#for disease_id, disease_name in rare_diseases + common_diseases:\n",
    "for disease_id, disease_name in [('DOID:0050427','testdisease')]:\n",
    "#for disease_id, disease_name in [('MONDO:0019600','XP')]:\n",
    "    url = turl(robokop,disease_id,disease_name)\n",
    "    display(HTML(f'<h3>{disease_name}</h3>'))\n",
    "    response = requests.get(url)\n",
    "    if response.status_code != 200:\n",
    "        print('Error')\n",
    "        continue\n",
    "    answers=response.json()\n",
    "    view_url = get_view_url(answers)\n",
    "    display(HTML(f'<a href={view_url}>View Answer in ROBOKOP</a>'))\n",
    "    answer_frame = parse_answer(answers,node_list=['n2','n3'],edge_list=[])\n",
    "    display(answer_frame.head())    "
   ]
  },
  {
   "cell_type": "code",
   "execution_count": 7,
   "metadata": {
    "collapsed": false,
    "deletable": true,
    "editable": true
   },
   "outputs": [
    {
     "data": {
      "text/plain": [
       "'Bad response from the question answering service.'"
      ]
     },
     "execution_count": 7,
     "metadata": {},
     "output_type": "execute_result"
    }
   ],
   "source": [
    "answers"
   ]
  },
  {
   "cell_type": "code",
   "execution_count": 11,
   "metadata": {
    "collapsed": true,
    "deletable": true,
    "editable": true
   },
   "outputs": [],
   "source": [
    "tempurl=lambda robokop,disease_id,disease_name: f'http://{robokop}/api/simple/template/wf1mod3_v2/{disease_id}/?name1={disease_name}/?max_connectivity=1000'\n",
    "myurl = tempurl('robokop.renci.org','MONDO:0019600','xp')\n",
    "response = requests.get(myurl)"
   ]
  },
  {
   "cell_type": "code",
   "execution_count": 12,
   "metadata": {
    "collapsed": false
   },
   "outputs": [
    {
     "name": "stdout",
     "output_type": "stream",
     "text": [
      "{\n",
      "    \"name\": \"WF1 Module 3 (version 2) - xp/?max_connectivity=1000 (MONDO:0019600)\",\n",
      "    \"natural_question\": \"WF1 Module 3 (version 2) - xp/?max_connectivity=1000 (MONDO:0019600) to chemical_substance to gene to chemical_substance\",\n",
      "    \"machine_question\": {\n",
      "        \"nodes\": [\n",
      "            {\n",
      "                \"id\": \"n0\",\n",
      "                \"type\": \"disease\",\n",
      "                \"curie\": [\n",
      "                    \"MONDO:0019600\"\n",
      "                ]\n",
      "            },\n",
      "            {\n",
      "                \"id\": \"n1\",\n",
      "                \"type\": \"chemical_substance\"\n",
      "            },\n",
      "            {\n",
      "                \"id\": \"n2\",\n",
      "                \"type\": \"gene\"\n",
      "            },\n",
      "            {\n",
      "                \"id\": \"n3\",\n",
      "                \"type\": \"chemical_substance\"\n",
      "            }\n",
      "        ],\n",
      "        \"edges\": [\n",
      "            {\n",
      "                \"id\": \"e1\",\n",
      "                \"source_id\": \"n1\",\n",
      "                \"target_id\": \"n0\",\n",
      "                \"type\": \"contributes_to\"\n",
      "            },\n",
      "            {\n",
      "                \"id\": \"e2\",\n",
      "                \"source_id\": \"n2\",\n",
      "                \"target_id\": \"n1\",\n",
      "                \"type\": [\n",
      "                    \"increases_degradation_of\",\n",
      "                    \"decreases_abundance_of\",\n",
      "                    \"decreases_response_to\",\n",
      "                    \"increases_uptake_of\"\n",
      "                ]\n",
      "            },\n",
      "            {\n",
      "                \"id\": \"e3\",\n",
      "                \"source_id\": \"n3\",\n",
      "                \"target_id\": \"n2\",\n",
      "                \"type\": [\n",
      "                    \"increases_activity_of\",\n",
      "                    \"increases_expression_of\",\n",
      "                    \"decreases_degradation_of\",\n",
      "                    \"increases_stability_of\",\n",
      "                    \"increases_synthesis_of\",\n",
      "                    \"increases_secretion_of\"\n",
      "                ]\n",
      "            }\n",
      "        ]\n",
      "    }\n",
      "}\n"
     ]
    }
   ],
   "source": [
    "import json\n",
    "print(json.dumps(response.json(),indent=4))"
   ]
  },
  {
   "cell_type": "code",
   "execution_count": null,
   "metadata": {
    "collapsed": true
   },
   "outputs": [],
   "source": []
  }
 ],
 "metadata": {
  "kernelspec": {
   "display_name": "Python 3",
   "language": "python",
   "name": "python3"
  },
  "language_info": {
   "codemirror_mode": {
    "name": "ipython",
    "version": 3
   },
   "file_extension": ".py",
   "mimetype": "text/x-python",
   "name": "python",
   "nbconvert_exporter": "python",
   "pygments_lexer": "ipython3",
   "version": "3.6.2"
  }
 },
 "nbformat": 4,
 "nbformat_minor": 2
}

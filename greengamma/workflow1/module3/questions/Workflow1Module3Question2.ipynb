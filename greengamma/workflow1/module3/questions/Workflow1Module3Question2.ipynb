{
 "cells": [
  {
   "cell_type": "markdown",
   "metadata": {},
   "source": [
    "# Workflow 1, Module 3, Question 2"
   ]
  },
  {
   "cell_type": "markdown",
   "metadata": {},
   "source": [
    "## What proteins produce agent [x]?"
   ]
  },
  {
   "cell_type": "markdown",
   "metadata": {},
   "source": [
    "Let's run Q1 and use the endogenous output of that."
   ]
  },
  {
   "cell_type": "markdown",
   "metadata": {},
   "source": [
    "### Expand service"
   ]
  },
  {
   "cell_type": "code",
   "execution_count": 19,
   "metadata": {},
   "outputs": [],
   "source": [
    "robokop_server = '127.0.0.1'"
   ]
  },
  {
   "cell_type": "code",
   "execution_count": 20,
   "metadata": {},
   "outputs": [],
   "source": [
    "import requests\n",
    "import pandas as pd"
   ]
  },
  {
   "cell_type": "code",
   "execution_count": 21,
   "metadata": {},
   "outputs": [],
   "source": [
    "def expand(type1,identifier,type2,rebuild=None,csv=None,predicate=None):\n",
    "    url=f'http://{robokop_server}:80/api/simple/expand/{type1}/{identifier}/{type2}'\n",
    "    params = {'rebuild': rebuild, \n",
    "              'csv'    : csv,\n",
    "              'predicate': predicate} \n",
    "    params = { k:v for k,v in params.items() if v is not None }\n",
    "    response = requests.get(url,params=params)\n",
    "    print( f'Return Status: {response.status_code}' )\n",
    "    if response.status_code == 200:\n",
    "        return response.json()\n",
    "    return []"
   ]
  },
  {
   "cell_type": "code",
   "execution_count": 8,
   "metadata": {},
   "outputs": [],
   "source": [
    "def parse_answer(returnanswer):\n",
    "    nodes = [answer['nodes'][1] for answer in returnanswer['answers']]\n",
    "    edges = [answer['edges'][0] for answer in returnanswer['answers']]\n",
    "    answers = [ {\"result_id\": node[\"id\"], \n",
    "                 \"result_name\": node[\"name\"] if 'name' in node else node['id'], \n",
    "                 \"type\": edge[\"type\"],\n",
    "                 \"source\": edge['edge_source']}\n",
    "              for node,edge in zip(nodes,edges)]\n",
    "    return pd.DataFrame(answers)"
   ]
  },
  {
   "cell_type": "markdown",
   "metadata": {},
   "source": [
    "### Question 1"
   ]
  },
  {
   "cell_type": "code",
   "execution_count": 10,
   "metadata": {},
   "outputs": [],
   "source": [
    "input_identifier='MONDO:0004979'\n",
    "type1 = 'disease'\n",
    "type2 = 'chemical_substance'"
   ]
  },
  {
   "cell_type": "code",
   "execution_count": 11,
   "metadata": {},
   "outputs": [
    {
     "name": "stdout",
     "output_type": "stream",
     "text": [
      "Return Status: 200\n"
     ]
    },
    {
     "data": {
      "text/html": [
       "<div>\n",
       "<style scoped>\n",
       "    .dataframe tbody tr th:only-of-type {\n",
       "        vertical-align: middle;\n",
       "    }\n",
       "\n",
       "    .dataframe tbody tr th {\n",
       "        vertical-align: top;\n",
       "    }\n",
       "\n",
       "    .dataframe thead th {\n",
       "        text-align: right;\n",
       "    }\n",
       "</style>\n",
       "<table border=\"1\" class=\"dataframe\">\n",
       "  <thead>\n",
       "    <tr style=\"text-align: right;\">\n",
       "      <th></th>\n",
       "      <th>result_id</th>\n",
       "      <th>result_name</th>\n",
       "      <th>source</th>\n",
       "      <th>type</th>\n",
       "    </tr>\n",
       "  </thead>\n",
       "  <tbody>\n",
       "    <tr>\n",
       "      <th>16</th>\n",
       "      <td>CHEBI:68447</td>\n",
       "      <td>1,3-dimethyluric acid</td>\n",
       "      <td>hmdb.metabolite_to_disease</td>\n",
       "      <td>related_to</td>\n",
       "    </tr>\n",
       "    <tr>\n",
       "      <th>29</th>\n",
       "      <td>CHEBI:28946</td>\n",
       "      <td>Theobromine</td>\n",
       "      <td>hmdb.metabolite_to_disease</td>\n",
       "      <td>related_to</td>\n",
       "    </tr>\n",
       "    <tr>\n",
       "      <th>40</th>\n",
       "      <td>CHEBI:68449</td>\n",
       "      <td>1,7-dimethyluric acid</td>\n",
       "      <td>hmdb.metabolite_to_disease</td>\n",
       "      <td>related_to</td>\n",
       "    </tr>\n",
       "    <tr>\n",
       "      <th>41</th>\n",
       "      <td>CHEBI:691622</td>\n",
       "      <td>1,3,7-trimethyluric acid</td>\n",
       "      <td>hmdb.metabolite_to_disease</td>\n",
       "      <td>related_to</td>\n",
       "    </tr>\n",
       "    <tr>\n",
       "      <th>82</th>\n",
       "      <td>CHEBI:27732</td>\n",
       "      <td>Caffeine</td>\n",
       "      <td>hmdb.metabolite_to_disease</td>\n",
       "      <td>related_to</td>\n",
       "    </tr>\n",
       "    <tr>\n",
       "      <th>96</th>\n",
       "      <td>CHEBI:62205</td>\n",
       "      <td>3-methylxanthine</td>\n",
       "      <td>hmdb.metabolite_to_disease</td>\n",
       "      <td>related_to</td>\n",
       "    </tr>\n",
       "    <tr>\n",
       "      <th>153</th>\n",
       "      <td>CHEBI:25858</td>\n",
       "      <td>1,7-dimethylxanthine</td>\n",
       "      <td>hmdb.disease_to_metabolite</td>\n",
       "      <td>related_to</td>\n",
       "    </tr>\n",
       "    <tr>\n",
       "      <th>184</th>\n",
       "      <td>CHEBI:27595</td>\n",
       "      <td>11-epi-prostaglandin F2alpha</td>\n",
       "      <td>hmdb.metabolite_to_disease</td>\n",
       "      <td>related_to</td>\n",
       "    </tr>\n",
       "    <tr>\n",
       "      <th>187</th>\n",
       "      <td>CHEBI:62207</td>\n",
       "      <td>3-methyl-7H-xanthine</td>\n",
       "      <td>hmdb.metabolite_to_disease</td>\n",
       "      <td>related_to</td>\n",
       "    </tr>\n",
       "    <tr>\n",
       "      <th>188</th>\n",
       "      <td>CHEBI:28209</td>\n",
       "      <td>5(S)-HETE</td>\n",
       "      <td>hmdb.metabolite_to_disease</td>\n",
       "      <td>related_to</td>\n",
       "    </tr>\n",
       "    <tr>\n",
       "      <th>362</th>\n",
       "      <td>CHEBI:68444</td>\n",
       "      <td>1-Methylxanthine</td>\n",
       "      <td>hmdb.disease_to_metabolite</td>\n",
       "      <td>related_to</td>\n",
       "    </tr>\n",
       "    <tr>\n",
       "      <th>381</th>\n",
       "      <td>PUBCHEM:119226</td>\n",
       "      <td>3-Chlorotyrosine</td>\n",
       "      <td>hmdb.disease_to_metabolite</td>\n",
       "      <td>related_to</td>\n",
       "    </tr>\n",
       "    <tr>\n",
       "      <th>396</th>\n",
       "      <td>PUBCHEM:273429</td>\n",
       "      <td>Isoleucylproline</td>\n",
       "      <td>hmdb.disease_to_metabolite</td>\n",
       "      <td>related_to</td>\n",
       "    </tr>\n",
       "  </tbody>\n",
       "</table>\n",
       "</div>"
      ],
      "text/plain": [
       "          result_id                   result_name                      source  \\\n",
       "16      CHEBI:68447         1,3-dimethyluric acid  hmdb.metabolite_to_disease   \n",
       "29      CHEBI:28946                   Theobromine  hmdb.metabolite_to_disease   \n",
       "40      CHEBI:68449         1,7-dimethyluric acid  hmdb.metabolite_to_disease   \n",
       "41     CHEBI:691622      1,3,7-trimethyluric acid  hmdb.metabolite_to_disease   \n",
       "82      CHEBI:27732                      Caffeine  hmdb.metabolite_to_disease   \n",
       "96      CHEBI:62205              3-methylxanthine  hmdb.metabolite_to_disease   \n",
       "153     CHEBI:25858          1,7-dimethylxanthine  hmdb.disease_to_metabolite   \n",
       "184     CHEBI:27595  11-epi-prostaglandin F2alpha  hmdb.metabolite_to_disease   \n",
       "187     CHEBI:62207          3-methyl-7H-xanthine  hmdb.metabolite_to_disease   \n",
       "188     CHEBI:28209                     5(S)-HETE  hmdb.metabolite_to_disease   \n",
       "362     CHEBI:68444              1-Methylxanthine  hmdb.disease_to_metabolite   \n",
       "381  PUBCHEM:119226              3-Chlorotyrosine  hmdb.disease_to_metabolite   \n",
       "396  PUBCHEM:273429              Isoleucylproline  hmdb.disease_to_metabolite   \n",
       "\n",
       "           type  \n",
       "16   related_to  \n",
       "29   related_to  \n",
       "40   related_to  \n",
       "41   related_to  \n",
       "82   related_to  \n",
       "96   related_to  \n",
       "153  related_to  \n",
       "184  related_to  \n",
       "187  related_to  \n",
       "188  related_to  \n",
       "362  related_to  \n",
       "381  related_to  \n",
       "396  related_to  "
      ]
     },
     "execution_count": 11,
     "metadata": {},
     "output_type": "execute_result"
    }
   ],
   "source": [
    "result = expand(type1,input_identifier,type2)\n",
    "result_frame = parse_answer(result)\n",
    "endogenous = result_frame[ result_frame['type'] == 'related_to' ]\n",
    "endogenous"
   ]
  },
  {
   "cell_type": "markdown",
   "metadata": {},
   "source": [
    "### Question 2"
   ]
  },
  {
   "cell_type": "code",
   "execution_count": 12,
   "metadata": {},
   "outputs": [],
   "source": [
    "identifiers = list(endogenous['result_id'])"
   ]
  },
  {
   "cell_type": "code",
   "execution_count": 30,
   "metadata": {},
   "outputs": [
    {
     "name": "stdout",
     "output_type": "stream",
     "text": [
      "CHEBI:68447\n",
      "Return Status: 500\n",
      "CHEBI:28946\n",
      "Return Status: 200\n",
      "CHEBI:68449\n",
      "Return Status: 200\n",
      "CHEBI:691622\n",
      "Return Status: 200\n",
      "CHEBI:27732\n",
      "Return Status: 200\n",
      "CHEBI:62205\n",
      "Return Status: 500\n",
      "CHEBI:25858\n",
      "Return Status: 200\n",
      "CHEBI:27595\n",
      "Return Status: 200\n",
      "CHEBI:62207\n",
      "Return Status: 200\n",
      "CHEBI:28209\n",
      "Return Status: 200\n",
      "CHEBI:68444\n",
      "Return Status: 200\n",
      "PUBCHEM:119226\n",
      "Return Status: 500\n",
      "PUBCHEM:273429\n",
      "Return Status: 500\n"
     ]
    }
   ],
   "source": [
    "genes = {}\n",
    "for ident in identifiers:\n",
    "    print(ident)\n",
    "    genes[ident] = expand('chemical_substance',ident,'gene',rebuild=True)"
   ]
  },
  {
   "cell_type": "code",
   "execution_count": null,
   "metadata": {},
   "outputs": [],
   "source": []
  }
 ],
 "metadata": {
  "kernelspec": {
   "display_name": "Python 3",
   "language": "python",
   "name": "python3"
  },
  "language_info": {
   "codemirror_mode": {
    "name": "ipython",
    "version": 3
   },
   "file_extension": ".py",
   "mimetype": "text/x-python",
   "name": "python",
   "nbconvert_exporter": "python",
   "pygments_lexer": "ipython3",
   "version": "3.6.5"
  }
 },
 "nbformat": 4,
 "nbformat_minor": 2
}

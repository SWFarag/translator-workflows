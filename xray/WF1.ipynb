{
 "cells": [
  {
   "cell_type": "code",
   "execution_count": null,
   "metadata": {},
   "outputs": [],
   "source": [
    "# This is a solution script for workflow #1 using results from 3(+) reasoning teams\n",
    "\n",
    "#### Import some needed modules\n",
    "import requests\n"
   ]
  },
  {
   "cell_type": "code",
   "execution_count": null,
   "metadata": {},
   "outputs": [],
   "source": [
    "#### Import some needed modules\n",
    "import requests\n",
    "\n",
    "#### Workflow 1\n",
    "\n",
    "#### Set the input disease\n",
    "input_disease = \"DOID:9352\"\n",
    "num_robocop_results = 25\n",
    "\n",
    "#### Set the base URL for the reasoner and its endpoint\n",
    "XRAY_API_BASE_URL = 'https://rtx.ncats.io/api/rtx/v1'\n",
    "xray_url_str = XRAY_API_BASE_URL + \"/query\"\n",
    "\n",
    "ROBOCOP_API_BASE_URL = 'http://robokop.renci.org/api/'\n",
    "robocop_mod3_url_str = ROBOCOP_API_BASE_URL + \"wf1mod3/%s/?max_results=%d\" % (input_disease, num_robocop_results)\n",
    "robocop_mod3a_url_str = ROBOCOP_API_BASE_URL + \"wf1mod3a/%s/?max_results=%d\" % (input_disease, num_robocop_results)\n",
    "\n",
    "annot_url_str = \"https://rtx.ncats.io/devED/api/rtx/v1/response/process\""
   ]
  },
  {
   "cell_type": "code",
   "execution_count": null,
   "metadata": {},
   "outputs": [],
   "source": [
    "################################################################\n",
    "# X-ray module 1: given a disease, find genetic conditions that share \"representative phenotypes\" in common\n",
    "\n",
    "#### Create a dict of the request, specifying the query type and its parameters\n",
    "request = {\"query_type_id\": \"Q10001\", \"terms\": {\"disease\": input_disease}}\n",
    "\n",
    "#### Send the request to RTX and check the status\n",
    "response_content = requests.post(xray_url_str, json=request, headers={'accept': 'application/json'})\n",
    "status_code = response_content.status_code\n",
    "assert status_code == 200\n",
    "module1_xray_results_json = response_content.json()"
   ]
  },
  {
   "cell_type": "code",
   "execution_count": null,
   "metadata": {},
   "outputs": [],
   "source": [
    "################################################################\n",
    "# X-ray module 2: gene-centric approach\n",
    "request = {\"query_type_id\": \"Q55\", \"terms\": {\"disease\": input_disease}}\n",
    "\n",
    "#### Send the request to RTX and check the status\n",
    "response_content = requests.post(xray_url_str, json=request, headers={'accept': 'application/json'})\n",
    "status_code = response_content.status_code\n",
    "assert status_code == 200\n",
    "module2_xray_results_json = response_content.json()"
   ]
  },
  {
   "cell_type": "code",
   "execution_count": null,
   "metadata": {},
   "outputs": [],
   "source": [
    "################################################################\n",
    "# Gamma team module 3: agent-centric\n",
    "# Mod 3 un-lettered approach\n",
    "response_content = requests.get(robocop_mod3_url_str, json={}, headers={'accept': 'application/json'})\n",
    "status_code = response_content.status_code\n",
    "assert status_code == 200\n",
    "module3_robocop_results_json = response_content.json()\n",
    "\n",
    "# Mod3a approach\n",
    "response_content = requests.get(robocop_mod3a_url_str, json={}, headers={'accept': 'application/json'})\n",
    "status_code = response_content.status_code\n",
    "assert status_code == 200\n",
    "module3a_robocop_results_json = response_content.json()\n"
   ]
  },
  {
   "cell_type": "code",
   "execution_count": null,
   "metadata": {},
   "outputs": [],
   "source": [
    "################################################################\n",
    "# Orange team module 4+5: annotation and scoring\n",
    "\n",
    "# annotate the x-ray results\n",
    "to_post = {\"options\": [\"AnnotateDrugs\", \"Store\", \"ReturnResponseId\"], \"responses\": [module2_xray_results_json]}\n",
    "module2_xray_results_annot_json = requests.post(annot_url_str, json=to_post)\n",
    "\n",
    "# annotate gamma\n",
    "to_post = {\"options\": [\"AnnotateDrugs\", \"Store\", \"ReturnResponseId\"], \"responses\": [module3_robocop_results_json]}\n",
    "module3_robocop_results_annot_json = requests.post(annot_url_str, json=to_post)\n",
    "\n",
    "# annotate both\n",
    "to_post = {\"options\": [\"AnnotateDrugs\", \"Store\", \"ReturnResponseId\"], \"responseURIs\":[module2_xray_results_json['id']],\"responses\": [module3_robocop_results_json]}\n",
    "both = requests.post(annot_url_str, json=to_post)\n",
    "\n"
   ]
  },
  {
   "cell_type": "code",
   "execution_count": null,
   "metadata": {},
   "outputs": [],
   "source": [
    "################################################################\n",
    "# Visualization\n",
    "# The above API call creates a website (dynamically) where the results can be viewed\n",
    "print(\"Please visit the following website:https://rtx.ncats.io/devLM/list.html?r=%s\" % both.json()['response_id'])\n",
    "\n",
    "# will return something like the following:\n",
    "# https://rtx.ncats.io/devLM/list.html?r=473"
   ]
  }
 ],
 "metadata": {
  "language": "python"
 },
 "nbformat": 4,
 "nbformat_minor": 2
}

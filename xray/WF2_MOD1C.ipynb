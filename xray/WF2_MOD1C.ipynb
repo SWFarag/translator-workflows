{
 "cells": [
  {
   "cell_type": "code",
   "execution_count": 1,
   "metadata": {},
   "outputs": [],
   "source": [
    "#### Import some needed modules\n",
    "import requests\n",
    "import json\n",
    "import sys"
   ]
  },
  {
   "cell_type": "code",
   "execution_count": 2,
   "metadata": {},
   "outputs": [],
   "source": [
    "#### Set the base URL for the reasoner and its endpoint\n",
    "API_BASE_URL = 'https://rtx.ncats.io/api/rtx/v1'\n",
    "url_str = API_BASE_URL + \"/query\""
   ]
  },
  {
   "cell_type": "code",
   "execution_count": 3,
   "metadata": {},
   "outputs": [],
   "source": [
    "#### Create a dict of the request, specifying the the query type to Q46 - \"Which proteins have expression levels that correlate with $protein_list in $anatomical_entity\"\n",
    "request = { \"query_type_id\": \"Q46\", \"terms\": { \"protein_list\":[\"UniProtKB:Q8IY92\"] , \"anatomical_entity\":\"CL:0002092\" } }"
   ]
  },
  {
   "cell_type": "code",
   "execution_count": 4,
   "metadata": {},
   "outputs": [],
   "source": [
    "#### Send the request to RTX and check the status\n",
    "response_content = requests.post(url_str, json=request, headers={'accept': 'application/json'})\n",
    "status_code = response_content.status_code\n",
    "assert status_code == 200"
   ]
  },
  {
   "cell_type": "code",
   "execution_count": 5,
   "metadata": {},
   "outputs": [],
   "source": [
    "#### Unpack the response content into a dict\n",
    "response_dict = response_content.json()"
   ]
  },
  {
   "cell_type": "code",
   "execution_count": 6,
   "metadata": {},
   "outputs": [],
   "source": [
    "#### Display the summary table of the results\n",
    "if \"table_column_names\" in response_dict:\n",
    "  print(\"\\t\".join(response_dict[\"table_column_names\"]))\n",
    "  for result in response_dict[\"result_list\"]:\n",
    "    print(\"\\t\".join(result[\"row_data\"]))\n",
    "    \n",
    "#### NOTE: Some rows below appear as duplicates in this summary table but they correspond to different paths in the KG."
   ]
  },
  {
   "cell_type": "code",
   "execution_count": 7,
   "metadata": {},
   "outputs": [
    {
     "name": "stdout",
     "output_type": "stream",
     "text": [
      "{\n",
      "    \"context\": \"https://raw.githubusercontent.com/biolink/biolink-model/master/context.jsonld\",\n",
      "    \"datetime\": \"2018-09-12 20:57:28\",\n",
      "    \"id\": \"http://rtx.ncats.io/api/rtx/v1/response/381\",\n",
      "    \"message\": \"Lil'GIM is experiencing a problem.\",\n",
      "    \"original_question_text\": \"\",\n",
      "    \"query_type_id\": \"Q46\",\n",
      "    \"reasoner_id\": \"RTX\",\n",
      "    \"response_code\": \"LilGIMerror\",\n",
      "    \"restated_question_text\": \"\",\n",
      "    \"schema_version\": \"0.8.0\",\n",
      "    \"terms\": {\n",
      "        \"anatomical_entity\": \"CL:0002092\",\n",
      "        \"protein_list\": [\n",
      "            \"UniProtKB:Q8IY92\"\n",
      "        ]\n",
      "    },\n",
      "    \"tool_version\": \"RTX 0.5.4\",\n",
      "    \"type\": \"medical_translator_query_response\"\n",
      "}\n"
     ]
    }
   ],
   "source": [
    "#### Or dump the whole detailed JSON response_content data structure\n",
    "print(json.dumps(response_dict, indent=4, sort_keys=True))"
   ]
  },
  {
   "cell_type": "code",
   "execution_count": null,
   "metadata": {},
   "outputs": [],
   "source": []
  }
 ],
 "metadata": {
  "kernelspec": {
   "display_name": "Python 3",
   "language": "python",
   "name": "python3"
  },
  "language_info": {
   "codemirror_mode": {
    "name": "ipython",
    "version": 3
   },
   "file_extension": ".py",
   "mimetype": "text/x-python",
   "name": "python",
   "nbconvert_exporter": "python",
   "pygments_lexer": "ipython3",
   "version": "3.6.5"
  }
 },
 "nbformat": 4,
 "nbformat_minor": 2
}

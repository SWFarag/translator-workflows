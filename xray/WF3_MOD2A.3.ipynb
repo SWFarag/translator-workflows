{
 "cells": [
  {
   "cell_type": "code",
   "execution_count": null,
   "metadata": {},
   "outputs": [],
   "source": [
    "#### Import some needed modules\n",
    "import requests\n",
    "import json\n",
    "import sys"
   ]
  },
  {
   "cell_type": "code",
   "execution_count": null,
   "metadata": {},
   "outputs": [],
   "source": [
    "#### Set the base URL for the reasoner and its endpoint\n",
    "API_BASE_URL = 'https://rtx.ncats.io/api/rtx/v1'\n",
    "url_str = API_BASE_URL + \"/query\""
   ]
  },
  {
   "cell_type": "code",
   "execution_count": null,
   "metadata": {},
   "outputs": [],
   "source": [
    "#### Create a dict of the request, specifying the the query type to Q60 - \"Which pathways does $protein participate in\"\n",
    "#### Set protein to the curie id of the desired protein and run.\n",
    "request = { \"query_type_id\": \"Q60\", \"terms\": { \"protein\": \"UniProtKB:Q96N76\" } }"
   ]
  },
  {
   "cell_type": "code",
   "execution_count": null,
   "metadata": {},
   "outputs": [],
   "source": [
    "#### Send the request to RTX and check the status\n",
    "response_content = requests.post(url_str, json=request, headers={'accept': 'application/json'})\n",
    "status_code = response_content.status_code\n",
    "assert status_code == 200"
   ]
  },
  {
   "cell_type": "code",
   "execution_count": null,
   "metadata": {},
   "outputs": [],
   "source": [
    "#### Send the request to RTX and check the status\n",
    "response_content = requests.post(url_str, json=request, headers={'accept': 'application/json'})\n",
    "status_code = response_content.status_code\n",
    "assert status_code == 200"
   ]
  },
  {
   "cell_type": "code",
   "execution_count": null,
   "metadata": {},
   "outputs": [],
   "source": [
    "#### Unpack the response content into a dict\n",
    "response_dict = response_content.json()"
   ]
  },
  {
   "cell_type": "code",
   "execution_count": null,
   "metadata": {},
   "outputs": [],
   "source": [
    "#### Display the summary table of the results\n",
    "if \"table_column_names\" in response_dict:\n",
    "  print(\"\\t\".join(response_dict[\"table_column_names\"]))\n",
    "  for result in response_dict[\"result_list\"]:\n",
    "    print(\"\\t\".join(result[\"row_data\"]))\n",
    "    \n",
    "#### NOTE: Some rows below appear as duplicates in this summary table but they correspond to different paths in the KG."
   ]
  },
  {
   "cell_type": "code",
   "execution_count": null,
   "metadata": {},
   "outputs": [],
   "source": [
    "#### Or dump the whole detailed JSON response_content data structure\n",
    "print(json.dumps(response_dict, indent=4, sort_keys=True))"
   ]
  }
 ],
 "metadata": {
  "kernelspec": {
   "display_name": "Python 3",
   "language": "python",
   "name": "python3"
  },
  "language_info": {
   "codemirror_mode": {
    "name": "ipython",
    "version": 3
   },
   "file_extension": ".py",
   "mimetype": "text/x-python",
   "name": "python",
   "nbconvert_exporter": "python",
   "pygments_lexer": "ipython3",
   "version": "3.6.5"
  }
 },
 "nbformat": 4,
 "nbformat_minor": 2
}
